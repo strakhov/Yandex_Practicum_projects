{
 "cells": [
  {
   "cell_type": "markdown",
   "metadata": {},
   "source": [
    "# Выбор локации для скважины"
   ]
  },
  {
   "cell_type": "markdown",
   "metadata": {},
   "source": [
    "Нефтедобывающей компании «ГлавРосГосНефть» нужно решить, где бурить новую скважину.\n",
    "\n",
    "Нам предоставлены пробы нефти в трёх регионах: в каждом 10 000 месторождений, где измерили качество нефти и объём её запасов. Необходимо построить модель машинного обучения, которая поможет определить регион, где добыча принесёт наибольшую прибыль. А также проанализировать возможную прибыль и риски техникой *Bootstrap.*\n",
    "\n",
    "Шаги для выбора локации:\n",
    "\n",
    "- В избранном регионе ищут месторождения, для каждого определяют значения признаков;\n",
    "- Строят модель и оценивают объём запасов;\n",
    "- Выбирают месторождения с самым высокими оценками значений. Количество месторождений зависит от бюджета компании и стоимости разработки одной скважины;\n",
    "- Прибыль равна суммарной прибыли отобранных месторождений."
   ]
  },
  {
   "cell_type": "markdown",
   "metadata": {},
   "source": [
    "## Загрузка и подготовка данных"
   ]
  },
  {
   "cell_type": "markdown",
   "metadata": {},
   "source": [
    "### Первичный анализ данных"
   ]
  },
  {
   "cell_type": "code",
   "execution_count": 1,
   "metadata": {},
   "outputs": [],
   "source": [
    "import pandas as pd\n",
    "import numpy as np\n",
    "from sklearn.linear_model import LinearRegression\n",
    "from sklearn.model_selection import train_test_split\n",
    "from sklearn.metrics import mean_squared_error\n",
    "from sklearn.preprocessing import StandardScaler"
   ]
  },
  {
   "cell_type": "code",
   "execution_count": 2,
   "metadata": {},
   "outputs": [
    {
     "data": {
      "text/html": [
       "<div>\n",
       "<style scoped>\n",
       "    .dataframe tbody tr th:only-of-type {\n",
       "        vertical-align: middle;\n",
       "    }\n",
       "\n",
       "    .dataframe tbody tr th {\n",
       "        vertical-align: top;\n",
       "    }\n",
       "\n",
       "    .dataframe thead th {\n",
       "        text-align: right;\n",
       "    }\n",
       "</style>\n",
       "<table border=\"1\" class=\"dataframe\">\n",
       "  <thead>\n",
       "    <tr style=\"text-align: right;\">\n",
       "      <th></th>\n",
       "      <th>id</th>\n",
       "      <th>f0</th>\n",
       "      <th>f1</th>\n",
       "      <th>f2</th>\n",
       "      <th>product</th>\n",
       "    </tr>\n",
       "  </thead>\n",
       "  <tbody>\n",
       "    <tr>\n",
       "      <th>0</th>\n",
       "      <td>txEyH</td>\n",
       "      <td>0.705745</td>\n",
       "      <td>-0.497823</td>\n",
       "      <td>1.221170</td>\n",
       "      <td>105.280062</td>\n",
       "    </tr>\n",
       "    <tr>\n",
       "      <th>1</th>\n",
       "      <td>2acmU</td>\n",
       "      <td>1.334711</td>\n",
       "      <td>-0.340164</td>\n",
       "      <td>4.365080</td>\n",
       "      <td>73.037750</td>\n",
       "    </tr>\n",
       "    <tr>\n",
       "      <th>2</th>\n",
       "      <td>409Wp</td>\n",
       "      <td>1.022732</td>\n",
       "      <td>0.151990</td>\n",
       "      <td>1.419926</td>\n",
       "      <td>85.265647</td>\n",
       "    </tr>\n",
       "  </tbody>\n",
       "</table>\n",
       "</div>"
      ],
      "text/plain": [
       "      id        f0        f1        f2     product\n",
       "0  txEyH  0.705745 -0.497823  1.221170  105.280062\n",
       "1  2acmU  1.334711 -0.340164  4.365080   73.037750\n",
       "2  409Wp  1.022732  0.151990  1.419926   85.265647"
      ]
     },
     "metadata": {},
     "output_type": "display_data"
    },
    {
     "data": {
      "text/html": [
       "<div>\n",
       "<style scoped>\n",
       "    .dataframe tbody tr th:only-of-type {\n",
       "        vertical-align: middle;\n",
       "    }\n",
       "\n",
       "    .dataframe tbody tr th {\n",
       "        vertical-align: top;\n",
       "    }\n",
       "\n",
       "    .dataframe thead th {\n",
       "        text-align: right;\n",
       "    }\n",
       "</style>\n",
       "<table border=\"1\" class=\"dataframe\">\n",
       "  <thead>\n",
       "    <tr style=\"text-align: right;\">\n",
       "      <th></th>\n",
       "      <th>id</th>\n",
       "      <th>f0</th>\n",
       "      <th>f1</th>\n",
       "      <th>f2</th>\n",
       "      <th>product</th>\n",
       "    </tr>\n",
       "  </thead>\n",
       "  <tbody>\n",
       "    <tr>\n",
       "      <th>0</th>\n",
       "      <td>kBEdx</td>\n",
       "      <td>-15.001348</td>\n",
       "      <td>-8.276000</td>\n",
       "      <td>-0.005876</td>\n",
       "      <td>3.179103</td>\n",
       "    </tr>\n",
       "    <tr>\n",
       "      <th>1</th>\n",
       "      <td>62mP7</td>\n",
       "      <td>14.272088</td>\n",
       "      <td>-3.475083</td>\n",
       "      <td>0.999183</td>\n",
       "      <td>26.953261</td>\n",
       "    </tr>\n",
       "    <tr>\n",
       "      <th>2</th>\n",
       "      <td>vyE1P</td>\n",
       "      <td>6.263187</td>\n",
       "      <td>-5.948386</td>\n",
       "      <td>5.001160</td>\n",
       "      <td>134.766305</td>\n",
       "    </tr>\n",
       "  </tbody>\n",
       "</table>\n",
       "</div>"
      ],
      "text/plain": [
       "      id         f0        f1        f2     product\n",
       "0  kBEdx -15.001348 -8.276000 -0.005876    3.179103\n",
       "1  62mP7  14.272088 -3.475083  0.999183   26.953261\n",
       "2  vyE1P   6.263187 -5.948386  5.001160  134.766305"
      ]
     },
     "metadata": {},
     "output_type": "display_data"
    },
    {
     "data": {
      "text/html": [
       "<div>\n",
       "<style scoped>\n",
       "    .dataframe tbody tr th:only-of-type {\n",
       "        vertical-align: middle;\n",
       "    }\n",
       "\n",
       "    .dataframe tbody tr th {\n",
       "        vertical-align: top;\n",
       "    }\n",
       "\n",
       "    .dataframe thead th {\n",
       "        text-align: right;\n",
       "    }\n",
       "</style>\n",
       "<table border=\"1\" class=\"dataframe\">\n",
       "  <thead>\n",
       "    <tr style=\"text-align: right;\">\n",
       "      <th></th>\n",
       "      <th>id</th>\n",
       "      <th>f0</th>\n",
       "      <th>f1</th>\n",
       "      <th>f2</th>\n",
       "      <th>product</th>\n",
       "    </tr>\n",
       "  </thead>\n",
       "  <tbody>\n",
       "    <tr>\n",
       "      <th>0</th>\n",
       "      <td>fwXo0</td>\n",
       "      <td>-1.146987</td>\n",
       "      <td>0.963328</td>\n",
       "      <td>-0.828965</td>\n",
       "      <td>27.758673</td>\n",
       "    </tr>\n",
       "    <tr>\n",
       "      <th>1</th>\n",
       "      <td>WJtFt</td>\n",
       "      <td>0.262778</td>\n",
       "      <td>0.269839</td>\n",
       "      <td>-2.530187</td>\n",
       "      <td>56.069697</td>\n",
       "    </tr>\n",
       "    <tr>\n",
       "      <th>2</th>\n",
       "      <td>ovLUW</td>\n",
       "      <td>0.194587</td>\n",
       "      <td>0.289035</td>\n",
       "      <td>-5.586433</td>\n",
       "      <td>62.871910</td>\n",
       "    </tr>\n",
       "  </tbody>\n",
       "</table>\n",
       "</div>"
      ],
      "text/plain": [
       "      id        f0        f1        f2    product\n",
       "0  fwXo0 -1.146987  0.963328 -0.828965  27.758673\n",
       "1  WJtFt  0.262778  0.269839 -2.530187  56.069697\n",
       "2  ovLUW  0.194587  0.289035 -5.586433  62.871910"
      ]
     },
     "metadata": {},
     "output_type": "display_data"
    }
   ],
   "source": [
    "data_0 = pd.read_csv('/datasets/geo_data_0.csv')\n",
    "data_1 = pd.read_csv('/datasets/geo_data_1.csv')\n",
    "data_2 = pd.read_csv('/datasets/geo_data_2.csv')\n",
    "\n",
    "display(data_0.head(3))\n",
    "display(data_1.head(3))\n",
    "display(data_2.head(3))"
   ]
  },
  {
   "cell_type": "code",
   "execution_count": 3,
   "metadata": {},
   "outputs": [
    {
     "name": "stdout",
     "output_type": "stream",
     "text": [
      "<class 'pandas.core.frame.DataFrame'>\n",
      "RangeIndex: 100000 entries, 0 to 99999\n",
      "Data columns (total 5 columns):\n",
      " #   Column   Non-Null Count   Dtype  \n",
      "---  ------   --------------   -----  \n",
      " 0   id       100000 non-null  object \n",
      " 1   f0       100000 non-null  float64\n",
      " 2   f1       100000 non-null  float64\n",
      " 3   f2       100000 non-null  float64\n",
      " 4   product  100000 non-null  float64\n",
      "dtypes: float64(4), object(1)\n",
      "memory usage: 3.8+ MB\n",
      "<class 'pandas.core.frame.DataFrame'>\n",
      "RangeIndex: 100000 entries, 0 to 99999\n",
      "Data columns (total 5 columns):\n",
      " #   Column   Non-Null Count   Dtype  \n",
      "---  ------   --------------   -----  \n",
      " 0   id       100000 non-null  object \n",
      " 1   f0       100000 non-null  float64\n",
      " 2   f1       100000 non-null  float64\n",
      " 3   f2       100000 non-null  float64\n",
      " 4   product  100000 non-null  float64\n",
      "dtypes: float64(4), object(1)\n",
      "memory usage: 3.8+ MB\n",
      "<class 'pandas.core.frame.DataFrame'>\n",
      "RangeIndex: 100000 entries, 0 to 99999\n",
      "Data columns (total 5 columns):\n",
      " #   Column   Non-Null Count   Dtype  \n",
      "---  ------   --------------   -----  \n",
      " 0   id       100000 non-null  object \n",
      " 1   f0       100000 non-null  float64\n",
      " 2   f1       100000 non-null  float64\n",
      " 3   f2       100000 non-null  float64\n",
      " 4   product  100000 non-null  float64\n",
      "dtypes: float64(4), object(1)\n",
      "memory usage: 3.8+ MB\n"
     ]
    }
   ],
   "source": [
    "data_0.info()\n",
    "data_1.info()\n",
    "data_2.info()"
   ]
  },
  {
   "cell_type": "markdown",
   "metadata": {},
   "source": [
    "Данные в 3 датасетах корректных типов, не содержат пропусков и не нуждаются в предобработке."
   ]
  },
  {
   "cell_type": "markdown",
   "metadata": {},
   "source": [
    "### Подготовка данных для обучения"
   ]
  },
  {
   "cell_type": "code",
   "execution_count": 4,
   "metadata": {},
   "outputs": [],
   "source": [
    "features_0 = data_0.drop(['id', 'product'], axis=1)\n",
    "target_0 = data_0['product']\n",
    "\n",
    "features_1 = data_1.drop(['id', 'product'], axis=1)\n",
    "target_1 = data_1['product']\n",
    "\n",
    "features_2 = data_2.drop(['id', 'product'], axis=1)\n",
    "target_2 = data_2['product']"
   ]
  },
  {
   "cell_type": "code",
   "execution_count": 5,
   "metadata": {},
   "outputs": [],
   "source": [
    "#разделение на обучающую и валидационную выборки\n",
    "features_train_0, features_valid_0, target_train_0, target_valid_0 = train_test_split(\n",
    "    features_0, target_0, test_size=0.25, random_state=12345)\n",
    "\n",
    "features_train_1, features_valid_1, target_train_1, target_valid_1 = train_test_split(\n",
    "    features_1, target_1, test_size=0.25, random_state=12345)\n",
    "\n",
    "features_train_2, features_valid_2, target_train_2, target_valid_2 = train_test_split(\n",
    "    features_2, target_2, test_size=0.25, random_state=12345)"
   ]
  },
  {
   "cell_type": "code",
   "execution_count": 6,
   "metadata": {},
   "outputs": [
    {
     "name": "stdout",
     "output_type": "stream",
     "text": [
      "(75000, 3)\n",
      "(25000, 3)\n",
      "(75000,)\n",
      "(25000,)\n",
      "(75000, 3)\n",
      "(25000, 3)\n",
      "(75000,)\n",
      "(25000,)\n",
      "(75000, 3)\n",
      "(25000, 3)\n",
      "(75000,)\n",
      "(25000,)\n"
     ]
    }
   ],
   "source": [
    "print(features_train_0.shape)\n",
    "print(features_valid_0.shape)\n",
    "print(target_train_0.shape)\n",
    "print(target_valid_0.shape)\n",
    "\n",
    "print(features_train_1.shape)\n",
    "print(features_valid_1.shape)\n",
    "print(target_train_1.shape)\n",
    "print(target_valid_1.shape)\n",
    "\n",
    "print(features_train_2.shape)\n",
    "print(features_valid_2.shape)\n",
    "print(target_train_2.shape)\n",
    "print(target_valid_2.shape)"
   ]
  },
  {
   "cell_type": "markdown",
   "metadata": {},
   "source": [
    "## Обучение и проверка модели"
   ]
  },
  {
   "cell_type": "code",
   "execution_count": 7,
   "metadata": {},
   "outputs": [],
   "source": [
    "#функция для обучения моделей и вывода ключевых метрик\n",
    "def lr_learning(features_train, target_train, features_valid, target_valid):\n",
    "    model = LinearRegression()\n",
    "    model.fit(features_train, target_train)\n",
    "    predictions = pd.Series(model.predict(features_valid))\n",
    "\n",
    "    mse = mean_squared_error(target_valid, predictions)\n",
    "    rmse = mse ** 0.5\n",
    "\n",
    "    print('Средний реальный запас сырья', target_valid.mean())\n",
    "    print('Средний предсказанный запас сырья', predictions.mean())\n",
    "    print('RMSE:', rmse)\n",
    "\n",
    "    predictions_dummy = pd.Series(target_valid.mean(), index=target_valid.index)\n",
    "    mse = mean_squared_error(target_valid, predictions_dummy)\n",
    "    rmse = mse ** 0.5\n",
    "\n",
    "    print('RMSE при заполнении средним:', rmse)\n",
    "    \n",
    "#вспомогательная функция для вывода предсказаний\n",
    "def predicts(features_train, target_train, features_valid):\n",
    "    model = LinearRegression()\n",
    "    model.fit(features_train, target_train)\n",
    "    predictions = pd.Series(model.predict(features_valid))\n",
    "    return predictions"
   ]
  },
  {
   "cell_type": "markdown",
   "metadata": {},
   "source": [
    "### Регион 1"
   ]
  },
  {
   "cell_type": "code",
   "execution_count": 8,
   "metadata": {},
   "outputs": [
    {
     "name": "stdout",
     "output_type": "stream",
     "text": [
      "Средний реальный запас сырья 92.07859674082927\n",
      "Средний предсказанный запас сырья 92.59256778438035\n",
      "RMSE: 37.5794217150813\n",
      "RMSE при заполнении средним: 44.28602687855358\n"
     ]
    }
   ],
   "source": [
    "lr_learning(features_train_0, target_train_0, features_valid_0, target_valid_0)\n",
    "predictions_0 = predicts(features_train_0, target_train_0, features_valid_0)"
   ]
  },
  {
   "cell_type": "markdown",
   "metadata": {},
   "source": [
    "При средних запасах сырья 92.078 средняя RMSE=37.579 - это сильное отклонение, хотя этот результат значительно лучше, чем заполненный средним значением целевого показателя = 44.286"
   ]
  },
  {
   "cell_type": "code",
   "execution_count": 9,
   "metadata": {},
   "outputs": [
    {
     "name": "stdout",
     "output_type": "stream",
     "text": [
      "Средний реальный запас сырья 92.07859674082927\n",
      "Средний предсказанный запас сырья 92.59256778438035\n",
      "RMSE: 37.5794217150813\n"
     ]
    }
   ],
   "source": [
    "#попробуем то же самое, но с масштабированием\n",
    "scaler = StandardScaler()\n",
    "scaler.fit(features_train_0)\n",
    "\n",
    "features_train_scaled = scaler.transform(features_train_0)\n",
    "features_valid_scaled = scaler.transform(features_valid_0)\n",
    "\n",
    "model_01 = LinearRegression()\n",
    "model_01.fit(features_train_scaled, target_train_0)\n",
    "predictions_01 = pd.Series(model_01.predict(features_valid_scaled))\n",
    "\n",
    "mse_01 = mean_squared_error(target_valid_0, predictions_01)\n",
    "rmse_01 = mse_01 ** 0.5\n",
    "\n",
    "print('Средний реальный запас сырья', target_valid_0.mean())\n",
    "print('Средний предсказанный запас сырья', predictions_01.mean())\n",
    "print('RMSE:', rmse_01)\n",
    "\n",
    "pd.options.mode.chained_assignment = None"
   ]
  },
  {
   "cell_type": "markdown",
   "metadata": {},
   "source": [
    "Масштабирование признаков не улучшило RMSE модели. Возможно, признаки изначально в одном масштабе"
   ]
  },
  {
   "cell_type": "code",
   "execution_count": 10,
   "metadata": {},
   "outputs": [
    {
     "data": {
      "text/html": [
       "<div>\n",
       "<style scoped>\n",
       "    .dataframe tbody tr th:only-of-type {\n",
       "        vertical-align: middle;\n",
       "    }\n",
       "\n",
       "    .dataframe tbody tr th {\n",
       "        vertical-align: top;\n",
       "    }\n",
       "\n",
       "    .dataframe thead th {\n",
       "        text-align: right;\n",
       "    }\n",
       "</style>\n",
       "<table border=\"1\" class=\"dataframe\">\n",
       "  <thead>\n",
       "    <tr style=\"text-align: right;\">\n",
       "      <th></th>\n",
       "      <th>id</th>\n",
       "      <th>f0</th>\n",
       "      <th>f1</th>\n",
       "      <th>f2</th>\n",
       "      <th>product</th>\n",
       "      <th>predict_product</th>\n",
       "      <th>predict_dummy</th>\n",
       "    </tr>\n",
       "  </thead>\n",
       "  <tbody>\n",
       "    <tr>\n",
       "      <th>0</th>\n",
       "      <td>txEyH</td>\n",
       "      <td>0.705745</td>\n",
       "      <td>-0.497823</td>\n",
       "      <td>1.221170</td>\n",
       "      <td>105.280062</td>\n",
       "      <td>NaN</td>\n",
       "      <td>NaN</td>\n",
       "    </tr>\n",
       "    <tr>\n",
       "      <th>1</th>\n",
       "      <td>2acmU</td>\n",
       "      <td>1.334711</td>\n",
       "      <td>-0.340164</td>\n",
       "      <td>4.365080</td>\n",
       "      <td>73.037750</td>\n",
       "      <td>77.572583</td>\n",
       "      <td>92.078597</td>\n",
       "    </tr>\n",
       "    <tr>\n",
       "      <th>2</th>\n",
       "      <td>409Wp</td>\n",
       "      <td>1.022732</td>\n",
       "      <td>0.151990</td>\n",
       "      <td>1.419926</td>\n",
       "      <td>85.265647</td>\n",
       "      <td>77.892640</td>\n",
       "      <td>92.078597</td>\n",
       "    </tr>\n",
       "    <tr>\n",
       "      <th>3</th>\n",
       "      <td>iJLyR</td>\n",
       "      <td>-0.032172</td>\n",
       "      <td>0.139033</td>\n",
       "      <td>2.978566</td>\n",
       "      <td>168.620776</td>\n",
       "      <td>90.175134</td>\n",
       "      <td>92.078597</td>\n",
       "    </tr>\n",
       "    <tr>\n",
       "      <th>4</th>\n",
       "      <td>Xdl7t</td>\n",
       "      <td>1.988431</td>\n",
       "      <td>0.155413</td>\n",
       "      <td>4.751769</td>\n",
       "      <td>154.036647</td>\n",
       "      <td>NaN</td>\n",
       "      <td>NaN</td>\n",
       "    </tr>\n",
       "    <tr>\n",
       "      <th>5</th>\n",
       "      <td>wX4Hy</td>\n",
       "      <td>0.969570</td>\n",
       "      <td>0.489775</td>\n",
       "      <td>-0.735383</td>\n",
       "      <td>64.741541</td>\n",
       "      <td>NaN</td>\n",
       "      <td>NaN</td>\n",
       "    </tr>\n",
       "    <tr>\n",
       "      <th>6</th>\n",
       "      <td>tL6pL</td>\n",
       "      <td>0.645075</td>\n",
       "      <td>0.530656</td>\n",
       "      <td>1.780266</td>\n",
       "      <td>49.055285</td>\n",
       "      <td>NaN</td>\n",
       "      <td>NaN</td>\n",
       "    </tr>\n",
       "    <tr>\n",
       "      <th>7</th>\n",
       "      <td>BYPU6</td>\n",
       "      <td>-0.400648</td>\n",
       "      <td>0.808337</td>\n",
       "      <td>-5.624670</td>\n",
       "      <td>72.943292</td>\n",
       "      <td>NaN</td>\n",
       "      <td>NaN</td>\n",
       "    </tr>\n",
       "    <tr>\n",
       "      <th>8</th>\n",
       "      <td>j9Oui</td>\n",
       "      <td>0.643105</td>\n",
       "      <td>-0.551583</td>\n",
       "      <td>2.372141</td>\n",
       "      <td>113.356160</td>\n",
       "      <td>86.035871</td>\n",
       "      <td>92.078597</td>\n",
       "    </tr>\n",
       "    <tr>\n",
       "      <th>9</th>\n",
       "      <td>OLuZU</td>\n",
       "      <td>2.173381</td>\n",
       "      <td>0.563698</td>\n",
       "      <td>9.441852</td>\n",
       "      <td>127.910945</td>\n",
       "      <td>NaN</td>\n",
       "      <td>NaN</td>\n",
       "    </tr>\n",
       "  </tbody>\n",
       "</table>\n",
       "</div>"
      ],
      "text/plain": [
       "      id        f0        f1        f2     product  predict_product  \\\n",
       "0  txEyH  0.705745 -0.497823  1.221170  105.280062              NaN   \n",
       "1  2acmU  1.334711 -0.340164  4.365080   73.037750        77.572583   \n",
       "2  409Wp  1.022732  0.151990  1.419926   85.265647        77.892640   \n",
       "3  iJLyR -0.032172  0.139033  2.978566  168.620776        90.175134   \n",
       "4  Xdl7t  1.988431  0.155413  4.751769  154.036647              NaN   \n",
       "5  wX4Hy  0.969570  0.489775 -0.735383   64.741541              NaN   \n",
       "6  tL6pL  0.645075  0.530656  1.780266   49.055285              NaN   \n",
       "7  BYPU6 -0.400648  0.808337 -5.624670   72.943292              NaN   \n",
       "8  j9Oui  0.643105 -0.551583  2.372141  113.356160        86.035871   \n",
       "9  OLuZU  2.173381  0.563698  9.441852  127.910945              NaN   \n",
       "\n",
       "   predict_dummy  \n",
       "0            NaN  \n",
       "1      92.078597  \n",
       "2      92.078597  \n",
       "3      92.078597  \n",
       "4            NaN  \n",
       "5            NaN  \n",
       "6            NaN  \n",
       "7            NaN  \n",
       "8      92.078597  \n",
       "9            NaN  "
      ]
     },
     "metadata": {},
     "output_type": "display_data"
    }
   ],
   "source": [
    "data_0['predict_product'] = pd.Series(predictions_01, index=target_valid_0.index)\n",
    "data_0['predict_dummy'] = pd.Series(target_valid_0.mean(), index=target_valid_0.index)\n",
    "display(data_0.head(10))"
   ]
  },
  {
   "cell_type": "markdown",
   "metadata": {},
   "source": [
    "### Регион 2 "
   ]
  },
  {
   "cell_type": "code",
   "execution_count": 11,
   "metadata": {},
   "outputs": [
    {
     "name": "stdout",
     "output_type": "stream",
     "text": [
      "Средний реальный запас сырья 68.72313602435997\n",
      "Средний предсказанный запас сырья 68.728546895446\n",
      "RMSE: 0.893099286775617\n",
      "RMSE при заполнении средним: 46.0212449226281\n"
     ]
    }
   ],
   "source": [
    "lr_learning(features_train_1, target_train_1, features_valid_1, target_valid_1)\n",
    "predictions_1 = predicts(features_train_1, target_train_1, features_valid_1)"
   ]
  },
  {
   "cell_type": "markdown",
   "metadata": {},
   "source": [
    "С данными по 2 региону модель отработала намного лучше - видимо, связь между признаками более линейная, чем в данных по региону 1. RMSE=0.89 - хороший результат"
   ]
  },
  {
   "cell_type": "markdown",
   "metadata": {},
   "source": [
    "### Регион 3 "
   ]
  },
  {
   "cell_type": "code",
   "execution_count": 12,
   "metadata": {},
   "outputs": [
    {
     "name": "stdout",
     "output_type": "stream",
     "text": [
      "Средний реальный запас сырья 94.88423280885438\n",
      "Средний предсказанный запас сырья 94.96504596800489\n",
      "RMSE: 40.02970873393434\n",
      "RMSE при заполнении средним: 44.902084376898294\n"
     ]
    }
   ],
   "source": [
    "lr_learning(features_train_2, target_train_2, features_valid_2, target_valid_2)\n",
    "predictions_2 = predicts(features_train_2, target_train_2, features_valid_2)"
   ]
  },
  {
   "cell_type": "markdown",
   "metadata": {},
   "source": [
    "Итог, близкий к данным первого региона - у модели высокая RMSE=40.029, немногим больше чем при заполнении средним."
   ]
  },
  {
   "cell_type": "markdown",
   "metadata": {},
   "source": [
    "## Подготовка к расчёту прибыли"
   ]
  },
  {
   "cell_type": "code",
   "execution_count": 13,
   "metadata": {},
   "outputs": [
    {
     "name": "stdout",
     "output_type": "stream",
     "text": [
      "Объём сырья в тысячах баррелей для безубыточной разработки: 22222\n",
      "\n",
      "Средний запас 200 скважин в регионе 1: 18416\n",
      "Средний запас 200 скважин в регионе 2: 13745\n",
      "Средний запас 200 скважин в регионе 3: 18977\n"
     ]
    }
   ],
   "source": [
    "# Бюджет на разработку скважин в регионе\n",
    "region_budget = 10000000000\n",
    "\n",
    "# Доход с каждой тысячи баррелей\n",
    "revenue_1000_barrel = 450000\n",
    "\n",
    "# достаточный объём сырья в тысячах баррелей для безубыточной разработки новой скважины\n",
    "profitable_value = region_budget / revenue_1000_barrel\n",
    "print('Объём сырья в тысячах баррелей для безубыточной разработки:', round(profitable_value))\n",
    "print()\n",
    "print('Средний запас 200 скважин в регионе 1:', round(target_valid_0.mean() * 200))\n",
    "print('Средний запас 200 скважин в регионе 2:', round(target_valid_1.mean() * 200))\n",
    "print('Средний запас 200 скважин в регионе 3:', round(target_valid_2.mean() * 200))"
   ]
  },
  {
   "cell_type": "markdown",
   "metadata": {},
   "source": [
    "При расчете от средних запасов получается, что все 3 региона потенциально убыточны. Однако, такой подход не совсем корректен, т.к. он подразумевает отбор скважин случайным образом вместо того, чтобы отобрать лучшие 200 скважин в каждом регионе."
   ]
  },
  {
   "cell_type": "code",
   "execution_count": 14,
   "metadata": {},
   "outputs": [],
   "source": [
    "#функция для расчета прибыли\n",
    "def profit(target, predictions, count):\n",
    "    best_pred = pd.Series(predictions).sort_values(ascending=False)[:count]\n",
    "    best_target = target[best_pred.index]\n",
    "    profit = revenue_1000_barrel * best_target.sum() - region_budget\n",
    "    return profit"
   ]
  },
  {
   "cell_type": "markdown",
   "metadata": {},
   "source": [
    "## Расчёт прибыли и рисков "
   ]
  },
  {
   "cell_type": "code",
   "execution_count": 15,
   "metadata": {},
   "outputs": [
    {
     "name": "stdout",
     "output_type": "stream",
     "text": [
      "Потенциальная прибыль региона 1, млн руб: -1922\n",
      "Потенциальная прибыль региона 2, млн руб: -4016\n",
      "Потенциальная прибыль региона 3, млн руб: -1259\n"
     ]
    }
   ],
   "source": [
    "profit_0 = profit(target_0, predictions_0, 200)\n",
    "print('Потенциальная прибыль региона 1, млн руб:', round(profit_0 / 1000000))\n",
    "\n",
    "profit_1 = profit(target_1, predictions_1, 200)\n",
    "print('Потенциальная прибыль региона 2, млн руб:', round(profit_1 / 1000000))\n",
    "\n",
    "profit_2 = profit(target_2, predictions_2, 200)\n",
    "print('Потенциальная прибыль региона 3, млн руб:', round(profit_2 / 1000000))"
   ]
  },
  {
   "cell_type": "markdown",
   "metadata": {},
   "source": [
    "При таком подходе подтверждается вывод с предыдущего этапа - все 3 региона потенциально убыточны. Применим технику bootstrap"
   ]
  },
  {
   "cell_type": "markdown",
   "metadata": {},
   "source": [
    "### Поиск самого прибыльного региона техникой bootstrap"
   ]
  },
  {
   "cell_type": "code",
   "execution_count": 16,
   "metadata": {},
   "outputs": [
    {
     "data": {
      "text/plain": [
       "((206,), (200,))"
      ]
     },
     "execution_count": 16,
     "metadata": {},
     "output_type": "execute_result"
    }
   ],
   "source": [
    "#временная ячейка для проверки размера best_target во время бутстрапирования\n",
    "state = np.random.RandomState(12345)\n",
    "\n",
    "def region_profit(target, predictions):\n",
    "    values = []\n",
    "    for i in range(1000):\n",
    "        target_subsample = target.reset_index(drop=True).sample(500, replace=True, random_state=state)\n",
    "        probs_subsample = predictions[target_subsample.index]\n",
    "        best_pred = pd.Series(probs_subsample).sort_values(ascending=False)[:200]\n",
    "        best_target = target_subsample[best_pred.index]\n",
    "        revenues = revenue_1000_barrel * best_target.sum() - region_budget\n",
    "        values.append(revenues)\n",
    "    \n",
    "    return best_target.shape, best_pred.shape\n",
    "\n",
    "region_profit(target_valid_0, predictions_0)"
   ]
  },
  {
   "cell_type": "code",
   "execution_count": 17,
   "metadata": {},
   "outputs": [],
   "source": [
    "state = np.random.RandomState(12345)\n",
    "\n",
    "def region_profit(target, predictions):\n",
    "    values = []\n",
    "    for i in range(1000):\n",
    "        target_subsample = target.reset_index(drop=True).sample(500, replace=False, random_state=state)\n",
    "        probs_subsample = predictions[target_subsample.index]\n",
    "        revenues = profit(target_subsample, probs_subsample, 200)\n",
    "        values.append(revenues)\n",
    "\n",
    "    values = pd.Series(values)\n",
    "    mean = values.mean()\n",
    "    print('Средняя прибыль, руб.: {:,.2f}'.format(mean))\n",
    "    \n",
    "    lower = values.quantile(.025)\n",
    "    upper = values.quantile(.975)\n",
    "    print('95% доверительный интервал:', '{:,.2f}'.format(lower), ':', '{:,.2f}'.format(upper))\n",
    "\n",
    "    loss_probability = (values<0).mean()\n",
    "    print('Вероятность убытков: {:.1%}'.format(loss_probability))\n",
    "    print()\n",
    "    \n",
    "    return mean"
   ]
  },
  {
   "cell_type": "markdown",
   "metadata": {},
   "source": [
    "#### Регион 1"
   ]
  },
  {
   "cell_type": "code",
   "execution_count": 18,
   "metadata": {},
   "outputs": [
    {
     "name": "stdout",
     "output_type": "stream",
     "text": [
      "Средняя прибыль, руб.: 380,710,890.71\n",
      "95% доверительный интервал: -126,947,638.03 : 879,613,967.85\n",
      "Вероятность убытков: 7.2%\n",
      "\n"
     ]
    }
   ],
   "source": [
    "profit_0 = region_profit(target_valid_0, predictions_0)"
   ]
  },
  {
   "cell_type": "markdown",
   "metadata": {},
   "source": [
    "#### Регион 2"
   ]
  },
  {
   "cell_type": "code",
   "execution_count": 19,
   "metadata": {},
   "outputs": [
    {
     "name": "stdout",
     "output_type": "stream",
     "text": [
      "Средняя прибыль, руб.: 454,785,434.77\n",
      "95% доверительный интервал: 46,730,084.77 : 840,213,356.26\n",
      "Вероятность убытков: 1.3%\n",
      "\n"
     ]
    }
   ],
   "source": [
    "profit_1 = region_profit(target_valid_1, predictions_1)"
   ]
  },
  {
   "cell_type": "markdown",
   "metadata": {},
   "source": [
    "#### Регион 3"
   ]
  },
  {
   "cell_type": "code",
   "execution_count": 20,
   "metadata": {},
   "outputs": [
    {
     "name": "stdout",
     "output_type": "stream",
     "text": [
      "Средняя прибыль, руб.: 389,217,073.69\n",
      "95% доверительный интервал: -115,609,565.78 : 906,512,590.17\n",
      "Вероятность убытков: 7.3%\n",
      "\n"
     ]
    }
   ],
   "source": [
    "profit_2 = region_profit(target_valid_2, predictions_2)"
   ]
  },
  {
   "cell_type": "markdown",
   "metadata": {},
   "source": [
    "## Вывод "
   ]
  },
  {
   "cell_type": "markdown",
   "metadata": {},
   "source": [
    "Задача проекта звучала следующим образом: \"После оценки рисков нужно оставить те регионы, в которых вероятность убытков меньше 2.5%. Среди них выбрать регион с наибольшей средней прибылью.\"\n",
    "\n",
    "Условию вероятности убытков до 2.5% удовлетворяет только Регион 2, у него же наибольшая потенциальная прибыль - 454 млн руб.\n",
    "По совокупности этих факторов рекомендую для разработки выбрать Регион 2."
   ]
  },
  {
   "cell_type": "code",
   "execution_count": null,
   "metadata": {},
   "outputs": [],
   "source": []
  }
 ],
 "metadata": {
  "ExecuteTimeLog": [
   {
    "duration": 364,
    "start_time": "2022-08-26T13:03:36.819Z"
   },
   {
    "duration": 1607,
    "start_time": "2022-08-26T13:04:14.901Z"
   },
   {
    "duration": 414,
    "start_time": "2022-08-26T13:04:47.254Z"
   },
   {
    "duration": 38,
    "start_time": "2022-08-26T13:05:28.171Z"
   },
   {
    "duration": 2714,
    "start_time": "2022-08-26T13:15:34.546Z"
   },
   {
    "duration": 48,
    "start_time": "2022-08-26T13:16:33.314Z"
   },
   {
    "duration": 24,
    "start_time": "2022-08-26T13:19:05.582Z"
   },
   {
    "duration": 425,
    "start_time": "2022-08-26T13:20:25.719Z"
   },
   {
    "duration": 6,
    "start_time": "2022-08-26T13:24:51.323Z"
   },
   {
    "duration": 9,
    "start_time": "2022-08-26T13:25:26.126Z"
   },
   {
    "duration": 31,
    "start_time": "2022-08-26T13:27:31.057Z"
   },
   {
    "duration": 104,
    "start_time": "2022-08-26T13:28:04.660Z"
   },
   {
    "duration": 2,
    "start_time": "2022-08-26T13:28:12.312Z"
   },
   {
    "duration": 18,
    "start_time": "2022-08-26T13:29:21.372Z"
   },
   {
    "duration": 15,
    "start_time": "2022-08-26T13:30:43.456Z"
   },
   {
    "duration": 14,
    "start_time": "2022-08-26T13:31:24.884Z"
   },
   {
    "duration": 14,
    "start_time": "2022-08-26T13:32:24.817Z"
   },
   {
    "duration": 22,
    "start_time": "2022-08-26T13:34:45.565Z"
   },
   {
    "duration": 17,
    "start_time": "2022-08-26T13:35:06.798Z"
   },
   {
    "duration": 31,
    "start_time": "2022-08-26T13:35:09.460Z"
   },
   {
    "duration": 10,
    "start_time": "2022-08-26T13:38:08.055Z"
   },
   {
    "duration": 28,
    "start_time": "2022-08-26T13:39:01.614Z"
   },
   {
    "duration": 1082,
    "start_time": "2022-08-26T13:39:13.335Z"
   },
   {
    "duration": 430,
    "start_time": "2022-08-26T13:39:14.419Z"
   },
   {
    "duration": 46,
    "start_time": "2022-08-26T13:39:14.851Z"
   },
   {
    "duration": 9,
    "start_time": "2022-08-26T13:39:14.899Z"
   },
   {
    "duration": 38,
    "start_time": "2022-08-26T13:39:14.910Z"
   },
   {
    "duration": 37,
    "start_time": "2022-08-26T13:39:14.950Z"
   },
   {
    "duration": 180,
    "start_time": "2022-08-26T13:39:14.989Z"
   },
   {
    "duration": 22,
    "start_time": "2022-08-26T13:40:37.703Z"
   },
   {
    "duration": 3,
    "start_time": "2022-08-26T13:41:41.482Z"
   },
   {
    "duration": 4,
    "start_time": "2022-08-26T13:42:16.951Z"
   },
   {
    "duration": 62,
    "start_time": "2022-08-26T13:53:54.905Z"
   },
   {
    "duration": 6,
    "start_time": "2022-08-26T14:00:04.287Z"
   },
   {
    "duration": 16,
    "start_time": "2022-08-26T14:00:20.594Z"
   },
   {
    "duration": 14,
    "start_time": "2022-08-26T14:01:29.619Z"
   },
   {
    "duration": 102,
    "start_time": "2022-08-26T14:10:02.466Z"
   },
   {
    "duration": 19,
    "start_time": "2022-08-26T14:14:00.417Z"
   },
   {
    "duration": 113,
    "start_time": "2022-08-26T14:18:05.667Z"
   },
   {
    "duration": 26,
    "start_time": "2022-08-26T14:18:23.556Z"
   },
   {
    "duration": 24,
    "start_time": "2022-08-26T14:20:14.963Z"
   },
   {
    "duration": 27,
    "start_time": "2022-08-26T14:23:40.114Z"
   },
   {
    "duration": 30,
    "start_time": "2022-08-26T14:28:20.812Z"
   },
   {
    "duration": 26,
    "start_time": "2022-08-26T14:43:48.449Z"
   },
   {
    "duration": 21,
    "start_time": "2022-08-26T14:45:30.718Z"
   },
   {
    "duration": 1106,
    "start_time": "2022-08-31T12:20:03.121Z"
   },
   {
    "duration": 793,
    "start_time": "2022-08-31T12:20:04.229Z"
   },
   {
    "duration": 76,
    "start_time": "2022-08-31T12:20:05.026Z"
   },
   {
    "duration": 13,
    "start_time": "2022-08-31T12:20:05.104Z"
   },
   {
    "duration": 43,
    "start_time": "2022-08-31T12:20:05.118Z"
   },
   {
    "duration": 35,
    "start_time": "2022-08-31T12:20:05.163Z"
   },
   {
    "duration": 193,
    "start_time": "2022-08-31T12:20:05.199Z"
   },
   {
    "duration": 217,
    "start_time": "2022-08-31T12:20:05.395Z"
   },
   {
    "duration": 22,
    "start_time": "2022-08-31T12:20:05.615Z"
   },
   {
    "duration": 109,
    "start_time": "2022-08-31T12:20:05.687Z"
   },
   {
    "duration": 48,
    "start_time": "2022-08-31T16:10:28.167Z"
   },
   {
    "duration": 6,
    "start_time": "2022-08-31T16:10:57.534Z"
   },
   {
    "duration": 1057,
    "start_time": "2022-08-31T16:11:08.721Z"
   },
   {
    "duration": 957,
    "start_time": "2022-08-31T16:11:09.780Z"
   },
   {
    "duration": 36,
    "start_time": "2022-08-31T16:11:10.739Z"
   },
   {
    "duration": 16,
    "start_time": "2022-08-31T16:11:10.776Z"
   },
   {
    "duration": 58,
    "start_time": "2022-08-31T16:11:10.795Z"
   },
   {
    "duration": 4,
    "start_time": "2022-08-31T16:11:10.855Z"
   },
   {
    "duration": 42,
    "start_time": "2022-08-31T16:11:10.861Z"
   },
   {
    "duration": 205,
    "start_time": "2022-08-31T16:11:10.904Z"
   },
   {
    "duration": 211,
    "start_time": "2022-08-31T16:11:11.111Z"
   },
   {
    "duration": 63,
    "start_time": "2022-08-31T16:11:11.323Z"
   },
   {
    "duration": 120,
    "start_time": "2022-08-31T16:11:11.388Z"
   },
   {
    "duration": 77,
    "start_time": "2022-08-31T16:11:11.510Z"
   },
   {
    "duration": 97,
    "start_time": "2022-08-31T16:11:11.590Z"
   },
   {
    "duration": 5,
    "start_time": "2022-08-31T16:12:03.464Z"
   },
   {
    "duration": 4,
    "start_time": "2022-08-31T16:15:16.331Z"
   },
   {
    "duration": 107,
    "start_time": "2022-08-31T16:18:07.560Z"
   },
   {
    "duration": 4,
    "start_time": "2022-08-31T16:18:14.620Z"
   },
   {
    "duration": 16,
    "start_time": "2022-08-31T16:18:16.914Z"
   },
   {
    "duration": 3,
    "start_time": "2022-08-31T16:18:29.858Z"
   },
   {
    "duration": 15,
    "start_time": "2022-08-31T16:18:32.157Z"
   },
   {
    "duration": 3,
    "start_time": "2022-08-31T16:19:05.073Z"
   },
   {
    "duration": 8,
    "start_time": "2022-08-31T16:19:07.222Z"
   },
   {
    "duration": 9,
    "start_time": "2022-08-31T16:19:15.473Z"
   },
   {
    "duration": 19,
    "start_time": "2022-08-31T16:19:54.367Z"
   },
   {
    "duration": 16,
    "start_time": "2022-08-31T16:20:03.859Z"
   },
   {
    "duration": 15,
    "start_time": "2022-08-31T16:20:07.528Z"
   },
   {
    "duration": 4,
    "start_time": "2022-08-31T16:24:11.052Z"
   },
   {
    "duration": 5,
    "start_time": "2022-08-31T16:24:34.578Z"
   },
   {
    "duration": 10,
    "start_time": "2022-08-31T16:24:42.027Z"
   },
   {
    "duration": 9,
    "start_time": "2022-08-31T16:24:48.904Z"
   },
   {
    "duration": 4,
    "start_time": "2022-08-31T16:25:07.141Z"
   },
   {
    "duration": 4,
    "start_time": "2022-08-31T16:25:48.806Z"
   },
   {
    "duration": 7,
    "start_time": "2022-08-31T17:53:44.817Z"
   },
   {
    "duration": 5,
    "start_time": "2022-08-31T17:54:07.617Z"
   },
   {
    "duration": 6,
    "start_time": "2022-08-31T17:55:36.599Z"
   },
   {
    "duration": 8,
    "start_time": "2022-08-31T17:55:50.499Z"
   },
   {
    "duration": 8,
    "start_time": "2022-08-31T17:56:03.452Z"
   },
   {
    "duration": 7,
    "start_time": "2022-08-31T17:56:38.772Z"
   },
   {
    "duration": 100,
    "start_time": "2022-09-01T16:09:46.760Z"
   },
   {
    "duration": 46,
    "start_time": "2022-09-01T16:09:51.511Z"
   },
   {
    "duration": 1099,
    "start_time": "2022-09-01T16:10:02.445Z"
   },
   {
    "duration": 1727,
    "start_time": "2022-09-01T16:10:03.546Z"
   },
   {
    "duration": 38,
    "start_time": "2022-09-01T16:10:05.275Z"
   },
   {
    "duration": 9,
    "start_time": "2022-09-01T16:10:05.315Z"
   },
   {
    "duration": 33,
    "start_time": "2022-09-01T16:10:05.327Z"
   },
   {
    "duration": 30,
    "start_time": "2022-09-01T16:10:05.362Z"
   },
   {
    "duration": 100,
    "start_time": "2022-09-01T16:10:05.394Z"
   },
   {
    "duration": 115,
    "start_time": "2022-09-01T16:10:05.496Z"
   },
   {
    "duration": 115,
    "start_time": "2022-09-01T16:10:05.693Z"
   },
   {
    "duration": 83,
    "start_time": "2022-09-01T16:10:05.810Z"
   },
   {
    "duration": 111,
    "start_time": "2022-09-01T16:10:05.896Z"
   },
   {
    "duration": 184,
    "start_time": "2022-09-01T16:10:06.010Z"
   },
   {
    "duration": 3,
    "start_time": "2022-09-01T16:10:06.196Z"
   },
   {
    "duration": 22,
    "start_time": "2022-09-01T16:10:06.202Z"
   },
   {
    "duration": 19,
    "start_time": "2022-09-01T16:10:18.223Z"
   },
   {
    "duration": 17,
    "start_time": "2022-09-01T16:10:40.685Z"
   },
   {
    "duration": 16,
    "start_time": "2022-09-01T16:10:51.212Z"
   },
   {
    "duration": 15,
    "start_time": "2022-09-01T16:11:28.900Z"
   },
   {
    "duration": 17,
    "start_time": "2022-09-01T16:11:48.712Z"
   },
   {
    "duration": 97,
    "start_time": "2022-09-01T17:33:22.280Z"
   },
   {
    "duration": 3,
    "start_time": "2022-09-01T17:33:32.509Z"
   },
   {
    "duration": 6,
    "start_time": "2022-09-01T17:33:37.096Z"
   },
   {
    "duration": 22,
    "start_time": "2022-09-01T17:38:16.808Z"
   },
   {
    "duration": 3492,
    "start_time": "2022-09-01T17:40:05.860Z"
   },
   {
    "duration": 3552,
    "start_time": "2022-09-01T17:41:44.094Z"
   },
   {
    "duration": 3529,
    "start_time": "2022-09-01T17:42:02.051Z"
   },
   {
    "duration": 6,
    "start_time": "2022-09-01T17:45:56.134Z"
   },
   {
    "duration": 5061,
    "start_time": "2022-09-01T17:45:58.436Z"
   },
   {
    "duration": 5,
    "start_time": "2022-09-01T17:46:18.900Z"
   },
   {
    "duration": 6,
    "start_time": "2022-09-01T17:46:54.669Z"
   },
   {
    "duration": 31,
    "start_time": "2022-09-01T17:46:56.865Z"
   },
   {
    "duration": 6,
    "start_time": "2022-09-01T17:48:35.288Z"
   },
   {
    "duration": 23,
    "start_time": "2022-09-01T17:48:38.556Z"
   },
   {
    "duration": 1163,
    "start_time": "2022-09-01T17:49:48.685Z"
   },
   {
    "duration": 441,
    "start_time": "2022-09-01T17:49:49.850Z"
   },
   {
    "duration": 38,
    "start_time": "2022-09-01T17:49:50.293Z"
   },
   {
    "duration": 10,
    "start_time": "2022-09-01T17:49:50.334Z"
   },
   {
    "duration": 62,
    "start_time": "2022-09-01T17:49:50.346Z"
   },
   {
    "duration": 6,
    "start_time": "2022-09-01T17:49:50.410Z"
   },
   {
    "duration": 76,
    "start_time": "2022-09-01T17:49:50.418Z"
   },
   {
    "duration": 195,
    "start_time": "2022-09-01T17:49:50.497Z"
   },
   {
    "duration": 113,
    "start_time": "2022-09-01T17:49:50.694Z"
   },
   {
    "duration": 82,
    "start_time": "2022-09-01T17:49:50.809Z"
   },
   {
    "duration": 109,
    "start_time": "2022-09-01T17:49:50.894Z"
   },
   {
    "duration": 189,
    "start_time": "2022-09-01T17:49:51.006Z"
   },
   {
    "duration": 11,
    "start_time": "2022-09-01T17:49:51.197Z"
   },
   {
    "duration": 20,
    "start_time": "2022-09-01T17:49:51.210Z"
   },
   {
    "duration": 5,
    "start_time": "2022-09-01T17:49:51.232Z"
   },
   {
    "duration": 131,
    "start_time": "2022-09-01T17:49:51.238Z"
   },
   {
    "duration": 0,
    "start_time": "2022-09-01T17:49:51.370Z"
   },
   {
    "duration": 0,
    "start_time": "2022-09-01T17:49:51.372Z"
   },
   {
    "duration": 25,
    "start_time": "2022-09-01T17:56:08.736Z"
   },
   {
    "duration": 6,
    "start_time": "2022-09-01T17:56:11.565Z"
   },
   {
    "duration": 21,
    "start_time": "2022-09-01T17:56:14.829Z"
   },
   {
    "duration": 23,
    "start_time": "2022-09-01T17:57:14.014Z"
   },
   {
    "duration": 23,
    "start_time": "2022-09-01T17:57:18.384Z"
   },
   {
    "duration": 23,
    "start_time": "2022-09-01T17:57:38.852Z"
   },
   {
    "duration": 8,
    "start_time": "2022-09-01T17:58:26.000Z"
   },
   {
    "duration": 21,
    "start_time": "2022-09-01T17:58:28.305Z"
   },
   {
    "duration": 5,
    "start_time": "2022-09-01T17:58:50.048Z"
   },
   {
    "duration": 22,
    "start_time": "2022-09-01T17:58:52.393Z"
   },
   {
    "duration": 5,
    "start_time": "2022-09-01T17:59:05.411Z"
   },
   {
    "duration": 22,
    "start_time": "2022-09-01T17:59:07.276Z"
   },
   {
    "duration": 4,
    "start_time": "2022-09-01T17:59:12.892Z"
   },
   {
    "duration": 4,
    "start_time": "2022-09-01T18:00:24.282Z"
   },
   {
    "duration": 1374,
    "start_time": "2022-09-01T18:00:26.483Z"
   },
   {
    "duration": 4,
    "start_time": "2022-09-01T18:00:52.981Z"
   },
   {
    "duration": 1781,
    "start_time": "2022-09-01T18:00:54.784Z"
   },
   {
    "duration": 5,
    "start_time": "2022-09-01T18:01:36.995Z"
   },
   {
    "duration": 24,
    "start_time": "2022-09-01T18:01:39.303Z"
   },
   {
    "duration": 5,
    "start_time": "2022-09-01T18:02:15.871Z"
   },
   {
    "duration": 24,
    "start_time": "2022-09-01T18:02:17.199Z"
   },
   {
    "duration": 6,
    "start_time": "2022-09-01T18:05:28.636Z"
   },
   {
    "duration": 24,
    "start_time": "2022-09-01T18:05:30.226Z"
   },
   {
    "duration": 1154,
    "start_time": "2022-09-02T13:10:15.073Z"
   },
   {
    "duration": 842,
    "start_time": "2022-09-02T13:10:16.229Z"
   },
   {
    "duration": 42,
    "start_time": "2022-09-02T13:10:17.073Z"
   },
   {
    "duration": 11,
    "start_time": "2022-09-02T13:10:17.118Z"
   },
   {
    "duration": 40,
    "start_time": "2022-09-02T13:10:17.131Z"
   },
   {
    "duration": 6,
    "start_time": "2022-09-02T13:10:17.173Z"
   },
   {
    "duration": 24,
    "start_time": "2022-09-02T13:10:17.199Z"
   },
   {
    "duration": 195,
    "start_time": "2022-09-02T13:10:17.225Z"
   },
   {
    "duration": 113,
    "start_time": "2022-09-02T13:10:17.501Z"
   },
   {
    "duration": 86,
    "start_time": "2022-09-02T13:10:17.616Z"
   },
   {
    "duration": 109,
    "start_time": "2022-09-02T13:10:17.704Z"
   },
   {
    "duration": 91,
    "start_time": "2022-09-02T13:10:17.815Z"
   },
   {
    "duration": 98,
    "start_time": "2022-09-02T13:10:17.908Z"
   },
   {
    "duration": 22,
    "start_time": "2022-09-02T13:10:18.008Z"
   },
   {
    "duration": 6,
    "start_time": "2022-09-02T13:10:18.032Z"
   },
   {
    "duration": 135,
    "start_time": "2022-09-02T13:10:18.040Z"
   },
   {
    "duration": 0,
    "start_time": "2022-09-02T13:10:18.177Z"
   },
   {
    "duration": 0,
    "start_time": "2022-09-02T13:10:18.178Z"
   },
   {
    "duration": 24,
    "start_time": "2022-09-02T13:15:05.774Z"
   },
   {
    "duration": 28,
    "start_time": "2022-09-02T13:18:49.960Z"
   },
   {
    "duration": 27,
    "start_time": "2022-09-02T13:19:08.532Z"
   },
   {
    "duration": 4,
    "start_time": "2022-09-02T13:24:54.292Z"
   },
   {
    "duration": 2954,
    "start_time": "2022-09-02T13:24:58.922Z"
   },
   {
    "duration": 6,
    "start_time": "2022-09-02T13:25:06.903Z"
   },
   {
    "duration": 1389,
    "start_time": "2022-09-02T13:25:08.433Z"
   },
   {
    "duration": 18,
    "start_time": "2022-09-02T13:38:09.228Z"
   },
   {
    "duration": 1611,
    "start_time": "2022-09-02T13:46:10.294Z"
   },
   {
    "duration": 6,
    "start_time": "2022-09-02T13:46:18.580Z"
   },
   {
    "duration": 1476,
    "start_time": "2022-09-02T13:46:21.423Z"
   },
   {
    "duration": 1572,
    "start_time": "2022-09-02T13:46:40.824Z"
   },
   {
    "duration": 1533,
    "start_time": "2022-09-02T13:46:46.231Z"
   },
   {
    "duration": 6,
    "start_time": "2022-09-02T13:47:26.034Z"
   },
   {
    "duration": 1458,
    "start_time": "2022-09-02T13:47:28.131Z"
   },
   {
    "duration": 9,
    "start_time": "2022-09-02T13:47:36.534Z"
   },
   {
    "duration": 1501,
    "start_time": "2022-09-02T13:47:38.084Z"
   },
   {
    "duration": 1262,
    "start_time": "2022-09-02T13:48:51.301Z"
   },
   {
    "duration": 474,
    "start_time": "2022-09-02T13:48:52.566Z"
   },
   {
    "duration": 66,
    "start_time": "2022-09-02T13:48:53.044Z"
   },
   {
    "duration": 63,
    "start_time": "2022-09-02T13:48:53.113Z"
   },
   {
    "duration": 122,
    "start_time": "2022-09-02T13:48:53.178Z"
   },
   {
    "duration": 51,
    "start_time": "2022-09-02T13:48:53.302Z"
   },
   {
    "duration": 146,
    "start_time": "2022-09-02T13:48:53.355Z"
   },
   {
    "duration": 124,
    "start_time": "2022-09-02T13:48:53.503Z"
   },
   {
    "duration": 193,
    "start_time": "2022-09-02T13:48:53.629Z"
   },
   {
    "duration": 23,
    "start_time": "2022-09-02T13:48:53.824Z"
   },
   {
    "duration": 200,
    "start_time": "2022-09-02T13:48:53.901Z"
   },
   {
    "duration": 286,
    "start_time": "2022-09-02T13:48:54.103Z"
   },
   {
    "duration": 157,
    "start_time": "2022-09-02T13:48:54.392Z"
   },
   {
    "duration": 63,
    "start_time": "2022-09-02T13:48:54.551Z"
   },
   {
    "duration": 79,
    "start_time": "2022-09-02T13:48:54.616Z"
   },
   {
    "duration": 1466,
    "start_time": "2022-09-02T13:48:54.697Z"
   },
   {
    "duration": 1359,
    "start_time": "2022-09-02T13:48:56.166Z"
   },
   {
    "duration": 1362,
    "start_time": "2022-09-02T13:48:57.527Z"
   },
   {
    "duration": 1229,
    "start_time": "2022-09-03T15:23:38.082Z"
   },
   {
    "duration": 832,
    "start_time": "2022-09-03T15:23:39.314Z"
   },
   {
    "duration": 57,
    "start_time": "2022-09-03T15:23:40.148Z"
   },
   {
    "duration": 12,
    "start_time": "2022-09-03T15:23:40.207Z"
   },
   {
    "duration": 38,
    "start_time": "2022-09-03T15:23:40.222Z"
   },
   {
    "duration": 9,
    "start_time": "2022-09-03T15:23:40.262Z"
   },
   {
    "duration": 129,
    "start_time": "2022-09-03T15:23:40.275Z"
   },
   {
    "duration": 197,
    "start_time": "2022-09-03T15:23:40.407Z"
   },
   {
    "duration": 116,
    "start_time": "2022-09-03T15:23:40.607Z"
   },
   {
    "duration": 79,
    "start_time": "2022-09-03T15:23:40.725Z"
   },
   {
    "duration": 200,
    "start_time": "2022-09-03T15:23:40.805Z"
   },
   {
    "duration": 96,
    "start_time": "2022-09-03T15:23:41.008Z"
   },
   {
    "duration": 10,
    "start_time": "2022-09-03T15:23:41.106Z"
   },
   {
    "duration": 26,
    "start_time": "2022-09-03T15:23:41.120Z"
   },
   {
    "duration": 8,
    "start_time": "2022-09-03T15:23:41.148Z"
   },
   {
    "duration": 1506,
    "start_time": "2022-09-03T15:23:41.159Z"
   },
   {
    "duration": 1394,
    "start_time": "2022-09-03T15:23:42.667Z"
   },
   {
    "duration": 1479,
    "start_time": "2022-09-03T15:23:44.063Z"
   },
   {
    "duration": 108,
    "start_time": "2022-09-03T15:24:00.485Z"
   },
   {
    "duration": 4,
    "start_time": "2022-09-03T15:36:28.436Z"
   },
   {
    "duration": 7,
    "start_time": "2022-09-03T15:36:40.097Z"
   },
   {
    "duration": 7,
    "start_time": "2022-09-03T15:36:49.580Z"
   },
   {
    "duration": 8,
    "start_time": "2022-09-03T15:54:06.942Z"
   },
   {
    "duration": 20,
    "start_time": "2022-09-03T15:54:09.935Z"
   },
   {
    "duration": 5,
    "start_time": "2022-09-03T15:54:16.681Z"
   },
   {
    "duration": 23,
    "start_time": "2022-09-03T15:54:18.748Z"
   },
   {
    "duration": 7,
    "start_time": "2022-09-03T15:55:57.594Z"
   },
   {
    "duration": 1472,
    "start_time": "2022-09-03T15:56:03.174Z"
   },
   {
    "duration": 1595,
    "start_time": "2022-09-03T15:56:09.793Z"
   },
   {
    "duration": 1453,
    "start_time": "2022-09-03T15:56:14.422Z"
   },
   {
    "duration": 11,
    "start_time": "2022-09-03T15:57:42.305Z"
   },
   {
    "duration": 5,
    "start_time": "2022-09-03T15:57:47.156Z"
   },
   {
    "duration": 12,
    "start_time": "2022-09-03T15:57:48.853Z"
   },
   {
    "duration": 9,
    "start_time": "2022-09-03T15:57:52.430Z"
   },
   {
    "duration": 5,
    "start_time": "2022-09-03T15:58:18.964Z"
   },
   {
    "duration": 8,
    "start_time": "2022-09-03T15:58:21.191Z"
   },
   {
    "duration": 4,
    "start_time": "2022-09-03T15:58:32.369Z"
   },
   {
    "duration": 11,
    "start_time": "2022-09-03T15:58:33.753Z"
   },
   {
    "duration": 4,
    "start_time": "2022-09-03T16:04:52.438Z"
   },
   {
    "duration": 18,
    "start_time": "2022-09-03T16:04:56.024Z"
   },
   {
    "duration": 6,
    "start_time": "2022-09-03T16:04:57.767Z"
   },
   {
    "duration": 1507,
    "start_time": "2022-09-03T16:05:00.320Z"
   },
   {
    "duration": 1404,
    "start_time": "2022-09-03T16:05:02.984Z"
   },
   {
    "duration": 1678,
    "start_time": "2022-09-03T16:05:06.380Z"
   },
   {
    "duration": 6,
    "start_time": "2022-09-03T16:24:50.041Z"
   },
   {
    "duration": 25,
    "start_time": "2022-09-03T16:25:14.168Z"
   },
   {
    "duration": 54,
    "start_time": "2022-09-03T16:26:00.252Z"
   },
   {
    "duration": 21,
    "start_time": "2022-09-03T16:26:17.325Z"
   },
   {
    "duration": 9,
    "start_time": "2022-09-03T16:27:07.627Z"
   },
   {
    "duration": 1068,
    "start_time": "2022-09-05T08:09:18.424Z"
   },
   {
    "duration": 768,
    "start_time": "2022-09-05T08:09:19.494Z"
   },
   {
    "duration": 33,
    "start_time": "2022-09-05T08:09:20.264Z"
   },
   {
    "duration": 8,
    "start_time": "2022-09-05T08:09:20.299Z"
   },
   {
    "duration": 51,
    "start_time": "2022-09-05T08:09:20.309Z"
   },
   {
    "duration": 5,
    "start_time": "2022-09-05T08:09:20.362Z"
   },
   {
    "duration": 14,
    "start_time": "2022-09-05T08:09:20.368Z"
   },
   {
    "duration": 57,
    "start_time": "2022-09-05T08:09:20.383Z"
   },
   {
    "duration": 201,
    "start_time": "2022-09-05T08:09:20.442Z"
   },
   {
    "duration": 0,
    "start_time": "2022-09-05T08:09:20.645Z"
   },
   {
    "duration": 0,
    "start_time": "2022-09-05T08:09:20.646Z"
   },
   {
    "duration": 0,
    "start_time": "2022-09-05T08:09:20.647Z"
   },
   {
    "duration": 0,
    "start_time": "2022-09-05T08:09:20.648Z"
   },
   {
    "duration": 0,
    "start_time": "2022-09-05T08:09:20.648Z"
   },
   {
    "duration": 0,
    "start_time": "2022-09-05T08:09:20.650Z"
   },
   {
    "duration": 1,
    "start_time": "2022-09-05T08:09:20.650Z"
   },
   {
    "duration": 0,
    "start_time": "2022-09-05T08:09:20.651Z"
   },
   {
    "duration": 0,
    "start_time": "2022-09-05T08:09:20.652Z"
   },
   {
    "duration": 0,
    "start_time": "2022-09-05T08:09:20.653Z"
   },
   {
    "duration": 0,
    "start_time": "2022-09-05T08:09:20.654Z"
   },
   {
    "duration": 54,
    "start_time": "2022-09-05T08:12:22.090Z"
   },
   {
    "duration": 1074,
    "start_time": "2022-09-05T08:12:30.009Z"
   },
   {
    "duration": 379,
    "start_time": "2022-09-05T08:12:31.085Z"
   },
   {
    "duration": 31,
    "start_time": "2022-09-05T08:12:31.465Z"
   },
   {
    "duration": 9,
    "start_time": "2022-09-05T08:12:31.498Z"
   },
   {
    "duration": 51,
    "start_time": "2022-09-05T08:12:31.509Z"
   },
   {
    "duration": 6,
    "start_time": "2022-09-05T08:12:31.561Z"
   },
   {
    "duration": 8,
    "start_time": "2022-09-05T08:12:31.569Z"
   },
   {
    "duration": 25,
    "start_time": "2022-09-05T08:12:31.578Z"
   },
   {
    "duration": 113,
    "start_time": "2022-09-05T08:12:31.643Z"
   },
   {
    "duration": 265,
    "start_time": "2022-09-05T08:12:31.759Z"
   },
   {
    "duration": 0,
    "start_time": "2022-09-05T08:12:32.025Z"
   },
   {
    "duration": 0,
    "start_time": "2022-09-05T08:12:32.027Z"
   },
   {
    "duration": 0,
    "start_time": "2022-09-05T08:12:32.038Z"
   },
   {
    "duration": 0,
    "start_time": "2022-09-05T08:12:32.039Z"
   },
   {
    "duration": 0,
    "start_time": "2022-09-05T08:12:32.040Z"
   },
   {
    "duration": 0,
    "start_time": "2022-09-05T08:12:32.042Z"
   },
   {
    "duration": 0,
    "start_time": "2022-09-05T08:12:32.044Z"
   },
   {
    "duration": 0,
    "start_time": "2022-09-05T08:12:32.045Z"
   },
   {
    "duration": 0,
    "start_time": "2022-09-05T08:12:32.046Z"
   },
   {
    "duration": 0,
    "start_time": "2022-09-05T08:12:32.047Z"
   },
   {
    "duration": 17,
    "start_time": "2022-09-05T08:13:43.667Z"
   },
   {
    "duration": 22,
    "start_time": "2022-09-05T08:15:44.288Z"
   },
   {
    "duration": 1020,
    "start_time": "2022-09-05T08:15:56.656Z"
   },
   {
    "duration": 385,
    "start_time": "2022-09-05T08:15:57.679Z"
   },
   {
    "duration": 32,
    "start_time": "2022-09-05T08:15:58.066Z"
   },
   {
    "duration": 9,
    "start_time": "2022-09-05T08:15:58.101Z"
   },
   {
    "duration": 58,
    "start_time": "2022-09-05T08:15:58.112Z"
   },
   {
    "duration": 6,
    "start_time": "2022-09-05T08:15:58.172Z"
   },
   {
    "duration": 6,
    "start_time": "2022-09-05T08:15:58.180Z"
   },
   {
    "duration": 55,
    "start_time": "2022-09-05T08:15:58.187Z"
   },
   {
    "duration": 111,
    "start_time": "2022-09-05T08:15:58.244Z"
   },
   {
    "duration": 182,
    "start_time": "2022-09-05T08:15:58.358Z"
   },
   {
    "duration": 97,
    "start_time": "2022-09-05T08:15:58.542Z"
   },
   {
    "duration": 114,
    "start_time": "2022-09-05T08:15:58.643Z"
   },
   {
    "duration": 85,
    "start_time": "2022-09-05T08:15:58.760Z"
   },
   {
    "duration": 96,
    "start_time": "2022-09-05T08:15:58.855Z"
   },
   {
    "duration": 182,
    "start_time": "2022-09-05T08:15:58.953Z"
   },
   {
    "duration": 0,
    "start_time": "2022-09-05T08:15:59.138Z"
   },
   {
    "duration": 0,
    "start_time": "2022-09-05T08:15:59.139Z"
   },
   {
    "duration": 0,
    "start_time": "2022-09-05T08:15:59.141Z"
   },
   {
    "duration": 0,
    "start_time": "2022-09-05T08:15:59.142Z"
   },
   {
    "duration": 0,
    "start_time": "2022-09-05T08:15:59.143Z"
   },
   {
    "duration": 1155,
    "start_time": "2022-09-05T08:16:16.210Z"
   },
   {
    "duration": 374,
    "start_time": "2022-09-05T08:16:17.367Z"
   },
   {
    "duration": 32,
    "start_time": "2022-09-05T08:16:17.742Z"
   },
   {
    "duration": 9,
    "start_time": "2022-09-05T08:16:17.776Z"
   },
   {
    "duration": 50,
    "start_time": "2022-09-05T08:16:17.788Z"
   },
   {
    "duration": 5,
    "start_time": "2022-09-05T08:16:17.840Z"
   },
   {
    "duration": 21,
    "start_time": "2022-09-05T08:16:17.847Z"
   },
   {
    "duration": 74,
    "start_time": "2022-09-05T08:16:17.869Z"
   },
   {
    "duration": 196,
    "start_time": "2022-09-05T08:16:17.946Z"
   },
   {
    "duration": 113,
    "start_time": "2022-09-05T08:16:18.144Z"
   },
   {
    "duration": 85,
    "start_time": "2022-09-05T08:16:18.259Z"
   },
   {
    "duration": 101,
    "start_time": "2022-09-05T08:16:18.347Z"
   },
   {
    "duration": 94,
    "start_time": "2022-09-05T08:16:18.450Z"
   },
   {
    "duration": 101,
    "start_time": "2022-09-05T08:16:18.547Z"
   },
   {
    "duration": 102,
    "start_time": "2022-09-05T08:16:18.650Z"
   },
   {
    "duration": 0,
    "start_time": "2022-09-05T08:16:18.753Z"
   },
   {
    "duration": 1,
    "start_time": "2022-09-05T08:16:18.754Z"
   },
   {
    "duration": 0,
    "start_time": "2022-09-05T08:16:18.756Z"
   },
   {
    "duration": 0,
    "start_time": "2022-09-05T08:16:18.757Z"
   },
   {
    "duration": 5,
    "start_time": "2022-09-05T08:26:08.769Z"
   },
   {
    "duration": 5,
    "start_time": "2022-09-05T08:27:22.783Z"
   },
   {
    "duration": 7,
    "start_time": "2022-09-05T08:29:01.581Z"
   },
   {
    "duration": 302,
    "start_time": "2022-09-05T08:29:55.939Z"
   },
   {
    "duration": 4,
    "start_time": "2022-09-05T08:45:05.991Z"
   },
   {
    "duration": 49,
    "start_time": "2022-09-05T08:47:01.106Z"
   },
   {
    "duration": 1068,
    "start_time": "2022-09-05T08:51:10.412Z"
   },
   {
    "duration": 436,
    "start_time": "2022-09-05T08:51:11.482Z"
   },
   {
    "duration": 48,
    "start_time": "2022-09-05T08:51:11.920Z"
   },
   {
    "duration": 10,
    "start_time": "2022-09-05T08:51:11.970Z"
   },
   {
    "duration": 33,
    "start_time": "2022-09-05T08:51:11.982Z"
   },
   {
    "duration": 5,
    "start_time": "2022-09-05T08:51:12.017Z"
   },
   {
    "duration": 7,
    "start_time": "2022-09-05T08:51:12.038Z"
   },
   {
    "duration": 50,
    "start_time": "2022-09-05T08:51:12.047Z"
   },
   {
    "duration": 144,
    "start_time": "2022-09-05T08:51:12.098Z"
   },
   {
    "duration": 129,
    "start_time": "2022-09-05T08:51:12.244Z"
   },
   {
    "duration": 73,
    "start_time": "2022-09-05T08:51:12.375Z"
   },
   {
    "duration": 95,
    "start_time": "2022-09-05T08:51:12.450Z"
   },
   {
    "duration": 123,
    "start_time": "2022-09-05T08:51:12.553Z"
   },
   {
    "duration": 5,
    "start_time": "2022-09-05T08:51:12.678Z"
   },
   {
    "duration": 270,
    "start_time": "2022-09-05T08:51:12.684Z"
   },
   {
    "duration": 390,
    "start_time": "2022-09-05T08:51:12.959Z"
   },
   {
    "duration": 0,
    "start_time": "2022-09-05T08:51:13.351Z"
   },
   {
    "duration": 0,
    "start_time": "2022-09-05T08:51:13.352Z"
   },
   {
    "duration": 0,
    "start_time": "2022-09-05T08:51:13.354Z"
   },
   {
    "duration": 0,
    "start_time": "2022-09-05T08:51:13.355Z"
   },
   {
    "duration": 160,
    "start_time": "2022-09-05T08:51:51.316Z"
   },
   {
    "duration": 45,
    "start_time": "2022-09-05T08:56:27.333Z"
   },
   {
    "duration": 122,
    "start_time": "2022-09-05T08:56:47.021Z"
   },
   {
    "duration": 40,
    "start_time": "2022-09-05T08:57:08.537Z"
   },
   {
    "duration": 56,
    "start_time": "2022-09-05T08:57:20.196Z"
   },
   {
    "duration": 30,
    "start_time": "2022-09-05T11:56:15.109Z"
   },
   {
    "duration": 125,
    "start_time": "2022-09-05T11:56:27.716Z"
   },
   {
    "duration": 119,
    "start_time": "2022-09-05T11:58:28.426Z"
   },
   {
    "duration": 197,
    "start_time": "2022-09-05T11:58:52.243Z"
   },
   {
    "duration": 11,
    "start_time": "2022-09-05T11:59:17.911Z"
   },
   {
    "duration": 13,
    "start_time": "2022-09-05T11:59:39.670Z"
   },
   {
    "duration": 19,
    "start_time": "2022-09-05T12:00:59.180Z"
   },
   {
    "duration": 5,
    "start_time": "2022-09-05T12:01:11.850Z"
   },
   {
    "duration": 122,
    "start_time": "2022-09-05T12:01:56.419Z"
   },
   {
    "duration": 5,
    "start_time": "2022-09-05T12:02:34.481Z"
   },
   {
    "duration": 14,
    "start_time": "2022-09-05T12:03:00.554Z"
   },
   {
    "duration": 52,
    "start_time": "2022-09-05T12:03:31.045Z"
   },
   {
    "duration": 11,
    "start_time": "2022-09-05T12:03:37.448Z"
   },
   {
    "duration": 13,
    "start_time": "2022-09-05T12:03:47.694Z"
   },
   {
    "duration": 3,
    "start_time": "2022-09-05T12:04:02.149Z"
   },
   {
    "duration": 17,
    "start_time": "2022-09-05T12:14:37.747Z"
   },
   {
    "duration": 13,
    "start_time": "2022-09-05T12:19:06.140Z"
   },
   {
    "duration": 13,
    "start_time": "2022-09-05T12:22:37.031Z"
   },
   {
    "duration": 17,
    "start_time": "2022-09-05T12:22:51.534Z"
   },
   {
    "duration": 5,
    "start_time": "2022-09-05T12:27:41.017Z"
   },
   {
    "duration": 24,
    "start_time": "2022-09-05T12:27:55.446Z"
   },
   {
    "duration": 155,
    "start_time": "2022-09-05T12:28:32.185Z"
   },
   {
    "duration": 1444,
    "start_time": "2022-09-05T12:32:37.865Z"
   },
   {
    "duration": 1360,
    "start_time": "2022-09-05T12:33:06.925Z"
   },
   {
    "duration": 1409,
    "start_time": "2022-09-05T12:35:47.120Z"
   },
   {
    "duration": 1387,
    "start_time": "2022-09-05T12:37:25.867Z"
   },
   {
    "duration": 1445,
    "start_time": "2022-09-05T12:37:37.583Z"
   },
   {
    "duration": 1496,
    "start_time": "2022-09-05T12:38:52.462Z"
   },
   {
    "duration": 13,
    "start_time": "2022-09-05T12:44:57.114Z"
   },
   {
    "duration": 20,
    "start_time": "2022-09-05T12:45:22.213Z"
   },
   {
    "duration": 35,
    "start_time": "2022-09-05T12:46:21.718Z"
   },
   {
    "duration": 31,
    "start_time": "2022-09-05T12:46:42.517Z"
   },
   {
    "duration": 61,
    "start_time": "2022-09-05T12:46:56.385Z"
   },
   {
    "duration": 21,
    "start_time": "2022-09-05T12:47:01.273Z"
   },
   {
    "duration": 21,
    "start_time": "2022-09-05T12:47:04.524Z"
   },
   {
    "duration": 3,
    "start_time": "2022-09-05T12:47:25.850Z"
   },
   {
    "duration": 428,
    "start_time": "2022-09-05T12:47:25.856Z"
   },
   {
    "duration": 52,
    "start_time": "2022-09-05T12:47:26.287Z"
   },
   {
    "duration": 10,
    "start_time": "2022-09-05T12:47:26.341Z"
   },
   {
    "duration": 35,
    "start_time": "2022-09-05T12:47:26.354Z"
   },
   {
    "duration": 6,
    "start_time": "2022-09-05T12:47:26.390Z"
   },
   {
    "duration": 10,
    "start_time": "2022-09-05T12:47:26.398Z"
   },
   {
    "duration": 131,
    "start_time": "2022-09-05T12:47:26.409Z"
   },
   {
    "duration": 111,
    "start_time": "2022-09-05T12:47:26.543Z"
   },
   {
    "duration": 112,
    "start_time": "2022-09-05T12:47:26.739Z"
   },
   {
    "duration": 92,
    "start_time": "2022-09-05T12:47:26.853Z"
   },
   {
    "duration": 292,
    "start_time": "2022-09-05T12:47:26.948Z"
   },
   {
    "duration": 102,
    "start_time": "2022-09-05T12:47:27.243Z"
   },
   {
    "duration": 23,
    "start_time": "2022-09-05T12:47:27.347Z"
   },
   {
    "duration": 3,
    "start_time": "2022-09-05T12:47:51.843Z"
   },
   {
    "duration": 1429,
    "start_time": "2022-09-05T12:48:43.213Z"
   },
   {
    "duration": 1229,
    "start_time": "2022-09-05T12:50:49.017Z"
   },
   {
    "duration": 1313,
    "start_time": "2022-09-05T13:12:52.455Z"
   },
   {
    "duration": 1244,
    "start_time": "2022-09-05T13:16:34.837Z"
   },
   {
    "duration": 5,
    "start_time": "2022-09-05T13:16:49.930Z"
   },
   {
    "duration": 1234,
    "start_time": "2022-09-05T13:16:54.679Z"
   },
   {
    "duration": 1240,
    "start_time": "2022-09-05T13:16:58.436Z"
   },
   {
    "duration": 1248,
    "start_time": "2022-09-05T13:17:01.343Z"
   },
   {
    "duration": 1445,
    "start_time": "2022-09-05T14:12:21.598Z"
   },
   {
    "duration": 8,
    "start_time": "2022-09-05T14:17:39.820Z"
   },
   {
    "duration": 1446,
    "start_time": "2022-09-05T14:17:42.581Z"
   },
   {
    "duration": 1431,
    "start_time": "2022-09-05T14:17:47.593Z"
   },
   {
    "duration": 1525,
    "start_time": "2022-09-05T14:17:51.437Z"
   },
   {
    "duration": 1221,
    "start_time": "2022-09-05T14:47:12.244Z"
   },
   {
    "duration": 11,
    "start_time": "2022-09-05T14:52:39.055Z"
   },
   {
    "duration": 19,
    "start_time": "2022-09-05T14:52:53.416Z"
   },
   {
    "duration": 18,
    "start_time": "2022-09-05T14:53:05.674Z"
   },
   {
    "duration": 5,
    "start_time": "2022-09-05T14:53:11.848Z"
   },
   {
    "duration": 1437,
    "start_time": "2022-09-05T14:53:14.866Z"
   },
   {
    "duration": 1444,
    "start_time": "2022-09-05T14:53:18.947Z"
   },
   {
    "duration": 1433,
    "start_time": "2022-09-05T14:53:22.601Z"
   },
   {
    "duration": 1062,
    "start_time": "2022-09-05T14:53:39.462Z"
   },
   {
    "duration": 394,
    "start_time": "2022-09-05T14:53:40.527Z"
   },
   {
    "duration": 35,
    "start_time": "2022-09-05T14:53:40.923Z"
   },
   {
    "duration": 10,
    "start_time": "2022-09-05T14:53:40.960Z"
   },
   {
    "duration": 31,
    "start_time": "2022-09-05T14:53:40.973Z"
   },
   {
    "duration": 6,
    "start_time": "2022-09-05T14:53:41.006Z"
   },
   {
    "duration": 35,
    "start_time": "2022-09-05T14:53:41.014Z"
   },
   {
    "duration": 95,
    "start_time": "2022-09-05T14:53:41.050Z"
   },
   {
    "duration": 293,
    "start_time": "2022-09-05T14:53:41.147Z"
   },
   {
    "duration": 124,
    "start_time": "2022-09-05T14:53:41.442Z"
   },
   {
    "duration": 175,
    "start_time": "2022-09-05T14:53:41.568Z"
   },
   {
    "duration": 300,
    "start_time": "2022-09-05T14:53:41.745Z"
   },
   {
    "duration": 92,
    "start_time": "2022-09-05T14:53:42.047Z"
   },
   {
    "duration": 5,
    "start_time": "2022-09-05T14:53:42.142Z"
   },
   {
    "duration": 106,
    "start_time": "2022-09-05T14:53:42.149Z"
   },
   {
    "duration": 1240,
    "start_time": "2022-09-05T14:53:42.257Z"
   },
   {
    "duration": 4,
    "start_time": "2022-09-05T14:53:43.499Z"
   },
   {
    "duration": 1433,
    "start_time": "2022-09-05T14:53:43.505Z"
   },
   {
    "duration": 1443,
    "start_time": "2022-09-05T14:53:44.940Z"
   },
   {
    "duration": 1382,
    "start_time": "2022-09-05T14:53:46.385Z"
   }
  ],
  "kernelspec": {
   "display_name": "Python 3 (ipykernel)",
   "language": "python",
   "name": "python3"
  },
  "language_info": {
   "codemirror_mode": {
    "name": "ipython",
    "version": 3
   },
   "file_extension": ".py",
   "mimetype": "text/x-python",
   "name": "python",
   "nbconvert_exporter": "python",
   "pygments_lexer": "ipython3",
   "version": "3.9.12"
  },
  "toc": {
   "base_numbering": 1,
   "nav_menu": {},
   "number_sections": true,
   "sideBar": true,
   "skip_h1_title": true,
   "title_cell": "Table of Contents",
   "title_sidebar": "Contents",
   "toc_cell": false,
   "toc_position": {
    "height": "calc(100% - 180px)",
    "left": "10px",
    "top": "150px",
    "width": "165px"
   },
   "toc_section_display": true,
   "toc_window_display": true
  }
 },
 "nbformat": 4,
 "nbformat_minor": 2
}
