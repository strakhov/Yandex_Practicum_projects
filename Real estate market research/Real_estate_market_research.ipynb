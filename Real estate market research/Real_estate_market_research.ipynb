{
 "cells": [
  {
   "cell_type": "markdown",
   "metadata": {},
   "source": [
    "# Исследование объявлений о продаже квартир\n",
    "\n",
    "В вашем распоряжении данные сервиса Яндекс.Недвижимость — архив объявлений о продаже квартир в Санкт-Петербурге и соседних населённых пунктах за несколько лет. Нужно научиться определять рыночную стоимость объектов недвижимости. Наша задача — установить параметры. Это позволит построить автоматизированную систему: она отследит аномалии и мошенническую деятельность. \n",
    "\n",
    "По каждой квартире на продажу доступны два вида данных. Первые вписаны пользователем, вторые — получены автоматически на основе картографических данных. Например, расстояние до центра, аэропорта, ближайшего парка и водоёма. "
   ]
  },
  {
   "cell_type": "markdown",
   "metadata": {},
   "source": [
    "### Изучим датасет"
   ]
  },
  {
   "cell_type": "code",
   "execution_count": 1,
   "metadata": {},
   "outputs": [],
   "source": [
    "import pandas as pd\n",
    "import matplotlib.pyplot as plt"
   ]
  },
  {
   "cell_type": "code",
   "execution_count": 2,
   "metadata": {},
   "outputs": [
    {
     "name": "stdout",
     "output_type": "stream",
     "text": [
      "<class 'pandas.core.frame.DataFrame'>\n",
      "RangeIndex: 23699 entries, 0 to 23698\n",
      "Data columns (total 22 columns):\n",
      " #   Column                Non-Null Count  Dtype  \n",
      "---  ------                --------------  -----  \n",
      " 0   total_images          23699 non-null  int64  \n",
      " 1   last_price            23699 non-null  float64\n",
      " 2   total_area            23699 non-null  float64\n",
      " 3   first_day_exposition  23699 non-null  object \n",
      " 4   rooms                 23699 non-null  int64  \n",
      " 5   ceiling_height        14504 non-null  float64\n",
      " 6   floors_total          23613 non-null  float64\n",
      " 7   living_area           21796 non-null  float64\n",
      " 8   floor                 23699 non-null  int64  \n",
      " 9   is_apartment          2775 non-null   object \n",
      " 10  studio                23699 non-null  bool   \n",
      " 11  open_plan             23699 non-null  bool   \n",
      " 12  kitchen_area          21421 non-null  float64\n",
      " 13  balcony               12180 non-null  float64\n",
      " 14  locality_name         23650 non-null  object \n",
      " 15  airports_nearest      18157 non-null  float64\n",
      " 16  cityCenters_nearest   18180 non-null  float64\n",
      " 17  parks_around3000      18181 non-null  float64\n",
      " 18  parks_nearest         8079 non-null   float64\n",
      " 19  ponds_around3000      18181 non-null  float64\n",
      " 20  ponds_nearest         9110 non-null   float64\n",
      " 21  days_exposition       20518 non-null  float64\n",
      "dtypes: bool(2), float64(14), int64(3), object(3)\n",
      "memory usage: 3.7+ MB\n",
      "None\n"
     ]
    }
   ],
   "source": [
    "data = pd.read_csv('C:/Users/Xiaomi/Desktop/Oleg/Docs/Практикум/3 спринт Исследовательский анализ/real_estate_data.csv', sep=\"\\t\", decimal='.')\n",
    "                   \n",
    "print(data.info())"
   ]
  },
  {
   "cell_type": "code",
   "execution_count": 3,
   "metadata": {},
   "outputs": [
    {
     "data": {
      "text/html": [
       "<div>\n",
       "<style scoped>\n",
       "    .dataframe tbody tr th:only-of-type {\n",
       "        vertical-align: middle;\n",
       "    }\n",
       "\n",
       "    .dataframe tbody tr th {\n",
       "        vertical-align: top;\n",
       "    }\n",
       "\n",
       "    .dataframe thead th {\n",
       "        text-align: right;\n",
       "    }\n",
       "</style>\n",
       "<table border=\"1\" class=\"dataframe\">\n",
       "  <thead>\n",
       "    <tr style=\"text-align: right;\">\n",
       "      <th></th>\n",
       "      <th>total_images</th>\n",
       "      <th>last_price</th>\n",
       "      <th>total_area</th>\n",
       "      <th>first_day_exposition</th>\n",
       "      <th>rooms</th>\n",
       "      <th>ceiling_height</th>\n",
       "      <th>floors_total</th>\n",
       "      <th>living_area</th>\n",
       "      <th>floor</th>\n",
       "      <th>is_apartment</th>\n",
       "      <th>...</th>\n",
       "      <th>kitchen_area</th>\n",
       "      <th>balcony</th>\n",
       "      <th>locality_name</th>\n",
       "      <th>airports_nearest</th>\n",
       "      <th>cityCenters_nearest</th>\n",
       "      <th>parks_around3000</th>\n",
       "      <th>parks_nearest</th>\n",
       "      <th>ponds_around3000</th>\n",
       "      <th>ponds_nearest</th>\n",
       "      <th>days_exposition</th>\n",
       "    </tr>\n",
       "  </thead>\n",
       "  <tbody>\n",
       "    <tr>\n",
       "      <th>0</th>\n",
       "      <td>20</td>\n",
       "      <td>13000000.0</td>\n",
       "      <td>108.0</td>\n",
       "      <td>2019-03-07T00:00:00</td>\n",
       "      <td>3</td>\n",
       "      <td>2.70</td>\n",
       "      <td>16.0</td>\n",
       "      <td>51.0</td>\n",
       "      <td>8</td>\n",
       "      <td>NaN</td>\n",
       "      <td>...</td>\n",
       "      <td>25.0</td>\n",
       "      <td>NaN</td>\n",
       "      <td>Санкт-Петербург</td>\n",
       "      <td>18863.0</td>\n",
       "      <td>16028.0</td>\n",
       "      <td>1.0</td>\n",
       "      <td>482.0</td>\n",
       "      <td>2.0</td>\n",
       "      <td>755.0</td>\n",
       "      <td>NaN</td>\n",
       "    </tr>\n",
       "    <tr>\n",
       "      <th>1</th>\n",
       "      <td>7</td>\n",
       "      <td>3350000.0</td>\n",
       "      <td>40.4</td>\n",
       "      <td>2018-12-04T00:00:00</td>\n",
       "      <td>1</td>\n",
       "      <td>NaN</td>\n",
       "      <td>11.0</td>\n",
       "      <td>18.6</td>\n",
       "      <td>1</td>\n",
       "      <td>NaN</td>\n",
       "      <td>...</td>\n",
       "      <td>11.0</td>\n",
       "      <td>2.0</td>\n",
       "      <td>посёлок Шушары</td>\n",
       "      <td>12817.0</td>\n",
       "      <td>18603.0</td>\n",
       "      <td>0.0</td>\n",
       "      <td>NaN</td>\n",
       "      <td>0.0</td>\n",
       "      <td>NaN</td>\n",
       "      <td>81.0</td>\n",
       "    </tr>\n",
       "    <tr>\n",
       "      <th>2</th>\n",
       "      <td>10</td>\n",
       "      <td>5196000.0</td>\n",
       "      <td>56.0</td>\n",
       "      <td>2015-08-20T00:00:00</td>\n",
       "      <td>2</td>\n",
       "      <td>NaN</td>\n",
       "      <td>5.0</td>\n",
       "      <td>34.3</td>\n",
       "      <td>4</td>\n",
       "      <td>NaN</td>\n",
       "      <td>...</td>\n",
       "      <td>8.3</td>\n",
       "      <td>0.0</td>\n",
       "      <td>Санкт-Петербург</td>\n",
       "      <td>21741.0</td>\n",
       "      <td>13933.0</td>\n",
       "      <td>1.0</td>\n",
       "      <td>90.0</td>\n",
       "      <td>2.0</td>\n",
       "      <td>574.0</td>\n",
       "      <td>558.0</td>\n",
       "    </tr>\n",
       "    <tr>\n",
       "      <th>3</th>\n",
       "      <td>0</td>\n",
       "      <td>64900000.0</td>\n",
       "      <td>159.0</td>\n",
       "      <td>2015-07-24T00:00:00</td>\n",
       "      <td>3</td>\n",
       "      <td>NaN</td>\n",
       "      <td>14.0</td>\n",
       "      <td>NaN</td>\n",
       "      <td>9</td>\n",
       "      <td>NaN</td>\n",
       "      <td>...</td>\n",
       "      <td>NaN</td>\n",
       "      <td>0.0</td>\n",
       "      <td>Санкт-Петербург</td>\n",
       "      <td>28098.0</td>\n",
       "      <td>6800.0</td>\n",
       "      <td>2.0</td>\n",
       "      <td>84.0</td>\n",
       "      <td>3.0</td>\n",
       "      <td>234.0</td>\n",
       "      <td>424.0</td>\n",
       "    </tr>\n",
       "    <tr>\n",
       "      <th>4</th>\n",
       "      <td>2</td>\n",
       "      <td>10000000.0</td>\n",
       "      <td>100.0</td>\n",
       "      <td>2018-06-19T00:00:00</td>\n",
       "      <td>2</td>\n",
       "      <td>3.03</td>\n",
       "      <td>14.0</td>\n",
       "      <td>32.0</td>\n",
       "      <td>13</td>\n",
       "      <td>NaN</td>\n",
       "      <td>...</td>\n",
       "      <td>41.0</td>\n",
       "      <td>NaN</td>\n",
       "      <td>Санкт-Петербург</td>\n",
       "      <td>31856.0</td>\n",
       "      <td>8098.0</td>\n",
       "      <td>2.0</td>\n",
       "      <td>112.0</td>\n",
       "      <td>1.0</td>\n",
       "      <td>48.0</td>\n",
       "      <td>121.0</td>\n",
       "    </tr>\n",
       "  </tbody>\n",
       "</table>\n",
       "<p>5 rows × 22 columns</p>\n",
       "</div>"
      ],
      "text/plain": [
       "   total_images  last_price  total_area first_day_exposition  rooms  \\\n",
       "0            20  13000000.0       108.0  2019-03-07T00:00:00      3   \n",
       "1             7   3350000.0        40.4  2018-12-04T00:00:00      1   \n",
       "2            10   5196000.0        56.0  2015-08-20T00:00:00      2   \n",
       "3             0  64900000.0       159.0  2015-07-24T00:00:00      3   \n",
       "4             2  10000000.0       100.0  2018-06-19T00:00:00      2   \n",
       "\n",
       "   ceiling_height  floors_total  living_area  floor is_apartment  ...  \\\n",
       "0            2.70          16.0         51.0      8          NaN  ...   \n",
       "1             NaN          11.0         18.6      1          NaN  ...   \n",
       "2             NaN           5.0         34.3      4          NaN  ...   \n",
       "3             NaN          14.0          NaN      9          NaN  ...   \n",
       "4            3.03          14.0         32.0     13          NaN  ...   \n",
       "\n",
       "   kitchen_area  balcony    locality_name  airports_nearest  \\\n",
       "0          25.0      NaN  Санкт-Петербург           18863.0   \n",
       "1          11.0      2.0   посёлок Шушары           12817.0   \n",
       "2           8.3      0.0  Санкт-Петербург           21741.0   \n",
       "3           NaN      0.0  Санкт-Петербург           28098.0   \n",
       "4          41.0      NaN  Санкт-Петербург           31856.0   \n",
       "\n",
       "  cityCenters_nearest  parks_around3000  parks_nearest  ponds_around3000  \\\n",
       "0             16028.0               1.0          482.0               2.0   \n",
       "1             18603.0               0.0            NaN               0.0   \n",
       "2             13933.0               1.0           90.0               2.0   \n",
       "3              6800.0               2.0           84.0               3.0   \n",
       "4              8098.0               2.0          112.0               1.0   \n",
       "\n",
       "   ponds_nearest  days_exposition  \n",
       "0          755.0              NaN  \n",
       "1            NaN             81.0  \n",
       "2          574.0            558.0  \n",
       "3          234.0            424.0  \n",
       "4           48.0            121.0  \n",
       "\n",
       "[5 rows x 22 columns]"
      ]
     },
     "metadata": {},
     "output_type": "display_data"
    }
   ],
   "source": [
    "display(data.head(5))"
   ]
  },
  {
   "cell_type": "code",
   "execution_count": 4,
   "metadata": {},
   "outputs": [
    {
     "data": {
      "image/png": "[encoded data removed]",
      "text/plain": [
       "<Figure size 1080x1440 with 20 Axes>"
      ]
     },
     "metadata": {
      "needs_background": "light"
     },
     "output_type": "display_data"
    }
   ],
   "source": [
    "data.hist(figsize=(15, 20));"
   ]
  },
  {
   "cell_type": "markdown",
   "metadata": {},
   "source": [
    "Данные нуждаются в предобработке, т.к. из 21 столбца в 14 есть пропуски. Столбец cityCenters_nearest прописан не в змеином регистре. Столбец с датой нуждается в форматировании to_datetime, также желательно поменять формат некоторых столбцов с float на int, например, в столбцах floors_total, balcony, где значение не должно быть дробным.\n",
    "По гистограммам можно сделать промежуточный вывод о наличии выбросов в столбцах last_price, total_area, rooms, ceiling_height, living_area, kitchen_area."
   ]
  },
  {
   "cell_type": "markdown",
   "metadata": {},
   "source": [
    "### Предобработка данных"
   ]
  },
  {
   "cell_type": "code",
   "execution_count": 5,
   "metadata": {
    "scrolled": true
   },
   "outputs": [],
   "source": [
    "#приведение заголовка к змеиному регистру\n",
    "data = data.rename(columns = {'cityCenters_nearest': 'city_centers_nearest'})"
   ]
  },
  {
   "cell_type": "markdown",
   "metadata": {},
   "source": [
    "#### Заполнение пропусков"
   ]
  },
  {
   "cell_type": "code",
   "execution_count": 6,
   "metadata": {},
   "outputs": [],
   "source": [
    "#пропуски в is_apartment заполняю на False, кол-во балконов на 0, т.к. вероятнее всего значение равно нулю и пропущено намеренно\n",
    "data['is_apartment'] = data['is_apartment'].fillna(False)\n",
    "data['balcony'] = data['balcony'].fillna(0)\n",
    "\n",
    "#пропущенное кол-во этажей заполняю этажом объекта\n",
    "data['floors_total'] = data['floors_total'].fillna(data['floor'])\n",
    "\n",
    "#жилую площадь и площадь кухни заполняю средним отношением жилой площади / кухни к общей площади объекта\n",
    "data['living_area'] = data['living_area'].fillna((data['living_area'] / data['total_area']).mean() * data['total_area'])\n",
    "data['kitchen_area'] = data['kitchen_area'].fillna((data['kitchen_area'] / data['total_area']).mean() * data['total_area'])\n",
    "\n",
    "#пропущенные населенные пункты заполняю unknown\n",
    "data['locality_name'] = data['locality_name'].fillna('unknown')"
   ]
  },
  {
   "cell_type": "markdown",
   "metadata": {},
   "source": [
    "Пропуски стоят в столбцах, необязательных к заполнению, например, ceiling_height, скорее всего данные не были внесены самими продавцами квартир. Заполнение их любым значением может исказить данные, поэтому оставляю пропуски.\n",
    "\n",
    "Пропуски в airports_nearest, city_centers_nearest, parks_around3000, ponds_around3000, ponds_nearest по большей части стоят в маленьких населенных пунктах, за пределами больших городов. Скорее всего их заполнение автоматическое, но работает только для объектов недвижимости в крупных городах, где эти параметры имеют большое значение. Заполнение их нулем может исказить данные, поэтому эти значения оставлю пропущенными. Пропуски в parks_nearest стоят скорее всего в квартирах, в пешей доступности от которых нет парков.\n",
    "\n",
    "Пропуск в столбце days_exposition возможно вызван ошибками выгрузки. Заполнение пропусков нулем, единицей, средним/медианой здесь также может исказить анализ и подтолкнуть к неверным выводам, поэтому оставляю эти пропуски."
   ]
  },
  {
   "cell_type": "markdown",
   "metadata": {},
   "source": [
    "#### Устранение дубликатов"
   ]
  },
  {
   "cell_type": "code",
   "execution_count": 7,
   "metadata": {},
   "outputs": [
    {
     "data": {
      "text/plain": [
       "0"
      ]
     },
     "execution_count": 7,
     "metadata": {},
     "output_type": "execute_result"
    }
   ],
   "source": [
    "#проверяю наличие явных дубликатов\n",
    "data.duplicated().sum()"
   ]
  },
  {
   "cell_type": "code",
   "execution_count": 8,
   "metadata": {},
   "outputs": [
    {
     "data": {
      "text/plain": [
       "['unknown',\n",
       " 'Бокситогорск',\n",
       " 'Волосово',\n",
       " 'Волхов',\n",
       " 'Всеволожск',\n",
       " 'Выборг',\n",
       " 'Высоцк',\n",
       " 'Гатчина',\n",
       " 'Зеленогорск',\n",
       " 'Ивангород',\n",
       " 'Каменногорск',\n",
       " 'Кингисепп',\n",
       " 'Кириши',\n",
       " 'Кировск',\n",
       " 'Колпино',\n",
       " 'Коммунар',\n",
       " 'Красное Село',\n",
       " 'Кронштадт',\n",
       " 'Кудрово',\n",
       " 'Лодейное Поле',\n",
       " 'Ломоносов',\n",
       " 'Луга',\n",
       " 'Любань',\n",
       " 'Мурино',\n",
       " 'Никольское',\n",
       " 'Новая Ладога',\n",
       " 'Отрадное',\n",
       " 'Павловск',\n",
       " 'Петергоф',\n",
       " 'Пикалёво',\n",
       " 'Подпорожье',\n",
       " 'Приморск',\n",
       " 'Приозерск',\n",
       " 'Пушкин',\n",
       " 'Санкт-Петербург',\n",
       " 'Светогорск',\n",
       " 'Сертолово',\n",
       " 'Сестрорецк',\n",
       " 'Сланцы',\n",
       " 'Сосновый Бор',\n",
       " 'Сясьстрой',\n",
       " 'Тихвин',\n",
       " 'Тосно',\n",
       " 'Шлиссельбург',\n",
       " 'городской поселок Большая Ижора',\n",
       " 'городской поселок Янино-1',\n",
       " 'городской посёлок Будогощь',\n",
       " 'городской посёлок Виллози',\n",
       " 'городской посёлок Лесогорский',\n",
       " 'городской посёлок Мга',\n",
       " 'городской посёлок Назия',\n",
       " 'городской посёлок Новоселье',\n",
       " 'городской посёлок Павлово',\n",
       " 'городской посёлок Рощино',\n",
       " 'городской посёлок Свирьстрой',\n",
       " 'городской посёлок Советский',\n",
       " 'городской посёлок Фёдоровское',\n",
       " 'городской посёлок Янино-1',\n",
       " 'деревня Агалатово',\n",
       " 'деревня Аро',\n",
       " 'деревня Батово',\n",
       " 'деревня Бегуницы',\n",
       " 'деревня Белогорка',\n",
       " 'деревня Большая Вруда',\n",
       " 'деревня Большая Пустомержа',\n",
       " 'деревня Большие Колпаны',\n",
       " 'деревня Большое Рейзино',\n",
       " 'деревня Большой Сабск',\n",
       " 'деревня Бор',\n",
       " 'деревня Борисова Грива',\n",
       " 'деревня Ваганово',\n",
       " 'деревня Вартемяги',\n",
       " 'деревня Вахнова Кара',\n",
       " 'деревня Выскатка',\n",
       " 'деревня Гарболово',\n",
       " 'деревня Глинка',\n",
       " 'деревня Горбунки',\n",
       " 'деревня Гостилицы',\n",
       " 'деревня Заклинье',\n",
       " 'деревня Заневка',\n",
       " 'деревня Зимитицы',\n",
       " 'деревня Извара',\n",
       " 'деревня Иссад',\n",
       " 'деревня Калитино',\n",
       " 'деревня Кальтино',\n",
       " 'деревня Камышовка',\n",
       " 'деревня Каськово',\n",
       " 'деревня Келози',\n",
       " 'деревня Кипень',\n",
       " 'деревня Кисельня',\n",
       " 'деревня Колтуши',\n",
       " 'деревня Коркино',\n",
       " 'деревня Котлы',\n",
       " 'деревня Кривко',\n",
       " 'деревня Кудрово',\n",
       " 'деревня Кузьмолово',\n",
       " 'деревня Курковицы',\n",
       " 'деревня Куровицы',\n",
       " 'деревня Куттузи',\n",
       " 'деревня Лаврики',\n",
       " 'деревня Лаголово',\n",
       " 'деревня Лампово',\n",
       " 'деревня Лесколово',\n",
       " 'деревня Лопухинка',\n",
       " 'деревня Лупполово',\n",
       " 'деревня Малая Романовка',\n",
       " 'деревня Малое Верево',\n",
       " 'деревня Малое Карлино',\n",
       " 'деревня Малые Колпаны',\n",
       " 'деревня Мануйлово',\n",
       " 'деревня Меньково',\n",
       " 'деревня Мины',\n",
       " 'деревня Мистолово',\n",
       " 'деревня Ненимяки',\n",
       " 'деревня Нижние Осельки',\n",
       " 'деревня Нижняя',\n",
       " 'деревня Низино',\n",
       " 'деревня Новое Девяткино',\n",
       " 'деревня Новолисино',\n",
       " 'деревня Нурма',\n",
       " 'деревня Оржицы',\n",
       " 'деревня Парицы',\n",
       " 'деревня Пельгора',\n",
       " 'деревня Пеники',\n",
       " 'деревня Пижма',\n",
       " 'деревня Пикколово',\n",
       " 'деревня Пудомяги',\n",
       " 'деревня Пустынка',\n",
       " 'деревня Пчева',\n",
       " 'деревня Рабитицы',\n",
       " 'деревня Разбегаево',\n",
       " 'деревня Раздолье',\n",
       " 'деревня Разметелево',\n",
       " 'деревня Рапполово',\n",
       " 'деревня Реброво',\n",
       " 'деревня Русско',\n",
       " 'деревня Сижно',\n",
       " 'деревня Снегирёвка',\n",
       " 'деревня Старая',\n",
       " 'деревня Старая Пустошь',\n",
       " 'деревня Старое Хинколово',\n",
       " 'деревня Старополье',\n",
       " 'деревня Старосиверская',\n",
       " 'деревня Старые Бегуницы',\n",
       " 'деревня Суоранда',\n",
       " 'деревня Сяськелево',\n",
       " 'деревня Тарасово',\n",
       " 'деревня Терпилицы',\n",
       " 'деревня Тихковицы',\n",
       " 'деревня Тойворово',\n",
       " 'деревня Торосово',\n",
       " 'деревня Торошковичи',\n",
       " 'деревня Трубников Бор',\n",
       " 'деревня Фалилеево',\n",
       " 'деревня Фёдоровское',\n",
       " 'деревня Хапо-Ое',\n",
       " 'деревня Хязельки',\n",
       " 'деревня Чудской Бор',\n",
       " 'деревня Шпаньково',\n",
       " 'деревня Щеглово',\n",
       " 'деревня Юкки',\n",
       " 'деревня Ялгино',\n",
       " 'деревня Яльгелево',\n",
       " 'деревня Ям-Тесово',\n",
       " 'коттеджный поселок Кивеннапа Север',\n",
       " 'коттеджный поселок Счастье',\n",
       " 'коттеджный посёлок Лесное',\n",
       " 'поселок Аннино',\n",
       " 'поселок Барышево',\n",
       " 'поселок Бугры',\n",
       " 'поселок Возрождение',\n",
       " 'поселок Войсковицы',\n",
       " 'поселок Володарское',\n",
       " 'поселок Гаврилово',\n",
       " 'поселок Гарболово',\n",
       " 'поселок Гладкое',\n",
       " 'поселок Глажево',\n",
       " 'поселок Глебычево',\n",
       " 'поселок Гончарово',\n",
       " 'поселок Громово',\n",
       " 'поселок Дружноселье',\n",
       " 'поселок Елизаветино',\n",
       " 'поселок Жилгородок',\n",
       " 'поселок Жилпосёлок',\n",
       " 'поселок Житково',\n",
       " 'поселок Заводской',\n",
       " 'поселок Запорожское',\n",
       " 'поселок Зимитицы',\n",
       " 'поселок Ильичёво',\n",
       " 'поселок Калитино',\n",
       " 'поселок Каложицы',\n",
       " 'поселок Кингисеппский',\n",
       " 'поселок Кирпичное',\n",
       " 'поселок Кобралово',\n",
       " 'поселок Кобринское',\n",
       " 'поселок Коммунары',\n",
       " 'поселок Коробицыно',\n",
       " 'поселок Котельский',\n",
       " 'поселок Красная Долина',\n",
       " 'поселок Красносельское',\n",
       " 'поселок Лесное',\n",
       " 'поселок Лисий Нос',\n",
       " 'поселок Лукаши',\n",
       " 'поселок Любань',\n",
       " 'поселок Мельниково',\n",
       " 'поселок Мичуринское',\n",
       " 'поселок Молодцово',\n",
       " 'поселок Мурино',\n",
       " 'поселок Новый Свет',\n",
       " 'поселок Новый Учхоз',\n",
       " 'поселок Оредеж',\n",
       " 'поселок Пансионат Зелёный Бор',\n",
       " 'поселок Первомайское',\n",
       " 'поселок Перово',\n",
       " 'поселок Петровское',\n",
       " 'поселок Победа',\n",
       " 'поселок Поляны',\n",
       " 'поселок Почап',\n",
       " 'поселок Починок',\n",
       " 'поселок Пушное',\n",
       " 'поселок Пчевжа',\n",
       " 'поселок Рабитицы',\n",
       " 'поселок Романовка',\n",
       " 'поселок Ромашки',\n",
       " 'поселок Рябово',\n",
       " 'поселок Севастьяново',\n",
       " 'поселок Селезнёво',\n",
       " 'поселок Сельцо',\n",
       " 'поселок Семиозерье',\n",
       " 'поселок Семрино',\n",
       " 'поселок Серебрянский',\n",
       " 'поселок Совхозный',\n",
       " 'поселок Старая Малукса',\n",
       " 'поселок Стеклянный',\n",
       " 'поселок Сумино',\n",
       " 'поселок Суходолье',\n",
       " 'поселок Тельмана',\n",
       " 'поселок Терволово',\n",
       " 'поселок Торковичи',\n",
       " 'поселок Тёсово-4',\n",
       " 'поселок Углово',\n",
       " 'поселок Усть-Луга',\n",
       " 'поселок Ушаки',\n",
       " 'поселок Цвелодубово',\n",
       " 'поселок Цвылёво',\n",
       " 'поселок городского типа Большая Ижора',\n",
       " 'поселок городского типа Вырица',\n",
       " 'поселок городского типа Дружная Горка',\n",
       " 'поселок городского типа Дубровка',\n",
       " 'поселок городского типа Ефимовский',\n",
       " 'поселок городского типа Кондратьево',\n",
       " 'поселок городского типа Красный Бор',\n",
       " 'поселок городского типа Кузьмоловский',\n",
       " 'поселок городского типа Лебяжье',\n",
       " 'поселок городского типа Лесогорский',\n",
       " 'поселок городского типа Назия',\n",
       " 'поселок городского типа Никольский',\n",
       " 'поселок городского типа Приладожский',\n",
       " 'поселок городского типа Рахья',\n",
       " 'поселок городского типа Рощино',\n",
       " 'поселок городского типа Рябово',\n",
       " 'поселок городского типа Синявино',\n",
       " 'поселок городского типа Советский',\n",
       " 'поселок городского типа Токсово',\n",
       " 'поселок городского типа Форносово',\n",
       " 'поселок городского типа имени Свердлова',\n",
       " 'поселок станции Вещево',\n",
       " 'поселок станции Корнево',\n",
       " 'поселок станции Лужайка',\n",
       " 'поселок станции Приветнинское',\n",
       " 'посёлок Александровская',\n",
       " 'посёлок Алексеевка',\n",
       " 'посёлок Аннино',\n",
       " 'посёлок Белоостров',\n",
       " 'посёлок Бугры',\n",
       " 'посёлок Возрождение',\n",
       " 'посёлок Войскорово',\n",
       " 'посёлок Высокоключевой',\n",
       " 'посёлок Гаврилово',\n",
       " 'посёлок Дзержинского',\n",
       " 'посёлок Жилгородок',\n",
       " 'посёлок Ильичёво',\n",
       " 'посёлок Кикерино',\n",
       " 'посёлок Кобралово',\n",
       " 'посёлок Коробицыно',\n",
       " 'посёлок Левашово',\n",
       " 'посёлок Ленинское',\n",
       " 'посёлок Лисий Нос',\n",
       " 'посёлок Мельниково',\n",
       " 'посёлок Металлострой',\n",
       " 'посёлок Мичуринское',\n",
       " 'посёлок Молодёжное',\n",
       " 'посёлок Мурино',\n",
       " 'посёлок Мыза-Ивановка',\n",
       " 'посёлок Новогорелово',\n",
       " 'посёлок Новый Свет',\n",
       " 'посёлок Пансионат Зелёный Бор',\n",
       " 'посёлок Парголово',\n",
       " 'посёлок Перово',\n",
       " 'посёлок Песочный',\n",
       " 'посёлок Петро-Славянка',\n",
       " 'посёлок Петровское',\n",
       " 'посёлок Платформа 69-й километр',\n",
       " 'посёлок Плодовое',\n",
       " 'посёлок Плоское',\n",
       " 'посёлок Победа',\n",
       " 'посёлок Поляны',\n",
       " 'посёлок Понтонный',\n",
       " 'посёлок Пригородный',\n",
       " 'посёлок Пудость',\n",
       " 'посёлок Репино',\n",
       " 'посёлок Ропша',\n",
       " 'посёлок Сапёрное',\n",
       " 'посёлок Сапёрный',\n",
       " 'посёлок Сосново',\n",
       " 'посёлок Старая Малукса',\n",
       " 'посёлок Стеклянный',\n",
       " 'посёлок Стрельна',\n",
       " 'посёлок Суйда',\n",
       " 'посёлок Сумино',\n",
       " 'посёлок Тельмана',\n",
       " 'посёлок Терволово',\n",
       " 'посёлок Торфяное',\n",
       " 'посёлок Усть-Ижора',\n",
       " 'посёлок Усть-Луга',\n",
       " 'посёлок Форт Красная Горка',\n",
       " 'посёлок Шугозеро',\n",
       " 'посёлок Шушары',\n",
       " 'посёлок Щеглово',\n",
       " 'посёлок городского типа Важины',\n",
       " 'посёлок городского типа Вознесенье',\n",
       " 'посёлок городского типа Вырица',\n",
       " 'посёлок городского типа Красный Бор',\n",
       " 'посёлок городского типа Кузнечное',\n",
       " 'посёлок городского типа Кузьмоловский',\n",
       " 'посёлок городского типа Лебяжье',\n",
       " 'посёлок городского типа Мга',\n",
       " 'посёлок городского типа Павлово',\n",
       " 'посёлок городского типа Рощино',\n",
       " 'посёлок городского типа Рябово',\n",
       " 'посёлок городского типа Сиверский',\n",
       " 'посёлок городского типа Тайцы',\n",
       " 'посёлок городского типа Токсово',\n",
       " 'посёлок городского типа Ульяновка',\n",
       " 'посёлок городского типа Форносово',\n",
       " 'посёлок городского типа имени Морозова',\n",
       " 'посёлок городского типа имени Свердлова',\n",
       " 'посёлок при железнодорожной станции Вещево',\n",
       " 'посёлок при железнодорожной станции Приветнинское',\n",
       " 'посёлок станции Громово',\n",
       " 'посёлок станции Свирь',\n",
       " 'садоводческое некоммерческое товарищество Лесная Поляна',\n",
       " 'садовое товарищество Новая Ропша',\n",
       " 'садовое товарищество Приладожский',\n",
       " 'садовое товарищество Рахья',\n",
       " 'садовое товарищество Садко',\n",
       " 'село Копорье',\n",
       " 'село Никольское',\n",
       " 'село Павлово',\n",
       " 'село Паша',\n",
       " 'село Путилово',\n",
       " 'село Рождествено',\n",
       " 'село Русско-Высоцкое',\n",
       " 'село Старая Ладога',\n",
       " 'село Шум']"
      ]
     },
     "execution_count": 8,
     "metadata": {},
     "output_type": "execute_result"
    }
   ],
   "source": [
    "#проверяю неявные дубликаты в столбце locality_name\n",
    "sorted(data['locality_name'].unique())"
   ]
  },
  {
   "cell_type": "code",
   "execution_count": 9,
   "metadata": {},
   "outputs": [
    {
     "data": {
      "text/plain": [
       "365"
      ]
     },
     "execution_count": 9,
     "metadata": {},
     "output_type": "execute_result"
    }
   ],
   "source": [
    "#подсчет уникальных значений\n",
    "len(data['locality_name'].unique())"
   ]
  },
  {
   "cell_type": "code",
   "execution_count": 10,
   "metadata": {},
   "outputs": [
    {
     "data": {
      "text/plain": [
       "322"
      ]
     },
     "execution_count": 10,
     "metadata": {},
     "output_type": "execute_result"
    }
   ],
   "source": [
    "#убираю неявные дубликаты в столбце locality_name\n",
    "\n",
    "data['locality_name'] = data['locality_name'].str.replace('ё', 'е')\n",
    "data['locality_name'] = data['locality_name'].str.replace('поселок городского типа', 'городской поселок')\n",
    "data['locality_name'] = data['locality_name'].str.replace('поселок при железнодорожной станции', 'поселок станции')\n",
    "\n",
    "#подсчет уникальных значений, чтобы сразу видеть результат replace\n",
    "len(data['locality_name'].unique())"
   ]
  },
  {
   "cell_type": "markdown",
   "metadata": {},
   "source": [
    "#### Изменение типов данных"
   ]
  },
  {
   "cell_type": "code",
   "execution_count": 11,
   "metadata": {},
   "outputs": [],
   "source": [
    "#изменение типа данных с float на int в столбцах, где могут быть только целые значения - floors_total и balcony\n",
    "data['floors_total'] = data['floors_total'].astype('int')\n",
    "data['balcony'] = data['balcony'].astype('int')\n",
    "\n",
    "#преобразую даты в редактируемый формат методом to_datetime()\n",
    "data['first_day_exposition'] = pd.to_datetime(\n",
    "    data['first_day_exposition'], format = '%Y-%m-%dT%H:%M:%S'\n",
    ")"
   ]
  },
  {
   "cell_type": "markdown",
   "metadata": {},
   "source": [
    "Количество этажей и балконов может быть только целым числом, поэтому данные в этих столбцах преобразовал в int.\n",
    "Даты преобразовал в datetime, чтобы иметь возможность применять к датам методы pandas"
   ]
  },
  {
   "cell_type": "markdown",
   "metadata": {},
   "source": [
    "#### Обработка аномальных значений"
   ]
  },
  {
   "cell_type": "code",
   "execution_count": 12,
   "metadata": {},
   "outputs": [
    {
     "data": {
      "text/plain": [
       "'Высота потолков'"
      ]
     },
     "execution_count": 12,
     "metadata": {},
     "output_type": "execute_result"
    },
    {
     "data": {
      "image/png": "[encoded data removed]",
      "text/plain": [
       "<Figure size 432x288 with 1 Axes>"
      ]
     },
     "metadata": {
      "needs_background": "light"
     },
     "output_type": "display_data"
    }
   ],
   "source": [
    "data['ceiling_height'].hist(bins=100, range=(5, 100))\n",
    "'Высота потолков'"
   ]
  },
  {
   "cell_type": "markdown",
   "metadata": {},
   "source": [
    "На гистограмме видно, что есть квартиры с высотой потолков больше 20 м и даже 100 м. Возможно, в этих данных есть лишний ноль и реальная высота не 100, а 10 м. Также есть 3 квартиры с высотой потолков меньше 1.8 м. Приведем эти аномалии к более реалистичным значениям"
   ]
  },
  {
   "cell_type": "code",
   "execution_count": 13,
   "metadata": {},
   "outputs": [
    {
     "data": {
      "image/png": "[encoded data removed]",
      "text/plain": [
       "<Figure size 432x288 with 1 Axes>"
      ]
     },
     "metadata": {
      "needs_background": "light"
     },
     "output_type": "display_data"
    }
   ],
   "source": [
    "#data = data.query('20 > ceiling_height > 1.8')\n",
    "data.loc[data['ceiling_height'] < 1.8, 'ceiling_height'] = data['ceiling_height'].median()\n",
    "data.loc[data['ceiling_height'] > 25, 'ceiling_height'] = data['ceiling_height'] * 0.1\n",
    "data['ceiling_height'].hist(bins=100);"
   ]
  },
  {
   "cell_type": "code",
   "execution_count": 14,
   "metadata": {},
   "outputs": [
    {
     "data": {
      "text/html": [
       "<div>\n",
       "<style scoped>\n",
       "    .dataframe tbody tr th:only-of-type {\n",
       "        vertical-align: middle;\n",
       "    }\n",
       "\n",
       "    .dataframe tbody tr th {\n",
       "        vertical-align: top;\n",
       "    }\n",
       "\n",
       "    .dataframe thead th {\n",
       "        text-align: right;\n",
       "    }\n",
       "</style>\n",
       "<table border=\"1\" class=\"dataframe\">\n",
       "  <thead>\n",
       "    <tr style=\"text-align: right;\">\n",
       "      <th></th>\n",
       "      <th>total_images</th>\n",
       "      <th>last_price</th>\n",
       "      <th>total_area</th>\n",
       "      <th>first_day_exposition</th>\n",
       "      <th>rooms</th>\n",
       "      <th>ceiling_height</th>\n",
       "      <th>floors_total</th>\n",
       "      <th>living_area</th>\n",
       "      <th>floor</th>\n",
       "      <th>is_apartment</th>\n",
       "      <th>...</th>\n",
       "      <th>kitchen_area</th>\n",
       "      <th>balcony</th>\n",
       "      <th>locality_name</th>\n",
       "      <th>airports_nearest</th>\n",
       "      <th>city_centers_nearest</th>\n",
       "      <th>parks_around3000</th>\n",
       "      <th>parks_nearest</th>\n",
       "      <th>ponds_around3000</th>\n",
       "      <th>ponds_nearest</th>\n",
       "      <th>days_exposition</th>\n",
       "    </tr>\n",
       "  </thead>\n",
       "  <tbody>\n",
       "    <tr>\n",
       "      <th>648</th>\n",
       "      <td>3</td>\n",
       "      <td>17500000.0</td>\n",
       "      <td>183.7</td>\n",
       "      <td>2018-07-01</td>\n",
       "      <td>11</td>\n",
       "      <td>3.40</td>\n",
       "      <td>7</td>\n",
       "      <td>138.800000</td>\n",
       "      <td>7</td>\n",
       "      <td>False</td>\n",
       "      <td>...</td>\n",
       "      <td>13.300000</td>\n",
       "      <td>0</td>\n",
       "      <td>Санкт-Петербург</td>\n",
       "      <td>23606.0</td>\n",
       "      <td>3148.0</td>\n",
       "      <td>0.0</td>\n",
       "      <td>NaN</td>\n",
       "      <td>0.0</td>\n",
       "      <td>NaN</td>\n",
       "      <td>NaN</td>\n",
       "    </tr>\n",
       "    <tr>\n",
       "      <th>866</th>\n",
       "      <td>5</td>\n",
       "      <td>25000000.0</td>\n",
       "      <td>363.0</td>\n",
       "      <td>2017-12-23</td>\n",
       "      <td>14</td>\n",
       "      <td>3.16</td>\n",
       "      <td>5</td>\n",
       "      <td>222.000000</td>\n",
       "      <td>4</td>\n",
       "      <td>False</td>\n",
       "      <td>...</td>\n",
       "      <td>16.600000</td>\n",
       "      <td>0</td>\n",
       "      <td>Санкт-Петербург</td>\n",
       "      <td>38076.0</td>\n",
       "      <td>7950.0</td>\n",
       "      <td>0.0</td>\n",
       "      <td>NaN</td>\n",
       "      <td>2.0</td>\n",
       "      <td>435.0</td>\n",
       "      <td>418.0</td>\n",
       "    </tr>\n",
       "    <tr>\n",
       "      <th>4149</th>\n",
       "      <td>6</td>\n",
       "      <td>23000000.0</td>\n",
       "      <td>272.6</td>\n",
       "      <td>2018-01-11</td>\n",
       "      <td>10</td>\n",
       "      <td>3.14</td>\n",
       "      <td>7</td>\n",
       "      <td>145.900000</td>\n",
       "      <td>7</td>\n",
       "      <td>False</td>\n",
       "      <td>...</td>\n",
       "      <td>18.800000</td>\n",
       "      <td>1</td>\n",
       "      <td>Санкт-Петербург</td>\n",
       "      <td>10726.0</td>\n",
       "      <td>12169.0</td>\n",
       "      <td>1.0</td>\n",
       "      <td>191.0</td>\n",
       "      <td>1.0</td>\n",
       "      <td>531.0</td>\n",
       "      <td>NaN</td>\n",
       "    </tr>\n",
       "    <tr>\n",
       "      <th>5358</th>\n",
       "      <td>20</td>\n",
       "      <td>65000000.0</td>\n",
       "      <td>590.0</td>\n",
       "      <td>2019-02-14</td>\n",
       "      <td>15</td>\n",
       "      <td>3.50</td>\n",
       "      <td>6</td>\n",
       "      <td>409.000000</td>\n",
       "      <td>3</td>\n",
       "      <td>False</td>\n",
       "      <td>...</td>\n",
       "      <td>100.000000</td>\n",
       "      <td>0</td>\n",
       "      <td>Санкт-Петербург</td>\n",
       "      <td>24447.0</td>\n",
       "      <td>4666.0</td>\n",
       "      <td>1.0</td>\n",
       "      <td>767.0</td>\n",
       "      <td>0.0</td>\n",
       "      <td>NaN</td>\n",
       "      <td>14.0</td>\n",
       "    </tr>\n",
       "    <tr>\n",
       "      <th>8822</th>\n",
       "      <td>14</td>\n",
       "      <td>49968900.0</td>\n",
       "      <td>398.0</td>\n",
       "      <td>2017-07-12</td>\n",
       "      <td>9</td>\n",
       "      <td>3.00</td>\n",
       "      <td>2</td>\n",
       "      <td>160.100000</td>\n",
       "      <td>1</td>\n",
       "      <td>False</td>\n",
       "      <td>...</td>\n",
       "      <td>41.000000</td>\n",
       "      <td>0</td>\n",
       "      <td>Санкт-Петербург</td>\n",
       "      <td>17720.0</td>\n",
       "      <td>16722.0</td>\n",
       "      <td>3.0</td>\n",
       "      <td>471.0</td>\n",
       "      <td>2.0</td>\n",
       "      <td>440.0</td>\n",
       "      <td>471.0</td>\n",
       "    </tr>\n",
       "    <tr>\n",
       "      <th>8860</th>\n",
       "      <td>12</td>\n",
       "      <td>17000000.0</td>\n",
       "      <td>235.0</td>\n",
       "      <td>2018-07-14</td>\n",
       "      <td>9</td>\n",
       "      <td>3.00</td>\n",
       "      <td>6</td>\n",
       "      <td>132.719898</td>\n",
       "      <td>3</td>\n",
       "      <td>False</td>\n",
       "      <td>...</td>\n",
       "      <td>44.028364</td>\n",
       "      <td>0</td>\n",
       "      <td>Санкт-Петербург</td>\n",
       "      <td>24466.0</td>\n",
       "      <td>5034.0</td>\n",
       "      <td>1.0</td>\n",
       "      <td>346.0</td>\n",
       "      <td>0.0</td>\n",
       "      <td>NaN</td>\n",
       "      <td>90.0</td>\n",
       "    </tr>\n",
       "    <tr>\n",
       "      <th>9550</th>\n",
       "      <td>10</td>\n",
       "      <td>23500000.0</td>\n",
       "      <td>313.0</td>\n",
       "      <td>2017-02-13</td>\n",
       "      <td>9</td>\n",
       "      <td>3.20</td>\n",
       "      <td>6</td>\n",
       "      <td>179.200000</td>\n",
       "      <td>5</td>\n",
       "      <td>False</td>\n",
       "      <td>...</td>\n",
       "      <td>13.200000</td>\n",
       "      <td>0</td>\n",
       "      <td>Санкт-Петербург</td>\n",
       "      <td>38435.0</td>\n",
       "      <td>10138.0</td>\n",
       "      <td>1.0</td>\n",
       "      <td>146.0</td>\n",
       "      <td>0.0</td>\n",
       "      <td>NaN</td>\n",
       "      <td>NaN</td>\n",
       "    </tr>\n",
       "    <tr>\n",
       "      <th>9688</th>\n",
       "      <td>8</td>\n",
       "      <td>33000000.0</td>\n",
       "      <td>194.1</td>\n",
       "      <td>2017-02-07</td>\n",
       "      <td>11</td>\n",
       "      <td>3.43</td>\n",
       "      <td>5</td>\n",
       "      <td>129.000000</td>\n",
       "      <td>2</td>\n",
       "      <td>False</td>\n",
       "      <td>...</td>\n",
       "      <td>11.900000</td>\n",
       "      <td>0</td>\n",
       "      <td>Санкт-Петербург</td>\n",
       "      <td>21469.0</td>\n",
       "      <td>1015.0</td>\n",
       "      <td>1.0</td>\n",
       "      <td>686.0</td>\n",
       "      <td>2.0</td>\n",
       "      <td>66.0</td>\n",
       "      <td>813.0</td>\n",
       "    </tr>\n",
       "    <tr>\n",
       "      <th>13019</th>\n",
       "      <td>0</td>\n",
       "      <td>22250000.0</td>\n",
       "      <td>249.9</td>\n",
       "      <td>2019-04-23</td>\n",
       "      <td>9</td>\n",
       "      <td>3.20</td>\n",
       "      <td>5</td>\n",
       "      <td>157.000000</td>\n",
       "      <td>5</td>\n",
       "      <td>False</td>\n",
       "      <td>...</td>\n",
       "      <td>12.400000</td>\n",
       "      <td>0</td>\n",
       "      <td>Санкт-Петербург</td>\n",
       "      <td>10328.0</td>\n",
       "      <td>9987.0</td>\n",
       "      <td>2.0</td>\n",
       "      <td>352.0</td>\n",
       "      <td>0.0</td>\n",
       "      <td>NaN</td>\n",
       "      <td>NaN</td>\n",
       "    </tr>\n",
       "    <tr>\n",
       "      <th>13397</th>\n",
       "      <td>14</td>\n",
       "      <td>19500000.0</td>\n",
       "      <td>309.7</td>\n",
       "      <td>2016-02-03</td>\n",
       "      <td>9</td>\n",
       "      <td>NaN</td>\n",
       "      <td>5</td>\n",
       "      <td>199.000000</td>\n",
       "      <td>5</td>\n",
       "      <td>False</td>\n",
       "      <td>...</td>\n",
       "      <td>14.300000</td>\n",
       "      <td>0</td>\n",
       "      <td>Санкт-Петербург</td>\n",
       "      <td>10328.0</td>\n",
       "      <td>9987.0</td>\n",
       "      <td>2.0</td>\n",
       "      <td>352.0</td>\n",
       "      <td>0.0</td>\n",
       "      <td>NaN</td>\n",
       "      <td>468.0</td>\n",
       "    </tr>\n",
       "    <tr>\n",
       "      <th>14498</th>\n",
       "      <td>6</td>\n",
       "      <td>32250000.0</td>\n",
       "      <td>374.6</td>\n",
       "      <td>2018-06-09</td>\n",
       "      <td>19</td>\n",
       "      <td>NaN</td>\n",
       "      <td>5</td>\n",
       "      <td>264.500000</td>\n",
       "      <td>2</td>\n",
       "      <td>False</td>\n",
       "      <td>...</td>\n",
       "      <td>27.600000</td>\n",
       "      <td>0</td>\n",
       "      <td>Санкт-Петербург</td>\n",
       "      <td>19497.0</td>\n",
       "      <td>3574.0</td>\n",
       "      <td>0.0</td>\n",
       "      <td>NaN</td>\n",
       "      <td>2.0</td>\n",
       "      <td>548.0</td>\n",
       "      <td>114.0</td>\n",
       "    </tr>\n",
       "    <tr>\n",
       "      <th>15151</th>\n",
       "      <td>15</td>\n",
       "      <td>88000000.0</td>\n",
       "      <td>400.0</td>\n",
       "      <td>2019-03-27</td>\n",
       "      <td>9</td>\n",
       "      <td>2.50</td>\n",
       "      <td>2</td>\n",
       "      <td>250.000000</td>\n",
       "      <td>1</td>\n",
       "      <td>False</td>\n",
       "      <td>...</td>\n",
       "      <td>50.000000</td>\n",
       "      <td>0</td>\n",
       "      <td>Санкт-Петербург</td>\n",
       "      <td>24395.0</td>\n",
       "      <td>2725.0</td>\n",
       "      <td>2.0</td>\n",
       "      <td>315.0</td>\n",
       "      <td>1.0</td>\n",
       "      <td>578.0</td>\n",
       "      <td>NaN</td>\n",
       "    </tr>\n",
       "    <tr>\n",
       "      <th>16915</th>\n",
       "      <td>14</td>\n",
       "      <td>29000000.0</td>\n",
       "      <td>292.2</td>\n",
       "      <td>2017-01-12</td>\n",
       "      <td>9</td>\n",
       "      <td>3.35</td>\n",
       "      <td>5</td>\n",
       "      <td>225.900000</td>\n",
       "      <td>4</td>\n",
       "      <td>False</td>\n",
       "      <td>...</td>\n",
       "      <td>32.900000</td>\n",
       "      <td>1</td>\n",
       "      <td>Санкт-Петербург</td>\n",
       "      <td>24892.0</td>\n",
       "      <td>5162.0</td>\n",
       "      <td>2.0</td>\n",
       "      <td>263.0</td>\n",
       "      <td>0.0</td>\n",
       "      <td>NaN</td>\n",
       "      <td>825.0</td>\n",
       "    </tr>\n",
       "    <tr>\n",
       "      <th>18119</th>\n",
       "      <td>4</td>\n",
       "      <td>15500000.0</td>\n",
       "      <td>216.1</td>\n",
       "      <td>2016-07-04</td>\n",
       "      <td>10</td>\n",
       "      <td>3.15</td>\n",
       "      <td>5</td>\n",
       "      <td>161.400000</td>\n",
       "      <td>2</td>\n",
       "      <td>False</td>\n",
       "      <td>...</td>\n",
       "      <td>19.800000</td>\n",
       "      <td>0</td>\n",
       "      <td>Санкт-Петербург</td>\n",
       "      <td>24353.0</td>\n",
       "      <td>4921.0</td>\n",
       "      <td>1.0</td>\n",
       "      <td>368.0</td>\n",
       "      <td>0.0</td>\n",
       "      <td>NaN</td>\n",
       "      <td>11.0</td>\n",
       "    </tr>\n",
       "    <tr>\n",
       "      <th>18848</th>\n",
       "      <td>6</td>\n",
       "      <td>28500000.0</td>\n",
       "      <td>270.0</td>\n",
       "      <td>2015-03-02</td>\n",
       "      <td>16</td>\n",
       "      <td>3.00</td>\n",
       "      <td>4</td>\n",
       "      <td>180.000000</td>\n",
       "      <td>4</td>\n",
       "      <td>False</td>\n",
       "      <td>...</td>\n",
       "      <td>13.000000</td>\n",
       "      <td>1</td>\n",
       "      <td>Санкт-Петербург</td>\n",
       "      <td>23575.0</td>\n",
       "      <td>4142.0</td>\n",
       "      <td>1.0</td>\n",
       "      <td>516.0</td>\n",
       "      <td>0.0</td>\n",
       "      <td>NaN</td>\n",
       "      <td>1365.0</td>\n",
       "    </tr>\n",
       "    <tr>\n",
       "      <th>18891</th>\n",
       "      <td>11</td>\n",
       "      <td>40000000.0</td>\n",
       "      <td>290.0</td>\n",
       "      <td>2016-06-21</td>\n",
       "      <td>10</td>\n",
       "      <td>3.50</td>\n",
       "      <td>6</td>\n",
       "      <td>189.400000</td>\n",
       "      <td>6</td>\n",
       "      <td>False</td>\n",
       "      <td>...</td>\n",
       "      <td>30.000000</td>\n",
       "      <td>1</td>\n",
       "      <td>Санкт-Петербург</td>\n",
       "      <td>26229.0</td>\n",
       "      <td>4932.0</td>\n",
       "      <td>3.0</td>\n",
       "      <td>316.0</td>\n",
       "      <td>1.0</td>\n",
       "      <td>227.0</td>\n",
       "      <td>77.0</td>\n",
       "    </tr>\n",
       "    <tr>\n",
       "      <th>19540</th>\n",
       "      <td>8</td>\n",
       "      <td>420000000.0</td>\n",
       "      <td>900.0</td>\n",
       "      <td>2017-12-06</td>\n",
       "      <td>12</td>\n",
       "      <td>2.80</td>\n",
       "      <td>25</td>\n",
       "      <td>409.700000</td>\n",
       "      <td>25</td>\n",
       "      <td>False</td>\n",
       "      <td>...</td>\n",
       "      <td>112.000000</td>\n",
       "      <td>0</td>\n",
       "      <td>Санкт-Петербург</td>\n",
       "      <td>30706.0</td>\n",
       "      <td>7877.0</td>\n",
       "      <td>0.0</td>\n",
       "      <td>NaN</td>\n",
       "      <td>2.0</td>\n",
       "      <td>318.0</td>\n",
       "      <td>106.0</td>\n",
       "    </tr>\n",
       "    <tr>\n",
       "      <th>20791</th>\n",
       "      <td>0</td>\n",
       "      <td>24000000.0</td>\n",
       "      <td>250.0</td>\n",
       "      <td>2019-04-23</td>\n",
       "      <td>9</td>\n",
       "      <td>3.20</td>\n",
       "      <td>5</td>\n",
       "      <td>160.600000</td>\n",
       "      <td>3</td>\n",
       "      <td>False</td>\n",
       "      <td>...</td>\n",
       "      <td>11.700000</td>\n",
       "      <td>0</td>\n",
       "      <td>Санкт-Петербург</td>\n",
       "      <td>10328.0</td>\n",
       "      <td>9987.0</td>\n",
       "      <td>2.0</td>\n",
       "      <td>352.0</td>\n",
       "      <td>0.0</td>\n",
       "      <td>NaN</td>\n",
       "      <td>NaN</td>\n",
       "    </tr>\n",
       "    <tr>\n",
       "      <th>20829</th>\n",
       "      <td>6</td>\n",
       "      <td>28659000.0</td>\n",
       "      <td>245.4</td>\n",
       "      <td>2016-03-31</td>\n",
       "      <td>14</td>\n",
       "      <td>NaN</td>\n",
       "      <td>4</td>\n",
       "      <td>168.300000</td>\n",
       "      <td>2</td>\n",
       "      <td>False</td>\n",
       "      <td>...</td>\n",
       "      <td>25.900000</td>\n",
       "      <td>0</td>\n",
       "      <td>Санкт-Петербург</td>\n",
       "      <td>21104.0</td>\n",
       "      <td>2054.0</td>\n",
       "      <td>3.0</td>\n",
       "      <td>541.0</td>\n",
       "      <td>2.0</td>\n",
       "      <td>118.0</td>\n",
       "      <td>95.0</td>\n",
       "    </tr>\n",
       "  </tbody>\n",
       "</table>\n",
       "<p>19 rows × 22 columns</p>\n",
       "</div>"
      ],
      "text/plain": [
       "       total_images   last_price  total_area first_day_exposition  rooms  \\\n",
       "648               3   17500000.0       183.7           2018-07-01     11   \n",
       "866               5   25000000.0       363.0           2017-12-23     14   \n",
       "4149              6   23000000.0       272.6           2018-01-11     10   \n",
       "5358             20   65000000.0       590.0           2019-02-14     15   \n",
       "8822             14   49968900.0       398.0           2017-07-12      9   \n",
       "8860             12   17000000.0       235.0           2018-07-14      9   \n",
       "9550             10   23500000.0       313.0           2017-02-13      9   \n",
       "9688              8   33000000.0       194.1           2017-02-07     11   \n",
       "13019             0   22250000.0       249.9           2019-04-23      9   \n",
       "13397            14   19500000.0       309.7           2016-02-03      9   \n",
       "14498             6   32250000.0       374.6           2018-06-09     19   \n",
       "15151            15   88000000.0       400.0           2019-03-27      9   \n",
       "16915            14   29000000.0       292.2           2017-01-12      9   \n",
       "18119             4   15500000.0       216.1           2016-07-04     10   \n",
       "18848             6   28500000.0       270.0           2015-03-02     16   \n",
       "18891            11   40000000.0       290.0           2016-06-21     10   \n",
       "19540             8  420000000.0       900.0           2017-12-06     12   \n",
       "20791             0   24000000.0       250.0           2019-04-23      9   \n",
       "20829             6   28659000.0       245.4           2016-03-31     14   \n",
       "\n",
       "       ceiling_height  floors_total  living_area  floor  is_apartment  ...  \\\n",
       "648              3.40             7   138.800000      7         False  ...   \n",
       "866              3.16             5   222.000000      4         False  ...   \n",
       "4149             3.14             7   145.900000      7         False  ...   \n",
       "5358             3.50             6   409.000000      3         False  ...   \n",
       "8822             3.00             2   160.100000      1         False  ...   \n",
       "8860             3.00             6   132.719898      3         False  ...   \n",
       "9550             3.20             6   179.200000      5         False  ...   \n",
       "9688             3.43             5   129.000000      2         False  ...   \n",
       "13019            3.20             5   157.000000      5         False  ...   \n",
       "13397             NaN             5   199.000000      5         False  ...   \n",
       "14498             NaN             5   264.500000      2         False  ...   \n",
       "15151            2.50             2   250.000000      1         False  ...   \n",
       "16915            3.35             5   225.900000      4         False  ...   \n",
       "18119            3.15             5   161.400000      2         False  ...   \n",
       "18848            3.00             4   180.000000      4         False  ...   \n",
       "18891            3.50             6   189.400000      6         False  ...   \n",
       "19540            2.80            25   409.700000     25         False  ...   \n",
       "20791            3.20             5   160.600000      3         False  ...   \n",
       "20829             NaN             4   168.300000      2         False  ...   \n",
       "\n",
       "       kitchen_area  balcony    locality_name  airports_nearest  \\\n",
       "648       13.300000        0  Санкт-Петербург           23606.0   \n",
       "866       16.600000        0  Санкт-Петербург           38076.0   \n",
       "4149      18.800000        1  Санкт-Петербург           10726.0   \n",
       "5358     100.000000        0  Санкт-Петербург           24447.0   \n",
       "8822      41.000000        0  Санкт-Петербург           17720.0   \n",
       "8860      44.028364        0  Санкт-Петербург           24466.0   \n",
       "9550      13.200000        0  Санкт-Петербург           38435.0   \n",
       "9688      11.900000        0  Санкт-Петербург           21469.0   \n",
       "13019     12.400000        0  Санкт-Петербург           10328.0   \n",
       "13397     14.300000        0  Санкт-Петербург           10328.0   \n",
       "14498     27.600000        0  Санкт-Петербург           19497.0   \n",
       "15151     50.000000        0  Санкт-Петербург           24395.0   \n",
       "16915     32.900000        1  Санкт-Петербург           24892.0   \n",
       "18119     19.800000        0  Санкт-Петербург           24353.0   \n",
       "18848     13.000000        1  Санкт-Петербург           23575.0   \n",
       "18891     30.000000        1  Санкт-Петербург           26229.0   \n",
       "19540    112.000000        0  Санкт-Петербург           30706.0   \n",
       "20791     11.700000        0  Санкт-Петербург           10328.0   \n",
       "20829     25.900000        0  Санкт-Петербург           21104.0   \n",
       "\n",
       "      city_centers_nearest  parks_around3000  parks_nearest  ponds_around3000  \\\n",
       "648                 3148.0               0.0            NaN               0.0   \n",
       "866                 7950.0               0.0            NaN               2.0   \n",
       "4149               12169.0               1.0          191.0               1.0   \n",
       "5358                4666.0               1.0          767.0               0.0   \n",
       "8822               16722.0               3.0          471.0               2.0   \n",
       "8860                5034.0               1.0          346.0               0.0   \n",
       "9550               10138.0               1.0          146.0               0.0   \n",
       "9688                1015.0               1.0          686.0               2.0   \n",
       "13019               9987.0               2.0          352.0               0.0   \n",
       "13397               9987.0               2.0          352.0               0.0   \n",
       "14498               3574.0               0.0            NaN               2.0   \n",
       "15151               2725.0               2.0          315.0               1.0   \n",
       "16915               5162.0               2.0          263.0               0.0   \n",
       "18119               4921.0               1.0          368.0               0.0   \n",
       "18848               4142.0               1.0          516.0               0.0   \n",
       "18891               4932.0               3.0          316.0               1.0   \n",
       "19540               7877.0               0.0            NaN               2.0   \n",
       "20791               9987.0               2.0          352.0               0.0   \n",
       "20829               2054.0               3.0          541.0               2.0   \n",
       "\n",
       "       ponds_nearest  days_exposition  \n",
       "648              NaN              NaN  \n",
       "866            435.0            418.0  \n",
       "4149           531.0              NaN  \n",
       "5358             NaN             14.0  \n",
       "8822           440.0            471.0  \n",
       "8860             NaN             90.0  \n",
       "9550             NaN              NaN  \n",
       "9688            66.0            813.0  \n",
       "13019            NaN              NaN  \n",
       "13397            NaN            468.0  \n",
       "14498          548.0            114.0  \n",
       "15151          578.0              NaN  \n",
       "16915            NaN            825.0  \n",
       "18119            NaN             11.0  \n",
       "18848            NaN           1365.0  \n",
       "18891          227.0             77.0  \n",
       "19540          318.0            106.0  \n",
       "20791            NaN              NaN  \n",
       "20829          118.0             95.0  \n",
       "\n",
       "[19 rows x 22 columns]"
      ]
     },
     "metadata": {},
     "output_type": "display_data"
    }
   ],
   "source": [
    "#рассмотрим строки с аномально высокими значениями\n",
    "display(data.query('rooms > 8'))"
   ]
  },
  {
   "cell_type": "markdown",
   "metadata": {},
   "source": [
    "Квартир с потолками выше 8 метров всего 23, но в дальнейшем они могут повлиять на общее исследование, как минимум на показатели среднего / медианного значения."
   ]
  },
  {
   "cell_type": "code",
   "execution_count": 15,
   "metadata": {},
   "outputs": [],
   "source": [
    "#убираем из датасета аномально высокие значения\n",
    "data = data.query('ceiling_height < 8')"
   ]
  },
  {
   "cell_type": "markdown",
   "metadata": {},
   "source": [
    "На гистограммах по необработанным данным можно увидеть аномалии в данных last_price, total_area, rooms. Вывожу также их гистограммы для более детального изучения."
   ]
  },
  {
   "cell_type": "code",
   "execution_count": 16,
   "metadata": {},
   "outputs": [
    {
     "data": {
      "text/plain": [
       "'Цена продажи, млн руб'"
      ]
     },
     "execution_count": 16,
     "metadata": {},
     "output_type": "execute_result"
    },
    {
     "data": {
      "image/png": "[encoded data removed]",
      "text/plain": [
       "<Figure size 432x288 with 1 Axes>"
      ]
     },
     "metadata": {
      "needs_background": "light"
     },
     "output_type": "display_data"
    }
   ],
   "source": [
    "(data['last_price'] / 1000000).hist(bins=50, range=(0, 50))\n",
    "'Цена продажи, млн руб'"
   ]
  },
  {
   "cell_type": "markdown",
   "metadata": {},
   "source": [
    "Кол-во квартир дороже 30 млн резко снижается. Посмотрим на эти аномально высокие значения:"
   ]
  },
  {
   "cell_type": "code",
   "execution_count": 17,
   "metadata": {},
   "outputs": [],
   "source": [
    "data = data.query('last_price < 30000000')"
   ]
  },
  {
   "cell_type": "markdown",
   "metadata": {},
   "source": [
    "Есть 209 строк с аномально высокими значениями. Это меньше 1% всего датасета, но эти объекты явно не относятся к масс-маркету, и скорее могут исказить результаты исследования, нежели обогатить его."
   ]
  },
  {
   "cell_type": "code",
   "execution_count": 18,
   "metadata": {},
   "outputs": [],
   "source": [
    "#отбрасываем аномально высокие значения из датасета\n",
    "data = data.query('last_price < 30000000')"
   ]
  },
  {
   "cell_type": "markdown",
   "metadata": {},
   "source": [
    "Распределение значений по total_price не выглядит аномальным но есть одна квартира с аномально низкой стоимостью - 12190. Скорее всего значение внесено в тысячах руб. В следующей ячейке исправляю эту ошибку."
   ]
  },
  {
   "cell_type": "code",
   "execution_count": 19,
   "metadata": {},
   "outputs": [],
   "source": [
    "data.loc[data['last_price'] < 100000, 'last_price'] = data['last_price'] * 1000"
   ]
  },
  {
   "cell_type": "code",
   "execution_count": 20,
   "metadata": {},
   "outputs": [
    {
     "data": {
      "image/png": "[encoded data removed]",
      "text/plain": [
       "<Figure size 432x288 with 1 Axes>"
      ]
     },
     "metadata": {
      "needs_background": "light"
     },
     "output_type": "display_data"
    }
   ],
   "source": [
    "#анализ общей площади квартир\n",
    "data['total_area'].hist(bins=50);"
   ]
  },
  {
   "cell_type": "markdown",
   "metadata": {},
   "source": [
    "Площади выше 300 м удаляем как аномально высокие"
   ]
  },
  {
   "cell_type": "code",
   "execution_count": 21,
   "metadata": {},
   "outputs": [],
   "source": [
    "data = data.query('total_area < 300')"
   ]
  },
  {
   "cell_type": "code",
   "execution_count": 22,
   "metadata": {},
   "outputs": [
    {
     "data": {
      "image/png": "[encoded data removed]",
      "text/plain": [
       "<Figure size 432x288 with 1 Axes>"
      ]
     },
     "metadata": {
      "needs_background": "light"
     },
     "output_type": "display_data"
    }
   ],
   "source": [
    "#анализ кол-ва комнат\n",
    "data['rooms'].hist(bins=30);"
   ]
  },
  {
   "cell_type": "code",
   "execution_count": 23,
   "metadata": {},
   "outputs": [],
   "source": [
    "#удаляем из датасета квартиры с аномально высоким количеством комнат - 8 и более\n",
    "data = data.query('rooms < 8')"
   ]
  },
  {
   "cell_type": "markdown",
   "metadata": {},
   "source": [
    "Проведем аналогичную проверку по данным living_area и kitchen_area"
   ]
  },
  {
   "cell_type": "code",
   "execution_count": 24,
   "metadata": {
    "scrolled": true
   },
   "outputs": [
    {
     "data": {
      "image/png": "[encoded data removed]",
      "text/plain": [
       "<Figure size 432x288 with 1 Axes>"
      ]
     },
     "metadata": {
      "needs_background": "light"
     },
     "output_type": "display_data"
    }
   ],
   "source": [
    "data['living_area'].hist(bins=50, range=(0, 10));"
   ]
  },
  {
   "cell_type": "code",
   "execution_count": 25,
   "metadata": {},
   "outputs": [
    {
     "data": {
      "image/png": "[encoded data removed]",
      "text/plain": [
       "<Figure size 432x288 with 1 Axes>"
      ]
     },
     "metadata": {
      "needs_background": "light"
     },
     "output_type": "display_data"
    }
   ],
   "source": [
    "data['kitchen_area'].hist(bins=50, range=(0, 5));"
   ]
  },
  {
   "cell_type": "markdown",
   "metadata": {},
   "source": [
    "Есть несколько квартир с жилой площадью меньше 8 кв. м. Посмотрим на строки с этими значениями."
   ]
  },
  {
   "cell_type": "code",
   "execution_count": 26,
   "metadata": {},
   "outputs": [
    {
     "name": "stdout",
     "output_type": "stream",
     "text": [
      "       total_images  last_price  total_area first_day_exposition  rooms  \\\n",
      "13915            20   6350000.0        52.0           2018-02-06      2   \n",
      "16431            13   3799000.0        31.0           2018-04-12      1   \n",
      "17961             3   1400000.0        13.0           2017-12-03      1   \n",
      "19251            19   4050000.0        33.0           2018-10-15      1   \n",
      "19546             3   1850000.0        13.0           2019-03-11      1   \n",
      "21943            15   6100000.0        77.6           2019-02-28      4   \n",
      "\n",
      "       ceiling_height  floors_total  living_area  floor  is_apartment  ...  \\\n",
      "13915             3.0             6     2.000000      2         False  ...   \n",
      "16431             2.6             5     6.000000      1         False  ...   \n",
      "17961             2.6             9     7.341952      1         False  ...   \n",
      "19251             2.5            22     6.500000     21         False  ...   \n",
      "19546             3.4             5     7.341952      2         False  ...   \n",
      "21943             2.5             9     5.400000      1         False  ...   \n",
      "\n",
      "       kitchen_area  balcony    locality_name  airports_nearest  \\\n",
      "13915      9.000000        0  Санкт-Петербург           32453.0   \n",
      "16431     17.000000        0  Санкт-Петербург           32177.0   \n",
      "17961      2.435612        0  Санкт-Петербург           14350.0   \n",
      "19251     18.000000        0  Санкт-Петербург            9258.0   \n",
      "19546      2.435612        0  Санкт-Петербург           24915.0   \n",
      "21943      9.800000        0  Санкт-Петербург           29338.0   \n",
      "\n",
      "      city_centers_nearest  parks_around3000  parks_nearest  ponds_around3000  \\\n",
      "13915               6521.0               0.0            NaN               1.0   \n",
      "16431               4826.0               1.0          430.0               0.0   \n",
      "17961              15945.0               0.0            NaN               1.0   \n",
      "19251              10592.0               1.0          458.0               0.0   \n",
      "19546               5483.0               1.0          644.0               0.0   \n",
      "21943              11270.0               1.0          584.0               0.0   \n",
      "\n",
      "       ponds_nearest  days_exposition  \n",
      "13915         1012.0             91.0  \n",
      "16431            NaN            168.0  \n",
      "17961          185.0            410.0  \n",
      "19251            NaN             44.0  \n",
      "19546            NaN             24.0  \n",
      "21943            NaN             33.0  \n",
      "\n",
      "[6 rows x 22 columns]\n"
     ]
    }
   ],
   "source": [
    "print(data.query('living_area < 8'))"
   ]
  },
  {
   "cell_type": "markdown",
   "metadata": {},
   "source": [
    "Среди таких квартир есть миниматюрные, с площадью 13 кв. м, а есть и полноценные с площадью 52 или 77 м - скорее всего это ошибка.\n",
    "Заменяю в таких ячейках данные на среднее отношение жилой площади к общей площади объекта"
   ]
  },
  {
   "cell_type": "code",
   "execution_count": 27,
   "metadata": {},
   "outputs": [],
   "source": [
    "data.loc[data['living_area'] < 8, 'living_area'] = (\n",
    "    data['living_area'] / data['total_area']).mean() * data['total_area']"
   ]
  },
  {
   "cell_type": "code",
   "execution_count": 28,
   "metadata": {},
   "outputs": [],
   "source": [
    "#у одной квартиры значение airports_nearest = 0, что явно некорректно. Заменяю это значение на медиану\n",
    "data.loc[data['airports_nearest'] < 100, 'airports_nearest'] = data['airports_nearest'].median()"
   ]
  },
  {
   "cell_type": "markdown",
   "metadata": {},
   "source": [
    "### Добавление новых столбцов"
   ]
  },
  {
   "cell_type": "code",
   "execution_count": 29,
   "metadata": {},
   "outputs": [],
   "source": [
    "#столбец с ценой 1 кв. метра\n",
    "data['square_meter_price'] = data['last_price'] / data['total_area']\n",
    "\n",
    "#день недели публикации объявления\n",
    "data['exp_weekday'] = pd.DatetimeIndex(data['first_day_exposition']).weekday\n",
    "\n",
    "#месяц публикации\n",
    "data['exp_month'] = pd.DatetimeIndex(data['first_day_exposition']).month\n",
    "\n",
    "#год публикации\n",
    "data['exp_year'] = pd.DatetimeIndex(data['first_day_exposition']).year\n",
    "\n",
    "#тип этажа квартиры\n",
    "def type_floor(row):\n",
    "    floor = row['floor']\n",
    "    floors_total = row['floors_total']   \n",
    "\n",
    "    if floor == 1:\n",
    "        return 'Первый'\n",
    "    elif floor == floors_total:\n",
    "        return 'Последний'\n",
    "    return 'Другой'\n",
    " \n",
    "data['type_floor'] = data.apply(type_floor, axis=1)\n",
    "\n",
    "#расстояние до центра города в км\n",
    "data['city_centers_nearest_km'] = (data['city_centers_nearest'] / 1000).round()"
   ]
  },
  {
   "cell_type": "markdown",
   "metadata": {},
   "source": [
    "### Исследовательский анализ данных"
   ]
  },
  {
   "cell_type": "markdown",
   "metadata": {},
   "source": [
    "#### Анализ параметров "
   ]
  },
  {
   "cell_type": "code",
   "execution_count": 30,
   "metadata": {},
   "outputs": [
    {
     "data": {
      "image/png": "[encoded data removed]",
      "text/plain": [
       "<Figure size 432x288 with 1 Axes>"
      ]
     },
     "metadata": {
      "needs_background": "light"
     },
     "output_type": "display_data"
    },
    {
     "data": {
      "text/plain": [
       "count    14250.000000\n",
       "mean        59.263244\n",
       "std         27.454673\n",
       "min         12.000000\n",
       "25%         41.000000\n",
       "50%         53.000000\n",
       "75%         70.000000\n",
       "max        290.000000\n",
       "Name: total_area, dtype: float64"
      ]
     },
     "execution_count": 30,
     "metadata": {},
     "output_type": "execute_result"
    }
   ],
   "source": [
    "#исследование общей площади объектов\n",
    "fig, ax = plt.subplots()\n",
    "\n",
    "data['total_area'].hist(bins=100)\n",
    "ax.set_title('Общая площадь')\n",
    "ax.set_xlabel('кв. м')\n",
    "\n",
    "plt.show()\n",
    "\n",
    "data['total_area'].describe()"
   ]
  },
  {
   "cell_type": "markdown",
   "metadata": {},
   "source": [
    "Подавляющее большинство объектов имеют общую площадь в диапазоне 20-150 кв.м, самые распространенные имеют площадь 30-70 кв.м.\n",
    "Гистограмма имеет 3 пика - наиболее частые площади - 30, 45 (самый высокий пик) и 60 кв. м.\n",
    "Объекты с площадью более 150 м представлены в минимальном количестве."
   ]
  },
  {
   "cell_type": "code",
   "execution_count": 31,
   "metadata": {},
   "outputs": [
    {
     "data": {
      "image/png": "[encoded data removed]",
      "text/plain": [
       "<Figure size 432x288 with 1 Axes>"
      ]
     },
     "metadata": {
      "needs_background": "light"
     },
     "output_type": "display_data"
    },
    {
     "data": {
      "text/plain": [
       "count    14250.000000\n",
       "mean        34.284281\n",
       "std         18.214970\n",
       "min          7.407131\n",
       "25%         19.350000\n",
       "50%         30.448669\n",
       "75%         42.900000\n",
       "max        211.000000\n",
       "Name: living_area, dtype: float64"
      ]
     },
     "execution_count": 31,
     "metadata": {},
     "output_type": "execute_result"
    }
   ],
   "source": [
    "#жилая площадь объекта\n",
    "fig, ax = plt.subplots()\n",
    "data['living_area'].hist(bins=100, range=(0, 100))\n",
    "ax.set_title('Жилая площадь')\n",
    "\n",
    "ax.set_xlabel('кв. м')\n",
    "\n",
    "plt.show()\n",
    "\n",
    "data['living_area'].describe()"
   ]
  },
  {
   "cell_type": "markdown",
   "metadata": {},
   "source": [
    "У гистограммы жилых площадей также 3 пика - 18, 30 и, в меньшей степени, 43 м.\n",
    "Есть единичные объекты с жилой площадью более 100 кв. м, которые исключены из гистограммы, т.к. их количество незначительно."
   ]
  },
  {
   "cell_type": "code",
   "execution_count": 32,
   "metadata": {},
   "outputs": [
    {
     "data": {
      "image/png": "[encoded data removed]",
      "text/plain": [
       "<Figure size 432x288 with 1 Axes>"
      ]
     },
     "metadata": {
      "needs_background": "light"
     },
     "output_type": "display_data"
    },
    {
     "data": {
      "text/plain": [
       "count    14250.000000\n",
       "mean        10.287536\n",
       "std          5.266448\n",
       "min          1.300000\n",
       "25%          7.000000\n",
       "50%          9.000000\n",
       "75%         11.800000\n",
       "max         65.000000\n",
       "Name: kitchen_area, dtype: float64"
      ]
     },
     "execution_count": 32,
     "metadata": {},
     "output_type": "execute_result"
    }
   ],
   "source": [
    "#площадь кухни\n",
    "fig, ax = plt.subplots()\n",
    "data['kitchen_area'].hist(bins=40, range=(0, 40))\n",
    "\n",
    "ax.set_title('Площадь кухни')\n",
    "\n",
    "ax.set_xlabel('кв. м')\n",
    "\n",
    "plt.show()\n",
    "\n",
    "data['kitchen_area'].describe()"
   ]
  },
  {
   "cell_type": "markdown",
   "metadata": {},
   "source": [
    "У гистограммы 3 пика - 6, 8 и 10 кв.м. Большинство квартир имеют кухню с площадью в диапазоне 5-20 кв.м, есть единичные квартиры с кухнями более 40 кв.м."
   ]
  },
  {
   "cell_type": "code",
   "execution_count": 33,
   "metadata": {},
   "outputs": [
    {
     "data": {
      "image/png": "[encoded data removed]",
      "text/plain": [
       "<Figure size 432x288 with 1 Axes>"
      ]
     },
     "metadata": {
      "needs_background": "light"
     },
     "output_type": "display_data"
    },
    {
     "data": {
      "text/plain": [
       "count    1.425000e+04\n",
       "mean     5.968413e+06\n",
       "std      4.100533e+06\n",
       "min      4.500000e+05\n",
       "25%      3.550000e+06\n",
       "50%      4.800000e+06\n",
       "75%      6.900000e+06\n",
       "max      2.999900e+07\n",
       "Name: last_price, dtype: float64"
      ]
     },
     "execution_count": 33,
     "metadata": {},
     "output_type": "execute_result"
    }
   ],
   "source": [
    "#стоимость объекта\n",
    "fig, ax = plt.subplots()\n",
    "(data['last_price'] / 1000000).hist(bins=100, range=(0, 20))\n",
    "\n",
    "ax.set_title('Стоимость')\n",
    "\n",
    "ax.set_xlabel('млн руб.')\n",
    "\n",
    "plt.show()\n",
    "\n",
    "data['last_price'].describe()"
   ]
  },
  {
   "cell_type": "markdown",
   "metadata": {},
   "source": [
    "Наиболее распространены квартиры стоимостью 3-5 млн руб. Объектов стоимостью больше 20 млн руб в датасете представлено незначительное количество"
   ]
  },
  {
   "cell_type": "code",
   "execution_count": 34,
   "metadata": {},
   "outputs": [
    {
     "data": {
      "image/png": "[encoded data removed]",
      "text/plain": [
       "<Figure size 432x288 with 1 Axes>"
      ]
     },
     "metadata": {
      "needs_background": "light"
     },
     "output_type": "display_data"
    },
    {
     "data": {
      "text/plain": [
       "count    14250.000000\n",
       "mean         2.094807\n",
       "std          1.013867\n",
       "min          0.000000\n",
       "25%          1.000000\n",
       "50%          2.000000\n",
       "75%          3.000000\n",
       "max          7.000000\n",
       "Name: rooms, dtype: float64"
      ]
     },
     "execution_count": 34,
     "metadata": {},
     "output_type": "execute_result"
    }
   ],
   "source": [
    "#количество комнат\n",
    "fig, ax = plt.subplots()\n",
    "data['rooms'].hist(bins=data['rooms'].max())\n",
    "\n",
    "ax.set_title('Количество комнат')\n",
    "\n",
    "ax.set_xlabel('шт.')\n",
    "\n",
    "plt.show()\n",
    "\n",
    "data['rooms'].describe()"
   ]
  },
  {
   "cell_type": "markdown",
   "metadata": {},
   "source": [
    "Больше всего квартир имеют 1-3 комнаты. Квартир премиум-сегмента с 5 и более комнатами сравнительно мало. 0 комнат - обозначение студий."
   ]
  },
  {
   "cell_type": "code",
   "execution_count": 35,
   "metadata": {},
   "outputs": [
    {
     "data": {
      "image/png": "[encoded data removed]",
      "text/plain": [
       "<Figure size 432x288 with 1 Axes>"
      ]
     },
     "metadata": {
      "needs_background": "light"
     },
     "output_type": "display_data"
    },
    {
     "data": {
      "text/plain": [
       "count    14250.000000\n",
       "mean         2.716991\n",
       "std          0.261949\n",
       "min          2.000000\n",
       "25%          2.500000\n",
       "50%          2.650000\n",
       "75%          2.800000\n",
       "max          5.800000\n",
       "Name: ceiling_height, dtype: float64"
      ]
     },
     "execution_count": 35,
     "metadata": {},
     "output_type": "execute_result"
    }
   ],
   "source": [
    "#высота потолков\n",
    "fig, ax = plt.subplots()\n",
    "data['ceiling_height'].hist(bins=50)\n",
    "\n",
    "ax.set_title('Высота потолков')\n",
    "\n",
    "ax.set_xlabel('м')\n",
    "\n",
    "plt.show()\n",
    "\n",
    "data['ceiling_height'].describe()"
   ]
  },
  {
   "cell_type": "markdown",
   "metadata": {},
   "source": [
    "У гистограммы 3 пика: 2.5 м, 2,7 м, 3 м. Редкие отдельные квартиры могут похвастать аномально высокими потолками свыше 5 м."
   ]
  },
  {
   "cell_type": "code",
   "execution_count": 36,
   "metadata": {},
   "outputs": [
    {
     "data": {
      "image/png": "[encoded data removed]",
      "text/plain": [
       "<Figure size 432x288 with 1 Axes>"
      ]
     },
     "metadata": {
      "needs_background": "light"
     },
     "output_type": "display_data"
    },
    {
     "data": {
      "text/plain": [
       "count    14250.000000\n",
       "mean         5.633193\n",
       "std          4.635312\n",
       "min          1.000000\n",
       "25%          2.000000\n",
       "50%          4.000000\n",
       "75%          8.000000\n",
       "max         30.000000\n",
       "Name: floor, dtype: float64"
      ]
     },
     "execution_count": 36,
     "metadata": {},
     "output_type": "execute_result"
    }
   ],
   "source": [
    "#этаж\n",
    "fig, ax = plt.subplots()\n",
    "data['floor'].hist(bins=30)\n",
    "\n",
    "ax.set_title('Этаж')\n",
    "\n",
    "ax.set_xlabel('м')\n",
    "\n",
    "plt.show()\n",
    "\n",
    "data['floor'].describe()"
   ]
  },
  {
   "cell_type": "markdown",
   "metadata": {},
   "source": [
    "По гистограмме видно, что больше всего объектов продается в 5-этажных домах, т.к. частота квартир этажом больше 5 резко снижается. Далее чем выше этаж, тем реже встречаются в продаже квартиры на нем."
   ]
  },
  {
   "cell_type": "code",
   "execution_count": 37,
   "metadata": {},
   "outputs": [
    {
     "data": {
      "image/png": "[encoded data removed]",
      "text/plain": [
       "<Figure size 432x288 with 1 Axes>"
      ]
     },
     "metadata": {
      "needs_background": "light"
     },
     "output_type": "display_data"
    }
   ],
   "source": [
    "#тип этажа\n",
    "fig, ax = plt.subplots()\n",
    "data['type_floor'].hist()\n",
    "\n",
    "ax.set_title('Тип этажа')\n",
    "\n",
    "plt.show()"
   ]
  },
  {
   "cell_type": "markdown",
   "metadata": {},
   "source": [
    "Как и ожидалось, квартир между первым и последним этажами продается намного больше, чем оных. Квартиры на последнем этаже встречаются в продаже чаще, чем на первом."
   ]
  },
  {
   "cell_type": "code",
   "execution_count": 38,
   "metadata": {},
   "outputs": [
    {
     "data": {
      "image/png": "[encoded data removed]",
      "text/plain": [
       "<Figure size 432x288 with 1 Axes>"
      ]
     },
     "metadata": {
      "needs_background": "light"
     },
     "output_type": "display_data"
    },
    {
     "data": {
      "text/plain": [
       "count    14250.000000\n",
       "mean        10.216842\n",
       "std          6.227121\n",
       "min          1.000000\n",
       "25%          5.000000\n",
       "50%          9.000000\n",
       "75%         14.000000\n",
       "max         60.000000\n",
       "Name: floors_total, dtype: float64"
      ]
     },
     "execution_count": 38,
     "metadata": {},
     "output_type": "execute_result"
    }
   ],
   "source": [
    "#кол-во этажей в доме\n",
    "fig, ax = plt.subplots()\n",
    "data['floors_total'].hist(bins=50)\n",
    "\n",
    "ax.set_title('Этажей в доме')\n",
    "\n",
    "ax.set_xlabel('шт')\n",
    "\n",
    "plt.show()\n",
    "\n",
    "data['floors_total'].describe()"
   ]
  },
  {
   "cell_type": "markdown",
   "metadata": {},
   "source": [
    "У гистограммы 2 ярко-выраженных пика - 5 и 9 этажей. Судя по всему это отголоски страны советов, где такие дома строились по типовым проектам."
   ]
  },
  {
   "cell_type": "code",
   "execution_count": 39,
   "metadata": {},
   "outputs": [
    {
     "data": {
      "image/png": "[encoded data removed]",
      "text/plain": [
       "<Figure size 432x288 with 1 Axes>"
      ]
     },
     "metadata": {
      "needs_background": "light"
     },
     "output_type": "display_data"
    },
    {
     "data": {
      "text/plain": [
       "count    11316.000000\n",
       "mean     14240.714740\n",
       "std       8744.088683\n",
       "min        208.000000\n",
       "25%       9429.750000\n",
       "50%      13056.000000\n",
       "75%      16096.000000\n",
       "max      65968.000000\n",
       "Name: city_centers_nearest, dtype: float64"
      ]
     },
     "execution_count": 39,
     "metadata": {},
     "output_type": "execute_result"
    }
   ],
   "source": [
    "#расстояние до центра города\n",
    "fig, ax = plt.subplots()\n",
    "(data['city_centers_nearest'] / 1000).hist(bins=100)\n",
    "\n",
    "ax.set_title('Расстояние до центра города')\n",
    "\n",
    "ax.set_xlabel('км')\n",
    "\n",
    "plt.show()\n",
    "\n",
    "data['city_centers_nearest'].describe()"
   ]
  },
  {
   "cell_type": "markdown",
   "metadata": {},
   "source": [
    "Наиболее часто встречаются квартиры на расстояниях 5, 12 и 15 км от центра города. Частота резко снижается после 17 км от центра - видимо на этом расстоянии от центра заканчивается город."
   ]
  },
  {
   "cell_type": "code",
   "execution_count": 40,
   "metadata": {},
   "outputs": [
    {
     "data": {
      "image/png": "[encoded data removed]",
      "text/plain": [
       "<Figure size 432x288 with 1 Axes>"
      ]
     },
     "metadata": {
      "needs_background": "light"
     },
     "output_type": "display_data"
    },
    {
     "data": {
      "text/plain": [
       "count    11299.000000\n",
       "mean     28868.368086\n",
       "std      12715.306405\n",
       "min       6914.000000\n",
       "25%      18460.500000\n",
       "50%      26791.000000\n",
       "75%      37310.000000\n",
       "max      84869.000000\n",
       "Name: airports_nearest, dtype: float64"
      ]
     },
     "execution_count": 40,
     "metadata": {},
     "output_type": "execute_result"
    }
   ],
   "source": [
    "#расстояние до ближайшего аэропорта\n",
    "fig, ax = plt.subplots()\n",
    "(data['airports_nearest'] / 1000).hist(bins=50)\n",
    "\n",
    "ax.set_title('Расстояние до аэропорта')\n",
    "\n",
    "ax.set_xlabel('км')\n",
    "\n",
    "plt.show()\n",
    "\n",
    "data['airports_nearest'].describe()"
   ]
  },
  {
   "cell_type": "markdown",
   "metadata": {},
   "source": [
    "Наибольшая концентрация квартир на расстоянии 15-25 км от аэропорта. На удалении 55 км и квартир стновится резко меньше."
   ]
  },
  {
   "cell_type": "code",
   "execution_count": 41,
   "metadata": {},
   "outputs": [
    {
     "data": {
      "image/png": "[encoded data removed]",
      "text/plain": [
       "<Figure size 432x288 with 1 Axes>"
      ]
     },
     "metadata": {
      "needs_background": "light"
     },
     "output_type": "display_data"
    },
    {
     "data": {
      "text/plain": [
       "count    5111.000000\n",
       "mean      479.620427\n",
       "std       320.876054\n",
       "min         3.000000\n",
       "25%       288.000000\n",
       "50%       454.000000\n",
       "75%       603.000000\n",
       "max      3190.000000\n",
       "Name: parks_nearest, dtype: float64"
      ]
     },
     "execution_count": 41,
     "metadata": {},
     "output_type": "execute_result"
    }
   ],
   "source": [
    "#расстояние до ближайшего парка\n",
    "fig, ax = plt.subplots()\n",
    "(data['parks_nearest'] / 1000).hist(bins=50)\n",
    "\n",
    "ax.set_title('Расстояние до парка')\n",
    "\n",
    "ax.set_xlabel('км')\n",
    "\n",
    "plt.show()\n",
    "\n",
    "data['parks_nearest'].describe()"
   ]
  },
  {
   "cell_type": "markdown",
   "metadata": {},
   "source": [
    "Наибольшая концентрация объектов недвижимости находится на расстоянии около 500 м от ближайшего парка и очень мало объектов дальше 1 км. По крайней мере у тех квартир, для которых этот параметр указан, т.к. в этом столбце больше 15 тыс пропусков."
   ]
  },
  {
   "cell_type": "code",
   "execution_count": 42,
   "metadata": {},
   "outputs": [
    {
     "data": {
      "image/png": "[encoded data removed]",
      "text/plain": [
       "<Figure size 432x288 with 1 Axes>"
      ]
     },
     "metadata": {
      "needs_background": "light"
     },
     "output_type": "display_data"
    }
   ],
   "source": [
    "#день публикации\n",
    "fig, ax = plt.subplots()\n",
    "data['exp_weekday'].hist(bins=15)\n",
    "\n",
    "ax.set_title('День публикации')\n",
    "\n",
    "ax.set_xlabel('0 - понедельник')\n",
    "\n",
    "plt.show()"
   ]
  },
  {
   "cell_type": "markdown",
   "metadata": {},
   "source": [
    "Большинство объявлений публикуются в рабочие дни, чаще всего - в четверг. Воскресенье - самый \"разгруженный\" день"
   ]
  },
  {
   "cell_type": "code",
   "execution_count": 43,
   "metadata": {},
   "outputs": [
    {
     "data": {
      "image/png": "[encoded data removed]",
      "text/plain": [
       "<Figure size 432x288 with 1 Axes>"
      ]
     },
     "metadata": {
      "needs_background": "light"
     },
     "output_type": "display_data"
    }
   ],
   "source": [
    "#месяц публикации\n",
    "fig, ax = plt.subplots()\n",
    "data['exp_month'].hist(bins=25)\n",
    "\n",
    "ax.set_title('Месяц публикации')\n",
    "\n",
    "ax.set_xlabel('')\n",
    "\n",
    "plt.show()"
   ]
  },
  {
   "cell_type": "markdown",
   "metadata": {},
   "source": [
    "Пиковый месяц по публикациям - март. Немногим отстают февраль, апрель и ноябрь. Напротив, январь, май и декабрь - самые непопулярные месяца для публикации объявлений, что логично, т.к. это и самые праздничные месяцы года."
   ]
  },
  {
   "cell_type": "code",
   "execution_count": 44,
   "metadata": {},
   "outputs": [
    {
     "data": {
      "image/png": "[encoded data removed]",
      "text/plain": [
       "<Figure size 432x288 with 1 Axes>"
      ]
     },
     "metadata": {
      "needs_background": "light"
     },
     "output_type": "display_data"
    },
    {
     "data": {
      "text/plain": [
       "count    11870.000000\n",
       "mean       188.569166\n",
       "std        226.883793\n",
       "min          1.000000\n",
       "25%         45.000000\n",
       "50%        102.000000\n",
       "75%        244.750000\n",
       "max       1580.000000\n",
       "Name: days_exposition, dtype: float64"
      ]
     },
     "execution_count": 44,
     "metadata": {},
     "output_type": "execute_result"
    }
   ],
   "source": [
    "#кол-во этажей в доме\n",
    "fig, ax = plt.subplots()\n",
    "data['days_exposition'].hist(bins=50)\n",
    "\n",
    "ax.set_title('Кол-во дней в публикации')\n",
    "\n",
    "ax.set_xlabel('дни')\n",
    "\n",
    "plt.show()\n",
    "\n",
    "data['days_exposition'].describe()"
   ]
  },
  {
   "cell_type": "code",
   "execution_count": 45,
   "metadata": {},
   "outputs": [
    {
     "data": {
      "image/png": "[encoded data removed]",
      "text/plain": [
       "<Figure size 432x288 with 1 Axes>"
      ]
     },
     "metadata": {
      "needs_background": "light"
     },
     "output_type": "display_data"
    }
   ],
   "source": [
    "data_days_exp = pd.DataFrame({'days_exposition': data['days_exposition']})\n",
    "data_days_exp.boxplot();"
   ]
  },
  {
   "cell_type": "markdown",
   "metadata": {},
   "source": [
    "Если предположить, что снятие с публикации = продажа (что не всегда верно), то наиболее часто квартиры продаются в течение 50 дней с момента публикации. Среднее время продажи 180 дней намного превышает медианное 95 из-за небольшого количества \"долгих\" объявлений, рекордсмен среди которых продавался больше 4 лет.\n",
    "Исходя из диаграммы размаха, продажу в течение 0-95 дней с момента публикации я бы считал быстрыми. Если квартира продается более 200 дней - объект можно считать аномально долгим."
   ]
  },
  {
   "cell_type": "markdown",
   "metadata": {},
   "source": [
    "#### Зависимость цены от разных параметров"
   ]
  },
  {
   "cell_type": "code",
   "execution_count": 46,
   "metadata": {},
   "outputs": [
    {
     "name": "stdout",
     "output_type": "stream",
     "text": [
      "Коэффициент корреляции 0.7928891876104226\n"
     ]
    },
    {
     "data": {
      "image/png": "[encoded data removed]",
      "text/plain": [
       "<Figure size 432x288 with 1 Axes>"
      ]
     },
     "metadata": {
      "needs_background": "light"
     },
     "output_type": "display_data"
    }
   ],
   "source": [
    "#зависимость цены от площади объекта. Методом query отфильтровываем аномально высокие значения\n",
    "data\\\n",
    ".plot(x='total_area', y='last_price', kind='scatter', alpha=0.3)\n",
    "print('Коэффициент корреляции', data['total_area'].corr(data['last_price']))"
   ]
  },
  {
   "cell_type": "markdown",
   "metadata": {},
   "source": [
    "При цене до 4 млн и площади до 250 кв.м чем выше площадь, тем выше и цена. Для более крупных и дорогих объектов, судя по всему, площадь оказывает меньшее значение на цену."
   ]
  },
  {
   "cell_type": "code",
   "execution_count": 47,
   "metadata": {},
   "outputs": [
    {
     "name": "stdout",
     "output_type": "stream",
     "text": [
      "Коэффициент корреляции 0.6915460889233973\n"
     ]
    },
    {
     "data": {
      "image/png": "[encoded data removed]",
      "text/plain": [
       "<Figure size 432x288 with 1 Axes>"
      ]
     },
     "metadata": {
      "needs_background": "light"
     },
     "output_type": "display_data"
    }
   ],
   "source": [
    "#зависимость цены от жилой площади. Методом query отфильтровываем аномально высокие значения\n",
    "data.plot(x='living_area', y='last_price', kind='scatter', alpha=0.3)\n",
    "print('Коэффициент корреляции', data['living_area'].corr(data['last_price']))"
   ]
  },
  {
   "cell_type": "markdown",
   "metadata": {},
   "source": [
    "Здесь также отслеживается прямая зависимость. При цене более 20 млн и жилой площади более 100 кв.м зависимость уже не так очевидна. Скорее всего, для премиум-объектов влияние на цену оказывает намного больше параметров, чем на масс-сегмент."
   ]
  },
  {
   "cell_type": "code",
   "execution_count": 48,
   "metadata": {},
   "outputs": [
    {
     "name": "stdout",
     "output_type": "stream",
     "text": [
      "Коэффициент корреляции 0.615127215047811\n"
     ]
    },
    {
     "data": {
      "image/png": "[encoded data removed]",
      "text/plain": [
       "<Figure size 432x288 with 1 Axes>"
      ]
     },
     "metadata": {
      "needs_background": "light"
     },
     "output_type": "display_data"
    }
   ],
   "source": [
    "#зависимость цены от площади кухни. Методом query отфильтровываем аномально высокие значения\n",
    "data.plot(x='kitchen_area', y='last_price', kind='scatter', alpha=0.3)\n",
    "print('Коэффициент корреляции', data['kitchen_area'].corr(data['last_price']))"
   ]
  },
  {
   "cell_type": "markdown",
   "metadata": {},
   "source": [
    "Здесь также отслеживается прямая зависимость, хотя и слабее, чем у общей площади. При цене более 25 млн и площади кухни более 30 кв.м зависимость слабая."
   ]
  },
  {
   "cell_type": "code",
   "execution_count": 49,
   "metadata": {},
   "outputs": [
    {
     "name": "stdout",
     "output_type": "stream",
     "text": [
      "Коэффициент корреляции 0.516695401654004\n"
     ]
    },
    {
     "data": {
      "image/png": "[encoded data removed]",
      "text/plain": [
       "<Figure size 432x288 with 1 Axes>"
      ]
     },
     "metadata": {
      "needs_background": "light"
     },
     "output_type": "display_data"
    }
   ],
   "source": [
    "#зависимость цены от количества комнат. Методом query отфильтровываем аномально высокие значения\n",
    "data.query('rooms < 12 and last_price < 20000000').plot(x='rooms', y='last_price', kind='scatter', alpha=0.3)\n",
    "print('Коэффициент корреляции', data['rooms'].corr(data['last_price']))"
   ]
  },
  {
   "cell_type": "markdown",
   "metadata": {},
   "source": [
    "Зависимость цены от количества комнат есть, но слабая, что подтверждает коэффициент корреляции. Взаимосвязь эта на уровне: дорогих однокомнатных квартир очень мало, а дешевых квартир с 5 и более комнатами нет."
   ]
  },
  {
   "cell_type": "code",
   "execution_count": 50,
   "metadata": {},
   "outputs": [
    {
     "data": {
      "text/html": [
       "<div>\n",
       "<style scoped>\n",
       "    .dataframe tbody tr th:only-of-type {\n",
       "        vertical-align: middle;\n",
       "    }\n",
       "\n",
       "    .dataframe tbody tr th {\n",
       "        vertical-align: top;\n",
       "    }\n",
       "\n",
       "    .dataframe thead tr th {\n",
       "        text-align: left;\n",
       "    }\n",
       "\n",
       "    .dataframe thead tr:last-of-type th {\n",
       "        text-align: right;\n",
       "    }\n",
       "</style>\n",
       "<table border=\"1\" class=\"dataframe\">\n",
       "  <thead>\n",
       "    <tr>\n",
       "      <th></th>\n",
       "      <th colspan=\"3\" halign=\"left\">last_price</th>\n",
       "    </tr>\n",
       "    <tr>\n",
       "      <th></th>\n",
       "      <th>count</th>\n",
       "      <th>mean</th>\n",
       "      <th>median</th>\n",
       "    </tr>\n",
       "    <tr>\n",
       "      <th>type_floor</th>\n",
       "      <th></th>\n",
       "      <th></th>\n",
       "      <th></th>\n",
       "    </tr>\n",
       "  </thead>\n",
       "  <tbody>\n",
       "    <tr>\n",
       "      <th>Другой</th>\n",
       "      <td>10399</td>\n",
       "      <td>6.206586e+06</td>\n",
       "      <td>5000000.0</td>\n",
       "    </tr>\n",
       "    <tr>\n",
       "      <th>Первый</th>\n",
       "      <td>1806</td>\n",
       "      <td>4.750927e+06</td>\n",
       "      <td>4000000.0</td>\n",
       "    </tr>\n",
       "    <tr>\n",
       "      <th>Последний</th>\n",
       "      <td>2045</td>\n",
       "      <td>5.832477e+06</td>\n",
       "      <td>4500000.0</td>\n",
       "    </tr>\n",
       "  </tbody>\n",
       "</table>\n",
       "</div>"
      ],
      "text/plain": [
       "           last_price                         \n",
       "                count          mean     median\n",
       "type_floor                                    \n",
       "Другой          10399  6.206586e+06  5000000.0\n",
       "Первый           1806  4.750927e+06  4000000.0\n",
       "Последний        2045  5.832477e+06  4500000.0"
      ]
     },
     "metadata": {},
     "output_type": "display_data"
    },
    {
     "data": {
      "image/png": "[encoded data removed]",
      "text/plain": [
       "<Figure size 432x288 with 1 Axes>"
      ]
     },
     "metadata": {
      "needs_background": "light"
     },
     "output_type": "display_data"
    }
   ],
   "source": [
    "#зависимость цены от типа этажа\n",
    "display(data.groupby('type_floor').agg({'last_price': ['count', 'mean', 'median']}))\n",
    "data.groupby('type_floor').agg({'last_price': ['mean', 'median']})\\\n",
    ".plot(kind='bar');"
   ]
  },
  {
   "cell_type": "markdown",
   "metadata": {},
   "source": [
    "Квартиры на первом этаже в-среднем ощутимо дешевле остальных. При этом средняя стоимость квартир на последнем этаже самая высокая, но их медиана ниже, чем у квартир на промежуточных этажах. Видимо, в датасете есть несколько дорогих пентхаусов на последних этажах, которые оказывают существенное влияние на среднюю цену квартир на последних этажах, но не на медиану."
   ]
  },
  {
   "cell_type": "code",
   "execution_count": 51,
   "metadata": {},
   "outputs": [
    {
     "data": {
      "image/png": "[encoded data removed]",
      "text/plain": [
       "<Figure size 432x288 with 1 Axes>"
      ]
     },
     "metadata": {
      "needs_background": "light"
     },
     "output_type": "display_data"
    }
   ],
   "source": [
    "#зависимость цены от даты размещения объявления\n",
    "data.pivot_table(index='exp_weekday', values='last_price', aggfunc='median').plot();"
   ]
  },
  {
   "cell_type": "markdown",
   "metadata": {},
   "source": [
    "На графике видна некоторая связь - самые дорогие квартиры публикуют по вторникам, а далее до воскресенья медиана цен публикуемых квартир снижается."
   ]
  },
  {
   "cell_type": "code",
   "execution_count": 52,
   "metadata": {},
   "outputs": [
    {
     "data": {
      "image/png": "[encoded data removed]",
      "text/plain": [
       "<Figure size 432x288 with 1 Axes>"
      ]
     },
     "metadata": {
      "needs_background": "light"
     },
     "output_type": "display_data"
    }
   ],
   "source": [
    "#зависимость цены от месяца размещения объявления\n",
    "data.pivot_table(index='exp_month', values='last_price', aggfunc='median').plot();"
   ]
  },
  {
   "cell_type": "markdown",
   "metadata": {},
   "source": [
    "На графике можно увидеть небольшие колебания медиан цен в зависимости от месяца. В апреле в-среднем публикуют более дорогие квартиры, в июне - менее."
   ]
  },
  {
   "cell_type": "code",
   "execution_count": 53,
   "metadata": {},
   "outputs": [
    {
     "data": {
      "image/png": "[encoded data removed]",
      "text/plain": [
       "<Figure size 432x288 with 1 Axes>"
      ]
     },
     "metadata": {
      "needs_background": "light"
     },
     "output_type": "display_data"
    }
   ],
   "source": [
    "#зависимость цены от года размещения объявления\n",
    "data.pivot_table(index='exp_year', values='last_price', aggfunc='median').plot();"
   ]
  },
  {
   "cell_type": "markdown",
   "metadata": {},
   "source": [
    "На графике видно, что в 2014-2017 медианная цена публикуемых квартир снизилась с 7.5 до 4.5 млн. В 2017 медиана снова начала расти, но в 2019 все еще оставалась ниже уровня 2015 года."
   ]
  },
  {
   "cell_type": "markdown",
   "metadata": {},
   "source": [
    "Параметры, влияющие на цену квартир в порядке убывания значимости:\n",
    "* общая площадь\n",
    "* жилая площадь\n",
    "* площадь кухни\n",
    "* кол-во комнат\n",
    "* этаж квартиры"
   ]
  },
  {
   "cell_type": "markdown",
   "metadata": {},
   "source": [
    "**Cредняя цена одного квадратного метра в 10 населённых пунктах с наибольшим числом объявлений**"
   ]
  },
  {
   "cell_type": "code",
   "execution_count": 54,
   "metadata": {},
   "outputs": [
    {
     "data": {
      "text/html": [
       "<div>\n",
       "<style scoped>\n",
       "    .dataframe tbody tr th:only-of-type {\n",
       "        vertical-align: middle;\n",
       "    }\n",
       "\n",
       "    .dataframe tbody tr th {\n",
       "        vertical-align: top;\n",
       "    }\n",
       "\n",
       "    .dataframe thead th {\n",
       "        text-align: right;\n",
       "    }\n",
       "</style>\n",
       "<table border=\"1\" class=\"dataframe\">\n",
       "  <thead>\n",
       "    <tr style=\"text-align: right;\">\n",
       "      <th></th>\n",
       "      <th>count</th>\n",
       "      <th>mean_sq_m_price</th>\n",
       "    </tr>\n",
       "    <tr>\n",
       "      <th>locality_name</th>\n",
       "      <th></th>\n",
       "      <th></th>\n",
       "    </tr>\n",
       "  </thead>\n",
       "  <tbody>\n",
       "    <tr>\n",
       "      <th>Санкт-Петербург</th>\n",
       "      <td>9856</td>\n",
       "      <td>111455.949668</td>\n",
       "    </tr>\n",
       "    <tr>\n",
       "      <th>Всеволожск</th>\n",
       "      <td>272</td>\n",
       "      <td>67344.467501</td>\n",
       "    </tr>\n",
       "    <tr>\n",
       "      <th>Пушкин</th>\n",
       "      <td>234</td>\n",
       "      <td>103920.487928</td>\n",
       "    </tr>\n",
       "    <tr>\n",
       "      <th>поселок Шушары</th>\n",
       "      <td>217</td>\n",
       "      <td>79538.627641</td>\n",
       "    </tr>\n",
       "    <tr>\n",
       "      <th>поселок Мурино</th>\n",
       "      <td>214</td>\n",
       "      <td>87138.590997</td>\n",
       "    </tr>\n",
       "    <tr>\n",
       "      <th>Колпино</th>\n",
       "      <td>203</td>\n",
       "      <td>75938.525561</td>\n",
       "    </tr>\n",
       "    <tr>\n",
       "      <th>Гатчина</th>\n",
       "      <td>148</td>\n",
       "      <td>70024.959358</td>\n",
       "    </tr>\n",
       "    <tr>\n",
       "      <th>Петергоф</th>\n",
       "      <td>145</td>\n",
       "      <td>85554.144673</td>\n",
       "    </tr>\n",
       "    <tr>\n",
       "      <th>поселок Парголово</th>\n",
       "      <td>137</td>\n",
       "      <td>90901.351145</td>\n",
       "    </tr>\n",
       "    <tr>\n",
       "      <th>Сестрорецк</th>\n",
       "      <td>129</td>\n",
       "      <td>102267.327328</td>\n",
       "    </tr>\n",
       "  </tbody>\n",
       "</table>\n",
       "</div>"
      ],
      "text/plain": [
       "                   count  mean_sq_m_price\n",
       "locality_name                            \n",
       "Санкт-Петербург     9856    111455.949668\n",
       "Всеволожск           272     67344.467501\n",
       "Пушкин               234    103920.487928\n",
       "поселок Шушары       217     79538.627641\n",
       "поселок Мурино       214     87138.590997\n",
       "Колпино              203     75938.525561\n",
       "Гатчина              148     70024.959358\n",
       "Петергоф             145     85554.144673\n",
       "поселок Парголово    137     90901.351145\n",
       "Сестрорецк           129    102267.327328"
      ]
     },
     "metadata": {},
     "output_type": "display_data"
    },
    {
     "name": "stdout",
     "output_type": "stream",
     "text": [
      "\n",
      "Населённый пункт с самой высокой стоимостью кв. метра: Санкт-Петербург\n",
      "Населённый пункт с самой низкой стоимостью кв. метра: Всеволожск\n"
     ]
    }
   ],
   "source": [
    "data_1 = data.groupby('locality_name').agg({'square_meter_price': ['count', 'mean']})\n",
    "data_1.columns = ['count', 'mean_sq_m_price']\n",
    "data_2 = data_1.sort_values(by='count', ascending=False).head(10)\n",
    "display(data_2)\n",
    "print()\n",
    "print('Населённый пункт с самой высокой стоимостью кв. метра:', data_2['mean_sq_m_price'].idxmax())\n",
    "print('Населённый пункт с самой низкой стоимостью кв. метра:', data_2['mean_sq_m_price'].idxmin())"
   ]
  },
  {
   "cell_type": "markdown",
   "metadata": {},
   "source": [
    "**Зависимость стоимости объектов Санкт-Петербурга от расстояния до центра города**"
   ]
  },
  {
   "cell_type": "code",
   "execution_count": 55,
   "metadata": {},
   "outputs": [
    {
     "data": {
      "text/html": [
       "<div>\n",
       "<style scoped>\n",
       "    .dataframe tbody tr th:only-of-type {\n",
       "        vertical-align: middle;\n",
       "    }\n",
       "\n",
       "    .dataframe tbody tr th {\n",
       "        vertical-align: top;\n",
       "    }\n",
       "\n",
       "    .dataframe thead th {\n",
       "        text-align: right;\n",
       "    }\n",
       "</style>\n",
       "<table border=\"1\" class=\"dataframe\">\n",
       "  <thead>\n",
       "    <tr style=\"text-align: right;\">\n",
       "      <th></th>\n",
       "      <th>last_price</th>\n",
       "    </tr>\n",
       "    <tr>\n",
       "      <th>city_centers_nearest_km</th>\n",
       "      <th></th>\n",
       "    </tr>\n",
       "  </thead>\n",
       "  <tbody>\n",
       "    <tr>\n",
       "      <th>0.0</th>\n",
       "      <td>1.197333e+07</td>\n",
       "    </tr>\n",
       "    <tr>\n",
       "      <th>1.0</th>\n",
       "      <td>1.230229e+07</td>\n",
       "    </tr>\n",
       "    <tr>\n",
       "      <th>2.0</th>\n",
       "      <td>1.146350e+07</td>\n",
       "    </tr>\n",
       "    <tr>\n",
       "      <th>3.0</th>\n",
       "      <td>9.676787e+06</td>\n",
       "    </tr>\n",
       "    <tr>\n",
       "      <th>4.0</th>\n",
       "      <td>1.082926e+07</td>\n",
       "    </tr>\n",
       "    <tr>\n",
       "      <th>5.0</th>\n",
       "      <td>1.090761e+07</td>\n",
       "    </tr>\n",
       "    <tr>\n",
       "      <th>6.0</th>\n",
       "      <td>9.734512e+06</td>\n",
       "    </tr>\n",
       "    <tr>\n",
       "      <th>7.0</th>\n",
       "      <td>8.820049e+06</td>\n",
       "    </tr>\n",
       "    <tr>\n",
       "      <th>8.0</th>\n",
       "      <td>9.220220e+06</td>\n",
       "    </tr>\n",
       "    <tr>\n",
       "      <th>9.0</th>\n",
       "      <td>7.141590e+06</td>\n",
       "    </tr>\n",
       "    <tr>\n",
       "      <th>10.0</th>\n",
       "      <td>6.660842e+06</td>\n",
       "    </tr>\n",
       "    <tr>\n",
       "      <th>11.0</th>\n",
       "      <td>6.259735e+06</td>\n",
       "    </tr>\n",
       "    <tr>\n",
       "      <th>12.0</th>\n",
       "      <td>5.922132e+06</td>\n",
       "    </tr>\n",
       "    <tr>\n",
       "      <th>13.0</th>\n",
       "      <td>6.206237e+06</td>\n",
       "    </tr>\n",
       "    <tr>\n",
       "      <th>14.0</th>\n",
       "      <td>5.603496e+06</td>\n",
       "    </tr>\n",
       "    <tr>\n",
       "      <th>15.0</th>\n",
       "      <td>5.869316e+06</td>\n",
       "    </tr>\n",
       "    <tr>\n",
       "      <th>16.0</th>\n",
       "      <td>5.393730e+06</td>\n",
       "    </tr>\n",
       "    <tr>\n",
       "      <th>17.0</th>\n",
       "      <td>5.261481e+06</td>\n",
       "    </tr>\n",
       "    <tr>\n",
       "      <th>18.0</th>\n",
       "      <td>4.894926e+06</td>\n",
       "    </tr>\n",
       "    <tr>\n",
       "      <th>19.0</th>\n",
       "      <td>4.987383e+06</td>\n",
       "    </tr>\n",
       "    <tr>\n",
       "      <th>20.0</th>\n",
       "      <td>5.404231e+06</td>\n",
       "    </tr>\n",
       "    <tr>\n",
       "      <th>21.0</th>\n",
       "      <td>5.809508e+06</td>\n",
       "    </tr>\n",
       "    <tr>\n",
       "      <th>22.0</th>\n",
       "      <td>5.464979e+06</td>\n",
       "    </tr>\n",
       "    <tr>\n",
       "      <th>23.0</th>\n",
       "      <td>5.138915e+06</td>\n",
       "    </tr>\n",
       "    <tr>\n",
       "      <th>24.0</th>\n",
       "      <td>4.648000e+06</td>\n",
       "    </tr>\n",
       "    <tr>\n",
       "      <th>25.0</th>\n",
       "      <td>4.267500e+06</td>\n",
       "    </tr>\n",
       "    <tr>\n",
       "      <th>26.0</th>\n",
       "      <td>4.162600e+06</td>\n",
       "    </tr>\n",
       "    <tr>\n",
       "      <th>27.0</th>\n",
       "      <td>1.435000e+07</td>\n",
       "    </tr>\n",
       "    <tr>\n",
       "      <th>28.0</th>\n",
       "      <td>7.600000e+06</td>\n",
       "    </tr>\n",
       "    <tr>\n",
       "      <th>29.0</th>\n",
       "      <td>4.114000e+06</td>\n",
       "    </tr>\n",
       "  </tbody>\n",
       "</table>\n",
       "</div>"
      ],
      "text/plain": [
       "                           last_price\n",
       "city_centers_nearest_km              \n",
       "0.0                      1.197333e+07\n",
       "1.0                      1.230229e+07\n",
       "2.0                      1.146350e+07\n",
       "3.0                      9.676787e+06\n",
       "4.0                      1.082926e+07\n",
       "5.0                      1.090761e+07\n",
       "6.0                      9.734512e+06\n",
       "7.0                      8.820049e+06\n",
       "8.0                      9.220220e+06\n",
       "9.0                      7.141590e+06\n",
       "10.0                     6.660842e+06\n",
       "11.0                     6.259735e+06\n",
       "12.0                     5.922132e+06\n",
       "13.0                     6.206237e+06\n",
       "14.0                     5.603496e+06\n",
       "15.0                     5.869316e+06\n",
       "16.0                     5.393730e+06\n",
       "17.0                     5.261481e+06\n",
       "18.0                     4.894926e+06\n",
       "19.0                     4.987383e+06\n",
       "20.0                     5.404231e+06\n",
       "21.0                     5.809508e+06\n",
       "22.0                     5.464979e+06\n",
       "23.0                     5.138915e+06\n",
       "24.0                     4.648000e+06\n",
       "25.0                     4.267500e+06\n",
       "26.0                     4.162600e+06\n",
       "27.0                     1.435000e+07\n",
       "28.0                     7.600000e+06\n",
       "29.0                     4.114000e+06"
      ]
     },
     "metadata": {},
     "output_type": "display_data"
    },
    {
     "data": {
      "image/png": "[encoded data removed]",
      "text/plain": [
       "<Figure size 432x288 with 1 Axes>"
      ]
     },
     "metadata": {
      "needs_background": "light"
     },
     "output_type": "display_data"
    }
   ],
   "source": [
    "data_spb = data.query('locality_name == \"Санкт-Петербург\"')\n",
    "data_spb_grouped = data_spb.groupby('city_centers_nearest_km').agg({'last_price': 'mean'})\n",
    "display(data_spb_grouped)\n",
    "data_spb_grouped.plot();"
   ]
  },
  {
   "cell_type": "markdown",
   "metadata": {},
   "source": [
    "График в целом соответствует ожиданиям - чем ближе к центру, тем выше цена, и наоборот. Но есть 2 аномальных всплеска в 5-7 и 27 км от центра - в этих зонах средняя стоимость квартир значительно выше ожидаемой. Для полноты картины сделаем аналогичный график для средней цены 1 кв. метра."
   ]
  },
  {
   "cell_type": "code",
   "execution_count": 57,
   "metadata": {},
   "outputs": [
    {
     "data": {
      "image/png": "[encoded data removed]",
      "text/plain": [
       "<Figure size 432x288 with 1 Axes>"
      ]
     },
     "metadata": {
      "needs_background": "light"
     },
     "output_type": "display_data"
    }
   ],
   "source": [
    "data_spb_grouped_sq = data_spb.groupby('city_centers_nearest_km').agg({'square_meter_price': 'mean'})\n",
    "data_spb_grouped_sq.plot();"
   ]
  },
  {
   "cell_type": "markdown",
   "metadata": {},
   "source": [
    "Здесь аномалии в 5-7 и, особенно, в 27 км от центра видны еще лучше. Видимо в этих зонах расположены особые, благополучные районы города."
   ]
  },
  {
   "cell_type": "markdown",
   "metadata": {},
   "source": [
    "### Общий вывод"
   ]
  },
  {
   "cell_type": "markdown",
   "metadata": {},
   "source": [
    "Наиболее часто распространенные квартиры в базе данных имеют следующие параметры:\n",
    "- общая площадь в диапазоне 30-70 кв.м., пиковая распространенность у 45 кв.м квартир;\n",
    "- жилая площать 18 кв.м;\n",
    "- площадь кухни 8 кв.м;\n",
    "- стоимость 3.8 млн;\n",
    "- 1 или 2 комнаты;\n",
    "- высота потолков 2.5 м;\n",
    "- расположена на этаже со 2 по 5;\n",
    "- вероятнее всего эта квартира в 5- или 9-этажном доме\n",
    "- дом находится в 12-15 км от центра города;\n",
    "- расстояние до аэропорта находится в диапазоне 15-25 км;\n",
    "- парка рядом с квартирой вероятнее всего нет, но если он есть, то скорее всего он в 500 м от дома.\n",
    "\n",
    "Большинство объявлений о продаже квартир публикуются в рабочие дни, особенно в четверг, а самые активные месяцы - февраль, март, апрель и ноябрь.\n",
    "\n",
    "Большинство квартир на сайте продается в пределах 100 дней. Если объект находится в публикации более 200 дней, то вероятно объект неликвиден, либо выставлена нерыночная цена.\n",
    "\n",
    "В масс-сегменте квартир на цену влияют:\n",
    "- площадь, как общая, так и жилая, так и площадь кухни;\n",
    "- количество комнат - чем больше, тем квартира дороже;\n",
    "- этаж квартиры: квартиры на 1 этаже в-среднем доступнее остальных.\n",
    "\n",
    "День и месяц публикации на цену квартиры не влияют, но в-среднем во вторникам публикуют более дорогие объекты недвижимости, по воскресеньям - менее. Аналогично в марте публикуются более дорогие объекты, в июне - менее.\n",
    "\n",
    "За период 2014-2019 цены на недвижимость в Петербурге менялись разнонаправленно. В 2014-2017 медианная цена публикуемых квартир снизилась с 7.5 до 4.5 млн. В 2017 медиана снова начала расти, но в 2019 все еще оставалась ниже уровня 2015 года.\n",
    "\n",
    "Населённый пункт с самой высокой стоимостью кв. метра в Ленинградской обл. среди 10 населенных пунктов с самым большим кол-вом объявлений - Санкт-Петербург. С самой низкой - Выборг.\n",
    "\n",
    "В Петербурге с ростом расстояния от центра города стоимость жилья снижается нелинейно - в зонах, расположенных в 5-7 и 27 км от центра стоимость как квартир, так и км.м в них значительно выше ожидаемой."
   ]
  }
 ],
 "metadata": {
  "ExecuteTimeLog": [
   {
    "duration": 751,
    "start_time": "2022-06-20T11:54:13.117Z"
   },
   {
    "duration": 252,
    "start_time": "2022-06-20T11:54:36.844Z"
   },
   {
    "duration": 131,
    "start_time": "2022-06-20T11:54:50.551Z"
   },
   {
    "duration": 109,
    "start_time": "2022-06-20T11:55:13.447Z"
   },
   {
    "duration": 72,
    "start_time": "2022-06-20T11:55:31.029Z"
   },
   {
    "duration": 86,
    "start_time": "2022-06-20T11:56:34.981Z"
   },
   {
    "duration": 82,
    "start_time": "2022-06-20T11:57:08.356Z"
   },
   {
    "duration": 71,
    "start_time": "2022-06-20T11:57:35.303Z"
   },
   {
    "duration": 112,
    "start_time": "2022-06-20T11:57:48.742Z"
   },
   {
    "duration": 85,
    "start_time": "2022-06-20T11:58:00.119Z"
   },
   {
    "duration": 128,
    "start_time": "2022-06-20T12:04:27.600Z"
   },
   {
    "duration": 117,
    "start_time": "2022-06-20T12:04:55.338Z"
   },
   {
    "duration": 123,
    "start_time": "2022-06-20T12:32:04.853Z"
   },
   {
    "duration": 15,
    "start_time": "2022-06-20T12:33:05.376Z"
   },
   {
    "duration": 14,
    "start_time": "2022-06-20T12:38:30.005Z"
   },
   {
    "duration": 2303,
    "start_time": "2022-06-20T12:39:10.156Z"
   },
   {
    "duration": 48,
    "start_time": "2022-06-20T13:02:38.264Z"
   },
   {
    "duration": 24,
    "start_time": "2022-06-20T13:03:00.439Z"
   },
   {
    "duration": 18,
    "start_time": "2022-06-20T13:03:16.325Z"
   },
   {
    "duration": 24,
    "start_time": "2022-06-20T13:03:28.344Z"
   },
   {
    "duration": 60,
    "start_time": "2022-06-20T13:05:35.920Z"
   },
   {
    "duration": 5,
    "start_time": "2022-06-20T13:06:04.228Z"
   },
   {
    "duration": 51,
    "start_time": "2022-06-20T13:07:03.999Z"
   },
   {
    "duration": 23,
    "start_time": "2022-06-20T13:07:22.001Z"
   },
   {
    "duration": 6,
    "start_time": "2022-06-20T13:07:50.962Z"
   },
   {
    "duration": 5,
    "start_time": "2022-06-20T13:08:10.901Z"
   },
   {
    "duration": 8,
    "start_time": "2022-06-20T13:08:29.180Z"
   },
   {
    "duration": 13,
    "start_time": "2022-06-20T13:08:48.992Z"
   },
   {
    "duration": 6,
    "start_time": "2022-06-20T13:08:59.565Z"
   },
   {
    "duration": 13,
    "start_time": "2022-06-20T13:09:07.830Z"
   },
   {
    "duration": 28,
    "start_time": "2022-06-20T13:12:25.309Z"
   },
   {
    "duration": 24,
    "start_time": "2022-06-20T13:12:34.280Z"
   },
   {
    "duration": 69,
    "start_time": "2022-06-20T13:13:12.472Z"
   },
   {
    "duration": 6,
    "start_time": "2022-06-20T13:13:16.706Z"
   },
   {
    "duration": 6,
    "start_time": "2022-06-20T13:13:28.610Z"
   },
   {
    "duration": 3,
    "start_time": "2022-06-20T13:14:05.144Z"
   },
   {
    "duration": 14,
    "start_time": "2022-06-20T13:14:16.028Z"
   },
   {
    "duration": 4,
    "start_time": "2022-06-20T13:31:59.106Z"
   },
   {
    "duration": 4,
    "start_time": "2022-06-20T13:32:00.646Z"
   },
   {
    "duration": 14,
    "start_time": "2022-06-20T13:32:01.898Z"
   },
   {
    "duration": 22,
    "start_time": "2022-06-20T13:37:15.651Z"
   },
   {
    "duration": 4,
    "start_time": "2022-06-20T13:37:22.259Z"
   },
   {
    "duration": 4,
    "start_time": "2022-06-20T13:37:22.861Z"
   },
   {
    "duration": 3,
    "start_time": "2022-06-20T13:37:23.235Z"
   },
   {
    "duration": 3,
    "start_time": "2022-06-20T13:37:23.879Z"
   },
   {
    "duration": 12,
    "start_time": "2022-06-20T13:37:24.948Z"
   },
   {
    "duration": 7,
    "start_time": "2022-06-20T13:40:47.275Z"
   },
   {
    "duration": 71,
    "start_time": "2022-06-20T13:41:22.411Z"
   },
   {
    "duration": 5,
    "start_time": "2022-06-20T13:41:27.439Z"
   },
   {
    "duration": 34,
    "start_time": "2022-06-20T13:41:51.614Z"
   },
   {
    "duration": 32,
    "start_time": "2022-06-20T13:43:44.107Z"
   },
   {
    "duration": 37,
    "start_time": "2022-06-20T13:45:10.057Z"
   },
   {
    "duration": 13,
    "start_time": "2022-06-20T13:46:51.011Z"
   },
   {
    "duration": 9,
    "start_time": "2022-06-20T14:00:49.337Z"
   },
   {
    "duration": 12,
    "start_time": "2022-06-20T14:01:18.414Z"
   },
   {
    "duration": 13,
    "start_time": "2022-06-20T14:01:23.709Z"
   },
   {
    "duration": 29,
    "start_time": "2022-06-20T14:11:37.577Z"
   },
   {
    "duration": 22,
    "start_time": "2022-06-20T14:12:05.906Z"
   },
   {
    "duration": 26,
    "start_time": "2022-06-20T14:38:03.170Z"
   },
   {
    "duration": 21,
    "start_time": "2022-06-20T14:38:15.713Z"
   },
   {
    "duration": 19,
    "start_time": "2022-06-20T14:38:22.661Z"
   },
   {
    "duration": 11,
    "start_time": "2022-06-20T14:39:53.101Z"
   },
   {
    "duration": 6,
    "start_time": "2022-06-20T14:42:28.608Z"
   },
   {
    "duration": 11,
    "start_time": "2022-06-20T14:43:03.965Z"
   },
   {
    "duration": 8,
    "start_time": "2022-06-20T14:44:25.056Z"
   },
   {
    "duration": 8,
    "start_time": "2022-06-20T14:44:46.527Z"
   },
   {
    "duration": 9,
    "start_time": "2022-06-20T14:48:40.867Z"
   },
   {
    "duration": 9,
    "start_time": "2022-06-20T14:49:09.695Z"
   },
   {
    "duration": 8,
    "start_time": "2022-06-20T14:49:17.159Z"
   },
   {
    "duration": 7,
    "start_time": "2022-06-20T14:49:29.841Z"
   },
   {
    "duration": 7,
    "start_time": "2022-06-20T14:49:41.298Z"
   },
   {
    "duration": 9,
    "start_time": "2022-06-20T14:50:50.492Z"
   },
   {
    "duration": 10,
    "start_time": "2022-06-20T14:51:09.763Z"
   },
   {
    "duration": 10,
    "start_time": "2022-06-20T14:52:00.023Z"
   },
   {
    "duration": 8,
    "start_time": "2022-06-20T14:52:15.826Z"
   },
   {
    "duration": 5,
    "start_time": "2022-06-20T14:52:26.221Z"
   },
   {
    "duration": 6,
    "start_time": "2022-06-20T14:53:09.244Z"
   },
   {
    "duration": 8,
    "start_time": "2022-06-20T14:54:50.646Z"
   },
   {
    "duration": 8,
    "start_time": "2022-06-20T14:56:02.536Z"
   },
   {
    "duration": 97,
    "start_time": "2022-06-20T14:57:14.239Z"
   },
   {
    "duration": 23,
    "start_time": "2022-06-20T14:57:14.337Z"
   },
   {
    "duration": 1902,
    "start_time": "2022-06-20T14:57:14.362Z"
   },
   {
    "duration": 26,
    "start_time": "2022-06-20T14:57:16.266Z"
   },
   {
    "duration": 31,
    "start_time": "2022-06-20T14:57:16.294Z"
   },
   {
    "duration": 24,
    "start_time": "2022-06-20T14:57:16.327Z"
   },
   {
    "duration": 9,
    "start_time": "2022-06-20T14:57:19.502Z"
   },
   {
    "duration": 602,
    "start_time": "2022-06-21T15:13:22.290Z"
   },
   {
    "duration": 44,
    "start_time": "2022-06-21T15:13:22.894Z"
   },
   {
    "duration": 2747,
    "start_time": "2022-06-21T15:13:22.940Z"
   },
   {
    "duration": 30,
    "start_time": "2022-06-21T15:13:25.689Z"
   },
   {
    "duration": 25,
    "start_time": "2022-06-21T15:13:25.721Z"
   },
   {
    "duration": 27,
    "start_time": "2022-06-21T15:13:25.748Z"
   },
   {
    "duration": 80,
    "start_time": "2022-06-21T15:13:29.689Z"
   },
   {
    "duration": 7,
    "start_time": "2022-06-21T15:13:55.732Z"
   },
   {
    "duration": 8,
    "start_time": "2022-06-21T15:14:26.051Z"
   },
   {
    "duration": 10,
    "start_time": "2022-06-21T15:15:14.551Z"
   },
   {
    "duration": 4,
    "start_time": "2022-06-21T15:15:21.111Z"
   },
   {
    "duration": 6,
    "start_time": "2022-06-21T15:15:29.814Z"
   },
   {
    "duration": 9,
    "start_time": "2022-06-21T15:15:49.238Z"
   },
   {
    "duration": 9,
    "start_time": "2022-06-21T15:15:57.919Z"
   },
   {
    "duration": 11,
    "start_time": "2022-06-21T15:16:05.401Z"
   },
   {
    "duration": 10,
    "start_time": "2022-06-21T15:17:09.181Z"
   },
   {
    "duration": 11,
    "start_time": "2022-06-21T15:19:06.578Z"
   },
   {
    "duration": 9,
    "start_time": "2022-06-21T15:19:19.303Z"
   },
   {
    "duration": 8,
    "start_time": "2022-06-21T15:19:24.769Z"
   },
   {
    "duration": 6,
    "start_time": "2022-06-21T15:19:34.194Z"
   },
   {
    "duration": 10,
    "start_time": "2022-06-21T15:20:06.899Z"
   },
   {
    "duration": 5,
    "start_time": "2022-06-21T15:20:18.116Z"
   },
   {
    "duration": 8,
    "start_time": "2022-06-21T15:23:51.970Z"
   },
   {
    "duration": 17,
    "start_time": "2022-06-21T15:24:06.821Z"
   },
   {
    "duration": 9,
    "start_time": "2022-06-21T15:25:53.134Z"
   },
   {
    "duration": 55,
    "start_time": "2022-06-21T15:27:44.002Z"
   },
   {
    "duration": 9,
    "start_time": "2022-06-21T15:28:10.877Z"
   },
   {
    "duration": 12,
    "start_time": "2022-06-21T15:28:57.482Z"
   },
   {
    "duration": 14,
    "start_time": "2022-06-21T15:29:08.585Z"
   },
   {
    "duration": 10,
    "start_time": "2022-06-21T15:43:37.051Z"
   },
   {
    "duration": 10,
    "start_time": "2022-06-21T15:43:55.221Z"
   },
   {
    "duration": 7,
    "start_time": "2022-06-21T15:44:04.595Z"
   },
   {
    "duration": 7,
    "start_time": "2022-06-21T15:44:07.520Z"
   },
   {
    "duration": 135,
    "start_time": "2022-06-21T15:44:15.560Z"
   },
   {
    "duration": 39,
    "start_time": "2022-06-21T15:44:15.697Z"
   },
   {
    "duration": 2355,
    "start_time": "2022-06-21T15:44:15.738Z"
   },
   {
    "duration": 40,
    "start_time": "2022-06-21T15:44:18.095Z"
   },
   {
    "duration": 15,
    "start_time": "2022-06-21T15:44:18.137Z"
   },
   {
    "duration": 23,
    "start_time": "2022-06-21T15:44:18.154Z"
   },
   {
    "duration": 5,
    "start_time": "2022-06-21T15:44:18.179Z"
   },
   {
    "duration": 5,
    "start_time": "2022-06-21T15:44:21.096Z"
   },
   {
    "duration": 120,
    "start_time": "2022-06-21T15:44:35.528Z"
   },
   {
    "duration": 11,
    "start_time": "2022-06-21T15:44:46.638Z"
   },
   {
    "duration": 8,
    "start_time": "2022-06-21T15:44:57.185Z"
   },
   {
    "duration": 7,
    "start_time": "2022-06-21T15:45:19.084Z"
   },
   {
    "duration": 10,
    "start_time": "2022-06-21T15:45:27.725Z"
   },
   {
    "duration": 113,
    "start_time": "2022-06-21T15:48:39.596Z"
   },
   {
    "duration": 15,
    "start_time": "2022-06-21T15:48:44.770Z"
   },
   {
    "duration": 19,
    "start_time": "2022-06-21T16:09:50.389Z"
   },
   {
    "duration": 117,
    "start_time": "2022-06-21T16:21:41.356Z"
   },
   {
    "duration": 12,
    "start_time": "2022-06-21T16:55:16.228Z"
   },
   {
    "duration": 15,
    "start_time": "2022-06-21T16:57:01.191Z"
   },
   {
    "duration": 3,
    "start_time": "2022-06-21T17:04:31.189Z"
   },
   {
    "duration": 3,
    "start_time": "2022-06-21T17:04:51.791Z"
   },
   {
    "duration": 148,
    "start_time": "2022-06-21T17:05:36.739Z"
   },
   {
    "duration": 198,
    "start_time": "2022-06-21T17:05:49.748Z"
   },
   {
    "duration": 187,
    "start_time": "2022-06-21T17:06:19.152Z"
   },
   {
    "duration": 206,
    "start_time": "2022-06-21T17:06:40.589Z"
   },
   {
    "duration": 219,
    "start_time": "2022-06-21T17:07:16.709Z"
   },
   {
    "duration": 199,
    "start_time": "2022-06-21T17:07:45.935Z"
   },
   {
    "duration": 317,
    "start_time": "2022-06-21T17:08:00.584Z"
   },
   {
    "duration": 6,
    "start_time": "2022-06-21T17:13:34.925Z"
   },
   {
    "duration": 5,
    "start_time": "2022-06-21T17:13:45.737Z"
   },
   {
    "duration": 16,
    "start_time": "2022-06-21T17:13:49.110Z"
   },
   {
    "duration": 153,
    "start_time": "2022-06-21T17:14:26.975Z"
   },
   {
    "duration": 277,
    "start_time": "2022-06-21T17:14:38.436Z"
   },
   {
    "duration": 181,
    "start_time": "2022-06-21T17:15:02.299Z"
   },
   {
    "duration": 4,
    "start_time": "2022-06-21T17:16:11.611Z"
   },
   {
    "duration": 283,
    "start_time": "2022-06-21T17:16:18.775Z"
   },
   {
    "duration": 76,
    "start_time": "2022-06-21T17:16:34.739Z"
   },
   {
    "duration": 10,
    "start_time": "2022-06-21T17:16:57.610Z"
   },
   {
    "duration": 331,
    "start_time": "2022-06-21T17:17:14.271Z"
   },
   {
    "duration": 81,
    "start_time": "2022-06-21T17:17:27.140Z"
   },
   {
    "duration": 247,
    "start_time": "2022-06-21T17:17:51.383Z"
   },
   {
    "duration": 232,
    "start_time": "2022-06-21T17:18:02.443Z"
   },
   {
    "duration": 415,
    "start_time": "2022-06-21T17:18:09.422Z"
   },
   {
    "duration": 269,
    "start_time": "2022-06-21T17:18:33.522Z"
   },
   {
    "duration": 288,
    "start_time": "2022-06-21T17:18:42.826Z"
   },
   {
    "duration": 270,
    "start_time": "2022-06-21T17:18:59.069Z"
   },
   {
    "duration": 16,
    "start_time": "2022-06-21T17:20:30.838Z"
   },
   {
    "duration": 205,
    "start_time": "2022-06-21T17:20:37.749Z"
   },
   {
    "duration": 24,
    "start_time": "2022-06-21T17:20:53.270Z"
   },
   {
    "duration": 190,
    "start_time": "2022-06-21T17:20:57.737Z"
   },
   {
    "duration": 198,
    "start_time": "2022-06-21T17:21:06.779Z"
   },
   {
    "duration": 167,
    "start_time": "2022-06-21T17:21:14.780Z"
   },
   {
    "duration": 14,
    "start_time": "2022-06-21T17:21:19.010Z"
   },
   {
    "duration": 236,
    "start_time": "2022-06-21T17:21:26.342Z"
   },
   {
    "duration": 119,
    "start_time": "2022-06-21T17:21:58.580Z"
   },
   {
    "duration": 32,
    "start_time": "2022-06-21T17:21:58.701Z"
   },
   {
    "duration": 2191,
    "start_time": "2022-06-21T17:21:58.735Z"
   },
   {
    "duration": 29,
    "start_time": "2022-06-21T17:22:00.928Z"
   },
   {
    "duration": 15,
    "start_time": "2022-06-21T17:22:03.877Z"
   },
   {
    "duration": 217,
    "start_time": "2022-06-21T17:22:13.185Z"
   },
   {
    "duration": 99,
    "start_time": "2022-06-21T17:23:45.507Z"
   },
   {
    "duration": 1610,
    "start_time": "2022-06-21T17:23:51.197Z"
   },
   {
    "duration": 476,
    "start_time": "2022-06-21T17:24:38.722Z"
   },
   {
    "duration": 17,
    "start_time": "2022-06-21T17:25:13.999Z"
   },
   {
    "duration": 184,
    "start_time": "2022-06-21T17:25:18.444Z"
   },
   {
    "duration": 184,
    "start_time": "2022-06-21T17:26:13.401Z"
   },
   {
    "duration": 134,
    "start_time": "2022-06-21T17:27:05.938Z"
   },
   {
    "duration": 179,
    "start_time": "2022-06-21T17:27:19.537Z"
   },
   {
    "duration": 19,
    "start_time": "2022-06-21T17:28:53.416Z"
   },
   {
    "duration": 13,
    "start_time": "2022-06-21T17:29:01.392Z"
   },
   {
    "duration": 7,
    "start_time": "2022-06-21T17:30:40.387Z"
   },
   {
    "duration": 10,
    "start_time": "2022-06-21T17:30:59.225Z"
   },
   {
    "duration": 7,
    "start_time": "2022-06-21T17:31:15.493Z"
   },
   {
    "duration": 9,
    "start_time": "2022-06-21T17:31:32.367Z"
   },
   {
    "duration": 22,
    "start_time": "2022-06-21T17:32:56.921Z"
   },
   {
    "duration": 16,
    "start_time": "2022-06-21T17:33:03.950Z"
   },
   {
    "duration": 39,
    "start_time": "2022-06-21T17:40:48.045Z"
   },
   {
    "duration": 19,
    "start_time": "2022-06-21T17:45:02.801Z"
   },
   {
    "duration": 14,
    "start_time": "2022-06-21T17:45:08.493Z"
   },
   {
    "duration": 192,
    "start_time": "2022-06-21T17:46:13.305Z"
   },
   {
    "duration": 6,
    "start_time": "2022-06-21T17:47:15.283Z"
   },
   {
    "duration": 13,
    "start_time": "2022-06-21T17:47:18.197Z"
   },
   {
    "duration": 5,
    "start_time": "2022-06-21T17:47:30.685Z"
   },
   {
    "duration": 14,
    "start_time": "2022-06-21T17:47:49.783Z"
   },
   {
    "duration": 16,
    "start_time": "2022-06-21T17:49:13.673Z"
   },
   {
    "duration": 10,
    "start_time": "2022-06-21T17:50:05.997Z"
   },
   {
    "duration": 29,
    "start_time": "2022-06-21T17:51:10.453Z"
   },
   {
    "duration": 9,
    "start_time": "2022-06-21T17:51:22.285Z"
   },
   {
    "duration": 63,
    "start_time": "2022-06-21T17:52:26.577Z"
   },
   {
    "duration": 10,
    "start_time": "2022-06-21T17:52:34.539Z"
   },
   {
    "duration": 60,
    "start_time": "2022-06-21T17:53:39.676Z"
   },
   {
    "duration": 58,
    "start_time": "2022-06-21T17:54:00.013Z"
   },
   {
    "duration": 71,
    "start_time": "2022-06-21T17:55:40.883Z"
   },
   {
    "duration": 23,
    "start_time": "2022-06-21T17:57:08.660Z"
   },
   {
    "duration": 63,
    "start_time": "2022-06-21T17:57:25.759Z"
   },
   {
    "duration": 10,
    "start_time": "2022-06-21T17:57:30.943Z"
   },
   {
    "duration": 82,
    "start_time": "2022-06-21T18:00:36.132Z"
   },
   {
    "duration": 71,
    "start_time": "2022-06-21T18:00:49.875Z"
   },
   {
    "duration": 7,
    "start_time": "2022-06-21T18:05:48.228Z"
   },
   {
    "duration": 16,
    "start_time": "2022-06-21T18:08:33.840Z"
   },
   {
    "duration": 23,
    "start_time": "2022-06-21T18:12:08.081Z"
   },
   {
    "duration": 296,
    "start_time": "2022-06-21T18:13:37.877Z"
   },
   {
    "duration": 30,
    "start_time": "2022-06-21T18:14:36.508Z"
   },
   {
    "duration": 22,
    "start_time": "2022-06-21T18:15:04.400Z"
   },
   {
    "duration": 19,
    "start_time": "2022-06-21T18:15:10.956Z"
   },
   {
    "duration": 20,
    "start_time": "2022-06-21T18:17:50.675Z"
   },
   {
    "duration": 237,
    "start_time": "2022-06-21T18:17:58.615Z"
   },
   {
    "duration": 111,
    "start_time": "2022-06-21T18:18:29.637Z"
   },
   {
    "duration": 27,
    "start_time": "2022-06-21T18:18:29.750Z"
   },
   {
    "duration": 2266,
    "start_time": "2022-06-21T18:18:29.779Z"
   },
   {
    "duration": 5,
    "start_time": "2022-06-21T18:18:32.047Z"
   },
   {
    "duration": 21,
    "start_time": "2022-06-21T18:18:32.054Z"
   },
   {
    "duration": 20,
    "start_time": "2022-06-21T18:18:32.077Z"
   },
   {
    "duration": 38,
    "start_time": "2022-06-21T18:18:32.099Z"
   },
   {
    "duration": 8,
    "start_time": "2022-06-21T18:18:32.139Z"
   },
   {
    "duration": 62,
    "start_time": "2022-06-21T18:18:32.148Z"
   },
   {
    "duration": 26,
    "start_time": "2022-06-21T18:18:32.212Z"
   },
   {
    "duration": 207,
    "start_time": "2022-06-21T18:18:32.240Z"
   },
   {
    "duration": 292,
    "start_time": "2022-06-21T18:18:32.449Z"
   },
   {
    "duration": 24,
    "start_time": "2022-06-21T18:18:32.743Z"
   },
   {
    "duration": 15,
    "start_time": "2022-06-21T18:18:32.769Z"
   },
   {
    "duration": 24,
    "start_time": "2022-06-21T18:20:09.717Z"
   },
   {
    "duration": 15,
    "start_time": "2022-06-21T18:20:18.655Z"
   },
   {
    "duration": 18,
    "start_time": "2022-06-21T18:21:42.122Z"
   },
   {
    "duration": 14,
    "start_time": "2022-06-21T18:21:50.364Z"
   },
   {
    "duration": 10,
    "start_time": "2022-06-21T18:22:17.786Z"
   },
   {
    "duration": 117,
    "start_time": "2022-06-21T18:22:27.284Z"
   },
   {
    "duration": 38,
    "start_time": "2022-06-21T18:22:27.403Z"
   },
   {
    "duration": 2013,
    "start_time": "2022-06-21T18:22:27.442Z"
   },
   {
    "duration": 5,
    "start_time": "2022-06-21T18:22:29.458Z"
   },
   {
    "duration": 15,
    "start_time": "2022-06-21T18:22:29.465Z"
   },
   {
    "duration": 53,
    "start_time": "2022-06-21T18:22:29.482Z"
   },
   {
    "duration": 11,
    "start_time": "2022-06-21T18:22:29.537Z"
   },
   {
    "duration": 5,
    "start_time": "2022-06-21T18:22:29.550Z"
   },
   {
    "duration": 328,
    "start_time": "2022-06-21T18:22:29.557Z"
   },
   {
    "duration": 11,
    "start_time": "2022-06-21T18:22:29.887Z"
   },
   {
    "duration": 219,
    "start_time": "2022-06-21T18:22:29.899Z"
   },
   {
    "duration": 281,
    "start_time": "2022-06-21T18:22:30.120Z"
   },
   {
    "duration": 31,
    "start_time": "2022-06-21T18:22:30.402Z"
   },
   {
    "duration": 12,
    "start_time": "2022-06-21T18:22:36.349Z"
   },
   {
    "duration": 12,
    "start_time": "2022-06-21T18:27:56.059Z"
   },
   {
    "duration": 269,
    "start_time": "2022-06-21T18:35:04.318Z"
   },
   {
    "duration": 280,
    "start_time": "2022-06-21T18:35:22.185Z"
   },
   {
    "duration": 286,
    "start_time": "2022-06-21T18:35:43.500Z"
   },
   {
    "duration": 1818,
    "start_time": "2022-06-21T18:37:06.238Z"
   },
   {
    "duration": 258,
    "start_time": "2022-06-21T18:37:30.726Z"
   },
   {
    "duration": 262,
    "start_time": "2022-06-21T18:38:01.347Z"
   },
   {
    "duration": 71,
    "start_time": "2022-06-21T18:38:46.707Z"
   },
   {
    "duration": 12,
    "start_time": "2022-06-21T18:38:55.892Z"
   },
   {
    "duration": 56,
    "start_time": "2022-06-21T18:39:12.729Z"
   },
   {
    "duration": 175,
    "start_time": "2022-06-21T18:41:25.289Z"
   },
   {
    "duration": 276,
    "start_time": "2022-06-21T18:41:32.792Z"
   },
   {
    "duration": 14,
    "start_time": "2022-06-21T18:44:57.271Z"
   },
   {
    "duration": 45,
    "start_time": "2022-06-21T18:45:28.152Z"
   },
   {
    "duration": 26,
    "start_time": "2022-06-21T18:46:52.736Z"
   },
   {
    "duration": 5,
    "start_time": "2022-06-21T18:48:08.425Z"
   },
   {
    "duration": 6,
    "start_time": "2022-06-21T18:48:29.796Z"
   },
   {
    "duration": 12,
    "start_time": "2022-06-21T18:48:56.598Z"
   },
   {
    "duration": 291,
    "start_time": "2022-06-21T18:49:26.853Z"
   },
   {
    "duration": 284,
    "start_time": "2022-06-21T18:49:35.750Z"
   },
   {
    "duration": 283,
    "start_time": "2022-06-21T18:49:52.991Z"
   },
   {
    "duration": 268,
    "start_time": "2022-06-21T18:50:14.645Z"
   },
   {
    "duration": 746,
    "start_time": "2022-06-22T16:40:43.995Z"
   },
   {
    "duration": 37,
    "start_time": "2022-06-22T16:40:44.743Z"
   },
   {
    "duration": 2575,
    "start_time": "2022-06-22T16:40:44.782Z"
   },
   {
    "duration": 8,
    "start_time": "2022-06-22T16:40:47.360Z"
   },
   {
    "duration": 23,
    "start_time": "2022-06-22T16:40:47.370Z"
   },
   {
    "duration": 24,
    "start_time": "2022-06-22T16:40:47.395Z"
   },
   {
    "duration": 30,
    "start_time": "2022-06-22T16:40:47.420Z"
   },
   {
    "duration": 11,
    "start_time": "2022-06-22T16:40:47.453Z"
   },
   {
    "duration": 59,
    "start_time": "2022-06-22T16:40:47.466Z"
   },
   {
    "duration": 21,
    "start_time": "2022-06-22T16:40:47.535Z"
   },
   {
    "duration": 262,
    "start_time": "2022-06-22T16:40:47.561Z"
   },
   {
    "duration": 267,
    "start_time": "2022-06-22T16:40:47.824Z"
   },
   {
    "duration": 353,
    "start_time": "2022-06-22T16:40:48.092Z"
   },
   {
    "duration": 20,
    "start_time": "2022-06-22T16:40:48.447Z"
   },
   {
    "duration": 147,
    "start_time": "2022-06-22T16:51:31.517Z"
   },
   {
    "duration": 44,
    "start_time": "2022-06-22T16:51:41.045Z"
   },
   {
    "duration": 41,
    "start_time": "2022-06-22T16:57:45.450Z"
   },
   {
    "duration": 10,
    "start_time": "2022-06-22T16:57:56.602Z"
   },
   {
    "duration": 36,
    "start_time": "2022-06-22T16:58:09.083Z"
   },
   {
    "duration": 136,
    "start_time": "2022-06-22T17:01:07.152Z"
   },
   {
    "duration": 168,
    "start_time": "2022-06-22T17:01:18.056Z"
   },
   {
    "duration": 168,
    "start_time": "2022-06-22T17:01:40.585Z"
   },
   {
    "duration": 264,
    "start_time": "2022-06-22T17:01:54.979Z"
   },
   {
    "duration": 231,
    "start_time": "2022-06-22T17:02:01.727Z"
   },
   {
    "duration": 167,
    "start_time": "2022-06-22T17:02:06.399Z"
   },
   {
    "duration": 253,
    "start_time": "2022-06-22T17:06:12.649Z"
   },
   {
    "duration": 392,
    "start_time": "2022-06-22T17:10:07.722Z"
   },
   {
    "duration": 299,
    "start_time": "2022-06-22T17:11:15.872Z"
   },
   {
    "duration": 184,
    "start_time": "2022-06-22T17:12:57.586Z"
   },
   {
    "duration": 178,
    "start_time": "2022-06-22T17:13:16.737Z"
   },
   {
    "duration": 180,
    "start_time": "2022-06-22T17:16:05.907Z"
   },
   {
    "duration": 196,
    "start_time": "2022-06-22T17:17:27.807Z"
   },
   {
    "duration": 160,
    "start_time": "2022-06-22T17:17:31.949Z"
   },
   {
    "duration": 225,
    "start_time": "2022-06-22T17:17:37.564Z"
   },
   {
    "duration": 161,
    "start_time": "2022-06-22T17:17:41.954Z"
   },
   {
    "duration": 27,
    "start_time": "2022-06-22T17:24:08.484Z"
   },
   {
    "duration": 45,
    "start_time": "2022-06-22T17:24:51.678Z"
   },
   {
    "duration": 27,
    "start_time": "2022-06-22T17:25:30.662Z"
   },
   {
    "duration": 38,
    "start_time": "2022-06-22T17:25:46.062Z"
   },
   {
    "duration": 9,
    "start_time": "2022-06-22T17:28:49.564Z"
   },
   {
    "duration": 7,
    "start_time": "2022-06-22T17:29:02.452Z"
   },
   {
    "duration": 5,
    "start_time": "2022-06-22T17:34:24.747Z"
   },
   {
    "duration": 7,
    "start_time": "2022-06-22T17:34:40.658Z"
   },
   {
    "duration": 50,
    "start_time": "2022-06-22T17:35:55.453Z"
   },
   {
    "duration": 154,
    "start_time": "2022-06-22T17:36:45.454Z"
   },
   {
    "duration": 172,
    "start_time": "2022-06-22T17:37:30.827Z"
   },
   {
    "duration": 169,
    "start_time": "2022-06-22T17:37:40.203Z"
   },
   {
    "duration": 216,
    "start_time": "2022-06-22T17:37:49.645Z"
   },
   {
    "duration": 39,
    "start_time": "2022-06-22T17:38:37.444Z"
   },
   {
    "duration": 213,
    "start_time": "2022-06-22T17:42:49.393Z"
   },
   {
    "duration": 204,
    "start_time": "2022-06-22T17:43:09.826Z"
   },
   {
    "duration": 207,
    "start_time": "2022-06-22T17:44:19.936Z"
   },
   {
    "duration": 187,
    "start_time": "2022-06-22T17:44:35.147Z"
   },
   {
    "duration": 189,
    "start_time": "2022-06-22T17:44:47.620Z"
   },
   {
    "duration": 50,
    "start_time": "2022-06-22T17:46:56.076Z"
   },
   {
    "duration": 51,
    "start_time": "2022-06-22T17:47:39.129Z"
   },
   {
    "duration": 18,
    "start_time": "2022-06-22T17:48:32.854Z"
   },
   {
    "duration": 26,
    "start_time": "2022-06-22T17:48:46.352Z"
   },
   {
    "duration": 38,
    "start_time": "2022-06-22T17:49:41.955Z"
   },
   {
    "duration": 75,
    "start_time": "2022-06-22T17:51:17.514Z"
   },
   {
    "duration": 538,
    "start_time": "2022-06-22T17:57:48.122Z"
   },
   {
    "duration": 42,
    "start_time": "2022-06-22T17:57:48.663Z"
   },
   {
    "duration": 2437,
    "start_time": "2022-06-22T17:57:48.707Z"
   },
   {
    "duration": 10,
    "start_time": "2022-06-22T17:57:51.145Z"
   },
   {
    "duration": 15,
    "start_time": "2022-06-22T17:57:51.158Z"
   },
   {
    "duration": 25,
    "start_time": "2022-06-22T17:57:51.174Z"
   },
   {
    "duration": 8,
    "start_time": "2022-06-22T17:57:51.201Z"
   },
   {
    "duration": 5,
    "start_time": "2022-06-22T17:57:51.211Z"
   },
   {
    "duration": 78,
    "start_time": "2022-06-22T17:57:51.217Z"
   },
   {
    "duration": 9,
    "start_time": "2022-06-22T17:57:51.297Z"
   },
   {
    "duration": 281,
    "start_time": "2022-06-22T17:57:51.308Z"
   },
   {
    "duration": 311,
    "start_time": "2022-06-22T17:57:51.591Z"
   },
   {
    "duration": 185,
    "start_time": "2022-06-22T17:57:51.904Z"
   },
   {
    "duration": 218,
    "start_time": "2022-06-22T17:57:52.092Z"
   },
   {
    "duration": 263,
    "start_time": "2022-06-22T17:57:52.312Z"
   },
   {
    "duration": 30,
    "start_time": "2022-06-22T17:57:52.576Z"
   },
   {
    "duration": 76,
    "start_time": "2022-06-22T17:57:52.608Z"
   },
   {
    "duration": 196,
    "start_time": "2022-06-22T17:57:52.686Z"
   },
   {
    "duration": 197,
    "start_time": "2022-06-22T17:57:52.884Z"
   },
   {
    "duration": 15,
    "start_time": "2022-06-22T17:57:53.083Z"
   },
   {
    "duration": 45,
    "start_time": "2022-06-22T17:57:53.100Z"
   },
   {
    "duration": 3,
    "start_time": "2022-06-22T17:57:53.156Z"
   },
   {
    "duration": 255,
    "start_time": "2022-06-22T17:57:53.160Z"
   },
   {
    "duration": 23,
    "start_time": "2022-06-22T17:57:53.417Z"
   },
   {
    "duration": 38,
    "start_time": "2022-06-22T17:59:51.312Z"
   },
   {
    "duration": 277,
    "start_time": "2022-06-22T18:00:21.546Z"
   },
   {
    "duration": 217,
    "start_time": "2022-06-22T18:00:29.356Z"
   },
   {
    "duration": 28,
    "start_time": "2022-06-22T18:01:13.054Z"
   },
   {
    "duration": 38,
    "start_time": "2022-06-22T18:01:20.080Z"
   },
   {
    "duration": 195,
    "start_time": "2022-06-22T18:01:59.056Z"
   },
   {
    "duration": 210,
    "start_time": "2022-06-22T18:02:22.762Z"
   },
   {
    "duration": 29,
    "start_time": "2022-06-22T18:02:34.472Z"
   },
   {
    "duration": 45,
    "start_time": "2022-06-22T18:02:44.162Z"
   },
   {
    "duration": 32,
    "start_time": "2022-06-22T18:03:42.359Z"
   },
   {
    "duration": 18,
    "start_time": "2022-06-22T18:04:04.782Z"
   },
   {
    "duration": 18,
    "start_time": "2022-06-22T18:06:10.569Z"
   },
   {
    "duration": 7,
    "start_time": "2022-06-22T18:09:34.005Z"
   },
   {
    "duration": 15,
    "start_time": "2022-06-22T18:09:48.666Z"
   },
   {
    "duration": 4,
    "start_time": "2022-06-22T18:13:23.954Z"
   },
   {
    "duration": 32,
    "start_time": "2022-06-22T18:13:28.616Z"
   },
   {
    "duration": 94,
    "start_time": "2022-06-22T18:29:13.175Z"
   },
   {
    "duration": 10,
    "start_time": "2022-06-22T18:34:17.775Z"
   },
   {
    "duration": 20,
    "start_time": "2022-06-22T18:34:45.829Z"
   },
   {
    "duration": 12,
    "start_time": "2022-06-22T18:42:58.004Z"
   },
   {
    "duration": 10,
    "start_time": "2022-06-22T18:43:04.086Z"
   },
   {
    "duration": 8,
    "start_time": "2022-06-22T18:50:37.607Z"
   },
   {
    "duration": 15,
    "start_time": "2022-06-22T18:50:49.519Z"
   },
   {
    "duration": 14,
    "start_time": "2022-06-22T18:51:22.937Z"
   },
   {
    "duration": 12,
    "start_time": "2022-06-22T18:51:45.579Z"
   },
   {
    "duration": 19,
    "start_time": "2022-06-22T18:51:47.724Z"
   },
   {
    "duration": 16,
    "start_time": "2022-06-22T18:52:18.136Z"
   },
   {
    "duration": 681,
    "start_time": "2022-06-23T08:51:13.582Z"
   },
   {
    "duration": 28,
    "start_time": "2022-06-23T08:51:14.265Z"
   },
   {
    "duration": 2114,
    "start_time": "2022-06-23T08:51:14.294Z"
   },
   {
    "duration": 6,
    "start_time": "2022-06-23T08:51:16.409Z"
   },
   {
    "duration": 14,
    "start_time": "2022-06-23T08:51:16.417Z"
   },
   {
    "duration": 23,
    "start_time": "2022-06-23T08:51:16.432Z"
   },
   {
    "duration": 8,
    "start_time": "2022-06-23T08:51:16.457Z"
   },
   {
    "duration": 5,
    "start_time": "2022-06-23T08:51:16.467Z"
   },
   {
    "duration": 61,
    "start_time": "2022-06-23T08:51:16.473Z"
   },
   {
    "duration": 25,
    "start_time": "2022-06-23T08:51:16.536Z"
   },
   {
    "duration": 213,
    "start_time": "2022-06-23T08:51:16.563Z"
   },
   {
    "duration": 240,
    "start_time": "2022-06-23T08:51:16.777Z"
   },
   {
    "duration": 151,
    "start_time": "2022-06-23T08:51:17.019Z"
   },
   {
    "duration": 257,
    "start_time": "2022-06-23T08:51:17.173Z"
   },
   {
    "duration": 207,
    "start_time": "2022-06-23T08:51:17.432Z"
   },
   {
    "duration": 41,
    "start_time": "2022-06-23T08:51:17.641Z"
   },
   {
    "duration": 35,
    "start_time": "2022-06-23T08:51:17.684Z"
   },
   {
    "duration": 188,
    "start_time": "2022-06-23T08:51:17.720Z"
   },
   {
    "duration": 176,
    "start_time": "2022-06-23T08:51:17.910Z"
   },
   {
    "duration": 46,
    "start_time": "2022-06-23T08:51:18.088Z"
   },
   {
    "duration": 0,
    "start_time": "2022-06-23T08:51:18.135Z"
   },
   {
    "duration": 0,
    "start_time": "2022-06-23T08:51:18.137Z"
   },
   {
    "duration": 0,
    "start_time": "2022-06-23T08:51:18.137Z"
   },
   {
    "duration": 486,
    "start_time": "2022-06-23T08:52:19.121Z"
   },
   {
    "duration": 28,
    "start_time": "2022-06-23T08:52:19.609Z"
   },
   {
    "duration": 2050,
    "start_time": "2022-06-23T08:52:19.638Z"
   },
   {
    "duration": 6,
    "start_time": "2022-06-23T08:52:21.689Z"
   },
   {
    "duration": 29,
    "start_time": "2022-06-23T08:52:21.697Z"
   },
   {
    "duration": 53,
    "start_time": "2022-06-23T08:52:21.728Z"
   },
   {
    "duration": 18,
    "start_time": "2022-06-23T08:52:21.782Z"
   },
   {
    "duration": 23,
    "start_time": "2022-06-23T08:52:21.801Z"
   },
   {
    "duration": 92,
    "start_time": "2022-06-23T08:52:21.826Z"
   },
   {
    "duration": 10,
    "start_time": "2022-06-23T08:52:21.920Z"
   },
   {
    "duration": 211,
    "start_time": "2022-06-23T08:52:21.931Z"
   },
   {
    "duration": 230,
    "start_time": "2022-06-23T08:52:22.144Z"
   },
   {
    "duration": 161,
    "start_time": "2022-06-23T08:52:22.375Z"
   },
   {
    "duration": 189,
    "start_time": "2022-06-23T08:52:22.539Z"
   },
   {
    "duration": 251,
    "start_time": "2022-06-23T08:52:22.730Z"
   },
   {
    "duration": 37,
    "start_time": "2022-06-23T08:52:22.983Z"
   },
   {
    "duration": 56,
    "start_time": "2022-06-23T08:52:23.021Z"
   },
   {
    "duration": 172,
    "start_time": "2022-06-23T08:52:23.079Z"
   },
   {
    "duration": 171,
    "start_time": "2022-06-23T08:52:23.253Z"
   },
   {
    "duration": 17,
    "start_time": "2022-06-23T08:52:23.426Z"
   },
   {
    "duration": 26,
    "start_time": "2022-06-23T08:52:23.445Z"
   },
   {
    "duration": 28,
    "start_time": "2022-06-23T08:52:23.473Z"
   },
   {
    "duration": 81,
    "start_time": "2022-06-23T09:01:08.399Z"
   },
   {
    "duration": 21,
    "start_time": "2022-06-23T09:02:16.246Z"
   },
   {
    "duration": 307,
    "start_time": "2022-06-23T09:06:10.260Z"
   },
   {
    "duration": 20,
    "start_time": "2022-06-23T09:06:43.794Z"
   },
   {
    "duration": 24,
    "start_time": "2022-06-23T09:06:58.627Z"
   },
   {
    "duration": 21,
    "start_time": "2022-06-23T09:19:31.018Z"
   },
   {
    "duration": 51,
    "start_time": "2022-06-23T09:22:56.220Z"
   },
   {
    "duration": 21,
    "start_time": "2022-06-23T09:23:12.735Z"
   },
   {
    "duration": 20,
    "start_time": "2022-06-23T09:24:15.186Z"
   },
   {
    "duration": 20,
    "start_time": "2022-06-23T09:24:22.150Z"
   },
   {
    "duration": 24,
    "start_time": "2022-06-23T09:25:06.773Z"
   },
   {
    "duration": 6263,
    "start_time": "2022-06-23T09:26:16.602Z"
   },
   {
    "duration": 13,
    "start_time": "2022-06-23T09:26:42.536Z"
   },
   {
    "duration": 6709,
    "start_time": "2022-06-23T09:29:25.152Z"
   },
   {
    "duration": 8023,
    "start_time": "2022-06-23T09:29:40.140Z"
   },
   {
    "duration": 6482,
    "start_time": "2022-06-23T09:30:50.134Z"
   },
   {
    "duration": 7019,
    "start_time": "2022-06-23T09:32:50.319Z"
   },
   {
    "duration": 16,
    "start_time": "2022-06-23T09:33:00.828Z"
   },
   {
    "duration": 10549,
    "start_time": "2022-06-23T09:35:46.501Z"
   },
   {
    "duration": 16,
    "start_time": "2022-06-23T09:37:22.210Z"
   },
   {
    "duration": 15,
    "start_time": "2022-06-23T09:37:25.488Z"
   },
   {
    "duration": 9946,
    "start_time": "2022-06-23T09:42:35.141Z"
   },
   {
    "duration": 13,
    "start_time": "2022-06-23T09:42:45.089Z"
   },
   {
    "duration": 10102,
    "start_time": "2022-06-23T09:43:20.469Z"
   },
   {
    "duration": 13,
    "start_time": "2022-06-23T09:43:30.574Z"
   },
   {
    "duration": 10346,
    "start_time": "2022-06-23T09:44:46.672Z"
   },
   {
    "duration": 10330,
    "start_time": "2022-06-23T09:45:11.546Z"
   },
   {
    "duration": 10392,
    "start_time": "2022-06-23T09:45:26.779Z"
   },
   {
    "duration": 14,
    "start_time": "2022-06-23T09:45:43.533Z"
   },
   {
    "duration": 17,
    "start_time": "2022-06-23T09:46:21.802Z"
   },
   {
    "duration": 2569,
    "start_time": "2022-06-23T09:48:09.657Z"
   },
   {
    "duration": 106,
    "start_time": "2022-06-23T09:50:04.617Z"
   },
   {
    "duration": 152,
    "start_time": "2022-06-23T09:50:13.787Z"
   },
   {
    "duration": 171,
    "start_time": "2022-06-23T09:50:35.640Z"
   },
   {
    "duration": 178,
    "start_time": "2022-06-23T09:50:46.672Z"
   },
   {
    "duration": 52,
    "start_time": "2022-06-23T09:51:58.472Z"
   },
   {
    "duration": 179,
    "start_time": "2022-06-23T09:52:09.298Z"
   },
   {
    "duration": 46,
    "start_time": "2022-06-23T11:08:30.185Z"
   },
   {
    "duration": 38,
    "start_time": "2022-06-23T11:21:49.089Z"
   },
   {
    "duration": 549,
    "start_time": "2022-06-23T11:22:07.340Z"
   },
   {
    "duration": 31,
    "start_time": "2022-06-23T11:22:07.891Z"
   },
   {
    "duration": 2088,
    "start_time": "2022-06-23T11:22:07.924Z"
   },
   {
    "duration": 6,
    "start_time": "2022-06-23T11:22:10.015Z"
   },
   {
    "duration": 31,
    "start_time": "2022-06-23T11:22:10.023Z"
   },
   {
    "duration": 24,
    "start_time": "2022-06-23T11:22:10.056Z"
   },
   {
    "duration": 8,
    "start_time": "2022-06-23T11:22:10.082Z"
   },
   {
    "duration": 9,
    "start_time": "2022-06-23T11:22:10.091Z"
   },
   {
    "duration": 60,
    "start_time": "2022-06-23T11:22:10.101Z"
   },
   {
    "duration": 11,
    "start_time": "2022-06-23T11:22:10.163Z"
   },
   {
    "duration": 221,
    "start_time": "2022-06-23T11:22:10.175Z"
   },
   {
    "duration": 237,
    "start_time": "2022-06-23T11:22:10.397Z"
   },
   {
    "duration": 171,
    "start_time": "2022-06-23T11:22:10.636Z"
   },
   {
    "duration": 198,
    "start_time": "2022-06-23T11:22:10.809Z"
   },
   {
    "duration": 241,
    "start_time": "2022-06-23T11:22:11.009Z"
   },
   {
    "duration": 36,
    "start_time": "2022-06-23T11:22:11.251Z"
   },
   {
    "duration": 42,
    "start_time": "2022-06-23T11:22:11.289Z"
   },
   {
    "duration": 197,
    "start_time": "2022-06-23T11:22:11.333Z"
   },
   {
    "duration": 175,
    "start_time": "2022-06-23T11:22:11.531Z"
   },
   {
    "duration": 17,
    "start_time": "2022-06-23T11:22:11.708Z"
   },
   {
    "duration": 6,
    "start_time": "2022-06-23T11:22:11.727Z"
   },
   {
    "duration": 1164,
    "start_time": "2022-06-23T11:22:11.735Z"
   },
   {
    "duration": 0,
    "start_time": "2022-06-23T11:22:12.901Z"
   },
   {
    "duration": 0,
    "start_time": "2022-06-23T11:22:12.902Z"
   },
   {
    "duration": 167,
    "start_time": "2022-06-23T11:23:46.602Z"
   },
   {
    "duration": 223,
    "start_time": "2022-06-23T11:23:53.113Z"
   },
   {
    "duration": 520,
    "start_time": "2022-06-23T11:25:02.852Z"
   },
   {
    "duration": 33,
    "start_time": "2022-06-23T11:25:03.375Z"
   },
   {
    "duration": 2206,
    "start_time": "2022-06-23T11:25:03.410Z"
   },
   {
    "duration": 6,
    "start_time": "2022-06-23T11:25:05.618Z"
   },
   {
    "duration": 20,
    "start_time": "2022-06-23T11:25:05.626Z"
   },
   {
    "duration": 33,
    "start_time": "2022-06-23T11:25:05.647Z"
   },
   {
    "duration": 8,
    "start_time": "2022-06-23T11:25:05.681Z"
   },
   {
    "duration": 5,
    "start_time": "2022-06-23T11:25:05.690Z"
   },
   {
    "duration": 45,
    "start_time": "2022-06-23T11:25:05.697Z"
   },
   {
    "duration": 23,
    "start_time": "2022-06-23T11:25:05.744Z"
   },
   {
    "duration": 218,
    "start_time": "2022-06-23T11:25:05.768Z"
   },
   {
    "duration": 242,
    "start_time": "2022-06-23T11:25:05.988Z"
   },
   {
    "duration": 170,
    "start_time": "2022-06-23T11:25:06.232Z"
   },
   {
    "duration": 197,
    "start_time": "2022-06-23T11:25:06.404Z"
   },
   {
    "duration": 241,
    "start_time": "2022-06-23T11:25:06.603Z"
   },
   {
    "duration": 32,
    "start_time": "2022-06-23T11:25:06.845Z"
   },
   {
    "duration": 33,
    "start_time": "2022-06-23T11:25:06.879Z"
   },
   {
    "duration": 179,
    "start_time": "2022-06-23T11:25:06.914Z"
   },
   {
    "duration": 206,
    "start_time": "2022-06-23T11:25:07.094Z"
   },
   {
    "duration": 24,
    "start_time": "2022-06-23T11:25:07.302Z"
   },
   {
    "duration": 18,
    "start_time": "2022-06-23T11:25:07.328Z"
   },
   {
    "duration": 1024,
    "start_time": "2022-06-23T11:25:07.348Z"
   },
   {
    "duration": 0,
    "start_time": "2022-06-23T11:25:08.374Z"
   },
   {
    "duration": 0,
    "start_time": "2022-06-23T11:25:08.375Z"
   },
   {
    "duration": 14,
    "start_time": "2022-06-23T11:26:57.090Z"
   },
   {
    "duration": 284,
    "start_time": "2022-06-23T12:18:29.366Z"
   },
   {
    "duration": 15,
    "start_time": "2022-06-23T12:18:44.102Z"
   },
   {
    "duration": 14,
    "start_time": "2022-06-23T12:20:04.919Z"
   },
   {
    "duration": 227,
    "start_time": "2022-06-23T12:20:47.352Z"
   },
   {
    "duration": 369,
    "start_time": "2022-06-23T12:21:24.648Z"
   },
   {
    "duration": 196,
    "start_time": "2022-06-23T12:21:37.890Z"
   },
   {
    "duration": 394,
    "start_time": "2022-06-23T12:21:45.406Z"
   },
   {
    "duration": 1553,
    "start_time": "2022-06-23T12:24:28.699Z"
   },
   {
    "duration": 430,
    "start_time": "2022-06-23T12:24:43.409Z"
   },
   {
    "duration": 170,
    "start_time": "2022-06-23T12:30:26.712Z"
   },
   {
    "duration": 231,
    "start_time": "2022-06-23T12:30:35.930Z"
   },
   {
    "duration": 270,
    "start_time": "2022-06-23T12:30:40.676Z"
   },
   {
    "duration": 269,
    "start_time": "2022-06-23T12:32:38.950Z"
   },
   {
    "duration": 547,
    "start_time": "2022-06-23T12:32:50.122Z"
   },
   {
    "duration": 385,
    "start_time": "2022-06-23T12:33:07.720Z"
   },
   {
    "duration": 457,
    "start_time": "2022-06-23T12:33:15.055Z"
   },
   {
    "duration": 394,
    "start_time": "2022-06-23T12:34:46.746Z"
   },
   {
    "duration": 791,
    "start_time": "2022-06-23T12:35:42.729Z"
   },
   {
    "duration": 558,
    "start_time": "2022-06-23T12:36:33.081Z"
   },
   {
    "duration": 562,
    "start_time": "2022-06-23T12:37:18.212Z"
   },
   {
    "duration": 293,
    "start_time": "2022-06-23T12:37:25.201Z"
   },
   {
    "duration": 256,
    "start_time": "2022-06-23T12:38:40.123Z"
   },
   {
    "duration": 496,
    "start_time": "2022-06-23T12:39:34.444Z"
   },
   {
    "duration": 149,
    "start_time": "2022-06-23T12:40:24.600Z"
   },
   {
    "duration": 235,
    "start_time": "2022-06-23T12:40:35.247Z"
   },
   {
    "duration": 370,
    "start_time": "2022-06-23T12:44:47.537Z"
   },
   {
    "duration": 363,
    "start_time": "2022-06-23T12:45:09.123Z"
   },
   {
    "duration": 265,
    "start_time": "2022-06-23T12:47:39.045Z"
   },
   {
    "duration": 246,
    "start_time": "2022-06-23T12:48:19.719Z"
   },
   {
    "duration": 242,
    "start_time": "2022-06-23T12:52:33.961Z"
   },
   {
    "duration": 332,
    "start_time": "2022-06-23T12:52:49.064Z"
   },
   {
    "duration": 208,
    "start_time": "2022-06-23T12:53:12.179Z"
   },
   {
    "duration": 195,
    "start_time": "2022-06-23T12:58:04.420Z"
   },
   {
    "duration": 548,
    "start_time": "2022-06-23T12:58:37.118Z"
   },
   {
    "duration": 218,
    "start_time": "2022-06-23T13:27:26.360Z"
   },
   {
    "duration": 1292,
    "start_time": "2022-06-23T13:31:13.017Z"
   },
   {
    "duration": 351,
    "start_time": "2022-06-23T13:32:04.450Z"
   },
   {
    "duration": 381,
    "start_time": "2022-06-23T13:32:57.533Z"
   },
   {
    "duration": 282,
    "start_time": "2022-06-23T13:33:04.786Z"
   },
   {
    "duration": 385,
    "start_time": "2022-06-23T13:33:17.339Z"
   },
   {
    "duration": 328,
    "start_time": "2022-06-23T13:33:31.800Z"
   },
   {
    "duration": 277,
    "start_time": "2022-06-23T13:35:11.057Z"
   },
   {
    "duration": 379,
    "start_time": "2022-06-23T13:35:28.056Z"
   },
   {
    "duration": 18,
    "start_time": "2022-06-23T13:36:14.125Z"
   },
   {
    "duration": 7,
    "start_time": "2022-06-23T13:38:22.042Z"
   },
   {
    "duration": 208,
    "start_time": "2022-06-23T13:41:03.682Z"
   },
   {
    "duration": 265,
    "start_time": "2022-06-23T13:41:21.285Z"
   },
   {
    "duration": 233,
    "start_time": "2022-06-23T13:41:39.964Z"
   },
   {
    "duration": 212,
    "start_time": "2022-06-23T13:41:48.099Z"
   },
   {
    "duration": 113,
    "start_time": "2022-06-23T13:43:42.407Z"
   },
   {
    "duration": 7,
    "start_time": "2022-06-23T13:45:14.598Z"
   },
   {
    "duration": 272,
    "start_time": "2022-06-23T13:46:14.547Z"
   },
   {
    "duration": 546,
    "start_time": "2022-06-23T13:46:36.329Z"
   },
   {
    "duration": 41,
    "start_time": "2022-06-23T13:46:36.878Z"
   },
   {
    "duration": 2681,
    "start_time": "2022-06-23T13:46:36.920Z"
   },
   {
    "duration": 6,
    "start_time": "2022-06-23T13:46:39.609Z"
   },
   {
    "duration": 15,
    "start_time": "2022-06-23T13:46:39.618Z"
   },
   {
    "duration": 29,
    "start_time": "2022-06-23T13:46:39.635Z"
   },
   {
    "duration": 14,
    "start_time": "2022-06-23T13:46:39.665Z"
   },
   {
    "duration": 31,
    "start_time": "2022-06-23T13:46:39.681Z"
   },
   {
    "duration": 36,
    "start_time": "2022-06-23T13:46:39.713Z"
   },
   {
    "duration": 20,
    "start_time": "2022-06-23T13:46:39.751Z"
   },
   {
    "duration": 294,
    "start_time": "2022-06-23T13:46:39.773Z"
   },
   {
    "duration": 272,
    "start_time": "2022-06-23T13:46:40.069Z"
   },
   {
    "duration": 224,
    "start_time": "2022-06-23T13:46:40.343Z"
   },
   {
    "duration": 263,
    "start_time": "2022-06-23T13:46:40.571Z"
   },
   {
    "duration": 319,
    "start_time": "2022-06-23T13:46:40.836Z"
   },
   {
    "duration": 11,
    "start_time": "2022-06-23T13:46:41.157Z"
   },
   {
    "duration": 87,
    "start_time": "2022-06-23T13:46:41.170Z"
   },
   {
    "duration": 56,
    "start_time": "2022-06-23T13:46:41.260Z"
   },
   {
    "duration": 211,
    "start_time": "2022-06-23T13:46:41.318Z"
   },
   {
    "duration": 221,
    "start_time": "2022-06-23T13:46:41.531Z"
   },
   {
    "duration": 36,
    "start_time": "2022-06-23T13:46:41.753Z"
   },
   {
    "duration": 21,
    "start_time": "2022-06-23T13:46:41.797Z"
   },
   {
    "duration": 346,
    "start_time": "2022-06-23T13:46:41.820Z"
   },
   {
    "duration": 496,
    "start_time": "2022-06-23T13:46:42.167Z"
   },
   {
    "duration": 518,
    "start_time": "2022-06-23T13:46:42.665Z"
   },
   {
    "duration": 234,
    "start_time": "2022-06-23T13:46:43.187Z"
   },
   {
    "duration": 302,
    "start_time": "2022-06-23T13:46:43.425Z"
   },
   {
    "duration": 261,
    "start_time": "2022-06-23T13:47:05.085Z"
   },
   {
    "duration": 310,
    "start_time": "2022-06-23T13:47:12.693Z"
   },
   {
    "duration": 300,
    "start_time": "2022-06-23T13:51:31.087Z"
   },
   {
    "duration": 226,
    "start_time": "2022-06-23T13:51:40.349Z"
   },
   {
    "duration": 336,
    "start_time": "2022-06-23T13:51:46.240Z"
   },
   {
    "duration": 171,
    "start_time": "2022-06-23T13:51:56.754Z"
   },
   {
    "duration": 180,
    "start_time": "2022-06-23T13:52:25.703Z"
   },
   {
    "duration": 88,
    "start_time": "2022-06-23T13:55:10.241Z"
   },
   {
    "duration": 31,
    "start_time": "2022-06-23T13:55:17.782Z"
   },
   {
    "duration": 24,
    "start_time": "2022-06-23T13:56:26.203Z"
   },
   {
    "duration": 238,
    "start_time": "2022-06-23T13:57:35.094Z"
   },
   {
    "duration": 260,
    "start_time": "2022-06-23T13:58:33.279Z"
   },
   {
    "duration": 300,
    "start_time": "2022-06-23T13:58:47.415Z"
   },
   {
    "duration": 203,
    "start_time": "2022-06-23T13:58:53.813Z"
   },
   {
    "duration": 234,
    "start_time": "2022-06-23T13:59:04.883Z"
   },
   {
    "duration": 344,
    "start_time": "2022-06-23T13:59:45.375Z"
   },
   {
    "duration": 21,
    "start_time": "2022-06-23T14:00:38.318Z"
   },
   {
    "duration": 18,
    "start_time": "2022-06-23T14:01:31.289Z"
   },
   {
    "duration": 13,
    "start_time": "2022-06-23T14:08:34.593Z"
   },
   {
    "duration": 8,
    "start_time": "2022-06-23T14:08:39.424Z"
   },
   {
    "duration": 11,
    "start_time": "2022-06-23T14:08:52.995Z"
   },
   {
    "duration": 28,
    "start_time": "2022-06-23T14:09:04.913Z"
   },
   {
    "duration": 13,
    "start_time": "2022-06-23T14:10:17.516Z"
   },
   {
    "duration": 9,
    "start_time": "2022-06-23T14:11:38.302Z"
   },
   {
    "duration": 15,
    "start_time": "2022-06-23T14:11:48.067Z"
   },
   {
    "duration": 11,
    "start_time": "2022-06-23T14:12:57.279Z"
   },
   {
    "duration": 2,
    "start_time": "2022-06-23T14:13:03.635Z"
   },
   {
    "duration": 502,
    "start_time": "2022-06-23T14:13:10.700Z"
   },
   {
    "duration": 32,
    "start_time": "2022-06-23T14:13:11.204Z"
   },
   {
    "duration": 2390,
    "start_time": "2022-06-23T14:13:11.238Z"
   },
   {
    "duration": 6,
    "start_time": "2022-06-23T14:13:13.630Z"
   },
   {
    "duration": 30,
    "start_time": "2022-06-23T14:13:13.638Z"
   },
   {
    "duration": 52,
    "start_time": "2022-06-23T14:13:13.671Z"
   },
   {
    "duration": 9,
    "start_time": "2022-06-23T14:13:13.725Z"
   },
   {
    "duration": 8,
    "start_time": "2022-06-23T14:13:13.736Z"
   },
   {
    "duration": 53,
    "start_time": "2022-06-23T14:13:13.746Z"
   },
   {
    "duration": 13,
    "start_time": "2022-06-23T14:13:13.801Z"
   },
   {
    "duration": 283,
    "start_time": "2022-06-23T14:13:13.815Z"
   },
   {
    "duration": 2,
    "start_time": "2022-06-23T14:13:14.099Z"
   },
   {
    "duration": 194,
    "start_time": "2022-06-23T14:13:14.103Z"
   },
   {
    "duration": 212,
    "start_time": "2022-06-23T14:13:14.300Z"
   },
   {
    "duration": 189,
    "start_time": "2022-06-23T14:13:14.515Z"
   },
   {
    "duration": 6,
    "start_time": "2022-06-23T14:13:14.706Z"
   },
   {
    "duration": 39,
    "start_time": "2022-06-23T14:13:14.714Z"
   },
   {
    "duration": 140,
    "start_time": "2022-06-23T14:13:14.760Z"
   },
   {
    "duration": 207,
    "start_time": "2022-06-23T14:13:14.901Z"
   },
   {
    "duration": 194,
    "start_time": "2022-06-23T14:13:15.110Z"
   },
   {
    "duration": 17,
    "start_time": "2022-06-23T14:13:15.305Z"
   },
   {
    "duration": 9,
    "start_time": "2022-06-23T14:13:15.324Z"
   },
   {
    "duration": 319,
    "start_time": "2022-06-23T14:13:15.334Z"
   },
   {
    "duration": 378,
    "start_time": "2022-06-23T14:13:15.655Z"
   },
   {
    "duration": 263,
    "start_time": "2022-06-23T14:13:16.035Z"
   },
   {
    "duration": 305,
    "start_time": "2022-06-23T14:13:16.300Z"
   },
   {
    "duration": 265,
    "start_time": "2022-06-23T14:13:16.606Z"
   },
   {
    "duration": 179,
    "start_time": "2022-06-23T14:13:16.872Z"
   },
   {
    "duration": 238,
    "start_time": "2022-06-23T14:13:17.053Z"
   },
   {
    "duration": 22,
    "start_time": "2022-06-23T14:13:17.293Z"
   },
   {
    "duration": 45,
    "start_time": "2022-06-23T14:13:47.050Z"
   },
   {
    "duration": 39,
    "start_time": "2022-06-23T14:15:06.815Z"
   },
   {
    "duration": 231,
    "start_time": "2022-06-23T14:18:58.234Z"
   },
   {
    "duration": 174,
    "start_time": "2022-06-23T14:19:18.385Z"
   },
   {
    "duration": 224,
    "start_time": "2022-06-23T14:20:06.708Z"
   },
   {
    "duration": 324,
    "start_time": "2022-06-23T14:20:16.965Z"
   },
   {
    "duration": 178,
    "start_time": "2022-06-23T14:21:25.090Z"
   },
   {
    "duration": 192,
    "start_time": "2022-06-23T14:21:58.695Z"
   },
   {
    "duration": 198,
    "start_time": "2022-06-23T14:22:06.375Z"
   },
   {
    "duration": 185,
    "start_time": "2022-06-23T14:24:12.991Z"
   },
   {
    "duration": 107,
    "start_time": "2022-06-23T14:27:40.577Z"
   },
   {
    "duration": 172,
    "start_time": "2022-06-23T14:31:03.714Z"
   },
   {
    "duration": 235,
    "start_time": "2022-06-23T14:36:01.454Z"
   },
   {
    "duration": 348,
    "start_time": "2022-06-23T14:36:54.046Z"
   },
   {
    "duration": 208,
    "start_time": "2022-06-23T14:38:20.408Z"
   },
   {
    "duration": 226,
    "start_time": "2022-06-23T15:03:38.999Z"
   },
   {
    "duration": 271,
    "start_time": "2022-06-23T15:04:21.394Z"
   },
   {
    "duration": 222,
    "start_time": "2022-06-23T15:05:46.772Z"
   },
   {
    "duration": 17,
    "start_time": "2022-06-23T15:06:45.019Z"
   },
   {
    "duration": 26,
    "start_time": "2022-06-23T15:07:00.444Z"
   },
   {
    "duration": 5,
    "start_time": "2022-06-23T15:10:12.424Z"
   },
   {
    "duration": 397,
    "start_time": "2022-06-23T15:10:26.440Z"
   },
   {
    "duration": 195,
    "start_time": "2022-06-23T15:10:46.420Z"
   },
   {
    "duration": 199,
    "start_time": "2022-06-23T15:13:23.584Z"
   },
   {
    "duration": 125,
    "start_time": "2022-06-23T15:20:50.005Z"
   },
   {
    "duration": 111,
    "start_time": "2022-06-23T15:21:00.404Z"
   },
   {
    "duration": 112,
    "start_time": "2022-06-23T15:22:20.328Z"
   },
   {
    "duration": 186,
    "start_time": "2022-06-23T15:26:10.120Z"
   },
   {
    "duration": 170,
    "start_time": "2022-06-23T15:26:36.138Z"
   },
   {
    "duration": 131,
    "start_time": "2022-06-23T15:26:44.823Z"
   },
   {
    "duration": 188,
    "start_time": "2022-06-23T15:27:00.465Z"
   },
   {
    "duration": 69,
    "start_time": "2022-06-23T15:34:35.889Z"
   },
   {
    "duration": 9,
    "start_time": "2022-06-23T15:35:08.755Z"
   },
   {
    "duration": 116,
    "start_time": "2022-06-23T15:41:24.546Z"
   },
   {
    "duration": 784,
    "start_time": "2022-06-23T15:41:54.837Z"
   },
   {
    "duration": 9,
    "start_time": "2022-06-23T15:42:16.407Z"
   },
   {
    "duration": 541,
    "start_time": "2022-06-23T15:42:31.008Z"
   },
   {
    "duration": 585,
    "start_time": "2022-06-23T15:43:24.123Z"
   },
   {
    "duration": 521,
    "start_time": "2022-06-23T15:43:54.029Z"
   },
   {
    "duration": 8,
    "start_time": "2022-06-23T15:45:39.761Z"
   },
   {
    "duration": 8,
    "start_time": "2022-06-23T15:47:36.888Z"
   },
   {
    "duration": 105,
    "start_time": "2022-06-23T15:47:50.707Z"
   },
   {
    "duration": 84,
    "start_time": "2022-06-23T15:48:21.713Z"
   },
   {
    "duration": 119,
    "start_time": "2022-06-23T15:48:56.191Z"
   },
   {
    "duration": 354,
    "start_time": "2022-06-23T15:58:57.040Z"
   },
   {
    "duration": 196,
    "start_time": "2022-06-23T16:00:36.323Z"
   },
   {
    "duration": 199,
    "start_time": "2022-06-23T16:01:21.006Z"
   },
   {
    "duration": 193,
    "start_time": "2022-06-23T16:01:32.495Z"
   },
   {
    "duration": 211,
    "start_time": "2022-06-23T16:02:13.018Z"
   },
   {
    "duration": 187,
    "start_time": "2022-06-23T16:02:18.344Z"
   },
   {
    "duration": 196,
    "start_time": "2022-06-23T16:02:28.224Z"
   },
   {
    "duration": 59,
    "start_time": "2022-06-23T16:04:05.849Z"
   },
   {
    "duration": 64,
    "start_time": "2022-06-23T16:04:11.256Z"
   },
   {
    "duration": 192,
    "start_time": "2022-06-23T16:04:22.352Z"
   },
   {
    "duration": 195,
    "start_time": "2022-06-23T16:05:10.839Z"
   },
   {
    "duration": 193,
    "start_time": "2022-06-23T16:05:42.119Z"
   },
   {
    "duration": 195,
    "start_time": "2022-06-23T16:09:46.778Z"
   },
   {
    "duration": 58,
    "start_time": "2022-06-23T16:11:04.450Z"
   },
   {
    "duration": 223,
    "start_time": "2022-06-23T16:11:17.386Z"
   },
   {
    "duration": 229,
    "start_time": "2022-06-23T16:11:47.301Z"
   },
   {
    "duration": 172,
    "start_time": "2022-06-23T16:19:47.913Z"
   },
   {
    "duration": 203,
    "start_time": "2022-06-23T16:20:24.975Z"
   },
   {
    "duration": 203,
    "start_time": "2022-06-23T16:20:30.747Z"
   },
   {
    "duration": 207,
    "start_time": "2022-06-23T16:22:51.389Z"
   },
   {
    "duration": 208,
    "start_time": "2022-06-23T16:23:21.985Z"
   },
   {
    "duration": 129,
    "start_time": "2022-06-23T16:25:15.347Z"
   },
   {
    "duration": 1420,
    "start_time": "2022-06-23T16:26:13.102Z"
   },
   {
    "duration": 1274,
    "start_time": "2022-06-23T16:26:30.619Z"
   },
   {
    "duration": 12,
    "start_time": "2022-06-23T16:31:08.580Z"
   },
   {
    "duration": 11,
    "start_time": "2022-06-23T16:32:25.977Z"
   },
   {
    "duration": 158,
    "start_time": "2022-06-23T16:32:46.441Z"
   },
   {
    "duration": 33,
    "start_time": "2022-06-23T16:32:46.602Z"
   },
   {
    "duration": 2698,
    "start_time": "2022-06-23T16:32:46.638Z"
   },
   {
    "duration": 24,
    "start_time": "2022-06-23T16:32:49.339Z"
   },
   {
    "duration": 21,
    "start_time": "2022-06-23T16:32:49.366Z"
   },
   {
    "duration": 32,
    "start_time": "2022-06-23T16:32:49.390Z"
   },
   {
    "duration": 10,
    "start_time": "2022-06-23T16:32:49.424Z"
   },
   {
    "duration": 30,
    "start_time": "2022-06-23T16:32:49.436Z"
   },
   {
    "duration": 60,
    "start_time": "2022-06-23T16:32:49.467Z"
   },
   {
    "duration": 21,
    "start_time": "2022-06-23T16:32:49.530Z"
   },
   {
    "duration": 284,
    "start_time": "2022-06-23T16:32:49.553Z"
   },
   {
    "duration": 336,
    "start_time": "2022-06-23T16:32:49.839Z"
   },
   {
    "duration": 209,
    "start_time": "2022-06-23T16:32:50.182Z"
   },
   {
    "duration": 220,
    "start_time": "2022-06-23T16:32:50.394Z"
   },
   {
    "duration": 256,
    "start_time": "2022-06-23T16:32:50.616Z"
   },
   {
    "duration": 7,
    "start_time": "2022-06-23T16:32:50.876Z"
   },
   {
    "duration": 24,
    "start_time": "2022-06-23T16:32:50.890Z"
   },
   {
    "duration": 36,
    "start_time": "2022-06-23T16:32:50.916Z"
   },
   {
    "duration": 241,
    "start_time": "2022-06-23T16:32:50.953Z"
   },
   {
    "duration": 228,
    "start_time": "2022-06-23T16:32:51.196Z"
   },
   {
    "duration": 218,
    "start_time": "2022-06-23T16:32:51.426Z"
   },
   {
    "duration": 40,
    "start_time": "2022-06-23T16:32:51.646Z"
   },
   {
    "duration": 13,
    "start_time": "2022-06-23T16:32:51.689Z"
   },
   {
    "duration": 331,
    "start_time": "2022-06-23T16:32:51.705Z"
   },
   {
    "duration": 440,
    "start_time": "2022-06-23T16:32:52.038Z"
   },
   {
    "duration": 288,
    "start_time": "2022-06-23T16:32:52.483Z"
   },
   {
    "duration": 308,
    "start_time": "2022-06-23T16:32:52.773Z"
   },
   {
    "duration": 343,
    "start_time": "2022-06-23T16:32:53.088Z"
   },
   {
    "duration": 195,
    "start_time": "2022-06-23T16:32:53.433Z"
   },
   {
    "duration": 255,
    "start_time": "2022-06-23T16:32:53.630Z"
   },
   {
    "duration": 238,
    "start_time": "2022-06-23T16:32:53.887Z"
   },
   {
    "duration": 164,
    "start_time": "2022-06-23T16:32:54.127Z"
   },
   {
    "duration": 509,
    "start_time": "2022-06-23T16:32:54.293Z"
   },
   {
    "duration": 346,
    "start_time": "2022-06-23T16:32:54.804Z"
   },
   {
    "duration": 306,
    "start_time": "2022-06-23T16:32:55.153Z"
   },
   {
    "duration": 311,
    "start_time": "2022-06-23T16:32:55.464Z"
   },
   {
    "duration": 207,
    "start_time": "2022-06-23T16:32:55.783Z"
   },
   {
    "duration": 202,
    "start_time": "2022-06-23T16:32:55.995Z"
   },
   {
    "duration": 278,
    "start_time": "2022-06-23T16:32:56.199Z"
   },
   {
    "duration": 194,
    "start_time": "2022-06-23T16:32:56.484Z"
   },
   {
    "duration": 290,
    "start_time": "2022-06-23T16:32:56.680Z"
   },
   {
    "duration": 283,
    "start_time": "2022-06-23T16:32:56.972Z"
   },
   {
    "duration": 273,
    "start_time": "2022-06-23T16:32:57.266Z"
   },
   {
    "duration": 305,
    "start_time": "2022-06-23T16:32:57.543Z"
   },
   {
    "duration": 28,
    "start_time": "2022-06-23T16:32:57.850Z"
   },
   {
    "duration": 25,
    "start_time": "2022-06-23T16:33:41.461Z"
   },
   {
    "duration": 220,
    "start_time": "2022-06-23T16:38:26.077Z"
   },
   {
    "duration": 200,
    "start_time": "2022-06-23T16:40:01.436Z"
   },
   {
    "duration": 209,
    "start_time": "2022-06-23T16:41:00.387Z"
   },
   {
    "duration": 219,
    "start_time": "2022-06-23T16:41:15.794Z"
   },
   {
    "duration": 214,
    "start_time": "2022-06-23T16:42:00.341Z"
   },
   {
    "duration": 205,
    "start_time": "2022-06-23T16:42:24.913Z"
   },
   {
    "duration": 929,
    "start_time": "2022-06-23T16:48:55.451Z"
   },
   {
    "duration": 176,
    "start_time": "2022-06-23T16:49:26.798Z"
   },
   {
    "duration": 163,
    "start_time": "2022-06-23T16:49:51.674Z"
   },
   {
    "duration": 19,
    "start_time": "2022-06-23T17:06:17.552Z"
   },
   {
    "duration": 15,
    "start_time": "2022-06-23T17:07:20.228Z"
   },
   {
    "duration": 44,
    "start_time": "2022-06-23T17:07:44.090Z"
   },
   {
    "duration": 11,
    "start_time": "2022-06-23T17:07:59.181Z"
   },
   {
    "duration": 13,
    "start_time": "2022-06-23T17:09:02.592Z"
   },
   {
    "duration": 252,
    "start_time": "2022-06-23T17:09:08.929Z"
   },
   {
    "duration": 12,
    "start_time": "2022-06-23T17:09:52.599Z"
   },
   {
    "duration": 12,
    "start_time": "2022-06-23T17:10:23.197Z"
   },
   {
    "duration": 11,
    "start_time": "2022-06-23T17:10:31.396Z"
   },
   {
    "duration": 24,
    "start_time": "2022-06-23T17:12:07.672Z"
   },
   {
    "duration": 19,
    "start_time": "2022-06-23T17:13:38.490Z"
   },
   {
    "duration": 36,
    "start_time": "2022-06-23T17:13:45.347Z"
   },
   {
    "duration": 12,
    "start_time": "2022-06-23T17:15:39.384Z"
   },
   {
    "duration": 20,
    "start_time": "2022-06-23T17:16:51.795Z"
   },
   {
    "duration": 16,
    "start_time": "2022-06-23T17:17:01.203Z"
   },
   {
    "duration": 10,
    "start_time": "2022-06-23T17:40:21.624Z"
   },
   {
    "duration": 84,
    "start_time": "2022-06-23T17:45:36.376Z"
   },
   {
    "duration": 20,
    "start_time": "2022-06-23T17:45:56.307Z"
   },
   {
    "duration": 19,
    "start_time": "2022-06-23T17:49:40.838Z"
   },
   {
    "duration": 145,
    "start_time": "2022-06-23T17:51:47.982Z"
   },
   {
    "duration": 150,
    "start_time": "2022-06-23T17:57:41.384Z"
   },
   {
    "duration": 145,
    "start_time": "2022-06-23T17:58:08.313Z"
   },
   {
    "duration": 686,
    "start_time": "2022-06-23T18:04:54.397Z"
   },
   {
    "duration": 30,
    "start_time": "2022-06-23T18:04:55.085Z"
   },
   {
    "duration": 1931,
    "start_time": "2022-06-23T18:04:55.117Z"
   },
   {
    "duration": 6,
    "start_time": "2022-06-23T18:04:57.049Z"
   },
   {
    "duration": 29,
    "start_time": "2022-06-23T18:04:57.057Z"
   },
   {
    "duration": 25,
    "start_time": "2022-06-23T18:04:57.087Z"
   },
   {
    "duration": 9,
    "start_time": "2022-06-23T18:04:57.114Z"
   },
   {
    "duration": 10,
    "start_time": "2022-06-23T18:04:57.125Z"
   },
   {
    "duration": 58,
    "start_time": "2022-06-23T18:04:57.137Z"
   },
   {
    "duration": 16,
    "start_time": "2022-06-23T18:04:57.197Z"
   },
   {
    "duration": 295,
    "start_time": "2022-06-23T18:04:57.215Z"
   },
   {
    "duration": 233,
    "start_time": "2022-06-23T18:04:57.512Z"
   },
   {
    "duration": 181,
    "start_time": "2022-06-23T18:04:57.747Z"
   },
   {
    "duration": 205,
    "start_time": "2022-06-23T18:04:57.931Z"
   },
   {
    "duration": 240,
    "start_time": "2022-06-23T18:04:58.138Z"
   },
   {
    "duration": 5,
    "start_time": "2022-06-23T18:04:58.379Z"
   },
   {
    "duration": 30,
    "start_time": "2022-06-23T18:04:58.386Z"
   },
   {
    "duration": 54,
    "start_time": "2022-06-23T18:04:58.418Z"
   },
   {
    "duration": 179,
    "start_time": "2022-06-23T18:04:58.473Z"
   },
   {
    "duration": 190,
    "start_time": "2022-06-23T18:04:58.654Z"
   },
   {
    "duration": 23,
    "start_time": "2022-06-23T18:04:58.845Z"
   },
   {
    "duration": 5,
    "start_time": "2022-06-23T18:04:58.870Z"
   },
   {
    "duration": 12,
    "start_time": "2022-06-23T18:04:58.877Z"
   },
   {
    "duration": 285,
    "start_time": "2022-06-23T18:04:58.890Z"
   },
   {
    "duration": 332,
    "start_time": "2022-06-23T18:04:59.177Z"
   },
   {
    "duration": 356,
    "start_time": "2022-06-23T18:04:59.511Z"
   },
   {
    "duration": 179,
    "start_time": "2022-06-23T18:04:59.869Z"
   },
   {
    "duration": 246,
    "start_time": "2022-06-23T18:05:00.049Z"
   },
   {
    "duration": 174,
    "start_time": "2022-06-23T18:05:00.297Z"
   },
   {
    "duration": 213,
    "start_time": "2022-06-23T18:05:00.473Z"
   },
   {
    "duration": 186,
    "start_time": "2022-06-23T18:05:00.688Z"
   },
   {
    "duration": 134,
    "start_time": "2022-06-23T18:05:00.876Z"
   },
   {
    "duration": 186,
    "start_time": "2022-06-23T18:05:01.012Z"
   },
   {
    "duration": 391,
    "start_time": "2022-06-23T18:05:01.200Z"
   },
   {
    "duration": 222,
    "start_time": "2022-06-23T18:05:01.593Z"
   },
   {
    "duration": 194,
    "start_time": "2022-06-23T18:05:01.816Z"
   },
   {
    "duration": 134,
    "start_time": "2022-06-23T18:05:02.012Z"
   },
   {
    "duration": 137,
    "start_time": "2022-06-23T18:05:02.147Z"
   },
   {
    "duration": 205,
    "start_time": "2022-06-23T18:05:02.285Z"
   },
   {
    "duration": 131,
    "start_time": "2022-06-23T18:05:02.492Z"
   },
   {
    "duration": 216,
    "start_time": "2022-06-23T18:05:02.627Z"
   },
   {
    "duration": 229,
    "start_time": "2022-06-23T18:05:02.844Z"
   },
   {
    "duration": 202,
    "start_time": "2022-06-23T18:05:03.075Z"
   },
   {
    "duration": 200,
    "start_time": "2022-06-23T18:05:03.279Z"
   },
   {
    "duration": 169,
    "start_time": "2022-06-23T18:05:03.481Z"
   },
   {
    "duration": 207,
    "start_time": "2022-06-23T18:05:03.658Z"
   },
   {
    "duration": 200,
    "start_time": "2022-06-23T18:05:03.866Z"
   },
   {
    "duration": 328,
    "start_time": "2022-06-23T18:05:04.068Z"
   },
   {
    "duration": 17,
    "start_time": "2022-06-23T18:05:04.398Z"
   },
   {
    "duration": 170,
    "start_time": "2022-06-23T18:05:04.417Z"
   },
   {
    "duration": 154,
    "start_time": "2022-06-23T18:05:04.589Z"
   },
   {
    "duration": 213,
    "start_time": "2022-06-23T18:18:57.250Z"
   },
   {
    "duration": 72,
    "start_time": "2022-06-23T18:38:42.511Z"
   },
   {
    "duration": 183,
    "start_time": "2022-06-23T18:38:48.483Z"
   },
   {
    "duration": 13,
    "start_time": "2022-06-23T18:45:12.023Z"
   },
   {
    "duration": 167,
    "start_time": "2022-06-23T18:45:32.929Z"
   },
   {
    "duration": 132,
    "start_time": "2022-06-23T18:46:39.067Z"
   },
   {
    "duration": 139,
    "start_time": "2022-06-23T18:46:53.839Z"
   },
   {
    "duration": 136,
    "start_time": "2022-06-23T18:52:34.178Z"
   },
   {
    "duration": 136,
    "start_time": "2022-06-23T18:55:10.995Z"
   },
   {
    "duration": 131,
    "start_time": "2022-06-23T18:55:24.658Z"
   },
   {
    "duration": 454,
    "start_time": "2022-06-23T19:46:45.768Z"
   },
   {
    "duration": 28,
    "start_time": "2022-06-23T19:46:46.224Z"
   },
   {
    "duration": 2057,
    "start_time": "2022-06-23T19:46:46.254Z"
   },
   {
    "duration": 16,
    "start_time": "2022-06-23T19:46:48.313Z"
   },
   {
    "duration": 14,
    "start_time": "2022-06-23T19:46:48.331Z"
   },
   {
    "duration": 24,
    "start_time": "2022-06-23T19:46:48.347Z"
   },
   {
    "duration": 8,
    "start_time": "2022-06-23T19:46:48.373Z"
   },
   {
    "duration": 6,
    "start_time": "2022-06-23T19:46:48.383Z"
   },
   {
    "duration": 63,
    "start_time": "2022-06-23T19:46:48.390Z"
   },
   {
    "duration": 10,
    "start_time": "2022-06-23T19:46:48.454Z"
   },
   {
    "duration": 225,
    "start_time": "2022-06-23T19:46:48.465Z"
   },
   {
    "duration": 237,
    "start_time": "2022-06-23T19:46:48.692Z"
   },
   {
    "duration": 171,
    "start_time": "2022-06-23T19:46:48.930Z"
   },
   {
    "duration": 196,
    "start_time": "2022-06-23T19:46:49.104Z"
   },
   {
    "duration": 232,
    "start_time": "2022-06-23T19:46:49.302Z"
   },
   {
    "duration": 4,
    "start_time": "2022-06-23T19:46:49.536Z"
   },
   {
    "duration": 36,
    "start_time": "2022-06-23T19:46:49.541Z"
   },
   {
    "duration": 50,
    "start_time": "2022-06-23T19:46:49.578Z"
   },
   {
    "duration": 173,
    "start_time": "2022-06-23T19:46:49.629Z"
   },
   {
    "duration": 196,
    "start_time": "2022-06-23T19:46:49.804Z"
   },
   {
    "duration": 32,
    "start_time": "2022-06-23T19:46:50.002Z"
   },
   {
    "duration": 7,
    "start_time": "2022-06-23T19:46:50.036Z"
   },
   {
    "duration": 7,
    "start_time": "2022-06-23T19:46:50.045Z"
   },
   {
    "duration": 342,
    "start_time": "2022-06-23T19:46:50.053Z"
   },
   {
    "duration": 358,
    "start_time": "2022-06-23T19:46:50.397Z"
   },
   {
    "duration": 361,
    "start_time": "2022-06-23T19:46:50.757Z"
   },
   {
    "duration": 207,
    "start_time": "2022-06-23T19:46:51.120Z"
   },
   {
    "duration": 271,
    "start_time": "2022-06-23T19:46:51.329Z"
   },
   {
    "duration": 166,
    "start_time": "2022-06-23T19:46:51.605Z"
   },
   {
    "duration": 211,
    "start_time": "2022-06-23T19:46:51.773Z"
   },
   {
    "duration": 171,
    "start_time": "2022-06-23T19:46:51.985Z"
   },
   {
    "duration": 142,
    "start_time": "2022-06-23T19:46:52.157Z"
   },
   {
    "duration": 187,
    "start_time": "2022-06-23T19:46:52.301Z"
   },
   {
    "duration": 380,
    "start_time": "2022-06-23T19:46:52.490Z"
   },
   {
    "duration": 193,
    "start_time": "2022-06-23T19:46:52.872Z"
   },
   {
    "duration": 177,
    "start_time": "2022-06-23T19:46:53.066Z"
   },
   {
    "duration": 133,
    "start_time": "2022-06-23T19:46:53.244Z"
   },
   {
    "duration": 131,
    "start_time": "2022-06-23T19:46:53.379Z"
   },
   {
    "duration": 197,
    "start_time": "2022-06-23T19:46:53.512Z"
   },
   {
    "duration": 131,
    "start_time": "2022-06-23T19:46:53.712Z"
   },
   {
    "duration": 189,
    "start_time": "2022-06-23T19:46:53.848Z"
   },
   {
    "duration": 210,
    "start_time": "2022-06-23T19:46:54.039Z"
   },
   {
    "duration": 219,
    "start_time": "2022-06-23T19:46:54.251Z"
   },
   {
    "duration": 238,
    "start_time": "2022-06-23T19:46:54.472Z"
   },
   {
    "duration": 165,
    "start_time": "2022-06-23T19:46:54.712Z"
   },
   {
    "duration": 146,
    "start_time": "2022-06-23T19:46:54.880Z"
   },
   {
    "duration": 148,
    "start_time": "2022-06-23T19:46:55.028Z"
   },
   {
    "duration": 269,
    "start_time": "2022-06-23T19:46:55.178Z"
   },
   {
    "duration": 15,
    "start_time": "2022-06-23T19:46:55.449Z"
   },
   {
    "duration": 162,
    "start_time": "2022-06-23T19:46:55.466Z"
   },
   {
    "duration": 148,
    "start_time": "2022-06-23T19:46:55.630Z"
   },
   {
    "duration": 979,
    "start_time": "2022-06-24T18:01:04.443Z"
   },
   {
    "duration": 57,
    "start_time": "2022-06-24T18:01:05.424Z"
   },
   {
    "duration": 3027,
    "start_time": "2022-06-24T18:01:05.483Z"
   },
   {
    "duration": 17,
    "start_time": "2022-06-24T18:01:08.512Z"
   },
   {
    "duration": 21,
    "start_time": "2022-06-24T18:01:08.532Z"
   },
   {
    "duration": 48,
    "start_time": "2022-06-24T18:01:08.555Z"
   },
   {
    "duration": 9,
    "start_time": "2022-06-24T18:01:08.604Z"
   },
   {
    "duration": 25,
    "start_time": "2022-06-24T18:01:08.615Z"
   },
   {
    "duration": 70,
    "start_time": "2022-06-24T18:01:08.642Z"
   },
   {
    "duration": 10,
    "start_time": "2022-06-24T18:01:08.714Z"
   },
   {
    "duration": 310,
    "start_time": "2022-06-24T18:01:08.726Z"
   },
   {
    "duration": 343,
    "start_time": "2022-06-24T18:01:09.039Z"
   },
   {
    "duration": 215,
    "start_time": "2022-06-24T18:01:09.384Z"
   },
   {
    "duration": 370,
    "start_time": "2022-06-24T18:01:09.602Z"
   },
   {
    "duration": 196,
    "start_time": "2022-06-24T18:01:09.974Z"
   },
   {
    "duration": 7,
    "start_time": "2022-06-24T18:01:10.172Z"
   },
   {
    "duration": 70,
    "start_time": "2022-06-24T18:01:10.181Z"
   },
   {
    "duration": 65,
    "start_time": "2022-06-24T18:01:10.256Z"
   },
   {
    "duration": 232,
    "start_time": "2022-06-24T18:01:10.323Z"
   },
   {
    "duration": 221,
    "start_time": "2022-06-24T18:01:10.560Z"
   },
   {
    "duration": 18,
    "start_time": "2022-06-24T18:01:10.783Z"
   },
   {
    "duration": 8,
    "start_time": "2022-06-24T18:01:10.803Z"
   },
   {
    "duration": 15,
    "start_time": "2022-06-24T18:01:10.813Z"
   },
   {
    "duration": 461,
    "start_time": "2022-06-24T18:01:10.830Z"
   },
   {
    "duration": 582,
    "start_time": "2022-06-24T18:01:11.293Z"
   },
   {
    "duration": 332,
    "start_time": "2022-06-24T18:01:11.877Z"
   },
   {
    "duration": 272,
    "start_time": "2022-06-24T18:01:12.212Z"
   },
   {
    "duration": 362,
    "start_time": "2022-06-24T18:01:12.485Z"
   },
   {
    "duration": 202,
    "start_time": "2022-06-24T18:01:12.849Z"
   },
   {
    "duration": 260,
    "start_time": "2022-06-24T18:01:13.054Z"
   },
   {
    "duration": 217,
    "start_time": "2022-06-24T18:01:13.316Z"
   },
   {
    "duration": 177,
    "start_time": "2022-06-24T18:01:13.545Z"
   },
   {
    "duration": 245,
    "start_time": "2022-06-24T18:01:13.724Z"
   },
   {
    "duration": 538,
    "start_time": "2022-06-24T18:01:13.971Z"
   },
   {
    "duration": 274,
    "start_time": "2022-06-24T18:01:14.511Z"
   },
   {
    "duration": 290,
    "start_time": "2022-06-24T18:01:14.787Z"
   },
   {
    "duration": 199,
    "start_time": "2022-06-24T18:01:15.079Z"
   },
   {
    "duration": 163,
    "start_time": "2022-06-24T18:01:15.280Z"
   },
   {
    "duration": 296,
    "start_time": "2022-06-24T18:01:15.445Z"
   },
   {
    "duration": 197,
    "start_time": "2022-06-24T18:01:15.744Z"
   },
   {
    "duration": 266,
    "start_time": "2022-06-24T18:01:15.952Z"
   },
   {
    "duration": 272,
    "start_time": "2022-06-24T18:01:16.220Z"
   },
   {
    "duration": 270,
    "start_time": "2022-06-24T18:01:16.493Z"
   },
   {
    "duration": 236,
    "start_time": "2022-06-24T18:01:16.766Z"
   },
   {
    "duration": 371,
    "start_time": "2022-06-24T18:01:17.004Z"
   },
   {
    "duration": 187,
    "start_time": "2022-06-24T18:01:17.377Z"
   },
   {
    "duration": 191,
    "start_time": "2022-06-24T18:01:17.567Z"
   },
   {
    "duration": 181,
    "start_time": "2022-06-24T18:01:17.761Z"
   },
   {
    "duration": 26,
    "start_time": "2022-06-24T18:01:17.944Z"
   },
   {
    "duration": 200,
    "start_time": "2022-06-24T18:01:17.972Z"
   },
   {
    "duration": 189,
    "start_time": "2022-06-24T18:01:18.173Z"
   },
   {
    "duration": 27,
    "start_time": "2022-06-24T18:15:01.646Z"
   },
   {
    "duration": 94,
    "start_time": "2022-06-24T18:18:49.668Z"
   },
   {
    "duration": 93,
    "start_time": "2022-06-24T18:19:18.321Z"
   },
   {
    "duration": 6,
    "start_time": "2022-06-24T18:21:56.801Z"
   },
   {
    "duration": 13,
    "start_time": "2022-06-24T18:22:14.414Z"
   },
   {
    "duration": 9,
    "start_time": "2022-06-24T18:22:29.067Z"
   },
   {
    "duration": 6,
    "start_time": "2022-06-24T18:22:31.798Z"
   },
   {
    "duration": 15,
    "start_time": "2022-06-24T18:22:35.019Z"
   },
   {
    "duration": 237,
    "start_time": "2022-06-24T18:29:08.724Z"
   },
   {
    "duration": 131,
    "start_time": "2022-06-24T18:29:12.874Z"
   },
   {
    "duration": 143,
    "start_time": "2022-06-24T18:29:17.146Z"
   },
   {
    "duration": 144,
    "start_time": "2022-06-24T18:29:22.068Z"
   },
   {
    "duration": 152,
    "start_time": "2022-06-24T18:29:30.611Z"
   },
   {
    "duration": 138,
    "start_time": "2022-06-24T18:29:33.562Z"
   },
   {
    "duration": 153,
    "start_time": "2022-06-24T18:29:36.065Z"
   },
   {
    "duration": 153,
    "start_time": "2022-06-24T18:29:39.428Z"
   },
   {
    "duration": 433,
    "start_time": "2022-06-26T12:38:07.202Z"
   },
   {
    "duration": 74,
    "start_time": "2022-06-26T13:01:48.446Z"
   },
   {
    "duration": 4,
    "start_time": "2022-06-26T13:01:53.701Z"
   },
   {
    "duration": 702,
    "start_time": "2022-06-26T13:01:53.707Z"
   },
   {
    "duration": 31,
    "start_time": "2022-06-26T13:01:54.411Z"
   },
   {
    "duration": 2504,
    "start_time": "2022-06-26T13:01:54.444Z"
   },
   {
    "duration": 6,
    "start_time": "2022-06-26T13:01:56.950Z"
   },
   {
    "duration": 36,
    "start_time": "2022-06-26T13:01:56.957Z"
   },
   {
    "duration": 22,
    "start_time": "2022-06-26T13:01:56.995Z"
   },
   {
    "duration": 8,
    "start_time": "2022-06-26T13:01:57.018Z"
   },
   {
    "duration": 7,
    "start_time": "2022-06-26T13:01:57.028Z"
   },
   {
    "duration": 73,
    "start_time": "2022-06-26T13:01:57.037Z"
   },
   {
    "duration": 15,
    "start_time": "2022-06-26T13:01:57.113Z"
   },
   {
    "duration": 98,
    "start_time": "2022-06-26T13:01:57.130Z"
   },
   {
    "duration": 66,
    "start_time": "2022-06-26T13:01:59.716Z"
   },
   {
    "duration": 314,
    "start_time": "2022-06-26T13:02:20.483Z"
   },
   {
    "duration": 47,
    "start_time": "2022-06-26T13:02:34.080Z"
   },
   {
    "duration": 142,
    "start_time": "2022-06-26T13:02:37.104Z"
   },
   {
    "duration": 248,
    "start_time": "2022-06-26T13:02:44.771Z"
   },
   {
    "duration": 313,
    "start_time": "2022-06-26T13:02:49.840Z"
   },
   {
    "duration": 217,
    "start_time": "2022-06-26T13:02:55.791Z"
   },
   {
    "duration": 73,
    "start_time": "2022-06-26T13:05:10.452Z"
   },
   {
    "duration": 27,
    "start_time": "2022-06-26T13:05:29.581Z"
   },
   {
    "duration": 161,
    "start_time": "2022-06-26T13:05:40.076Z"
   },
   {
    "duration": 206,
    "start_time": "2022-06-26T13:06:05.687Z"
   },
   {
    "duration": 64,
    "start_time": "2022-06-26T13:06:10.773Z"
   },
   {
    "duration": 226,
    "start_time": "2022-06-26T13:06:16.776Z"
   },
   {
    "duration": 42,
    "start_time": "2022-06-26T13:08:08.972Z"
   },
   {
    "duration": 11,
    "start_time": "2022-06-26T13:08:24.779Z"
   },
   {
    "duration": 180,
    "start_time": "2022-06-26T13:08:32.676Z"
   },
   {
    "duration": 175,
    "start_time": "2022-06-26T13:10:51.548Z"
   },
   {
    "duration": 254,
    "start_time": "2022-06-26T13:11:03.915Z"
   },
   {
    "duration": 210,
    "start_time": "2022-06-26T13:11:28.920Z"
   },
   {
    "duration": 224,
    "start_time": "2022-06-26T13:11:37.760Z"
   },
   {
    "duration": 167,
    "start_time": "2022-06-26T13:12:32.085Z"
   },
   {
    "duration": 194,
    "start_time": "2022-06-26T13:12:41.244Z"
   },
   {
    "duration": 44,
    "start_time": "2022-06-26T13:30:47.090Z"
   },
   {
    "duration": 7,
    "start_time": "2022-06-26T13:32:35.005Z"
   },
   {
    "duration": 7,
    "start_time": "2022-06-26T13:32:45.888Z"
   },
   {
    "duration": 34,
    "start_time": "2022-06-26T13:34:57.983Z"
   },
   {
    "duration": 188,
    "start_time": "2022-06-26T13:35:10.855Z"
   },
   {
    "duration": 168,
    "start_time": "2022-06-26T13:35:26.515Z"
   },
   {
    "duration": 152,
    "start_time": "2022-06-26T13:36:26.377Z"
   },
   {
    "duration": 6,
    "start_time": "2022-06-26T13:44:31.583Z"
   },
   {
    "duration": 184,
    "start_time": "2022-06-26T13:44:41.154Z"
   },
   {
    "duration": 156,
    "start_time": "2022-06-26T13:44:50.990Z"
   },
   {
    "duration": 259,
    "start_time": "2022-06-26T13:50:58.257Z"
   },
   {
    "duration": 162,
    "start_time": "2022-06-26T13:51:17.772Z"
   },
   {
    "duration": 180,
    "start_time": "2022-06-26T13:51:32.843Z"
   },
   {
    "duration": 151,
    "start_time": "2022-06-26T13:52:38.399Z"
   },
   {
    "duration": 9,
    "start_time": "2022-06-26T13:53:23.819Z"
   },
   {
    "duration": 152,
    "start_time": "2022-06-26T13:53:37.472Z"
   },
   {
    "duration": 148,
    "start_time": "2022-06-26T13:53:45.385Z"
   },
   {
    "duration": 2,
    "start_time": "2022-06-26T13:58:35.380Z"
   },
   {
    "duration": 8,
    "start_time": "2022-06-26T13:59:05.368Z"
   },
   {
    "duration": 53,
    "start_time": "2022-06-26T14:05:33.023Z"
   },
   {
    "duration": 9,
    "start_time": "2022-06-26T14:05:47.074Z"
   },
   {
    "duration": 163,
    "start_time": "2022-06-26T14:08:04.353Z"
   },
   {
    "duration": 16,
    "start_time": "2022-06-26T14:08:09.992Z"
   },
   {
    "duration": 6,
    "start_time": "2022-06-26T14:09:01.585Z"
   },
   {
    "duration": 5,
    "start_time": "2022-06-26T14:09:55.140Z"
   },
   {
    "duration": 359,
    "start_time": "2022-06-26T14:12:59.346Z"
   },
   {
    "duration": 2,
    "start_time": "2022-06-26T14:29:45.310Z"
   },
   {
    "duration": 309,
    "start_time": "2022-06-26T14:31:40.203Z"
   },
   {
    "duration": 299,
    "start_time": "2022-06-26T14:33:09.303Z"
   },
   {
    "duration": 234,
    "start_time": "2022-06-26T14:33:32.940Z"
   },
   {
    "duration": 223,
    "start_time": "2022-06-26T14:38:11.750Z"
   },
   {
    "duration": 256,
    "start_time": "2022-06-26T14:42:06.457Z"
   },
   {
    "duration": 558,
    "start_time": "2022-06-26T14:43:06.948Z"
   },
   {
    "duration": 341,
    "start_time": "2022-06-26T14:44:55.167Z"
   },
   {
    "duration": 632,
    "start_time": "2022-06-26T14:45:39.227Z"
   },
   {
    "duration": 97,
    "start_time": "2022-06-26T14:45:39.860Z"
   },
   {
    "duration": 26,
    "start_time": "2022-06-26T14:45:39.959Z"
   },
   {
    "duration": 1813,
    "start_time": "2022-06-26T14:45:39.987Z"
   },
   {
    "duration": 6,
    "start_time": "2022-06-26T14:45:41.801Z"
   },
   {
    "duration": 16,
    "start_time": "2022-06-26T14:45:41.808Z"
   },
   {
    "duration": 23,
    "start_time": "2022-06-26T14:45:41.825Z"
   },
   {
    "duration": 10,
    "start_time": "2022-06-26T14:45:41.849Z"
   },
   {
    "duration": 8,
    "start_time": "2022-06-26T14:45:41.861Z"
   },
   {
    "duration": 35,
    "start_time": "2022-06-26T14:45:41.871Z"
   },
   {
    "duration": 10,
    "start_time": "2022-06-26T14:45:41.908Z"
   },
   {
    "duration": 220,
    "start_time": "2022-06-26T14:45:41.919Z"
   },
   {
    "duration": 213,
    "start_time": "2022-06-26T14:45:42.141Z"
   },
   {
    "duration": 38,
    "start_time": "2022-06-26T14:45:42.359Z"
   },
   {
    "duration": 8,
    "start_time": "2022-06-26T14:45:42.399Z"
   },
   {
    "duration": 171,
    "start_time": "2022-06-26T14:45:42.409Z"
   },
   {
    "duration": 6,
    "start_time": "2022-06-26T14:45:42.582Z"
   },
   {
    "duration": 9,
    "start_time": "2022-06-26T14:45:42.590Z"
   },
   {
    "duration": 5,
    "start_time": "2022-06-26T14:45:42.601Z"
   },
   {
    "duration": 173,
    "start_time": "2022-06-26T14:45:42.607Z"
   },
   {
    "duration": 6,
    "start_time": "2022-06-26T14:45:42.781Z"
   },
   {
    "duration": 235,
    "start_time": "2022-06-26T14:45:42.789Z"
   },
   {
    "duration": 9,
    "start_time": "2022-06-26T14:45:43.026Z"
   },
   {
    "duration": 177,
    "start_time": "2022-06-26T14:45:43.036Z"
   },
   {
    "duration": 157,
    "start_time": "2022-06-26T14:45:43.214Z"
   },
   {
    "duration": 15,
    "start_time": "2022-06-26T14:45:43.373Z"
   },
   {
    "duration": 10,
    "start_time": "2022-06-26T14:45:43.389Z"
   },
   {
    "duration": 4,
    "start_time": "2022-06-26T14:45:43.403Z"
   },
   {
    "duration": 183,
    "start_time": "2022-06-26T14:45:43.408Z"
   },
   {
    "duration": 327,
    "start_time": "2022-06-26T14:45:43.592Z"
   },
   {
    "duration": 219,
    "start_time": "2022-06-26T14:45:43.921Z"
   },
   {
    "duration": 168,
    "start_time": "2022-06-26T14:45:44.142Z"
   },
   {
    "duration": 311,
    "start_time": "2022-06-26T14:45:44.311Z"
   },
   {
    "duration": 145,
    "start_time": "2022-06-26T14:45:44.624Z"
   },
   {
    "duration": 179,
    "start_time": "2022-06-26T14:45:44.771Z"
   },
   {
    "duration": 165,
    "start_time": "2022-06-26T14:45:44.951Z"
   },
   {
    "duration": 101,
    "start_time": "2022-06-26T14:45:45.118Z"
   },
   {
    "duration": 171,
    "start_time": "2022-06-26T14:45:45.221Z"
   },
   {
    "duration": 243,
    "start_time": "2022-06-26T14:45:45.394Z"
   },
   {
    "duration": 172,
    "start_time": "2022-06-26T14:45:45.638Z"
   },
   {
    "duration": 278,
    "start_time": "2022-06-26T14:45:45.811Z"
   },
   {
    "duration": 124,
    "start_time": "2022-06-26T14:45:46.090Z"
   },
   {
    "duration": 127,
    "start_time": "2022-06-26T14:45:46.215Z"
   },
   {
    "duration": 176,
    "start_time": "2022-06-26T14:45:46.343Z"
   },
   {
    "duration": 112,
    "start_time": "2022-06-26T14:45:46.521Z"
   },
   {
    "duration": 172,
    "start_time": "2022-06-26T14:45:46.635Z"
   },
   {
    "duration": 174,
    "start_time": "2022-06-26T14:45:46.809Z"
   },
   {
    "duration": 157,
    "start_time": "2022-06-26T14:45:46.985Z"
   },
   {
    "duration": 235,
    "start_time": "2022-06-26T14:45:47.143Z"
   },
   {
    "duration": 172,
    "start_time": "2022-06-26T14:45:47.380Z"
   },
   {
    "duration": 157,
    "start_time": "2022-06-26T14:45:47.553Z"
   },
   {
    "duration": 140,
    "start_time": "2022-06-26T14:45:47.711Z"
   },
   {
    "duration": 140,
    "start_time": "2022-06-26T14:45:47.853Z"
   },
   {
    "duration": 13,
    "start_time": "2022-06-26T14:45:47.995Z"
   },
   {
    "duration": 156,
    "start_time": "2022-06-26T14:45:48.009Z"
   },
   {
    "duration": 140,
    "start_time": "2022-06-26T14:45:48.167Z"
   },
   {
    "duration": 441,
    "start_time": "2022-06-26T14:49:55.020Z"
   },
   {
    "duration": 156,
    "start_time": "2022-06-26T14:50:06.402Z"
   },
   {
    "duration": 218,
    "start_time": "2022-06-26T14:50:24.574Z"
   },
   {
    "duration": 55,
    "start_time": "2022-06-26T14:51:25.014Z"
   },
   {
    "duration": 172,
    "start_time": "2022-06-26T14:52:34.900Z"
   },
   {
    "duration": 162,
    "start_time": "2022-06-26T14:52:53.228Z"
   },
   {
    "duration": 175,
    "start_time": "2022-06-26T14:53:04.491Z"
   },
   {
    "duration": 247,
    "start_time": "2022-06-26T14:56:58.599Z"
   },
   {
    "duration": 377,
    "start_time": "2022-06-26T14:57:47.965Z"
   },
   {
    "duration": 211,
    "start_time": "2022-06-26T14:57:57.573Z"
   },
   {
    "duration": 256,
    "start_time": "2022-06-26T14:58:30.546Z"
   },
   {
    "duration": 235,
    "start_time": "2022-06-26T14:58:35.564Z"
   },
   {
    "duration": 120,
    "start_time": "2022-06-26T15:00:03.394Z"
   },
   {
    "duration": 126,
    "start_time": "2022-06-26T15:01:29.413Z"
   },
   {
    "duration": 46,
    "start_time": "2022-06-26T15:02:10.665Z"
   },
   {
    "duration": 189,
    "start_time": "2022-06-26T15:11:50.248Z"
   },
   {
    "duration": 341,
    "start_time": "2022-06-26T15:13:06.176Z"
   },
   {
    "duration": 202,
    "start_time": "2022-06-26T15:13:36.852Z"
   },
   {
    "duration": 191,
    "start_time": "2022-06-26T15:13:45.422Z"
   },
   {
    "duration": 178,
    "start_time": "2022-06-26T15:15:42.589Z"
   },
   {
    "duration": 132,
    "start_time": "2022-06-26T15:16:55.256Z"
   },
   {
    "duration": 182,
    "start_time": "2022-06-26T15:29:53.993Z"
   },
   {
    "duration": 260,
    "start_time": "2022-06-26T15:34:04.886Z"
   },
   {
    "duration": 361,
    "start_time": "2022-06-26T15:34:17.692Z"
   },
   {
    "duration": 259,
    "start_time": "2022-06-26T15:34:23.027Z"
   },
   {
    "duration": 226,
    "start_time": "2022-06-26T15:35:19.055Z"
   },
   {
    "duration": 259,
    "start_time": "2022-06-26T15:36:21.100Z"
   },
   {
    "duration": 192,
    "start_time": "2022-06-26T15:36:37.797Z"
   },
   {
    "duration": 178,
    "start_time": "2022-06-26T15:37:40.819Z"
   },
   {
    "duration": 143,
    "start_time": "2022-06-26T15:37:57.836Z"
   },
   {
    "duration": 148,
    "start_time": "2022-06-26T15:39:37.507Z"
   },
   {
    "duration": 281,
    "start_time": "2022-06-26T15:41:01.395Z"
   },
   {
    "duration": 132,
    "start_time": "2022-06-26T15:41:13.322Z"
   },
   {
    "duration": 145,
    "start_time": "2022-06-26T15:41:49.190Z"
   },
   {
    "duration": 213,
    "start_time": "2022-06-26T15:43:04.357Z"
   },
   {
    "duration": 255,
    "start_time": "2022-06-26T15:43:11.338Z"
   },
   {
    "duration": 177,
    "start_time": "2022-06-26T15:43:34.318Z"
   },
   {
    "duration": 178,
    "start_time": "2022-06-26T15:43:54.223Z"
   },
   {
    "duration": 192,
    "start_time": "2022-06-26T15:44:20.841Z"
   },
   {
    "duration": 176,
    "start_time": "2022-06-26T15:44:42.625Z"
   },
   {
    "duration": 137,
    "start_time": "2022-06-26T15:45:55.504Z"
   },
   {
    "duration": 139,
    "start_time": "2022-06-26T15:46:02.427Z"
   },
   {
    "duration": 147,
    "start_time": "2022-06-26T15:47:03.827Z"
   },
   {
    "duration": 92,
    "start_time": "2022-06-26T17:33:20.997Z"
   },
   {
    "duration": 173,
    "start_time": "2022-06-26T17:33:25.449Z"
   },
   {
    "duration": 159,
    "start_time": "2022-06-26T17:38:00.878Z"
   },
   {
    "duration": 279,
    "start_time": "2022-06-26T17:38:36.283Z"
   },
   {
    "duration": 657,
    "start_time": "2022-06-26T18:03:31.503Z"
   },
   {
    "duration": 96,
    "start_time": "2022-06-26T18:03:32.162Z"
   },
   {
    "duration": 42,
    "start_time": "2022-06-26T18:03:32.260Z"
   },
   {
    "duration": 1875,
    "start_time": "2022-06-26T18:03:32.305Z"
   },
   {
    "duration": 5,
    "start_time": "2022-06-26T18:03:34.182Z"
   },
   {
    "duration": 13,
    "start_time": "2022-06-26T18:03:34.189Z"
   },
   {
    "duration": 24,
    "start_time": "2022-06-26T18:03:34.204Z"
   },
   {
    "duration": 8,
    "start_time": "2022-06-26T18:03:34.230Z"
   },
   {
    "duration": 21,
    "start_time": "2022-06-26T18:03:34.239Z"
   },
   {
    "duration": 38,
    "start_time": "2022-06-26T18:03:34.263Z"
   },
   {
    "duration": 12,
    "start_time": "2022-06-26T18:03:34.303Z"
   },
   {
    "duration": 240,
    "start_time": "2022-06-26T18:03:34.316Z"
   },
   {
    "duration": 256,
    "start_time": "2022-06-26T18:03:34.559Z"
   },
   {
    "duration": 43,
    "start_time": "2022-06-26T18:03:34.817Z"
   },
   {
    "duration": 8,
    "start_time": "2022-06-26T18:03:34.861Z"
   },
   {
    "duration": 179,
    "start_time": "2022-06-26T18:03:34.871Z"
   },
   {
    "duration": 12,
    "start_time": "2022-06-26T18:03:35.052Z"
   },
   {
    "duration": 17,
    "start_time": "2022-06-26T18:03:35.065Z"
   },
   {
    "duration": 13,
    "start_time": "2022-06-26T18:03:35.083Z"
   },
   {
    "duration": 162,
    "start_time": "2022-06-26T18:03:35.098Z"
   },
   {
    "duration": 7,
    "start_time": "2022-06-26T18:03:35.262Z"
   },
   {
    "duration": 244,
    "start_time": "2022-06-26T18:03:35.270Z"
   },
   {
    "duration": 8,
    "start_time": "2022-06-26T18:03:35.516Z"
   },
   {
    "duration": 175,
    "start_time": "2022-06-26T18:03:35.525Z"
   },
   {
    "duration": 164,
    "start_time": "2022-06-26T18:03:35.701Z"
   },
   {
    "duration": 17,
    "start_time": "2022-06-26T18:03:35.867Z"
   },
   {
    "duration": 13,
    "start_time": "2022-06-26T18:03:35.886Z"
   },
   {
    "duration": 4,
    "start_time": "2022-06-26T18:03:35.903Z"
   },
   {
    "duration": 183,
    "start_time": "2022-06-26T18:03:35.909Z"
   },
   {
    "duration": 251,
    "start_time": "2022-06-26T18:03:36.094Z"
   },
   {
    "duration": 252,
    "start_time": "2022-06-26T18:03:36.347Z"
   },
   {
    "duration": 202,
    "start_time": "2022-06-26T18:03:36.600Z"
   },
   {
    "duration": 361,
    "start_time": "2022-06-26T18:03:36.804Z"
   },
   {
    "duration": 200,
    "start_time": "2022-06-26T18:03:37.166Z"
   },
   {
    "duration": 257,
    "start_time": "2022-06-26T18:03:37.368Z"
   },
   {
    "duration": 166,
    "start_time": "2022-06-26T18:03:37.627Z"
   },
   {
    "duration": 117,
    "start_time": "2022-06-26T18:03:37.795Z"
   },
   {
    "duration": 202,
    "start_time": "2022-06-26T18:03:37.914Z"
   },
   {
    "duration": 256,
    "start_time": "2022-06-26T18:03:38.118Z"
   },
   {
    "duration": 201,
    "start_time": "2022-06-26T18:03:38.376Z"
   },
   {
    "duration": 326,
    "start_time": "2022-06-26T18:03:38.579Z"
   },
   {
    "duration": 144,
    "start_time": "2022-06-26T18:03:38.907Z"
   },
   {
    "duration": 161,
    "start_time": "2022-06-26T18:03:39.058Z"
   },
   {
    "duration": 198,
    "start_time": "2022-06-26T18:03:39.221Z"
   },
   {
    "duration": 131,
    "start_time": "2022-06-26T18:03:39.421Z"
   },
   {
    "duration": 172,
    "start_time": "2022-06-26T18:03:39.554Z"
   },
   {
    "duration": 176,
    "start_time": "2022-06-26T18:03:39.728Z"
   },
   {
    "duration": 174,
    "start_time": "2022-06-26T18:03:39.906Z"
   },
   {
    "duration": 199,
    "start_time": "2022-06-26T18:03:40.082Z"
   },
   {
    "duration": 173,
    "start_time": "2022-06-26T18:03:40.282Z"
   },
   {
    "duration": 151,
    "start_time": "2022-06-26T18:03:40.459Z"
   },
   {
    "duration": 164,
    "start_time": "2022-06-26T18:03:40.612Z"
   },
   {
    "duration": 144,
    "start_time": "2022-06-26T18:03:40.777Z"
   },
   {
    "duration": 15,
    "start_time": "2022-06-26T18:03:40.922Z"
   },
   {
    "duration": 177,
    "start_time": "2022-06-26T18:03:40.939Z"
   },
   {
    "duration": 261,
    "start_time": "2022-06-26T18:03:41.118Z"
   },
   {
    "duration": 731,
    "start_time": "2022-06-27T18:18:38.946Z"
   },
   {
    "duration": 459,
    "start_time": "2022-06-27T18:18:39.679Z"
   },
   {
    "duration": 43,
    "start_time": "2022-06-27T18:18:40.140Z"
   },
   {
    "duration": 2333,
    "start_time": "2022-06-27T18:18:40.185Z"
   },
   {
    "duration": 7,
    "start_time": "2022-06-27T18:18:42.521Z"
   },
   {
    "duration": 48,
    "start_time": "2022-06-27T18:18:42.536Z"
   },
   {
    "duration": 27,
    "start_time": "2022-06-27T18:18:42.586Z"
   },
   {
    "duration": 8,
    "start_time": "2022-06-27T18:18:42.615Z"
   },
   {
    "duration": 32,
    "start_time": "2022-06-27T18:18:42.629Z"
   },
   {
    "duration": 50,
    "start_time": "2022-06-27T18:18:42.664Z"
   },
   {
    "duration": 12,
    "start_time": "2022-06-27T18:18:42.716Z"
   },
   {
    "duration": 280,
    "start_time": "2022-06-27T18:18:42.738Z"
   },
   {
    "duration": 296,
    "start_time": "2022-06-27T18:18:43.020Z"
   },
   {
    "duration": 65,
    "start_time": "2022-06-27T18:18:43.319Z"
   },
   {
    "duration": 7,
    "start_time": "2022-06-27T18:18:43.386Z"
   },
   {
    "duration": 206,
    "start_time": "2022-06-27T18:18:43.394Z"
   },
   {
    "duration": 7,
    "start_time": "2022-06-27T18:18:43.601Z"
   },
   {
    "duration": 25,
    "start_time": "2022-06-27T18:18:43.610Z"
   },
   {
    "duration": 47,
    "start_time": "2022-06-27T18:18:43.642Z"
   },
   {
    "duration": 307,
    "start_time": "2022-06-27T18:18:43.691Z"
   },
   {
    "duration": 7,
    "start_time": "2022-06-27T18:18:44.000Z"
   },
   {
    "duration": 252,
    "start_time": "2022-06-27T18:18:44.009Z"
   },
   {
    "duration": 8,
    "start_time": "2022-06-27T18:18:44.270Z"
   },
   {
    "duration": 209,
    "start_time": "2022-06-27T18:18:44.280Z"
   },
   {
    "duration": 203,
    "start_time": "2022-06-27T18:18:44.491Z"
   },
   {
    "duration": 39,
    "start_time": "2022-06-27T18:18:44.698Z"
   },
   {
    "duration": 39,
    "start_time": "2022-06-27T18:18:44.740Z"
   },
   {
    "duration": 6,
    "start_time": "2022-06-27T18:18:44.781Z"
   },
   {
    "duration": 218,
    "start_time": "2022-06-27T18:18:44.789Z"
   },
   {
    "duration": 287,
    "start_time": "2022-06-27T18:18:45.009Z"
   },
   {
    "duration": 289,
    "start_time": "2022-06-27T18:18:45.297Z"
   },
   {
    "duration": 230,
    "start_time": "2022-06-27T18:18:45.588Z"
   },
   {
    "duration": 413,
    "start_time": "2022-06-27T18:18:45.840Z"
   },
   {
    "duration": 162,
    "start_time": "2022-06-27T18:18:46.256Z"
   },
   {
    "duration": 279,
    "start_time": "2022-06-27T18:18:46.426Z"
   },
   {
    "duration": 229,
    "start_time": "2022-06-27T18:18:46.707Z"
   },
   {
    "duration": 171,
    "start_time": "2022-06-27T18:18:46.937Z"
   },
   {
    "duration": 273,
    "start_time": "2022-06-27T18:18:47.111Z"
   },
   {
    "duration": 305,
    "start_time": "2022-06-27T18:18:47.386Z"
   },
   {
    "duration": 355,
    "start_time": "2022-06-27T18:18:47.693Z"
   },
   {
    "duration": 235,
    "start_time": "2022-06-27T18:18:48.052Z"
   },
   {
    "duration": 185,
    "start_time": "2022-06-27T18:18:48.289Z"
   },
   {
    "duration": 190,
    "start_time": "2022-06-27T18:18:48.476Z"
   },
   {
    "duration": 247,
    "start_time": "2022-06-27T18:18:48.668Z"
   },
   {
    "duration": 161,
    "start_time": "2022-06-27T18:18:48.917Z"
   },
   {
    "duration": 218,
    "start_time": "2022-06-27T18:18:49.080Z"
   },
   {
    "duration": 241,
    "start_time": "2022-06-27T18:18:49.300Z"
   },
   {
    "duration": 197,
    "start_time": "2022-06-27T18:18:49.545Z"
   },
   {
    "duration": 213,
    "start_time": "2022-06-27T18:18:49.744Z"
   },
   {
    "duration": 204,
    "start_time": "2022-06-27T18:18:49.959Z"
   },
   {
    "duration": 182,
    "start_time": "2022-06-27T18:18:50.167Z"
   },
   {
    "duration": 197,
    "start_time": "2022-06-27T18:18:50.351Z"
   },
   {
    "duration": 278,
    "start_time": "2022-06-27T18:18:50.549Z"
   },
   {
    "duration": 27,
    "start_time": "2022-06-27T18:18:50.829Z"
   },
   {
    "duration": 199,
    "start_time": "2022-06-27T18:18:50.860Z"
   },
   {
    "duration": 168,
    "start_time": "2022-06-27T18:18:51.069Z"
   },
   {
    "duration": 98,
    "start_time": "2022-06-27T18:21:24.900Z"
   }
  ],
  "kernelspec": {
   "display_name": "Python 3 (ipykernel)",
   "language": "python",
   "name": "python3"
  },
  "language_info": {
   "codemirror_mode": {
    "name": "ipython",
    "version": 3
   },
   "file_extension": ".py",
   "mimetype": "text/x-python",
   "name": "python",
   "nbconvert_exporter": "python",
   "pygments_lexer": "ipython3",
   "version": "3.9.12"
  },
  "toc": {
   "base_numbering": 1,
   "nav_menu": {},
   "number_sections": true,
   "sideBar": true,
   "skip_h1_title": true,
   "title_cell": "Table of Contents",
   "title_sidebar": "Contents",
   "toc_cell": false,
   "toc_position": {},
   "toc_section_display": true,
   "toc_window_display": true
  }
 },
 "nbformat": 4,
 "nbformat_minor": 2
}
