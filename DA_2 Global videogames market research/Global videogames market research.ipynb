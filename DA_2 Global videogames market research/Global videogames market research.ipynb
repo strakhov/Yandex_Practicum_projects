{
 "cells": [
  {
   "cell_type": "markdown",
   "metadata": {},
   "source": [
    "# Исследование рынка видео-игр"
   ]
  },
  {
   "cell_type": "markdown",
   "metadata": {},
   "source": [
    "Мы работаем в интернет-магазине «Стримчик», который продаёт по всему миру компьютерные игры. Из открытых источников доступны исторические данные о продажах игр, оценки пользователей и экспертов, жанры и платформы (например, Xbox или PlayStation). Нам необходимо выявить определяющие успешность игры закономерности. На основании этих данных мы выберем наиболее перспективные платформы для разработки игр в будущем.\n",
    "Перед нами данные до 2016 года, соответсвенно, наше исследование должно помочь сделать корректный прогноз рынка на 2017.\n",
    "\n",
    "Помимо анализа рынка нам предстоит статистическими методами проверить 2 гипотезы:\n",
    "1. Средние пользовательские рейтинги платформ Xbox One и PC одинаковые.\n",
    "2. Средние пользовательские рейтинги жанров Action и Sports одинаковые."
   ]
  },
  {
   "cell_type": "markdown",
   "metadata": {},
   "source": [
    "## Первичный анализ данных"
   ]
  },
  {
   "cell_type": "code",
   "execution_count": 1,
   "metadata": {},
   "outputs": [],
   "source": [
    "import pandas as pd\n",
    "import re\n",
    "from scipy import stats as st\n",
    "import matplotlib.pyplot as plt "
   ]
  },
  {
   "cell_type": "code",
   "execution_count": 2,
   "metadata": {},
   "outputs": [
    {
     "name": "stdout",
     "output_type": "stream",
     "text": [
      "<class 'pandas.core.frame.DataFrame'>\n",
      "RangeIndex: 16715 entries, 0 to 16714\n",
      "Data columns (total 11 columns):\n",
      " #   Column           Non-Null Count  Dtype  \n",
      "---  ------           --------------  -----  \n",
      " 0   Name             16713 non-null  object \n",
      " 1   Platform         16715 non-null  object \n",
      " 2   Year_of_Release  16446 non-null  float64\n",
      " 3   Genre            16713 non-null  object \n",
      " 4   NA_sales         16715 non-null  float64\n",
      " 5   EU_sales         16715 non-null  float64\n",
      " 6   JP_sales         16715 non-null  float64\n",
      " 7   Other_sales      16715 non-null  float64\n",
      " 8   Critic_Score     8137 non-null   float64\n",
      " 9   User_Score       10014 non-null  object \n",
      " 10  Rating           9949 non-null   object \n",
      "dtypes: float64(6), object(5)\n",
      "memory usage: 1.4+ MB\n"
     ]
    }
   ],
   "source": [
    "data = pd.read_csv('C:/Users/Xiaomi/Desktop/Oleg/Docs/Практикум/5 спринт сборный/games.csv')\n",
    "data.info()"
   ]
  },
  {
   "cell_type": "code",
   "execution_count": 3,
   "metadata": {},
   "outputs": [
    {
     "data": {
      "text/html": [
       "<div>\n",
       "<style scoped>\n",
       "    .dataframe tbody tr th:only-of-type {\n",
       "        vertical-align: middle;\n",
       "    }\n",
       "\n",
       "    .dataframe tbody tr th {\n",
       "        vertical-align: top;\n",
       "    }\n",
       "\n",
       "    .dataframe thead th {\n",
       "        text-align: right;\n",
       "    }\n",
       "</style>\n",
       "<table border=\"1\" class=\"dataframe\">\n",
       "  <thead>\n",
       "    <tr style=\"text-align: right;\">\n",
       "      <th></th>\n",
       "      <th>Name</th>\n",
       "      <th>Platform</th>\n",
       "      <th>Year_of_Release</th>\n",
       "      <th>Genre</th>\n",
       "      <th>NA_sales</th>\n",
       "      <th>EU_sales</th>\n",
       "      <th>JP_sales</th>\n",
       "      <th>Other_sales</th>\n",
       "      <th>Critic_Score</th>\n",
       "      <th>User_Score</th>\n",
       "      <th>Rating</th>\n",
       "    </tr>\n",
       "  </thead>\n",
       "  <tbody>\n",
       "    <tr>\n",
       "      <th>0</th>\n",
       "      <td>Wii Sports</td>\n",
       "      <td>Wii</td>\n",
       "      <td>2006.0</td>\n",
       "      <td>Sports</td>\n",
       "      <td>41.36</td>\n",
       "      <td>28.96</td>\n",
       "      <td>3.77</td>\n",
       "      <td>8.45</td>\n",
       "      <td>76.0</td>\n",
       "      <td>8</td>\n",
       "      <td>E</td>\n",
       "    </tr>\n",
       "    <tr>\n",
       "      <th>1</th>\n",
       "      <td>Super Mario Bros.</td>\n",
       "      <td>NES</td>\n",
       "      <td>1985.0</td>\n",
       "      <td>Platform</td>\n",
       "      <td>29.08</td>\n",
       "      <td>3.58</td>\n",
       "      <td>6.81</td>\n",
       "      <td>0.77</td>\n",
       "      <td>NaN</td>\n",
       "      <td>NaN</td>\n",
       "      <td>NaN</td>\n",
       "    </tr>\n",
       "    <tr>\n",
       "      <th>2</th>\n",
       "      <td>Mario Kart Wii</td>\n",
       "      <td>Wii</td>\n",
       "      <td>2008.0</td>\n",
       "      <td>Racing</td>\n",
       "      <td>15.68</td>\n",
       "      <td>12.76</td>\n",
       "      <td>3.79</td>\n",
       "      <td>3.29</td>\n",
       "      <td>82.0</td>\n",
       "      <td>8.3</td>\n",
       "      <td>E</td>\n",
       "    </tr>\n",
       "    <tr>\n",
       "      <th>3</th>\n",
       "      <td>Wii Sports Resort</td>\n",
       "      <td>Wii</td>\n",
       "      <td>2009.0</td>\n",
       "      <td>Sports</td>\n",
       "      <td>15.61</td>\n",
       "      <td>10.93</td>\n",
       "      <td>3.28</td>\n",
       "      <td>2.95</td>\n",
       "      <td>80.0</td>\n",
       "      <td>8</td>\n",
       "      <td>E</td>\n",
       "    </tr>\n",
       "    <tr>\n",
       "      <th>4</th>\n",
       "      <td>Pokemon Red/Pokemon Blue</td>\n",
       "      <td>GB</td>\n",
       "      <td>1996.0</td>\n",
       "      <td>Role-Playing</td>\n",
       "      <td>11.27</td>\n",
       "      <td>8.89</td>\n",
       "      <td>10.22</td>\n",
       "      <td>1.00</td>\n",
       "      <td>NaN</td>\n",
       "      <td>NaN</td>\n",
       "      <td>NaN</td>\n",
       "    </tr>\n",
       "  </tbody>\n",
       "</table>\n",
       "</div>"
      ],
      "text/plain": [
       "                       Name Platform  Year_of_Release         Genre  NA_sales  \\\n",
       "0                Wii Sports      Wii           2006.0        Sports     41.36   \n",
       "1         Super Mario Bros.      NES           1985.0      Platform     29.08   \n",
       "2            Mario Kart Wii      Wii           2008.0        Racing     15.68   \n",
       "3         Wii Sports Resort      Wii           2009.0        Sports     15.61   \n",
       "4  Pokemon Red/Pokemon Blue       GB           1996.0  Role-Playing     11.27   \n",
       "\n",
       "   EU_sales  JP_sales  Other_sales  Critic_Score User_Score Rating  \n",
       "0     28.96      3.77         8.45          76.0          8      E  \n",
       "1      3.58      6.81         0.77           NaN        NaN    NaN  \n",
       "2     12.76      3.79         3.29          82.0        8.3      E  \n",
       "3     10.93      3.28         2.95          80.0          8      E  \n",
       "4      8.89     10.22         1.00           NaN        NaN    NaN  "
      ]
     },
     "metadata": {},
     "output_type": "display_data"
    }
   ],
   "source": [
    "display(data.head(5))"
   ]
  },
  {
   "cell_type": "code",
   "execution_count": 4,
   "metadata": {},
   "outputs": [
    {
     "data": {
      "image/png": "[encoded data removed]",
      "text/plain": [
       "<Figure size 720x1080 with 6 Axes>"
      ]
     },
     "metadata": {
      "needs_background": "light"
     },
     "output_type": "display_data"
    }
   ],
   "source": [
    "data.hist(figsize=(10, 15));"
   ]
  },
  {
   "cell_type": "code",
   "execution_count": 5,
   "metadata": {},
   "outputs": [
    {
     "data": {
      "text/plain": [
       "0"
      ]
     },
     "execution_count": 5,
     "metadata": {},
     "output_type": "execute_result"
    }
   ],
   "source": [
    "data.duplicated().sum()"
   ]
  },
  {
   "cell_type": "markdown",
   "metadata": {},
   "source": [
    "**Промежуточное резюме**\\\n",
    "В данных есть некоторые проблемы.\\\n",
    "Названия столбцов в некорректном регистре.\\\n",
    "Есть пропуски в столбцах Name, Year_of_Release, Critic_Score, User_Score, Rating.\\\n",
    "В столбце User_Score некорректный формат - object вместо float, В столбце Year_of_Release формат следует поменять на int либо datetime.\\\n",
    "Critic_score следует привести к формату int."
   ]
  },
  {
   "cell_type": "markdown",
   "metadata": {},
   "source": [
    "## Предобработка данных"
   ]
  },
  {
   "cell_type": "code",
   "execution_count": 6,
   "metadata": {},
   "outputs": [],
   "source": [
    "#приведение названий столбцов к змеиному регистру\n",
    "data = data.rename(columns = {'Name': 'name',\n",
    "                              'Platform': 'platform',\n",
    "                              'Year_of_Release': 'release_year', \n",
    "                              'Genre': 'genre',\n",
    "                             'NA_sales': 'na_sales',\n",
    "                             'EU_sales': 'eu_sales',\n",
    "                             'JP_sales': 'jp_sales',\n",
    "                             'Other_sales': 'other_sales',\n",
    "                             'Critic_Score': 'critic_score',\n",
    "                             'User_Score': 'user_score',\n",
    "                             'Rating': 'rating'})"
   ]
  },
  {
   "cell_type": "code",
   "execution_count": 7,
   "metadata": {},
   "outputs": [
    {
     "data": {
      "text/html": [
       "<div>\n",
       "<style scoped>\n",
       "    .dataframe tbody tr th:only-of-type {\n",
       "        vertical-align: middle;\n",
       "    }\n",
       "\n",
       "    .dataframe tbody tr th {\n",
       "        vertical-align: top;\n",
       "    }\n",
       "\n",
       "    .dataframe thead th {\n",
       "        text-align: right;\n",
       "    }\n",
       "</style>\n",
       "<table border=\"1\" class=\"dataframe\">\n",
       "  <thead>\n",
       "    <tr style=\"text-align: right;\">\n",
       "      <th></th>\n",
       "      <th>name</th>\n",
       "      <th>platform</th>\n",
       "      <th>release_year</th>\n",
       "      <th>genre</th>\n",
       "      <th>na_sales</th>\n",
       "      <th>eu_sales</th>\n",
       "      <th>jp_sales</th>\n",
       "      <th>other_sales</th>\n",
       "      <th>critic_score</th>\n",
       "      <th>user_score</th>\n",
       "      <th>rating</th>\n",
       "    </tr>\n",
       "  </thead>\n",
       "  <tbody>\n",
       "    <tr>\n",
       "      <th>659</th>\n",
       "      <td>NaN</td>\n",
       "      <td>GEN</td>\n",
       "      <td>1993.0</td>\n",
       "      <td>NaN</td>\n",
       "      <td>1.78</td>\n",
       "      <td>0.53</td>\n",
       "      <td>0.00</td>\n",
       "      <td>0.08</td>\n",
       "      <td>NaN</td>\n",
       "      <td>NaN</td>\n",
       "      <td>NaN</td>\n",
       "    </tr>\n",
       "    <tr>\n",
       "      <th>14244</th>\n",
       "      <td>NaN</td>\n",
       "      <td>GEN</td>\n",
       "      <td>1993.0</td>\n",
       "      <td>NaN</td>\n",
       "      <td>0.00</td>\n",
       "      <td>0.00</td>\n",
       "      <td>0.03</td>\n",
       "      <td>0.00</td>\n",
       "      <td>NaN</td>\n",
       "      <td>NaN</td>\n",
       "      <td>NaN</td>\n",
       "    </tr>\n",
       "  </tbody>\n",
       "</table>\n",
       "</div>"
      ],
      "text/plain": [
       "      name platform  release_year genre  na_sales  eu_sales  jp_sales  \\\n",
       "659    NaN      GEN        1993.0   NaN      1.78      0.53      0.00   \n",
       "14244  NaN      GEN        1993.0   NaN      0.00      0.00      0.03   \n",
       "\n",
       "       other_sales  critic_score user_score rating  \n",
       "659           0.08           NaN        NaN    NaN  \n",
       "14244         0.00           NaN        NaN    NaN  "
      ]
     },
     "metadata": {},
     "output_type": "display_data"
    }
   ],
   "source": [
    "#посмотрим на 2 строки с пропусками в столбце name\n",
    "display(data.loc[data['name'].isna() == True])"
   ]
  },
  {
   "cell_type": "code",
   "execution_count": 8,
   "metadata": {},
   "outputs": [],
   "source": [
    "# 2 строки с пропусками в столбце name малоинформативны. Удаляю эти 2 строки\n",
    "data = data.dropna(subset=['name'])"
   ]
  },
  {
   "cell_type": "code",
   "execution_count": 9,
   "metadata": {},
   "outputs": [
    {
     "data": {
      "text/html": [
       "<div>\n",
       "<style scoped>\n",
       "    .dataframe tbody tr th:only-of-type {\n",
       "        vertical-align: middle;\n",
       "    }\n",
       "\n",
       "    .dataframe tbody tr th {\n",
       "        vertical-align: top;\n",
       "    }\n",
       "\n",
       "    .dataframe thead th {\n",
       "        text-align: right;\n",
       "    }\n",
       "</style>\n",
       "<table border=\"1\" class=\"dataframe\">\n",
       "  <thead>\n",
       "    <tr style=\"text-align: right;\">\n",
       "      <th></th>\n",
       "      <th>name</th>\n",
       "      <th>platform</th>\n",
       "      <th>release_year</th>\n",
       "      <th>genre</th>\n",
       "      <th>na_sales</th>\n",
       "      <th>eu_sales</th>\n",
       "      <th>jp_sales</th>\n",
       "      <th>other_sales</th>\n",
       "      <th>critic_score</th>\n",
       "      <th>user_score</th>\n",
       "      <th>rating</th>\n",
       "    </tr>\n",
       "  </thead>\n",
       "  <tbody>\n",
       "    <tr>\n",
       "      <th>183</th>\n",
       "      <td>Madden NFL 2004</td>\n",
       "      <td>PS2</td>\n",
       "      <td>NaN</td>\n",
       "      <td>Sports</td>\n",
       "      <td>4.26</td>\n",
       "      <td>0.26</td>\n",
       "      <td>0.01</td>\n",
       "      <td>0.71</td>\n",
       "      <td>94.0</td>\n",
       "      <td>8.5</td>\n",
       "      <td>E</td>\n",
       "    </tr>\n",
       "    <tr>\n",
       "      <th>377</th>\n",
       "      <td>FIFA Soccer 2004</td>\n",
       "      <td>PS2</td>\n",
       "      <td>NaN</td>\n",
       "      <td>Sports</td>\n",
       "      <td>0.59</td>\n",
       "      <td>2.36</td>\n",
       "      <td>0.04</td>\n",
       "      <td>0.51</td>\n",
       "      <td>84.0</td>\n",
       "      <td>6.4</td>\n",
       "      <td>E</td>\n",
       "    </tr>\n",
       "    <tr>\n",
       "      <th>456</th>\n",
       "      <td>LEGO Batman: The Videogame</td>\n",
       "      <td>Wii</td>\n",
       "      <td>NaN</td>\n",
       "      <td>Action</td>\n",
       "      <td>1.80</td>\n",
       "      <td>0.97</td>\n",
       "      <td>0.00</td>\n",
       "      <td>0.29</td>\n",
       "      <td>74.0</td>\n",
       "      <td>7.9</td>\n",
       "      <td>E10+</td>\n",
       "    </tr>\n",
       "    <tr>\n",
       "      <th>475</th>\n",
       "      <td>wwe Smackdown vs. Raw 2006</td>\n",
       "      <td>PS2</td>\n",
       "      <td>NaN</td>\n",
       "      <td>Fighting</td>\n",
       "      <td>1.57</td>\n",
       "      <td>1.02</td>\n",
       "      <td>0.00</td>\n",
       "      <td>0.41</td>\n",
       "      <td>NaN</td>\n",
       "      <td>NaN</td>\n",
       "      <td>NaN</td>\n",
       "    </tr>\n",
       "    <tr>\n",
       "      <th>609</th>\n",
       "      <td>Space Invaders</td>\n",
       "      <td>2600</td>\n",
       "      <td>NaN</td>\n",
       "      <td>Shooter</td>\n",
       "      <td>2.36</td>\n",
       "      <td>0.14</td>\n",
       "      <td>0.00</td>\n",
       "      <td>0.03</td>\n",
       "      <td>NaN</td>\n",
       "      <td>NaN</td>\n",
       "      <td>NaN</td>\n",
       "    </tr>\n",
       "    <tr>\n",
       "      <th>627</th>\n",
       "      <td>Rock Band</td>\n",
       "      <td>X360</td>\n",
       "      <td>NaN</td>\n",
       "      <td>Misc</td>\n",
       "      <td>1.93</td>\n",
       "      <td>0.33</td>\n",
       "      <td>0.00</td>\n",
       "      <td>0.21</td>\n",
       "      <td>92.0</td>\n",
       "      <td>8.2</td>\n",
       "      <td>T</td>\n",
       "    </tr>\n",
       "    <tr>\n",
       "      <th>657</th>\n",
       "      <td>Frogger's Adventures: Temple of the Frog</td>\n",
       "      <td>GBA</td>\n",
       "      <td>NaN</td>\n",
       "      <td>Adventure</td>\n",
       "      <td>2.15</td>\n",
       "      <td>0.18</td>\n",
       "      <td>0.00</td>\n",
       "      <td>0.07</td>\n",
       "      <td>73.0</td>\n",
       "      <td>tbd</td>\n",
       "      <td>E</td>\n",
       "    </tr>\n",
       "    <tr>\n",
       "      <th>678</th>\n",
       "      <td>LEGO Indiana Jones: The Original Adventures</td>\n",
       "      <td>Wii</td>\n",
       "      <td>NaN</td>\n",
       "      <td>Action</td>\n",
       "      <td>1.51</td>\n",
       "      <td>0.61</td>\n",
       "      <td>0.00</td>\n",
       "      <td>0.21</td>\n",
       "      <td>78.0</td>\n",
       "      <td>6.6</td>\n",
       "      <td>E10+</td>\n",
       "    </tr>\n",
       "    <tr>\n",
       "      <th>719</th>\n",
       "      <td>Call of Duty 3</td>\n",
       "      <td>Wii</td>\n",
       "      <td>NaN</td>\n",
       "      <td>Shooter</td>\n",
       "      <td>1.17</td>\n",
       "      <td>0.84</td>\n",
       "      <td>0.00</td>\n",
       "      <td>0.23</td>\n",
       "      <td>69.0</td>\n",
       "      <td>6.7</td>\n",
       "      <td>T</td>\n",
       "    </tr>\n",
       "    <tr>\n",
       "      <th>805</th>\n",
       "      <td>Rock Band</td>\n",
       "      <td>Wii</td>\n",
       "      <td>NaN</td>\n",
       "      <td>Misc</td>\n",
       "      <td>1.33</td>\n",
       "      <td>0.56</td>\n",
       "      <td>0.00</td>\n",
       "      <td>0.20</td>\n",
       "      <td>80.0</td>\n",
       "      <td>6.3</td>\n",
       "      <td>T</td>\n",
       "    </tr>\n",
       "  </tbody>\n",
       "</table>\n",
       "</div>"
      ],
      "text/plain": [
       "                                            name platform  release_year  \\\n",
       "183                              Madden NFL 2004      PS2           NaN   \n",
       "377                             FIFA Soccer 2004      PS2           NaN   \n",
       "456                   LEGO Batman: The Videogame      Wii           NaN   \n",
       "475                   wwe Smackdown vs. Raw 2006      PS2           NaN   \n",
       "609                               Space Invaders     2600           NaN   \n",
       "627                                    Rock Band     X360           NaN   \n",
       "657     Frogger's Adventures: Temple of the Frog      GBA           NaN   \n",
       "678  LEGO Indiana Jones: The Original Adventures      Wii           NaN   \n",
       "719                               Call of Duty 3      Wii           NaN   \n",
       "805                                    Rock Band      Wii           NaN   \n",
       "\n",
       "         genre  na_sales  eu_sales  jp_sales  other_sales  critic_score  \\\n",
       "183     Sports      4.26      0.26      0.01         0.71          94.0   \n",
       "377     Sports      0.59      2.36      0.04         0.51          84.0   \n",
       "456     Action      1.80      0.97      0.00         0.29          74.0   \n",
       "475   Fighting      1.57      1.02      0.00         0.41           NaN   \n",
       "609    Shooter      2.36      0.14      0.00         0.03           NaN   \n",
       "627       Misc      1.93      0.33      0.00         0.21          92.0   \n",
       "657  Adventure      2.15      0.18      0.00         0.07          73.0   \n",
       "678     Action      1.51      0.61      0.00         0.21          78.0   \n",
       "719    Shooter      1.17      0.84      0.00         0.23          69.0   \n",
       "805       Misc      1.33      0.56      0.00         0.20          80.0   \n",
       "\n",
       "    user_score rating  \n",
       "183        8.5      E  \n",
       "377        6.4      E  \n",
       "456        7.9   E10+  \n",
       "475        NaN    NaN  \n",
       "609        NaN    NaN  \n",
       "627        8.2      T  \n",
       "657        tbd      E  \n",
       "678        6.6   E10+  \n",
       "719        6.7      T  \n",
       "805        6.3      T  "
      ]
     },
     "metadata": {},
     "output_type": "display_data"
    }
   ],
   "source": [
    "display(data.loc[data['release_year'].isna() == True].head(10))"
   ]
  },
  {
   "cell_type": "markdown",
   "metadata": {},
   "source": [
    "В строках, где пропущен год релиза, название часто содержит год выхода игры, например FIFA Soccer 2004. В пропусках release_year можно указать эти значения - это будет лучше, чем заполнить пропуски нулем.\\\n",
    "Также некоторые игры, выпущенные на разных платформах, имеют указанный год релиза, но у той же игры на другой платформе год релиза пропущен. В таких пропусках можно указать медиану года релиза этой игры на других платформах."
   ]
  },
  {
   "cell_type": "code",
   "execution_count": 10,
   "metadata": {},
   "outputs": [],
   "source": [
    "#для начала заполняю все пропуски нулем\n",
    "data['release_year'] = data['release_year'].fillna(0)\n",
    "\n",
    "#ветка try с помощью регулярного выражения ищет в названии игры год и если находит,\n",
    "#то меняет 0 на год из названия. Ветка except меняет 0 на медианный год релиза этих\n",
    "#игр на других платформах\n",
    "try:\n",
    "    for xxx in data['name'].unique():\n",
    "        match = re.search(r'\\d{4}', xxx)\n",
    "        criteria_1 = data['name'] == xxx\n",
    "        criteria_2 = data['release_year'] == 0\n",
    "        criteria = criteria_1 & criteria_2\n",
    "        data.loc[criteria, 'release_year'] = match.group(0)\n",
    "except:\n",
    "    for xxx in data['name'].unique():\n",
    "        criteria_1 = data['name'] == xxx\n",
    "        criteria_2 = data['release_year'] == 0\n",
    "        criteria = criteria_1 & criteria_2\n",
    "        data['release_year'] = data['release_year'].fillna(data.query('name == @xxx')['release_year'].median())"
   ]
  },
  {
   "cell_type": "code",
   "execution_count": 11,
   "metadata": {},
   "outputs": [],
   "source": [
    "#оставшиеся пропуски в release_year удаляем\n",
    "data = data.query('release_year != 0')"
   ]
  },
  {
   "cell_type": "markdown",
   "metadata": {},
   "source": [
    "Значение tbd в столбце user_score - вероятно результат какой-то ошибки. Эти значения мешают поменять строковый формат на числовой. Заменяю tbd на 0, затем меняю формат столбца на float."
   ]
  },
  {
   "cell_type": "code",
   "execution_count": 12,
   "metadata": {},
   "outputs": [],
   "source": [
    "#заполняем оставшиеся пропуски в других столбцах\n",
    "data['critic_score'] = data['critic_score'].fillna(0)\n",
    "data['user_score'] = data['user_score'].str.replace('tbd', '0')\n",
    "data['user_score'] = data['user_score'].fillna('0')\n",
    "data['rating'] = data['rating'].fillna('unknown')"
   ]
  },
  {
   "cell_type": "code",
   "execution_count": 13,
   "metadata": {},
   "outputs": [
    {
     "data": {
      "text/plain": [
       "unknown    6676\n",
       "E          3921\n",
       "T          2905\n",
       "M          1536\n",
       "E10+       1393\n",
       "EC            8\n",
       "K-A           3\n",
       "AO            1\n",
       "RP            1\n",
       "Name: rating, dtype: int64"
      ]
     },
     "execution_count": 13,
     "metadata": {},
     "output_type": "execute_result"
    }
   ],
   "source": [
    "# check\n",
    "data['rating'].value_counts()"
   ]
  },
  {
   "cell_type": "code",
   "execution_count": 14,
   "metadata": {},
   "outputs": [],
   "source": [
    "#меняю формат данных там, где это нужно\n",
    "data['release_year'] = data['release_year'].astype('int')\n",
    "data['user_score'] = pd.to_numeric(data['user_score'])\n",
    "data['critic_score'] = data['critic_score'].astype('int')"
   ]
  },
  {
   "cell_type": "code",
   "execution_count": 15,
   "metadata": {},
   "outputs": [],
   "source": [
    "#добавление столбца с общими продажами\n",
    "data['all_sales'] = data['na_sales'] + data['eu_sales'] + data['jp_sales'] + data['other_sales']"
   ]
  },
  {
   "cell_type": "code",
   "execution_count": 16,
   "metadata": {},
   "outputs": [
    {
     "name": "stdout",
     "output_type": "stream",
     "text": [
      "<class 'pandas.core.frame.DataFrame'>\n",
      "Int64Index: 16444 entries, 0 to 16714\n",
      "Data columns (total 12 columns):\n",
      " #   Column        Non-Null Count  Dtype  \n",
      "---  ------        --------------  -----  \n",
      " 0   name          16444 non-null  object \n",
      " 1   platform      16444 non-null  object \n",
      " 2   release_year  16444 non-null  int32  \n",
      " 3   genre         16444 non-null  object \n",
      " 4   na_sales      16444 non-null  float64\n",
      " 5   eu_sales      16444 non-null  float64\n",
      " 6   jp_sales      16444 non-null  float64\n",
      " 7   other_sales   16444 non-null  float64\n",
      " 8   critic_score  16444 non-null  int32  \n",
      " 9   user_score    16444 non-null  float64\n",
      " 10  rating        16444 non-null  object \n",
      " 11  all_sales     16444 non-null  float64\n",
      "dtypes: float64(6), int32(2), object(4)\n",
      "memory usage: 1.5+ MB\n"
     ]
    }
   ],
   "source": [
    "#проверка результата предобработки\n",
    "data.info()"
   ]
  },
  {
   "cell_type": "markdown",
   "metadata": {},
   "source": [
    "Пропуски убраны, форматы корректны, названия столбцов в змеином регистре.\n",
    "Можно приступать к анализу данных."
   ]
  },
  {
   "cell_type": "markdown",
   "metadata": {},
   "source": [
    "## Исследовательский анализ данных "
   ]
  },
  {
   "cell_type": "markdown",
   "metadata": {},
   "source": [
    "### Выпуск игр по годам"
   ]
  },
  {
   "cell_type": "code",
   "execution_count": 17,
   "metadata": {},
   "outputs": [
    {
     "data": {
      "image/png": "[encoded data removed]",
      "text/plain": [
       "<Figure size 432x288 with 1 Axes>"
      ]
     },
     "metadata": {
      "needs_background": "light"
     },
     "output_type": "display_data"
    }
   ],
   "source": [
    "data['release_year'].hist(bins=40, range=(1980, 2020));"
   ]
  },
  {
   "cell_type": "markdown",
   "metadata": {},
   "source": [
    "На гистограмме видно, что до 1990 года выпускалось незначительное количество игр, этим периодом в исследовании можно пренебречь."
   ]
  },
  {
   "cell_type": "markdown",
   "metadata": {},
   "source": [
    "### Платформы с наибольшими суммарными продажами"
   ]
  },
  {
   "cell_type": "code",
   "execution_count": 18,
   "metadata": {},
   "outputs": [
    {
     "name": "stdout",
     "output_type": "stream",
     "text": [
      "platform\n",
      "PS2     1233.56\n",
      "X360     961.24\n",
      "PS3      931.34\n",
      "Wii      891.18\n",
      "DS       802.78\n",
      "PS       727.58\n",
      "PS4      314.14\n",
      "GBA      312.88\n",
      "PSP      289.53\n",
      "3DS      257.81\n",
      "PC       255.76\n",
      "GB       254.43\n",
      "XB       251.57\n",
      "NES      251.05\n",
      "N64      218.01\n",
      "SNES     200.04\n",
      "GC       196.73\n",
      "XOne     159.32\n",
      "2600      86.48\n",
      "WiiU      82.19\n",
      "PSV       53.81\n",
      "SAT       33.59\n",
      "GEN       28.35\n",
      "DC        15.95\n",
      "SCD        1.86\n",
      "NG         1.44\n",
      "WS         1.42\n",
      "TG16       0.16\n",
      "3DO        0.10\n",
      "GG         0.04\n",
      "PCFX       0.03\n",
      "Name: all_sales, dtype: float64\n"
     ]
    }
   ],
   "source": [
    "print(data.groupby('platform')['all_sales'].sum().sort_values(ascending=False))"
   ]
  },
  {
   "cell_type": "markdown",
   "metadata": {},
   "source": [
    "Наибольшие суммарные продажи имеют следующие платформы: PS2, X360, PS3, Wii, DS, PS"
   ]
  },
  {
   "cell_type": "markdown",
   "metadata": {},
   "source": [
    "### Жизненный цикл платформ"
   ]
  },
  {
   "cell_type": "code",
   "execution_count": 19,
   "metadata": {},
   "outputs": [
    {
     "data": {
      "image/png": "[encoded data removed]",
      "text/plain": [
       "<Figure size 432x288 with 1 Axes>"
      ]
     },
     "metadata": {
      "needs_background": "light"
     },
     "output_type": "display_data"
    }
   ],
   "source": [
    "#строю график all_sales по годам по 6 самым популярным платформам\n",
    "data.query('platform == \"PS2\"')\\\n",
    "    .groupby('release_year')['all_sales'].sum()\\\n",
    "    .plot(x='release_year', y='all_sales', grid=True, label='PS2', legend=True);\n",
    "\n",
    "data.query('platform == \"X360\"')\\\n",
    "    .groupby('release_year')['all_sales'].sum()\\\n",
    "    .plot(x='release_year', y='all_sales', grid=True, label='X360', legend=True);\n",
    "\n",
    "data.query('platform == \"PS3\"')\\\n",
    "    .groupby('release_year')['all_sales'].sum()\\\n",
    "    .plot(x='release_year', y='all_sales', grid=True, label='PS3', legend=True);\n",
    "\n",
    "data.query('platform == \"Wii\"')\\\n",
    "    .groupby('release_year')['all_sales'].sum()\\\n",
    "    .plot(x='release_year', y='all_sales', grid=True, label='Wii', legend=True);\n",
    "\n",
    "data.query('platform == \"DS\"')\\\n",
    "    .groupby('release_year')['all_sales'].sum()\\\n",
    "    .plot(x='release_year', y='all_sales', grid=True, label='DS', legend=True);\n",
    "\n",
    "data.query('platform == \"PS\"')\\\n",
    "    .groupby('release_year')['all_sales'].sum()\\\n",
    "    .plot(x='release_year', y='all_sales', grid=True, label='PS', legend=True);"
   ]
  },
  {
   "cell_type": "markdown",
   "metadata": {},
   "source": [
    "На графике видно, что средний жизненный цикл платформы составляет около 5 лет. Есть странный выброс у платформы DS в 1985 году, хотя приставка начала выпускаться в 2004. Рассмотрим строку с аномалией"
   ]
  },
  {
   "cell_type": "code",
   "execution_count": 20,
   "metadata": {},
   "outputs": [
    {
     "data": {
      "text/html": [
       "<div>\n",
       "<style scoped>\n",
       "    .dataframe tbody tr th:only-of-type {\n",
       "        vertical-align: middle;\n",
       "    }\n",
       "\n",
       "    .dataframe tbody tr th {\n",
       "        vertical-align: top;\n",
       "    }\n",
       "\n",
       "    .dataframe thead th {\n",
       "        text-align: right;\n",
       "    }\n",
       "</style>\n",
       "<table border=\"1\" class=\"dataframe\">\n",
       "  <thead>\n",
       "    <tr style=\"text-align: right;\">\n",
       "      <th></th>\n",
       "      <th>name</th>\n",
       "      <th>platform</th>\n",
       "      <th>release_year</th>\n",
       "      <th>genre</th>\n",
       "      <th>na_sales</th>\n",
       "      <th>eu_sales</th>\n",
       "      <th>jp_sales</th>\n",
       "      <th>other_sales</th>\n",
       "      <th>critic_score</th>\n",
       "      <th>user_score</th>\n",
       "      <th>rating</th>\n",
       "      <th>all_sales</th>\n",
       "    </tr>\n",
       "  </thead>\n",
       "  <tbody>\n",
       "    <tr>\n",
       "      <th>15957</th>\n",
       "      <td>Strongest Tokyo University Shogi DS</td>\n",
       "      <td>DS</td>\n",
       "      <td>1985</td>\n",
       "      <td>Action</td>\n",
       "      <td>0.0</td>\n",
       "      <td>0.0</td>\n",
       "      <td>0.02</td>\n",
       "      <td>0.0</td>\n",
       "      <td>0</td>\n",
       "      <td>0.0</td>\n",
       "      <td>unknown</td>\n",
       "      <td>0.02</td>\n",
       "    </tr>\n",
       "  </tbody>\n",
       "</table>\n",
       "</div>"
      ],
      "text/plain": [
       "                                      name platform  release_year   genre  \\\n",
       "15957  Strongest Tokyo University Shogi DS       DS          1985  Action   \n",
       "\n",
       "       na_sales  eu_sales  jp_sales  other_sales  critic_score  user_score  \\\n",
       "15957       0.0       0.0      0.02          0.0             0         0.0   \n",
       "\n",
       "        rating  all_sales  \n",
       "15957  unknown       0.02  "
      ]
     },
     "metadata": {},
     "output_type": "display_data"
    }
   ],
   "source": [
    "display(data.query('release_year == 1985 and platform == \"DS\"'))"
   ]
  },
  {
   "cell_type": "markdown",
   "metadata": {},
   "source": [
    "Такая аномалия всего одна, продажи ее околонулевые, скорее всего это ошибка. Строка не имеет информационной ценности, ее можно спокойно удалить."
   ]
  },
  {
   "cell_type": "code",
   "execution_count": 21,
   "metadata": {},
   "outputs": [],
   "source": [
    "data = data.query('name != \"Strongest Tokyo University Shogi DS\"')"
   ]
  },
  {
   "cell_type": "markdown",
   "metadata": {},
   "source": [
    "С учетом предыдущего вывода за актуальный период можно принять период с 2014 до 2016 включительно - этот период охватывает чуть меньше 1 среднего жизненного цикла платформы"
   ]
  },
  {
   "cell_type": "markdown",
   "metadata": {},
   "source": [
    "### Выбор наиболее потенциальных платформ"
   ]
  },
  {
   "cell_type": "code",
   "execution_count": 22,
   "metadata": {},
   "outputs": [
    {
     "name": "stdout",
     "output_type": "stream",
     "text": [
      "platform\n",
      "PS4     288.15\n",
      "XOne    140.36\n",
      "3DS      86.68\n",
      "PS3      68.18\n",
      "X360     48.22\n",
      "WiiU     42.98\n",
      "PC       27.05\n",
      "PSV      22.40\n",
      "Wii       5.07\n",
      "PSP       0.36\n",
      "Name: all_sales, dtype: float64\n"
     ]
    }
   ],
   "source": [
    "data_actual = data.query('release_year >= 2014')\n",
    "print(data_actual.groupby('platform')['all_sales'].sum().sort_values(ascending=False))"
   ]
  },
  {
   "cell_type": "code",
   "execution_count": 23,
   "metadata": {},
   "outputs": [
    {
     "data": {
      "image/png": "[encoded data removed]",
      "text/plain": [
       "<Figure size 1080x432 with 1 Axes>"
      ]
     },
     "metadata": {
      "needs_background": "light"
     },
     "output_type": "display_data"
    }
   ],
   "source": [
    "# check\n",
    "\n",
    "(data_actual\n",
    "   .pivot_table(index='release_year', columns='platform', values='all_sales', aggfunc='sum')\n",
    "   .plot(style='o-', grid= True, legend=True, figsize=(15,6))\n",
    "   .set(xlabel='Год', ylabel='Продажи, $ млн.', title='Продажи каждой платформы по годам')\n",
    ");"
   ]
  },
  {
   "cell_type": "code",
   "execution_count": 24,
   "metadata": {},
   "outputs": [
    {
     "data": {
      "image/png": "[encoded data removed]",
      "text/plain": [
       "<Figure size 432x288 with 1 Axes>"
      ]
     },
     "metadata": {
      "needs_background": "light"
     },
     "output_type": "display_data"
    }
   ],
   "source": [
    "data_actual.groupby('platform')['all_sales'].sum().sort_values(ascending=False).plot(kind='bar');"
   ]
  },
  {
   "cell_type": "markdown",
   "metadata": {},
   "source": [
    "Судя по тому, что продажи всех платформ резко падают в 2016, либо это был кризисный год для индустрии, либо данные за 2016 в датасете не полные.\\\n",
    "Если не брать во внимание аномально низкий 2016 год, то можно выделить единстенные 2 растущие платформы в актуальном периоде:\\\n",
    "**PS4**\\\n",
    "**XOne**\\\n",
    "\\\n",
    "**PS3**, **3DS** и **X360** имеют также крупные объемы продаж за выбранный период, но к 2016 находятся на стадии завершения своего жизненного цикла, поэтому эти платформы не стал бы рассматривать как перспективные."
   ]
  },
  {
   "cell_type": "markdown",
   "metadata": {},
   "source": [
    "### Разброс данных по продажам разных платформ"
   ]
  },
  {
   "cell_type": "code",
   "execution_count": 52,
   "metadata": {},
   "outputs": [
    {
     "data": {
      "image/png": "[encoded data removed]",
      "text/plain": [
       "<Figure size 432x288 with 1 Axes>"
      ]
     },
     "metadata": {
      "needs_background": "light"
     },
     "output_type": "display_data"
    }
   ],
   "source": [
    "#построение графика \"ящик с усами\" по платформам\n",
    "data_actual.pivot_table(index='name', columns='platform', values='all_sales', aggfunc='sum')\\\n",
    "    .boxplot()\\\n",
    "    .set(xlabel='Платформа', ylabel='Продажи, $ млн.', title='Разброс продаж игр по платформам');"
   ]
  },
  {
   "cell_type": "markdown",
   "metadata": {},
   "source": [
    "Выюросы мешают сделать однозначные выводы. Пока явными аутсайдерами среди платформ выглядят PSP, PSV. Наиболее интересные платформы - PS4, Wii, WiiU, X360, XOne. Увеличим масштаб графика"
   ]
  },
  {
   "cell_type": "code",
   "execution_count": 53,
   "metadata": {},
   "outputs": [
    {
     "data": {
      "image/png": "[encoded data removed]",
      "text/plain": [
       "<Figure size 432x288 with 1 Axes>"
      ]
     },
     "metadata": {
      "needs_background": "light"
     },
     "output_type": "display_data"
    }
   ],
   "source": [
    "data_actual.pivot_table(index='name', columns='platform', values='all_sales', aggfunc='sum')\\\n",
    "    .boxplot()\\\n",
    "    .set(xlabel='Платформа', ylabel='Продажи, $ млн.', title='Разброс продаж игр по платформам')\n",
    "plt.ylim(0, 1.6);"
   ]
  },
  {
   "cell_type": "markdown",
   "metadata": {},
   "source": [
    "Наивысшую медиану и 3 квартиль имеет платформа XBox One, далее следуют PS4, XBox 360, Wii, WiiU - эти платформы имеют наибольшее кол-во коммерчески успешных игр."
   ]
  },
  {
   "cell_type": "markdown",
   "metadata": {},
   "source": [
    "### Зависимость продаж от оценок "
   ]
  },
  {
   "cell_type": "code",
   "execution_count": 27,
   "metadata": {},
   "outputs": [
    {
     "name": "stdout",
     "output_type": "stream",
     "text": [
      "Коэффициент корреляции 0.44657460493190715\n"
     ]
    },
    {
     "data": {
      "image/png": "[encoded data removed]",
      "text/plain": [
       "<Figure size 432x288 with 1 Axes>"
      ]
     },
     "metadata": {
      "needs_background": "light"
     },
     "output_type": "display_data"
    }
   ],
   "source": [
    "#зависимость оценки критиков на глобальные продажи\n",
    "data_ps3_pivot = data_actual.query('platform == \"PS3\" and critic_score != 0')\\\n",
    "    .pivot_table(index='name', values=['all_sales', 'critic_score', 'user_score'], aggfunc='sum')\n",
    "data_ps3_pivot.plot(x='critic_score', y='all_sales', kind='scatter')\n",
    "\n",
    "print('Коэффициент корреляции', data_ps3_pivot['critic_score'].corr(data_ps3_pivot['all_sales']))"
   ]
  },
  {
   "cell_type": "code",
   "execution_count": 28,
   "metadata": {},
   "outputs": [
    {
     "name": "stdout",
     "output_type": "stream",
     "text": [
      "Коэффициент корреляции 0.1565951618135996\n"
     ]
    },
    {
     "data": {
      "image/png": "[encoded data removed]",
      "text/plain": [
       "<Figure size 432x288 with 1 Axes>"
      ]
     },
     "metadata": {
      "needs_background": "light"
     },
     "output_type": "display_data"
    }
   ],
   "source": [
    "#зависимость оценки пользователей на глобальные продажи\n",
    "data_ps3_pivot_2 = data_actual.query('platform == \"PS3\" and user_score != 0')\\\n",
    "    .pivot_table(index='name', values=['all_sales', 'critic_score', 'user_score'], aggfunc='sum')\n",
    "data_ps3_pivot.plot(x='user_score', y='all_sales', kind='scatter')\n",
    "\n",
    "print('Коэффициент корреляции', data_ps3_pivot['user_score'].corr(data_ps3_pivot['all_sales']))"
   ]
  },
  {
   "cell_type": "markdown",
   "metadata": {},
   "source": [
    "Можно сделать вывод, что оценки пользователей практически не влияют на глобальные продажи игр, что подтверждается низким коэффициентом корреляции. Оценки критиков, напротив, значительно влияют на продажи игр - не все игры с высоким рейтингом имеют большие продажи, но все бестселлеры имеют высокий рейтинг от 65 и выше."
   ]
  },
  {
   "cell_type": "code",
   "execution_count": 29,
   "metadata": {},
   "outputs": [
    {
     "name": "stdout",
     "output_type": "stream",
     "text": [
      "Коэффициент корреляции 0.5257228356581521\n"
     ]
    },
    {
     "data": {
      "image/png": "[encoded data removed]",
      "text/plain": [
       "<Figure size 432x288 with 1 Axes>"
      ]
     },
     "metadata": {
      "needs_background": "light"
     },
     "output_type": "display_data"
    }
   ],
   "source": [
    "#проверка вывода на двух других платформах\n",
    "data_x360_pivot = data_actual.query('platform == \"X360\" and critic_score != 0')\\\n",
    "    .pivot_table(index='name', values=['all_sales', 'critic_score', 'user_score'], aggfunc='sum')\n",
    "data_x360_pivot.plot(x='critic_score', y='all_sales', kind='scatter')\n",
    "\n",
    "print('Коэффициент корреляции', data_x360_pivot['critic_score'].corr(data_x360_pivot['all_sales']))"
   ]
  },
  {
   "cell_type": "code",
   "execution_count": 30,
   "metadata": {},
   "outputs": [
    {
     "name": "stdout",
     "output_type": "stream",
     "text": [
      "Коэффициент корреляции 0.3365136248359933\n"
     ]
    },
    {
     "data": {
      "image/png": "[encoded data removed]",
      "text/plain": [
       "<Figure size 432x288 with 1 Axes>"
      ]
     },
     "metadata": {
      "needs_background": "light"
     },
     "output_type": "display_data"
    }
   ],
   "source": [
    "data_x360_pivot_2 = data_actual.query('platform == \"X360\" and user_score != 0')\\\n",
    "    .pivot_table(index='name', values=['all_sales', 'critic_score', 'user_score'], aggfunc='sum')\n",
    "data_x360_pivot_2.plot(x='user_score', y='all_sales', kind='scatter')\n",
    "\n",
    "print('Коэффициент корреляции', data_x360_pivot['user_score'].corr(data_x360_pivot['all_sales']))"
   ]
  },
  {
   "cell_type": "code",
   "execution_count": 31,
   "metadata": {
    "scrolled": true
   },
   "outputs": [
    {
     "name": "stdout",
     "output_type": "stream",
     "text": [
      "Коэффициент корреляции 0.4026614106810412\n"
     ]
    },
    {
     "data": {
      "image/png": "[encoded data removed]",
      "text/plain": [
       "<Figure size 432x288 with 1 Axes>"
      ]
     },
     "metadata": {
      "needs_background": "light"
     },
     "output_type": "display_data"
    }
   ],
   "source": [
    "data_ps4_pivot = data_actual.query('platform == \"PS4\" and critic_score != 0')\\\n",
    "    .pivot_table(index='name', values=['all_sales', 'critic_score', 'user_score'], aggfunc='sum')\n",
    "data_ps4_pivot.plot(x='critic_score', y='all_sales', kind='scatter')\n",
    "\n",
    "print('Коэффициент корреляции', data_ps4_pivot['critic_score'].corr(data_ps4_pivot['all_sales']))"
   ]
  },
  {
   "cell_type": "code",
   "execution_count": 32,
   "metadata": {
    "scrolled": true
   },
   "outputs": [
    {
     "name": "stdout",
     "output_type": "stream",
     "text": [
      "Коэффициент корреляции -0.009372274681362508\n"
     ]
    },
    {
     "data": {
      "image/png": "[encoded data removed]",
      "text/plain": [
       "<Figure size 432x288 with 1 Axes>"
      ]
     },
     "metadata": {
      "needs_background": "light"
     },
     "output_type": "display_data"
    }
   ],
   "source": [
    "data_ps4_pivot_2 = data_actual.query('platform == \"PS4\" and user_score != 0')\\\n",
    "    .pivot_table(index='name', values=['all_sales', 'critic_score', 'user_score'], aggfunc='sum')\n",
    "data_ps4_pivot_2.plot(x='user_score', y='all_sales', kind='scatter')\n",
    "\n",
    "print('Коэффициент корреляции', data_ps4_pivot['user_score'].corr(data_ps4_pivot['all_sales']))"
   ]
  },
  {
   "cell_type": "markdown",
   "metadata": {},
   "source": [
    "Вывод подтвердился - у всех ТОП-3 платформ оценка пользователей не влияет на глобальные продажи. Есть корреляция между оценкой критиков и глобальными продажами, но она слаба, и имеющиеся данные не позволяют сделать однозначный вывод о том, какой фактор на какой влияет - возможно, высокие оценки критиков повышают вероятность коммерческого успеха игры, а возможно критики склонны ставить более высокие оценки бестселлерам."
   ]
  },
  {
   "cell_type": "markdown",
   "metadata": {},
   "source": [
    "###  Исследование жанров"
   ]
  },
  {
   "cell_type": "code",
   "execution_count": 33,
   "metadata": {},
   "outputs": [
    {
     "data": {
      "text/plain": [
       "genre\n",
       "Action          199.36\n",
       "Shooter         170.94\n",
       "Sports          109.48\n",
       "Role-Playing    101.44\n",
       "Misc             37.55\n",
       "Fighting         28.22\n",
       "Racing           27.52\n",
       "Platform         18.09\n",
       "Adventure        17.55\n",
       "Simulation       13.13\n",
       "Strategy          3.96\n",
       "Puzzle            2.21\n",
       "Name: all_sales, dtype: float64"
      ]
     },
     "metadata": {},
     "output_type": "display_data"
    },
    {
     "data": {
      "image/png": "[encoded data removed]",
      "text/plain": [
       "<Figure size 432x288 with 1 Axes>"
      ]
     },
     "metadata": {
      "needs_background": "light"
     },
     "output_type": "display_data"
    }
   ],
   "source": [
    "sales_by_genre = data_actual.groupby('genre')['all_sales'].sum().sort_values(ascending=False)\n",
    "display(sales_by_genre)\n",
    "sales_by_genre.plot(kind='bar');"
   ]
  },
  {
   "cell_type": "code",
   "execution_count": 34,
   "metadata": {},
   "outputs": [
    {
     "data": {
      "image/png": "[encoded data removed]",
      "text/plain": [
       "<Figure size 720x360 with 1 Axes>"
      ]
     },
     "metadata": {
      "needs_background": "light"
     },
     "output_type": "display_data"
    }
   ],
   "source": [
    "data_actual.pivot_table(index='name', columns='genre', values='all_sales', aggfunc='sum')\\\n",
    "    .boxplot(figsize=(10, 5))\\\n",
    "    .set(xlabel='Жанр', ylabel='Продажи, $ млн.', title='Разброс продаж игр по жанрам');"
   ]
  },
  {
   "cell_type": "markdown",
   "metadata": {},
   "source": [
    "Выбросы мешают оценить разброс продаж по жанрам. Увеличим масштаб"
   ]
  },
  {
   "cell_type": "code",
   "execution_count": 35,
   "metadata": {},
   "outputs": [
    {
     "data": {
      "image/png": "[encoded data removed]",
      "text/plain": [
       "<Figure size 720x360 with 1 Axes>"
      ]
     },
     "metadata": {
      "needs_background": "light"
     },
     "output_type": "display_data"
    }
   ],
   "source": [
    "data_actual.pivot_table(index='name', columns='genre', values='all_sales', aggfunc='sum')\\\n",
    "    .boxplot(figsize=(10, 5))\\\n",
    "    .set(xlabel='Жанр', ylabel='Продажи, $ млн.', title='Разброс продаж игр по жанрам')\n",
    "plt.ylim(0, 10);"
   ]
  },
  {
   "cell_type": "markdown",
   "metadata": {},
   "source": [
    "Самые продаваемые жанры игр - Action, Shooter, с некоторым отставанием Sports, Role-Playing. Аутсайдеры по объемам продаж - Puzzle, Strategy, Simulation.\\\n",
    "Но результат Action достигнут засчет небольшого числа игр с аномально высокими продажами. Если брать во внимание стабильность результатов, то безоговорочным лидером выглядят шутеры - в этом жанре самая высокая медиана и наибольшее относительное количество коммерчески успешных игр. Далее по этому показателю следуют с почти одинаковыми результатами идут жанры Platform, Racing, Sports."
   ]
  },
  {
   "cell_type": "markdown",
   "metadata": {},
   "source": [
    "## Портрет пользователя по регионам "
   ]
  },
  {
   "cell_type": "markdown",
   "metadata": {},
   "source": [
    "### Региональные предпочтения платформ "
   ]
  },
  {
   "cell_type": "markdown",
   "metadata": {},
   "source": [
    "#### Регион NA (Северная Америка) "
   ]
  },
  {
   "cell_type": "code",
   "execution_count": 36,
   "metadata": {},
   "outputs": [
    {
     "data": {
      "text/html": [
       "<div>\n",
       "<style scoped>\n",
       "    .dataframe tbody tr th:only-of-type {\n",
       "        vertical-align: middle;\n",
       "    }\n",
       "\n",
       "    .dataframe tbody tr th {\n",
       "        vertical-align: top;\n",
       "    }\n",
       "\n",
       "    .dataframe thead th {\n",
       "        text-align: right;\n",
       "    }\n",
       "</style>\n",
       "<table border=\"1\" class=\"dataframe\">\n",
       "  <thead>\n",
       "    <tr style=\"text-align: right;\">\n",
       "      <th></th>\n",
       "      <th>na_sales</th>\n",
       "      <th>share</th>\n",
       "    </tr>\n",
       "    <tr>\n",
       "      <th>platform</th>\n",
       "      <th></th>\n",
       "      <th></th>\n",
       "    </tr>\n",
       "  </thead>\n",
       "  <tbody>\n",
       "    <tr>\n",
       "      <th>PS4</th>\n",
       "      <td>98.61</td>\n",
       "      <td>0.347145</td>\n",
       "    </tr>\n",
       "    <tr>\n",
       "      <th>XOne</th>\n",
       "      <td>81.27</td>\n",
       "      <td>0.286102</td>\n",
       "    </tr>\n",
       "    <tr>\n",
       "      <th>X360</th>\n",
       "      <td>28.30</td>\n",
       "      <td>0.099627</td>\n",
       "    </tr>\n",
       "    <tr>\n",
       "      <th>3DS</th>\n",
       "      <td>22.64</td>\n",
       "      <td>0.079701</td>\n",
       "    </tr>\n",
       "    <tr>\n",
       "      <th>PS3</th>\n",
       "      <td>22.05</td>\n",
       "      <td>0.077624</td>\n",
       "    </tr>\n",
       "  </tbody>\n",
       "</table>\n",
       "</div>"
      ],
      "text/plain": [
       "          na_sales     share\n",
       "platform                    \n",
       "PS4          98.61  0.347145\n",
       "XOne         81.27  0.286102\n",
       "X360         28.30  0.099627\n",
       "3DS          22.64  0.079701\n",
       "PS3          22.05  0.077624"
      ]
     },
     "metadata": {},
     "output_type": "display_data"
    },
    {
     "data": {
      "text/plain": [
       "'Доля ТОП-5 платформ на рынке: 0.8901992536788003'"
      ]
     },
     "metadata": {},
     "output_type": "display_data"
    }
   ],
   "source": [
    "#ТОП-5 платформ по продажам\n",
    "na_sales_platform = data_actual.groupby('platform')\\\n",
    "    .agg({'na_sales': 'sum'}).sort_values(by='na_sales', ascending=False)\n",
    "\n",
    "na_sales_platform['share'] = na_sales_platform['na_sales'] / na_sales_platform['na_sales'].sum()\n",
    "display(na_sales_platform.head(5))\n",
    "display(f'Доля ТОП-5 платформ на рынке: {na_sales_platform.head(5)[\"share\"].sum()}')"
   ]
  },
  {
   "cell_type": "markdown",
   "metadata": {},
   "source": [
    "С большим отрывом лидируют PS4 и XBox One, имея на двоих более половины рынка. Высокие показатели XOne, судя по всему, обусловлены тем, что это детище американской Microsoft. Далее следуют с почти равными долями платформы X360, 3DS и PS3."
   ]
  },
  {
   "cell_type": "markdown",
   "metadata": {},
   "source": [
    "#### Регион EU (Европа)"
   ]
  },
  {
   "cell_type": "code",
   "execution_count": 37,
   "metadata": {
    "scrolled": true
   },
   "outputs": [
    {
     "data": {
      "text/html": [
       "<div>\n",
       "<style scoped>\n",
       "    .dataframe tbody tr th:only-of-type {\n",
       "        vertical-align: middle;\n",
       "    }\n",
       "\n",
       "    .dataframe tbody tr th {\n",
       "        vertical-align: top;\n",
       "    }\n",
       "\n",
       "    .dataframe thead th {\n",
       "        text-align: right;\n",
       "    }\n",
       "</style>\n",
       "<table border=\"1\" class=\"dataframe\">\n",
       "  <thead>\n",
       "    <tr style=\"text-align: right;\">\n",
       "      <th></th>\n",
       "      <th>eu_sales</th>\n",
       "      <th>share</th>\n",
       "    </tr>\n",
       "    <tr>\n",
       "      <th>platform</th>\n",
       "      <th></th>\n",
       "      <th></th>\n",
       "    </tr>\n",
       "  </thead>\n",
       "  <tbody>\n",
       "    <tr>\n",
       "      <th>PS4</th>\n",
       "      <td>130.04</td>\n",
       "      <td>0.480420</td>\n",
       "    </tr>\n",
       "    <tr>\n",
       "      <th>XOne</th>\n",
       "      <td>46.25</td>\n",
       "      <td>0.170866</td>\n",
       "    </tr>\n",
       "    <tr>\n",
       "      <th>PS3</th>\n",
       "      <td>25.54</td>\n",
       "      <td>0.094355</td>\n",
       "    </tr>\n",
       "    <tr>\n",
       "      <th>PC</th>\n",
       "      <td>17.97</td>\n",
       "      <td>0.066388</td>\n",
       "    </tr>\n",
       "    <tr>\n",
       "      <th>3DS</th>\n",
       "      <td>16.12</td>\n",
       "      <td>0.059554</td>\n",
       "    </tr>\n",
       "  </tbody>\n",
       "</table>\n",
       "</div>"
      ],
      "text/plain": [
       "          eu_sales     share\n",
       "platform                    \n",
       "PS4         130.04  0.480420\n",
       "XOne         46.25  0.170866\n",
       "PS3          25.54  0.094355\n",
       "PC           17.97  0.066388\n",
       "3DS          16.12  0.059554"
      ]
     },
     "metadata": {},
     "output_type": "display_data"
    },
    {
     "data": {
      "text/plain": [
       "'Доля ТОП-5 платформ на рынке: 0.8715826806561254'"
      ]
     },
     "metadata": {},
     "output_type": "display_data"
    }
   ],
   "source": [
    "#ТОП-5 платформ по продажам\n",
    "eu_sales_platform = data_actual.groupby('platform')\\\n",
    "    .agg({'eu_sales': 'sum'}).sort_values(by='eu_sales', ascending=False)\n",
    "\n",
    "eu_sales_platform['share'] = eu_sales_platform['eu_sales'] / eu_sales_platform['eu_sales'].sum()\n",
    "display(eu_sales_platform.head(5))\n",
    "display(f'Доля ТОП-5 платформ на рынке: {eu_sales_platform.head(5)[\"share\"].sum()}')"
   ]
  },
  {
   "cell_type": "markdown",
   "metadata": {},
   "source": [
    "Лидеры те же, что в Северной Америке -  PS4, XOne. Далее идут PS3 и другие платформы."
   ]
  },
  {
   "cell_type": "markdown",
   "metadata": {},
   "source": [
    "#### Регион JP (Япония)"
   ]
  },
  {
   "cell_type": "code",
   "execution_count": 38,
   "metadata": {},
   "outputs": [
    {
     "data": {
      "text/html": [
       "<div>\n",
       "<style scoped>\n",
       "    .dataframe tbody tr th:only-of-type {\n",
       "        vertical-align: middle;\n",
       "    }\n",
       "\n",
       "    .dataframe tbody tr th {\n",
       "        vertical-align: top;\n",
       "    }\n",
       "\n",
       "    .dataframe thead th {\n",
       "        text-align: right;\n",
       "    }\n",
       "</style>\n",
       "<table border=\"1\" class=\"dataframe\">\n",
       "  <thead>\n",
       "    <tr style=\"text-align: right;\">\n",
       "      <th></th>\n",
       "      <th>jp_sales</th>\n",
       "      <th>share</th>\n",
       "    </tr>\n",
       "    <tr>\n",
       "      <th>platform</th>\n",
       "      <th></th>\n",
       "      <th></th>\n",
       "    </tr>\n",
       "  </thead>\n",
       "  <tbody>\n",
       "    <tr>\n",
       "      <th>3DS</th>\n",
       "      <td>44.24</td>\n",
       "      <td>0.475239</td>\n",
       "    </tr>\n",
       "    <tr>\n",
       "      <th>PS4</th>\n",
       "      <td>15.02</td>\n",
       "      <td>0.161349</td>\n",
       "    </tr>\n",
       "    <tr>\n",
       "      <th>PSV</th>\n",
       "      <td>14.54</td>\n",
       "      <td>0.156193</td>\n",
       "    </tr>\n",
       "    <tr>\n",
       "      <th>PS3</th>\n",
       "      <td>11.22</td>\n",
       "      <td>0.120529</td>\n",
       "    </tr>\n",
       "    <tr>\n",
       "      <th>WiiU</th>\n",
       "      <td>7.31</td>\n",
       "      <td>0.078526</td>\n",
       "    </tr>\n",
       "  </tbody>\n",
       "</table>\n",
       "</div>"
      ],
      "text/plain": [
       "          jp_sales     share\n",
       "platform                    \n",
       "3DS          44.24  0.475239\n",
       "PS4          15.02  0.161349\n",
       "PSV          14.54  0.156193\n",
       "PS3          11.22  0.120529\n",
       "WiiU          7.31  0.078526"
      ]
     },
     "metadata": {},
     "output_type": "display_data"
    },
    {
     "data": {
      "text/plain": [
       "'Доля ТОП-5 платформ на рынке: 0.9918358577720486'"
      ]
     },
     "metadata": {},
     "output_type": "display_data"
    }
   ],
   "source": [
    "#ТОП-5 платформ по продажам\n",
    "jp_sales_platform = data_actual.groupby('platform')\\\n",
    "    .agg({'jp_sales': 'sum'}).sort_values(by='jp_sales', ascending=False)\n",
    "\n",
    "jp_sales_platform['share'] = jp_sales_platform['jp_sales'] / jp_sales_platform['jp_sales'].sum()\n",
    "display(jp_sales_platform.head(5))\n",
    "display(f'Доля ТОП-5 платформ на рынке: {jp_sales_platform.head(5)[\"share\"].sum()}')"
   ]
  },
  {
   "cell_type": "markdown",
   "metadata": {},
   "source": [
    "Картина разительно отличается от Европы и Америки. С большим отрывом лидирует Nintendo 3DS, далее следуют разные вариации PS. Потребители в Японии не лишены потребительского патриотизма - предпочитают отечественные платформы."
   ]
  },
  {
   "cell_type": "code",
   "execution_count": 39,
   "metadata": {},
   "outputs": [
    {
     "data": {
      "image/png": "[encoded data removed]",
      "text/plain": [
       "<Figure size 720x432 with 1 Axes>"
      ]
     },
     "metadata": {
      "needs_background": "light"
     },
     "output_type": "display_data"
    }
   ],
   "source": [
    "platform_by_region = data_actual.pivot_table(\n",
    "    index='platform', values=['na_sales', 'eu_sales', 'jp_sales'], aggfunc='sum')\n",
    "platform_by_region.plot(kind='bar', title='Региональные предпочтения платформ', figsize=(10, 6));"
   ]
  },
  {
   "cell_type": "markdown",
   "metadata": {},
   "source": [
    "### Региональные предпочтения по жанрам"
   ]
  },
  {
   "cell_type": "markdown",
   "metadata": {},
   "source": [
    "#### Регион NA (Сев. Америка) "
   ]
  },
  {
   "cell_type": "code",
   "execution_count": 40,
   "metadata": {},
   "outputs": [
    {
     "data": {
      "text/html": [
       "<div>\n",
       "<style scoped>\n",
       "    .dataframe tbody tr th:only-of-type {\n",
       "        vertical-align: middle;\n",
       "    }\n",
       "\n",
       "    .dataframe tbody tr th {\n",
       "        vertical-align: top;\n",
       "    }\n",
       "\n",
       "    .dataframe thead th {\n",
       "        text-align: right;\n",
       "    }\n",
       "</style>\n",
       "<table border=\"1\" class=\"dataframe\">\n",
       "  <thead>\n",
       "    <tr style=\"text-align: right;\">\n",
       "      <th></th>\n",
       "      <th>na_sales</th>\n",
       "      <th>share</th>\n",
       "    </tr>\n",
       "    <tr>\n",
       "      <th>genre</th>\n",
       "      <th></th>\n",
       "      <th></th>\n",
       "    </tr>\n",
       "  </thead>\n",
       "  <tbody>\n",
       "    <tr>\n",
       "      <th>Shooter</th>\n",
       "      <td>79.02</td>\n",
       "      <td>0.278181</td>\n",
       "    </tr>\n",
       "    <tr>\n",
       "      <th>Action</th>\n",
       "      <td>72.53</td>\n",
       "      <td>0.255333</td>\n",
       "    </tr>\n",
       "    <tr>\n",
       "      <th>Sports</th>\n",
       "      <td>46.13</td>\n",
       "      <td>0.162395</td>\n",
       "    </tr>\n",
       "    <tr>\n",
       "      <th>Role-Playing</th>\n",
       "      <td>33.47</td>\n",
       "      <td>0.117827</td>\n",
       "    </tr>\n",
       "    <tr>\n",
       "      <th>Misc</th>\n",
       "      <td>15.05</td>\n",
       "      <td>0.052982</td>\n",
       "    </tr>\n",
       "  </tbody>\n",
       "</table>\n",
       "</div>"
      ],
      "text/plain": [
       "              na_sales     share\n",
       "genre                           \n",
       "Shooter          79.02  0.278181\n",
       "Action           72.53  0.255333\n",
       "Sports           46.13  0.162395\n",
       "Role-Playing     33.47  0.117827\n",
       "Misc             15.05  0.052982"
      ]
     },
     "metadata": {},
     "output_type": "display_data"
    },
    {
     "data": {
      "text/plain": [
       "'Доля ТОП-5 жанров на рынке: 0.8667182989509258'"
      ]
     },
     "metadata": {},
     "output_type": "display_data"
    }
   ],
   "source": [
    "#ТОП-5 жанров по продажам\n",
    "na_sales_genre = data_actual.groupby('genre')\\\n",
    "    .agg({'na_sales': 'sum'}).sort_values(by='na_sales', ascending=False)\n",
    "\n",
    "na_sales_genre['share'] = na_sales_genre['na_sales'] / na_sales_genre['na_sales'].sum()\n",
    "display(na_sales_genre.head(5))\n",
    "display(f'Доля ТОП-5 жанров на рынке: {na_sales_genre.head(5)[\"share\"].sum()}')"
   ]
  },
  {
   "cell_type": "markdown",
   "metadata": {},
   "source": [
    "Предпочтения рынка отчетливо видны: шутеры и экшны на двоих занимают больше половины рынка Северной Америки. Далее по поулярности за ними следуют жанры Sports, Role-Playing, Misc.\n",
    "Всего ТОП-5 жанров занимают 87% этого рынка."
   ]
  },
  {
   "cell_type": "markdown",
   "metadata": {},
   "source": [
    "#### Регион EU (Европа) "
   ]
  },
  {
   "cell_type": "code",
   "execution_count": 41,
   "metadata": {},
   "outputs": [
    {
     "data": {
      "text/html": [
       "<div>\n",
       "<style scoped>\n",
       "    .dataframe tbody tr th:only-of-type {\n",
       "        vertical-align: middle;\n",
       "    }\n",
       "\n",
       "    .dataframe tbody tr th {\n",
       "        vertical-align: top;\n",
       "    }\n",
       "\n",
       "    .dataframe thead th {\n",
       "        text-align: right;\n",
       "    }\n",
       "</style>\n",
       "<table border=\"1\" class=\"dataframe\">\n",
       "  <thead>\n",
       "    <tr style=\"text-align: right;\">\n",
       "      <th></th>\n",
       "      <th>eu_sales</th>\n",
       "      <th>share</th>\n",
       "    </tr>\n",
       "    <tr>\n",
       "      <th>genre</th>\n",
       "      <th></th>\n",
       "      <th></th>\n",
       "    </tr>\n",
       "  </thead>\n",
       "  <tbody>\n",
       "    <tr>\n",
       "      <th>Action</th>\n",
       "      <td>74.68</td>\n",
       "      <td>0.275898</td>\n",
       "    </tr>\n",
       "    <tr>\n",
       "      <th>Shooter</th>\n",
       "      <td>65.52</td>\n",
       "      <td>0.242057</td>\n",
       "    </tr>\n",
       "    <tr>\n",
       "      <th>Sports</th>\n",
       "      <td>45.73</td>\n",
       "      <td>0.168945</td>\n",
       "    </tr>\n",
       "    <tr>\n",
       "      <th>Role-Playing</th>\n",
       "      <td>28.17</td>\n",
       "      <td>0.104071</td>\n",
       "    </tr>\n",
       "    <tr>\n",
       "      <th>Racing</th>\n",
       "      <td>14.13</td>\n",
       "      <td>0.052202</td>\n",
       "    </tr>\n",
       "  </tbody>\n",
       "</table>\n",
       "</div>"
      ],
      "text/plain": [
       "              eu_sales     share\n",
       "genre                           \n",
       "Action           74.68  0.275898\n",
       "Shooter          65.52  0.242057\n",
       "Sports           45.73  0.168945\n",
       "Role-Playing     28.17  0.104071\n",
       "Racing           14.13  0.052202"
      ]
     },
     "metadata": {},
     "output_type": "display_data"
    },
    {
     "data": {
      "text/plain": [
       "'Доля ТОП-5 жанров на рынке: 0.843172750110832'"
      ]
     },
     "metadata": {},
     "output_type": "display_data"
    }
   ],
   "source": [
    "#ТОП-5 жанров по продажам\n",
    "eu_sales_genre = data_actual.groupby('genre')\\\n",
    "    .agg({'eu_sales': 'sum'}).sort_values(by='eu_sales', ascending=False)\n",
    "\n",
    "eu_sales_genre['share'] = eu_sales_genre['eu_sales'] / eu_sales_genre['eu_sales'].sum()\n",
    "display(eu_sales_genre.head(5))\n",
    "display(f'Доля ТОП-5 жанров на рынке: {eu_sales_genre.head(5)[\"share\"].sum()}')"
   ]
  },
  {
   "cell_type": "markdown",
   "metadata": {},
   "source": [
    "Предпочтения европейских потребителей максимально близки к таковым в Сев. Америке."
   ]
  },
  {
   "cell_type": "markdown",
   "metadata": {},
   "source": [
    "#### Регион JP (Япония)"
   ]
  },
  {
   "cell_type": "code",
   "execution_count": 42,
   "metadata": {},
   "outputs": [
    {
     "data": {
      "text/html": [
       "<div>\n",
       "<style scoped>\n",
       "    .dataframe tbody tr th:only-of-type {\n",
       "        vertical-align: middle;\n",
       "    }\n",
       "\n",
       "    .dataframe tbody tr th {\n",
       "        vertical-align: top;\n",
       "    }\n",
       "\n",
       "    .dataframe thead th {\n",
       "        text-align: right;\n",
       "    }\n",
       "</style>\n",
       "<table border=\"1\" class=\"dataframe\">\n",
       "  <thead>\n",
       "    <tr style=\"text-align: right;\">\n",
       "      <th></th>\n",
       "      <th>jp_sales</th>\n",
       "      <th>share</th>\n",
       "    </tr>\n",
       "    <tr>\n",
       "      <th>genre</th>\n",
       "      <th></th>\n",
       "      <th></th>\n",
       "    </tr>\n",
       "  </thead>\n",
       "  <tbody>\n",
       "    <tr>\n",
       "      <th>Role-Playing</th>\n",
       "      <td>31.16</td>\n",
       "      <td>0.334730</td>\n",
       "    </tr>\n",
       "    <tr>\n",
       "      <th>Action</th>\n",
       "      <td>29.58</td>\n",
       "      <td>0.317757</td>\n",
       "    </tr>\n",
       "    <tr>\n",
       "      <th>Fighting</th>\n",
       "      <td>6.37</td>\n",
       "      <td>0.068428</td>\n",
       "    </tr>\n",
       "    <tr>\n",
       "      <th>Misc</th>\n",
       "      <td>5.61</td>\n",
       "      <td>0.060264</td>\n",
       "    </tr>\n",
       "    <tr>\n",
       "      <th>Shooter</th>\n",
       "      <td>4.87</td>\n",
       "      <td>0.052315</td>\n",
       "    </tr>\n",
       "  </tbody>\n",
       "</table>\n",
       "</div>"
      ],
      "text/plain": [
       "              jp_sales     share\n",
       "genre                           \n",
       "Role-Playing     31.16  0.334730\n",
       "Action           29.58  0.317757\n",
       "Fighting          6.37  0.068428\n",
       "Misc              5.61  0.060264\n",
       "Shooter           4.87  0.052315"
      ]
     },
     "metadata": {},
     "output_type": "display_data"
    },
    {
     "data": {
      "text/plain": [
       "'Доля ТОП-5 жанров на рынке: 0.8334944677194114'"
      ]
     },
     "metadata": {},
     "output_type": "display_data"
    }
   ],
   "source": [
    "#ТОП-5 жанров по продажам\n",
    "jp_sales_genre = data_actual.groupby('genre')\\\n",
    "    .agg({'jp_sales': 'sum'}).sort_values(by='jp_sales', ascending=False)\n",
    "\n",
    "jp_sales_genre['share'] = jp_sales_genre['jp_sales'] / jp_sales_genre['jp_sales'].sum()\n",
    "display(jp_sales_genre.head(5))\n",
    "display(f'Доля ТОП-5 жанров на рынке: {jp_sales_genre.head(5)[\"share\"].sum()}')"
   ]
  },
  {
   "cell_type": "markdown",
   "metadata": {},
   "source": [
    "Япония сильно отличается от западных рынков - в отличие от них, здесь наибольшей популярностью пользуютя ролевые игры. Для большей наглядности выведем данные на один график:"
   ]
  },
  {
   "cell_type": "code",
   "execution_count": 43,
   "metadata": {},
   "outputs": [
    {
     "data": {
      "image/png": "[encoded data removed]",
      "text/plain": [
       "<Figure size 720x432 with 1 Axes>"
      ]
     },
     "metadata": {
      "needs_background": "light"
     },
     "output_type": "display_data"
    }
   ],
   "source": [
    "genre_by_region = data_actual.pivot_table(\n",
    "    index='genre', values=['na_sales', 'eu_sales', 'jp_sales'], aggfunc='sum')\n",
    "genre_by_region.plot(kind='bar', title='Региональные предпочтения по жанрам', figsize=(10, 6));"
   ]
  },
  {
   "cell_type": "markdown",
   "metadata": {},
   "source": [
    "Экшны и ролевые игры любят везде, особенно в Японии. Западные рынки, помимо этого, предпочитают шутеры и спортивные игры."
   ]
  },
  {
   "cell_type": "markdown",
   "metadata": {},
   "source": [
    "### Региональные предпочтения по рейтингу ESRB "
   ]
  },
  {
   "cell_type": "markdown",
   "metadata": {},
   "source": [
    "#### Регион NA (Сев. Америка)"
   ]
  },
  {
   "cell_type": "code",
   "execution_count": 44,
   "metadata": {},
   "outputs": [
    {
     "data": {
      "text/html": [
       "<div>\n",
       "<style scoped>\n",
       "    .dataframe tbody tr th:only-of-type {\n",
       "        vertical-align: middle;\n",
       "    }\n",
       "\n",
       "    .dataframe tbody tr th {\n",
       "        vertical-align: top;\n",
       "    }\n",
       "\n",
       "    .dataframe thead th {\n",
       "        text-align: right;\n",
       "    }\n",
       "</style>\n",
       "<table border=\"1\" class=\"dataframe\">\n",
       "  <thead>\n",
       "    <tr style=\"text-align: right;\">\n",
       "      <th></th>\n",
       "      <th>na_sales</th>\n",
       "    </tr>\n",
       "    <tr>\n",
       "      <th>rating</th>\n",
       "      <th></th>\n",
       "    </tr>\n",
       "  </thead>\n",
       "  <tbody>\n",
       "    <tr>\n",
       "      <th>M</th>\n",
       "      <td>96.42</td>\n",
       "    </tr>\n",
       "    <tr>\n",
       "      <th>unknown</th>\n",
       "      <td>64.72</td>\n",
       "    </tr>\n",
       "    <tr>\n",
       "      <th>E</th>\n",
       "      <td>50.74</td>\n",
       "    </tr>\n",
       "    <tr>\n",
       "      <th>T</th>\n",
       "      <td>38.95</td>\n",
       "    </tr>\n",
       "    <tr>\n",
       "      <th>E10+</th>\n",
       "      <td>33.23</td>\n",
       "    </tr>\n",
       "  </tbody>\n",
       "</table>\n",
       "</div>"
      ],
      "text/plain": [
       "         na_sales\n",
       "rating           \n",
       "M           96.42\n",
       "unknown     64.72\n",
       "E           50.74\n",
       "T           38.95\n",
       "E10+        33.23"
      ]
     },
     "metadata": {},
     "output_type": "display_data"
    }
   ],
   "source": [
    "na_sales_rating = data_actual.groupby('rating')\\\n",
    "    .agg({'na_sales': 'sum'}).sort_values(by='na_sales', ascending=False)\n",
    "display(na_sales_rating)"
   ]
  },
  {
   "cell_type": "markdown",
   "metadata": {},
   "source": [
    "Наибольшие продажи на этом рынке имеют игры категорий М (от 17 лет) и Е (от 6 лет). Примерно равные доли у категорий Т (от 13 лет) и Е10+ (от 10 лет). Стоит учитывать, что в группу unknown с неопределенным рейтингом попала значительная часть игр, которая могла бы изменить расстановку в данной таблице."
   ]
  },
  {
   "cell_type": "markdown",
   "metadata": {},
   "source": [
    "#### Регион EU (Европа) "
   ]
  },
  {
   "cell_type": "code",
   "execution_count": 45,
   "metadata": {},
   "outputs": [
    {
     "data": {
      "text/html": [
       "<div>\n",
       "<style scoped>\n",
       "    .dataframe tbody tr th:only-of-type {\n",
       "        vertical-align: middle;\n",
       "    }\n",
       "\n",
       "    .dataframe tbody tr th {\n",
       "        vertical-align: top;\n",
       "    }\n",
       "\n",
       "    .dataframe thead th {\n",
       "        text-align: right;\n",
       "    }\n",
       "</style>\n",
       "<table border=\"1\" class=\"dataframe\">\n",
       "  <thead>\n",
       "    <tr style=\"text-align: right;\">\n",
       "      <th></th>\n",
       "      <th>eu_sales</th>\n",
       "    </tr>\n",
       "    <tr>\n",
       "      <th>rating</th>\n",
       "      <th></th>\n",
       "    </tr>\n",
       "  </thead>\n",
       "  <tbody>\n",
       "    <tr>\n",
       "      <th>M</th>\n",
       "      <td>93.44</td>\n",
       "    </tr>\n",
       "    <tr>\n",
       "      <th>unknown</th>\n",
       "      <td>58.95</td>\n",
       "    </tr>\n",
       "    <tr>\n",
       "      <th>E</th>\n",
       "      <td>58.06</td>\n",
       "    </tr>\n",
       "    <tr>\n",
       "      <th>T</th>\n",
       "      <td>34.07</td>\n",
       "    </tr>\n",
       "    <tr>\n",
       "      <th>E10+</th>\n",
       "      <td>26.16</td>\n",
       "    </tr>\n",
       "  </tbody>\n",
       "</table>\n",
       "</div>"
      ],
      "text/plain": [
       "         eu_sales\n",
       "rating           \n",
       "M           93.44\n",
       "unknown     58.95\n",
       "E           58.06\n",
       "T           34.07\n",
       "E10+        26.16"
      ]
     },
     "metadata": {},
     "output_type": "display_data"
    }
   ],
   "source": [
    "eu_sales_rating = data_actual.groupby('rating')\\\n",
    "    .agg({'eu_sales': 'sum'}).sort_values(by='eu_sales', ascending=False)\n",
    "display(eu_sales_rating)"
   ]
  },
  {
   "cell_type": "markdown",
   "metadata": {},
   "source": [
    "Распределение продаж по рейтингу ESRB практически не отличается от такового на рынке Америки."
   ]
  },
  {
   "cell_type": "markdown",
   "metadata": {},
   "source": [
    "#### Регион JP (Япония) "
   ]
  },
  {
   "cell_type": "code",
   "execution_count": 46,
   "metadata": {},
   "outputs": [
    {
     "data": {
      "text/html": [
       "<div>\n",
       "<style scoped>\n",
       "    .dataframe tbody tr th:only-of-type {\n",
       "        vertical-align: middle;\n",
       "    }\n",
       "\n",
       "    .dataframe tbody tr th {\n",
       "        vertical-align: top;\n",
       "    }\n",
       "\n",
       "    .dataframe thead th {\n",
       "        text-align: right;\n",
       "    }\n",
       "</style>\n",
       "<table border=\"1\" class=\"dataframe\">\n",
       "  <thead>\n",
       "    <tr style=\"text-align: right;\">\n",
       "      <th></th>\n",
       "      <th>jp_sales</th>\n",
       "    </tr>\n",
       "    <tr>\n",
       "      <th>rating</th>\n",
       "      <th></th>\n",
       "    </tr>\n",
       "  </thead>\n",
       "  <tbody>\n",
       "    <tr>\n",
       "      <th>unknown</th>\n",
       "      <td>56.90</td>\n",
       "    </tr>\n",
       "    <tr>\n",
       "      <th>T</th>\n",
       "      <td>14.78</td>\n",
       "    </tr>\n",
       "    <tr>\n",
       "      <th>E</th>\n",
       "      <td>8.94</td>\n",
       "    </tr>\n",
       "    <tr>\n",
       "      <th>M</th>\n",
       "      <td>8.01</td>\n",
       "    </tr>\n",
       "    <tr>\n",
       "      <th>E10+</th>\n",
       "      <td>4.46</td>\n",
       "    </tr>\n",
       "  </tbody>\n",
       "</table>\n",
       "</div>"
      ],
      "text/plain": [
       "         jp_sales\n",
       "rating           \n",
       "unknown     56.90\n",
       "T           14.78\n",
       "E            8.94\n",
       "M            8.01\n",
       "E10+         4.46"
      ]
     },
     "metadata": {},
     "output_type": "display_data"
    }
   ],
   "source": [
    "jp_sales_rating = data_actual.groupby('rating')\\\n",
    "    .agg({'jp_sales': 'sum'}).sort_values(by='jp_sales', ascending=False)\n",
    "display(jp_sales_rating)"
   ]
  },
  {
   "cell_type": "markdown",
   "metadata": {},
   "source": [
    "Наиболее продаваемые в Японии игры имеют пропуск в рейтинге ESRB. Возможно, это локальные азиатские игры, которые в принципе не имеют этого рейтинга за ненадобностью. Среди игр с заполненной категорией самые продаваемые имеют рейтинг Е (от 6 лет), Т (от 13), М (от 17)."
   ]
  },
  {
   "cell_type": "code",
   "execution_count": 47,
   "metadata": {},
   "outputs": [
    {
     "data": {
      "image/png": "[encoded data removed]",
      "text/plain": [
       "<Figure size 720x432 with 1 Axes>"
      ]
     },
     "metadata": {
      "needs_background": "light"
     },
     "output_type": "display_data"
    }
   ],
   "source": [
    "rating_by_region = data_actual.pivot_table(\n",
    "    index='rating', values=['na_sales', 'eu_sales', 'jp_sales'], aggfunc='sum')\n",
    "rating_by_region.plot(kind='bar', title='Региональные предпочтения по возрастному рейтингу', figsize=(10, 6));"
   ]
  },
  {
   "cell_type": "markdown",
   "metadata": {},
   "source": [
    "На графике близость рынков Европы и Америки особенно наглядна. Также видно, что наиболее популярные в Японии игры не имеют рейтинга ESRB, и скорее всего, не представлены на западных рынках."
   ]
  },
  {
   "cell_type": "markdown",
   "metadata": {},
   "source": [
    "## Проверка гипотез "
   ]
  },
  {
   "cell_type": "markdown",
   "metadata": {},
   "source": [
    "Гипотеза 1: Средние пользовательские рейтинги платформ Xbox One и PC одинаковые. Она же нулевая гипотеза. Таким образом альтернативная гипотеза будет звучать так:\\\n",
    "Средние пользовательские рейтинги платформ Xbox One и PC неодинаковые."
   ]
  },
  {
   "cell_type": "code",
   "execution_count": 48,
   "metadata": {},
   "outputs": [
    {
     "name": "stdout",
     "output_type": "stream",
     "text": [
      "count    165.000000\n",
      "mean       6.594545\n",
      "std        1.375139\n",
      "min        1.600000\n",
      "25%        5.800000\n",
      "50%        6.800000\n",
      "75%        7.600000\n",
      "max        9.200000\n",
      "Name: user_score, dtype: float64\n",
      "count    122.000000\n",
      "mean       6.298361\n",
      "std        1.703278\n",
      "min        1.400000\n",
      "25%        5.325000\n",
      "50%        6.800000\n",
      "75%        7.600000\n",
      "max        9.300000\n",
      "Name: user_score, dtype: float64\n"
     ]
    }
   ],
   "source": [
    "#Предположим, что наш датасет - это генеральная совокупность и сравним среднюю оценку\n",
    "#обеих платформ и их стандартное отклонение\n",
    "\n",
    "print(data_actual.query('platform == \"XOne\" and user_score != 0')['user_score'].describe())\n",
    "print(data_actual.query('platform == \"PC\" and user_score != 0')['user_score'].describe())"
   ]
  },
  {
   "cell_type": "markdown",
   "metadata": {},
   "source": [
    "Средние оценки пользователей двух платформ близки, но не настолько, чтобы считать их одинаковыми - \\\n",
    "4.8 у XOne\\\n",
    "5.1 у PC\\\n",
    "Значения стандартный отклонений и медиан у двух платформ также близки, но не одинаковы.\n",
    "Теперь предположим, что data - это выборка из генеральной совокупности и проведем статистический тест для проверки гипотезы."
   ]
  },
  {
   "cell_type": "code",
   "execution_count": 49,
   "metadata": {},
   "outputs": [
    {
     "name": "stdout",
     "output_type": "stream",
     "text": [
      "p-значение: 0.10450507919348415\n",
      "Не получилось отвергнуть нулевую гипотезу\n"
     ]
    }
   ],
   "source": [
    "results_platform = st.ttest_ind(\n",
    "    data_actual.query('platform == \"XOne\" and user_score != 0')['user_score'],\n",
    "    data_actual.query('platform == \"PC\"and user_score != 0')['user_score']\n",
    ")\n",
    "\n",
    "alpha = .05\n",
    "\n",
    "print('p-значение:', results_platform.pvalue)\n",
    "\n",
    "if results_platform.pvalue < alpha:\n",
    "    print(\"Отвергаем нулевую гипотезу\")\n",
    "else:\n",
    "    print(\"Не получилось отвергнуть нулевую гипотезу\")"
   ]
  },
  {
   "cell_type": "markdown",
   "metadata": {},
   "source": [
    "Для имеющихся выборок существует 10%-ая вероятность того, что нулевая гипотеза верна, т.е. средние оценки пользователей Xbox One и PC одинаковы. Это статистически значимый результат, а значит нулевую гипотезу нельзя отвергнуть."
   ]
  },
  {
   "cell_type": "markdown",
   "metadata": {},
   "source": [
    "Гипотеза 2 (нулевая гипотеза): Средние пользовательские рейтинги жанров Action и Sports одинаковые. Альтернативная гипотеза:\\\n",
    "Средние пользовательские рейтинги жанров Action и Sports не одинаковые."
   ]
  },
  {
   "cell_type": "code",
   "execution_count": 50,
   "metadata": {},
   "outputs": [
    {
     "name": "stdout",
     "output_type": "stream",
     "text": [
      "count    297.000000\n",
      "mean       6.760606\n",
      "std        1.377852\n",
      "min        2.000000\n",
      "25%        6.100000\n",
      "50%        7.100000\n",
      "75%        7.700000\n",
      "max        9.000000\n",
      "Name: user_score, dtype: float64\n",
      "count    127.000000\n",
      "mean       5.225197\n",
      "std        1.856604\n",
      "min        0.200000\n",
      "25%        4.000000\n",
      "50%        5.500000\n",
      "75%        6.650000\n",
      "max        8.800000\n",
      "Name: user_score, dtype: float64\n"
     ]
    }
   ],
   "source": [
    "#для начала просто сравним среднюю оценку по жанрам и их стандартное отклонение\n",
    "\n",
    "print(data_actual.query('genre == \"Action\" and user_score != 0')['user_score'].describe())\n",
    "print(data_actual.query('genre == \"Sports\" and user_score != 0')['user_score'].describe())"
   ]
  },
  {
   "cell_type": "markdown",
   "metadata": {},
   "source": [
    "Опять по таким данным сложно сделать однозначный вывод.\\\n",
    "Средняя оценка в жанре Action выше, чем у Sports - 6.76 против 5.22, но у Action выше и стандартное отклонение, поэтому здесь не обойтись без статистического теста.\\\n",
    "Выборки значительно различаются по объему: 297 / 127 результатов. Для теста укажем equal_var=False"
   ]
  },
  {
   "cell_type": "code",
   "execution_count": 51,
   "metadata": {},
   "outputs": [
    {
     "name": "stdout",
     "output_type": "stream",
     "text": [
      "p-значение: 1.1825550382644557e-14\n",
      "Отвергаем нулевую гипотезу\n"
     ]
    }
   ],
   "source": [
    "results_genre = st.ttest_ind(data_actual.query('genre == \"Action\" and user_score != 0')['user_score'],\n",
    "    data_actual.query('genre == \"Sports\" and user_score != 0')['user_score'],\n",
    "    equal_var=False)\n",
    "\n",
    "alpha = .05\n",
    "\n",
    "print('p-значение:', results_genre.pvalue)\n",
    "\n",
    "if results_genre.pvalue < alpha:\n",
    "    print(\"Отвергаем нулевую гипотезу\")\n",
    "else:\n",
    "    print(\"Не получилось отвергнуть нулевую гипотезу\")"
   ]
  },
  {
   "cell_type": "markdown",
   "metadata": {},
   "source": [
    "Средние пользовательские рейтинги жанров Action и Sports с крайне высокой вероятностью различаются. Крайне низкий показатель pvalue дает весомый повод отвергнуть гипотезу \"Средние пользовательские рейтинги жанров Action и Sports одинаковые\" "
   ]
  },
  {
   "cell_type": "markdown",
   "metadata": {},
   "source": [
    "## Общий вывод "
   ]
  },
  {
   "cell_type": "markdown",
   "metadata": {},
   "source": [
    "Из полученного датасета можно сделать несколько выводов:\n",
    "1) Бум игровой индустрии начался в 90-е годы, когда кол-во выпускаемых игр бурно росло с каждым годом, достигнув пика в 2010 году.\\\n",
    "2) Наиболее популярные платформы по общим продажам PS2, X360, PS3, Wii, DS, PS.\\\n",
    "3) Средний жизненный цикл платформы составляет 5 лет.\\\n",
    "4) Наиболее перспективные платформы по состоянию на 2016 год - **PS4** и **Xbox One**\\\n",
    "5) Продажи игр слабо коррелируют с оценкой критиков, но по имеющимся данным нельзя сделать вывод - оценка влиает на продажи или наоборот. При этом оценки пользователей на объем продаж почти не влияют.\\\n",
    "6) Самые продаваемые жанры игр - Action, Shooter. Аутсайдеры по объемам продаж - Puzzle, Strategy, Adventure.\n",
    "\n",
    "Предпочтения потребителей в Северной Америке и Европе очень близки, но от них обоих сильно отличается рынок Японии.\\\n",
    "\n",
    "1) Потребители Америки и Японии склонны к патриотизму в выборе платформ - в Сев. Америке лидирует PS4, на втором месте Xbox One, в Японии безоговорочный лидер 3DS, далее следуют разные вариации платформ от Sony. В Европе предпочтения платформ максимально близки к американским.\\\n",
    "2) Жанровые предпочтения рынков Америки и Европы также одинаковые - на обоих рынках лидируют экшн, шутеры и спортивные игры. В Японии лидируют ролевые игры и только на 2-м месте экшн-игры.\\\n",
    "3) По рейтингу ESRB предпочтения игроков Сев. Америки и Европы также одинаковы - на этих рынках лидируют игры категорий М (от 17 лет) и Е (от 6 лет). Японский рынок, не обремененный требованием иметь рейтинг ESRB, не поддается анализу с этой точки зрения.\\\n",
    "\n",
    "Статистически были проверены 2 гипотезы:\\\n",
    "1. Средние пользовательские рейтинги платформ Xbox One и PC одинаковые.\\\n",
    "2. Средние пользовательские рейтинги жанров Action и Sports одинаковые.\\\n",
    "\n",
    "Вероятность равенства двух выборок в первой гипотезе выше порога статистической значимости, поэтому она не может быть отвергнута.\\\n",
    "Крайне низкое значение pvalue в для гипотезы №2 говорит, позволяет отвергнуть гипотезу и констатировать с очень высокой вероятностью, что средние пользовательские рейтинги жанров Action и Sports различаются между собой."
   ]
  },
  {
   "cell_type": "code",
   "execution_count": null,
   "metadata": {},
   "outputs": [],
   "source": []
  }
 ],
 "metadata": {
  "ExecuteTimeLog": [
   {
    "duration": 389,
    "start_time": "2022-07-11T12:39:28.041Z"
   },
   {
    "duration": 117,
    "start_time": "2022-07-11T12:39:41.374Z"
   },
   {
    "duration": 14,
    "start_time": "2022-07-11T12:39:50.755Z"
   },
   {
    "duration": 32,
    "start_time": "2022-07-11T12:40:28.371Z"
   },
   {
    "duration": 887,
    "start_time": "2022-07-11T13:10:35.545Z"
   },
   {
    "duration": 86,
    "start_time": "2022-07-11T13:44:30.492Z"
   },
   {
    "duration": 890,
    "start_time": "2022-07-11T13:45:05.202Z"
   },
   {
    "duration": 885,
    "start_time": "2022-07-11T13:45:30.159Z"
   },
   {
    "duration": 603,
    "start_time": "2022-07-11T13:45:42.942Z"
   },
   {
    "duration": 598,
    "start_time": "2022-07-11T13:45:56.947Z"
   },
   {
    "duration": 724,
    "start_time": "2022-07-11T13:46:42.437Z"
   },
   {
    "duration": 17,
    "start_time": "2022-07-11T13:47:28.226Z"
   },
   {
    "duration": 15,
    "start_time": "2022-07-11T13:48:06.385Z"
   },
   {
    "duration": 15,
    "start_time": "2022-07-11T13:55:01.327Z"
   },
   {
    "duration": 7,
    "start_time": "2022-07-11T13:58:16.330Z"
   },
   {
    "duration": 21,
    "start_time": "2022-07-11T13:58:23.438Z"
   },
   {
    "duration": 24,
    "start_time": "2022-07-11T13:59:19.742Z"
   },
   {
    "duration": 21,
    "start_time": "2022-07-11T14:01:22.331Z"
   },
   {
    "duration": 14,
    "start_time": "2022-07-11T14:01:58.277Z"
   },
   {
    "duration": 33,
    "start_time": "2022-07-11T14:05:22.261Z"
   },
   {
    "duration": 26,
    "start_time": "2022-07-11T14:05:34.497Z"
   },
   {
    "duration": 19,
    "start_time": "2022-07-11T14:05:41.716Z"
   },
   {
    "duration": 26,
    "start_time": "2022-07-11T14:05:48.195Z"
   },
   {
    "duration": 3,
    "start_time": "2022-07-11T14:05:54.352Z"
   },
   {
    "duration": 72,
    "start_time": "2022-07-11T14:05:54.357Z"
   },
   {
    "duration": 13,
    "start_time": "2022-07-11T14:05:54.431Z"
   },
   {
    "duration": 704,
    "start_time": "2022-07-11T14:05:54.446Z"
   },
   {
    "duration": 15,
    "start_time": "2022-07-11T14:05:55.152Z"
   },
   {
    "duration": 5,
    "start_time": "2022-07-11T14:05:55.168Z"
   },
   {
    "duration": 35,
    "start_time": "2022-07-11T14:05:55.174Z"
   },
   {
    "duration": 14,
    "start_time": "2022-07-11T14:05:55.211Z"
   },
   {
    "duration": 16,
    "start_time": "2022-07-11T14:05:57.972Z"
   },
   {
    "duration": 26,
    "start_time": "2022-07-11T14:06:06.400Z"
   },
   {
    "duration": 6,
    "start_time": "2022-07-11T14:06:30.451Z"
   },
   {
    "duration": 21,
    "start_time": "2022-07-11T14:06:53.258Z"
   },
   {
    "duration": 10,
    "start_time": "2022-07-11T14:07:15.825Z"
   },
   {
    "duration": 3,
    "start_time": "2022-07-11T14:07:27.852Z"
   },
   {
    "duration": 56,
    "start_time": "2022-07-11T14:07:27.856Z"
   },
   {
    "duration": 14,
    "start_time": "2022-07-11T14:07:27.914Z"
   },
   {
    "duration": 775,
    "start_time": "2022-07-11T14:07:27.931Z"
   },
   {
    "duration": 16,
    "start_time": "2022-07-11T14:07:28.711Z"
   },
   {
    "duration": 5,
    "start_time": "2022-07-11T14:07:28.729Z"
   },
   {
    "duration": 31,
    "start_time": "2022-07-11T14:07:28.735Z"
   },
   {
    "duration": 15,
    "start_time": "2022-07-11T14:07:31.689Z"
   },
   {
    "duration": 2,
    "start_time": "2022-07-11T14:29:28.315Z"
   },
   {
    "duration": 70,
    "start_time": "2022-07-11T14:30:41.289Z"
   },
   {
    "duration": 51,
    "start_time": "2022-07-11T14:33:40.715Z"
   },
   {
    "duration": 54,
    "start_time": "2022-07-11T14:34:52.476Z"
   },
   {
    "duration": 141,
    "start_time": "2022-07-11T14:34:57.046Z"
   },
   {
    "duration": 71,
    "start_time": "2022-07-11T14:38:31.801Z"
   },
   {
    "duration": 67,
    "start_time": "2022-07-11T14:41:55.544Z"
   },
   {
    "duration": 13,
    "start_time": "2022-07-11T14:42:04.244Z"
   },
   {
    "duration": 66,
    "start_time": "2022-07-11T14:50:03.513Z"
   },
   {
    "duration": 9,
    "start_time": "2022-07-11T14:50:11.081Z"
   },
   {
    "duration": 113,
    "start_time": "2022-07-11T15:02:09.023Z"
   },
   {
    "duration": 11,
    "start_time": "2022-07-11T15:02:18.368Z"
   },
   {
    "duration": 11,
    "start_time": "2022-07-11T15:04:30.771Z"
   },
   {
    "duration": 1321,
    "start_time": "2022-07-11T15:04:43.791Z"
   },
   {
    "duration": 52,
    "start_time": "2022-07-11T15:10:14.631Z"
   },
   {
    "duration": 1492,
    "start_time": "2022-07-11T15:10:26.223Z"
   },
   {
    "duration": 2880,
    "start_time": "2022-07-11T15:10:40.748Z"
   },
   {
    "duration": 9,
    "start_time": "2022-07-11T15:11:12.307Z"
   },
   {
    "duration": 46,
    "start_time": "2022-07-11T15:11:22.544Z"
   },
   {
    "duration": 48,
    "start_time": "2022-07-11T15:23:22.577Z"
   },
   {
    "duration": 20,
    "start_time": "2022-07-11T15:24:10.770Z"
   },
   {
    "duration": 9,
    "start_time": "2022-07-11T15:25:32.196Z"
   },
   {
    "duration": 9,
    "start_time": "2022-07-11T15:25:56.063Z"
   },
   {
    "duration": 15,
    "start_time": "2022-07-11T15:33:34.552Z"
   },
   {
    "duration": 18,
    "start_time": "2022-07-11T15:34:01.823Z"
   },
   {
    "duration": 59,
    "start_time": "2022-07-11T15:35:05.680Z"
   },
   {
    "duration": 10,
    "start_time": "2022-07-11T15:35:18.584Z"
   },
   {
    "duration": 43,
    "start_time": "2022-07-11T15:36:37.567Z"
   },
   {
    "duration": 10,
    "start_time": "2022-07-11T15:36:45.729Z"
   },
   {
    "duration": 44,
    "start_time": "2022-07-11T15:36:56.265Z"
   },
   {
    "duration": 58,
    "start_time": "2022-07-11T15:45:35.423Z"
   },
   {
    "duration": 244,
    "start_time": "2022-07-11T15:45:45.807Z"
   },
   {
    "duration": 49,
    "start_time": "2022-07-11T15:46:49.071Z"
   },
   {
    "duration": 9,
    "start_time": "2022-07-11T15:47:26.505Z"
   },
   {
    "duration": 10,
    "start_time": "2022-07-11T15:47:37.571Z"
   },
   {
    "duration": 10,
    "start_time": "2022-07-11T15:50:26.256Z"
   },
   {
    "duration": 8,
    "start_time": "2022-07-11T15:54:11.163Z"
   },
   {
    "duration": 11,
    "start_time": "2022-07-11T15:57:17.111Z"
   },
   {
    "duration": 10,
    "start_time": "2022-07-11T15:59:25.997Z"
   },
   {
    "duration": 108,
    "start_time": "2022-07-11T16:07:51.559Z"
   },
   {
    "duration": 4,
    "start_time": "2022-07-11T16:15:26.921Z"
   },
   {
    "duration": 60,
    "start_time": "2022-07-11T16:15:39.370Z"
   },
   {
    "duration": 1211,
    "start_time": "2022-07-11T16:23:41.450Z"
   },
   {
    "duration": 1416,
    "start_time": "2022-07-11T16:24:25.763Z"
   },
   {
    "duration": 1220,
    "start_time": "2022-07-11T16:25:41.138Z"
   },
   {
    "duration": 1401,
    "start_time": "2022-07-11T16:28:14.375Z"
   },
   {
    "duration": 1267,
    "start_time": "2022-07-11T16:30:30.890Z"
   },
   {
    "duration": 409,
    "start_time": "2022-07-12T09:07:57.387Z"
   },
   {
    "duration": 79,
    "start_time": "2022-07-12T09:07:57.799Z"
   },
   {
    "duration": 23,
    "start_time": "2022-07-12T09:07:57.880Z"
   },
   {
    "duration": 1137,
    "start_time": "2022-07-12T09:07:57.905Z"
   },
   {
    "duration": 17,
    "start_time": "2022-07-12T09:07:59.045Z"
   },
   {
    "duration": 6,
    "start_time": "2022-07-12T09:07:59.064Z"
   },
   {
    "duration": 21,
    "start_time": "2022-07-12T09:07:59.072Z"
   },
   {
    "duration": 41,
    "start_time": "2022-07-12T09:07:59.095Z"
   },
   {
    "duration": 71,
    "start_time": "2022-07-12T09:07:59.138Z"
   },
   {
    "duration": 23,
    "start_time": "2022-07-12T09:07:59.223Z"
   },
   {
    "duration": 17,
    "start_time": "2022-07-12T09:08:24.025Z"
   },
   {
    "duration": 24509,
    "start_time": "2022-07-12T09:08:24.044Z"
   },
   {
    "duration": 23,
    "start_time": "2022-07-12T09:18:13.693Z"
   },
   {
    "duration": 6,
    "start_time": "2022-07-12T09:18:48.923Z"
   },
   {
    "duration": 76,
    "start_time": "2022-07-12T09:28:07.154Z"
   },
   {
    "duration": 24107,
    "start_time": "2022-07-12T09:28:17.660Z"
   },
   {
    "duration": 10,
    "start_time": "2022-07-12T09:29:09.709Z"
   },
   {
    "duration": 84,
    "start_time": "2022-07-12T09:30:33.092Z"
   },
   {
    "duration": 23963,
    "start_time": "2022-07-12T09:31:37.464Z"
   },
   {
    "duration": 13,
    "start_time": "2022-07-12T09:37:58.548Z"
   },
   {
    "duration": 12,
    "start_time": "2022-07-12T09:38:03.395Z"
   },
   {
    "duration": 32,
    "start_time": "2022-07-12T10:37:30.610Z"
   },
   {
    "duration": 18,
    "start_time": "2022-07-12T10:37:47.650Z"
   },
   {
    "duration": 698,
    "start_time": "2022-07-12T10:37:57.162Z"
   },
   {
    "duration": 424,
    "start_time": "2022-07-12T10:38:14.839Z"
   },
   {
    "duration": 53,
    "start_time": "2022-07-12T10:38:15.265Z"
   },
   {
    "duration": 23,
    "start_time": "2022-07-12T10:38:15.320Z"
   },
   {
    "duration": 1016,
    "start_time": "2022-07-12T10:38:15.344Z"
   },
   {
    "duration": 18,
    "start_time": "2022-07-12T10:38:16.362Z"
   },
   {
    "duration": 5,
    "start_time": "2022-07-12T10:38:16.381Z"
   },
   {
    "duration": 36,
    "start_time": "2022-07-12T10:38:16.387Z"
   },
   {
    "duration": 15,
    "start_time": "2022-07-12T10:38:16.425Z"
   },
   {
    "duration": 8,
    "start_time": "2022-07-12T10:38:16.441Z"
   },
   {
    "duration": 29,
    "start_time": "2022-07-12T10:38:16.450Z"
   },
   {
    "duration": 2,
    "start_time": "2022-07-12T10:38:16.481Z"
   },
   {
    "duration": 44966,
    "start_time": "2022-07-12T10:38:16.485Z"
   },
   {
    "duration": 17,
    "start_time": "2022-07-12T10:39:01.453Z"
   },
   {
    "duration": 66,
    "start_time": "2022-07-12T10:39:01.473Z"
   },
   {
    "duration": 19,
    "start_time": "2022-07-12T10:41:57.236Z"
   },
   {
    "duration": 44726,
    "start_time": "2022-07-12T11:02:20.396Z"
   },
   {
    "duration": 3,
    "start_time": "2022-07-12T12:42:51.005Z"
   },
   {
    "duration": 451,
    "start_time": "2022-07-12T12:43:12.798Z"
   },
   {
    "duration": 59,
    "start_time": "2022-07-12T12:43:13.251Z"
   },
   {
    "duration": 21,
    "start_time": "2022-07-12T12:43:13.311Z"
   },
   {
    "duration": 1007,
    "start_time": "2022-07-12T12:43:13.333Z"
   },
   {
    "duration": 17,
    "start_time": "2022-07-12T12:43:14.343Z"
   },
   {
    "duration": 5,
    "start_time": "2022-07-12T12:43:14.362Z"
   },
   {
    "duration": 68,
    "start_time": "2022-07-12T12:43:14.369Z"
   },
   {
    "duration": 22,
    "start_time": "2022-07-12T12:43:14.439Z"
   },
   {
    "duration": 16,
    "start_time": "2022-07-12T12:43:14.464Z"
   },
   {
    "duration": 40,
    "start_time": "2022-07-12T12:43:14.482Z"
   },
   {
    "duration": 43275,
    "start_time": "2022-07-12T12:43:14.525Z"
   },
   {
    "duration": 3,
    "start_time": "2022-07-12T12:43:57.802Z"
   },
   {
    "duration": 28,
    "start_time": "2022-07-12T12:43:57.807Z"
   },
   {
    "duration": 5,
    "start_time": "2022-07-12T12:43:57.838Z"
   },
   {
    "duration": 97,
    "start_time": "2022-07-12T12:44:07.990Z"
   },
   {
    "duration": 36693,
    "start_time": "2022-07-12T12:44:23.496Z"
   },
   {
    "duration": 5,
    "start_time": "2022-07-12T12:46:24.665Z"
   },
   {
    "duration": 60003,
    "start_time": "2022-07-12T12:53:24.298Z"
   },
   {
    "duration": 19,
    "start_time": "2022-07-12T12:54:24.303Z"
   },
   {
    "duration": 17,
    "start_time": "2022-07-12T12:57:20.658Z"
   },
   {
    "duration": 5,
    "start_time": "2022-07-12T12:57:27.195Z"
   },
   {
    "duration": 20,
    "start_time": "2022-07-12T12:58:11.549Z"
   },
   {
    "duration": 23,
    "start_time": "2022-07-12T12:58:26.530Z"
   },
   {
    "duration": 59385,
    "start_time": "2022-07-12T12:58:42.199Z"
   },
   {
    "duration": 37660,
    "start_time": "2022-07-12T13:06:03.242Z"
   },
   {
    "duration": 60479,
    "start_time": "2022-07-12T13:21:08.975Z"
   },
   {
    "duration": 77,
    "start_time": "2022-07-12T15:12:59.963Z"
   },
   {
    "duration": 65270,
    "start_time": "2022-07-12T15:13:15.342Z"
   },
   {
    "duration": 71839,
    "start_time": "2022-07-12T15:15:32.396Z"
   },
   {
    "duration": 45246,
    "start_time": "2022-07-12T15:21:28.393Z"
   },
   {
    "duration": 24,
    "start_time": "2022-07-12T15:22:13.643Z"
   },
   {
    "duration": 22,
    "start_time": "2022-07-12T15:24:36.225Z"
   },
   {
    "duration": 6,
    "start_time": "2022-07-12T15:28:32.811Z"
   },
   {
    "duration": 9,
    "start_time": "2022-07-12T15:28:46.940Z"
   },
   {
    "duration": 11,
    "start_time": "2022-07-12T15:29:14.846Z"
   },
   {
    "duration": 404,
    "start_time": "2022-07-12T15:29:23.054Z"
   },
   {
    "duration": 56,
    "start_time": "2022-07-12T15:29:23.460Z"
   },
   {
    "duration": 29,
    "start_time": "2022-07-12T15:29:23.518Z"
   },
   {
    "duration": 1058,
    "start_time": "2022-07-12T15:29:23.548Z"
   },
   {
    "duration": 37,
    "start_time": "2022-07-12T15:29:24.609Z"
   },
   {
    "duration": 19,
    "start_time": "2022-07-12T15:29:24.648Z"
   },
   {
    "duration": 32,
    "start_time": "2022-07-12T15:29:24.670Z"
   },
   {
    "duration": 35,
    "start_time": "2022-07-12T15:29:24.704Z"
   },
   {
    "duration": 50,
    "start_time": "2022-07-12T15:29:24.741Z"
   },
   {
    "duration": 45223,
    "start_time": "2022-07-12T15:29:24.793Z"
   },
   {
    "duration": 32,
    "start_time": "2022-07-12T15:30:10.018Z"
   },
   {
    "duration": 11,
    "start_time": "2022-07-12T15:30:10.052Z"
   },
   {
    "duration": 9,
    "start_time": "2022-07-12T15:50:38.645Z"
   },
   {
    "duration": 14,
    "start_time": "2022-07-12T15:50:50.218Z"
   },
   {
    "duration": 81,
    "start_time": "2022-07-12T16:06:06.839Z"
   },
   {
    "duration": 7,
    "start_time": "2022-07-12T16:06:32.843Z"
   },
   {
    "duration": 7,
    "start_time": "2022-07-12T16:07:22.844Z"
   },
   {
    "duration": 7,
    "start_time": "2022-07-12T16:07:31.994Z"
   },
   {
    "duration": 40,
    "start_time": "2022-07-12T16:08:44.607Z"
   },
   {
    "duration": 9,
    "start_time": "2022-07-12T16:14:06.739Z"
   },
   {
    "duration": 5,
    "start_time": "2022-07-12T16:14:17.812Z"
   },
   {
    "duration": 1416,
    "start_time": "2022-07-12T16:18:39.787Z"
   },
   {
    "duration": 1341,
    "start_time": "2022-07-12T16:36:41.775Z"
   },
   {
    "duration": 1521,
    "start_time": "2022-07-12T16:37:43.904Z"
   },
   {
    "duration": 1495,
    "start_time": "2022-07-12T16:37:52.754Z"
   },
   {
    "duration": 12,
    "start_time": "2022-07-12T16:38:34.872Z"
   },
   {
    "duration": 3,
    "start_time": "2022-07-12T16:53:48.728Z"
   },
   {
    "duration": 65,
    "start_time": "2022-07-12T16:53:48.735Z"
   },
   {
    "duration": 15,
    "start_time": "2022-07-12T16:53:48.802Z"
   },
   {
    "duration": 739,
    "start_time": "2022-07-12T16:53:48.822Z"
   },
   {
    "duration": 21,
    "start_time": "2022-07-12T16:53:49.563Z"
   },
   {
    "duration": 6,
    "start_time": "2022-07-12T16:53:49.587Z"
   },
   {
    "duration": 44,
    "start_time": "2022-07-12T16:53:49.595Z"
   },
   {
    "duration": 9,
    "start_time": "2022-07-12T16:53:49.642Z"
   },
   {
    "duration": 18,
    "start_time": "2022-07-12T16:53:49.653Z"
   },
   {
    "duration": 45644,
    "start_time": "2022-07-12T16:53:49.672Z"
   },
   {
    "duration": 10,
    "start_time": "2022-07-12T16:54:35.319Z"
   },
   {
    "duration": 20,
    "start_time": "2022-07-12T16:54:41.403Z"
   },
   {
    "duration": 13,
    "start_time": "2022-07-12T16:55:13.889Z"
   },
   {
    "duration": 10,
    "start_time": "2022-07-12T16:55:18.589Z"
   },
   {
    "duration": 17,
    "start_time": "2022-07-12T16:55:22.536Z"
   },
   {
    "duration": 77,
    "start_time": "2022-07-12T16:56:56.409Z"
   },
   {
    "duration": 12,
    "start_time": "2022-07-12T16:57:08.694Z"
   },
   {
    "duration": 16,
    "start_time": "2022-07-12T16:57:13.657Z"
   },
   {
    "duration": 36,
    "start_time": "2022-07-12T16:57:24.378Z"
   },
   {
    "duration": 20,
    "start_time": "2022-07-12T16:57:34.853Z"
   },
   {
    "duration": 15,
    "start_time": "2022-07-12T16:57:51.674Z"
   },
   {
    "duration": 14,
    "start_time": "2022-07-12T16:58:49.290Z"
   },
   {
    "duration": 14,
    "start_time": "2022-07-12T16:59:25.547Z"
   },
   {
    "duration": 440,
    "start_time": "2022-07-12T16:59:36.658Z"
   },
   {
    "duration": 74,
    "start_time": "2022-07-12T16:59:37.100Z"
   },
   {
    "duration": 21,
    "start_time": "2022-07-12T16:59:37.176Z"
   },
   {
    "duration": 1071,
    "start_time": "2022-07-12T16:59:37.200Z"
   },
   {
    "duration": 17,
    "start_time": "2022-07-12T16:59:38.273Z"
   },
   {
    "duration": 6,
    "start_time": "2022-07-12T16:59:38.292Z"
   },
   {
    "duration": 53,
    "start_time": "2022-07-12T16:59:38.300Z"
   },
   {
    "duration": 9,
    "start_time": "2022-07-12T16:59:38.355Z"
   },
   {
    "duration": 26,
    "start_time": "2022-07-12T16:59:38.366Z"
   },
   {
    "duration": 47443,
    "start_time": "2022-07-12T16:59:38.395Z"
   },
   {
    "duration": 9,
    "start_time": "2022-07-12T17:00:25.839Z"
   },
   {
    "duration": 40,
    "start_time": "2022-07-12T17:00:25.849Z"
   },
   {
    "duration": 91,
    "start_time": "2022-07-12T17:00:56.729Z"
   },
   {
    "duration": 12,
    "start_time": "2022-07-12T17:01:10.966Z"
   },
   {
    "duration": 395,
    "start_time": "2022-07-12T17:01:26.751Z"
   },
   {
    "duration": 60,
    "start_time": "2022-07-12T17:01:27.148Z"
   },
   {
    "duration": 26,
    "start_time": "2022-07-12T17:01:27.210Z"
   },
   {
    "duration": 1109,
    "start_time": "2022-07-12T17:01:27.241Z"
   },
   {
    "duration": 20,
    "start_time": "2022-07-12T17:01:28.354Z"
   },
   {
    "duration": 5,
    "start_time": "2022-07-12T17:01:28.375Z"
   },
   {
    "duration": 21,
    "start_time": "2022-07-12T17:01:28.381Z"
   },
   {
    "duration": 8,
    "start_time": "2022-07-12T17:01:28.403Z"
   },
   {
    "duration": 45,
    "start_time": "2022-07-12T17:01:28.421Z"
   },
   {
    "duration": 48215,
    "start_time": "2022-07-12T17:01:28.468Z"
   },
   {
    "duration": 8,
    "start_time": "2022-07-12T17:02:16.685Z"
   },
   {
    "duration": 44,
    "start_time": "2022-07-12T17:02:16.694Z"
   },
   {
    "duration": 86,
    "start_time": "2022-07-12T17:12:24.254Z"
   },
   {
    "duration": 444,
    "start_time": "2022-07-12T17:12:48.027Z"
   },
   {
    "duration": 55,
    "start_time": "2022-07-12T17:12:48.473Z"
   },
   {
    "duration": 35,
    "start_time": "2022-07-12T17:12:48.531Z"
   },
   {
    "duration": 1076,
    "start_time": "2022-07-12T17:12:48.567Z"
   },
   {
    "duration": 21,
    "start_time": "2022-07-12T17:12:49.645Z"
   },
   {
    "duration": 66,
    "start_time": "2022-07-12T17:12:49.668Z"
   },
   {
    "duration": 33,
    "start_time": "2022-07-12T17:12:49.737Z"
   },
   {
    "duration": 7,
    "start_time": "2022-07-12T17:12:49.771Z"
   },
   {
    "duration": 17,
    "start_time": "2022-07-12T17:12:49.780Z"
   },
   {
    "duration": 47584,
    "start_time": "2022-07-12T17:12:49.798Z"
   },
   {
    "duration": 7,
    "start_time": "2022-07-12T17:13:37.384Z"
   },
   {
    "duration": 31,
    "start_time": "2022-07-12T17:13:37.393Z"
   },
   {
    "duration": 14,
    "start_time": "2022-07-12T17:13:46.693Z"
   },
   {
    "duration": 6,
    "start_time": "2022-07-12T17:14:28.958Z"
   },
   {
    "duration": 105,
    "start_time": "2022-07-12T17:15:27.822Z"
   },
   {
    "duration": 15,
    "start_time": "2022-07-12T17:16:01.771Z"
   },
   {
    "duration": 6,
    "start_time": "2022-07-12T17:16:11.480Z"
   },
   {
    "duration": 31,
    "start_time": "2022-07-12T17:16:13.720Z"
   },
   {
    "duration": 407,
    "start_time": "2022-07-12T17:16:27.415Z"
   },
   {
    "duration": 71,
    "start_time": "2022-07-12T17:16:27.828Z"
   },
   {
    "duration": 36,
    "start_time": "2022-07-12T17:16:27.901Z"
   },
   {
    "duration": 1062,
    "start_time": "2022-07-12T17:16:27.944Z"
   },
   {
    "duration": 42,
    "start_time": "2022-07-12T17:16:29.010Z"
   },
   {
    "duration": 18,
    "start_time": "2022-07-12T17:16:29.056Z"
   },
   {
    "duration": 22,
    "start_time": "2022-07-12T17:16:29.075Z"
   },
   {
    "duration": 7,
    "start_time": "2022-07-12T17:16:29.099Z"
   },
   {
    "duration": 25,
    "start_time": "2022-07-12T17:16:29.107Z"
   },
   {
    "duration": 49477,
    "start_time": "2022-07-12T17:16:29.133Z"
   },
   {
    "duration": 24,
    "start_time": "2022-07-12T17:17:18.612Z"
   },
   {
    "duration": 30,
    "start_time": "2022-07-12T17:17:18.640Z"
   },
   {
    "duration": 20,
    "start_time": "2022-07-12T17:17:18.672Z"
   },
   {
    "duration": 7,
    "start_time": "2022-07-12T17:17:18.695Z"
   },
   {
    "duration": 5,
    "start_time": "2022-07-12T17:25:51.895Z"
   },
   {
    "duration": 20,
    "start_time": "2022-07-12T17:25:54.793Z"
   },
   {
    "duration": 176,
    "start_time": "2022-07-12T17:36:00.684Z"
   },
   {
    "duration": 199,
    "start_time": "2022-07-12T17:36:31.958Z"
   },
   {
    "duration": 214,
    "start_time": "2022-07-12T17:36:50.570Z"
   },
   {
    "duration": 222,
    "start_time": "2022-07-12T17:36:58.481Z"
   },
   {
    "duration": 198,
    "start_time": "2022-07-12T17:37:09.247Z"
   },
   {
    "duration": 212,
    "start_time": "2022-07-12T17:37:16.579Z"
   },
   {
    "duration": 220,
    "start_time": "2022-07-12T17:39:59.948Z"
   },
   {
    "duration": 281,
    "start_time": "2022-07-12T17:40:10.583Z"
   },
   {
    "duration": 6,
    "start_time": "2022-07-12T17:41:36.074Z"
   },
   {
    "duration": 9,
    "start_time": "2022-07-12T17:42:45.366Z"
   },
   {
    "duration": 110,
    "start_time": "2022-07-12T17:44:27.655Z"
   },
   {
    "duration": 12,
    "start_time": "2022-07-12T17:44:53.974Z"
   },
   {
    "duration": 279,
    "start_time": "2022-07-12T17:47:21.494Z"
   },
   {
    "duration": 152,
    "start_time": "2022-07-12T17:48:46.714Z"
   },
   {
    "duration": 214,
    "start_time": "2022-07-12T17:49:42.850Z"
   },
   {
    "duration": 11,
    "start_time": "2022-07-12T17:51:14.349Z"
   },
   {
    "duration": 55,
    "start_time": "2022-07-12T17:51:18.582Z"
   },
   {
    "duration": 185,
    "start_time": "2022-07-12T17:51:27.355Z"
   },
   {
    "duration": 480,
    "start_time": "2022-07-12T17:52:06.650Z"
   },
   {
    "duration": 1067,
    "start_time": "2022-07-12T17:52:14.275Z"
   },
   {
    "duration": 299,
    "start_time": "2022-07-12T17:52:33.041Z"
   },
   {
    "duration": 200,
    "start_time": "2022-07-12T17:54:11.997Z"
   },
   {
    "duration": 168,
    "start_time": "2022-07-12T17:54:28.651Z"
   },
   {
    "duration": 452,
    "start_time": "2022-07-12T17:55:19.016Z"
   },
   {
    "duration": 58,
    "start_time": "2022-07-12T17:55:19.470Z"
   },
   {
    "duration": 36,
    "start_time": "2022-07-12T17:55:19.530Z"
   },
   {
    "duration": 1183,
    "start_time": "2022-07-12T17:55:19.569Z"
   },
   {
    "duration": 23,
    "start_time": "2022-07-12T17:55:20.754Z"
   },
   {
    "duration": 6,
    "start_time": "2022-07-12T17:55:20.779Z"
   },
   {
    "duration": 27,
    "start_time": "2022-07-12T17:55:20.787Z"
   },
   {
    "duration": 21,
    "start_time": "2022-07-12T17:55:20.817Z"
   },
   {
    "duration": 54,
    "start_time": "2022-07-12T17:55:20.840Z"
   },
   {
    "duration": 49216,
    "start_time": "2022-07-12T17:55:20.897Z"
   },
   {
    "duration": 10,
    "start_time": "2022-07-12T17:56:10.115Z"
   },
   {
    "duration": 52,
    "start_time": "2022-07-12T17:56:10.131Z"
   },
   {
    "duration": 14,
    "start_time": "2022-07-12T17:56:10.186Z"
   },
   {
    "duration": 8,
    "start_time": "2022-07-12T17:56:10.202Z"
   },
   {
    "duration": 64,
    "start_time": "2022-07-12T17:56:10.212Z"
   },
   {
    "duration": 222,
    "start_time": "2022-07-12T17:56:10.278Z"
   },
   {
    "duration": 29,
    "start_time": "2022-07-12T17:56:10.503Z"
   },
   {
    "duration": 177,
    "start_time": "2022-07-12T17:56:10.542Z"
   },
   {
    "duration": 159,
    "start_time": "2022-07-12T17:56:36.303Z"
   },
   {
    "duration": 86,
    "start_time": "2022-07-12T17:58:41.774Z"
   },
   {
    "duration": 30851,
    "start_time": "2022-07-12T17:58:47.302Z"
   },
   {
    "duration": 13,
    "start_time": "2022-07-12T18:01:27.302Z"
   },
   {
    "duration": 100,
    "start_time": "2022-07-12T18:01:41.101Z"
   },
   {
    "duration": 85,
    "start_time": "2022-07-12T18:01:46.600Z"
   },
   {
    "duration": 46,
    "start_time": "2022-07-12T18:01:57.575Z"
   },
   {
    "duration": 223,
    "start_time": "2022-07-12T18:02:05.257Z"
   },
   {
    "duration": 241,
    "start_time": "2022-07-12T18:02:40.704Z"
   },
   {
    "duration": 225,
    "start_time": "2022-07-12T18:03:17.649Z"
   },
   {
    "duration": 149,
    "start_time": "2022-07-12T18:03:29.706Z"
   },
   {
    "duration": 187,
    "start_time": "2022-07-12T18:03:37.356Z"
   },
   {
    "duration": 219,
    "start_time": "2022-07-12T18:05:02.278Z"
   },
   {
    "duration": 89,
    "start_time": "2022-07-12T18:06:26.955Z"
   },
   {
    "duration": 447,
    "start_time": "2022-07-12T18:06:36.517Z"
   },
   {
    "duration": 239,
    "start_time": "2022-07-12T18:06:48.573Z"
   },
   {
    "duration": 173,
    "start_time": "2022-07-12T18:06:56.541Z"
   },
   {
    "duration": 87,
    "start_time": "2022-07-12T18:07:32.987Z"
   },
   {
    "duration": 175,
    "start_time": "2022-07-12T18:07:40.787Z"
   },
   {
    "duration": 180,
    "start_time": "2022-07-12T18:07:53.691Z"
   },
   {
    "duration": 258,
    "start_time": "2022-07-12T18:08:34.628Z"
   },
   {
    "duration": 212,
    "start_time": "2022-07-12T18:09:10.060Z"
   },
   {
    "duration": 272,
    "start_time": "2022-07-12T18:09:28.096Z"
   },
   {
    "duration": 283,
    "start_time": "2022-07-12T18:10:08.968Z"
   },
   {
    "duration": 337,
    "start_time": "2022-07-12T18:10:51.719Z"
   },
   {
    "duration": 323,
    "start_time": "2022-07-12T18:11:36.249Z"
   },
   {
    "duration": 273,
    "start_time": "2022-07-12T18:12:20.692Z"
   },
   {
    "duration": 286,
    "start_time": "2022-07-12T18:13:01.877Z"
   },
   {
    "duration": 254,
    "start_time": "2022-07-12T18:14:12.053Z"
   },
   {
    "duration": 312,
    "start_time": "2022-07-12T18:14:20.268Z"
   },
   {
    "duration": 12,
    "start_time": "2022-07-12T18:14:57.148Z"
   },
   {
    "duration": 372,
    "start_time": "2022-07-13T08:36:23.923Z"
   },
   {
    "duration": 77,
    "start_time": "2022-07-13T08:36:24.297Z"
   },
   {
    "duration": 19,
    "start_time": "2022-07-13T08:36:24.376Z"
   },
   {
    "duration": 1088,
    "start_time": "2022-07-13T08:36:24.397Z"
   },
   {
    "duration": 23,
    "start_time": "2022-07-13T08:36:25.487Z"
   },
   {
    "duration": 5,
    "start_time": "2022-07-13T08:36:25.512Z"
   },
   {
    "duration": 18,
    "start_time": "2022-07-13T08:36:25.519Z"
   },
   {
    "duration": 7,
    "start_time": "2022-07-13T08:36:25.539Z"
   },
   {
    "duration": 17,
    "start_time": "2022-07-13T08:36:25.548Z"
   },
   {
    "duration": 41584,
    "start_time": "2022-07-13T08:36:25.568Z"
   },
   {
    "duration": 5,
    "start_time": "2022-07-13T08:37:07.154Z"
   },
   {
    "duration": 18,
    "start_time": "2022-07-13T08:37:07.161Z"
   },
   {
    "duration": 9,
    "start_time": "2022-07-13T08:37:07.181Z"
   },
   {
    "duration": 11,
    "start_time": "2022-07-13T08:37:07.191Z"
   },
   {
    "duration": 13,
    "start_time": "2022-07-13T08:37:07.203Z"
   },
   {
    "duration": 191,
    "start_time": "2022-07-13T08:37:07.217Z"
   },
   {
    "duration": 8,
    "start_time": "2022-07-13T08:37:07.409Z"
   },
   {
    "duration": 251,
    "start_time": "2022-07-13T08:37:07.418Z"
   },
   {
    "duration": 5,
    "start_time": "2022-07-13T09:50:26.292Z"
   },
   {
    "duration": 8,
    "start_time": "2022-07-13T09:51:00.614Z"
   },
   {
    "duration": 11,
    "start_time": "2022-07-13T09:52:36.638Z"
   },
   {
    "duration": 375,
    "start_time": "2022-07-13T09:52:44.121Z"
   },
   {
    "duration": 50,
    "start_time": "2022-07-13T09:52:44.500Z"
   },
   {
    "duration": 24,
    "start_time": "2022-07-13T09:52:44.552Z"
   },
   {
    "duration": 954,
    "start_time": "2022-07-13T09:52:44.578Z"
   },
   {
    "duration": 20,
    "start_time": "2022-07-13T09:52:45.535Z"
   },
   {
    "duration": 6,
    "start_time": "2022-07-13T09:52:45.558Z"
   },
   {
    "duration": 38,
    "start_time": "2022-07-13T09:52:45.566Z"
   },
   {
    "duration": 10,
    "start_time": "2022-07-13T09:52:45.606Z"
   },
   {
    "duration": 28,
    "start_time": "2022-07-13T09:52:45.619Z"
   },
   {
    "duration": 39973,
    "start_time": "2022-07-13T09:52:45.649Z"
   },
   {
    "duration": 23,
    "start_time": "2022-07-13T09:53:25.632Z"
   },
   {
    "duration": 5,
    "start_time": "2022-07-13T09:53:25.656Z"
   },
   {
    "duration": 23,
    "start_time": "2022-07-13T09:53:25.663Z"
   },
   {
    "duration": 12,
    "start_time": "2022-07-13T09:53:25.689Z"
   },
   {
    "duration": 5,
    "start_time": "2022-07-13T09:53:25.703Z"
   },
   {
    "duration": 24,
    "start_time": "2022-07-13T09:53:25.710Z"
   },
   {
    "duration": 179,
    "start_time": "2022-07-13T09:53:25.736Z"
   },
   {
    "duration": 6,
    "start_time": "2022-07-13T09:53:25.917Z"
   },
   {
    "duration": 257,
    "start_time": "2022-07-13T09:53:25.925Z"
   },
   {
    "duration": 10,
    "start_time": "2022-07-13T09:59:12.155Z"
   },
   {
    "duration": 9,
    "start_time": "2022-07-13T09:59:23.161Z"
   },
   {
    "duration": 9,
    "start_time": "2022-07-13T10:00:07.408Z"
   },
   {
    "duration": 9,
    "start_time": "2022-07-13T10:00:49.257Z"
   },
   {
    "duration": 8,
    "start_time": "2022-07-13T10:01:11.262Z"
   },
   {
    "duration": 9,
    "start_time": "2022-07-13T10:01:35.430Z"
   },
   {
    "duration": 174,
    "start_time": "2022-07-13T10:04:27.124Z"
   },
   {
    "duration": 131,
    "start_time": "2022-07-13T10:06:23.293Z"
   },
   {
    "duration": 189,
    "start_time": "2022-07-13T10:10:33.103Z"
   },
   {
    "duration": 448,
    "start_time": "2022-07-13T10:12:29.102Z"
   },
   {
    "duration": 504,
    "start_time": "2022-07-13T10:12:55.424Z"
   },
   {
    "duration": 409,
    "start_time": "2022-07-13T10:13:16.854Z"
   },
   {
    "duration": 138,
    "start_time": "2022-07-13T10:20:34.644Z"
   },
   {
    "duration": 296,
    "start_time": "2022-07-13T10:20:41.663Z"
   },
   {
    "duration": 338,
    "start_time": "2022-07-13T10:21:13.766Z"
   },
   {
    "duration": 23,
    "start_time": "2022-07-13T10:25:14.396Z"
   },
   {
    "duration": 148,
    "start_time": "2022-07-13T10:25:52.130Z"
   },
   {
    "duration": 151,
    "start_time": "2022-07-13T10:26:18.398Z"
   },
   {
    "duration": 11,
    "start_time": "2022-07-13T13:25:09.111Z"
   },
   {
    "duration": 10,
    "start_time": "2022-07-13T13:46:51.885Z"
   },
   {
    "duration": 188,
    "start_time": "2022-07-13T13:50:40.060Z"
   },
   {
    "duration": 91,
    "start_time": "2022-07-13T14:05:50.291Z"
   },
   {
    "duration": 27,
    "start_time": "2022-07-13T14:07:40.116Z"
   },
   {
    "duration": 17,
    "start_time": "2022-07-13T14:08:29.579Z"
   },
   {
    "duration": 24,
    "start_time": "2022-07-13T14:08:56.023Z"
   },
   {
    "duration": 23,
    "start_time": "2022-07-13T14:09:20.615Z"
   },
   {
    "duration": 150,
    "start_time": "2022-07-13T14:10:53.961Z"
   },
   {
    "duration": 3,
    "start_time": "2022-07-13T14:11:53.496Z"
   },
   {
    "duration": 234,
    "start_time": "2022-07-13T14:16:46.697Z"
   },
   {
    "duration": 131,
    "start_time": "2022-07-13T14:17:02.789Z"
   },
   {
    "duration": 144,
    "start_time": "2022-07-13T14:17:50.570Z"
   },
   {
    "duration": 157,
    "start_time": "2022-07-13T14:19:54.490Z"
   },
   {
    "duration": 134,
    "start_time": "2022-07-13T14:20:29.396Z"
   },
   {
    "duration": 131,
    "start_time": "2022-07-13T14:20:37.144Z"
   },
   {
    "duration": 3,
    "start_time": "2022-07-13T14:27:00.669Z"
   },
   {
    "duration": 140,
    "start_time": "2022-07-13T14:28:06.525Z"
   },
   {
    "duration": 121,
    "start_time": "2022-07-13T14:29:13.987Z"
   },
   {
    "duration": 152,
    "start_time": "2022-07-13T14:29:55.458Z"
   },
   {
    "duration": 132,
    "start_time": "2022-07-13T14:30:47.119Z"
   },
   {
    "duration": 53,
    "start_time": "2022-07-13T14:50:14.544Z"
   },
   {
    "duration": 7,
    "start_time": "2022-07-13T14:50:59.037Z"
   },
   {
    "duration": 7,
    "start_time": "2022-07-13T14:51:20.853Z"
   },
   {
    "duration": 161,
    "start_time": "2022-07-13T14:52:50.719Z"
   },
   {
    "duration": 8,
    "start_time": "2022-07-13T15:00:40.435Z"
   },
   {
    "duration": 7,
    "start_time": "2022-07-13T15:00:48.460Z"
   },
   {
    "duration": 10,
    "start_time": "2022-07-13T15:01:25.172Z"
   },
   {
    "duration": 1198,
    "start_time": "2022-07-13T15:04:10.083Z"
   },
   {
    "duration": 11,
    "start_time": "2022-07-13T15:05:22.734Z"
   },
   {
    "duration": 18,
    "start_time": "2022-07-13T15:05:40.117Z"
   },
   {
    "duration": 12,
    "start_time": "2022-07-13T15:06:02.579Z"
   },
   {
    "duration": 14,
    "start_time": "2022-07-13T15:08:36.776Z"
   },
   {
    "duration": 15,
    "start_time": "2022-07-13T15:09:43.429Z"
   },
   {
    "duration": 65,
    "start_time": "2022-07-13T15:10:35.985Z"
   },
   {
    "duration": 50,
    "start_time": "2022-07-13T15:10:46.535Z"
   },
   {
    "duration": 54,
    "start_time": "2022-07-13T15:11:38.215Z"
   },
   {
    "duration": 13,
    "start_time": "2022-07-13T15:12:00.592Z"
   },
   {
    "duration": 14,
    "start_time": "2022-07-13T15:30:27.070Z"
   },
   {
    "duration": 13,
    "start_time": "2022-07-13T15:32:53.109Z"
   },
   {
    "duration": 7,
    "start_time": "2022-07-13T15:36:31.164Z"
   },
   {
    "duration": 10,
    "start_time": "2022-07-13T15:36:51.482Z"
   },
   {
    "duration": 16,
    "start_time": "2022-07-13T15:52:27.802Z"
   },
   {
    "duration": 13,
    "start_time": "2022-07-13T16:02:05.981Z"
   },
   {
    "duration": 14,
    "start_time": "2022-07-13T16:02:14.352Z"
   },
   {
    "duration": 97,
    "start_time": "2022-07-13T16:06:48.576Z"
   },
   {
    "duration": 14,
    "start_time": "2022-07-13T16:07:23.905Z"
   },
   {
    "duration": 996,
    "start_time": "2022-07-13T16:14:23.397Z"
   },
   {
    "duration": 14,
    "start_time": "2022-07-13T16:14:37.959Z"
   },
   {
    "duration": 13,
    "start_time": "2022-07-13T16:20:06.181Z"
   },
   {
    "duration": 10,
    "start_time": "2022-07-13T16:24:14.087Z"
   },
   {
    "duration": 927,
    "start_time": "2022-07-14T07:29:09.594Z"
   },
   {
    "duration": 129,
    "start_time": "2022-07-14T07:29:10.526Z"
   },
   {
    "duration": 24,
    "start_time": "2022-07-14T07:29:10.657Z"
   },
   {
    "duration": 882,
    "start_time": "2022-07-14T07:29:10.683Z"
   },
   {
    "duration": 20,
    "start_time": "2022-07-14T07:29:11.568Z"
   },
   {
    "duration": 5,
    "start_time": "2022-07-14T07:29:11.591Z"
   },
   {
    "duration": 48,
    "start_time": "2022-07-14T07:29:11.598Z"
   },
   {
    "duration": 12,
    "start_time": "2022-07-14T07:29:11.648Z"
   },
   {
    "duration": 28,
    "start_time": "2022-07-14T07:29:11.664Z"
   },
   {
    "duration": 52327,
    "start_time": "2022-07-14T07:29:11.694Z"
   },
   {
    "duration": 19,
    "start_time": "2022-07-14T07:30:04.026Z"
   },
   {
    "duration": 55,
    "start_time": "2022-07-14T07:30:04.048Z"
   },
   {
    "duration": 16,
    "start_time": "2022-07-14T07:30:04.105Z"
   },
   {
    "duration": 37,
    "start_time": "2022-07-14T07:30:04.144Z"
   },
   {
    "duration": 19,
    "start_time": "2022-07-14T07:30:04.183Z"
   },
   {
    "duration": 285,
    "start_time": "2022-07-14T07:30:04.204Z"
   },
   {
    "duration": 10,
    "start_time": "2022-07-14T07:30:04.491Z"
   },
   {
    "duration": 411,
    "start_time": "2022-07-14T07:30:04.503Z"
   },
   {
    "duration": 23,
    "start_time": "2022-07-14T07:30:04.917Z"
   },
   {
    "duration": 473,
    "start_time": "2022-07-14T07:30:04.944Z"
   },
   {
    "duration": 190,
    "start_time": "2022-07-14T07:30:05.428Z"
   },
   {
    "duration": 175,
    "start_time": "2022-07-14T07:30:05.620Z"
   },
   {
    "duration": 195,
    "start_time": "2022-07-14T07:30:05.797Z"
   },
   {
    "duration": 187,
    "start_time": "2022-07-14T07:30:05.994Z"
   },
   {
    "duration": 284,
    "start_time": "2022-07-14T07:30:06.184Z"
   },
   {
    "duration": 171,
    "start_time": "2022-07-14T07:30:06.470Z"
   },
   {
    "duration": 169,
    "start_time": "2022-07-14T07:30:06.643Z"
   },
   {
    "duration": 168,
    "start_time": "2022-07-14T07:30:06.826Z"
   },
   {
    "duration": 219,
    "start_time": "2022-07-14T07:30:06.996Z"
   },
   {
    "duration": 23,
    "start_time": "2022-07-14T07:30:07.217Z"
   },
   {
    "duration": 19,
    "start_time": "2022-07-14T07:30:07.242Z"
   },
   {
    "duration": 14,
    "start_time": "2022-07-14T07:30:07.263Z"
   },
   {
    "duration": 54,
    "start_time": "2022-07-14T07:30:07.278Z"
   },
   {
    "duration": 23,
    "start_time": "2022-07-14T07:30:07.334Z"
   },
   {
    "duration": 11,
    "start_time": "2022-07-14T07:30:07.359Z"
   },
   {
    "duration": 16,
    "start_time": "2022-07-14T07:30:07.372Z"
   },
   {
    "duration": 25,
    "start_time": "2022-07-14T07:30:07.424Z"
   },
   {
    "duration": 14,
    "start_time": "2022-07-14T07:30:07.452Z"
   },
   {
    "duration": 420,
    "start_time": "2022-07-14T07:54:39.974Z"
   },
   {
    "duration": 443,
    "start_time": "2022-07-14T07:54:51.967Z"
   },
   {
    "duration": 123,
    "start_time": "2022-07-14T07:54:52.413Z"
   },
   {
    "duration": 22,
    "start_time": "2022-07-14T07:54:52.539Z"
   },
   {
    "duration": 1228,
    "start_time": "2022-07-14T07:54:52.564Z"
   },
   {
    "duration": 17,
    "start_time": "2022-07-14T07:54:53.794Z"
   },
   {
    "duration": 5,
    "start_time": "2022-07-14T07:54:53.824Z"
   },
   {
    "duration": 22,
    "start_time": "2022-07-14T07:54:53.831Z"
   },
   {
    "duration": 8,
    "start_time": "2022-07-14T07:54:53.855Z"
   },
   {
    "duration": 26,
    "start_time": "2022-07-14T07:54:53.865Z"
   },
   {
    "duration": 52713,
    "start_time": "2022-07-14T07:54:53.893Z"
   },
   {
    "duration": 6,
    "start_time": "2022-07-14T07:55:46.608Z"
   },
   {
    "duration": 24,
    "start_time": "2022-07-14T07:55:46.624Z"
   },
   {
    "duration": 22,
    "start_time": "2022-07-14T07:55:46.650Z"
   },
   {
    "duration": 32,
    "start_time": "2022-07-14T07:55:46.675Z"
   },
   {
    "duration": 38,
    "start_time": "2022-07-14T07:55:46.709Z"
   },
   {
    "duration": 218,
    "start_time": "2022-07-14T07:55:46.750Z"
   },
   {
    "duration": 8,
    "start_time": "2022-07-14T07:55:46.969Z"
   },
   {
    "duration": 302,
    "start_time": "2022-07-14T07:55:46.978Z"
   },
   {
    "duration": 13,
    "start_time": "2022-07-14T07:55:47.283Z"
   },
   {
    "duration": 383,
    "start_time": "2022-07-14T07:55:47.298Z"
   },
   {
    "duration": 177,
    "start_time": "2022-07-14T07:55:47.683Z"
   },
   {
    "duration": 128,
    "start_time": "2022-07-14T07:55:47.862Z"
   },
   {
    "duration": 176,
    "start_time": "2022-07-14T07:55:47.993Z"
   },
   {
    "duration": 169,
    "start_time": "2022-07-14T07:55:48.171Z"
   },
   {
    "duration": 279,
    "start_time": "2022-07-14T07:55:48.342Z"
   },
   {
    "duration": 192,
    "start_time": "2022-07-14T07:55:48.624Z"
   },
   {
    "duration": 197,
    "start_time": "2022-07-14T07:55:48.818Z"
   },
   {
    "duration": 176,
    "start_time": "2022-07-14T07:55:49.018Z"
   },
   {
    "duration": 193,
    "start_time": "2022-07-14T07:55:49.196Z"
   },
   {
    "duration": 34,
    "start_time": "2022-07-14T07:55:49.391Z"
   },
   {
    "duration": 17,
    "start_time": "2022-07-14T07:55:49.428Z"
   },
   {
    "duration": 13,
    "start_time": "2022-07-14T07:55:49.447Z"
   },
   {
    "duration": 35,
    "start_time": "2022-07-14T07:55:49.462Z"
   },
   {
    "duration": 41,
    "start_time": "2022-07-14T07:55:49.499Z"
   },
   {
    "duration": 13,
    "start_time": "2022-07-14T07:55:49.542Z"
   },
   {
    "duration": 36,
    "start_time": "2022-07-14T07:55:49.557Z"
   },
   {
    "duration": 65,
    "start_time": "2022-07-14T07:55:49.595Z"
   },
   {
    "duration": 19,
    "start_time": "2022-07-14T07:55:49.661Z"
   },
   {
    "duration": 1542,
    "start_time": "2022-07-14T08:14:20.425Z"
   },
   {
    "duration": 10,
    "start_time": "2022-07-14T08:14:33.289Z"
   },
   {
    "duration": 24,
    "start_time": "2022-07-14T08:17:25.836Z"
   },
   {
    "duration": 16,
    "start_time": "2022-07-14T08:17:38.459Z"
   },
   {
    "duration": 485,
    "start_time": "2022-07-14T09:09:27.101Z"
   },
   {
    "duration": 11,
    "start_time": "2022-07-14T09:10:33.208Z"
   },
   {
    "duration": 10,
    "start_time": "2022-07-14T09:15:26.098Z"
   },
   {
    "duration": 18,
    "start_time": "2022-07-14T09:23:00.440Z"
   },
   {
    "duration": 10,
    "start_time": "2022-07-14T09:24:18.964Z"
   },
   {
    "duration": 13,
    "start_time": "2022-07-14T09:24:28.114Z"
   },
   {
    "duration": 12,
    "start_time": "2022-07-14T09:25:00.529Z"
   },
   {
    "duration": 11,
    "start_time": "2022-07-14T09:30:08.685Z"
   },
   {
    "duration": 9,
    "start_time": "2022-07-14T09:30:41.513Z"
   },
   {
    "duration": 15,
    "start_time": "2022-07-14T09:31:10.677Z"
   },
   {
    "duration": 13,
    "start_time": "2022-07-14T09:31:37.905Z"
   },
   {
    "duration": 11,
    "start_time": "2022-07-14T09:32:33.224Z"
   },
   {
    "duration": 13,
    "start_time": "2022-07-14T09:35:53.749Z"
   },
   {
    "duration": 908,
    "start_time": "2022-07-14T10:26:19.950Z"
   },
   {
    "duration": 63,
    "start_time": "2022-07-14T10:26:20.860Z"
   },
   {
    "duration": 34,
    "start_time": "2022-07-14T10:26:20.925Z"
   },
   {
    "duration": 1052,
    "start_time": "2022-07-14T10:26:20.961Z"
   },
   {
    "duration": 28,
    "start_time": "2022-07-14T10:26:22.023Z"
   },
   {
    "duration": 13,
    "start_time": "2022-07-14T10:26:22.052Z"
   },
   {
    "duration": 26,
    "start_time": "2022-07-14T10:26:22.066Z"
   },
   {
    "duration": 11,
    "start_time": "2022-07-14T10:26:22.094Z"
   },
   {
    "duration": 43,
    "start_time": "2022-07-14T10:26:22.107Z"
   },
   {
    "duration": 48653,
    "start_time": "2022-07-14T10:26:22.152Z"
   },
   {
    "duration": 5,
    "start_time": "2022-07-14T10:27:10.807Z"
   },
   {
    "duration": 40,
    "start_time": "2022-07-14T10:27:10.814Z"
   },
   {
    "duration": 13,
    "start_time": "2022-07-14T10:27:10.856Z"
   },
   {
    "duration": 4,
    "start_time": "2022-07-14T10:27:10.872Z"
   },
   {
    "duration": 16,
    "start_time": "2022-07-14T10:27:10.878Z"
   },
   {
    "duration": 229,
    "start_time": "2022-07-14T10:27:10.895Z"
   },
   {
    "duration": 12,
    "start_time": "2022-07-14T10:27:11.125Z"
   },
   {
    "duration": 318,
    "start_time": "2022-07-14T10:27:11.139Z"
   },
   {
    "duration": 10,
    "start_time": "2022-07-14T10:27:11.458Z"
   },
   {
    "duration": 439,
    "start_time": "2022-07-14T10:27:11.470Z"
   },
   {
    "duration": 195,
    "start_time": "2022-07-14T10:27:11.911Z"
   },
   {
    "duration": 146,
    "start_time": "2022-07-14T10:27:12.108Z"
   },
   {
    "duration": 182,
    "start_time": "2022-07-14T10:27:12.256Z"
   },
   {
    "duration": 142,
    "start_time": "2022-07-14T10:27:12.440Z"
   },
   {
    "duration": 184,
    "start_time": "2022-07-14T10:27:12.583Z"
   },
   {
    "duration": 168,
    "start_time": "2022-07-14T10:27:12.769Z"
   },
   {
    "duration": 170,
    "start_time": "2022-07-14T10:27:12.939Z"
   },
   {
    "duration": 160,
    "start_time": "2022-07-14T10:27:13.110Z"
   },
   {
    "duration": 207,
    "start_time": "2022-07-14T10:27:13.272Z"
   },
   {
    "duration": 16,
    "start_time": "2022-07-14T10:27:13.481Z"
   },
   {
    "duration": 13,
    "start_time": "2022-07-14T10:27:13.498Z"
   },
   {
    "duration": 26,
    "start_time": "2022-07-14T10:27:13.512Z"
   },
   {
    "duration": 32,
    "start_time": "2022-07-14T10:27:13.542Z"
   },
   {
    "duration": 13,
    "start_time": "2022-07-14T10:27:13.576Z"
   },
   {
    "duration": 9,
    "start_time": "2022-07-14T10:27:13.591Z"
   },
   {
    "duration": 26,
    "start_time": "2022-07-14T10:27:13.602Z"
   },
   {
    "duration": 35,
    "start_time": "2022-07-14T10:27:13.630Z"
   },
   {
    "duration": 11,
    "start_time": "2022-07-14T10:27:13.667Z"
   },
   {
    "duration": 20,
    "start_time": "2022-07-14T10:27:13.680Z"
   },
   {
    "duration": 9,
    "start_time": "2022-07-14T10:27:13.701Z"
   },
   {
    "duration": 32,
    "start_time": "2022-07-14T10:27:13.714Z"
   },
   {
    "duration": 29,
    "start_time": "2022-07-14T10:27:13.748Z"
   },
   {
    "duration": 46,
    "start_time": "2022-07-14T12:56:04.491Z"
   },
   {
    "duration": 870,
    "start_time": "2022-07-14T12:56:21.295Z"
   },
   {
    "duration": 69,
    "start_time": "2022-07-14T12:56:22.168Z"
   },
   {
    "duration": 19,
    "start_time": "2022-07-14T12:56:22.239Z"
   },
   {
    "duration": 1038,
    "start_time": "2022-07-14T12:56:22.261Z"
   },
   {
    "duration": 16,
    "start_time": "2022-07-14T12:56:23.301Z"
   },
   {
    "duration": 5,
    "start_time": "2022-07-14T12:56:23.319Z"
   },
   {
    "duration": 22,
    "start_time": "2022-07-14T12:56:23.325Z"
   },
   {
    "duration": 11,
    "start_time": "2022-07-14T12:56:23.360Z"
   },
   {
    "duration": 24,
    "start_time": "2022-07-14T12:56:23.373Z"
   },
   {
    "duration": 42150,
    "start_time": "2022-07-14T12:56:23.399Z"
   },
   {
    "duration": 5,
    "start_time": "2022-07-14T12:57:05.551Z"
   },
   {
    "duration": 24,
    "start_time": "2022-07-14T12:57:05.561Z"
   },
   {
    "duration": 22,
    "start_time": "2022-07-14T12:57:05.587Z"
   },
   {
    "duration": 39,
    "start_time": "2022-07-14T12:57:05.610Z"
   },
   {
    "duration": 6,
    "start_time": "2022-07-14T12:57:05.651Z"
   },
   {
    "duration": 44,
    "start_time": "2022-07-14T12:57:05.659Z"
   },
   {
    "duration": 182,
    "start_time": "2022-07-14T12:57:05.704Z"
   },
   {
    "duration": 6,
    "start_time": "2022-07-14T12:57:05.888Z"
   },
   {
    "duration": 243,
    "start_time": "2022-07-14T12:57:05.895Z"
   },
   {
    "duration": 10,
    "start_time": "2022-07-14T12:57:06.140Z"
   },
   {
    "duration": 464,
    "start_time": "2022-07-14T12:57:06.161Z"
   },
   {
    "duration": 165,
    "start_time": "2022-07-14T12:57:06.626Z"
   },
   {
    "duration": 112,
    "start_time": "2022-07-14T12:57:06.792Z"
   },
   {
    "duration": 137,
    "start_time": "2022-07-14T12:57:06.906Z"
   },
   {
    "duration": 139,
    "start_time": "2022-07-14T12:57:07.045Z"
   },
   {
    "duration": 149,
    "start_time": "2022-07-14T12:57:07.186Z"
   },
   {
    "duration": 138,
    "start_time": "2022-07-14T12:57:07.337Z"
   },
   {
    "duration": 155,
    "start_time": "2022-07-14T12:57:07.478Z"
   },
   {
    "duration": 135,
    "start_time": "2022-07-14T12:57:07.634Z"
   },
   {
    "duration": 172,
    "start_time": "2022-07-14T12:57:07.771Z"
   },
   {
    "duration": 19,
    "start_time": "2022-07-14T12:57:07.945Z"
   },
   {
    "duration": 56,
    "start_time": "2022-07-14T12:57:07.965Z"
   },
   {
    "duration": 26,
    "start_time": "2022-07-14T12:57:08.023Z"
   },
   {
    "duration": 47,
    "start_time": "2022-07-14T12:57:08.051Z"
   },
   {
    "duration": 17,
    "start_time": "2022-07-14T12:57:08.100Z"
   },
   {
    "duration": 12,
    "start_time": "2022-07-14T12:57:08.119Z"
   },
   {
    "duration": 13,
    "start_time": "2022-07-14T12:57:08.133Z"
   },
   {
    "duration": 14,
    "start_time": "2022-07-14T12:57:08.148Z"
   },
   {
    "duration": 12,
    "start_time": "2022-07-14T12:57:08.163Z"
   },
   {
    "duration": 18,
    "start_time": "2022-07-14T12:57:08.176Z"
   },
   {
    "duration": 8,
    "start_time": "2022-07-14T12:57:08.196Z"
   },
   {
    "duration": 24,
    "start_time": "2022-07-14T12:57:08.205Z"
   },
   {
    "duration": 31,
    "start_time": "2022-07-14T12:57:08.230Z"
   },
   {
    "duration": 121,
    "start_time": "2022-07-14T13:05:18.177Z"
   },
   {
    "duration": 2810,
    "start_time": "2022-07-14T13:05:34.424Z"
   },
   {
    "duration": 302,
    "start_time": "2022-07-14T13:05:48.736Z"
   },
   {
    "duration": 312,
    "start_time": "2022-07-14T13:06:04.595Z"
   },
   {
    "duration": 125,
    "start_time": "2022-07-14T13:09:21.748Z"
   },
   {
    "duration": 751,
    "start_time": "2022-07-14T13:09:48.286Z"
   },
   {
    "duration": 342,
    "start_time": "2022-07-14T13:10:05.651Z"
   },
   {
    "duration": 374,
    "start_time": "2022-07-14T13:11:46.539Z"
   },
   {
    "duration": 319,
    "start_time": "2022-07-14T13:12:48.565Z"
   },
   {
    "duration": 847,
    "start_time": "2022-07-14T13:33:09.097Z"
   },
   {
    "duration": 66,
    "start_time": "2022-07-14T13:33:09.946Z"
   },
   {
    "duration": 19,
    "start_time": "2022-07-14T13:33:10.014Z"
   },
   {
    "duration": 975,
    "start_time": "2022-07-14T13:33:10.035Z"
   },
   {
    "duration": 15,
    "start_time": "2022-07-14T13:33:11.011Z"
   },
   {
    "duration": 4,
    "start_time": "2022-07-14T13:33:11.027Z"
   },
   {
    "duration": 30,
    "start_time": "2022-07-14T13:33:11.032Z"
   },
   {
    "duration": 6,
    "start_time": "2022-07-14T13:33:11.064Z"
   },
   {
    "duration": 21,
    "start_time": "2022-07-14T13:33:11.071Z"
   },
   {
    "duration": 39078,
    "start_time": "2022-07-14T13:33:11.095Z"
   },
   {
    "duration": 5,
    "start_time": "2022-07-14T13:33:50.175Z"
   },
   {
    "duration": 16,
    "start_time": "2022-07-14T13:33:50.181Z"
   },
   {
    "duration": 6,
    "start_time": "2022-07-14T13:33:50.198Z"
   },
   {
    "duration": 12,
    "start_time": "2022-07-14T13:33:50.205Z"
   },
   {
    "duration": 4,
    "start_time": "2022-07-14T13:33:50.218Z"
   },
   {
    "duration": 14,
    "start_time": "2022-07-14T13:33:50.224Z"
   },
   {
    "duration": 185,
    "start_time": "2022-07-14T13:33:50.261Z"
   },
   {
    "duration": 12,
    "start_time": "2022-07-14T13:33:50.448Z"
   },
   {
    "duration": 236,
    "start_time": "2022-07-14T13:33:50.462Z"
   },
   {
    "duration": 10,
    "start_time": "2022-07-14T13:33:50.699Z"
   },
   {
    "duration": 380,
    "start_time": "2022-07-14T13:33:50.710Z"
   },
   {
    "duration": 309,
    "start_time": "2022-07-14T13:33:51.092Z"
   },
   {
    "duration": 157,
    "start_time": "2022-07-14T13:33:51.403Z"
   },
   {
    "duration": 106,
    "start_time": "2022-07-14T13:33:51.562Z"
   },
   {
    "duration": 142,
    "start_time": "2022-07-14T13:33:51.669Z"
   },
   {
    "duration": 128,
    "start_time": "2022-07-14T13:33:51.813Z"
   },
   {
    "duration": 142,
    "start_time": "2022-07-14T13:33:51.943Z"
   },
   {
    "duration": 125,
    "start_time": "2022-07-14T13:33:52.088Z"
   },
   {
    "duration": 154,
    "start_time": "2022-07-14T13:33:52.215Z"
   },
   {
    "duration": 147,
    "start_time": "2022-07-14T13:33:52.370Z"
   },
   {
    "duration": 174,
    "start_time": "2022-07-14T13:33:52.518Z"
   },
   {
    "duration": 14,
    "start_time": "2022-07-14T13:33:52.693Z"
   },
   {
    "duration": 12,
    "start_time": "2022-07-14T13:33:52.709Z"
   },
   {
    "duration": 9,
    "start_time": "2022-07-14T13:33:52.722Z"
   },
   {
    "duration": 39,
    "start_time": "2022-07-14T13:33:52.733Z"
   },
   {
    "duration": 13,
    "start_time": "2022-07-14T13:33:52.773Z"
   },
   {
    "duration": 9,
    "start_time": "2022-07-14T13:33:52.787Z"
   },
   {
    "duration": 14,
    "start_time": "2022-07-14T13:33:52.797Z"
   },
   {
    "duration": 12,
    "start_time": "2022-07-14T13:33:52.813Z"
   },
   {
    "duration": 42,
    "start_time": "2022-07-14T13:33:52.826Z"
   },
   {
    "duration": 13,
    "start_time": "2022-07-14T13:33:52.869Z"
   },
   {
    "duration": 12,
    "start_time": "2022-07-14T13:33:52.883Z"
   },
   {
    "duration": 5,
    "start_time": "2022-07-14T13:33:52.897Z"
   },
   {
    "duration": 14,
    "start_time": "2022-07-14T13:33:52.904Z"
   },
   {
    "duration": 41,
    "start_time": "2022-07-14T13:33:52.919Z"
   },
   {
    "duration": 59,
    "start_time": "2022-07-15T11:13:01.500Z"
   },
   {
    "duration": 931,
    "start_time": "2022-07-15T11:13:08.805Z"
   },
   {
    "duration": 130,
    "start_time": "2022-07-15T11:13:09.738Z"
   },
   {
    "duration": 27,
    "start_time": "2022-07-15T11:13:09.871Z"
   },
   {
    "duration": 1232,
    "start_time": "2022-07-15T11:13:09.900Z"
   },
   {
    "duration": 24,
    "start_time": "2022-07-15T11:13:11.135Z"
   },
   {
    "duration": 6,
    "start_time": "2022-07-15T11:13:11.161Z"
   },
   {
    "duration": 37,
    "start_time": "2022-07-15T11:13:11.169Z"
   },
   {
    "duration": 10,
    "start_time": "2022-07-15T11:13:11.209Z"
   },
   {
    "duration": 26,
    "start_time": "2022-07-15T11:13:11.222Z"
   },
   {
    "duration": 46104,
    "start_time": "2022-07-15T11:13:11.253Z"
   },
   {
    "duration": 8,
    "start_time": "2022-07-15T11:13:57.359Z"
   },
   {
    "duration": 35,
    "start_time": "2022-07-15T11:13:57.369Z"
   },
   {
    "duration": 9,
    "start_time": "2022-07-15T11:13:57.406Z"
   },
   {
    "duration": 55,
    "start_time": "2022-07-15T11:13:57.417Z"
   },
   {
    "duration": 13,
    "start_time": "2022-07-15T11:13:57.474Z"
   },
   {
    "duration": 21,
    "start_time": "2022-07-15T11:13:57.488Z"
   },
   {
    "duration": 220,
    "start_time": "2022-07-15T11:13:57.512Z"
   },
   {
    "duration": 7,
    "start_time": "2022-07-15T11:13:57.734Z"
   },
   {
    "duration": 267,
    "start_time": "2022-07-15T11:13:57.743Z"
   },
   {
    "duration": 10,
    "start_time": "2022-07-15T11:13:58.013Z"
   },
   {
    "duration": 456,
    "start_time": "2022-07-15T11:13:58.025Z"
   },
   {
    "duration": 387,
    "start_time": "2022-07-15T11:13:58.482Z"
   },
   {
    "duration": 158,
    "start_time": "2022-07-15T11:13:58.871Z"
   },
   {
    "duration": 136,
    "start_time": "2022-07-15T11:13:59.031Z"
   },
   {
    "duration": 168,
    "start_time": "2022-07-15T11:13:59.169Z"
   },
   {
    "duration": 151,
    "start_time": "2022-07-15T11:13:59.339Z"
   },
   {
    "duration": 219,
    "start_time": "2022-07-15T11:13:59.500Z"
   },
   {
    "duration": 150,
    "start_time": "2022-07-15T11:13:59.724Z"
   },
   {
    "duration": 176,
    "start_time": "2022-07-15T11:13:59.877Z"
   },
   {
    "duration": 154,
    "start_time": "2022-07-15T11:14:00.056Z"
   },
   {
    "duration": 276,
    "start_time": "2022-07-15T11:14:00.211Z"
   },
   {
    "duration": 20,
    "start_time": "2022-07-15T11:14:00.489Z"
   },
   {
    "duration": 19,
    "start_time": "2022-07-15T11:14:00.511Z"
   },
   {
    "duration": 20,
    "start_time": "2022-07-15T11:14:00.532Z"
   },
   {
    "duration": 53,
    "start_time": "2022-07-15T11:14:00.554Z"
   },
   {
    "duration": 39,
    "start_time": "2022-07-15T11:14:00.608Z"
   },
   {
    "duration": 36,
    "start_time": "2022-07-15T11:14:00.650Z"
   },
   {
    "duration": 24,
    "start_time": "2022-07-15T11:14:00.688Z"
   },
   {
    "duration": 16,
    "start_time": "2022-07-15T11:14:00.713Z"
   },
   {
    "duration": 37,
    "start_time": "2022-07-15T11:14:00.730Z"
   },
   {
    "duration": 26,
    "start_time": "2022-07-15T11:14:00.769Z"
   },
   {
    "duration": 31,
    "start_time": "2022-07-15T11:14:00.797Z"
   },
   {
    "duration": 17,
    "start_time": "2022-07-15T11:14:00.830Z"
   },
   {
    "duration": 31,
    "start_time": "2022-07-15T11:14:00.849Z"
   },
   {
    "duration": 33,
    "start_time": "2022-07-15T11:14:00.881Z"
   },
   {
    "duration": 66,
    "start_time": "2022-07-15T11:15:03.000Z"
   },
   {
    "duration": 878,
    "start_time": "2022-07-15T11:24:12.370Z"
   },
   {
    "duration": 1249,
    "start_time": "2022-07-15T11:25:03.548Z"
   },
   {
    "duration": 12,
    "start_time": "2022-07-15T11:25:36.115Z"
   },
   {
    "duration": 10,
    "start_time": "2022-07-15T11:28:38.751Z"
   },
   {
    "duration": 16,
    "start_time": "2022-07-15T11:28:55.066Z"
   },
   {
    "duration": 18,
    "start_time": "2022-07-15T11:35:03.262Z"
   },
   {
    "duration": 8,
    "start_time": "2022-07-15T11:35:35.286Z"
   },
   {
    "duration": 243,
    "start_time": "2022-07-15T11:35:40.204Z"
   },
   {
    "duration": 9,
    "start_time": "2022-07-15T11:56:40.968Z"
   },
   {
    "duration": 354,
    "start_time": "2022-07-15T11:56:59.989Z"
   },
   {
    "duration": 9,
    "start_time": "2022-07-15T11:58:11.035Z"
   },
   {
    "duration": 299,
    "start_time": "2022-07-15T11:58:21.442Z"
   },
   {
    "duration": 806,
    "start_time": "2022-07-15T12:05:13.365Z"
   },
   {
    "duration": 62,
    "start_time": "2022-07-15T12:05:14.173Z"
   },
   {
    "duration": 19,
    "start_time": "2022-07-15T12:05:14.237Z"
   },
   {
    "duration": 928,
    "start_time": "2022-07-15T12:05:14.258Z"
   },
   {
    "duration": 24,
    "start_time": "2022-07-15T12:05:15.189Z"
   },
   {
    "duration": 5,
    "start_time": "2022-07-15T12:05:15.215Z"
   },
   {
    "duration": 39,
    "start_time": "2022-07-15T12:05:15.222Z"
   },
   {
    "duration": 8,
    "start_time": "2022-07-15T12:05:15.263Z"
   },
   {
    "duration": 29,
    "start_time": "2022-07-15T12:05:15.273Z"
   },
   {
    "duration": 40621,
    "start_time": "2022-07-15T12:05:15.306Z"
   },
   {
    "duration": 5,
    "start_time": "2022-07-15T12:05:55.929Z"
   },
   {
    "duration": 14,
    "start_time": "2022-07-15T12:05:55.936Z"
   },
   {
    "duration": 6,
    "start_time": "2022-07-15T12:05:55.952Z"
   },
   {
    "duration": 11,
    "start_time": "2022-07-15T12:05:55.960Z"
   },
   {
    "duration": 5,
    "start_time": "2022-07-15T12:05:55.972Z"
   },
   {
    "duration": 14,
    "start_time": "2022-07-15T12:05:56.000Z"
   },
   {
    "duration": 201,
    "start_time": "2022-07-15T12:05:56.016Z"
   },
   {
    "duration": 7,
    "start_time": "2022-07-15T12:05:56.218Z"
   },
   {
    "duration": 255,
    "start_time": "2022-07-15T12:05:56.227Z"
   },
   {
    "duration": 20,
    "start_time": "2022-07-15T12:05:56.484Z"
   },
   {
    "duration": 23,
    "start_time": "2022-07-15T12:05:56.505Z"
   },
   {
    "duration": 23,
    "start_time": "2022-07-15T12:05:56.529Z"
   },
   {
    "duration": 407,
    "start_time": "2022-07-15T12:05:56.554Z"
   },
   {
    "duration": 350,
    "start_time": "2022-07-15T12:05:56.962Z"
   },
   {
    "duration": 147,
    "start_time": "2022-07-15T12:05:57.314Z"
   },
   {
    "duration": 124,
    "start_time": "2022-07-15T12:05:57.462Z"
   },
   {
    "duration": 144,
    "start_time": "2022-07-15T12:05:57.588Z"
   },
   {
    "duration": 152,
    "start_time": "2022-07-15T12:05:57.736Z"
   },
   {
    "duration": 173,
    "start_time": "2022-07-15T12:05:57.890Z"
   },
   {
    "duration": 184,
    "start_time": "2022-07-15T12:05:58.065Z"
   },
   {
    "duration": 165,
    "start_time": "2022-07-15T12:05:58.251Z"
   },
   {
    "duration": 143,
    "start_time": "2022-07-15T12:05:58.417Z"
   },
   {
    "duration": 244,
    "start_time": "2022-07-15T12:05:58.562Z"
   },
   {
    "duration": 14,
    "start_time": "2022-07-15T12:05:58.807Z"
   },
   {
    "duration": 13,
    "start_time": "2022-07-15T12:05:58.823Z"
   },
   {
    "duration": 9,
    "start_time": "2022-07-15T12:05:58.838Z"
   },
   {
    "duration": 19,
    "start_time": "2022-07-15T12:05:58.848Z"
   },
   {
    "duration": 43,
    "start_time": "2022-07-15T12:05:58.869Z"
   },
   {
    "duration": 13,
    "start_time": "2022-07-15T12:05:58.914Z"
   },
   {
    "duration": 17,
    "start_time": "2022-07-15T12:05:58.928Z"
   },
   {
    "duration": 21,
    "start_time": "2022-07-15T12:05:58.947Z"
   },
   {
    "duration": 32,
    "start_time": "2022-07-15T12:05:58.970Z"
   },
   {
    "duration": 16,
    "start_time": "2022-07-15T12:05:59.004Z"
   },
   {
    "duration": 9,
    "start_time": "2022-07-15T12:05:59.022Z"
   },
   {
    "duration": 7,
    "start_time": "2022-07-15T12:05:59.033Z"
   },
   {
    "duration": 22,
    "start_time": "2022-07-15T12:05:59.041Z"
   },
   {
    "duration": 42,
    "start_time": "2022-07-15T12:05:59.065Z"
   },
   {
    "duration": 114,
    "start_time": "2022-07-15T12:22:27.043Z"
   },
   {
    "duration": 112,
    "start_time": "2022-07-15T12:22:44.638Z"
   },
   {
    "duration": 13,
    "start_time": "2022-07-15T12:23:16.337Z"
   },
   {
    "duration": 8,
    "start_time": "2022-07-15T12:23:44.676Z"
   },
   {
    "duration": 217,
    "start_time": "2022-07-15T12:24:54.335Z"
   },
   {
    "duration": 30,
    "start_time": "2022-07-15T12:32:53.849Z"
   },
   {
    "duration": 222,
    "start_time": "2022-07-15T12:33:12.096Z"
   },
   {
    "duration": 3,
    "start_time": "2022-07-15T12:55:32.444Z"
   },
   {
    "duration": 231,
    "start_time": "2022-07-15T12:55:52.843Z"
   },
   {
    "duration": 248,
    "start_time": "2022-07-15T12:56:02.601Z"
   },
   {
    "duration": 337,
    "start_time": "2022-07-15T12:56:46.120Z"
   },
   {
    "duration": 316,
    "start_time": "2022-07-15T12:57:48.506Z"
   },
   {
    "duration": 51,
    "start_time": "2022-07-15T13:06:38.955Z"
   },
   {
    "duration": 199,
    "start_time": "2022-07-15T13:07:17.107Z"
   },
   {
    "duration": 156,
    "start_time": "2022-07-15T13:07:58.840Z"
   },
   {
    "duration": 269,
    "start_time": "2022-07-15T13:24:41.002Z"
   },
   {
    "duration": 15,
    "start_time": "2022-07-15T13:25:03.802Z"
   },
   {
    "duration": 370,
    "start_time": "2022-07-15T13:25:18.979Z"
   },
   {
    "duration": 322,
    "start_time": "2022-07-15T13:25:29.001Z"
   },
   {
    "duration": 400,
    "start_time": "2022-07-15T13:25:37.140Z"
   },
   {
    "duration": 254,
    "start_time": "2022-07-15T13:27:14.437Z"
   },
   {
    "duration": 4,
    "start_time": "2022-07-15T13:28:41.136Z"
   },
   {
    "duration": 292,
    "start_time": "2022-07-15T13:29:04.967Z"
   },
   {
    "duration": 72,
    "start_time": "2022-07-15T13:30:12.578Z"
   },
   {
    "duration": 61,
    "start_time": "2022-07-15T13:30:19.089Z"
   },
   {
    "duration": 236,
    "start_time": "2022-07-15T13:30:25.957Z"
   },
   {
    "duration": 262,
    "start_time": "2022-07-15T13:30:44.685Z"
   },
   {
    "duration": 451,
    "start_time": "2022-07-15T13:31:24.942Z"
   },
   {
    "duration": 307,
    "start_time": "2022-07-15T13:31:45.458Z"
   },
   {
    "duration": 271,
    "start_time": "2022-07-15T13:31:56.813Z"
   },
   {
    "duration": 322,
    "start_time": "2022-07-15T13:32:01.456Z"
   },
   {
    "duration": 272,
    "start_time": "2022-07-15T13:32:11.560Z"
   },
   {
    "duration": 4,
    "start_time": "2022-07-15T13:36:34.214Z"
   },
   {
    "duration": 10,
    "start_time": "2022-07-15T13:37:09.610Z"
   },
   {
    "duration": 23,
    "start_time": "2022-07-15T13:37:16.724Z"
   },
   {
    "duration": 81,
    "start_time": "2022-07-15T13:38:47.690Z"
   },
   {
    "duration": 50,
    "start_time": "2022-07-16T07:43:59.798Z"
   },
   {
    "duration": 1114,
    "start_time": "2022-07-16T07:44:07.222Z"
   },
   {
    "duration": 157,
    "start_time": "2022-07-16T07:44:08.338Z"
   },
   {
    "duration": 17,
    "start_time": "2022-07-16T07:44:08.497Z"
   },
   {
    "duration": 715,
    "start_time": "2022-07-16T07:44:08.516Z"
   },
   {
    "duration": 15,
    "start_time": "2022-07-16T07:44:09.234Z"
   },
   {
    "duration": 4,
    "start_time": "2022-07-16T07:44:09.251Z"
   },
   {
    "duration": 31,
    "start_time": "2022-07-16T07:44:09.257Z"
   },
   {
    "duration": 15,
    "start_time": "2022-07-16T07:44:09.290Z"
   },
   {
    "duration": 20,
    "start_time": "2022-07-16T07:44:09.306Z"
   },
   {
    "duration": 39031,
    "start_time": "2022-07-16T07:44:09.327Z"
   },
   {
    "duration": 6,
    "start_time": "2022-07-16T07:44:48.360Z"
   },
   {
    "duration": 23,
    "start_time": "2022-07-16T07:44:48.368Z"
   },
   {
    "duration": 19,
    "start_time": "2022-07-16T07:44:48.393Z"
   },
   {
    "duration": 27,
    "start_time": "2022-07-16T07:44:48.416Z"
   },
   {
    "duration": 26,
    "start_time": "2022-07-16T07:44:48.445Z"
   },
   {
    "duration": 30,
    "start_time": "2022-07-16T07:44:48.474Z"
   },
   {
    "duration": 191,
    "start_time": "2022-07-16T07:44:48.507Z"
   },
   {
    "duration": 7,
    "start_time": "2022-07-16T07:44:48.700Z"
   },
   {
    "duration": 269,
    "start_time": "2022-07-16T07:44:48.710Z"
   },
   {
    "duration": 23,
    "start_time": "2022-07-16T07:44:48.980Z"
   },
   {
    "duration": 13,
    "start_time": "2022-07-16T07:44:49.005Z"
   },
   {
    "duration": 9,
    "start_time": "2022-07-16T07:44:49.020Z"
   },
   {
    "duration": 399,
    "start_time": "2022-07-16T07:44:49.031Z"
   },
   {
    "duration": 336,
    "start_time": "2022-07-16T07:44:49.432Z"
   },
   {
    "duration": 135,
    "start_time": "2022-07-16T07:44:49.771Z"
   },
   {
    "duration": 242,
    "start_time": "2022-07-16T07:44:49.908Z"
   },
   {
    "duration": 258,
    "start_time": "2022-07-16T07:44:50.152Z"
   },
   {
    "duration": 153,
    "start_time": "2022-07-16T07:44:50.412Z"
   },
   {
    "duration": 175,
    "start_time": "2022-07-16T07:44:50.566Z"
   },
   {
    "duration": 141,
    "start_time": "2022-07-16T07:44:50.742Z"
   },
   {
    "duration": 233,
    "start_time": "2022-07-16T07:44:50.884Z"
   },
   {
    "duration": 170,
    "start_time": "2022-07-16T07:44:51.119Z"
   },
   {
    "duration": 167,
    "start_time": "2022-07-16T07:44:51.291Z"
   },
   {
    "duration": 191,
    "start_time": "2022-07-16T07:44:51.460Z"
   },
   {
    "duration": 260,
    "start_time": "2022-07-16T07:44:51.653Z"
   },
   {
    "duration": 269,
    "start_time": "2022-07-16T07:44:51.915Z"
   },
   {
    "duration": 22,
    "start_time": "2022-07-16T07:44:52.186Z"
   },
   {
    "duration": 22,
    "start_time": "2022-07-16T07:44:52.210Z"
   },
   {
    "duration": 13,
    "start_time": "2022-07-16T07:44:52.234Z"
   },
   {
    "duration": 22,
    "start_time": "2022-07-16T07:44:52.249Z"
   },
   {
    "duration": 34,
    "start_time": "2022-07-16T07:44:52.275Z"
   },
   {
    "duration": 25,
    "start_time": "2022-07-16T07:44:52.310Z"
   },
   {
    "duration": 13,
    "start_time": "2022-07-16T07:44:52.337Z"
   },
   {
    "duration": 18,
    "start_time": "2022-07-16T07:44:52.352Z"
   },
   {
    "duration": 10,
    "start_time": "2022-07-16T07:44:52.372Z"
   },
   {
    "duration": 14,
    "start_time": "2022-07-16T07:44:52.401Z"
   },
   {
    "duration": 10,
    "start_time": "2022-07-16T07:44:52.417Z"
   },
   {
    "duration": 10,
    "start_time": "2022-07-16T07:44:52.428Z"
   },
   {
    "duration": 30,
    "start_time": "2022-07-16T07:44:52.440Z"
   },
   {
    "duration": 30,
    "start_time": "2022-07-16T07:44:52.472Z"
   },
   {
    "duration": 401,
    "start_time": "2022-07-16T07:56:43.139Z"
   },
   {
    "duration": 459,
    "start_time": "2022-07-16T07:57:41.772Z"
   },
   {
    "duration": 10,
    "start_time": "2022-07-16T07:57:51.624Z"
   },
   {
    "duration": 340,
    "start_time": "2022-07-16T07:59:17.383Z"
   },
   {
    "duration": 172,
    "start_time": "2022-07-16T07:59:32.366Z"
   },
   {
    "duration": 312,
    "start_time": "2022-07-16T07:59:45.373Z"
   },
   {
    "duration": 260,
    "start_time": "2022-07-16T08:00:38.825Z"
   },
   {
    "duration": 260,
    "start_time": "2022-07-16T08:00:46.100Z"
   },
   {
    "duration": 1022,
    "start_time": "2022-07-16T08:03:07.522Z"
   },
   {
    "duration": 108,
    "start_time": "2022-07-16T08:03:08.545Z"
   },
   {
    "duration": 17,
    "start_time": "2022-07-16T08:03:08.655Z"
   },
   {
    "duration": 787,
    "start_time": "2022-07-16T08:03:08.673Z"
   },
   {
    "duration": 16,
    "start_time": "2022-07-16T08:03:09.462Z"
   },
   {
    "duration": 5,
    "start_time": "2022-07-16T08:03:09.479Z"
   },
   {
    "duration": 39,
    "start_time": "2022-07-16T08:03:09.485Z"
   },
   {
    "duration": 9,
    "start_time": "2022-07-16T08:03:09.526Z"
   },
   {
    "duration": 20,
    "start_time": "2022-07-16T08:03:09.536Z"
   },
   {
    "duration": 44457,
    "start_time": "2022-07-16T08:03:09.557Z"
   },
   {
    "duration": 10,
    "start_time": "2022-07-16T08:03:54.019Z"
   },
   {
    "duration": 38,
    "start_time": "2022-07-16T08:03:54.032Z"
   },
   {
    "duration": 7,
    "start_time": "2022-07-16T08:03:54.072Z"
   },
   {
    "duration": 25,
    "start_time": "2022-07-16T08:03:54.082Z"
   },
   {
    "duration": 5,
    "start_time": "2022-07-16T08:03:54.109Z"
   },
   {
    "duration": 27,
    "start_time": "2022-07-16T08:03:54.116Z"
   },
   {
    "duration": 212,
    "start_time": "2022-07-16T08:03:54.145Z"
   },
   {
    "duration": 6,
    "start_time": "2022-07-16T08:03:54.358Z"
   },
   {
    "duration": 322,
    "start_time": "2022-07-16T08:03:54.366Z"
   },
   {
    "duration": 35,
    "start_time": "2022-07-16T08:03:54.689Z"
   },
   {
    "duration": 47,
    "start_time": "2022-07-16T08:03:54.730Z"
   },
   {
    "duration": 11,
    "start_time": "2022-07-16T08:03:54.779Z"
   },
   {
    "duration": 371,
    "start_time": "2022-07-16T08:03:54.791Z"
   },
   {
    "duration": 429,
    "start_time": "2022-07-16T08:03:55.167Z"
   },
   {
    "duration": 187,
    "start_time": "2022-07-16T08:03:55.598Z"
   },
   {
    "duration": 266,
    "start_time": "2022-07-16T08:03:55.787Z"
   },
   {
    "duration": 285,
    "start_time": "2022-07-16T08:03:56.055Z"
   },
   {
    "duration": 150,
    "start_time": "2022-07-16T08:03:56.342Z"
   },
   {
    "duration": 181,
    "start_time": "2022-07-16T08:03:56.500Z"
   },
   {
    "duration": 169,
    "start_time": "2022-07-16T08:03:56.683Z"
   },
   {
    "duration": 245,
    "start_time": "2022-07-16T08:03:56.853Z"
   },
   {
    "duration": 158,
    "start_time": "2022-07-16T08:03:57.102Z"
   },
   {
    "duration": 176,
    "start_time": "2022-07-16T08:03:57.261Z"
   },
   {
    "duration": 237,
    "start_time": "2022-07-16T08:03:57.439Z"
   },
   {
    "duration": 294,
    "start_time": "2022-07-16T08:03:57.678Z"
   },
   {
    "duration": 293,
    "start_time": "2022-07-16T08:03:57.973Z"
   },
   {
    "duration": 14,
    "start_time": "2022-07-16T08:03:58.268Z"
   },
   {
    "duration": 17,
    "start_time": "2022-07-16T08:03:58.310Z"
   },
   {
    "duration": 21,
    "start_time": "2022-07-16T08:03:58.328Z"
   },
   {
    "duration": 15,
    "start_time": "2022-07-16T08:03:58.350Z"
   },
   {
    "duration": 12,
    "start_time": "2022-07-16T08:03:58.368Z"
   },
   {
    "duration": 42,
    "start_time": "2022-07-16T08:03:58.381Z"
   },
   {
    "duration": 18,
    "start_time": "2022-07-16T08:03:58.428Z"
   },
   {
    "duration": 13,
    "start_time": "2022-07-16T08:03:58.447Z"
   },
   {
    "duration": 12,
    "start_time": "2022-07-16T08:03:58.461Z"
   },
   {
    "duration": 11,
    "start_time": "2022-07-16T08:03:58.475Z"
   },
   {
    "duration": 8,
    "start_time": "2022-07-16T08:03:58.489Z"
   },
   {
    "duration": 31,
    "start_time": "2022-07-16T08:03:58.498Z"
   },
   {
    "duration": 19,
    "start_time": "2022-07-16T08:03:58.531Z"
   },
   {
    "duration": 10,
    "start_time": "2022-07-16T08:03:58.551Z"
   },
   {
    "duration": 57,
    "start_time": "2022-07-16T08:31:15.298Z"
   },
   {
    "duration": 39,
    "start_time": "2022-07-16T08:31:38.749Z"
   },
   {
    "duration": 33,
    "start_time": "2022-07-16T08:32:23.727Z"
   },
   {
    "duration": 144,
    "start_time": "2022-07-16T08:32:47.649Z"
   },
   {
    "duration": 62,
    "start_time": "2022-07-16T08:33:13.236Z"
   },
   {
    "duration": 19,
    "start_time": "2022-07-16T08:34:08.345Z"
   },
   {
    "duration": 343,
    "start_time": "2022-07-16T08:34:49.587Z"
   },
   {
    "duration": 246,
    "start_time": "2022-07-16T08:35:11.370Z"
   },
   {
    "duration": 225,
    "start_time": "2022-07-16T08:36:22.865Z"
   },
   {
    "duration": 1052,
    "start_time": "2022-07-16T09:07:46.632Z"
   },
   {
    "duration": 112,
    "start_time": "2022-07-16T09:07:47.686Z"
   },
   {
    "duration": 21,
    "start_time": "2022-07-16T09:07:47.800Z"
   },
   {
    "duration": 798,
    "start_time": "2022-07-16T09:07:47.823Z"
   },
   {
    "duration": 19,
    "start_time": "2022-07-16T09:07:48.625Z"
   },
   {
    "duration": 41,
    "start_time": "2022-07-16T09:07:48.646Z"
   },
   {
    "duration": 68,
    "start_time": "2022-07-16T09:07:48.689Z"
   },
   {
    "duration": 7,
    "start_time": "2022-07-16T09:07:48.759Z"
   },
   {
    "duration": 19,
    "start_time": "2022-07-16T09:07:48.768Z"
   },
   {
    "duration": 45126,
    "start_time": "2022-07-16T09:07:48.788Z"
   },
   {
    "duration": 13,
    "start_time": "2022-07-16T09:08:33.916Z"
   },
   {
    "duration": 50,
    "start_time": "2022-07-16T09:08:33.933Z"
   },
   {
    "duration": 11,
    "start_time": "2022-07-16T09:08:33.985Z"
   },
   {
    "duration": 69,
    "start_time": "2022-07-16T09:08:33.999Z"
   },
   {
    "duration": 5,
    "start_time": "2022-07-16T09:08:34.070Z"
   },
   {
    "duration": 17,
    "start_time": "2022-07-16T09:08:34.077Z"
   },
   {
    "duration": 221,
    "start_time": "2022-07-16T09:08:34.096Z"
   },
   {
    "duration": 9,
    "start_time": "2022-07-16T09:08:34.321Z"
   },
   {
    "duration": 298,
    "start_time": "2022-07-16T09:08:34.332Z"
   },
   {
    "duration": 21,
    "start_time": "2022-07-16T09:08:34.631Z"
   },
   {
    "duration": 11,
    "start_time": "2022-07-16T09:08:34.653Z"
   },
   {
    "duration": 9,
    "start_time": "2022-07-16T09:08:34.666Z"
   },
   {
    "duration": 394,
    "start_time": "2022-07-16T09:08:34.677Z"
   },
   {
    "duration": 394,
    "start_time": "2022-07-16T09:08:35.072Z"
   },
   {
    "duration": 212,
    "start_time": "2022-07-16T09:08:35.469Z"
   },
   {
    "duration": 256,
    "start_time": "2022-07-16T09:08:35.682Z"
   },
   {
    "duration": 247,
    "start_time": "2022-07-16T09:08:35.939Z"
   },
   {
    "duration": 166,
    "start_time": "2022-07-16T09:08:36.188Z"
   },
   {
    "duration": 159,
    "start_time": "2022-07-16T09:08:36.356Z"
   },
   {
    "duration": 164,
    "start_time": "2022-07-16T09:08:36.516Z"
   },
   {
    "duration": 241,
    "start_time": "2022-07-16T09:08:36.681Z"
   },
   {
    "duration": 186,
    "start_time": "2022-07-16T09:08:36.923Z"
   },
   {
    "duration": 164,
    "start_time": "2022-07-16T09:08:37.116Z"
   },
   {
    "duration": 214,
    "start_time": "2022-07-16T09:08:37.281Z"
   },
   {
    "duration": 311,
    "start_time": "2022-07-16T09:08:37.497Z"
   },
   {
    "duration": 294,
    "start_time": "2022-07-16T09:08:37.809Z"
   },
   {
    "duration": 38,
    "start_time": "2022-07-16T09:08:38.105Z"
   },
   {
    "duration": 21,
    "start_time": "2022-07-16T09:08:38.146Z"
   },
   {
    "duration": 21,
    "start_time": "2022-07-16T09:08:38.169Z"
   },
   {
    "duration": 240,
    "start_time": "2022-07-16T09:08:38.192Z"
   },
   {
    "duration": 17,
    "start_time": "2022-07-16T09:08:38.436Z"
   },
   {
    "duration": 17,
    "start_time": "2022-07-16T09:08:38.454Z"
   },
   {
    "duration": 32,
    "start_time": "2022-07-16T09:08:38.472Z"
   },
   {
    "duration": 19,
    "start_time": "2022-07-16T09:08:38.506Z"
   },
   {
    "duration": 28,
    "start_time": "2022-07-16T09:08:38.530Z"
   },
   {
    "duration": 24,
    "start_time": "2022-07-16T09:08:38.559Z"
   },
   {
    "duration": 24,
    "start_time": "2022-07-16T09:08:38.584Z"
   },
   {
    "duration": 48,
    "start_time": "2022-07-16T09:08:38.610Z"
   },
   {
    "duration": 12,
    "start_time": "2022-07-16T09:08:38.660Z"
   },
   {
    "duration": 17,
    "start_time": "2022-07-16T09:08:38.673Z"
   },
   {
    "duration": 8,
    "start_time": "2022-07-16T09:08:38.692Z"
   },
   {
    "duration": 215,
    "start_time": "2022-07-16T09:09:32.525Z"
   },
   {
    "duration": 217,
    "start_time": "2022-07-16T09:10:06.032Z"
   },
   {
    "duration": 341,
    "start_time": "2022-07-16T09:14:29.879Z"
   },
   {
    "duration": 274,
    "start_time": "2022-07-16T09:14:33.755Z"
   },
   {
    "duration": 228,
    "start_time": "2022-07-16T09:15:18.240Z"
   },
   {
    "duration": 248,
    "start_time": "2022-07-16T09:15:54.225Z"
   },
   {
    "duration": 251,
    "start_time": "2022-07-16T09:23:31.192Z"
   },
   {
    "duration": 14,
    "start_time": "2022-07-16T09:33:41.761Z"
   },
   {
    "duration": 11,
    "start_time": "2022-07-16T09:34:21.349Z"
   },
   {
    "duration": 9,
    "start_time": "2022-07-16T10:00:51.353Z"
   },
   {
    "duration": 15,
    "start_time": "2022-07-16T10:01:05.060Z"
   },
   {
    "duration": 10,
    "start_time": "2022-07-16T10:01:21.482Z"
   },
   {
    "duration": 11,
    "start_time": "2022-07-16T10:05:29.408Z"
   },
   {
    "duration": 10,
    "start_time": "2022-07-16T10:06:34.035Z"
   },
   {
    "duration": 10,
    "start_time": "2022-07-16T10:06:40.860Z"
   },
   {
    "duration": 10,
    "start_time": "2022-07-16T10:07:00.113Z"
   },
   {
    "duration": 10,
    "start_time": "2022-07-16T10:07:10.327Z"
   },
   {
    "duration": 11,
    "start_time": "2022-07-16T10:07:27.242Z"
   },
   {
    "duration": 9,
    "start_time": "2022-07-16T10:07:57.428Z"
   },
   {
    "duration": 45,
    "start_time": "2022-07-16T10:52:09.556Z"
   },
   {
    "duration": 6,
    "start_time": "2022-07-16T10:52:09.838Z"
   },
   {
    "duration": 1019,
    "start_time": "2022-07-16T10:52:14.361Z"
   },
   {
    "duration": 141,
    "start_time": "2022-07-16T10:52:15.382Z"
   },
   {
    "duration": 22,
    "start_time": "2022-07-16T10:52:15.524Z"
   },
   {
    "duration": 678,
    "start_time": "2022-07-16T10:52:15.549Z"
   },
   {
    "duration": 14,
    "start_time": "2022-07-16T10:52:16.229Z"
   },
   {
    "duration": 5,
    "start_time": "2022-07-16T10:52:16.245Z"
   },
   {
    "duration": 26,
    "start_time": "2022-07-16T10:52:16.252Z"
   },
   {
    "duration": 20,
    "start_time": "2022-07-16T10:52:16.280Z"
   },
   {
    "duration": 16,
    "start_time": "2022-07-16T10:52:16.302Z"
   },
   {
    "duration": 37671,
    "start_time": "2022-07-16T10:52:16.321Z"
   },
   {
    "duration": 8,
    "start_time": "2022-07-16T10:52:53.994Z"
   },
   {
    "duration": 20,
    "start_time": "2022-07-16T10:52:54.004Z"
   },
   {
    "duration": 6,
    "start_time": "2022-07-16T10:52:54.025Z"
   },
   {
    "duration": 17,
    "start_time": "2022-07-16T10:52:54.032Z"
   },
   {
    "duration": 4,
    "start_time": "2022-07-16T10:52:54.050Z"
   },
   {
    "duration": 13,
    "start_time": "2022-07-16T10:52:54.056Z"
   },
   {
    "duration": 191,
    "start_time": "2022-07-16T10:52:54.071Z"
   },
   {
    "duration": 7,
    "start_time": "2022-07-16T10:52:54.264Z"
   },
   {
    "duration": 238,
    "start_time": "2022-07-16T10:52:54.272Z"
   },
   {
    "duration": 14,
    "start_time": "2022-07-16T10:52:54.511Z"
   },
   {
    "duration": 8,
    "start_time": "2022-07-16T10:52:54.527Z"
   },
   {
    "duration": 10,
    "start_time": "2022-07-16T10:52:54.537Z"
   },
   {
    "duration": 276,
    "start_time": "2022-07-16T10:52:54.549Z"
   },
   {
    "duration": 353,
    "start_time": "2022-07-16T10:52:54.827Z"
   },
   {
    "duration": 194,
    "start_time": "2022-07-16T10:52:55.182Z"
   },
   {
    "duration": 258,
    "start_time": "2022-07-16T10:52:55.379Z"
   },
   {
    "duration": 223,
    "start_time": "2022-07-16T10:52:55.639Z"
   },
   {
    "duration": 134,
    "start_time": "2022-07-16T10:52:55.866Z"
   },
   {
    "duration": 136,
    "start_time": "2022-07-16T10:52:56.002Z"
   },
   {
    "duration": 148,
    "start_time": "2022-07-16T10:52:56.140Z"
   },
   {
    "duration": 139,
    "start_time": "2022-07-16T10:52:56.289Z"
   },
   {
    "duration": 147,
    "start_time": "2022-07-16T10:52:56.429Z"
   },
   {
    "duration": 216,
    "start_time": "2022-07-16T10:52:56.577Z"
   },
   {
    "duration": 180,
    "start_time": "2022-07-16T10:52:56.800Z"
   },
   {
    "duration": 247,
    "start_time": "2022-07-16T10:52:56.982Z"
   },
   {
    "duration": 249,
    "start_time": "2022-07-16T10:52:57.231Z"
   },
   {
    "duration": 22,
    "start_time": "2022-07-16T10:52:57.481Z"
   },
   {
    "duration": 15,
    "start_time": "2022-07-16T10:52:57.505Z"
   },
   {
    "duration": 15,
    "start_time": "2022-07-16T10:52:57.522Z"
   },
   {
    "duration": 231,
    "start_time": "2022-07-16T10:52:57.538Z"
   },
   {
    "duration": 15,
    "start_time": "2022-07-16T10:52:57.770Z"
   },
   {
    "duration": 28,
    "start_time": "2022-07-16T10:52:57.786Z"
   },
   {
    "duration": 14,
    "start_time": "2022-07-16T10:52:57.816Z"
   },
   {
    "duration": 274,
    "start_time": "2022-07-16T10:52:57.832Z"
   },
   {
    "duration": 10,
    "start_time": "2022-07-16T10:52:58.108Z"
   },
   {
    "duration": 10,
    "start_time": "2022-07-16T10:52:58.121Z"
   },
   {
    "duration": 12,
    "start_time": "2022-07-16T10:52:58.132Z"
   },
   {
    "duration": 196,
    "start_time": "2022-07-16T10:52:58.146Z"
   },
   {
    "duration": 15,
    "start_time": "2022-07-16T10:52:58.344Z"
   },
   {
    "duration": 20,
    "start_time": "2022-07-16T10:52:58.360Z"
   },
   {
    "duration": 10,
    "start_time": "2022-07-16T10:52:58.381Z"
   },
   {
    "duration": 24,
    "start_time": "2022-07-16T10:52:58.401Z"
   },
   {
    "duration": 17,
    "start_time": "2022-07-16T10:52:58.427Z"
   },
   {
    "duration": 52,
    "start_time": "2022-07-16T10:52:58.445Z"
   },
   {
    "duration": 3,
    "start_time": "2022-07-16T10:52:58.499Z"
   },
   {
    "duration": 13,
    "start_time": "2022-07-16T10:52:58.504Z"
   },
   {
    "duration": 99,
    "start_time": "2022-07-16T10:52:58.518Z"
   },
   {
    "duration": 0,
    "start_time": "2022-07-16T10:52:58.618Z"
   },
   {
    "duration": 0,
    "start_time": "2022-07-16T10:52:58.619Z"
   },
   {
    "duration": 0,
    "start_time": "2022-07-16T10:52:58.621Z"
   },
   {
    "duration": 0,
    "start_time": "2022-07-16T10:52:58.622Z"
   },
   {
    "duration": 2,
    "start_time": "2022-07-16T10:53:27.867Z"
   },
   {
    "duration": 4,
    "start_time": "2022-07-16T10:53:31.232Z"
   },
   {
    "duration": 4,
    "start_time": "2022-07-16T10:53:31.928Z"
   },
   {
    "duration": 6,
    "start_time": "2022-07-16T10:53:32.718Z"
   },
   {
    "duration": 51,
    "start_time": "2022-07-16T10:53:32.727Z"
   },
   {
    "duration": 573,
    "start_time": "2022-07-16T10:53:33.319Z"
   },
   {
    "duration": 981,
    "start_time": "2022-07-16T10:53:42.245Z"
   },
   {
    "duration": 108,
    "start_time": "2022-07-16T10:53:43.228Z"
   },
   {
    "duration": 18,
    "start_time": "2022-07-16T10:53:43.338Z"
   },
   {
    "duration": 715,
    "start_time": "2022-07-16T10:53:43.357Z"
   },
   {
    "duration": 14,
    "start_time": "2022-07-16T10:53:44.074Z"
   },
   {
    "duration": 13,
    "start_time": "2022-07-16T10:53:44.090Z"
   },
   {
    "duration": 21,
    "start_time": "2022-07-16T10:53:44.105Z"
   },
   {
    "duration": 6,
    "start_time": "2022-07-16T10:53:44.128Z"
   },
   {
    "duration": 18,
    "start_time": "2022-07-16T10:53:44.135Z"
   },
   {
    "duration": 37703,
    "start_time": "2022-07-16T10:53:44.154Z"
   },
   {
    "duration": 5,
    "start_time": "2022-07-16T10:54:21.859Z"
   },
   {
    "duration": 13,
    "start_time": "2022-07-16T10:54:21.866Z"
   },
   {
    "duration": 5,
    "start_time": "2022-07-16T10:54:21.880Z"
   },
   {
    "duration": 22,
    "start_time": "2022-07-16T10:54:21.888Z"
   },
   {
    "duration": 4,
    "start_time": "2022-07-16T10:54:21.912Z"
   },
   {
    "duration": 15,
    "start_time": "2022-07-16T10:54:21.918Z"
   },
   {
    "duration": 186,
    "start_time": "2022-07-16T10:54:21.934Z"
   },
   {
    "duration": 6,
    "start_time": "2022-07-16T10:54:22.122Z"
   },
   {
    "duration": 232,
    "start_time": "2022-07-16T10:54:22.129Z"
   },
   {
    "duration": 15,
    "start_time": "2022-07-16T10:54:22.362Z"
   },
   {
    "duration": 23,
    "start_time": "2022-07-16T10:54:22.378Z"
   },
   {
    "duration": 8,
    "start_time": "2022-07-16T10:54:22.402Z"
   },
   {
    "duration": 311,
    "start_time": "2022-07-16T10:54:22.412Z"
   },
   {
    "duration": 285,
    "start_time": "2022-07-16T10:54:22.725Z"
   },
   {
    "duration": 138,
    "start_time": "2022-07-16T10:54:23.012Z"
   },
   {
    "duration": 215,
    "start_time": "2022-07-16T10:54:23.152Z"
   },
   {
    "duration": 235,
    "start_time": "2022-07-16T10:54:23.368Z"
   },
   {
    "duration": 130,
    "start_time": "2022-07-16T10:54:23.604Z"
   },
   {
    "duration": 134,
    "start_time": "2022-07-16T10:54:23.735Z"
   },
   {
    "duration": 164,
    "start_time": "2022-07-16T10:54:23.870Z"
   },
   {
    "duration": 198,
    "start_time": "2022-07-16T10:54:24.035Z"
   },
   {
    "duration": 143,
    "start_time": "2022-07-16T10:54:24.234Z"
   },
   {
    "duration": 158,
    "start_time": "2022-07-16T10:54:24.379Z"
   },
   {
    "duration": 191,
    "start_time": "2022-07-16T10:54:24.539Z"
   },
   {
    "duration": 249,
    "start_time": "2022-07-16T10:54:24.732Z"
   },
   {
    "duration": 252,
    "start_time": "2022-07-16T10:54:24.982Z"
   },
   {
    "duration": 20,
    "start_time": "2022-07-16T10:54:25.236Z"
   },
   {
    "duration": 26,
    "start_time": "2022-07-16T10:54:25.257Z"
   },
   {
    "duration": 19,
    "start_time": "2022-07-16T10:54:25.301Z"
   },
   {
    "duration": 244,
    "start_time": "2022-07-16T10:54:25.322Z"
   },
   {
    "duration": 13,
    "start_time": "2022-07-16T10:54:25.570Z"
   },
   {
    "duration": 24,
    "start_time": "2022-07-16T10:54:25.585Z"
   },
   {
    "duration": 12,
    "start_time": "2022-07-16T10:54:25.611Z"
   },
   {
    "duration": 243,
    "start_time": "2022-07-16T10:54:25.624Z"
   },
   {
    "duration": 10,
    "start_time": "2022-07-16T10:54:25.869Z"
   },
   {
    "duration": 24,
    "start_time": "2022-07-16T10:54:25.881Z"
   },
   {
    "duration": 9,
    "start_time": "2022-07-16T10:54:25.907Z"
   },
   {
    "duration": 167,
    "start_time": "2022-07-16T10:54:25.918Z"
   },
   {
    "duration": 19,
    "start_time": "2022-07-16T10:54:26.086Z"
   },
   {
    "duration": 19,
    "start_time": "2022-07-16T10:54:26.106Z"
   },
   {
    "duration": 11,
    "start_time": "2022-07-16T10:54:26.126Z"
   },
   {
    "duration": 15,
    "start_time": "2022-07-16T10:54:26.139Z"
   },
   {
    "duration": 95,
    "start_time": "2022-07-16T10:54:26.156Z"
   },
   {
    "duration": 7,
    "start_time": "2022-07-16T10:54:26.253Z"
   },
   {
    "duration": 53,
    "start_time": "2022-07-16T10:54:26.261Z"
   },
   {
    "duration": 3,
    "start_time": "2022-07-16T10:54:26.315Z"
   },
   {
    "duration": 13,
    "start_time": "2022-07-16T10:54:26.320Z"
   },
   {
    "duration": 26,
    "start_time": "2022-07-16T10:54:26.335Z"
   },
   {
    "duration": 13,
    "start_time": "2022-07-16T10:54:26.363Z"
   },
   {
    "duration": 15,
    "start_time": "2022-07-16T10:54:26.377Z"
   },
   {
    "duration": 10,
    "start_time": "2022-07-16T10:54:26.394Z"
   },
   {
    "duration": 617,
    "start_time": "2022-07-16T10:54:26.405Z"
   }
  ],
  "kernelspec": {
   "display_name": "Python 3 (ipykernel)",
   "language": "python",
   "name": "python3"
  },
  "language_info": {
   "codemirror_mode": {
    "name": "ipython",
    "version": 3
   },
   "file_extension": ".py",
   "mimetype": "text/x-python",
   "name": "python",
   "nbconvert_exporter": "python",
   "pygments_lexer": "ipython3",
   "version": "3.9.12"
  },
  "toc": {
   "base_numbering": 1,
   "nav_menu": {},
   "number_sections": true,
   "sideBar": true,
   "skip_h1_title": true,
   "title_cell": "Table of Contents",
   "title_sidebar": "Contents",
   "toc_cell": false,
   "toc_position": {
    "height": "calc(100% - 180px)",
    "left": "10px",
    "top": "150px",
    "width": "165px"
   },
   "toc_section_display": true,
   "toc_window_display": true
  }
 },
 "nbformat": 4,
 "nbformat_minor": 2
}
