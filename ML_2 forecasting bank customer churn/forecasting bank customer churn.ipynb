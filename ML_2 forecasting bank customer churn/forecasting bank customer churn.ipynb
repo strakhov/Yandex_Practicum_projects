{
 "cells": [
  {
   "cell_type": "markdown",
   "metadata": {
    "toc": true
   },
   "source": [
    "<h1>Содержание<span class=\"tocSkip\"></span></h1>\n",
    "<div class=\"toc\"><ul class=\"toc-item\"><li><span><a href=\"#Подготовка-данных\" data-toc-modified-id=\"Подготовка-данных-1\"><span class=\"toc-item-num\">1&nbsp;&nbsp;</span>Подготовка данных</a></span><ul class=\"toc-item\"><li><span><a href=\"#Предобработка-данных\" data-toc-modified-id=\"Предобработка-данных-1.1\"><span class=\"toc-item-num\">1.1&nbsp;&nbsp;</span>Предобработка данных</a></span></li><li><span><a href=\"#Подготовка-данных\" data-toc-modified-id=\"Подготовка-данных-1.2\"><span class=\"toc-item-num\">1.2&nbsp;&nbsp;</span>Подготовка данных</a></span></li></ul></li><li><span><a href=\"#Исследование-задачи\" data-toc-modified-id=\"Исследование-задачи-2\"><span class=\"toc-item-num\">2&nbsp;&nbsp;</span>Исследование задачи</a></span><ul class=\"toc-item\"><li><span><a href=\"#Модель-решающего-дерева\" data-toc-modified-id=\"Модель-решающего-дерева-2.1\"><span class=\"toc-item-num\">2.1&nbsp;&nbsp;</span>Модель решающего дерева</a></span></li><li><span><a href=\"#Случайный-лес\" data-toc-modified-id=\"Случайный-лес-2.2\"><span class=\"toc-item-num\">2.2&nbsp;&nbsp;</span>Случайный лес</a></span></li><li><span><a href=\"#Логистическая-регрессия\" data-toc-modified-id=\"Логистическая-регрессия-2.3\"><span class=\"toc-item-num\">2.3&nbsp;&nbsp;</span>Логистическая регрессия</a></span></li></ul></li><li><span><a href=\"#Борьба-с-дисбалансом\" data-toc-modified-id=\"Борьба-с-дисбалансом-3\"><span class=\"toc-item-num\">3&nbsp;&nbsp;</span>Борьба с дисбалансом</a></span></li><li><span><a href=\"#Тестирование-модели\" data-toc-modified-id=\"Тестирование-модели-4\"><span class=\"toc-item-num\">4&nbsp;&nbsp;</span>Тестирование модели</a></span></li><li><span><a href=\"#Вывод\" data-toc-modified-id=\"Вывод-5\"><span class=\"toc-item-num\">5&nbsp;&nbsp;</span>Вывод</a></span></li></ul></div>"
   ]
  },
  {
   "cell_type": "markdown",
   "metadata": {},
   "source": [
    "# Прогнозирование оттока клиентов банка"
   ]
  },
  {
   "cell_type": "markdown",
   "metadata": {},
   "source": [
    "Из «Бета-Банка» стали уходить клиенты. Каждый месяц. Немного, но заметно. Банковские маркетологи посчитали: сохранять текущих клиентов дешевле, чем привлекать новых.\n",
    "\n",
    "Нужно спрогнозировать, уйдёт клиент из банка в ближайшее время или нет. Нам предоставлены исторические данные о поведении клиентов и расторжении договоров с банком. \n",
    "\n",
    "Для решения задачи нужно построить модель с предельно большим значением *F1*-score, по меньшей мере 0.59 как на валидационной, так и на тестовой выборках.\n",
    "\n",
    "Для дополнительного контроля буду использовать метрику *AUC-ROC*, и на основании двух метрик выберу модель которая наилучшим образом будет прогнозировать ухода клиентов.\n",
    "\n",
    "План работы:\n",
    "1. Предобработать и подготовить данные к обучению.\n",
    "2. Обучить несколько моделей, выбрать наиболее подходящие.\n",
    "3. Замерить метрики F1, AUC-ROC, довести их до максимума перебором параметров и\\или манипуляциями с обучающей выборкой.\n",
    "4. Проверить лучшую модель на тестовой выборке.\n",
    "\n",
    "Источник данных: [https://www.kaggle.com/barelydedicated/bank-customer-churn-modeling](https://www.kaggle.com/barelydedicated/bank-customer-churn-modeling)"
   ]
  },
  {
   "cell_type": "markdown",
   "metadata": {},
   "source": [
    "## Подготовка данных"
   ]
  },
  {
   "cell_type": "markdown",
   "metadata": {},
   "source": [
    "### Предобработка данных"
   ]
  },
  {
   "cell_type": "code",
   "execution_count": 1,
   "metadata": {},
   "outputs": [],
   "source": [
    "import pandas as pd\n",
    "import matplotlib.pyplot as plt\n",
    "from sklearn.linear_model import LogisticRegression\n",
    "from sklearn.tree import DecisionTreeClassifier\n",
    "from sklearn.ensemble import RandomForestClassifier\n",
    "from sklearn.model_selection import GridSearchCV\n",
    "from sklearn.model_selection import train_test_split\n",
    "from sklearn.preprocessing import StandardScaler\n",
    "from sklearn.utils import shuffle\n",
    "from sklearn.metrics import accuracy_score\n",
    "from sklearn.metrics import f1_score\n",
    "from sklearn.metrics import roc_curve\n",
    "from sklearn.metrics import roc_auc_score"
   ]
  },
  {
   "cell_type": "code",
   "execution_count": 2,
   "metadata": {},
   "outputs": [
    {
     "data": {
      "text/html": [
       "<div>\n",
       "<style scoped>\n",
       "    .dataframe tbody tr th:only-of-type {\n",
       "        vertical-align: middle;\n",
       "    }\n",
       "\n",
       "    .dataframe tbody tr th {\n",
       "        vertical-align: top;\n",
       "    }\n",
       "\n",
       "    .dataframe thead th {\n",
       "        text-align: right;\n",
       "    }\n",
       "</style>\n",
       "<table border=\"1\" class=\"dataframe\">\n",
       "  <thead>\n",
       "    <tr style=\"text-align: right;\">\n",
       "      <th></th>\n",
       "      <th>RowNumber</th>\n",
       "      <th>CustomerId</th>\n",
       "      <th>Surname</th>\n",
       "      <th>CreditScore</th>\n",
       "      <th>Geography</th>\n",
       "      <th>Gender</th>\n",
       "      <th>Age</th>\n",
       "      <th>Tenure</th>\n",
       "      <th>Balance</th>\n",
       "      <th>NumOfProducts</th>\n",
       "      <th>HasCrCard</th>\n",
       "      <th>IsActiveMember</th>\n",
       "      <th>EstimatedSalary</th>\n",
       "      <th>Exited</th>\n",
       "    </tr>\n",
       "  </thead>\n",
       "  <tbody>\n",
       "    <tr>\n",
       "      <th>0</th>\n",
       "      <td>1</td>\n",
       "      <td>15634602</td>\n",
       "      <td>Hargrave</td>\n",
       "      <td>619</td>\n",
       "      <td>France</td>\n",
       "      <td>Female</td>\n",
       "      <td>42</td>\n",
       "      <td>2.0</td>\n",
       "      <td>0.00</td>\n",
       "      <td>1</td>\n",
       "      <td>1</td>\n",
       "      <td>1</td>\n",
       "      <td>101348.88</td>\n",
       "      <td>1</td>\n",
       "    </tr>\n",
       "    <tr>\n",
       "      <th>1</th>\n",
       "      <td>2</td>\n",
       "      <td>15647311</td>\n",
       "      <td>Hill</td>\n",
       "      <td>608</td>\n",
       "      <td>Spain</td>\n",
       "      <td>Female</td>\n",
       "      <td>41</td>\n",
       "      <td>1.0</td>\n",
       "      <td>83807.86</td>\n",
       "      <td>1</td>\n",
       "      <td>0</td>\n",
       "      <td>1</td>\n",
       "      <td>112542.58</td>\n",
       "      <td>0</td>\n",
       "    </tr>\n",
       "    <tr>\n",
       "      <th>2</th>\n",
       "      <td>3</td>\n",
       "      <td>15619304</td>\n",
       "      <td>Onio</td>\n",
       "      <td>502</td>\n",
       "      <td>France</td>\n",
       "      <td>Female</td>\n",
       "      <td>42</td>\n",
       "      <td>8.0</td>\n",
       "      <td>159660.80</td>\n",
       "      <td>3</td>\n",
       "      <td>1</td>\n",
       "      <td>0</td>\n",
       "      <td>113931.57</td>\n",
       "      <td>1</td>\n",
       "    </tr>\n",
       "    <tr>\n",
       "      <th>3</th>\n",
       "      <td>4</td>\n",
       "      <td>15701354</td>\n",
       "      <td>Boni</td>\n",
       "      <td>699</td>\n",
       "      <td>France</td>\n",
       "      <td>Female</td>\n",
       "      <td>39</td>\n",
       "      <td>1.0</td>\n",
       "      <td>0.00</td>\n",
       "      <td>2</td>\n",
       "      <td>0</td>\n",
       "      <td>0</td>\n",
       "      <td>93826.63</td>\n",
       "      <td>0</td>\n",
       "    </tr>\n",
       "    <tr>\n",
       "      <th>4</th>\n",
       "      <td>5</td>\n",
       "      <td>15737888</td>\n",
       "      <td>Mitchell</td>\n",
       "      <td>850</td>\n",
       "      <td>Spain</td>\n",
       "      <td>Female</td>\n",
       "      <td>43</td>\n",
       "      <td>2.0</td>\n",
       "      <td>125510.82</td>\n",
       "      <td>1</td>\n",
       "      <td>1</td>\n",
       "      <td>1</td>\n",
       "      <td>79084.10</td>\n",
       "      <td>0</td>\n",
       "    </tr>\n",
       "  </tbody>\n",
       "</table>\n",
       "</div>"
      ],
      "text/plain": [
       "   RowNumber  CustomerId   Surname  CreditScore Geography  Gender  Age  \\\n",
       "0          1    15634602  Hargrave          619    France  Female   42   \n",
       "1          2    15647311      Hill          608     Spain  Female   41   \n",
       "2          3    15619304      Onio          502    France  Female   42   \n",
       "3          4    15701354      Boni          699    France  Female   39   \n",
       "4          5    15737888  Mitchell          850     Spain  Female   43   \n",
       "\n",
       "   Tenure    Balance  NumOfProducts  HasCrCard  IsActiveMember  \\\n",
       "0     2.0       0.00              1          1               1   \n",
       "1     1.0   83807.86              1          0               1   \n",
       "2     8.0  159660.80              3          1               0   \n",
       "3     1.0       0.00              2          0               0   \n",
       "4     2.0  125510.82              1          1               1   \n",
       "\n",
       "   EstimatedSalary  Exited  \n",
       "0        101348.88       1  \n",
       "1        112542.58       0  \n",
       "2        113931.57       1  \n",
       "3         93826.63       0  \n",
       "4         79084.10       0  "
      ]
     },
     "metadata": {},
     "output_type": "display_data"
    },
    {
     "name": "stdout",
     "output_type": "stream",
     "text": [
      "<class 'pandas.core.frame.DataFrame'>\n",
      "RangeIndex: 10000 entries, 0 to 9999\n",
      "Data columns (total 14 columns):\n",
      " #   Column           Non-Null Count  Dtype  \n",
      "---  ------           --------------  -----  \n",
      " 0   RowNumber        10000 non-null  int64  \n",
      " 1   CustomerId       10000 non-null  int64  \n",
      " 2   Surname          10000 non-null  object \n",
      " 3   CreditScore      10000 non-null  int64  \n",
      " 4   Geography        10000 non-null  object \n",
      " 5   Gender           10000 non-null  object \n",
      " 6   Age              10000 non-null  int64  \n",
      " 7   Tenure           9091 non-null   float64\n",
      " 8   Balance          10000 non-null  float64\n",
      " 9   NumOfProducts    10000 non-null  int64  \n",
      " 10  HasCrCard        10000 non-null  int64  \n",
      " 11  IsActiveMember   10000 non-null  int64  \n",
      " 12  EstimatedSalary  10000 non-null  float64\n",
      " 13  Exited           10000 non-null  int64  \n",
      "dtypes: float64(3), int64(8), object(3)\n",
      "memory usage: 1.1+ MB\n"
     ]
    }
   ],
   "source": [
    "data = pd.read_csv('/datasets/Churn.csv')\n",
    "display(data.head(5))\n",
    "data.info()"
   ]
  },
  {
   "cell_type": "markdown",
   "metadata": {},
   "source": [
    "Как обычно, в данных есть проблемы:\n",
    "1. Регистр названий столбцов\n",
    "2. Пропуски в столбце Tenure\n",
    "3. Лишний столбец с индексами - может мешать обучению модели"
   ]
  },
  {
   "cell_type": "code",
   "execution_count": 3,
   "metadata": {},
   "outputs": [],
   "source": [
    "#смена регистра\n",
    "data = data.rename(columns={'RowNumber': 'row_number',\n",
    "                            'CustomerId': 'customer_id',\n",
    "                            'Surname': 'surname',\n",
    "                            'CreditScore': 'credit_score',\n",
    "                            'Geography': 'geography',\n",
    "                            'Gender': 'gender',\n",
    "                            'Age': 'age',\n",
    "                            'Tenure': 'tenure',\n",
    "                            'Balance': 'balance',\n",
    "                            'NumOfProducts': 'num_of_products',\n",
    "                            'HasCrCard': 'has_cr_card',\n",
    "                            'IsActiveMember': 'is_active_member',\n",
    "                            'EstimatedSalary': 'estimated_salary',\n",
    "                            'Exited': 'exited'})"
   ]
  },
  {
   "cell_type": "code",
   "execution_count": 4,
   "metadata": {},
   "outputs": [
    {
     "data": {
      "text/plain": [
       "-0.016761481514933764"
      ]
     },
     "execution_count": 4,
     "metadata": {},
     "output_type": "execute_result"
    }
   ],
   "source": [
    "data['tenure'].corr(data['exited'])"
   ]
  },
  {
   "cell_type": "markdown",
   "metadata": {},
   "source": [
    "Линейная корреляция между tenure и целевым признаком exited отсутствует, поэтому пропуски в столбце tenure можно заполнить, например нулем"
   ]
  },
  {
   "cell_type": "code",
   "execution_count": 5,
   "metadata": {},
   "outputs": [],
   "source": [
    "data['tenure'] = data['tenure'].fillna(0)"
   ]
  },
  {
   "cell_type": "code",
   "execution_count": 6,
   "metadata": {},
   "outputs": [
    {
     "name": "stdout",
     "output_type": "stream",
     "text": [
      "<class 'pandas.core.frame.DataFrame'>\n",
      "RangeIndex: 10000 entries, 0 to 9999\n",
      "Data columns (total 14 columns):\n",
      " #   Column            Non-Null Count  Dtype  \n",
      "---  ------            --------------  -----  \n",
      " 0   row_number        10000 non-null  int64  \n",
      " 1   customer_id       10000 non-null  int64  \n",
      " 2   surname           10000 non-null  object \n",
      " 3   credit_score      10000 non-null  int64  \n",
      " 4   geography         10000 non-null  object \n",
      " 5   gender            10000 non-null  object \n",
      " 6   age               10000 non-null  int64  \n",
      " 7   tenure            10000 non-null  float64\n",
      " 8   balance           10000 non-null  float64\n",
      " 9   num_of_products   10000 non-null  int64  \n",
      " 10  has_cr_card       10000 non-null  int64  \n",
      " 11  is_active_member  10000 non-null  int64  \n",
      " 12  estimated_salary  10000 non-null  float64\n",
      " 13  exited            10000 non-null  int64  \n",
      "dtypes: float64(3), int64(8), object(3)\n",
      "memory usage: 1.1+ MB\n"
     ]
    }
   ],
   "source": [
    "#удаляем неинформативные столбцы, чтобы они не мешали обучению и смотрим info\n",
    "\n",
    "data_dropped = data.drop(['row_number', 'customer_id', 'surname'], axis=1)\n",
    "data.info()"
   ]
  },
  {
   "cell_type": "markdown",
   "metadata": {},
   "source": [
    "### Подготовка данных"
   ]
  },
  {
   "cell_type": "markdown",
   "metadata": {},
   "source": [
    "Для подготовки данных к обучению необходимо преобразовать категориальные признаки в количественные методом OHE.\n",
    "У количественных признаков разный масштаб - их необходимо масштабировать."
   ]
  },
  {
   "cell_type": "code",
   "execution_count": 7,
   "metadata": {},
   "outputs": [
    {
     "name": "stdout",
     "output_type": "stream",
     "text": [
      "(6000, 11)\n",
      "(6000,)\n",
      "(2000, 11)\n",
      "(2000,)\n",
      "(2000, 11)\n",
      "(2000,)\n"
     ]
    }
   ],
   "source": [
    "#столбцы с id и фамилией для обучения не нужны, но при применении метода OHE превратятся\n",
    "#в сотни новых столбцов. Удаляю эти столбцы из таблицы\n",
    "\n",
    "target = data_dropped['exited']\n",
    "features = data_dropped.drop('exited', axis=1)\n",
    "\n",
    "features_ohe = pd.get_dummies(features, columns=['geography',\n",
    "                                                 'gender',\n",
    "                                                 'has_cr_card',\n",
    "                                                 'is_active_member'],\n",
    "                              drop_first=True)\n",
    "\n",
    "#делю датафрейм на обучающую (60%), валидационную (20%) и тестовую выборки (20%)\n",
    "features_train, features_vt, target_train, target_vt = train_test_split(\n",
    "    features_ohe, target, test_size=0.4, random_state=12345)\n",
    "\n",
    "features_valid, features_test, target_valid, target_test = train_test_split(\n",
    "    features_vt, target_vt, test_size=0.5, random_state=12345)\n",
    "\n",
    "#проверка размеров выборок\n",
    "print(features_train.shape)\n",
    "print(target_train.shape)\n",
    "print(features_valid.shape)\n",
    "print(target_valid.shape)\n",
    "print(features_test.shape)\n",
    "print(target_test.shape)"
   ]
  },
  {
   "cell_type": "code",
   "execution_count": 8,
   "metadata": {},
   "outputs": [
    {
     "name": "stderr",
     "output_type": "stream",
     "text": [
      "/opt/conda/lib/python3.9/site-packages/pandas/core/indexing.py:1738: SettingWithCopyWarning: \n",
      "A value is trying to be set on a copy of a slice from a DataFrame.\n",
      "Try using .loc[row_indexer,col_indexer] = value instead\n",
      "\n",
      "See the caveats in the documentation: https://pandas.pydata.org/pandas-docs/stable/user_guide/indexing.html#returning-a-view-versus-a-copy\n",
      "  self._setitem_single_column(loc, value[:, i].tolist(), pi)\n",
      "/opt/conda/lib/python3.9/site-packages/pandas/core/indexing.py:1738: SettingWithCopyWarning: \n",
      "A value is trying to be set on a copy of a slice from a DataFrame.\n",
      "Try using .loc[row_indexer,col_indexer] = value instead\n",
      "\n",
      "See the caveats in the documentation: https://pandas.pydata.org/pandas-docs/stable/user_guide/indexing.html#returning-a-view-versus-a-copy\n",
      "  self._setitem_single_column(loc, value[:, i].tolist(), pi)\n",
      "/opt/conda/lib/python3.9/site-packages/pandas/core/indexing.py:1738: SettingWithCopyWarning: \n",
      "A value is trying to be set on a copy of a slice from a DataFrame.\n",
      "Try using .loc[row_indexer,col_indexer] = value instead\n",
      "\n",
      "See the caveats in the documentation: https://pandas.pydata.org/pandas-docs/stable/user_guide/indexing.html#returning-a-view-versus-a-copy\n",
      "  self._setitem_single_column(loc, value[:, i].tolist(), pi)\n"
     ]
    }
   ],
   "source": [
    "#масштабирую количественные признаки\n",
    "numeric = ['credit_score', 'age', 'tenure', 'balance', 'estimated_salary']\n",
    "\n",
    "scaler = StandardScaler()\n",
    "scaler.fit(features_train[numeric])\n",
    "features_train.loc[:, numeric] = scaler.transform(features_train[numeric])\n",
    "features_valid.loc[:, numeric] = scaler.transform(features_valid[numeric])\n",
    "features_test.loc[:, numeric] = scaler.transform(features_test[numeric])"
   ]
  },
  {
   "cell_type": "code",
   "execution_count": 9,
   "metadata": {},
   "outputs": [
    {
     "data": {
      "text/html": [
       "<div>\n",
       "<style scoped>\n",
       "    .dataframe tbody tr th:only-of-type {\n",
       "        vertical-align: middle;\n",
       "    }\n",
       "\n",
       "    .dataframe tbody tr th {\n",
       "        vertical-align: top;\n",
       "    }\n",
       "\n",
       "    .dataframe thead th {\n",
       "        text-align: right;\n",
       "    }\n",
       "</style>\n",
       "<table border=\"1\" class=\"dataframe\">\n",
       "  <thead>\n",
       "    <tr style=\"text-align: right;\">\n",
       "      <th></th>\n",
       "      <th>credit_score</th>\n",
       "      <th>age</th>\n",
       "      <th>tenure</th>\n",
       "      <th>balance</th>\n",
       "      <th>num_of_products</th>\n",
       "      <th>estimated_salary</th>\n",
       "      <th>geography_Germany</th>\n",
       "      <th>geography_Spain</th>\n",
       "      <th>gender_Male</th>\n",
       "      <th>has_cr_card_1</th>\n",
       "      <th>is_active_member_1</th>\n",
       "    </tr>\n",
       "  </thead>\n",
       "  <tbody>\n",
       "    <tr>\n",
       "      <th>7479</th>\n",
       "      <td>-0.886751</td>\n",
       "      <td>-0.373192</td>\n",
       "      <td>1.104696</td>\n",
       "      <td>1.232271</td>\n",
       "      <td>1</td>\n",
       "      <td>-0.187705</td>\n",
       "      <td>0</td>\n",
       "      <td>1</td>\n",
       "      <td>1</td>\n",
       "      <td>1</td>\n",
       "      <td>0</td>\n",
       "    </tr>\n",
       "    <tr>\n",
       "      <th>3411</th>\n",
       "      <td>0.608663</td>\n",
       "      <td>-0.183385</td>\n",
       "      <td>1.104696</td>\n",
       "      <td>0.600563</td>\n",
       "      <td>1</td>\n",
       "      <td>-0.333945</td>\n",
       "      <td>0</td>\n",
       "      <td>0</td>\n",
       "      <td>0</td>\n",
       "      <td>0</td>\n",
       "      <td>0</td>\n",
       "    </tr>\n",
       "    <tr>\n",
       "      <th>6027</th>\n",
       "      <td>2.052152</td>\n",
       "      <td>0.480939</td>\n",
       "      <td>-0.503694</td>\n",
       "      <td>1.027098</td>\n",
       "      <td>2</td>\n",
       "      <td>1.503095</td>\n",
       "      <td>1</td>\n",
       "      <td>0</td>\n",
       "      <td>1</td>\n",
       "      <td>0</td>\n",
       "      <td>1</td>\n",
       "    </tr>\n",
       "    <tr>\n",
       "      <th>1247</th>\n",
       "      <td>-1.457915</td>\n",
       "      <td>-1.417129</td>\n",
       "      <td>0.461340</td>\n",
       "      <td>-1.233163</td>\n",
       "      <td>2</td>\n",
       "      <td>-1.071061</td>\n",
       "      <td>0</td>\n",
       "      <td>0</td>\n",
       "      <td>1</td>\n",
       "      <td>1</td>\n",
       "      <td>0</td>\n",
       "    </tr>\n",
       "    <tr>\n",
       "      <th>3716</th>\n",
       "      <td>0.130961</td>\n",
       "      <td>-1.132419</td>\n",
       "      <td>-0.825373</td>\n",
       "      <td>1.140475</td>\n",
       "      <td>1</td>\n",
       "      <td>1.524268</td>\n",
       "      <td>1</td>\n",
       "      <td>0</td>\n",
       "      <td>0</td>\n",
       "      <td>0</td>\n",
       "      <td>0</td>\n",
       "    </tr>\n",
       "  </tbody>\n",
       "</table>\n",
       "</div>"
      ],
      "text/plain": [
       "      credit_score       age    tenure   balance  num_of_products  \\\n",
       "7479     -0.886751 -0.373192  1.104696  1.232271                1   \n",
       "3411      0.608663 -0.183385  1.104696  0.600563                1   \n",
       "6027      2.052152  0.480939 -0.503694  1.027098                2   \n",
       "1247     -1.457915 -1.417129  0.461340 -1.233163                2   \n",
       "3716      0.130961 -1.132419 -0.825373  1.140475                1   \n",
       "\n",
       "      estimated_salary  geography_Germany  geography_Spain  gender_Male  \\\n",
       "7479         -0.187705                  0                1            1   \n",
       "3411         -0.333945                  0                0            0   \n",
       "6027          1.503095                  1                0            1   \n",
       "1247         -1.071061                  0                0            1   \n",
       "3716          1.524268                  1                0            0   \n",
       "\n",
       "      has_cr_card_1  is_active_member_1  \n",
       "7479              1                   0  \n",
       "3411              0                   0  \n",
       "6027              0                   1  \n",
       "1247              1                   0  \n",
       "3716              0                   0  "
      ]
     },
     "metadata": {},
     "output_type": "display_data"
    }
   ],
   "source": [
    "#проверка корректности OHE и масштабирования\n",
    "display(features_train.head(5))"
   ]
  },
  {
   "cell_type": "markdown",
   "metadata": {},
   "source": [
    "## Исследование задачи"
   ]
  },
  {
   "cell_type": "markdown",
   "metadata": {},
   "source": [
    "Попробуем обучить модели на несбалансированных признаках"
   ]
  },
  {
   "cell_type": "markdown",
   "metadata": {},
   "source": [
    "### Модель решающего дерева "
   ]
  },
  {
   "cell_type": "code",
   "execution_count": 10,
   "metadata": {},
   "outputs": [
    {
     "name": "stdout",
     "output_type": "stream",
     "text": [
      "Глубина лучшего дерева: 9\n",
      "Accuracy лучшего дерева: 0.848\n",
      "Лучшее значение f1: 0.5730337078651685\n"
     ]
    }
   ],
   "source": [
    "best_tree_model = None\n",
    "best_tree_accuracy = 0\n",
    "best_tree_f1 = 0\n",
    "best_tree_depth = 0\n",
    "\n",
    "for depth in range(1, 11):\n",
    "    tree_model = DecisionTreeClassifier(random_state=12345, max_depth=depth)\n",
    "    tree_model.fit(features_train, target_train)\n",
    "    predictions_tree_valid = tree_model.predict(features_valid)\n",
    "    result = f1_score(target_valid, predictions_tree_valid)\n",
    "    if result > best_tree_f1:\n",
    "        best_tree_model = tree_model\n",
    "        best_tree_accuracy = accuracy_score(target_valid, predictions_tree_valid)\n",
    "        best_tree_f1 = result\n",
    "        best_tree_depth = depth\n",
    "\n",
    "print('Глубина лучшего дерева:', best_tree_depth)\n",
    "print('Accuracy лучшего дерева:', best_tree_accuracy)\n",
    "print('Лучшее значение f1:', best_tree_f1)"
   ]
  },
  {
   "cell_type": "markdown",
   "metadata": {},
   "source": [
    "### Случайный лес"
   ]
  },
  {
   "cell_type": "code",
   "execution_count": 11,
   "metadata": {},
   "outputs": [
    {
     "name": "stdout",
     "output_type": "stream",
     "text": [
      "Лучшее значение F1: 0.5893129770992367\n",
      "Accuracy лучшей модели: 0.8655\n",
      "n_estimators = 50\n",
      "depth = 10\n",
      "CPU times: user 20.5 s, sys: 93.5 ms, total: 20.6 s\n",
      "Wall time: 20.6 s\n"
     ]
    }
   ],
   "source": [
    "%%time\n",
    "best_forest_model = None\n",
    "best_forest_f1 = 0\n",
    "best_forest_accuracy = 0\n",
    "best_est = 0\n",
    "best_depth = 0\n",
    "\n",
    "for depth in range(1, 11):\n",
    "    for est in range(10, 101, 10):\n",
    "        forest_model = RandomForestClassifier(random_state=12345, n_estimators=est, max_depth=depth)\n",
    "        forest_model.fit(features_train, target_train)\n",
    "        predictions_forest_valid = forest_model.predict(features_valid)\n",
    "        result = f1_score(target_valid, predictions_forest_valid)\n",
    "        if result > best_forest_f1:\n",
    "            best_forest_f1 = result\n",
    "            best_forest_accuracy = accuracy_score(target_valid, predictions_forest_valid)\n",
    "            best_forest_model = forest_model\n",
    "            best_est = est\n",
    "            best_depth = depth\n",
    "\n",
    "print('Лучшее значение F1:', best_forest_f1)\n",
    "print('Accuracy лучшей модели:', best_forest_accuracy)\n",
    "print('n_estimators =', best_est)\n",
    "print('depth =', best_depth)"
   ]
  },
  {
   "cell_type": "code",
   "execution_count": 12,
   "metadata": {},
   "outputs": [
    {
     "name": "stdout",
     "output_type": "stream",
     "text": [
      "F1 score: 0.5767441860465117\n",
      "AUC-ROC score: 0.8511151168347255\n"
     ]
    },
    {
     "data": {
      "image/png": "[encoded data removed]",
      "text/plain": [
       "<Figure size 432x288 with 1 Axes>"
      ]
     },
     "metadata": {
      "needs_background": "light"
     },
     "output_type": "display_data"
    }
   ],
   "source": [
    "model = RandomForestClassifier(random_state=12345, n_estimators=20, max_depth=10)\n",
    "model.fit(features_train, target_train)\n",
    "predictions_valid = model.predict(features_valid)\n",
    "print('F1 score:', f1_score(target_valid, predictions_valid))\n",
    "\n",
    "probabilities_valid = model.predict_proba(features_valid)\n",
    "probabilities_one_valid = probabilities_valid[:, 1]\n",
    "print('AUC-ROC score:', roc_auc_score(target_valid, probabilities_one_valid))\n",
    "\n",
    "fpr, tpr, thresholds = roc_curve(target_valid, probabilities_one_valid)\n",
    "\n",
    "plt.figure()\n",
    "plt.plot(fpr, tpr)\n",
    "\n",
    "# ROC-кривая случайной модели\n",
    "plt.plot([0, 1], [0, 1], linestyle='--')\n",
    "\n",
    "# установка границы осей от 0 до 1\n",
    "plt.ylim([0.0, 1.0])\n",
    "plt.xlim([0.0, 1.0])\n",
    "\n",
    "plt.xlabel('False Positive Rate')\n",
    "plt.ylabel('True Positive Rate')\n",
    "\n",
    "plt.title('ROC-кривая')\n",
    "plt.show()"
   ]
  },
  {
   "cell_type": "markdown",
   "metadata": {},
   "source": [
    "Модель демонстрирует относительно высокие показатели как по параметру F1 - выше 0.59, так и AUC-ROC - более 0.84. Пока непонятен результат на тестовой выборке, поэтому попробуем сделать модель еще лучше."
   ]
  },
  {
   "cell_type": "code",
   "execution_count": 13,
   "metadata": {},
   "outputs": [],
   "source": [
    "#%%time\n",
    "#попробуем найти лучшую модель другим способом - модулем gridCV\n",
    "#model_grid = RandomForestClassifier()\n",
    "\n",
    "#parametrs = { 'n_estimators': range (10, 101, 10),\n",
    "#              'max_depth': range (1, 11, 1),\n",
    "#              'min_samples_leaf': range (1, 8),\n",
    "#              'min_samples_split': range (2, 10, 2) }\n",
    "\n",
    "#grid = GridSearchCV(model_grid, parametrs, cv=5)\n",
    "#grid.fit(features_train, target_train)\n",
    "\n",
    "#grid.best_params_"
   ]
  },
  {
   "cell_type": "markdown",
   "metadata": {},
   "source": [
    "Ячейка с GridSearchCV выполнялась 46 минут, поэтому закомментирую ее и запомню здесь гиперпараметры, которые выдал алгоритм:\n",
    "\n",
    "{'max_depth': 10,\\\n",
    " 'min_samples_leaf': 4,\\\n",
    " 'min_samples_split': 4,\\\n",
    " 'n_estimators': 80}"
   ]
  },
  {
   "cell_type": "code",
   "execution_count": 14,
   "metadata": {},
   "outputs": [
    {
     "name": "stdout",
     "output_type": "stream",
     "text": [
      "F1 score: 0.5767441860465117\n",
      "AUC-ROC score: 0.8531233554521863\n"
     ]
    },
    {
     "data": {
      "image/png": "[encoded data removed]",
      "text/plain": [
       "<Figure size 432x288 with 1 Axes>"
      ]
     },
     "metadata": {
      "needs_background": "light"
     },
     "output_type": "display_data"
    }
   ],
   "source": [
    "#Проверка метрик F1 и AUC-ROC модели gridCV\n",
    "\n",
    "model_2 = RandomForestClassifier(random_state=12345, n_estimators=80, max_depth=10, min_samples_leaf=4, min_samples_split=4, )\n",
    "model_2.fit(features_train, target_train)\n",
    "predictions_valid = model_2.predict(features_valid)\n",
    "print('F1 score:', f1_score(target_valid, predictions_valid))\n",
    "\n",
    "probabilities_valid = model_2.predict_proba(features_valid)\n",
    "probabilities_one_valid = probabilities_valid[:, 1]\n",
    "print('AUC-ROC score:', roc_auc_score(target_valid, probabilities_one_valid))\n",
    "\n",
    "fpr, tpr, thresholds = roc_curve(target_valid, probabilities_one_valid)\n",
    "\n",
    "plt.figure()\n",
    "plt.plot(fpr, tpr)\n",
    "\n",
    "# ROC-кривая случайной модели\n",
    "plt.plot([0, 1], [0, 1], linestyle='--')\n",
    "\n",
    "# установка границы осей от 0 до 1\n",
    "plt.ylim([0.0, 1.0])\n",
    "plt.xlim([0.0, 1.0])\n",
    "\n",
    "plt.xlabel('False Positive Rate')\n",
    "plt.ylabel('True Positive Rate')\n",
    "\n",
    "plt.title('ROC-кривая')\n",
    "plt.show()"
   ]
  },
  {
   "cell_type": "markdown",
   "metadata": {},
   "source": [
    "### Логистическая регрессия"
   ]
  },
  {
   "cell_type": "code",
   "execution_count": 15,
   "metadata": {},
   "outputs": [
    {
     "name": "stdout",
     "output_type": "stream",
     "text": [
      "Accuracy: 0.8025\n",
      "F1: 0.33389544688026984\n"
     ]
    }
   ],
   "source": [
    "lr_model = LogisticRegression(random_state=12345, solver='liblinear', max_iter=1000)\n",
    "lr_model.fit(features_train, target_train)\n",
    "lr_predictions = lr_model.predict(features_valid)\n",
    "lr_accuracy = accuracy_score(target_valid, lr_predictions)\n",
    "lr_f1 = f1_score(target_valid, lr_predictions)\n",
    "print('Accuracy:', lr_accuracy)\n",
    "print('F1:', lr_f1)"
   ]
  },
  {
   "cell_type": "markdown",
   "metadata": {},
   "source": [
    "Для дальнейшего улучшения выбираем модель случайного леса, т.к. эта модель показала лучший результат на валидационной выборке."
   ]
  },
  {
   "cell_type": "markdown",
   "metadata": {},
   "source": [
    "## Борьба с дисбалансом"
   ]
  },
  {
   "cell_type": "code",
   "execution_count": 16,
   "metadata": {},
   "outputs": [
    {
     "name": "stdout",
     "output_type": "stream",
     "text": [
      "Всего значений в обучающей выборке: 6000\n",
      "Значений = 1: 1196\n"
     ]
    }
   ],
   "source": [
    "print('Всего значений в обучающей выборке:', target_train.count())\n",
    "print('Значений = 1:', target_train.sum())"
   ]
  },
  {
   "cell_type": "markdown",
   "metadata": {},
   "source": [
    "1 - редкий класс в нашей выборке, что может вводить модель в заблуждение.\n",
    "Размножим выборку со значением целевого признака = 1"
   ]
  },
  {
   "cell_type": "code",
   "execution_count": 17,
   "metadata": {},
   "outputs": [
    {
     "name": "stdout",
     "output_type": "stream",
     "text": [
      "(10784, 11)\n",
      "(10784,)\n",
      "Всего значений в обучающей выборке: 10784\n",
      "Значений = 1: 5980\n"
     ]
    }
   ],
   "source": [
    "def upsample(features, target, repeat):\n",
    "    features_zeros = features_train[target == 0]\n",
    "    features_ones = features_train[target == 1]\n",
    "    target_zeros = target_train[target == 0]\n",
    "    target_ones = target_train[target == 1]\n",
    "\n",
    "    features_upsampled = pd.concat([features_zeros] + [features_ones] * repeat)\n",
    "    target_upsampled = pd.concat([target_zeros] + [target_ones] * repeat)\n",
    "    \n",
    "    features_upsampled, target_upsampled = shuffle(\n",
    "        features_upsampled, target_upsampled, random_state=12345)\n",
    "    \n",
    "    return features_upsampled, target_upsampled\n",
    "\n",
    "features_upsampled, target_upsampled = upsample(features_train, target_train, 5)\n",
    "\n",
    "print(features_upsampled.shape)\n",
    "print(target_upsampled.shape)\n",
    "print('Всего значений в обучающей выборке:', target_upsampled.count())\n",
    "print('Значений = 1:', target_upsampled.sum())"
   ]
  },
  {
   "cell_type": "markdown",
   "metadata": {},
   "source": [
    "Теперь в целевом признаке обучающей выборки примерно поровну нулей и единиц. Обучим 2 модели на увеличенной выборке."
   ]
  },
  {
   "cell_type": "code",
   "execution_count": 18,
   "metadata": {},
   "outputs": [
    {
     "name": "stdout",
     "output_type": "stream",
     "text": [
      "F1 score: 0.5877632898696087\n",
      "AUC-ROC score: 0.8398989226888621\n"
     ]
    },
    {
     "data": {
      "image/png": "[encoded data removed]",
      "text/plain": [
       "<Figure size 432x288 with 1 Axes>"
      ]
     },
     "metadata": {
      "needs_background": "light"
     },
     "output_type": "display_data"
    }
   ],
   "source": [
    "model = RandomForestClassifier(random_state=12345, n_estimators=20, max_depth=10)\n",
    "model.fit(features_upsampled, target_upsampled)\n",
    "predictions_valid = model.predict(features_valid)\n",
    "print('F1 score:', f1_score(target_valid, predictions_valid))\n",
    "\n",
    "probabilities_valid = model.predict_proba(features_valid)\n",
    "probabilities_one_valid = probabilities_valid[:, 1]\n",
    "print('AUC-ROC score:', roc_auc_score(target_valid, probabilities_one_valid))\n",
    "\n",
    "fpr, tpr, thresholds = roc_curve(target_valid, probabilities_one_valid)\n",
    "\n",
    "plt.figure()\n",
    "plt.plot(fpr, tpr)\n",
    "\n",
    "# ROC-кривая случайной модели\n",
    "plt.plot([0, 1], [0, 1], linestyle='--')\n",
    "\n",
    "# установка границы осей от 0 до 1\n",
    "plt.ylim([0.0, 1.0])\n",
    "plt.xlim([0.0, 1.0])\n",
    "\n",
    "plt.xlabel('False Positive Rate')\n",
    "plt.ylabel('True Positive Rate')\n",
    "\n",
    "plt.title('ROC-кривая')\n",
    "plt.show()"
   ]
  },
  {
   "cell_type": "markdown",
   "metadata": {},
   "source": [
    "Метрики значительно улучшились"
   ]
  },
  {
   "cell_type": "code",
   "execution_count": 19,
   "metadata": {},
   "outputs": [
    {
     "name": "stdout",
     "output_type": "stream",
     "text": [
      "F1 score: 0.613682092555332\n",
      "AUC-ROC score: 0.854372455676601\n"
     ]
    },
    {
     "data": {
      "image/png": "[encoded data removed]",
      "text/plain": [
       "<Figure size 432x288 with 1 Axes>"
      ]
     },
     "metadata": {
      "needs_background": "light"
     },
     "output_type": "display_data"
    }
   ],
   "source": [
    "#Проверка параметров модели gridCV, обученной на апсемпленной выборке\n",
    "\n",
    "model_2 = RandomForestClassifier(random_state=12345, n_estimators=80, max_depth=10, min_samples_leaf=4, min_samples_split=4, )\n",
    "model_2.fit(features_upsampled, target_upsampled)\n",
    "predictions_valid = model_2.predict(features_valid)\n",
    "print('F1 score:', f1_score(target_valid, predictions_valid))\n",
    "\n",
    "probabilities_valid = model_2.predict_proba(features_valid)\n",
    "probabilities_one_valid = probabilities_valid[:, 1]\n",
    "print('AUC-ROC score:', roc_auc_score(target_valid, probabilities_one_valid))\n",
    "\n",
    "fpr, tpr, thresholds = roc_curve(target_valid, probabilities_one_valid)\n",
    "\n",
    "plt.figure()\n",
    "plt.plot(fpr, tpr)\n",
    "\n",
    "# ROC-кривая случайной модели\n",
    "plt.plot([0, 1], [0, 1], linestyle='--')\n",
    "\n",
    "# установка границы осей от 0 до 1\n",
    "plt.ylim([0.0, 1.0])\n",
    "plt.xlim([0.0, 1.0])\n",
    "\n",
    "plt.xlabel('False Positive Rate')\n",
    "plt.ylabel('True Positive Rate')\n",
    "\n",
    "plt.title('ROC-кривая')\n",
    "plt.show()"
   ]
  },
  {
   "cell_type": "markdown",
   "metadata": {},
   "source": [
    "Метрики этой модели улучшились даже сильнее, чем у первой"
   ]
  },
  {
   "cell_type": "markdown",
   "metadata": {},
   "source": [
    "Попробуем другой метод борьбы с дисбалансом - балансировка веса классов, и посмотрим как изменятся метрики лучшей модели."
   ]
  },
  {
   "cell_type": "code",
   "execution_count": 20,
   "metadata": {},
   "outputs": [
    {
     "name": "stdout",
     "output_type": "stream",
     "text": [
      "F1 score: 0.6342015855039638\n",
      "AUC-ROC score: 0.8563746453825632\n"
     ]
    },
    {
     "data": {
      "image/png": "[encoded data removed]",
      "text/plain": [
       "<Figure size 432x288 with 1 Axes>"
      ]
     },
     "metadata": {
      "needs_background": "light"
     },
     "output_type": "display_data"
    }
   ],
   "source": [
    "model_3 = RandomForestClassifier(random_state=12345, class_weight='balanced', n_estimators=80, max_depth=10, min_samples_leaf=4, min_samples_split=4, )\n",
    "model_3.fit(features_train, target_train)\n",
    "predictions_valid = model_3.predict(features_valid)\n",
    "print('F1 score:', f1_score(target_valid, predictions_valid))\n",
    "\n",
    "probabilities_valid = model_3.predict_proba(features_valid)\n",
    "probabilities_one_valid = probabilities_valid[:, 1]\n",
    "print('AUC-ROC score:', roc_auc_score(target_valid, probabilities_one_valid))\n",
    "\n",
    "fpr, tpr, thresholds = roc_curve(target_valid, probabilities_one_valid)\n",
    "\n",
    "plt.figure()\n",
    "plt.plot(fpr, tpr)\n",
    "\n",
    "# ROC-кривая случайной модели\n",
    "plt.plot([0, 1], [0, 1], linestyle='--')\n",
    "\n",
    "# установка границы осей от 0 до 1\n",
    "plt.ylim([0.0, 1.0])\n",
    "plt.xlim([0.0, 1.0])\n",
    "\n",
    "plt.xlabel('False Positive Rate')\n",
    "plt.ylabel('True Positive Rate')\n",
    "\n",
    "plt.title('ROC-кривая')\n",
    "plt.show()"
   ]
  },
  {
   "cell_type": "markdown",
   "metadata": {},
   "source": [
    "Балансировка классов на валидационной выборке показывает лучшие показатели, чем апсемплинг. Для полноты картины попробуем даунсемплинг."
   ]
  },
  {
   "cell_type": "code",
   "execution_count": 27,
   "metadata": {},
   "outputs": [
    {
     "name": "stdout",
     "output_type": "stream",
     "text": [
      "(2157, 11)\n",
      "(2157,)\n",
      "Всего значений в обучающей выборке: 2157\n",
      "Значений = 1: 1196\n"
     ]
    }
   ],
   "source": [
    "def downsample(features, target, fraction):\n",
    "    features_zeros = features_train[target == 0]\n",
    "    features_ones = features_train[target == 1]\n",
    "    target_zeros = target_train[target == 0]\n",
    "    target_ones = target_train[target == 1]\n",
    "    features_downsampled = pd.concat([features_zeros.sample(frac=0.2, random_state=12345)] + [features_ones])\n",
    "    target_downsampled = pd.concat([target_zeros.sample(frac=0.2, random_state=12345)] + [target_ones])\n",
    "    features_downsampled, target_downsampled = shuffle(features_downsampled, target_downsampled, random_state=12345)\n",
    "    return features_downsampled, target_downsampled\n",
    "\n",
    "features_downsampled, target_downsampled = downsample(features_train, target_train, 0.2)\n",
    "\n",
    "print(features_downsampled.shape)\n",
    "print(target_downsampled.shape)\n",
    "print('Всего значений в обучающей выборке:', target_downsampled.count())\n",
    "print('Значений = 1:', target_downsampled.sum())"
   ]
  },
  {
   "cell_type": "code",
   "execution_count": 28,
   "metadata": {},
   "outputs": [
    {
     "name": "stdout",
     "output_type": "stream",
     "text": [
      "F1 score: 0.5685279187817259\n",
      "AUC-ROC score: 0.8468219018987532\n"
     ]
    },
    {
     "data": {
      "image/png": "[encoded data removed]",
      "text/plain": [
       "<Figure size 432x288 with 1 Axes>"
      ]
     },
     "metadata": {
      "needs_background": "light"
     },
     "output_type": "display_data"
    }
   ],
   "source": [
    "#обучим лучшую до этого модель на сбалансированных путем даунсемплинга данных\n",
    "model = RandomForestClassifier(random_state=12345, n_estimators=80, max_depth=10, min_samples_leaf=4, min_samples_split=4, )\n",
    "model.fit(features_downsampled, target_downsampled)\n",
    "predictions_valid = model.predict(features_valid)\n",
    "print('F1 score:', f1_score(target_valid, predictions_valid))\n",
    "\n",
    "probabilities_valid = model.predict_proba(features_valid)\n",
    "probabilities_one_valid = probabilities_valid[:, 1]\n",
    "print('AUC-ROC score:', roc_auc_score(target_valid, probabilities_one_valid))\n",
    "\n",
    "fpr, tpr, thresholds = roc_curve(target_valid, probabilities_one_valid)\n",
    "\n",
    "plt.figure()\n",
    "plt.plot(fpr, tpr)\n",
    "\n",
    "# ROC-кривая случайной модели\n",
    "plt.plot([0, 1], [0, 1], linestyle='--')\n",
    "\n",
    "# установка границы осей от 0 до 1\n",
    "plt.ylim([0.0, 1.0])\n",
    "plt.xlim([0.0, 1.0])\n",
    "\n",
    "plt.xlabel('False Positive Rate')\n",
    "plt.ylabel('True Positive Rate')\n",
    "\n",
    "plt.title('ROC-кривая')\n",
    "plt.show()"
   ]
  },
  {
   "cell_type": "markdown",
   "metadata": {},
   "source": [
    "Метрики данной модели значительно хуже, чем прудыдущих.\\\n",
    "Итого метрики модели GridCV с разными способами балансировки следующие:\\\n",
    "Апсемплинг:\\\n",
    "F1 - 0.613, AUC-ROC - 0.854\\\n",
    "Балансировка:\\\n",
    "<b> F1 - 0.634, AUC-ROC - 0.856</b>\\\n",
    "Даунсемплинг:\\\n",
    "F1 - 0.568, AUC-ROC - 0.846\n",
    "\n",
    "В силу наилучших показателей выбираю балансировку для борьбы с дисбалансом классов."
   ]
  },
  {
   "cell_type": "markdown",
   "metadata": {},
   "source": [
    "## Тестирование модели"
   ]
  },
  {
   "cell_type": "markdown",
   "metadata": {},
   "source": [
    "Мы имеем 2 модели случайного леса с разными гиперпараметрами, которые получены в результате перебора параметров в цикле и с помощью gridCV. Первая имеет лучшие метрики при обучении на необработанных данных, вторая модель показывает себя лучше после обучения на апсемпленных данных.\n",
    "\n",
    "Протестируем обе модели и выберем лучшую из них."
   ]
  },
  {
   "cell_type": "code",
   "execution_count": 31,
   "metadata": {},
   "outputs": [
    {
     "name": "stdout",
     "output_type": "stream",
     "text": [
      "F1 score: 0.5986078886310905\n",
      "AUC-ROC score: 0.8465358260215179\n"
     ]
    },
    {
     "data": {
      "image/png": "[encoded data removed]",
      "text/plain": [
       "<Figure size 432x288 with 1 Axes>"
      ]
     },
     "metadata": {
      "needs_background": "light"
     },
     "output_type": "display_data"
    }
   ],
   "source": [
    "# тест модели, полученной перебором гиперпараметров в цикле\n",
    "model = RandomForestClassifier(random_state=12345, class_weight='balanced', n_estimators=20, max_depth=10)\n",
    "model.fit(features_train, target_train)\n",
    "predictions_test = model.predict(features_test)\n",
    "print('F1 score:', f1_score(target_test, predictions_test))\n",
    "\n",
    "probabilities_test = model.predict_proba(features_test)\n",
    "probabilities_one_test = probabilities_test[:, 1]\n",
    "print('AUC-ROC score:', roc_auc_score(target_test, probabilities_one_test))\n",
    "\n",
    "fpr, tpr, thresholds = roc_curve(target_test, probabilities_one_test)\n",
    "\n",
    "plt.figure()\n",
    "plt.plot(fpr, tpr)\n",
    "\n",
    "# ROC-кривая случайной модели\n",
    "plt.plot([0, 1], [0, 1], linestyle='--')\n",
    "\n",
    "# установка границы осей от 0 до 1\n",
    "plt.ylim([0.0, 1.0])\n",
    "plt.xlim([0.0, 1.0])\n",
    "\n",
    "plt.xlabel('False Positive Rate')\n",
    "plt.ylabel('True Positive Rate')\n",
    "\n",
    "plt.title('ROC-кривая')\n",
    "plt.show()"
   ]
  },
  {
   "cell_type": "code",
   "execution_count": 30,
   "metadata": {},
   "outputs": [
    {
     "name": "stdout",
     "output_type": "stream",
     "text": [
      "F1 score: 0.6109839816933639\n",
      "AUC-ROC score: 0.8598095255227703\n"
     ]
    },
    {
     "data": {
      "image/png": "[encoded data removed]",
      "text/plain": [
       "<Figure size 432x288 with 1 Axes>"
      ]
     },
     "metadata": {
      "needs_background": "light"
     },
     "output_type": "display_data"
    }
   ],
   "source": [
    "# тест модели, полученной модулем gridCV\n",
    "model = RandomForestClassifier(random_state=12345,\n",
    "                               class_weight='balanced',\n",
    "                               n_estimators=80,\n",
    "                               max_depth=10,\n",
    "                               min_samples_leaf=4,\n",
    "                               min_samples_split=4)\n",
    "\n",
    "model.fit(features_train, target_train)\n",
    "predictions_test = model.predict(features_test)\n",
    "print('F1 score:', f1_score(target_test, predictions_test))\n",
    "\n",
    "probabilities_test = model.predict_proba(features_test)\n",
    "probabilities_one_test = probabilities_test[:, 1]\n",
    "print('AUC-ROC score:', roc_auc_score(target_test, probabilities_one_test))\n",
    "\n",
    "fpr, tpr, thresholds = roc_curve(target_test, probabilities_one_test)\n",
    "\n",
    "plt.figure()\n",
    "plt.plot(fpr, tpr)\n",
    "\n",
    "# ROC-кривая случайной модели\n",
    "plt.plot([0, 1], [0, 1], linestyle='--')\n",
    "\n",
    "# установка границы осей от 0 до 1\n",
    "plt.ylim([0.0, 1.0])\n",
    "plt.xlim([0.0, 1.0])\n",
    "\n",
    "plt.xlabel('False Positive Rate')\n",
    "plt.ylabel('True Positive Rate')\n",
    "\n",
    "plt.title('ROC-кривая')\n",
    "plt.show()"
   ]
  },
  {
   "cell_type": "code",
   "execution_count": 32,
   "metadata": {},
   "outputs": [
    {
     "data": {
      "text/html": [
       "<div>\n",
       "<style scoped>\n",
       "    .dataframe tbody tr th:only-of-type {\n",
       "        vertical-align: middle;\n",
       "    }\n",
       "\n",
       "    .dataframe tbody tr th {\n",
       "        vertical-align: top;\n",
       "    }\n",
       "\n",
       "    .dataframe thead th {\n",
       "        text-align: right;\n",
       "    }\n",
       "</style>\n",
       "<table border=\"1\" class=\"dataframe\">\n",
       "  <thead>\n",
       "    <tr style=\"text-align: right;\">\n",
       "      <th></th>\n",
       "      <th>model</th>\n",
       "      <th>F1_valid</th>\n",
       "      <th>AUC-ROC_valid</th>\n",
       "      <th>F1_test</th>\n",
       "      <th>AUC-ROC_test</th>\n",
       "    </tr>\n",
       "  </thead>\n",
       "  <tbody>\n",
       "    <tr>\n",
       "      <th>0</th>\n",
       "      <td>RandomForest_cycle</td>\n",
       "      <td>0.576</td>\n",
       "      <td>0.851</td>\n",
       "      <td>0.598</td>\n",
       "      <td>0.846</td>\n",
       "    </tr>\n",
       "    <tr>\n",
       "      <th>1</th>\n",
       "      <td>RandomForest_gridCV</td>\n",
       "      <td>0.634</td>\n",
       "      <td>0.856</td>\n",
       "      <td>0.610</td>\n",
       "      <td>0.859</td>\n",
       "    </tr>\n",
       "  </tbody>\n",
       "</table>\n",
       "</div>"
      ],
      "text/plain": [
       "                 model  F1_valid  AUC-ROC_valid  F1_test  AUC-ROC_test\n",
       "0   RandomForest_cycle     0.576          0.851    0.598         0.846\n",
       "1  RandomForest_gridCV     0.634          0.856    0.610         0.859"
      ]
     },
     "metadata": {},
     "output_type": "display_data"
    }
   ],
   "source": [
    "model_comparison_data = [['RandomForest_cycle', 0.576, 0.851, 0.598, 0.846],\n",
    "       ['RandomForest_gridCV', 0.634, 0.856, 0.610, 0.859]]\n",
    "\n",
    "columns = ['model', 'F1_valid', 'AUC-ROC_valid', 'F1_test', 'AUC-ROC_test']\n",
    "model_comparison = pd.DataFrame(data=model_comparison_data, columns=columns)\n",
    "display(model_comparison)"
   ]
  },
  {
   "cell_type": "code",
   "execution_count": 33,
   "metadata": {},
   "outputs": [
    {
     "data": {
      "text/plain": [
       "<AxesSubplot:xlabel='model'>"
      ]
     },
     "execution_count": 33,
     "metadata": {},
     "output_type": "execute_result"
    },
    {
     "data": {
      "image/png": "[encoded data removed]",
      "text/plain": [
       "<Figure size 432x288 with 1 Axes>"
      ]
     },
     "metadata": {
      "needs_background": "light"
     },
     "output_type": "display_data"
    }
   ],
   "source": [
    "model_comparison.drop(['F1_valid', 'AUC-ROC_valid'], axis=1).plot(kind='bar', ylim=0.5, x='model');"
   ]
  },
  {
   "cell_type": "markdown",
   "metadata": {},
   "source": [
    "Модель случайного леса, которая получилась в результате работы модуля gridCV, имеет метрики значительно лучше чем у альтернативной модели.\n",
    "Для дальнейшей работы рекомендовано использовать модель RandomForestClassifier с гиперпараметрами:\n",
    "\n",
    "`random_state=12345\n",
    "class_weight='balanced'\n",
    "n_estimators=80\n",
    "max_depth=10\n",
    "min_samples_leaf=4\n",
    "min_samples_split=4`\n",
    "\n",
    "В качестве последнего штриха объединим обучающую и валидационную выборки, после чего замерим финальные метрики F1 и AUC-ROC."
   ]
  },
  {
   "cell_type": "code",
   "execution_count": 34,
   "metadata": {},
   "outputs": [
    {
     "name": "stdout",
     "output_type": "stream",
     "text": [
      "F1 score: 0.6136618141097425\n",
      "AUC-ROC score: 0.8596910973494575\n"
     ]
    },
    {
     "data": {
      "image/png": "[encoded data removed]",
      "text/plain": [
       "<Figure size 432x288 with 1 Axes>"
      ]
     },
     "metadata": {
      "needs_background": "light"
     },
     "output_type": "display_data"
    }
   ],
   "source": [
    "#сцепляем тренировочную и валидационную выборки\n",
    "features_train_big = pd.concat([features_train] + [features_valid])\n",
    "target_train_big = pd.concat([target_train] + [target_valid])\n",
    "\n",
    "#перемешиваем объекты\n",
    "features_train_big, target_train_big = shuffle(\n",
    "        features_train_big, target_train_big, random_state=12345)\n",
    "\n",
    "#обучаем модель, проверяем метрики на тестовой выборке\n",
    "model = RandomForestClassifier(random_state=12345,\n",
    "                               class_weight='balanced',\n",
    "                               n_estimators=80,\n",
    "                               max_depth=10,\n",
    "                               min_samples_leaf=4,\n",
    "                               min_samples_split=4)\n",
    "\n",
    "model.fit(features_train_big, target_train_big)\n",
    "predictions_test = model.predict(features_test)\n",
    "print('F1 score:', f1_score(target_test, predictions_test))\n",
    "\n",
    "probabilities_test = model.predict_proba(features_test)\n",
    "probabilities_one_test = probabilities_test[:, 1]\n",
    "print('AUC-ROC score:', roc_auc_score(target_test, probabilities_one_test))\n",
    "\n",
    "fpr, tpr, thresholds = roc_curve(target_test, probabilities_one_test)\n",
    "\n",
    "plt.figure()\n",
    "plt.plot(fpr, tpr)\n",
    "\n",
    "# ROC-кривая случайной модели\n",
    "plt.plot([0, 1], [0, 1], linestyle='--')\n",
    "\n",
    "# установка границы осей от 0 до 1\n",
    "plt.ylim([0.0, 1.0])\n",
    "plt.xlim([0.0, 1.0])\n",
    "\n",
    "plt.xlabel('False Positive Rate')\n",
    "plt.ylabel('True Positive Rate')\n",
    "\n",
    "plt.title('ROC-кривая')\n",
    "plt.show()"
   ]
  },
  {
   "cell_type": "markdown",
   "metadata": {},
   "source": [
    "## Вывод "
   ]
  },
  {
   "cell_type": "markdown",
   "metadata": {},
   "source": [
    "Наилучший результат показала модель случайного леса, полученная с помощью модуля GridCV.\n",
    "На тестовой выборке модель демонстрирует высокие показатели как в метрике\\\n",
    "F1 score: 0.613 (выше целевого показателя 0.59)\\\n",
    "Так и в метрике\\\n",
    "AUC-ROC score: 0.859\n",
    "\n",
    "Обучение модели было бы невозможно без прямого кодирования техникой OHE категориальных признаков и масштабирования количественных признаков. Т.к. целевой признак в исходной выборке не сбалансирован (нулей в 5 раз больше чем единиц), пришлось решать проблему дисбаланса. Лучше всего с этим справилась балансировка параметром class_weight='balanced'.\n",
    "\n",
    "После финального выбора модели удалось еще немного увеличить значение F1-score, обучив модель на тестовой+валидационной выборках."
   ]
  }
 ],
 "metadata": {
  "ExecuteTimeLog": [
   {
    "duration": 429,
    "start_time": "2022-08-17T13:57:30.916Z"
   },
   {
    "duration": 128,
    "start_time": "2022-08-17T14:00:50.830Z"
   },
   {
    "duration": 7,
    "start_time": "2022-08-17T14:24:04.060Z"
   },
   {
    "duration": 7,
    "start_time": "2022-08-17T14:25:10.138Z"
   },
   {
    "duration": 969,
    "start_time": "2022-08-17T14:32:27.183Z"
   },
   {
    "duration": 5,
    "start_time": "2022-08-17T14:33:01.089Z"
   },
   {
    "duration": 90,
    "start_time": "2022-08-17T14:33:16.470Z"
   },
   {
    "duration": 11,
    "start_time": "2022-08-17T14:33:23.937Z"
   },
   {
    "duration": 2,
    "start_time": "2022-08-17T14:33:30.861Z"
   },
   {
    "duration": 68,
    "start_time": "2022-08-17T14:33:30.867Z"
   },
   {
    "duration": 4,
    "start_time": "2022-08-17T14:33:30.937Z"
   },
   {
    "duration": 15,
    "start_time": "2022-08-17T14:33:30.942Z"
   },
   {
    "duration": 6,
    "start_time": "2022-08-17T14:33:40.035Z"
   },
   {
    "duration": 6,
    "start_time": "2022-08-17T14:33:42.429Z"
   },
   {
    "duration": 11,
    "start_time": "2022-08-17T14:33:47.278Z"
   },
   {
    "duration": 3,
    "start_time": "2022-08-17T14:34:47.158Z"
   },
   {
    "duration": 12,
    "start_time": "2022-08-17T14:34:50.088Z"
   },
   {
    "duration": 4,
    "start_time": "2022-08-17T14:35:01.330Z"
   },
   {
    "duration": 12,
    "start_time": "2022-08-17T14:35:04.792Z"
   },
   {
    "duration": 12,
    "start_time": "2022-08-17T14:35:32.544Z"
   },
   {
    "duration": 15,
    "start_time": "2022-08-17T14:36:05.280Z"
   },
   {
    "duration": 12,
    "start_time": "2022-08-17T14:36:07.827Z"
   },
   {
    "duration": 1108,
    "start_time": "2022-08-17T14:36:16.571Z"
   },
   {
    "duration": 61,
    "start_time": "2022-08-17T14:36:17.681Z"
   },
   {
    "duration": 6,
    "start_time": "2022-08-17T14:36:17.744Z"
   },
   {
    "duration": 16,
    "start_time": "2022-08-17T14:36:17.752Z"
   },
   {
    "duration": 5,
    "start_time": "2022-08-17T14:36:17.769Z"
   },
   {
    "duration": 15,
    "start_time": "2022-08-17T14:36:17.776Z"
   },
   {
    "duration": 41094,
    "start_time": "2022-08-17T14:39:05.515Z"
   },
   {
    "duration": 221,
    "start_time": "2022-08-17T15:35:57.358Z"
   },
   {
    "duration": 135,
    "start_time": "2022-08-17T15:36:43.467Z"
   },
   {
    "duration": 85,
    "start_time": "2022-08-17T15:37:02.984Z"
   },
   {
    "duration": 95,
    "start_time": "2022-08-17T15:37:09.756Z"
   },
   {
    "duration": 19,
    "start_time": "2022-08-17T15:37:27.003Z"
   },
   {
    "duration": 13,
    "start_time": "2022-08-17T15:37:43.451Z"
   },
   {
    "duration": 182,
    "start_time": "2022-08-17T15:39:10.880Z"
   },
   {
    "duration": 12,
    "start_time": "2022-08-17T15:39:30.082Z"
   },
   {
    "duration": 18,
    "start_time": "2022-08-17T15:41:43.403Z"
   },
   {
    "duration": 62,
    "start_time": "2022-08-17T15:43:03.699Z"
   },
   {
    "duration": 18,
    "start_time": "2022-08-17T15:43:11.222Z"
   },
   {
    "duration": 22,
    "start_time": "2022-08-17T15:43:18.901Z"
   },
   {
    "duration": 72,
    "start_time": "2022-08-17T15:43:34.830Z"
   },
   {
    "duration": 26,
    "start_time": "2022-08-17T15:43:45.045Z"
   },
   {
    "duration": 284,
    "start_time": "2022-08-17T15:43:55.512Z"
   },
   {
    "duration": 24,
    "start_time": "2022-08-17T15:44:01.507Z"
   },
   {
    "duration": 29,
    "start_time": "2022-08-17T15:46:20.823Z"
   },
   {
    "duration": 4,
    "start_time": "2022-08-17T16:18:52.262Z"
   },
   {
    "duration": 53,
    "start_time": "2022-08-17T16:19:48.519Z"
   },
   {
    "duration": 1263,
    "start_time": "2022-08-17T16:23:31.265Z"
   },
   {
    "duration": 60,
    "start_time": "2022-08-17T16:23:32.529Z"
   },
   {
    "duration": 4,
    "start_time": "2022-08-17T16:23:32.590Z"
   },
   {
    "duration": 11,
    "start_time": "2022-08-17T16:23:32.596Z"
   },
   {
    "duration": 13,
    "start_time": "2022-08-17T16:23:32.608Z"
   },
   {
    "duration": 14,
    "start_time": "2022-08-17T16:23:32.623Z"
   },
   {
    "duration": 1391,
    "start_time": "2022-08-17T16:23:56.351Z"
   },
   {
    "duration": 61,
    "start_time": "2022-08-17T16:23:57.743Z"
   },
   {
    "duration": 5,
    "start_time": "2022-08-17T16:23:57.805Z"
   },
   {
    "duration": 32,
    "start_time": "2022-08-17T16:23:57.811Z"
   },
   {
    "duration": 23,
    "start_time": "2022-08-17T16:23:57.845Z"
   },
   {
    "duration": 24,
    "start_time": "2022-08-17T16:23:57.870Z"
   },
   {
    "duration": 10,
    "start_time": "2022-08-17T16:23:57.896Z"
   },
   {
    "duration": 46,
    "start_time": "2022-08-17T16:23:57.908Z"
   },
   {
    "duration": 18,
    "start_time": "2022-08-17T16:32:18.055Z"
   },
   {
    "duration": 26,
    "start_time": "2022-08-17T16:32:33.965Z"
   },
   {
    "duration": 47,
    "start_time": "2022-08-19T08:32:36.398Z"
   },
   {
    "duration": 1674,
    "start_time": "2022-08-19T08:32:45.150Z"
   },
   {
    "duration": 183,
    "start_time": "2022-08-19T08:32:46.825Z"
   },
   {
    "duration": 5,
    "start_time": "2022-08-19T08:32:47.009Z"
   },
   {
    "duration": 12,
    "start_time": "2022-08-19T08:32:47.016Z"
   },
   {
    "duration": 8,
    "start_time": "2022-08-19T08:32:47.029Z"
   },
   {
    "duration": 18,
    "start_time": "2022-08-19T08:32:47.039Z"
   },
   {
    "duration": 2,
    "start_time": "2022-08-19T08:32:47.059Z"
   },
   {
    "duration": 26,
    "start_time": "2022-08-19T08:32:47.063Z"
   },
   {
    "duration": 3,
    "start_time": "2022-08-19T08:32:47.091Z"
   },
   {
    "duration": 32,
    "start_time": "2022-08-19T08:32:47.097Z"
   },
   {
    "duration": 24,
    "start_time": "2022-08-19T08:35:19.631Z"
   },
   {
    "duration": 1169,
    "start_time": "2022-08-19T09:14:24.755Z"
   },
   {
    "duration": 65,
    "start_time": "2022-08-19T09:14:25.926Z"
   },
   {
    "duration": 5,
    "start_time": "2022-08-19T09:14:25.992Z"
   },
   {
    "duration": 8,
    "start_time": "2022-08-19T09:14:26.000Z"
   },
   {
    "duration": 6,
    "start_time": "2022-08-19T09:14:26.009Z"
   },
   {
    "duration": 14,
    "start_time": "2022-08-19T09:14:26.067Z"
   },
   {
    "duration": 21,
    "start_time": "2022-08-19T09:14:26.083Z"
   },
   {
    "duration": 199,
    "start_time": "2022-08-19T09:14:26.105Z"
   },
   {
    "duration": 0,
    "start_time": "2022-08-19T09:14:26.306Z"
   },
   {
    "duration": 3,
    "start_time": "2022-08-19T09:14:40.814Z"
   },
   {
    "duration": 27,
    "start_time": "2022-08-19T09:14:50.944Z"
   },
   {
    "duration": 12,
    "start_time": "2022-08-19T09:28:26.079Z"
   },
   {
    "duration": 12,
    "start_time": "2022-08-19T09:29:17.756Z"
   },
   {
    "duration": 12,
    "start_time": "2022-08-19T09:29:40.947Z"
   },
   {
    "duration": 10,
    "start_time": "2022-08-19T09:34:18.489Z"
   },
   {
    "duration": 47,
    "start_time": "2022-08-19T09:34:50.573Z"
   },
   {
    "duration": 153,
    "start_time": "2022-08-19T09:34:56.290Z"
   },
   {
    "duration": 3,
    "start_time": "2022-08-19T09:42:09.561Z"
   },
   {
    "duration": 181,
    "start_time": "2022-08-19T09:45:43.038Z"
   },
   {
    "duration": 23195,
    "start_time": "2022-08-19T09:49:06.459Z"
   },
   {
    "duration": 21494,
    "start_time": "2022-08-19T09:53:44.875Z"
   },
   {
    "duration": 4,
    "start_time": "2022-08-19T09:55:12.537Z"
   },
   {
    "duration": 113,
    "start_time": "2022-08-19T09:59:16.926Z"
   },
   {
    "duration": 209,
    "start_time": "2022-08-19T09:59:43.319Z"
   },
   {
    "duration": 229,
    "start_time": "2022-08-19T10:01:16.019Z"
   },
   {
    "duration": 29,
    "start_time": "2022-08-19T10:07:41.997Z"
   },
   {
    "duration": 4,
    "start_time": "2022-08-19T10:10:04.453Z"
   },
   {
    "duration": 379075,
    "start_time": "2022-08-19T10:12:53.170Z"
   },
   {
    "duration": 2783011,
    "start_time": "2022-08-19T10:19:15.723Z"
   },
   {
    "duration": 580,
    "start_time": "2022-08-19T11:08:11.168Z"
   },
   {
    "duration": 579,
    "start_time": "2022-08-19T11:14:07.109Z"
   },
   {
    "duration": 334,
    "start_time": "2022-08-19T11:15:42.762Z"
   },
   {
    "duration": 254,
    "start_time": "2022-08-19T11:16:00.857Z"
   },
   {
    "duration": 3,
    "start_time": "2022-08-19T11:17:45.220Z"
   },
   {
    "duration": 134,
    "start_time": "2022-08-19T11:19:26.118Z"
   },
   {
    "duration": 162,
    "start_time": "2022-08-19T11:19:33.636Z"
   },
   {
    "duration": 128,
    "start_time": "2022-08-19T11:21:54.877Z"
   },
   {
    "duration": 256,
    "start_time": "2022-08-19T12:14:04.049Z"
   },
   {
    "duration": 673,
    "start_time": "2022-08-19T12:19:38.342Z"
   },
   {
    "duration": 658,
    "start_time": "2022-08-19T12:20:11.917Z"
   },
   {
    "duration": 6,
    "start_time": "2022-08-19T12:34:14.476Z"
   },
   {
    "duration": 6,
    "start_time": "2022-08-19T12:34:31.012Z"
   },
   {
    "duration": 6,
    "start_time": "2022-08-19T12:34:37.711Z"
   },
   {
    "duration": 5,
    "start_time": "2022-08-19T12:34:47.988Z"
   },
   {
    "duration": 3,
    "start_time": "2022-08-19T12:35:11.332Z"
   },
   {
    "duration": 3,
    "start_time": "2022-08-19T12:36:31.670Z"
   },
   {
    "duration": 4,
    "start_time": "2022-08-19T12:36:54.338Z"
   },
   {
    "duration": 4,
    "start_time": "2022-08-19T12:37:52.253Z"
   },
   {
    "duration": 4,
    "start_time": "2022-08-19T12:58:48.677Z"
   },
   {
    "duration": 14,
    "start_time": "2022-08-19T13:02:47.053Z"
   },
   {
    "duration": 15,
    "start_time": "2022-08-19T13:03:20.844Z"
   },
   {
    "duration": 332,
    "start_time": "2022-08-19T13:08:12.547Z"
   },
   {
    "duration": 876,
    "start_time": "2022-08-19T13:09:49.962Z"
   },
   {
    "duration": 868,
    "start_time": "2022-08-19T13:30:44.442Z"
   },
   {
    "duration": 337,
    "start_time": "2022-08-19T13:33:09.078Z"
   },
   {
    "duration": 876,
    "start_time": "2022-08-19T13:35:31.373Z"
   },
   {
    "duration": 12,
    "start_time": "2022-08-19T13:35:48.771Z"
   },
   {
    "duration": 34,
    "start_time": "2022-08-19T14:16:09.284Z"
   },
   {
    "duration": 1482,
    "start_time": "2022-08-19T14:25:12.748Z"
   },
   {
    "duration": 67,
    "start_time": "2022-08-19T14:25:14.232Z"
   },
   {
    "duration": 5,
    "start_time": "2022-08-19T14:25:14.301Z"
   },
   {
    "duration": 7,
    "start_time": "2022-08-19T14:25:14.308Z"
   },
   {
    "duration": 10,
    "start_time": "2022-08-19T14:25:14.318Z"
   },
   {
    "duration": 17,
    "start_time": "2022-08-19T14:25:14.330Z"
   },
   {
    "duration": 23,
    "start_time": "2022-08-19T14:25:14.368Z"
   },
   {
    "duration": 30,
    "start_time": "2022-08-19T14:25:14.393Z"
   },
   {
    "duration": 12,
    "start_time": "2022-08-19T14:25:14.425Z"
   },
   {
    "duration": 215,
    "start_time": "2022-08-19T14:25:14.439Z"
   },
   {
    "duration": 24520,
    "start_time": "2022-08-19T14:25:14.656Z"
   },
   {
    "duration": 7,
    "start_time": "2022-08-19T14:25:39.178Z"
   },
   {
    "duration": 346,
    "start_time": "2022-08-19T14:25:39.186Z"
   },
   {
    "duration": 722,
    "start_time": "2022-08-19T14:25:39.536Z"
   },
   {
    "duration": 42,
    "start_time": "2022-08-19T14:25:40.260Z"
   },
   {
    "duration": 26,
    "start_time": "2022-08-19T14:25:40.372Z"
   },
   {
    "duration": 56,
    "start_time": "2022-08-19T14:25:40.469Z"
   },
   {
    "duration": 424,
    "start_time": "2022-08-19T14:25:40.527Z"
   },
   {
    "duration": 961,
    "start_time": "2022-08-19T14:25:40.953Z"
   },
   {
    "duration": 344,
    "start_time": "2022-08-19T14:25:41.916Z"
   },
   {
    "duration": 981,
    "start_time": "2022-08-19T14:25:42.261Z"
   },
   {
    "duration": 25,
    "start_time": "2022-08-19T14:25:43.244Z"
   },
   {
    "duration": 152,
    "start_time": "2022-08-19T14:25:43.274Z"
   },
   {
    "duration": 25,
    "start_time": "2022-08-19T15:14:47.993Z"
   },
   {
    "duration": 945,
    "start_time": "2022-08-19T15:15:24.754Z"
   },
   {
    "duration": 1502,
    "start_time": "2022-08-19T15:27:13.435Z"
   },
   {
    "duration": 74,
    "start_time": "2022-08-19T15:27:14.939Z"
   },
   {
    "duration": 5,
    "start_time": "2022-08-19T15:27:15.015Z"
   },
   {
    "duration": 122,
    "start_time": "2022-08-19T15:27:15.023Z"
   },
   {
    "duration": 33,
    "start_time": "2022-08-19T15:27:15.147Z"
   },
   {
    "duration": 23,
    "start_time": "2022-08-19T15:27:15.184Z"
   },
   {
    "duration": 23,
    "start_time": "2022-08-19T15:27:15.209Z"
   },
   {
    "duration": 44,
    "start_time": "2022-08-19T15:27:15.234Z"
   },
   {
    "duration": 14,
    "start_time": "2022-08-19T15:27:15.280Z"
   },
   {
    "duration": 213,
    "start_time": "2022-08-19T15:27:15.297Z"
   },
   {
    "duration": 25770,
    "start_time": "2022-08-19T15:27:15.512Z"
   },
   {
    "duration": 309,
    "start_time": "2022-08-19T15:27:41.284Z"
   },
   {
    "duration": 3,
    "start_time": "2022-08-19T15:27:41.595Z"
   },
   {
    "duration": 697,
    "start_time": "2022-08-19T15:27:41.600Z"
   },
   {
    "duration": 81,
    "start_time": "2022-08-19T15:27:42.299Z"
   },
   {
    "duration": 5,
    "start_time": "2022-08-19T15:27:42.383Z"
   },
   {
    "duration": 110,
    "start_time": "2022-08-19T15:27:42.389Z"
   },
   {
    "duration": 334,
    "start_time": "2022-08-19T15:27:42.500Z"
   },
   {
    "duration": 934,
    "start_time": "2022-08-19T15:27:42.835Z"
   },
   {
    "duration": 342,
    "start_time": "2022-08-19T15:27:43.781Z"
   },
   {
    "duration": 979,
    "start_time": "2022-08-19T15:27:44.125Z"
   },
   {
    "duration": 11,
    "start_time": "2022-08-19T15:27:45.105Z"
   },
   {
    "duration": 930,
    "start_time": "2022-08-19T15:27:45.118Z"
   },
   {
    "duration": 165,
    "start_time": "2022-08-19T15:32:47.182Z"
   },
   {
    "duration": 1720,
    "start_time": "2022-08-19T15:34:36.786Z"
   },
   {
    "duration": 21,
    "start_time": "2022-08-19T15:34:48.266Z"
   },
   {
    "duration": 141,
    "start_time": "2022-08-19T15:35:24.087Z"
   },
   {
    "duration": 183,
    "start_time": "2022-08-19T15:37:19.229Z"
   },
   {
    "duration": 148,
    "start_time": "2022-08-19T15:37:33.693Z"
   },
   {
    "duration": 166,
    "start_time": "2022-08-19T15:38:50.488Z"
   },
   {
    "duration": 1456,
    "start_time": "2022-08-20T10:18:10.924Z"
   },
   {
    "duration": 105,
    "start_time": "2022-08-20T10:18:12.382Z"
   },
   {
    "duration": 5,
    "start_time": "2022-08-20T10:18:12.488Z"
   },
   {
    "duration": 7,
    "start_time": "2022-08-20T10:18:12.494Z"
   },
   {
    "duration": 4,
    "start_time": "2022-08-20T10:18:12.502Z"
   },
   {
    "duration": 14,
    "start_time": "2022-08-20T10:18:12.507Z"
   },
   {
    "duration": 17,
    "start_time": "2022-08-20T10:18:12.523Z"
   },
   {
    "duration": 51,
    "start_time": "2022-08-20T10:18:12.542Z"
   },
   {
    "duration": 11,
    "start_time": "2022-08-20T10:18:12.594Z"
   },
   {
    "duration": 180,
    "start_time": "2022-08-20T10:18:12.607Z"
   },
   {
    "duration": 20645,
    "start_time": "2022-08-20T10:18:12.789Z"
   },
   {
    "duration": 234,
    "start_time": "2022-08-20T10:18:33.435Z"
   },
   {
    "duration": 3,
    "start_time": "2022-08-20T10:18:33.671Z"
   },
   {
    "duration": 546,
    "start_time": "2022-08-20T10:18:33.686Z"
   },
   {
    "duration": 58,
    "start_time": "2022-08-20T10:18:34.234Z"
   },
   {
    "duration": 94,
    "start_time": "2022-08-20T10:18:34.294Z"
   },
   {
    "duration": 16,
    "start_time": "2022-08-20T10:18:34.390Z"
   },
   {
    "duration": 281,
    "start_time": "2022-08-20T10:18:34.407Z"
   },
   {
    "duration": 724,
    "start_time": "2022-08-20T10:18:34.690Z"
   },
   {
    "duration": 612,
    "start_time": "2022-08-20T10:18:35.416Z"
   },
   {
    "duration": 312,
    "start_time": "2022-08-20T10:18:36.030Z"
   },
   {
    "duration": 779,
    "start_time": "2022-08-20T10:18:36.344Z"
   },
   {
    "duration": 9,
    "start_time": "2022-08-20T10:18:37.125Z"
   },
   {
    "duration": 178,
    "start_time": "2022-08-20T10:18:37.136Z"
   },
   {
    "duration": 760,
    "start_time": "2022-08-20T10:18:37.316Z"
   },
   {
    "duration": 12,
    "start_time": "2022-08-20T10:40:25.670Z"
   },
   {
    "duration": 13,
    "start_time": "2022-08-20T10:40:37.218Z"
   },
   {
    "duration": 354,
    "start_time": "2022-08-20T10:42:27.020Z"
   },
   {
    "duration": 231,
    "start_time": "2022-08-20T10:45:33.497Z"
   },
   {
    "duration": 587,
    "start_time": "2022-08-20T10:46:10.127Z"
   },
   {
    "duration": 235,
    "start_time": "2022-08-20T11:10:03.419Z"
   },
   {
    "duration": 9,
    "start_time": "2022-08-20T11:11:59.890Z"
   },
   {
    "duration": 151,
    "start_time": "2022-08-20T11:12:05.284Z"
   },
   {
    "duration": 735,
    "start_time": "2022-08-20T11:14:05.604Z"
   }
  ],
  "kernelspec": {
   "display_name": "Python 3 (ipykernel)",
   "language": "python",
   "name": "python3"
  },
  "language_info": {
   "codemirror_mode": {
    "name": "ipython",
    "version": 3
   },
   "file_extension": ".py",
   "mimetype": "text/x-python",
   "name": "python",
   "nbconvert_exporter": "python",
   "pygments_lexer": "ipython3",
   "version": "3.9.12"
  },
  "toc": {
   "base_numbering": 1,
   "nav_menu": {},
   "number_sections": true,
   "sideBar": true,
   "skip_h1_title": true,
   "title_cell": "Содержание",
   "title_sidebar": "Contents",
   "toc_cell": true,
   "toc_position": {
    "height": "calc(100% - 180px)",
    "left": "10px",
    "top": "150px",
    "width": "165px"
   },
   "toc_section_display": true,
   "toc_window_display": true
  }
 },
 "nbformat": 4,
 "nbformat_minor": 2
}
