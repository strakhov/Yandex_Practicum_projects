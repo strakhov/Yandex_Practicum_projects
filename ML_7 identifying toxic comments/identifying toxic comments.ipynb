{
 "cells": [
  {
   "cell_type": "markdown",
   "metadata": {
    "toc": true
   },
   "source": [
    "<h1>Содержание<span class=\"tocSkip\"></span></h1>\n",
    "<div class=\"toc\"><ul class=\"toc-item\"><li><span><a href=\"#Подготовка\" data-toc-modified-id=\"Подготовка-1\"><span class=\"toc-item-num\">1&nbsp;&nbsp;</span>Подготовка</a></span></li><li><span><a href=\"#Обучение\" data-toc-modified-id=\"Обучение-2\"><span class=\"toc-item-num\">2&nbsp;&nbsp;</span>Обучение</a></span></li><li><span><a href=\"#Тестирование\" data-toc-modified-id=\"Тестирование-3\"><span class=\"toc-item-num\">3&nbsp;&nbsp;</span>Тестирование</a></span></li><li><span><a href=\"#Выводы\" data-toc-modified-id=\"Выводы-4\"><span class=\"toc-item-num\">4&nbsp;&nbsp;</span>Выводы</a></span></li></ul></div>"
   ]
  },
  {
   "cell_type": "markdown",
   "metadata": {},
   "source": [
    "# Проект для «Викишоп»"
   ]
  },
  {
   "cell_type": "markdown",
   "metadata": {},
   "source": [
    "Интернет-магазин «Викишоп» запускает новый сервис. Теперь пользователи могут редактировать и дополнять описания товаров, как в вики-сообществах. То есть клиенты предлагают свои правки и комментируют изменения других. Магазину нужен инструмент, который будет искать токсичные комментарии и отправлять их на модерацию. \n",
    "\n",
    "Необходимо обучить модель классифицировать комментарии на позитивные и негативные. В нашем распоряжении набор данных с разметкой о токсичности правок.\n",
    "\n",
    "Целевое значение метрики качества *F1* не меньше 0.75. \n",
    "\n",
    "**План выполнения проекта**\n",
    "\n",
    "1. Загрузить и подготовить данные.\n",
    "2. Обучить разные модели.\n",
    "3. Выбрать лучшую модель и протестировать ее.\n",
    "4. Сделать выводы.\n",
    "\n",
    "**Описание данных**\n",
    "\n",
    "Данные находятся в файле `toxic_comments.csv`. Столбец *text* в нём содержит текст комментария, а *toxic* — целевой признак."
   ]
  },
  {
   "cell_type": "markdown",
   "metadata": {},
   "source": [
    "## Подготовка"
   ]
  },
  {
   "cell_type": "code",
   "execution_count": 1,
   "metadata": {},
   "outputs": [],
   "source": [
    "import pandas as pd\n",
    "import numpy as np\n",
    "import re\n",
    "import nltk\n",
    "from nltk.stem import WordNetLemmatizer\n",
    "from nltk.corpus import stopwords\n",
    "from nltk.corpus import wordnet\n",
    "from sklearn.feature_extraction.text import CountVectorizer\n",
    "from sklearn.feature_extraction.text import TfidfVectorizer\n",
    "from sklearn.model_selection import train_test_split\n",
    "from sklearn.linear_model import LogisticRegression\n",
    "from sklearn.tree import DecisionTreeClassifier\n",
    "from sklearn.ensemble import RandomForestClassifier\n",
    "from sklearn.model_selection import GridSearchCV\n",
    "from catboost import CatBoostClassifier\n",
    "from sklearn.metrics import f1_score\n",
    "from sklearn.utils import shuffle"
   ]
  },
  {
   "cell_type": "code",
   "execution_count": 2,
   "metadata": {
    "scrolled": true
   },
   "outputs": [
    {
     "name": "stdout",
     "output_type": "stream",
     "text": [
      "<class 'pandas.core.frame.DataFrame'>\n",
      "Int64Index: 159292 entries, 0 to 159450\n",
      "Data columns (total 2 columns):\n",
      " #   Column  Non-Null Count   Dtype \n",
      "---  ------  --------------   ----- \n",
      " 0   text    159292 non-null  object\n",
      " 1   toxic   159292 non-null  int64 \n",
      "dtypes: int64(1), object(1)\n",
      "memory usage: 3.6+ MB\n"
     ]
    }
   ],
   "source": [
    "data = pd.read_csv('https://code.s3.yandex.net/datasets/toxic_comments.csv', index_col=[0])\n",
    "data.info()"
   ]
  },
  {
   "cell_type": "code",
   "execution_count": 3,
   "metadata": {},
   "outputs": [
    {
     "data": {
      "text/html": [
       "<div>\n",
       "<style scoped>\n",
       "    .dataframe tbody tr th:only-of-type {\n",
       "        vertical-align: middle;\n",
       "    }\n",
       "\n",
       "    .dataframe tbody tr th {\n",
       "        vertical-align: top;\n",
       "    }\n",
       "\n",
       "    .dataframe thead th {\n",
       "        text-align: right;\n",
       "    }\n",
       "</style>\n",
       "<table border=\"1\" class=\"dataframe\">\n",
       "  <thead>\n",
       "    <tr style=\"text-align: right;\">\n",
       "      <th></th>\n",
       "      <th>text</th>\n",
       "      <th>toxic</th>\n",
       "    </tr>\n",
       "  </thead>\n",
       "  <tbody>\n",
       "    <tr>\n",
       "      <th>0</th>\n",
       "      <td>Explanation\\nWhy the edits made under my usern...</td>\n",
       "      <td>0</td>\n",
       "    </tr>\n",
       "    <tr>\n",
       "      <th>1</th>\n",
       "      <td>D'aww! He matches this background colour I'm s...</td>\n",
       "      <td>0</td>\n",
       "    </tr>\n",
       "    <tr>\n",
       "      <th>2</th>\n",
       "      <td>Hey man, I'm really not trying to edit war. It...</td>\n",
       "      <td>0</td>\n",
       "    </tr>\n",
       "    <tr>\n",
       "      <th>3</th>\n",
       "      <td>\"\\nMore\\nI can't make any real suggestions on ...</td>\n",
       "      <td>0</td>\n",
       "    </tr>\n",
       "    <tr>\n",
       "      <th>4</th>\n",
       "      <td>You, sir, are my hero. Any chance you remember...</td>\n",
       "      <td>0</td>\n",
       "    </tr>\n",
       "  </tbody>\n",
       "</table>\n",
       "</div>"
      ],
      "text/plain": [
       "                                                text  toxic\n",
       "0  Explanation\\nWhy the edits made under my usern...      0\n",
       "1  D'aww! He matches this background colour I'm s...      0\n",
       "2  Hey man, I'm really not trying to edit war. It...      0\n",
       "3  \"\\nMore\\nI can't make any real suggestions on ...      0\n",
       "4  You, sir, are my hero. Any chance you remember...      0"
      ]
     },
     "execution_count": 3,
     "metadata": {},
     "output_type": "execute_result"
    }
   ],
   "source": [
    "data.head()"
   ]
  },
  {
   "cell_type": "code",
   "execution_count": 4,
   "metadata": {},
   "outputs": [
    {
     "data": {
      "image/png": "[encoded data removed]",
      "text/plain": [
       "<Figure size 432x288 with 1 Axes>"
      ]
     },
     "metadata": {
      "needs_background": "light"
     },
     "output_type": "display_data"
    }
   ],
   "source": [
    "data.hist();"
   ]
  },
  {
   "cell_type": "markdown",
   "metadata": {},
   "source": [
    "В целевом признаке есть сильный дисбаланс, что необходимо учесть в обучении модели"
   ]
  },
  {
   "cell_type": "code",
   "execution_count": 5,
   "metadata": {},
   "outputs": [],
   "source": [
    "#функция для очистки текста\n",
    "def clear_text(text):\n",
    "    new_text = re.sub(r'[^a-zA-Z ]', ' ', text)\n",
    "    new_text = new_text.split()\n",
    "    return \" \".join(new_text)"
   ]
  },
  {
   "cell_type": "code",
   "execution_count": 31,
   "metadata": {},
   "outputs": [],
   "source": [
    "#для ускорения работы кода оставим сэмпл в 20% от исходного датасета.\n",
    "#в финальной версии прогоняем алгоритм на полной выборке\n",
    "#data = data.sample(frac=0.2, random_state=12345)"
   ]
  },
  {
   "cell_type": "code",
   "execution_count": 8,
   "metadata": {},
   "outputs": [
    {
     "data": {
      "text/html": [
       "<div>\n",
       "<style scoped>\n",
       "    .dataframe tbody tr th:only-of-type {\n",
       "        vertical-align: middle;\n",
       "    }\n",
       "\n",
       "    .dataframe tbody tr th {\n",
       "        vertical-align: top;\n",
       "    }\n",
       "\n",
       "    .dataframe thead th {\n",
       "        text-align: right;\n",
       "    }\n",
       "</style>\n",
       "<table border=\"1\" class=\"dataframe\">\n",
       "  <thead>\n",
       "    <tr style=\"text-align: right;\">\n",
       "      <th></th>\n",
       "      <th>text</th>\n",
       "      <th>toxic</th>\n",
       "    </tr>\n",
       "  </thead>\n",
       "  <tbody>\n",
       "    <tr>\n",
       "      <th>0</th>\n",
       "      <td>Explanation Why the edits made under my userna...</td>\n",
       "      <td>0</td>\n",
       "    </tr>\n",
       "    <tr>\n",
       "      <th>1</th>\n",
       "      <td>D aww He matches this background colour I m se...</td>\n",
       "      <td>0</td>\n",
       "    </tr>\n",
       "    <tr>\n",
       "      <th>2</th>\n",
       "      <td>Hey man I m really not trying to edit war It s...</td>\n",
       "      <td>0</td>\n",
       "    </tr>\n",
       "    <tr>\n",
       "      <th>3</th>\n",
       "      <td>More I can t make any real suggestions on impr...</td>\n",
       "      <td>0</td>\n",
       "    </tr>\n",
       "    <tr>\n",
       "      <th>4</th>\n",
       "      <td>You sir are my hero Any chance you remember wh...</td>\n",
       "      <td>0</td>\n",
       "    </tr>\n",
       "    <tr>\n",
       "      <th>...</th>\n",
       "      <td>...</td>\n",
       "      <td>...</td>\n",
       "    </tr>\n",
       "    <tr>\n",
       "      <th>159287</th>\n",
       "      <td>And for the second time of asking when your vi...</td>\n",
       "      <td>0</td>\n",
       "    </tr>\n",
       "    <tr>\n",
       "      <th>159288</th>\n",
       "      <td>You should be ashamed of yourself That is a ho...</td>\n",
       "      <td>0</td>\n",
       "    </tr>\n",
       "    <tr>\n",
       "      <th>159289</th>\n",
       "      <td>Spitzer Umm theres no actual article for prost...</td>\n",
       "      <td>0</td>\n",
       "    </tr>\n",
       "    <tr>\n",
       "      <th>159290</th>\n",
       "      <td>And it looks like it was actually you who put ...</td>\n",
       "      <td>0</td>\n",
       "    </tr>\n",
       "    <tr>\n",
       "      <th>159291</th>\n",
       "      <td>And I really don t think you understand I came...</td>\n",
       "      <td>0</td>\n",
       "    </tr>\n",
       "  </tbody>\n",
       "</table>\n",
       "<p>159292 rows × 2 columns</p>\n",
       "</div>"
      ],
      "text/plain": [
       "                                                     text  toxic\n",
       "0       Explanation Why the edits made under my userna...      0\n",
       "1       D aww He matches this background colour I m se...      0\n",
       "2       Hey man I m really not trying to edit war It s...      0\n",
       "3       More I can t make any real suggestions on impr...      0\n",
       "4       You sir are my hero Any chance you remember wh...      0\n",
       "...                                                   ...    ...\n",
       "159287  And for the second time of asking when your vi...      0\n",
       "159288  You should be ashamed of yourself That is a ho...      0\n",
       "159289  Spitzer Umm theres no actual article for prost...      0\n",
       "159290  And it looks like it was actually you who put ...      0\n",
       "159291  And I really don t think you understand I came...      0\n",
       "\n",
       "[159292 rows x 2 columns]"
      ]
     },
     "execution_count": 8,
     "metadata": {},
     "output_type": "execute_result"
    }
   ],
   "source": [
    "data = data.reset_index(drop=True)\n",
    "\n",
    "#очистим текст написанной функцией\n",
    "for i in range(len(data['text'])):\n",
    "    data.loc[i, 'text'] = clear_text(data.loc[i, 'text'])\n",
    "\n",
    "data"
   ]
  },
  {
   "cell_type": "code",
   "execution_count": 9,
   "metadata": {},
   "outputs": [],
   "source": [
    "features = data.drop('toxic', axis=1)\n",
    "target = data['toxic']\n",
    "\n",
    "features_train, features_vt, target_train, target_vt = train_test_split(\n",
    "    features, target, test_size=0.2, random_state=12345, stratify=target)\n",
    "\n",
    "features_valid, features_test, target_valid, target_test = train_test_split(\n",
    "    features_vt, target_vt, test_size=0.5, random_state=12345, stratify=target_vt)"
   ]
  },
  {
   "cell_type": "code",
   "execution_count": 10,
   "metadata": {},
   "outputs": [],
   "source": [
    "features_train = features_train.reset_index(drop=True)\n",
    "features_valid = features_valid.reset_index(drop=True)\n",
    "features_test = features_test.reset_index(drop=True)\n",
    "\n",
    "target_train = target_train.reset_index(drop=True)\n",
    "target_valid = target_valid.reset_index(drop=True)\n",
    "target_test = target_test.reset_index(drop=True)"
   ]
  },
  {
   "cell_type": "code",
   "execution_count": 11,
   "metadata": {},
   "outputs": [],
   "source": [
    "#функция лемматизации с POS\n",
    "def get_wordnet_pos(word):\n",
    "    tag = nltk.pos_tag([word])[0][1][0].upper()\n",
    "    tag_dict = {\"J\": wordnet.ADJ,\n",
    "                \"N\": wordnet.NOUN,\n",
    "                \"V\": wordnet.VERB,\n",
    "                \"R\": wordnet.ADV}\n",
    "    return tag_dict.get(tag, wordnet.NOUN)"
   ]
  },
  {
   "cell_type": "code",
   "execution_count": 12,
   "metadata": {},
   "outputs": [
    {
     "name": "stdout",
     "output_type": "stream",
     "text": [
      "CPU times: user 14min 37s, sys: 1min 19s, total: 15min 57s\n",
      "Wall time: 15min 57s\n"
     ]
    }
   ],
   "source": [
    "%%time\n",
    "\n",
    "#лемматизируем тексты\n",
    "lemmatizer = WordNetLemmatizer()\n",
    "for i in range(len(features_train['text'])):\n",
    "    features_train.loc[i, 'text'] = [lemmatizer.lemmatize(w, get_wordnet_pos(w)) for w in nltk.word_tokenize(features_train.loc[i, 'text'])]\n",
    "    features_train.loc[i, 'text'] = \" \".join(features_train.loc[i, 'text'])"
   ]
  },
  {
   "cell_type": "code",
   "execution_count": 13,
   "metadata": {},
   "outputs": [
    {
     "name": "stdout",
     "output_type": "stream",
     "text": [
      "CPU times: user 1min 49s, sys: 9.89 s, total: 1min 59s\n",
      "Wall time: 1min 59s\n"
     ]
    }
   ],
   "source": [
    "%%time\n",
    "\n",
    "for i in range(len(features_valid['text'])):\n",
    "    features_valid.loc[i, 'text'] = [lemmatizer.lemmatize(w, get_wordnet_pos(w)) for w in nltk.word_tokenize(features_valid.loc[i, 'text'])]\n",
    "    features_valid.loc[i, 'text'] = \" \".join(features_valid.loc[i, 'text'])"
   ]
  },
  {
   "cell_type": "code",
   "execution_count": 14,
   "metadata": {},
   "outputs": [
    {
     "name": "stdout",
     "output_type": "stream",
     "text": [
      "CPU times: user 1min 54s, sys: 10.3 s, total: 2min 5s\n",
      "Wall time: 2min 5s\n"
     ]
    }
   ],
   "source": [
    "%%time\n",
    "\n",
    "for i in range(len(features_test['text'])):\n",
    "    features_test.loc[i, 'text'] = [lemmatizer.lemmatize(w, get_wordnet_pos(w)) for w in nltk.word_tokenize(features_test.loc[i, 'text'])]\n",
    "    features_test.loc[i, 'text'] = \" \".join(features_test.loc[i, 'text'])"
   ]
  },
  {
   "cell_type": "code",
   "execution_count": 15,
   "metadata": {
    "scrolled": true
   },
   "outputs": [
    {
     "data": {
      "text/html": [
       "<div>\n",
       "<style scoped>\n",
       "    .dataframe tbody tr th:only-of-type {\n",
       "        vertical-align: middle;\n",
       "    }\n",
       "\n",
       "    .dataframe tbody tr th {\n",
       "        vertical-align: top;\n",
       "    }\n",
       "\n",
       "    .dataframe thead th {\n",
       "        text-align: right;\n",
       "    }\n",
       "</style>\n",
       "<table border=\"1\" class=\"dataframe\">\n",
       "  <thead>\n",
       "    <tr style=\"text-align: right;\">\n",
       "      <th></th>\n",
       "      <th>text</th>\n",
       "    </tr>\n",
       "  </thead>\n",
       "  <tbody>\n",
       "    <tr>\n",
       "      <th>0</th>\n",
       "      <td>I don t mean to intrude but I have notice the ...</td>\n",
       "    </tr>\n",
       "    <tr>\n",
       "      <th>1</th>\n",
       "      <td>God or whoever whatever I now decree you the c...</td>\n",
       "    </tr>\n",
       "    <tr>\n",
       "      <th>2</th>\n",
       "      <td>Can we keep this neat and sequential We have a...</td>\n",
       "    </tr>\n",
       "    <tr>\n",
       "      <th>3</th>\n",
       "      <td>Here s what you say May Rama block expires Jun...</td>\n",
       "    </tr>\n",
       "    <tr>\n",
       "      <th>4</th>\n",
       "      <td>Sir Giggsy have often say that he like to keep...</td>\n",
       "    </tr>\n",
       "    <tr>\n",
       "      <th>...</th>\n",
       "      <td>...</td>\n",
       "    </tr>\n",
       "    <tr>\n",
       "      <th>127428</th>\n",
       "      <td>Indeed BigDunc that page rightly say that para...</td>\n",
       "    </tr>\n",
       "    <tr>\n",
       "      <th>127429</th>\n",
       "      <td>I m not try to make a point or anything except...</td>\n",
       "    </tr>\n",
       "    <tr>\n",
       "      <th>127430</th>\n",
       "      <td>Forgive my cruddy formattingI m still relative...</td>\n",
       "    </tr>\n",
       "    <tr>\n",
       "      <th>127431</th>\n",
       "      <td>Talk Grasshopper Scouts I move your comment fr...</td>\n",
       "    </tr>\n",
       "    <tr>\n",
       "      <th>127432</th>\n",
       "      <td>Oppose WP COMMONNAME</td>\n",
       "    </tr>\n",
       "  </tbody>\n",
       "</table>\n",
       "<p>127433 rows × 1 columns</p>\n",
       "</div>"
      ],
      "text/plain": [
       "                                                     text\n",
       "0       I don t mean to intrude but I have notice the ...\n",
       "1       God or whoever whatever I now decree you the c...\n",
       "2       Can we keep this neat and sequential We have a...\n",
       "3       Here s what you say May Rama block expires Jun...\n",
       "4       Sir Giggsy have often say that he like to keep...\n",
       "...                                                   ...\n",
       "127428  Indeed BigDunc that page rightly say that para...\n",
       "127429  I m not try to make a point or anything except...\n",
       "127430  Forgive my cruddy formattingI m still relative...\n",
       "127431  Talk Grasshopper Scouts I move your comment fr...\n",
       "127432                               Oppose WP COMMONNAME\n",
       "\n",
       "[127433 rows x 1 columns]"
      ]
     },
     "execution_count": 15,
     "metadata": {},
     "output_type": "execute_result"
    }
   ],
   "source": [
    "#проверка промежуточного результата\n",
    "features_train"
   ]
  },
  {
   "cell_type": "code",
   "execution_count": 16,
   "metadata": {},
   "outputs": [],
   "source": [
    "corpus = features_train['text']\n",
    "corpus_1 = features_valid['text']\n",
    "corpus_2 = features_test['text']"
   ]
  },
  {
   "cell_type": "code",
   "execution_count": 17,
   "metadata": {},
   "outputs": [
    {
     "data": {
      "text/plain": [
       "(127433, 140007)"
      ]
     },
     "execution_count": 17,
     "metadata": {},
     "output_type": "execute_result"
    }
   ],
   "source": [
    "stop_words = set(stopwords.words('english'))\n",
    "count_tf_idf = TfidfVectorizer(stop_words=stop_words)\n",
    "\n",
    "tf_idf_train = count_tf_idf.fit_transform(corpus)\n",
    "\n",
    "tf_idf_train.shape"
   ]
  },
  {
   "cell_type": "code",
   "execution_count": 18,
   "metadata": {},
   "outputs": [
    {
     "data": {
      "text/plain": [
       "<127433x140007 sparse matrix of type '<class 'numpy.float64'>'\n",
       "\twith 3366829 stored elements in Compressed Sparse Row format>"
      ]
     },
     "execution_count": 18,
     "metadata": {},
     "output_type": "execute_result"
    }
   ],
   "source": [
    "tf_idf_train"
   ]
  },
  {
   "cell_type": "code",
   "execution_count": 19,
   "metadata": {},
   "outputs": [
    {
     "data": {
      "text/plain": [
       "(15929, 140007)"
      ]
     },
     "execution_count": 19,
     "metadata": {},
     "output_type": "execute_result"
    }
   ],
   "source": [
    "tf_idf_valid = count_tf_idf.transform(corpus_1)\n",
    "tf_idf_valid.shape"
   ]
  },
  {
   "cell_type": "code",
   "execution_count": 20,
   "metadata": {},
   "outputs": [
    {
     "data": {
      "text/plain": [
       "(15930, 140007)"
      ]
     },
     "execution_count": 20,
     "metadata": {},
     "output_type": "execute_result"
    }
   ],
   "source": [
    "tf_idf_test = count_tf_idf.transform(corpus_2)\n",
    "tf_idf_test.shape"
   ]
  },
  {
   "cell_type": "markdown",
   "metadata": {},
   "source": [
    "## Обучение"
   ]
  },
  {
   "cell_type": "code",
   "execution_count": 21,
   "metadata": {},
   "outputs": [
    {
     "name": "stdout",
     "output_type": "stream",
     "text": [
      "Лучшие параметры: {'C': 10.0, 'penalty': 'l2'}\n",
      "F1 LR: 0.7555635034735373\n"
     ]
    }
   ],
   "source": [
    "# Логистическая регрессия с подбором параметров GridSearch\n",
    "paramsLR = {\"C\":np.logspace(-3,3,7), \"penalty\":[\"l1\",\"l2\"]}\n",
    "modelLR = LogisticRegression(random_state=12345, solver='liblinear', class_weight='balanced')\n",
    "\n",
    "gridLR = GridSearchCV(modelLR, paramsLR, cv = 2, scoring='f1')\n",
    " \n",
    "gridLR.fit(tf_idf_train, target_train)\n",
    "\n",
    "F1LR = gridLR.best_score_\n",
    "\n",
    "print('Лучшие параметры:', gridLR.best_params_)             \n",
    "print('F1 LR:', F1LR)"
   ]
  },
  {
   "cell_type": "code",
   "execution_count": 28,
   "metadata": {},
   "outputs": [
    {
     "name": "stdout",
     "output_type": "stream",
     "text": [
      "F1 LogisticRegression: 0.7766323024054982\n"
     ]
    }
   ],
   "source": [
    "#зафиксируем лучшие параметры: params = {'C': 10.0, 'penalty': 'l2'}\n",
    "model = LogisticRegression(random_state=12345, solver='liblinear', C=10, penalty='l2')\n",
    "model.fit(tf_idf_train, target_train)\n",
    "pred = model.predict(tf_idf_valid)\n",
    "f1_linear = f1_score(target_valid, pred)\n",
    "\n",
    "print('F1 LogisticRegression:', f1_linear)"
   ]
  },
  {
   "cell_type": "code",
   "execution_count": 23,
   "metadata": {},
   "outputs": [
    {
     "name": "stdout",
     "output_type": "stream",
     "text": [
      "F1 best DecisionTree: 0.6211096075778078\n",
      "Best depth: 29\n"
     ]
    }
   ],
   "source": [
    "# Дерево решений\n",
    "best_depth = 0\n",
    "best_f1_tree = 0\n",
    "for depth in range(1, 30, 2):\n",
    "    model = DecisionTreeClassifier(random_state=12345, class_weight='balanced', max_depth=depth)\n",
    "    model.fit(tf_idf_train, target_train)\n",
    "    pred = model.predict(tf_idf_valid)\n",
    "    score = f1_score(target_valid, pred)\n",
    "    if score > best_f1_tree:\n",
    "        best_depth = depth\n",
    "        best_f1_tree = score\n",
    "\n",
    "print('F1 best DecisionTree:', best_f1_tree)\n",
    "print('Best depth:', best_depth)"
   ]
  },
  {
   "cell_type": "code",
   "execution_count": 24,
   "metadata": {},
   "outputs": [
    {
     "name": "stdout",
     "output_type": "stream",
     "text": [
      "Learning rate set to 0.169783\n",
      "0:\tlearn: 0.5264917\ttotal: 3.09s\tremaining: 23m 5s\n",
      "1:\tlearn: 0.4223121\ttotal: 5.39s\tremaining: 20m 6s\n",
      "2:\tlearn: 0.3548286\ttotal: 7.75s\tremaining: 19m 14s\n",
      "3:\tlearn: 0.3131636\ttotal: 10.1s\tremaining: 18m 47s\n",
      "4:\tlearn: 0.2849264\ttotal: 12.5s\tremaining: 18m 33s\n",
      "5:\tlearn: 0.2661239\ttotal: 14.8s\tremaining: 18m 18s\n",
      "6:\tlearn: 0.2529375\ttotal: 17.2s\tremaining: 18m 9s\n",
      "7:\tlearn: 0.2414086\ttotal: 19.6s\tremaining: 18m\n",
      "8:\tlearn: 0.2348309\ttotal: 21.9s\tremaining: 17m 51s\n",
      "9:\tlearn: 0.2292537\ttotal: 24.3s\tremaining: 17m 48s\n",
      "10:\tlearn: 0.2247297\ttotal: 26.6s\tremaining: 17m 40s\n",
      "11:\tlearn: 0.2213757\ttotal: 28.9s\tremaining: 17m 35s\n",
      "12:\tlearn: 0.2184088\ttotal: 31.2s\tremaining: 17m 29s\n",
      "13:\tlearn: 0.2146055\ttotal: 33.7s\tremaining: 17m 30s\n",
      "14:\tlearn: 0.2123230\ttotal: 36s\tremaining: 17m 24s\n",
      "15:\tlearn: 0.2100489\ttotal: 38.3s\tremaining: 17m 19s\n",
      "16:\tlearn: 0.2078115\ttotal: 40.6s\tremaining: 17m 15s\n",
      "17:\tlearn: 0.2053162\ttotal: 43.1s\tremaining: 17m 14s\n",
      "18:\tlearn: 0.2035971\ttotal: 45.5s\tremaining: 17m 12s\n",
      "19:\tlearn: 0.2020513\ttotal: 47.9s\tremaining: 17m 9s\n",
      "20:\tlearn: 0.2005143\ttotal: 50.3s\tremaining: 17m 7s\n",
      "21:\tlearn: 0.1988523\ttotal: 52.8s\tremaining: 17m 6s\n",
      "22:\tlearn: 0.1969857\ttotal: 55.1s\tremaining: 17m 2s\n",
      "23:\tlearn: 0.1957491\ttotal: 57.4s\tremaining: 16m 58s\n",
      "24:\tlearn: 0.1944425\ttotal: 59.7s\tremaining: 16m 54s\n",
      "25:\tlearn: 0.1933343\ttotal: 1m 1s\tremaining: 16m 50s\n",
      "26:\tlearn: 0.1923056\ttotal: 1m 4s\tremaining: 16m 47s\n",
      "27:\tlearn: 0.1912911\ttotal: 1m 6s\tremaining: 16m 43s\n",
      "28:\tlearn: 0.1904189\ttotal: 1m 8s\tremaining: 16m 40s\n",
      "29:\tlearn: 0.1890352\ttotal: 1m 11s\tremaining: 16m 37s\n",
      "30:\tlearn: 0.1880204\ttotal: 1m 13s\tremaining: 16m 35s\n",
      "31:\tlearn: 0.1867051\ttotal: 1m 15s\tremaining: 16m 30s\n",
      "32:\tlearn: 0.1857906\ttotal: 1m 18s\tremaining: 16m 26s\n",
      "33:\tlearn: 0.1849974\ttotal: 1m 20s\tremaining: 16m 22s\n",
      "34:\tlearn: 0.1840725\ttotal: 1m 22s\tremaining: 16m 19s\n",
      "35:\tlearn: 0.1833226\ttotal: 1m 24s\tremaining: 16m 15s\n",
      "36:\tlearn: 0.1823710\ttotal: 1m 27s\tremaining: 16m 11s\n",
      "37:\tlearn: 0.1814405\ttotal: 1m 29s\tremaining: 16m 7s\n",
      "38:\tlearn: 0.1803768\ttotal: 1m 31s\tremaining: 16m 4s\n",
      "39:\tlearn: 0.1796809\ttotal: 1m 33s\tremaining: 16m 1s\n",
      "40:\tlearn: 0.1790347\ttotal: 1m 35s\tremaining: 15m 57s\n",
      "41:\tlearn: 0.1781350\ttotal: 1m 38s\tremaining: 15m 54s\n",
      "42:\tlearn: 0.1774613\ttotal: 1m 40s\tremaining: 15m 51s\n",
      "43:\tlearn: 0.1768433\ttotal: 1m 42s\tremaining: 15m 48s\n",
      "44:\tlearn: 0.1760853\ttotal: 1m 45s\tremaining: 15m 46s\n",
      "45:\tlearn: 0.1756229\ttotal: 1m 47s\tremaining: 15m 43s\n",
      "46:\tlearn: 0.1750781\ttotal: 1m 49s\tremaining: 15m 40s\n",
      "47:\tlearn: 0.1745433\ttotal: 1m 51s\tremaining: 15m 37s\n",
      "48:\tlearn: 0.1739853\ttotal: 1m 54s\tremaining: 15m 34s\n",
      "49:\tlearn: 0.1732625\ttotal: 1m 56s\tremaining: 15m 32s\n",
      "50:\tlearn: 0.1725127\ttotal: 1m 58s\tremaining: 15m 28s\n",
      "51:\tlearn: 0.1720363\ttotal: 2m\tremaining: 15m 25s\n",
      "52:\tlearn: 0.1715248\ttotal: 2m 3s\tremaining: 15m 22s\n",
      "53:\tlearn: 0.1709456\ttotal: 2m 5s\tremaining: 15m 20s\n",
      "54:\tlearn: 0.1704946\ttotal: 2m 7s\tremaining: 15m 17s\n",
      "55:\tlearn: 0.1699534\ttotal: 2m 10s\tremaining: 15m 15s\n",
      "56:\tlearn: 0.1695302\ttotal: 2m 12s\tremaining: 15m 12s\n",
      "57:\tlearn: 0.1687445\ttotal: 2m 14s\tremaining: 15m 9s\n",
      "58:\tlearn: 0.1677975\ttotal: 2m 16s\tremaining: 15m 7s\n",
      "59:\tlearn: 0.1674142\ttotal: 2m 19s\tremaining: 15m 4s\n",
      "60:\tlearn: 0.1667487\ttotal: 2m 21s\tremaining: 15m 1s\n",
      "61:\tlearn: 0.1662538\ttotal: 2m 23s\tremaining: 14m 58s\n",
      "62:\tlearn: 0.1658330\ttotal: 2m 25s\tremaining: 14m 55s\n",
      "63:\tlearn: 0.1653084\ttotal: 2m 27s\tremaining: 14m 52s\n",
      "64:\tlearn: 0.1649606\ttotal: 2m 30s\tremaining: 14m 49s\n",
      "65:\tlearn: 0.1645420\ttotal: 2m 32s\tremaining: 14m 45s\n",
      "66:\tlearn: 0.1641058\ttotal: 2m 34s\tremaining: 14m 43s\n",
      "67:\tlearn: 0.1635668\ttotal: 2m 36s\tremaining: 14m 40s\n",
      "68:\tlearn: 0.1631728\ttotal: 2m 38s\tremaining: 14m 37s\n",
      "69:\tlearn: 0.1627311\ttotal: 2m 41s\tremaining: 14m 34s\n",
      "70:\tlearn: 0.1622759\ttotal: 2m 43s\tremaining: 14m 31s\n",
      "71:\tlearn: 0.1618865\ttotal: 2m 45s\tremaining: 14m 28s\n",
      "72:\tlearn: 0.1615116\ttotal: 2m 47s\tremaining: 14m 26s\n",
      "73:\tlearn: 0.1610490\ttotal: 2m 49s\tremaining: 14m 23s\n",
      "74:\tlearn: 0.1606097\ttotal: 2m 52s\tremaining: 14m 21s\n",
      "75:\tlearn: 0.1601531\ttotal: 2m 54s\tremaining: 14m 18s\n",
      "76:\tlearn: 0.1598281\ttotal: 2m 56s\tremaining: 14m 14s\n",
      "77:\tlearn: 0.1595077\ttotal: 2m 58s\tremaining: 14m 11s\n",
      "78:\tlearn: 0.1590792\ttotal: 3m\tremaining: 14m 9s\n",
      "79:\tlearn: 0.1587069\ttotal: 3m 3s\tremaining: 14m 6s\n",
      "80:\tlearn: 0.1583562\ttotal: 3m 5s\tremaining: 14m 3s\n",
      "81:\tlearn: 0.1577847\ttotal: 3m 7s\tremaining: 14m 1s\n",
      "82:\tlearn: 0.1574477\ttotal: 3m 9s\tremaining: 13m 58s\n",
      "83:\tlearn: 0.1570138\ttotal: 3m 11s\tremaining: 13m 55s\n",
      "84:\tlearn: 0.1566383\ttotal: 3m 14s\tremaining: 13m 53s\n",
      "85:\tlearn: 0.1561974\ttotal: 3m 16s\tremaining: 13m 50s\n",
      "86:\tlearn: 0.1559002\ttotal: 3m 18s\tremaining: 13m 48s\n",
      "87:\tlearn: 0.1556134\ttotal: 3m 20s\tremaining: 13m 45s\n",
      "88:\tlearn: 0.1552490\ttotal: 3m 22s\tremaining: 13m 43s\n",
      "89:\tlearn: 0.1548979\ttotal: 3m 25s\tremaining: 13m 40s\n",
      "90:\tlearn: 0.1545447\ttotal: 3m 27s\tremaining: 13m 37s\n",
      "91:\tlearn: 0.1541265\ttotal: 3m 29s\tremaining: 13m 35s\n",
      "92:\tlearn: 0.1536939\ttotal: 3m 31s\tremaining: 13m 32s\n",
      "93:\tlearn: 0.1534641\ttotal: 3m 33s\tremaining: 13m 29s\n",
      "94:\tlearn: 0.1530174\ttotal: 3m 36s\tremaining: 13m 27s\n",
      "95:\tlearn: 0.1527092\ttotal: 3m 38s\tremaining: 13m 24s\n",
      "96:\tlearn: 0.1524085\ttotal: 3m 40s\tremaining: 13m 22s\n",
      "97:\tlearn: 0.1520910\ttotal: 3m 42s\tremaining: 13m 20s\n",
      "98:\tlearn: 0.1518627\ttotal: 3m 45s\tremaining: 13m 18s\n",
      "99:\tlearn: 0.1515835\ttotal: 3m 47s\tremaining: 13m 16s\n",
      "100:\tlearn: 0.1513299\ttotal: 3m 49s\tremaining: 13m 13s\n",
      "101:\tlearn: 0.1510664\ttotal: 3m 51s\tremaining: 13m 11s\n",
      "102:\tlearn: 0.1508471\ttotal: 3m 54s\tremaining: 13m 8s\n",
      "103:\tlearn: 0.1505310\ttotal: 3m 56s\tremaining: 13m 5s\n",
      "104:\tlearn: 0.1502686\ttotal: 3m 58s\tremaining: 13m 3s\n",
      "105:\tlearn: 0.1499947\ttotal: 4m\tremaining: 13m 1s\n",
      "106:\tlearn: 0.1496806\ttotal: 4m 3s\tremaining: 12m 59s\n",
      "107:\tlearn: 0.1491808\ttotal: 4m 5s\tremaining: 12m 57s\n",
      "108:\tlearn: 0.1489377\ttotal: 4m 7s\tremaining: 12m 54s\n",
      "109:\tlearn: 0.1487050\ttotal: 4m 9s\tremaining: 12m 52s\n",
      "110:\tlearn: 0.1484729\ttotal: 4m 11s\tremaining: 12m 49s\n",
      "111:\tlearn: 0.1481028\ttotal: 4m 14s\tremaining: 12m 46s\n",
      "112:\tlearn: 0.1478598\ttotal: 4m 16s\tremaining: 12m 44s\n",
      "113:\tlearn: 0.1475856\ttotal: 4m 18s\tremaining: 12m 41s\n",
      "114:\tlearn: 0.1473193\ttotal: 4m 20s\tremaining: 12m 39s\n",
      "115:\tlearn: 0.1471039\ttotal: 4m 22s\tremaining: 12m 36s\n",
      "116:\tlearn: 0.1466487\ttotal: 4m 25s\tremaining: 12m 34s\n",
      "117:\tlearn: 0.1464749\ttotal: 4m 27s\tremaining: 12m 31s\n",
      "118:\tlearn: 0.1462464\ttotal: 4m 29s\tremaining: 12m 28s\n",
      "119:\tlearn: 0.1459817\ttotal: 4m 31s\tremaining: 12m 26s\n",
      "120:\tlearn: 0.1458009\ttotal: 4m 33s\tremaining: 12m 23s\n",
      "121:\tlearn: 0.1455973\ttotal: 4m 35s\tremaining: 12m 20s\n",
      "122:\tlearn: 0.1453702\ttotal: 4m 37s\tremaining: 12m 18s\n",
      "123:\tlearn: 0.1451917\ttotal: 4m 40s\tremaining: 12m 16s\n",
      "124:\tlearn: 0.1449997\ttotal: 4m 42s\tremaining: 12m 13s\n",
      "125:\tlearn: 0.1446287\ttotal: 4m 44s\tremaining: 12m 11s\n",
      "126:\tlearn: 0.1444608\ttotal: 4m 46s\tremaining: 12m 9s\n",
      "127:\tlearn: 0.1442083\ttotal: 4m 48s\tremaining: 12m 6s\n",
      "128:\tlearn: 0.1439555\ttotal: 4m 51s\tremaining: 12m 4s\n",
      "129:\tlearn: 0.1437136\ttotal: 4m 53s\tremaining: 12m 2s\n",
      "130:\tlearn: 0.1435646\ttotal: 4m 55s\tremaining: 11m 59s\n",
      "131:\tlearn: 0.1433808\ttotal: 4m 57s\tremaining: 11m 57s\n",
      "132:\tlearn: 0.1432139\ttotal: 4m 59s\tremaining: 11m 54s\n",
      "133:\tlearn: 0.1429749\ttotal: 5m 2s\tremaining: 11m 52s\n",
      "134:\tlearn: 0.1427532\ttotal: 5m 4s\tremaining: 11m 49s\n",
      "135:\tlearn: 0.1425225\ttotal: 5m 6s\tremaining: 11m 47s\n",
      "136:\tlearn: 0.1422635\ttotal: 5m 8s\tremaining: 11m 44s\n",
      "137:\tlearn: 0.1419622\ttotal: 5m 10s\tremaining: 11m 42s\n",
      "138:\tlearn: 0.1418351\ttotal: 5m 12s\tremaining: 11m 39s\n",
      "139:\tlearn: 0.1416794\ttotal: 5m 14s\tremaining: 11m 37s\n",
      "140:\tlearn: 0.1414405\ttotal: 5m 16s\tremaining: 11m 34s\n",
      "141:\tlearn: 0.1411937\ttotal: 5m 19s\tremaining: 11m 32s\n",
      "142:\tlearn: 0.1409659\ttotal: 5m 21s\tremaining: 11m 29s\n",
      "143:\tlearn: 0.1408019\ttotal: 5m 23s\tremaining: 11m 27s\n",
      "144:\tlearn: 0.1405541\ttotal: 5m 25s\tremaining: 11m 24s\n",
      "145:\tlearn: 0.1403528\ttotal: 5m 27s\tremaining: 11m 22s\n",
      "146:\tlearn: 0.1401380\ttotal: 5m 29s\tremaining: 11m 19s\n",
      "147:\tlearn: 0.1398360\ttotal: 5m 32s\tremaining: 11m 17s\n",
      "148:\tlearn: 0.1396838\ttotal: 5m 34s\tremaining: 11m 15s\n",
      "149:\tlearn: 0.1394374\ttotal: 5m 36s\tremaining: 11m 13s\n",
      "150:\tlearn: 0.1391472\ttotal: 5m 38s\tremaining: 11m 11s\n",
      "151:\tlearn: 0.1390248\ttotal: 5m 41s\tremaining: 11m 8s\n",
      "152:\tlearn: 0.1388499\ttotal: 5m 43s\tremaining: 11m 7s\n",
      "153:\tlearn: 0.1385287\ttotal: 5m 46s\tremaining: 11m 5s\n",
      "154:\tlearn: 0.1382632\ttotal: 5m 48s\tremaining: 11m 3s\n",
      "155:\tlearn: 0.1381547\ttotal: 5m 50s\tremaining: 11m\n",
      "156:\tlearn: 0.1380368\ttotal: 5m 52s\tremaining: 10m 58s\n",
      "157:\tlearn: 0.1379319\ttotal: 5m 55s\tremaining: 10m 56s\n",
      "158:\tlearn: 0.1377962\ttotal: 5m 57s\tremaining: 10m 53s\n",
      "159:\tlearn: 0.1376789\ttotal: 5m 59s\tremaining: 10m 51s\n",
      "160:\tlearn: 0.1374769\ttotal: 6m 1s\tremaining: 10m 48s\n",
      "161:\tlearn: 0.1372352\ttotal: 6m 3s\tremaining: 10m 46s\n",
      "162:\tlearn: 0.1369781\ttotal: 6m 5s\tremaining: 10m 43s\n",
      "163:\tlearn: 0.1368107\ttotal: 6m 7s\tremaining: 10m 41s\n",
      "164:\tlearn: 0.1365832\ttotal: 6m 9s\tremaining: 10m 39s\n",
      "165:\tlearn: 0.1363501\ttotal: 6m 12s\tremaining: 10m 36s\n",
      "166:\tlearn: 0.1360218\ttotal: 6m 14s\tremaining: 10m 34s\n",
      "167:\tlearn: 0.1358403\ttotal: 6m 16s\tremaining: 10m 31s\n",
      "168:\tlearn: 0.1356715\ttotal: 6m 18s\tremaining: 10m 29s\n",
      "169:\tlearn: 0.1355736\ttotal: 6m 20s\tremaining: 10m 26s\n",
      "170:\tlearn: 0.1354819\ttotal: 6m 22s\tremaining: 10m 24s\n",
      "171:\tlearn: 0.1353707\ttotal: 6m 24s\tremaining: 10m 21s\n",
      "172:\tlearn: 0.1351192\ttotal: 6m 26s\tremaining: 10m 19s\n",
      "173:\tlearn: 0.1349698\ttotal: 6m 28s\tremaining: 10m 16s\n",
      "174:\tlearn: 0.1347686\ttotal: 6m 31s\tremaining: 10m 14s\n",
      "175:\tlearn: 0.1346129\ttotal: 6m 33s\tremaining: 10m 12s\n",
      "176:\tlearn: 0.1344751\ttotal: 6m 35s\tremaining: 10m 9s\n",
      "177:\tlearn: 0.1343720\ttotal: 6m 37s\tremaining: 10m 7s\n",
      "178:\tlearn: 0.1342659\ttotal: 6m 39s\tremaining: 10m 4s\n",
      "179:\tlearn: 0.1341686\ttotal: 6m 41s\tremaining: 10m 2s\n",
      "180:\tlearn: 0.1340825\ttotal: 6m 43s\tremaining: 9m 59s\n",
      "181:\tlearn: 0.1339829\ttotal: 6m 45s\tremaining: 9m 57s\n",
      "182:\tlearn: 0.1336780\ttotal: 6m 48s\tremaining: 9m 55s\n",
      "183:\tlearn: 0.1334538\ttotal: 6m 50s\tremaining: 9m 53s\n",
      "184:\tlearn: 0.1331749\ttotal: 6m 52s\tremaining: 9m 51s\n",
      "185:\tlearn: 0.1330096\ttotal: 6m 54s\tremaining: 9m 48s\n",
      "186:\tlearn: 0.1329215\ttotal: 6m 57s\tremaining: 9m 46s\n",
      "187:\tlearn: 0.1327381\ttotal: 6m 59s\tremaining: 9m 44s\n",
      "188:\tlearn: 0.1326005\ttotal: 7m 1s\tremaining: 9m 42s\n",
      "189:\tlearn: 0.1325171\ttotal: 7m 3s\tremaining: 9m 39s\n",
      "190:\tlearn: 0.1323188\ttotal: 7m 5s\tremaining: 9m 37s\n",
      "191:\tlearn: 0.1321343\ttotal: 7m 7s\tremaining: 9m 35s\n",
      "192:\tlearn: 0.1319807\ttotal: 7m 10s\tremaining: 9m 32s\n",
      "193:\tlearn: 0.1318648\ttotal: 7m 12s\tremaining: 9m 30s\n",
      "194:\tlearn: 0.1317163\ttotal: 7m 14s\tremaining: 9m 27s\n",
      "195:\tlearn: 0.1315456\ttotal: 7m 16s\tremaining: 9m 25s\n",
      "196:\tlearn: 0.1314544\ttotal: 7m 18s\tremaining: 9m 23s\n",
      "197:\tlearn: 0.1313260\ttotal: 7m 20s\tremaining: 9m 21s\n",
      "198:\tlearn: 0.1311570\ttotal: 7m 23s\tremaining: 9m 18s\n",
      "199:\tlearn: 0.1310769\ttotal: 7m 25s\tremaining: 9m 16s\n",
      "200:\tlearn: 0.1310002\ttotal: 7m 27s\tremaining: 9m 13s\n",
      "201:\tlearn: 0.1309162\ttotal: 7m 29s\tremaining: 9m 11s\n",
      "202:\tlearn: 0.1307200\ttotal: 7m 31s\tremaining: 9m 9s\n",
      "203:\tlearn: 0.1305476\ttotal: 7m 33s\tremaining: 9m 7s\n",
      "204:\tlearn: 0.1304258\ttotal: 7m 35s\tremaining: 9m 4s\n",
      "205:\tlearn: 0.1303040\ttotal: 7m 37s\tremaining: 9m 2s\n",
      "206:\tlearn: 0.1302249\ttotal: 7m 39s\tremaining: 8m 59s\n",
      "207:\tlearn: 0.1301542\ttotal: 7m 42s\tremaining: 8m 57s\n",
      "208:\tlearn: 0.1300805\ttotal: 7m 44s\tremaining: 8m 55s\n",
      "209:\tlearn: 0.1300060\ttotal: 7m 46s\tremaining: 8m 52s\n",
      "210:\tlearn: 0.1297596\ttotal: 7m 48s\tremaining: 8m 50s\n",
      "211:\tlearn: 0.1295620\ttotal: 7m 50s\tremaining: 8m 48s\n",
      "212:\tlearn: 0.1294438\ttotal: 7m 52s\tremaining: 8m 46s\n",
      "213:\tlearn: 0.1293206\ttotal: 7m 54s\tremaining: 8m 43s\n",
      "214:\tlearn: 0.1292509\ttotal: 7m 56s\tremaining: 8m 41s\n",
      "215:\tlearn: 0.1291482\ttotal: 7m 59s\tremaining: 8m 38s\n",
      "216:\tlearn: 0.1290145\ttotal: 8m 1s\tremaining: 8m 36s\n",
      "217:\tlearn: 0.1288419\ttotal: 8m 3s\tremaining: 8m 34s\n",
      "218:\tlearn: 0.1287741\ttotal: 8m 5s\tremaining: 8m 32s\n",
      "219:\tlearn: 0.1286336\ttotal: 8m 7s\tremaining: 8m 29s\n",
      "220:\tlearn: 0.1285266\ttotal: 8m 9s\tremaining: 8m 27s\n",
      "221:\tlearn: 0.1284473\ttotal: 8m 11s\tremaining: 8m 25s\n",
      "222:\tlearn: 0.1283239\ttotal: 8m 13s\tremaining: 8m 22s\n",
      "223:\tlearn: 0.1281619\ttotal: 8m 16s\tremaining: 8m 20s\n",
      "224:\tlearn: 0.1280585\ttotal: 8m 18s\tremaining: 8m 18s\n",
      "225:\tlearn: 0.1278746\ttotal: 8m 20s\tremaining: 8m 16s\n",
      "226:\tlearn: 0.1277319\ttotal: 8m 22s\tremaining: 8m 13s\n",
      "227:\tlearn: 0.1276656\ttotal: 8m 24s\tremaining: 8m 11s\n",
      "228:\tlearn: 0.1275606\ttotal: 8m 26s\tremaining: 8m 9s\n",
      "229:\tlearn: 0.1273791\ttotal: 8m 28s\tremaining: 8m 6s\n",
      "230:\tlearn: 0.1271570\ttotal: 8m 31s\tremaining: 8m 4s\n",
      "231:\tlearn: 0.1270927\ttotal: 8m 33s\tremaining: 8m 2s\n",
      "232:\tlearn: 0.1270116\ttotal: 8m 35s\tremaining: 7m 59s\n",
      "233:\tlearn: 0.1268783\ttotal: 8m 37s\tremaining: 7m 57s\n",
      "234:\tlearn: 0.1266520\ttotal: 8m 39s\tremaining: 7m 55s\n",
      "235:\tlearn: 0.1264845\ttotal: 8m 41s\tremaining: 7m 53s\n",
      "236:\tlearn: 0.1263265\ttotal: 8m 44s\tremaining: 7m 51s\n",
      "237:\tlearn: 0.1262509\ttotal: 8m 46s\tremaining: 7m 48s\n",
      "238:\tlearn: 0.1261857\ttotal: 8m 48s\tremaining: 7m 46s\n",
      "239:\tlearn: 0.1259929\ttotal: 8m 50s\tremaining: 7m 44s\n",
      "240:\tlearn: 0.1258846\ttotal: 8m 52s\tremaining: 7m 42s\n",
      "241:\tlearn: 0.1257300\ttotal: 8m 54s\tremaining: 7m 39s\n",
      "242:\tlearn: 0.1256718\ttotal: 8m 57s\tremaining: 7m 37s\n",
      "243:\tlearn: 0.1254909\ttotal: 8m 59s\tremaining: 7m 35s\n",
      "244:\tlearn: 0.1254157\ttotal: 9m 1s\tremaining: 7m 32s\n",
      "245:\tlearn: 0.1252411\ttotal: 9m 3s\tremaining: 7m 30s\n",
      "246:\tlearn: 0.1250844\ttotal: 9m 5s\tremaining: 7m 28s\n",
      "247:\tlearn: 0.1249482\ttotal: 9m 7s\tremaining: 7m 26s\n",
      "248:\tlearn: 0.1248324\ttotal: 9m 9s\tremaining: 7m 23s\n",
      "249:\tlearn: 0.1247621\ttotal: 9m 12s\tremaining: 7m 21s\n",
      "250:\tlearn: 0.1245529\ttotal: 9m 14s\tremaining: 7m 19s\n",
      "251:\tlearn: 0.1243679\ttotal: 9m 16s\tremaining: 7m 17s\n",
      "252:\tlearn: 0.1242072\ttotal: 9m 18s\tremaining: 7m 14s\n",
      "253:\tlearn: 0.1240546\ttotal: 9m 20s\tremaining: 7m 12s\n",
      "254:\tlearn: 0.1239875\ttotal: 9m 22s\tremaining: 7m 10s\n",
      "255:\tlearn: 0.1239274\ttotal: 9m 24s\tremaining: 7m 8s\n",
      "256:\tlearn: 0.1238498\ttotal: 9m 26s\tremaining: 7m 5s\n",
      "257:\tlearn: 0.1237793\ttotal: 9m 29s\tremaining: 7m 3s\n",
      "258:\tlearn: 0.1236558\ttotal: 9m 31s\tremaining: 7m 1s\n",
      "259:\tlearn: 0.1235675\ttotal: 9m 33s\tremaining: 6m 59s\n",
      "260:\tlearn: 0.1233931\ttotal: 9m 35s\tremaining: 6m 56s\n",
      "261:\tlearn: 0.1233321\ttotal: 9m 37s\tremaining: 6m 54s\n",
      "262:\tlearn: 0.1232122\ttotal: 9m 39s\tremaining: 6m 52s\n",
      "263:\tlearn: 0.1230875\ttotal: 9m 42s\tremaining: 6m 50s\n",
      "264:\tlearn: 0.1229658\ttotal: 9m 44s\tremaining: 6m 48s\n",
      "265:\tlearn: 0.1229016\ttotal: 9m 46s\tremaining: 6m 45s\n",
      "266:\tlearn: 0.1227012\ttotal: 9m 49s\tremaining: 6m 43s\n",
      "267:\tlearn: 0.1226446\ttotal: 9m 51s\tremaining: 6m 41s\n",
      "268:\tlearn: 0.1225866\ttotal: 9m 53s\tremaining: 6m 39s\n",
      "269:\tlearn: 0.1224900\ttotal: 9m 56s\tremaining: 6m 37s\n",
      "270:\tlearn: 0.1224340\ttotal: 9m 58s\tremaining: 6m 35s\n",
      "271:\tlearn: 0.1223747\ttotal: 10m\tremaining: 6m 33s\n",
      "272:\tlearn: 0.1222537\ttotal: 10m 3s\tremaining: 6m 31s\n",
      "273:\tlearn: 0.1221809\ttotal: 10m 5s\tremaining: 6m 28s\n",
      "274:\tlearn: 0.1220314\ttotal: 10m 7s\tremaining: 6m 26s\n",
      "275:\tlearn: 0.1219310\ttotal: 10m 10s\tremaining: 6m 24s\n",
      "276:\tlearn: 0.1218087\ttotal: 10m 12s\tremaining: 6m 22s\n",
      "277:\tlearn: 0.1216176\ttotal: 10m 15s\tremaining: 6m 20s\n",
      "278:\tlearn: 0.1215535\ttotal: 10m 17s\tremaining: 6m 18s\n",
      "279:\tlearn: 0.1214998\ttotal: 10m 19s\tremaining: 6m 15s\n",
      "280:\tlearn: 0.1214453\ttotal: 10m 21s\tremaining: 6m 13s\n",
      "281:\tlearn: 0.1213926\ttotal: 10m 23s\tremaining: 6m 11s\n",
      "282:\tlearn: 0.1213029\ttotal: 10m 25s\tremaining: 6m 9s\n",
      "283:\tlearn: 0.1212497\ttotal: 10m 27s\tremaining: 6m 6s\n",
      "284:\tlearn: 0.1212030\ttotal: 10m 29s\tremaining: 6m 4s\n",
      "285:\tlearn: 0.1211283\ttotal: 10m 31s\tremaining: 6m 2s\n",
      "286:\tlearn: 0.1210702\ttotal: 10m 33s\tremaining: 5m 59s\n",
      "287:\tlearn: 0.1210179\ttotal: 10m 35s\tremaining: 5m 57s\n",
      "288:\tlearn: 0.1208760\ttotal: 10m 37s\tremaining: 5m 55s\n",
      "289:\tlearn: 0.1208009\ttotal: 10m 39s\tremaining: 5m 52s\n",
      "290:\tlearn: 0.1206943\ttotal: 10m 41s\tremaining: 5m 50s\n",
      "291:\tlearn: 0.1205486\ttotal: 10m 43s\tremaining: 5m 48s\n",
      "292:\tlearn: 0.1204911\ttotal: 10m 45s\tremaining: 5m 46s\n",
      "293:\tlearn: 0.1204425\ttotal: 10m 48s\tremaining: 5m 43s\n",
      "294:\tlearn: 0.1203073\ttotal: 10m 50s\tremaining: 5m 41s\n",
      "295:\tlearn: 0.1202405\ttotal: 10m 52s\tremaining: 5m 39s\n",
      "296:\tlearn: 0.1201946\ttotal: 10m 54s\tremaining: 5m 37s\n",
      "297:\tlearn: 0.1201062\ttotal: 10m 56s\tremaining: 5m 34s\n",
      "298:\tlearn: 0.1200187\ttotal: 10m 58s\tremaining: 5m 32s\n",
      "299:\tlearn: 0.1199677\ttotal: 11m\tremaining: 5m 30s\n",
      "300:\tlearn: 0.1199206\ttotal: 11m 2s\tremaining: 5m 27s\n",
      "301:\tlearn: 0.1198358\ttotal: 11m 4s\tremaining: 5m 25s\n",
      "302:\tlearn: 0.1197914\ttotal: 11m 6s\tremaining: 5m 23s\n",
      "303:\tlearn: 0.1196490\ttotal: 11m 8s\tremaining: 5m 21s\n",
      "304:\tlearn: 0.1196055\ttotal: 11m 10s\tremaining: 5m 18s\n",
      "305:\tlearn: 0.1195543\ttotal: 11m 12s\tremaining: 5m 16s\n",
      "306:\tlearn: 0.1193736\ttotal: 11m 14s\tremaining: 5m 14s\n",
      "307:\tlearn: 0.1192455\ttotal: 11m 16s\tremaining: 5m 12s\n",
      "308:\tlearn: 0.1191021\ttotal: 11m 19s\tremaining: 5m 9s\n",
      "309:\tlearn: 0.1189991\ttotal: 11m 21s\tremaining: 5m 7s\n",
      "310:\tlearn: 0.1189450\ttotal: 11m 23s\tremaining: 5m 5s\n",
      "311:\tlearn: 0.1188656\ttotal: 11m 25s\tremaining: 5m 3s\n",
      "312:\tlearn: 0.1188181\ttotal: 11m 27s\tremaining: 5m\n",
      "313:\tlearn: 0.1187686\ttotal: 11m 29s\tremaining: 4m 58s\n",
      "314:\tlearn: 0.1187179\ttotal: 11m 31s\tremaining: 4m 56s\n",
      "315:\tlearn: 0.1186489\ttotal: 11m 33s\tremaining: 4m 54s\n",
      "316:\tlearn: 0.1186051\ttotal: 11m 35s\tremaining: 4m 51s\n",
      "317:\tlearn: 0.1184666\ttotal: 11m 37s\tremaining: 4m 49s\n",
      "318:\tlearn: 0.1184201\ttotal: 11m 39s\tremaining: 4m 47s\n",
      "319:\tlearn: 0.1183785\ttotal: 11m 41s\tremaining: 4m 45s\n",
      "320:\tlearn: 0.1182848\ttotal: 11m 43s\tremaining: 4m 42s\n",
      "321:\tlearn: 0.1182035\ttotal: 11m 46s\tremaining: 4m 40s\n",
      "322:\tlearn: 0.1181298\ttotal: 11m 48s\tremaining: 4m 38s\n",
      "323:\tlearn: 0.1180529\ttotal: 11m 50s\tremaining: 4m 36s\n",
      "324:\tlearn: 0.1179848\ttotal: 11m 52s\tremaining: 4m 34s\n",
      "325:\tlearn: 0.1179423\ttotal: 11m 55s\tremaining: 4m 31s\n",
      "326:\tlearn: 0.1178995\ttotal: 11m 57s\tremaining: 4m 29s\n",
      "327:\tlearn: 0.1177973\ttotal: 11m 59s\tremaining: 4m 27s\n",
      "328:\tlearn: 0.1177533\ttotal: 12m 1s\tremaining: 4m 25s\n",
      "329:\tlearn: 0.1177081\ttotal: 12m 3s\tremaining: 4m 23s\n",
      "330:\tlearn: 0.1176547\ttotal: 12m 5s\tremaining: 4m 20s\n",
      "331:\tlearn: 0.1176175\ttotal: 12m 7s\tremaining: 4m 18s\n",
      "332:\tlearn: 0.1174543\ttotal: 12m 9s\tremaining: 4m 16s\n",
      "333:\tlearn: 0.1173885\ttotal: 12m 11s\tremaining: 4m 14s\n",
      "334:\tlearn: 0.1173444\ttotal: 12m 13s\tremaining: 4m 11s\n",
      "335:\tlearn: 0.1173017\ttotal: 12m 16s\tremaining: 4m 9s\n",
      "336:\tlearn: 0.1172496\ttotal: 12m 18s\tremaining: 4m 7s\n",
      "337:\tlearn: 0.1172073\ttotal: 12m 20s\tremaining: 4m 5s\n",
      "338:\tlearn: 0.1171681\ttotal: 12m 22s\tremaining: 4m 3s\n",
      "339:\tlearn: 0.1170802\ttotal: 12m 24s\tremaining: 4m\n",
      "340:\tlearn: 0.1169648\ttotal: 12m 26s\tremaining: 3m 58s\n",
      "341:\tlearn: 0.1168779\ttotal: 12m 28s\tremaining: 3m 56s\n",
      "342:\tlearn: 0.1167948\ttotal: 12m 30s\tremaining: 3m 54s\n",
      "343:\tlearn: 0.1166667\ttotal: 12m 33s\tremaining: 3m 52s\n",
      "344:\tlearn: 0.1165720\ttotal: 12m 35s\tremaining: 3m 49s\n",
      "345:\tlearn: 0.1165298\ttotal: 12m 37s\tremaining: 3m 47s\n",
      "346:\tlearn: 0.1164010\ttotal: 12m 39s\tremaining: 3m 45s\n",
      "347:\tlearn: 0.1163601\ttotal: 12m 41s\tremaining: 3m 43s\n",
      "348:\tlearn: 0.1162818\ttotal: 12m 43s\tremaining: 3m 41s\n",
      "349:\tlearn: 0.1161691\ttotal: 12m 46s\tremaining: 3m 38s\n",
      "350:\tlearn: 0.1161296\ttotal: 12m 48s\tremaining: 3m 36s\n",
      "351:\tlearn: 0.1160908\ttotal: 12m 50s\tremaining: 3m 34s\n",
      "352:\tlearn: 0.1160277\ttotal: 12m 52s\tremaining: 3m 32s\n",
      "353:\tlearn: 0.1159859\ttotal: 12m 54s\tremaining: 3m 30s\n",
      "354:\tlearn: 0.1159399\ttotal: 12m 56s\tremaining: 3m 27s\n",
      "355:\tlearn: 0.1158212\ttotal: 12m 58s\tremaining: 3m 25s\n",
      "356:\tlearn: 0.1156820\ttotal: 13m\tremaining: 3m 23s\n",
      "357:\tlearn: 0.1156408\ttotal: 13m 2s\tremaining: 3m 21s\n",
      "358:\tlearn: 0.1156004\ttotal: 13m 4s\tremaining: 3m 18s\n",
      "359:\tlearn: 0.1154120\ttotal: 13m 7s\tremaining: 3m 16s\n",
      "360:\tlearn: 0.1153750\ttotal: 13m 9s\tremaining: 3m 14s\n",
      "361:\tlearn: 0.1153236\ttotal: 13m 11s\tremaining: 3m 12s\n",
      "362:\tlearn: 0.1152800\ttotal: 13m 13s\tremaining: 3m 10s\n",
      "363:\tlearn: 0.1152070\ttotal: 13m 15s\tremaining: 3m 7s\n",
      "364:\tlearn: 0.1150627\ttotal: 13m 17s\tremaining: 3m 5s\n",
      "365:\tlearn: 0.1150239\ttotal: 13m 20s\tremaining: 3m 3s\n",
      "366:\tlearn: 0.1149368\ttotal: 13m 22s\tremaining: 3m 1s\n",
      "367:\tlearn: 0.1148979\ttotal: 13m 24s\tremaining: 2m 59s\n",
      "368:\tlearn: 0.1147855\ttotal: 13m 26s\tremaining: 2m 57s\n",
      "369:\tlearn: 0.1146739\ttotal: 13m 28s\tremaining: 2m 54s\n",
      "370:\tlearn: 0.1146262\ttotal: 13m 30s\tremaining: 2m 52s\n",
      "371:\tlearn: 0.1144877\ttotal: 13m 32s\tremaining: 2m 50s\n",
      "372:\tlearn: 0.1144194\ttotal: 13m 35s\tremaining: 2m 48s\n",
      "373:\tlearn: 0.1143198\ttotal: 13m 37s\tremaining: 2m 46s\n",
      "374:\tlearn: 0.1142811\ttotal: 13m 39s\tremaining: 2m 43s\n",
      "375:\tlearn: 0.1141931\ttotal: 13m 41s\tremaining: 2m 41s\n",
      "376:\tlearn: 0.1141552\ttotal: 13m 43s\tremaining: 2m 39s\n",
      "377:\tlearn: 0.1141194\ttotal: 13m 45s\tremaining: 2m 37s\n",
      "378:\tlearn: 0.1140720\ttotal: 13m 47s\tremaining: 2m 35s\n",
      "379:\tlearn: 0.1139598\ttotal: 13m 50s\tremaining: 2m 32s\n",
      "380:\tlearn: 0.1137595\ttotal: 13m 52s\tremaining: 2m 30s\n",
      "381:\tlearn: 0.1137203\ttotal: 13m 54s\tremaining: 2m 28s\n",
      "382:\tlearn: 0.1136852\ttotal: 13m 56s\tremaining: 2m 26s\n",
      "383:\tlearn: 0.1136248\ttotal: 13m 58s\tremaining: 2m 24s\n",
      "384:\tlearn: 0.1135250\ttotal: 14m\tremaining: 2m 21s\n",
      "385:\tlearn: 0.1134911\ttotal: 14m 3s\tremaining: 2m 19s\n",
      "386:\tlearn: 0.1133646\ttotal: 14m 5s\tremaining: 2m 17s\n",
      "387:\tlearn: 0.1132628\ttotal: 14m 7s\tremaining: 2m 15s\n",
      "388:\tlearn: 0.1131430\ttotal: 14m 9s\tremaining: 2m 13s\n",
      "389:\tlearn: 0.1130339\ttotal: 14m 11s\tremaining: 2m 11s\n",
      "390:\tlearn: 0.1128782\ttotal: 14m 14s\tremaining: 2m 8s\n",
      "391:\tlearn: 0.1127541\ttotal: 14m 16s\tremaining: 2m 6s\n",
      "392:\tlearn: 0.1126715\ttotal: 14m 18s\tremaining: 2m 4s\n",
      "393:\tlearn: 0.1125711\ttotal: 14m 20s\tremaining: 2m 2s\n",
      "394:\tlearn: 0.1125170\ttotal: 14m 22s\tremaining: 2m\n",
      "395:\tlearn: 0.1124801\ttotal: 14m 24s\tremaining: 1m 57s\n",
      "396:\tlearn: 0.1124446\ttotal: 14m 26s\tremaining: 1m 55s\n",
      "397:\tlearn: 0.1124022\ttotal: 14m 28s\tremaining: 1m 53s\n",
      "398:\tlearn: 0.1123050\ttotal: 14m 31s\tremaining: 1m 51s\n",
      "399:\tlearn: 0.1122689\ttotal: 14m 33s\tremaining: 1m 49s\n",
      "400:\tlearn: 0.1122257\ttotal: 14m 35s\tremaining: 1m 46s\n",
      "401:\tlearn: 0.1121913\ttotal: 14m 37s\tremaining: 1m 44s\n",
      "402:\tlearn: 0.1120845\ttotal: 14m 39s\tremaining: 1m 42s\n",
      "403:\tlearn: 0.1120147\ttotal: 14m 41s\tremaining: 1m 40s\n",
      "404:\tlearn: 0.1119403\ttotal: 14m 43s\tremaining: 1m 38s\n",
      "405:\tlearn: 0.1118942\ttotal: 14m 45s\tremaining: 1m 36s\n",
      "406:\tlearn: 0.1118407\ttotal: 14m 48s\tremaining: 1m 33s\n",
      "407:\tlearn: 0.1118056\ttotal: 14m 50s\tremaining: 1m 31s\n",
      "408:\tlearn: 0.1117703\ttotal: 14m 52s\tremaining: 1m 29s\n",
      "409:\tlearn: 0.1116251\ttotal: 14m 54s\tremaining: 1m 27s\n",
      "410:\tlearn: 0.1115804\ttotal: 14m 56s\tremaining: 1m 25s\n",
      "411:\tlearn: 0.1115465\ttotal: 14m 58s\tremaining: 1m 22s\n",
      "412:\tlearn: 0.1114332\ttotal: 15m\tremaining: 1m 20s\n",
      "413:\tlearn: 0.1113223\ttotal: 15m 2s\tremaining: 1m 18s\n",
      "414:\tlearn: 0.1112817\ttotal: 15m 5s\tremaining: 1m 16s\n",
      "415:\tlearn: 0.1112459\ttotal: 15m 7s\tremaining: 1m 14s\n",
      "416:\tlearn: 0.1111611\ttotal: 15m 9s\tremaining: 1m 11s\n",
      "417:\tlearn: 0.1111084\ttotal: 15m 11s\tremaining: 1m 9s\n",
      "418:\tlearn: 0.1109677\ttotal: 15m 13s\tremaining: 1m 7s\n",
      "419:\tlearn: 0.1109251\ttotal: 15m 15s\tremaining: 1m 5s\n",
      "420:\tlearn: 0.1108303\ttotal: 15m 18s\tremaining: 1m 3s\n",
      "421:\tlearn: 0.1107966\ttotal: 15m 20s\tremaining: 1m 1s\n",
      "422:\tlearn: 0.1106891\ttotal: 15m 22s\tremaining: 58.9s\n",
      "423:\tlearn: 0.1106544\ttotal: 15m 24s\tremaining: 56.7s\n",
      "424:\tlearn: 0.1106130\ttotal: 15m 26s\tremaining: 54.5s\n",
      "425:\tlearn: 0.1105328\ttotal: 15m 28s\tremaining: 52.3s\n",
      "426:\tlearn: 0.1104821\ttotal: 15m 30s\tremaining: 50.1s\n",
      "427:\tlearn: 0.1103385\ttotal: 15m 32s\tremaining: 48s\n",
      "428:\tlearn: 0.1103039\ttotal: 15m 35s\tremaining: 45.8s\n",
      "429:\tlearn: 0.1102209\ttotal: 15m 37s\tremaining: 43.6s\n",
      "430:\tlearn: 0.1101342\ttotal: 15m 39s\tremaining: 41.4s\n",
      "431:\tlearn: 0.1100525\ttotal: 15m 41s\tremaining: 39.2s\n",
      "432:\tlearn: 0.1100200\ttotal: 15m 43s\tremaining: 37s\n",
      "433:\tlearn: 0.1099716\ttotal: 15m 45s\tremaining: 34.9s\n",
      "434:\tlearn: 0.1098929\ttotal: 15m 47s\tremaining: 32.7s\n",
      "435:\tlearn: 0.1098600\ttotal: 15m 50s\tremaining: 30.5s\n",
      "436:\tlearn: 0.1098219\ttotal: 15m 52s\tremaining: 28.3s\n",
      "437:\tlearn: 0.1097629\ttotal: 15m 54s\tremaining: 26.1s\n",
      "438:\tlearn: 0.1097194\ttotal: 15m 56s\tremaining: 24s\n",
      "439:\tlearn: 0.1096040\ttotal: 15m 58s\tremaining: 21.8s\n",
      "440:\tlearn: 0.1094459\ttotal: 16m\tremaining: 19.6s\n",
      "441:\tlearn: 0.1093783\ttotal: 16m 3s\tremaining: 17.4s\n",
      "442:\tlearn: 0.1093342\ttotal: 16m 5s\tremaining: 15.3s\n",
      "443:\tlearn: 0.1092427\ttotal: 16m 7s\tremaining: 13.1s\n",
      "444:\tlearn: 0.1092086\ttotal: 16m 9s\tremaining: 10.9s\n",
      "445:\tlearn: 0.1091167\ttotal: 16m 11s\tremaining: 8.72s\n",
      "446:\tlearn: 0.1090437\ttotal: 16m 14s\tremaining: 6.54s\n",
      "447:\tlearn: 0.1090098\ttotal: 16m 16s\tremaining: 4.36s\n",
      "448:\tlearn: 0.1089736\ttotal: 16m 18s\tremaining: 2.18s\n",
      "449:\tlearn: 0.1088982\ttotal: 16m 20s\tremaining: 0us\n",
      "F1 CatBoost: 0.7429398986241854\n",
      "CPU times: user 16min 49s, sys: 10.1 s, total: 16min 59s\n",
      "Wall time: 17min 3s\n"
     ]
    }
   ],
   "source": [
    "%%time\n",
    "\n",
    "# CatBoost\n",
    "model = CatBoostClassifier(random_state=12345, iterations=450)\n",
    "model.fit(tf_idf_train, target_train)\n",
    "pred = model.predict(tf_idf_valid)\n",
    "f1_cat = f1_score(target_valid, pred)\n",
    "\n",
    "print('F1 CatBoost:', f1_cat)"
   ]
  },
  {
   "cell_type": "code",
   "execution_count": 29,
   "metadata": {},
   "outputs": [
    {
     "data": {
      "text/html": [
       "<div>\n",
       "<style scoped>\n",
       "    .dataframe tbody tr th:only-of-type {\n",
       "        vertical-align: middle;\n",
       "    }\n",
       "\n",
       "    .dataframe tbody tr th {\n",
       "        vertical-align: top;\n",
       "    }\n",
       "\n",
       "    .dataframe thead th {\n",
       "        text-align: right;\n",
       "    }\n",
       "</style>\n",
       "<table border=\"1\" class=\"dataframe\">\n",
       "  <thead>\n",
       "    <tr style=\"text-align: right;\">\n",
       "      <th></th>\n",
       "      <th>model</th>\n",
       "      <th>f1 score</th>\n",
       "    </tr>\n",
       "  </thead>\n",
       "  <tbody>\n",
       "    <tr>\n",
       "      <th>0</th>\n",
       "      <td>DecisionTree</td>\n",
       "      <td>0.621110</td>\n",
       "    </tr>\n",
       "    <tr>\n",
       "      <th>1</th>\n",
       "      <td>LogisticRegression</td>\n",
       "      <td>0.776632</td>\n",
       "    </tr>\n",
       "    <tr>\n",
       "      <th>2</th>\n",
       "      <td>CatBoost</td>\n",
       "      <td>0.742940</td>\n",
       "    </tr>\n",
       "  </tbody>\n",
       "</table>\n",
       "</div>"
      ],
      "text/plain": [
       "                model  f1 score\n",
       "0        DecisionTree  0.621110\n",
       "1  LogisticRegression  0.776632\n",
       "2            CatBoost  0.742940"
      ]
     },
     "metadata": {},
     "output_type": "display_data"
    }
   ],
   "source": [
    "models_comp = pd.DataFrame({'model': ['DecisionTree', 'LogisticRegression', 'CatBoost'],\n",
    "              'f1 score': [best_f1_tree, f1_linear, f1_cat]})\n",
    "display(models_comp)"
   ]
  },
  {
   "cell_type": "markdown",
   "metadata": {},
   "source": [
    "Среди трех моделей лучший результат показывает логистическая регрессия с F1=0.78.\n",
    "Протестируем ее."
   ]
  },
  {
   "cell_type": "markdown",
   "metadata": {},
   "source": [
    "## Тестирование"
   ]
  },
  {
   "cell_type": "code",
   "execution_count": 30,
   "metadata": {},
   "outputs": [
    {
     "name": "stdout",
     "output_type": "stream",
     "text": [
      "F1 LogisticRegression: 0.7810691181477697\n"
     ]
    }
   ],
   "source": [
    "model = LogisticRegression(random_state=12345, solver='liblinear', C=10, penalty='l2')\n",
    "model.fit(tf_idf_train, target_train)\n",
    "pred = model.predict(tf_idf_test)\n",
    "f1_linear = f1_score(target_test, pred)\n",
    "\n",
    "print('F1 LogisticRegression:', f1_linear)"
   ]
  },
  {
   "cell_type": "markdown",
   "metadata": {},
   "source": [
    "## Выводы"
   ]
  },
  {
   "cell_type": "markdown",
   "metadata": {},
   "source": [
    "Для задачи по выявлению токсичных комментариев проделана большая работа:\n",
    "1. Очищен и лемматизирован массив текстов для обучения\\тестирования\n",
    "2. Тексты переведены в формат векторов\n",
    "3. На подготовленных данных обучено несколько моделей.\n",
    "4. Выбрана и протестирована лучшая модель.\n",
    "\n",
    "Лучше всего для данной задачи подошла модель линейной регрессии - она показала наиболее высокое значение F1-score=0.78 как на валидационной, так и на тестовой выборках. В качестве приятного бонуса  - она еще и самая быстрая среди рассмотренных.\n",
    "\n",
    "Гиперпараметры модели выбраны при помощи GridSearchCV, в результате модель справилась даже с несбалансированными классами в целевом признаке.\n",
    "\n",
    "Могу сделать вывод, что ап/даунсемплинг в данном случае бесполезен, т.к. первый не улучшает метрики, но сильно увеличивает затраты времени на выполнение кода, а второй ведет к урезанию обучающей выборки, что пагубно сказывается на качестве модели."
   ]
  },
  {
   "cell_type": "code",
   "execution_count": null,
   "metadata": {},
   "outputs": [],
   "source": []
  }
 ],
 "metadata": {
  "ExecuteTimeLog": [
   {
    "duration": 1426,
    "start_time": "2022-11-13T15:22:47.231Z"
   },
   {
    "duration": 2081,
    "start_time": "2022-11-13T15:22:51.784Z"
   },
   {
    "duration": 3,
    "start_time": "2022-11-13T15:52:49.121Z"
   },
   {
    "duration": 2,
    "start_time": "2022-11-13T15:52:51.061Z"
   },
   {
    "duration": 2,
    "start_time": "2022-11-13T15:52:56.903Z"
   },
   {
    "duration": 1503,
    "start_time": "2022-11-13T16:15:43.837Z"
   },
   {
    "duration": 2853,
    "start_time": "2022-11-13T16:15:45.342Z"
   },
   {
    "duration": 12,
    "start_time": "2022-11-13T16:15:48.196Z"
   },
   {
    "duration": 601,
    "start_time": "2022-11-13T16:15:48.221Z"
   },
   {
    "duration": 3,
    "start_time": "2022-11-13T16:15:48.823Z"
   },
   {
    "duration": 38,
    "start_time": "2022-11-13T16:15:48.828Z"
   },
   {
    "duration": 138,
    "start_time": "2022-11-13T16:15:48.868Z"
   },
   {
    "duration": 79947,
    "start_time": "2022-11-13T16:15:49.008Z"
   },
   {
    "duration": 149,
    "start_time": "2022-11-13T16:17:08.957Z"
   },
   {
    "duration": 0,
    "start_time": "2022-11-13T16:17:09.108Z"
   },
   {
    "duration": 0,
    "start_time": "2022-11-13T16:17:09.109Z"
   },
   {
    "duration": 0,
    "start_time": "2022-11-13T16:17:09.110Z"
   },
   {
    "duration": 0,
    "start_time": "2022-11-13T16:17:09.121Z"
   },
   {
    "duration": 0,
    "start_time": "2022-11-13T16:17:09.122Z"
   },
   {
    "duration": 0,
    "start_time": "2022-11-13T16:17:09.123Z"
   },
   {
    "duration": 0,
    "start_time": "2022-11-13T16:17:09.124Z"
   },
   {
    "duration": 0,
    "start_time": "2022-11-13T16:17:09.126Z"
   },
   {
    "duration": 0,
    "start_time": "2022-11-13T16:17:09.127Z"
   },
   {
    "duration": 0,
    "start_time": "2022-11-13T16:17:09.128Z"
   },
   {
    "duration": 0,
    "start_time": "2022-11-13T16:17:09.129Z"
   },
   {
    "duration": 0,
    "start_time": "2022-11-13T16:17:09.130Z"
   },
   {
    "duration": 0,
    "start_time": "2022-11-13T16:17:09.131Z"
   },
   {
    "duration": 0,
    "start_time": "2022-11-13T16:17:09.132Z"
   },
   {
    "duration": 0,
    "start_time": "2022-11-13T16:17:09.133Z"
   },
   {
    "duration": 0,
    "start_time": "2022-11-13T16:17:09.134Z"
   },
   {
    "duration": 0,
    "start_time": "2022-11-13T16:17:09.135Z"
   },
   {
    "duration": 0,
    "start_time": "2022-11-13T16:17:09.136Z"
   },
   {
    "duration": 0,
    "start_time": "2022-11-13T16:17:09.137Z"
   },
   {
    "duration": 0,
    "start_time": "2022-11-13T16:17:09.138Z"
   },
   {
    "duration": 21,
    "start_time": "2022-11-13T16:18:14.233Z"
   },
   {
    "duration": 6,
    "start_time": "2022-11-13T16:18:20.367Z"
   },
   {
    "duration": 4,
    "start_time": "2022-11-13T16:18:29.261Z"
   },
   {
    "duration": 4,
    "start_time": "2022-11-13T16:18:36.666Z"
   },
   {
    "duration": 199,
    "start_time": "2022-11-13T16:18:36.672Z"
   },
   {
    "duration": 162,
    "start_time": "2022-11-13T16:18:36.873Z"
   },
   {
    "duration": 163,
    "start_time": "2022-11-13T16:18:37.037Z"
   },
   {
    "duration": 8,
    "start_time": "2022-11-13T16:18:37.202Z"
   },
   {
    "duration": 16,
    "start_time": "2022-11-13T16:18:37.212Z"
   },
   {
    "duration": 1130,
    "start_time": "2022-11-13T16:18:37.230Z"
   },
   {
    "duration": 4,
    "start_time": "2022-11-13T16:18:38.362Z"
   },
   {
    "duration": 138,
    "start_time": "2022-11-13T16:18:38.368Z"
   },
   {
    "duration": 135,
    "start_time": "2022-11-13T16:18:38.508Z"
   },
   {
    "duration": 11,
    "start_time": "2022-11-13T16:18:38.645Z"
   },
   {
    "duration": 0,
    "start_time": "2022-11-13T16:18:38.658Z"
   },
   {
    "duration": 0,
    "start_time": "2022-11-13T16:18:38.659Z"
   },
   {
    "duration": 0,
    "start_time": "2022-11-13T16:18:38.660Z"
   },
   {
    "duration": 0,
    "start_time": "2022-11-13T16:18:38.661Z"
   },
   {
    "duration": 975,
    "start_time": "2022-11-13T16:19:36.977Z"
   },
   {
    "duration": 10,
    "start_time": "2022-11-13T16:20:09.375Z"
   },
   {
    "duration": 4,
    "start_time": "2022-11-13T16:20:17.315Z"
   },
   {
    "duration": 4,
    "start_time": "2022-11-13T16:20:30.679Z"
   },
   {
    "duration": 196239,
    "start_time": "2022-11-13T16:20:30.685Z"
   },
   {
    "duration": 24310,
    "start_time": "2022-11-13T16:23:46.927Z"
   },
   {
    "duration": 23113,
    "start_time": "2022-11-13T16:24:11.239Z"
   },
   {
    "duration": 8,
    "start_time": "2022-11-13T16:24:34.355Z"
   },
   {
    "duration": 8,
    "start_time": "2022-11-13T16:24:34.365Z"
   },
   {
    "duration": 1106,
    "start_time": "2022-11-13T16:24:34.375Z"
   },
   {
    "duration": 4,
    "start_time": "2022-11-13T16:24:35.483Z"
   },
   {
    "duration": 139,
    "start_time": "2022-11-13T16:24:35.488Z"
   },
   {
    "duration": 126,
    "start_time": "2022-11-13T16:24:35.628Z"
   },
   {
    "duration": 11,
    "start_time": "2022-11-13T16:24:35.757Z"
   },
   {
    "duration": 0,
    "start_time": "2022-11-13T16:24:35.770Z"
   },
   {
    "duration": 0,
    "start_time": "2022-11-13T16:24:35.772Z"
   },
   {
    "duration": 0,
    "start_time": "2022-11-13T16:24:35.773Z"
   },
   {
    "duration": 0,
    "start_time": "2022-11-13T16:24:35.774Z"
   },
   {
    "duration": 30714,
    "start_time": "2022-11-13T16:29:24.046Z"
   },
   {
    "duration": 11,
    "start_time": "2022-11-13T16:32:02.298Z"
   },
   {
    "duration": 13,
    "start_time": "2022-11-13T16:32:10.097Z"
   },
   {
    "duration": 14,
    "start_time": "2022-11-13T16:32:27.313Z"
   },
   {
    "duration": 1607,
    "start_time": "2022-11-13T16:35:09.995Z"
   },
   {
    "duration": 25625,
    "start_time": "2022-11-13T16:35:27.449Z"
   },
   {
    "duration": 421,
    "start_time": "2022-11-13T16:36:40.959Z"
   },
   {
    "duration": 87,
    "start_time": "2022-11-13T16:37:18.442Z"
   },
   {
    "duration": 291523,
    "start_time": "2022-11-13T16:37:26.817Z"
   },
   {
    "duration": 10,
    "start_time": "2022-11-13T16:42:24.770Z"
   },
   {
    "duration": 53,
    "start_time": "2022-11-13T16:50:48.687Z"
   },
   {
    "duration": 0,
    "start_time": "2022-11-13T16:50:48.742Z"
   },
   {
    "duration": 0,
    "start_time": "2022-11-13T16:50:48.743Z"
   },
   {
    "duration": 0,
    "start_time": "2022-11-13T16:50:48.744Z"
   },
   {
    "duration": 1368,
    "start_time": "2022-11-13T16:51:19.419Z"
   },
   {
    "duration": 3284,
    "start_time": "2022-11-13T16:51:20.789Z"
   },
   {
    "duration": 17,
    "start_time": "2022-11-13T16:51:24.075Z"
   },
   {
    "duration": 452,
    "start_time": "2022-11-13T16:51:24.122Z"
   },
   {
    "duration": 3,
    "start_time": "2022-11-13T16:51:24.577Z"
   },
   {
    "duration": 7,
    "start_time": "2022-11-13T16:51:24.581Z"
   },
   {
    "duration": 28,
    "start_time": "2022-11-13T16:51:24.590Z"
   },
   {
    "duration": 1191546,
    "start_time": "2022-11-13T16:51:24.620Z"
   },
   {
    "duration": 84,
    "start_time": "2022-11-13T17:11:16.167Z"
   },
   {
    "duration": 16,
    "start_time": "2022-11-13T17:11:16.252Z"
   },
   {
    "duration": 4,
    "start_time": "2022-11-13T17:11:16.270Z"
   },
   {
    "duration": 957702,
    "start_time": "2022-11-13T17:11:16.276Z"
   },
   {
    "duration": 119359,
    "start_time": "2022-11-13T17:27:13.980Z"
   },
   {
    "duration": 125331,
    "start_time": "2022-11-13T17:29:13.342Z"
   },
   {
    "duration": 9,
    "start_time": "2022-11-13T17:31:18.675Z"
   },
   {
    "duration": 8,
    "start_time": "2022-11-13T17:31:18.686Z"
   },
   {
    "duration": 5519,
    "start_time": "2022-11-13T17:31:18.696Z"
   },
   {
    "duration": 7,
    "start_time": "2022-11-13T17:31:24.217Z"
   },
   {
    "duration": 677,
    "start_time": "2022-11-13T17:31:24.226Z"
   },
   {
    "duration": 614,
    "start_time": "2022-11-13T17:31:24.904Z"
   },
   {
    "duration": 297818,
    "start_time": "2022-11-13T17:31:25.522Z"
   },
   {
    "duration": 6155,
    "start_time": "2022-11-13T17:36:23.342Z"
   },
   {
    "duration": 181521,
    "start_time": "2022-11-13T17:36:29.498Z"
   },
   {
    "duration": 1023128,
    "start_time": "2022-11-13T17:39:31.021Z"
   },
   {
    "duration": 10,
    "start_time": "2022-11-13T17:56:34.151Z"
   },
   {
    "duration": 25779,
    "start_time": "2022-11-13T17:56:34.165Z"
   },
   {
    "duration": 11,
    "start_time": "2022-11-13T17:59:14.265Z"
   },
   {
    "duration": 15193,
    "start_time": "2022-11-13T17:59:54.768Z"
   },
   {
    "duration": 8,
    "start_time": "2022-11-13T18:00:47.197Z"
   },
   {
    "duration": 15226,
    "start_time": "2022-11-13T18:05:56.714Z"
   },
   {
    "duration": 2,
    "start_time": "2022-11-13T18:24:57.671Z"
   }
  ],
  "kernelspec": {
   "display_name": "Python 3 (ipykernel)",
   "language": "python",
   "name": "python3"
  },
  "language_info": {
   "codemirror_mode": {
    "name": "ipython",
    "version": 3
   },
   "file_extension": ".py",
   "mimetype": "text/x-python",
   "name": "python",
   "nbconvert_exporter": "python",
   "pygments_lexer": "ipython3",
   "version": "3.9.12"
  },
  "toc": {
   "base_numbering": 1,
   "nav_menu": {},
   "number_sections": true,
   "sideBar": true,
   "skip_h1_title": true,
   "title_cell": "Содержание",
   "title_sidebar": "Contents",
   "toc_cell": true,
   "toc_position": {
    "height": "calc(100% - 180px)",
    "left": "10px",
    "top": "150px",
    "width": "165px"
   },
   "toc_section_display": true,
   "toc_window_display": true
  }
 },
 "nbformat": 4,
 "nbformat_minor": 2
}
