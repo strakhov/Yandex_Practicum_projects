{
 "cells": [
  {
   "cell_type": "markdown",
   "id": "d239bc7f",
   "metadata": {},
   "source": [
    "# Восстановление золота из руды"
   ]
  },
  {
   "cell_type": "markdown",
   "id": "c4c0592e",
   "metadata": {},
   "source": [
    "Подготовка прототипа модели машинного обучения для компании разрабатывает решения для эффективной работы промышленных предприятий.\n",
    "\n",
    "Модель должна по параметрам руды на разных этапах обогащения предсказать коэффициент восстановления золота из золотосодержащей руды. В нашем распоряжении данные с параметрами добычи и очистки.\n",
    "\n",
    "Модель поможет оптимизировать производство, чтобы не запускать предприятие с убыточными характеристиками.\n",
    "\n",
    "В нашем распоряжении датасет с параметрами руды на каждом этапе обработки."
   ]
  },
  {
   "cell_type": "markdown",
   "id": "f0b48c25",
   "metadata": {},
   "source": [
    "## Подготовка данных"
   ]
  },
  {
   "cell_type": "code",
   "execution_count": 1,
   "id": "283b5d8f",
   "metadata": {},
   "outputs": [],
   "source": [
    "import pandas as pd\n",
    "import seaborn as sns\n",
    "import matplotlib.pyplot as plt\n",
    "from sklearn.tree import DecisionTreeRegressor\n",
    "from sklearn.ensemble import RandomForestRegressor\n",
    "from sklearn.linear_model import LinearRegression\n",
    "from sklearn.metrics import fbeta_score, make_scorer\n",
    "from sklearn.metrics import mean_absolute_error\n",
    "from sklearn.model_selection import cross_val_score\n",
    "from sklearn.preprocessing import StandardScaler\n",
    "from sklearn.utils import shuffle\n",
    "from sklearn.dummy import DummyRegressor"
   ]
  },
  {
   "cell_type": "code",
   "execution_count": 2,
   "id": "2fdd4698",
   "metadata": {},
   "outputs": [
    {
     "name": "stdout",
     "output_type": "stream",
     "text": [
      "<class 'pandas.core.frame.DataFrame'>\n",
      "RangeIndex: 14149 entries, 0 to 14148\n",
      "Data columns (total 87 columns):\n",
      " #   Column                                              Non-Null Count  Dtype  \n",
      "---  ------                                              --------------  -----  \n",
      " 0   date                                                14149 non-null  object \n",
      " 1   final.output.concentrate_ag                         14148 non-null  float64\n",
      " 2   final.output.concentrate_pb                         14148 non-null  float64\n",
      " 3   final.output.concentrate_sol                        13938 non-null  float64\n",
      " 4   final.output.concentrate_au                         14149 non-null  float64\n",
      " 5   final.output.recovery                               14149 non-null  float64\n",
      " 6   final.output.tail_ag                                14149 non-null  float64\n",
      " 7   final.output.tail_pb                                14049 non-null  float64\n",
      " 8   final.output.tail_sol                               14144 non-null  float64\n",
      " 9   final.output.tail_au                                14149 non-null  float64\n",
      " 10  primary_cleaner.input.sulfate                       14129 non-null  float64\n",
      " 11  primary_cleaner.input.depressant                    14117 non-null  float64\n",
      " 12  primary_cleaner.input.feed_size                     14149 non-null  float64\n",
      " 13  primary_cleaner.input.xanthate                      14049 non-null  float64\n",
      " 14  primary_cleaner.output.concentrate_ag               14149 non-null  float64\n",
      " 15  primary_cleaner.output.concentrate_pb               14063 non-null  float64\n",
      " 16  primary_cleaner.output.concentrate_sol              13863 non-null  float64\n",
      " 17  primary_cleaner.output.concentrate_au               14149 non-null  float64\n",
      " 18  primary_cleaner.output.tail_ag                      14148 non-null  float64\n",
      " 19  primary_cleaner.output.tail_pb                      14134 non-null  float64\n",
      " 20  primary_cleaner.output.tail_sol                     14103 non-null  float64\n",
      " 21  primary_cleaner.output.tail_au                      14149 non-null  float64\n",
      " 22  primary_cleaner.state.floatbank8_a_air              14145 non-null  float64\n",
      " 23  primary_cleaner.state.floatbank8_a_level            14148 non-null  float64\n",
      " 24  primary_cleaner.state.floatbank8_b_air              14145 non-null  float64\n",
      " 25  primary_cleaner.state.floatbank8_b_level            14148 non-null  float64\n",
      " 26  primary_cleaner.state.floatbank8_c_air              14147 non-null  float64\n",
      " 27  primary_cleaner.state.floatbank8_c_level            14148 non-null  float64\n",
      " 28  primary_cleaner.state.floatbank8_d_air              14146 non-null  float64\n",
      " 29  primary_cleaner.state.floatbank8_d_level            14148 non-null  float64\n",
      " 30  rougher.calculation.sulfate_to_au_concentrate       14148 non-null  float64\n",
      " 31  rougher.calculation.floatbank10_sulfate_to_au_feed  14148 non-null  float64\n",
      " 32  rougher.calculation.floatbank11_sulfate_to_au_feed  14148 non-null  float64\n",
      " 33  rougher.calculation.au_pb_ratio                     14149 non-null  float64\n",
      " 34  rougher.input.feed_ag                               14149 non-null  float64\n",
      " 35  rougher.input.feed_pb                               14049 non-null  float64\n",
      " 36  rougher.input.feed_rate                             14141 non-null  float64\n",
      " 37  rougher.input.feed_size                             14005 non-null  float64\n",
      " 38  rougher.input.feed_sol                              14071 non-null  float64\n",
      " 39  rougher.input.feed_au                               14149 non-null  float64\n",
      " 40  rougher.input.floatbank10_sulfate                   14120 non-null  float64\n",
      " 41  rougher.input.floatbank10_xanthate                  14141 non-null  float64\n",
      " 42  rougher.input.floatbank11_sulfate                   14113 non-null  float64\n",
      " 43  rougher.input.floatbank11_xanthate                  13721 non-null  float64\n",
      " 44  rougher.output.concentrate_ag                       14149 non-null  float64\n",
      " 45  rougher.output.concentrate_pb                       14149 non-null  float64\n",
      " 46  rougher.output.concentrate_sol                      14127 non-null  float64\n",
      " 47  rougher.output.concentrate_au                       14149 non-null  float64\n",
      " 48  rougher.output.recovery                             14149 non-null  float64\n",
      " 49  rougher.output.tail_ag                              14148 non-null  float64\n",
      " 50  rougher.output.tail_pb                              14149 non-null  float64\n",
      " 51  rougher.output.tail_sol                             14149 non-null  float64\n",
      " 52  rougher.output.tail_au                              14149 non-null  float64\n",
      " 53  rougher.state.floatbank10_a_air                     14148 non-null  float64\n",
      " 54  rougher.state.floatbank10_a_level                   14148 non-null  float64\n",
      " 55  rougher.state.floatbank10_b_air                     14148 non-null  float64\n",
      " 56  rougher.state.floatbank10_b_level                   14148 non-null  float64\n",
      " 57  rougher.state.floatbank10_c_air                     14148 non-null  float64\n",
      " 58  rougher.state.floatbank10_c_level                   14148 non-null  float64\n",
      " 59  rougher.state.floatbank10_d_air                     14149 non-null  float64\n",
      " 60  rougher.state.floatbank10_d_level                   14149 non-null  float64\n",
      " 61  rougher.state.floatbank10_e_air                     13713 non-null  float64\n",
      " 62  rougher.state.floatbank10_e_level                   14149 non-null  float64\n",
      " 63  rougher.state.floatbank10_f_air                     14149 non-null  float64\n",
      " 64  rougher.state.floatbank10_f_level                   14149 non-null  float64\n",
      " 65  secondary_cleaner.output.tail_ag                    14147 non-null  float64\n",
      " 66  secondary_cleaner.output.tail_pb                    14139 non-null  float64\n",
      " 67  secondary_cleaner.output.tail_sol                   12544 non-null  float64\n",
      " 68  secondary_cleaner.output.tail_au                    14149 non-null  float64\n",
      " 69  secondary_cleaner.state.floatbank2_a_air            13932 non-null  float64\n",
      " 70  secondary_cleaner.state.floatbank2_a_level          14148 non-null  float64\n",
      " 71  secondary_cleaner.state.floatbank2_b_air            14128 non-null  float64\n",
      " 72  secondary_cleaner.state.floatbank2_b_level          14148 non-null  float64\n",
      " 73  secondary_cleaner.state.floatbank3_a_air            14145 non-null  float64\n",
      " 74  secondary_cleaner.state.floatbank3_a_level          14148 non-null  float64\n",
      " 75  secondary_cleaner.state.floatbank3_b_air            14148 non-null  float64\n",
      " 76  secondary_cleaner.state.floatbank3_b_level          14148 non-null  float64\n",
      " 77  secondary_cleaner.state.floatbank4_a_air            14143 non-null  float64\n",
      " 78  secondary_cleaner.state.floatbank4_a_level          14148 non-null  float64\n",
      " 79  secondary_cleaner.state.floatbank4_b_air            14148 non-null  float64\n",
      " 80  secondary_cleaner.state.floatbank4_b_level          14148 non-null  float64\n",
      " 81  secondary_cleaner.state.floatbank5_a_air            14148 non-null  float64\n",
      " 82  secondary_cleaner.state.floatbank5_a_level          14148 non-null  float64\n",
      " 83  secondary_cleaner.state.floatbank5_b_air            14148 non-null  float64\n",
      " 84  secondary_cleaner.state.floatbank5_b_level          14148 non-null  float64\n",
      " 85  secondary_cleaner.state.floatbank6_a_air            14147 non-null  float64\n",
      " 86  secondary_cleaner.state.floatbank6_a_level          14148 non-null  float64\n",
      "dtypes: float64(86), object(1)\n",
      "memory usage: 9.4+ MB\n"
     ]
    },
    {
     "data": {
      "text/plain": [
       "None"
      ]
     },
     "metadata": {},
     "output_type": "display_data"
    },
    {
     "name": "stdout",
     "output_type": "stream",
     "text": [
      "<class 'pandas.core.frame.DataFrame'>\n",
      "RangeIndex: 5290 entries, 0 to 5289\n",
      "Data columns (total 53 columns):\n",
      " #   Column                                      Non-Null Count  Dtype  \n",
      "---  ------                                      --------------  -----  \n",
      " 0   date                                        5290 non-null   object \n",
      " 1   primary_cleaner.input.sulfate               5286 non-null   float64\n",
      " 2   primary_cleaner.input.depressant            5285 non-null   float64\n",
      " 3   primary_cleaner.input.feed_size             5290 non-null   float64\n",
      " 4   primary_cleaner.input.xanthate              5286 non-null   float64\n",
      " 5   primary_cleaner.state.floatbank8_a_air      5290 non-null   float64\n",
      " 6   primary_cleaner.state.floatbank8_a_level    5290 non-null   float64\n",
      " 7   primary_cleaner.state.floatbank8_b_air      5290 non-null   float64\n",
      " 8   primary_cleaner.state.floatbank8_b_level    5290 non-null   float64\n",
      " 9   primary_cleaner.state.floatbank8_c_air      5290 non-null   float64\n",
      " 10  primary_cleaner.state.floatbank8_c_level    5290 non-null   float64\n",
      " 11  primary_cleaner.state.floatbank8_d_air      5290 non-null   float64\n",
      " 12  primary_cleaner.state.floatbank8_d_level    5290 non-null   float64\n",
      " 13  rougher.input.feed_ag                       5290 non-null   float64\n",
      " 14  rougher.input.feed_pb                       5290 non-null   float64\n",
      " 15  rougher.input.feed_rate                     5287 non-null   float64\n",
      " 16  rougher.input.feed_size                     5289 non-null   float64\n",
      " 17  rougher.input.feed_sol                      5269 non-null   float64\n",
      " 18  rougher.input.feed_au                       5290 non-null   float64\n",
      " 19  rougher.input.floatbank10_sulfate           5285 non-null   float64\n",
      " 20  rougher.input.floatbank10_xanthate          5290 non-null   float64\n",
      " 21  rougher.input.floatbank11_sulfate           5282 non-null   float64\n",
      " 22  rougher.input.floatbank11_xanthate          5265 non-null   float64\n",
      " 23  rougher.state.floatbank10_a_air             5290 non-null   float64\n",
      " 24  rougher.state.floatbank10_a_level           5290 non-null   float64\n",
      " 25  rougher.state.floatbank10_b_air             5290 non-null   float64\n",
      " 26  rougher.state.floatbank10_b_level           5290 non-null   float64\n",
      " 27  rougher.state.floatbank10_c_air             5290 non-null   float64\n",
      " 28  rougher.state.floatbank10_c_level           5290 non-null   float64\n",
      " 29  rougher.state.floatbank10_d_air             5290 non-null   float64\n",
      " 30  rougher.state.floatbank10_d_level           5290 non-null   float64\n",
      " 31  rougher.state.floatbank10_e_air             5290 non-null   float64\n",
      " 32  rougher.state.floatbank10_e_level           5290 non-null   float64\n",
      " 33  rougher.state.floatbank10_f_air             5290 non-null   float64\n",
      " 34  rougher.state.floatbank10_f_level           5290 non-null   float64\n",
      " 35  secondary_cleaner.state.floatbank2_a_air    5287 non-null   float64\n",
      " 36  secondary_cleaner.state.floatbank2_a_level  5290 non-null   float64\n",
      " 37  secondary_cleaner.state.floatbank2_b_air    5288 non-null   float64\n",
      " 38  secondary_cleaner.state.floatbank2_b_level  5290 non-null   float64\n",
      " 39  secondary_cleaner.state.floatbank3_a_air    5281 non-null   float64\n",
      " 40  secondary_cleaner.state.floatbank3_a_level  5290 non-null   float64\n",
      " 41  secondary_cleaner.state.floatbank3_b_air    5290 non-null   float64\n",
      " 42  secondary_cleaner.state.floatbank3_b_level  5290 non-null   float64\n",
      " 43  secondary_cleaner.state.floatbank4_a_air    5290 non-null   float64\n",
      " 44  secondary_cleaner.state.floatbank4_a_level  5290 non-null   float64\n",
      " 45  secondary_cleaner.state.floatbank4_b_air    5290 non-null   float64\n",
      " 46  secondary_cleaner.state.floatbank4_b_level  5290 non-null   float64\n",
      " 47  secondary_cleaner.state.floatbank5_a_air    5290 non-null   float64\n",
      " 48  secondary_cleaner.state.floatbank5_a_level  5290 non-null   float64\n",
      " 49  secondary_cleaner.state.floatbank5_b_air    5290 non-null   float64\n",
      " 50  secondary_cleaner.state.floatbank5_b_level  5290 non-null   float64\n",
      " 51  secondary_cleaner.state.floatbank6_a_air    5290 non-null   float64\n",
      " 52  secondary_cleaner.state.floatbank6_a_level  5290 non-null   float64\n",
      "dtypes: float64(52), object(1)\n",
      "memory usage: 2.1+ MB\n"
     ]
    },
    {
     "data": {
      "text/plain": [
       "None"
      ]
     },
     "metadata": {},
     "output_type": "display_data"
    },
    {
     "name": "stdout",
     "output_type": "stream",
     "text": [
      "<class 'pandas.core.frame.DataFrame'>\n",
      "RangeIndex: 19439 entries, 0 to 19438\n",
      "Data columns (total 87 columns):\n",
      " #   Column                                              Non-Null Count  Dtype  \n",
      "---  ------                                              --------------  -----  \n",
      " 0   date                                                19439 non-null  object \n",
      " 1   final.output.concentrate_ag                         19438 non-null  float64\n",
      " 2   final.output.concentrate_pb                         19438 non-null  float64\n",
      " 3   final.output.concentrate_sol                        19228 non-null  float64\n",
      " 4   final.output.concentrate_au                         19439 non-null  float64\n",
      " 5   final.output.recovery                               19439 non-null  float64\n",
      " 6   final.output.tail_ag                                19438 non-null  float64\n",
      " 7   final.output.tail_pb                                19338 non-null  float64\n",
      " 8   final.output.tail_sol                               19433 non-null  float64\n",
      " 9   final.output.tail_au                                19439 non-null  float64\n",
      " 10  primary_cleaner.input.sulfate                       19415 non-null  float64\n",
      " 11  primary_cleaner.input.depressant                    19402 non-null  float64\n",
      " 12  primary_cleaner.input.feed_size                     19439 non-null  float64\n",
      " 13  primary_cleaner.input.xanthate                      19335 non-null  float64\n",
      " 14  primary_cleaner.output.concentrate_ag               19439 non-null  float64\n",
      " 15  primary_cleaner.output.concentrate_pb               19323 non-null  float64\n",
      " 16  primary_cleaner.output.concentrate_sol              19069 non-null  float64\n",
      " 17  primary_cleaner.output.concentrate_au               19439 non-null  float64\n",
      " 18  primary_cleaner.output.tail_ag                      19435 non-null  float64\n",
      " 19  primary_cleaner.output.tail_pb                      19418 non-null  float64\n",
      " 20  primary_cleaner.output.tail_sol                     19377 non-null  float64\n",
      " 21  primary_cleaner.output.tail_au                      19439 non-null  float64\n",
      " 22  primary_cleaner.state.floatbank8_a_air              19435 non-null  float64\n",
      " 23  primary_cleaner.state.floatbank8_a_level            19438 non-null  float64\n",
      " 24  primary_cleaner.state.floatbank8_b_air              19435 non-null  float64\n",
      " 25  primary_cleaner.state.floatbank8_b_level            19438 non-null  float64\n",
      " 26  primary_cleaner.state.floatbank8_c_air              19437 non-null  float64\n",
      " 27  primary_cleaner.state.floatbank8_c_level            19438 non-null  float64\n",
      " 28  primary_cleaner.state.floatbank8_d_air              19436 non-null  float64\n",
      " 29  primary_cleaner.state.floatbank8_d_level            19438 non-null  float64\n",
      " 30  rougher.calculation.sulfate_to_au_concentrate       19437 non-null  float64\n",
      " 31  rougher.calculation.floatbank10_sulfate_to_au_feed  19437 non-null  float64\n",
      " 32  rougher.calculation.floatbank11_sulfate_to_au_feed  19437 non-null  float64\n",
      " 33  rougher.calculation.au_pb_ratio                     19439 non-null  float64\n",
      " 34  rougher.input.feed_ag                               19439 non-null  float64\n",
      " 35  rougher.input.feed_pb                               19339 non-null  float64\n",
      " 36  rougher.input.feed_rate                             19428 non-null  float64\n",
      " 37  rougher.input.feed_size                             19294 non-null  float64\n",
      " 38  rougher.input.feed_sol                              19340 non-null  float64\n",
      " 39  rougher.input.feed_au                               19439 non-null  float64\n",
      " 40  rougher.input.floatbank10_sulfate                   19405 non-null  float64\n",
      " 41  rougher.input.floatbank10_xanthate                  19431 non-null  float64\n",
      " 42  rougher.input.floatbank11_sulfate                   19395 non-null  float64\n",
      " 43  rougher.input.floatbank11_xanthate                  18986 non-null  float64\n",
      " 44  rougher.output.concentrate_ag                       19439 non-null  float64\n",
      " 45  rougher.output.concentrate_pb                       19439 non-null  float64\n",
      " 46  rougher.output.concentrate_sol                      19416 non-null  float64\n",
      " 47  rougher.output.concentrate_au                       19439 non-null  float64\n",
      " 48  rougher.output.recovery                             19439 non-null  float64\n",
      " 49  rougher.output.tail_ag                              19438 non-null  float64\n",
      " 50  rougher.output.tail_pb                              19439 non-null  float64\n",
      " 51  rougher.output.tail_sol                             19439 non-null  float64\n",
      " 52  rougher.output.tail_au                              19439 non-null  float64\n",
      " 53  rougher.state.floatbank10_a_air                     19438 non-null  float64\n",
      " 54  rougher.state.floatbank10_a_level                   19438 non-null  float64\n",
      " 55  rougher.state.floatbank10_b_air                     19438 non-null  float64\n",
      " 56  rougher.state.floatbank10_b_level                   19438 non-null  float64\n",
      " 57  rougher.state.floatbank10_c_air                     19438 non-null  float64\n",
      " 58  rougher.state.floatbank10_c_level                   19438 non-null  float64\n",
      " 59  rougher.state.floatbank10_d_air                     19439 non-null  float64\n",
      " 60  rougher.state.floatbank10_d_level                   19439 non-null  float64\n",
      " 61  rougher.state.floatbank10_e_air                     19003 non-null  float64\n",
      " 62  rougher.state.floatbank10_e_level                   19439 non-null  float64\n",
      " 63  rougher.state.floatbank10_f_air                     19439 non-null  float64\n",
      " 64  rougher.state.floatbank10_f_level                   19439 non-null  float64\n",
      " 65  secondary_cleaner.output.tail_ag                    19437 non-null  float64\n",
      " 66  secondary_cleaner.output.tail_pb                    19427 non-null  float64\n",
      " 67  secondary_cleaner.output.tail_sol                   17691 non-null  float64\n",
      " 68  secondary_cleaner.output.tail_au                    19439 non-null  float64\n",
      " 69  secondary_cleaner.state.floatbank2_a_air            19219 non-null  float64\n",
      " 70  secondary_cleaner.state.floatbank2_a_level          19438 non-null  float64\n",
      " 71  secondary_cleaner.state.floatbank2_b_air            19416 non-null  float64\n",
      " 72  secondary_cleaner.state.floatbank2_b_level          19438 non-null  float64\n",
      " 73  secondary_cleaner.state.floatbank3_a_air            19426 non-null  float64\n",
      " 74  secondary_cleaner.state.floatbank3_a_level          19438 non-null  float64\n",
      " 75  secondary_cleaner.state.floatbank3_b_air            19438 non-null  float64\n",
      " 76  secondary_cleaner.state.floatbank3_b_level          19438 non-null  float64\n",
      " 77  secondary_cleaner.state.floatbank4_a_air            19433 non-null  float64\n",
      " 78  secondary_cleaner.state.floatbank4_a_level          19438 non-null  float64\n",
      " 79  secondary_cleaner.state.floatbank4_b_air            19438 non-null  float64\n",
      " 80  secondary_cleaner.state.floatbank4_b_level          19438 non-null  float64\n",
      " 81  secondary_cleaner.state.floatbank5_a_air            19438 non-null  float64\n",
      " 82  secondary_cleaner.state.floatbank5_a_level          19438 non-null  float64\n",
      " 83  secondary_cleaner.state.floatbank5_b_air            19438 non-null  float64\n",
      " 84  secondary_cleaner.state.floatbank5_b_level          19438 non-null  float64\n",
      " 85  secondary_cleaner.state.floatbank6_a_air            19437 non-null  float64\n",
      " 86  secondary_cleaner.state.floatbank6_a_level          19438 non-null  float64\n",
      "dtypes: float64(86), object(1)\n",
      "memory usage: 12.9+ MB\n"
     ]
    },
    {
     "data": {
      "text/plain": [
       "None"
      ]
     },
     "metadata": {},
     "output_type": "display_data"
    }
   ],
   "source": [
    "train = pd.read_csv('/datasets/gold_recovery_train_new.csv')\n",
    "test = pd.read_csv('/datasets/gold_recovery_test_new.csv')\n",
    "full = pd.read_csv('/datasets/gold_recovery_full_new.csv')\n",
    "\n",
    "display(train.info())\n",
    "display(test.info())\n",
    "display(full.info())"
   ]
  },
  {
   "cell_type": "code",
   "execution_count": 3,
   "id": "b5a00f61",
   "metadata": {},
   "outputs": [
    {
     "data": {
      "text/html": [
       "<div>\n",
       "<style scoped>\n",
       "    .dataframe tbody tr th:only-of-type {\n",
       "        vertical-align: middle;\n",
       "    }\n",
       "\n",
       "    .dataframe tbody tr th {\n",
       "        vertical-align: top;\n",
       "    }\n",
       "\n",
       "    .dataframe thead th {\n",
       "        text-align: right;\n",
       "    }\n",
       "</style>\n",
       "<table border=\"1\" class=\"dataframe\">\n",
       "  <thead>\n",
       "    <tr style=\"text-align: right;\">\n",
       "      <th></th>\n",
       "      <th>final.output.concentrate_ag</th>\n",
       "      <th>final.output.concentrate_pb</th>\n",
       "      <th>final.output.concentrate_sol</th>\n",
       "      <th>final.output.concentrate_au</th>\n",
       "      <th>final.output.recovery</th>\n",
       "      <th>final.output.tail_ag</th>\n",
       "      <th>final.output.tail_pb</th>\n",
       "      <th>final.output.tail_sol</th>\n",
       "      <th>final.output.tail_au</th>\n",
       "      <th>primary_cleaner.input.sulfate</th>\n",
       "      <th>...</th>\n",
       "      <th>secondary_cleaner.state.floatbank4_a_air</th>\n",
       "      <th>secondary_cleaner.state.floatbank4_a_level</th>\n",
       "      <th>secondary_cleaner.state.floatbank4_b_air</th>\n",
       "      <th>secondary_cleaner.state.floatbank4_b_level</th>\n",
       "      <th>secondary_cleaner.state.floatbank5_a_air</th>\n",
       "      <th>secondary_cleaner.state.floatbank5_a_level</th>\n",
       "      <th>secondary_cleaner.state.floatbank5_b_air</th>\n",
       "      <th>secondary_cleaner.state.floatbank5_b_level</th>\n",
       "      <th>secondary_cleaner.state.floatbank6_a_air</th>\n",
       "      <th>secondary_cleaner.state.floatbank6_a_level</th>\n",
       "    </tr>\n",
       "  </thead>\n",
       "  <tbody>\n",
       "    <tr>\n",
       "      <th>final.output.concentrate_ag</th>\n",
       "      <td>1.000000</td>\n",
       "      <td>0.063570</td>\n",
       "      <td>0.380142</td>\n",
       "      <td>-0.038373</td>\n",
       "      <td>0.185952</td>\n",
       "      <td>0.334596</td>\n",
       "      <td>-0.051855</td>\n",
       "      <td>0.028890</td>\n",
       "      <td>0.206569</td>\n",
       "      <td>0.071158</td>\n",
       "      <td>...</td>\n",
       "      <td>0.027343</td>\n",
       "      <td>0.104118</td>\n",
       "      <td>0.029887</td>\n",
       "      <td>-0.063246</td>\n",
       "      <td>-0.004246</td>\n",
       "      <td>0.184332</td>\n",
       "      <td>0.003693</td>\n",
       "      <td>0.156471</td>\n",
       "      <td>0.162591</td>\n",
       "      <td>0.059581</td>\n",
       "    </tr>\n",
       "    <tr>\n",
       "      <th>final.output.concentrate_pb</th>\n",
       "      <td>0.063570</td>\n",
       "      <td>1.000000</td>\n",
       "      <td>-0.048586</td>\n",
       "      <td>0.374400</td>\n",
       "      <td>0.151987</td>\n",
       "      <td>-0.126886</td>\n",
       "      <td>0.221372</td>\n",
       "      <td>0.094385</td>\n",
       "      <td>-0.047446</td>\n",
       "      <td>0.079160</td>\n",
       "      <td>...</td>\n",
       "      <td>0.058380</td>\n",
       "      <td>0.028962</td>\n",
       "      <td>0.115404</td>\n",
       "      <td>0.093859</td>\n",
       "      <td>0.125920</td>\n",
       "      <td>-0.024668</td>\n",
       "      <td>0.149266</td>\n",
       "      <td>-0.060038</td>\n",
       "      <td>-0.042372</td>\n",
       "      <td>0.067458</td>\n",
       "    </tr>\n",
       "    <tr>\n",
       "      <th>final.output.concentrate_sol</th>\n",
       "      <td>0.380142</td>\n",
       "      <td>-0.048586</td>\n",
       "      <td>1.000000</td>\n",
       "      <td>0.261225</td>\n",
       "      <td>0.265993</td>\n",
       "      <td>0.286305</td>\n",
       "      <td>0.221714</td>\n",
       "      <td>-0.023865</td>\n",
       "      <td>0.267781</td>\n",
       "      <td>0.316233</td>\n",
       "      <td>...</td>\n",
       "      <td>-0.049341</td>\n",
       "      <td>0.147304</td>\n",
       "      <td>0.020544</td>\n",
       "      <td>0.002077</td>\n",
       "      <td>-0.002361</td>\n",
       "      <td>0.163992</td>\n",
       "      <td>-0.009510</td>\n",
       "      <td>0.152343</td>\n",
       "      <td>0.245158</td>\n",
       "      <td>-0.216734</td>\n",
       "    </tr>\n",
       "    <tr>\n",
       "      <th>final.output.concentrate_au</th>\n",
       "      <td>-0.038373</td>\n",
       "      <td>0.374400</td>\n",
       "      <td>0.261225</td>\n",
       "      <td>1.000000</td>\n",
       "      <td>0.288568</td>\n",
       "      <td>0.080381</td>\n",
       "      <td>0.081291</td>\n",
       "      <td>0.134978</td>\n",
       "      <td>-0.031696</td>\n",
       "      <td>0.102781</td>\n",
       "      <td>...</td>\n",
       "      <td>0.008308</td>\n",
       "      <td>-0.019481</td>\n",
       "      <td>-0.015284</td>\n",
       "      <td>-0.018636</td>\n",
       "      <td>-0.000971</td>\n",
       "      <td>-0.080786</td>\n",
       "      <td>-0.016961</td>\n",
       "      <td>-0.084962</td>\n",
       "      <td>-0.082184</td>\n",
       "      <td>-0.019523</td>\n",
       "    </tr>\n",
       "    <tr>\n",
       "      <th>final.output.recovery</th>\n",
       "      <td>0.185952</td>\n",
       "      <td>0.151987</td>\n",
       "      <td>0.265993</td>\n",
       "      <td>0.288568</td>\n",
       "      <td>1.000000</td>\n",
       "      <td>0.125986</td>\n",
       "      <td>-0.143094</td>\n",
       "      <td>-0.050280</td>\n",
       "      <td>-0.409200</td>\n",
       "      <td>0.366954</td>\n",
       "      <td>...</td>\n",
       "      <td>0.167059</td>\n",
       "      <td>0.031317</td>\n",
       "      <td>0.158557</td>\n",
       "      <td>-0.049973</td>\n",
       "      <td>0.067014</td>\n",
       "      <td>0.011871</td>\n",
       "      <td>0.052017</td>\n",
       "      <td>0.016480</td>\n",
       "      <td>-0.025192</td>\n",
       "      <td>-0.005305</td>\n",
       "    </tr>\n",
       "    <tr>\n",
       "      <th>...</th>\n",
       "      <td>...</td>\n",
       "      <td>...</td>\n",
       "      <td>...</td>\n",
       "      <td>...</td>\n",
       "      <td>...</td>\n",
       "      <td>...</td>\n",
       "      <td>...</td>\n",
       "      <td>...</td>\n",
       "      <td>...</td>\n",
       "      <td>...</td>\n",
       "      <td>...</td>\n",
       "      <td>...</td>\n",
       "      <td>...</td>\n",
       "      <td>...</td>\n",
       "      <td>...</td>\n",
       "      <td>...</td>\n",
       "      <td>...</td>\n",
       "      <td>...</td>\n",
       "      <td>...</td>\n",
       "      <td>...</td>\n",
       "      <td>...</td>\n",
       "    </tr>\n",
       "    <tr>\n",
       "      <th>secondary_cleaner.state.floatbank5_a_level</th>\n",
       "      <td>0.184332</td>\n",
       "      <td>-0.024668</td>\n",
       "      <td>0.163992</td>\n",
       "      <td>-0.080786</td>\n",
       "      <td>0.011871</td>\n",
       "      <td>-0.021662</td>\n",
       "      <td>0.015060</td>\n",
       "      <td>-0.073670</td>\n",
       "      <td>0.035272</td>\n",
       "      <td>-0.098079</td>\n",
       "      <td>...</td>\n",
       "      <td>0.175689</td>\n",
       "      <td>0.737533</td>\n",
       "      <td>0.069865</td>\n",
       "      <td>0.417890</td>\n",
       "      <td>0.154722</td>\n",
       "      <td>1.000000</td>\n",
       "      <td>0.108107</td>\n",
       "      <td>0.818406</td>\n",
       "      <td>0.464142</td>\n",
       "      <td>0.344494</td>\n",
       "    </tr>\n",
       "    <tr>\n",
       "      <th>secondary_cleaner.state.floatbank5_b_air</th>\n",
       "      <td>0.003693</td>\n",
       "      <td>0.149266</td>\n",
       "      <td>-0.009510</td>\n",
       "      <td>-0.016961</td>\n",
       "      <td>0.052017</td>\n",
       "      <td>-0.013677</td>\n",
       "      <td>0.132744</td>\n",
       "      <td>-0.135330</td>\n",
       "      <td>-0.160522</td>\n",
       "      <td>-0.088879</td>\n",
       "      <td>...</td>\n",
       "      <td>0.734503</td>\n",
       "      <td>0.289059</td>\n",
       "      <td>0.855785</td>\n",
       "      <td>0.099747</td>\n",
       "      <td>0.895832</td>\n",
       "      <td>0.108107</td>\n",
       "      <td>1.000000</td>\n",
       "      <td>0.090751</td>\n",
       "      <td>0.491707</td>\n",
       "      <td>-0.011976</td>\n",
       "    </tr>\n",
       "    <tr>\n",
       "      <th>secondary_cleaner.state.floatbank5_b_level</th>\n",
       "      <td>0.156471</td>\n",
       "      <td>-0.060038</td>\n",
       "      <td>0.152343</td>\n",
       "      <td>-0.084962</td>\n",
       "      <td>0.016480</td>\n",
       "      <td>-0.003762</td>\n",
       "      <td>0.041558</td>\n",
       "      <td>-0.087635</td>\n",
       "      <td>0.063404</td>\n",
       "      <td>-0.054203</td>\n",
       "      <td>...</td>\n",
       "      <td>0.147999</td>\n",
       "      <td>0.630466</td>\n",
       "      <td>0.076251</td>\n",
       "      <td>0.364582</td>\n",
       "      <td>0.135991</td>\n",
       "      <td>0.818406</td>\n",
       "      <td>0.090751</td>\n",
       "      <td>1.000000</td>\n",
       "      <td>0.411510</td>\n",
       "      <td>0.327861</td>\n",
       "    </tr>\n",
       "    <tr>\n",
       "      <th>secondary_cleaner.state.floatbank6_a_air</th>\n",
       "      <td>0.162591</td>\n",
       "      <td>-0.042372</td>\n",
       "      <td>0.245158</td>\n",
       "      <td>-0.082184</td>\n",
       "      <td>-0.025192</td>\n",
       "      <td>-0.055311</td>\n",
       "      <td>0.007496</td>\n",
       "      <td>-0.070706</td>\n",
       "      <td>0.038797</td>\n",
       "      <td>-0.175804</td>\n",
       "      <td>...</td>\n",
       "      <td>0.229330</td>\n",
       "      <td>0.503967</td>\n",
       "      <td>0.311676</td>\n",
       "      <td>0.087389</td>\n",
       "      <td>0.473300</td>\n",
       "      <td>0.464142</td>\n",
       "      <td>0.491707</td>\n",
       "      <td>0.411510</td>\n",
       "      <td>1.000000</td>\n",
       "      <td>0.106270</td>\n",
       "    </tr>\n",
       "    <tr>\n",
       "      <th>secondary_cleaner.state.floatbank6_a_level</th>\n",
       "      <td>0.059581</td>\n",
       "      <td>0.067458</td>\n",
       "      <td>-0.216734</td>\n",
       "      <td>-0.019523</td>\n",
       "      <td>-0.005305</td>\n",
       "      <td>-0.088461</td>\n",
       "      <td>-0.117950</td>\n",
       "      <td>0.021293</td>\n",
       "      <td>-0.065571</td>\n",
       "      <td>-0.055692</td>\n",
       "      <td>...</td>\n",
       "      <td>0.007269</td>\n",
       "      <td>0.186186</td>\n",
       "      <td>-0.064545</td>\n",
       "      <td>0.191545</td>\n",
       "      <td>-0.008790</td>\n",
       "      <td>0.344494</td>\n",
       "      <td>-0.011976</td>\n",
       "      <td>0.327861</td>\n",
       "      <td>0.106270</td>\n",
       "      <td>1.000000</td>\n",
       "    </tr>\n",
       "  </tbody>\n",
       "</table>\n",
       "<p>86 rows × 86 columns</p>\n",
       "</div>"
      ],
      "text/plain": [
       "                                            final.output.concentrate_ag  \\\n",
       "final.output.concentrate_ag                                    1.000000   \n",
       "final.output.concentrate_pb                                    0.063570   \n",
       "final.output.concentrate_sol                                   0.380142   \n",
       "final.output.concentrate_au                                   -0.038373   \n",
       "final.output.recovery                                          0.185952   \n",
       "...                                                                 ...   \n",
       "secondary_cleaner.state.floatbank5_a_level                     0.184332   \n",
       "secondary_cleaner.state.floatbank5_b_air                       0.003693   \n",
       "secondary_cleaner.state.floatbank5_b_level                     0.156471   \n",
       "secondary_cleaner.state.floatbank6_a_air                       0.162591   \n",
       "secondary_cleaner.state.floatbank6_a_level                     0.059581   \n",
       "\n",
       "                                            final.output.concentrate_pb  \\\n",
       "final.output.concentrate_ag                                    0.063570   \n",
       "final.output.concentrate_pb                                    1.000000   \n",
       "final.output.concentrate_sol                                  -0.048586   \n",
       "final.output.concentrate_au                                    0.374400   \n",
       "final.output.recovery                                          0.151987   \n",
       "...                                                                 ...   \n",
       "secondary_cleaner.state.floatbank5_a_level                    -0.024668   \n",
       "secondary_cleaner.state.floatbank5_b_air                       0.149266   \n",
       "secondary_cleaner.state.floatbank5_b_level                    -0.060038   \n",
       "secondary_cleaner.state.floatbank6_a_air                      -0.042372   \n",
       "secondary_cleaner.state.floatbank6_a_level                     0.067458   \n",
       "\n",
       "                                            final.output.concentrate_sol  \\\n",
       "final.output.concentrate_ag                                     0.380142   \n",
       "final.output.concentrate_pb                                    -0.048586   \n",
       "final.output.concentrate_sol                                    1.000000   \n",
       "final.output.concentrate_au                                     0.261225   \n",
       "final.output.recovery                                           0.265993   \n",
       "...                                                                  ...   \n",
       "secondary_cleaner.state.floatbank5_a_level                      0.163992   \n",
       "secondary_cleaner.state.floatbank5_b_air                       -0.009510   \n",
       "secondary_cleaner.state.floatbank5_b_level                      0.152343   \n",
       "secondary_cleaner.state.floatbank6_a_air                        0.245158   \n",
       "secondary_cleaner.state.floatbank6_a_level                     -0.216734   \n",
       "\n",
       "                                            final.output.concentrate_au  \\\n",
       "final.output.concentrate_ag                                   -0.038373   \n",
       "final.output.concentrate_pb                                    0.374400   \n",
       "final.output.concentrate_sol                                   0.261225   \n",
       "final.output.concentrate_au                                    1.000000   \n",
       "final.output.recovery                                          0.288568   \n",
       "...                                                                 ...   \n",
       "secondary_cleaner.state.floatbank5_a_level                    -0.080786   \n",
       "secondary_cleaner.state.floatbank5_b_air                      -0.016961   \n",
       "secondary_cleaner.state.floatbank5_b_level                    -0.084962   \n",
       "secondary_cleaner.state.floatbank6_a_air                      -0.082184   \n",
       "secondary_cleaner.state.floatbank6_a_level                    -0.019523   \n",
       "\n",
       "                                            final.output.recovery  \\\n",
       "final.output.concentrate_ag                              0.185952   \n",
       "final.output.concentrate_pb                              0.151987   \n",
       "final.output.concentrate_sol                             0.265993   \n",
       "final.output.concentrate_au                              0.288568   \n",
       "final.output.recovery                                    1.000000   \n",
       "...                                                           ...   \n",
       "secondary_cleaner.state.floatbank5_a_level               0.011871   \n",
       "secondary_cleaner.state.floatbank5_b_air                 0.052017   \n",
       "secondary_cleaner.state.floatbank5_b_level               0.016480   \n",
       "secondary_cleaner.state.floatbank6_a_air                -0.025192   \n",
       "secondary_cleaner.state.floatbank6_a_level              -0.005305   \n",
       "\n",
       "                                            final.output.tail_ag  \\\n",
       "final.output.concentrate_ag                             0.334596   \n",
       "final.output.concentrate_pb                            -0.126886   \n",
       "final.output.concentrate_sol                            0.286305   \n",
       "final.output.concentrate_au                             0.080381   \n",
       "final.output.recovery                                   0.125986   \n",
       "...                                                          ...   \n",
       "secondary_cleaner.state.floatbank5_a_level             -0.021662   \n",
       "secondary_cleaner.state.floatbank5_b_air               -0.013677   \n",
       "secondary_cleaner.state.floatbank5_b_level             -0.003762   \n",
       "secondary_cleaner.state.floatbank6_a_air               -0.055311   \n",
       "secondary_cleaner.state.floatbank6_a_level             -0.088461   \n",
       "\n",
       "                                            final.output.tail_pb  \\\n",
       "final.output.concentrate_ag                            -0.051855   \n",
       "final.output.concentrate_pb                             0.221372   \n",
       "final.output.concentrate_sol                            0.221714   \n",
       "final.output.concentrate_au                             0.081291   \n",
       "final.output.recovery                                  -0.143094   \n",
       "...                                                          ...   \n",
       "secondary_cleaner.state.floatbank5_a_level              0.015060   \n",
       "secondary_cleaner.state.floatbank5_b_air                0.132744   \n",
       "secondary_cleaner.state.floatbank5_b_level              0.041558   \n",
       "secondary_cleaner.state.floatbank6_a_air                0.007496   \n",
       "secondary_cleaner.state.floatbank6_a_level             -0.117950   \n",
       "\n",
       "                                            final.output.tail_sol  \\\n",
       "final.output.concentrate_ag                              0.028890   \n",
       "final.output.concentrate_pb                              0.094385   \n",
       "final.output.concentrate_sol                            -0.023865   \n",
       "final.output.concentrate_au                              0.134978   \n",
       "final.output.recovery                                   -0.050280   \n",
       "...                                                           ...   \n",
       "secondary_cleaner.state.floatbank5_a_level              -0.073670   \n",
       "secondary_cleaner.state.floatbank5_b_air                -0.135330   \n",
       "secondary_cleaner.state.floatbank5_b_level              -0.087635   \n",
       "secondary_cleaner.state.floatbank6_a_air                -0.070706   \n",
       "secondary_cleaner.state.floatbank6_a_level               0.021293   \n",
       "\n",
       "                                            final.output.tail_au  \\\n",
       "final.output.concentrate_ag                             0.206569   \n",
       "final.output.concentrate_pb                            -0.047446   \n",
       "final.output.concentrate_sol                            0.267781   \n",
       "final.output.concentrate_au                            -0.031696   \n",
       "final.output.recovery                                  -0.409200   \n",
       "...                                                          ...   \n",
       "secondary_cleaner.state.floatbank5_a_level              0.035272   \n",
       "secondary_cleaner.state.floatbank5_b_air               -0.160522   \n",
       "secondary_cleaner.state.floatbank5_b_level              0.063404   \n",
       "secondary_cleaner.state.floatbank6_a_air                0.038797   \n",
       "secondary_cleaner.state.floatbank6_a_level             -0.065571   \n",
       "\n",
       "                                            primary_cleaner.input.sulfate  \\\n",
       "final.output.concentrate_ag                                      0.071158   \n",
       "final.output.concentrate_pb                                      0.079160   \n",
       "final.output.concentrate_sol                                     0.316233   \n",
       "final.output.concentrate_au                                      0.102781   \n",
       "final.output.recovery                                            0.366954   \n",
       "...                                                                   ...   \n",
       "secondary_cleaner.state.floatbank5_a_level                      -0.098079   \n",
       "secondary_cleaner.state.floatbank5_b_air                        -0.088879   \n",
       "secondary_cleaner.state.floatbank5_b_level                      -0.054203   \n",
       "secondary_cleaner.state.floatbank6_a_air                        -0.175804   \n",
       "secondary_cleaner.state.floatbank6_a_level                      -0.055692   \n",
       "\n",
       "                                            ...  \\\n",
       "final.output.concentrate_ag                 ...   \n",
       "final.output.concentrate_pb                 ...   \n",
       "final.output.concentrate_sol                ...   \n",
       "final.output.concentrate_au                 ...   \n",
       "final.output.recovery                       ...   \n",
       "...                                         ...   \n",
       "secondary_cleaner.state.floatbank5_a_level  ...   \n",
       "secondary_cleaner.state.floatbank5_b_air    ...   \n",
       "secondary_cleaner.state.floatbank5_b_level  ...   \n",
       "secondary_cleaner.state.floatbank6_a_air    ...   \n",
       "secondary_cleaner.state.floatbank6_a_level  ...   \n",
       "\n",
       "                                            secondary_cleaner.state.floatbank4_a_air  \\\n",
       "final.output.concentrate_ag                                                 0.027343   \n",
       "final.output.concentrate_pb                                                 0.058380   \n",
       "final.output.concentrate_sol                                               -0.049341   \n",
       "final.output.concentrate_au                                                 0.008308   \n",
       "final.output.recovery                                                       0.167059   \n",
       "...                                                                              ...   \n",
       "secondary_cleaner.state.floatbank5_a_level                                  0.175689   \n",
       "secondary_cleaner.state.floatbank5_b_air                                    0.734503   \n",
       "secondary_cleaner.state.floatbank5_b_level                                  0.147999   \n",
       "secondary_cleaner.state.floatbank6_a_air                                    0.229330   \n",
       "secondary_cleaner.state.floatbank6_a_level                                  0.007269   \n",
       "\n",
       "                                            secondary_cleaner.state.floatbank4_a_level  \\\n",
       "final.output.concentrate_ag                                                   0.104118   \n",
       "final.output.concentrate_pb                                                   0.028962   \n",
       "final.output.concentrate_sol                                                  0.147304   \n",
       "final.output.concentrate_au                                                  -0.019481   \n",
       "final.output.recovery                                                         0.031317   \n",
       "...                                                                                ...   \n",
       "secondary_cleaner.state.floatbank5_a_level                                    0.737533   \n",
       "secondary_cleaner.state.floatbank5_b_air                                      0.289059   \n",
       "secondary_cleaner.state.floatbank5_b_level                                    0.630466   \n",
       "secondary_cleaner.state.floatbank6_a_air                                      0.503967   \n",
       "secondary_cleaner.state.floatbank6_a_level                                    0.186186   \n",
       "\n",
       "                                            secondary_cleaner.state.floatbank4_b_air  \\\n",
       "final.output.concentrate_ag                                                 0.029887   \n",
       "final.output.concentrate_pb                                                 0.115404   \n",
       "final.output.concentrate_sol                                                0.020544   \n",
       "final.output.concentrate_au                                                -0.015284   \n",
       "final.output.recovery                                                       0.158557   \n",
       "...                                                                              ...   \n",
       "secondary_cleaner.state.floatbank5_a_level                                  0.069865   \n",
       "secondary_cleaner.state.floatbank5_b_air                                    0.855785   \n",
       "secondary_cleaner.state.floatbank5_b_level                                  0.076251   \n",
       "secondary_cleaner.state.floatbank6_a_air                                    0.311676   \n",
       "secondary_cleaner.state.floatbank6_a_level                                 -0.064545   \n",
       "\n",
       "                                            secondary_cleaner.state.floatbank4_b_level  \\\n",
       "final.output.concentrate_ag                                                  -0.063246   \n",
       "final.output.concentrate_pb                                                   0.093859   \n",
       "final.output.concentrate_sol                                                  0.002077   \n",
       "final.output.concentrate_au                                                  -0.018636   \n",
       "final.output.recovery                                                        -0.049973   \n",
       "...                                                                                ...   \n",
       "secondary_cleaner.state.floatbank5_a_level                                    0.417890   \n",
       "secondary_cleaner.state.floatbank5_b_air                                      0.099747   \n",
       "secondary_cleaner.state.floatbank5_b_level                                    0.364582   \n",
       "secondary_cleaner.state.floatbank6_a_air                                      0.087389   \n",
       "secondary_cleaner.state.floatbank6_a_level                                    0.191545   \n",
       "\n",
       "                                            secondary_cleaner.state.floatbank5_a_air  \\\n",
       "final.output.concentrate_ag                                                -0.004246   \n",
       "final.output.concentrate_pb                                                 0.125920   \n",
       "final.output.concentrate_sol                                               -0.002361   \n",
       "final.output.concentrate_au                                                -0.000971   \n",
       "final.output.recovery                                                       0.067014   \n",
       "...                                                                              ...   \n",
       "secondary_cleaner.state.floatbank5_a_level                                  0.154722   \n",
       "secondary_cleaner.state.floatbank5_b_air                                    0.895832   \n",
       "secondary_cleaner.state.floatbank5_b_level                                  0.135991   \n",
       "secondary_cleaner.state.floatbank6_a_air                                    0.473300   \n",
       "secondary_cleaner.state.floatbank6_a_level                                 -0.008790   \n",
       "\n",
       "                                            secondary_cleaner.state.floatbank5_a_level  \\\n",
       "final.output.concentrate_ag                                                   0.184332   \n",
       "final.output.concentrate_pb                                                  -0.024668   \n",
       "final.output.concentrate_sol                                                  0.163992   \n",
       "final.output.concentrate_au                                                  -0.080786   \n",
       "final.output.recovery                                                         0.011871   \n",
       "...                                                                                ...   \n",
       "secondary_cleaner.state.floatbank5_a_level                                    1.000000   \n",
       "secondary_cleaner.state.floatbank5_b_air                                      0.108107   \n",
       "secondary_cleaner.state.floatbank5_b_level                                    0.818406   \n",
       "secondary_cleaner.state.floatbank6_a_air                                      0.464142   \n",
       "secondary_cleaner.state.floatbank6_a_level                                    0.344494   \n",
       "\n",
       "                                            secondary_cleaner.state.floatbank5_b_air  \\\n",
       "final.output.concentrate_ag                                                 0.003693   \n",
       "final.output.concentrate_pb                                                 0.149266   \n",
       "final.output.concentrate_sol                                               -0.009510   \n",
       "final.output.concentrate_au                                                -0.016961   \n",
       "final.output.recovery                                                       0.052017   \n",
       "...                                                                              ...   \n",
       "secondary_cleaner.state.floatbank5_a_level                                  0.108107   \n",
       "secondary_cleaner.state.floatbank5_b_air                                    1.000000   \n",
       "secondary_cleaner.state.floatbank5_b_level                                  0.090751   \n",
       "secondary_cleaner.state.floatbank6_a_air                                    0.491707   \n",
       "secondary_cleaner.state.floatbank6_a_level                                 -0.011976   \n",
       "\n",
       "                                            secondary_cleaner.state.floatbank5_b_level  \\\n",
       "final.output.concentrate_ag                                                   0.156471   \n",
       "final.output.concentrate_pb                                                  -0.060038   \n",
       "final.output.concentrate_sol                                                  0.152343   \n",
       "final.output.concentrate_au                                                  -0.084962   \n",
       "final.output.recovery                                                         0.016480   \n",
       "...                                                                                ...   \n",
       "secondary_cleaner.state.floatbank5_a_level                                    0.818406   \n",
       "secondary_cleaner.state.floatbank5_b_air                                      0.090751   \n",
       "secondary_cleaner.state.floatbank5_b_level                                    1.000000   \n",
       "secondary_cleaner.state.floatbank6_a_air                                      0.411510   \n",
       "secondary_cleaner.state.floatbank6_a_level                                    0.327861   \n",
       "\n",
       "                                            secondary_cleaner.state.floatbank6_a_air  \\\n",
       "final.output.concentrate_ag                                                 0.162591   \n",
       "final.output.concentrate_pb                                                -0.042372   \n",
       "final.output.concentrate_sol                                                0.245158   \n",
       "final.output.concentrate_au                                                -0.082184   \n",
       "final.output.recovery                                                      -0.025192   \n",
       "...                                                                              ...   \n",
       "secondary_cleaner.state.floatbank5_a_level                                  0.464142   \n",
       "secondary_cleaner.state.floatbank5_b_air                                    0.491707   \n",
       "secondary_cleaner.state.floatbank5_b_level                                  0.411510   \n",
       "secondary_cleaner.state.floatbank6_a_air                                    1.000000   \n",
       "secondary_cleaner.state.floatbank6_a_level                                  0.106270   \n",
       "\n",
       "                                            secondary_cleaner.state.floatbank6_a_level  \n",
       "final.output.concentrate_ag                                                   0.059581  \n",
       "final.output.concentrate_pb                                                   0.067458  \n",
       "final.output.concentrate_sol                                                 -0.216734  \n",
       "final.output.concentrate_au                                                  -0.019523  \n",
       "final.output.recovery                                                        -0.005305  \n",
       "...                                                                                ...  \n",
       "secondary_cleaner.state.floatbank5_a_level                                    0.344494  \n",
       "secondary_cleaner.state.floatbank5_b_air                                     -0.011976  \n",
       "secondary_cleaner.state.floatbank5_b_level                                    0.327861  \n",
       "secondary_cleaner.state.floatbank6_a_air                                      0.106270  \n",
       "secondary_cleaner.state.floatbank6_a_level                                    1.000000  \n",
       "\n",
       "[86 rows x 86 columns]"
      ]
     },
     "execution_count": 3,
     "metadata": {},
     "output_type": "execute_result"
    }
   ],
   "source": [
    "full.corr()"
   ]
  },
  {
   "cell_type": "markdown",
   "id": "bee4211b",
   "metadata": {},
   "source": [
    "В данных есть пропуски. Т.к. значения переменных за короткие промежутки времени меняются несильно, их можно заполнить последним известным значением.\n",
    "\n",
    "По условиям задачи мы имеем 2 целевых признака rougher.output.recovery и final.output.recovery.\n",
    "Для их вычисления нужно спрогнозировать 'final.output.concentrate_au' и 'final.output.tail_au'.\n",
    "\n",
    "Линейные связи между признаками слабые или неочевидные, т.к. коэффициенты корреляции между ними редко превышают 0.3."
   ]
  },
  {
   "cell_type": "markdown",
   "id": "d459eb9c",
   "metadata": {},
   "source": [
    "### Проверка корректности расчета rougher.output.recovery"
   ]
  },
  {
   "cell_type": "code",
   "execution_count": 4,
   "id": "13c1c49c",
   "metadata": {},
   "outputs": [
    {
     "name": "stdout",
     "output_type": "stream",
     "text": [
      "MAE между расчетным значением Recovery и значением из датасета: 9.73512347450521e-15\n"
     ]
    },
    {
     "data": {
      "text/html": [
       "<div>\n",
       "<style scoped>\n",
       "    .dataframe tbody tr th:only-of-type {\n",
       "        vertical-align: middle;\n",
       "    }\n",
       "\n",
       "    .dataframe tbody tr th {\n",
       "        vertical-align: top;\n",
       "    }\n",
       "\n",
       "    .dataframe thead th {\n",
       "        text-align: right;\n",
       "    }\n",
       "</style>\n",
       "<table border=\"1\" class=\"dataframe\">\n",
       "  <thead>\n",
       "    <tr style=\"text-align: right;\">\n",
       "      <th></th>\n",
       "      <th>data</th>\n",
       "      <th>calculation</th>\n",
       "    </tr>\n",
       "  </thead>\n",
       "  <tbody>\n",
       "    <tr>\n",
       "      <th>0</th>\n",
       "      <td>87.107763</td>\n",
       "      <td>87.107763</td>\n",
       "    </tr>\n",
       "    <tr>\n",
       "      <th>1</th>\n",
       "      <td>86.843261</td>\n",
       "      <td>86.843261</td>\n",
       "    </tr>\n",
       "    <tr>\n",
       "      <th>2</th>\n",
       "      <td>86.842308</td>\n",
       "      <td>86.842308</td>\n",
       "    </tr>\n",
       "    <tr>\n",
       "      <th>3</th>\n",
       "      <td>87.226430</td>\n",
       "      <td>87.226430</td>\n",
       "    </tr>\n",
       "    <tr>\n",
       "      <th>4</th>\n",
       "      <td>86.688794</td>\n",
       "      <td>86.688794</td>\n",
       "    </tr>\n",
       "    <tr>\n",
       "      <th>5</th>\n",
       "      <td>88.156912</td>\n",
       "      <td>88.156912</td>\n",
       "    </tr>\n",
       "    <tr>\n",
       "      <th>6</th>\n",
       "      <td>88.168065</td>\n",
       "      <td>88.168065</td>\n",
       "    </tr>\n",
       "    <tr>\n",
       "      <th>7</th>\n",
       "      <td>87.668336</td>\n",
       "      <td>87.668336</td>\n",
       "    </tr>\n",
       "    <tr>\n",
       "      <th>8</th>\n",
       "      <td>87.035862</td>\n",
       "      <td>87.035862</td>\n",
       "    </tr>\n",
       "    <tr>\n",
       "      <th>9</th>\n",
       "      <td>87.650868</td>\n",
       "      <td>87.650868</td>\n",
       "    </tr>\n",
       "  </tbody>\n",
       "</table>\n",
       "</div>"
      ],
      "text/plain": [
       "        data  calculation\n",
       "0  87.107763    87.107763\n",
       "1  86.843261    86.843261\n",
       "2  86.842308    86.842308\n",
       "3  87.226430    87.226430\n",
       "4  86.688794    86.688794\n",
       "5  88.156912    88.156912\n",
       "6  88.168065    88.168065\n",
       "7  87.668336    87.668336\n",
       "8  87.035862    87.035862\n",
       "9  87.650868    87.650868"
      ]
     },
     "metadata": {},
     "output_type": "display_data"
    }
   ],
   "source": [
    "C = train['rougher.output.concentrate_au']\n",
    "F = train['rougher.input.feed_au']\n",
    "T = train['rougher.output.tail_au']\n",
    "\n",
    "train['rougher.output.recovery.check'] = ((C * (F - T)) / (F * (C - T))) * 100\n",
    "\n",
    "mae = mean_absolute_error(train['rougher.output.recovery'], train['rougher.output.recovery.check'])\n",
    "print('MAE между расчетным значением Recovery и значением из датасета:', mae)\n",
    "\n",
    "recovery_comparison = pd.DataFrame(\n",
    "    {'data': train['rougher.output.recovery'],\n",
    "     'calculation': train['rougher.output.recovery.check']})\n",
    "display(recovery_comparison.head(10))"
   ]
  },
  {
   "cell_type": "markdown",
   "id": "d584ed24",
   "metadata": {},
   "source": [
    "MAE, равное 9.7 * 10^-15 говорит о ничтожно малом отклонении, т.е. в датасете эффективность обогащения посчитана корректно. Это видно и из таблицы сравнения между исходным значением rougher.output.recovery (столбец data) и расчетным (столбец calculation)."
   ]
  },
  {
   "cell_type": "markdown",
   "id": "22289c83",
   "metadata": {},
   "source": [
    "### Признаки, недоступные в тестовой выборке"
   ]
  },
  {
   "cell_type": "code",
   "execution_count": 5,
   "id": "d2a0fe5e",
   "metadata": {},
   "outputs": [
    {
     "name": "stdout",
     "output_type": "stream",
     "text": [
      "0                           final.output.concentrate_ag\n",
      "1                           final.output.concentrate_pb\n",
      "2                          final.output.concentrate_sol\n",
      "3                           final.output.concentrate_au\n",
      "4                                 final.output.recovery\n",
      "5                                  final.output.tail_ag\n",
      "6                                  final.output.tail_pb\n",
      "7                                 final.output.tail_sol\n",
      "8                                  final.output.tail_au\n",
      "9                 primary_cleaner.output.concentrate_ag\n",
      "10                primary_cleaner.output.concentrate_pb\n",
      "11               primary_cleaner.output.concentrate_sol\n",
      "12                primary_cleaner.output.concentrate_au\n",
      "13                       primary_cleaner.output.tail_ag\n",
      "14                       primary_cleaner.output.tail_pb\n",
      "15                      primary_cleaner.output.tail_sol\n",
      "16                       primary_cleaner.output.tail_au\n",
      "17        rougher.calculation.sulfate_to_au_concentrate\n",
      "18    rougher.calculation.floatbank10_sulfate_to_au_...\n",
      "19    rougher.calculation.floatbank11_sulfate_to_au_...\n",
      "20                      rougher.calculation.au_pb_ratio\n",
      "21                        rougher.output.concentrate_ag\n",
      "22                        rougher.output.concentrate_pb\n",
      "23                       rougher.output.concentrate_sol\n",
      "24                        rougher.output.concentrate_au\n",
      "25                              rougher.output.recovery\n",
      "26                               rougher.output.tail_ag\n",
      "27                               rougher.output.tail_pb\n",
      "28                              rougher.output.tail_sol\n",
      "29                               rougher.output.tail_au\n",
      "30                     secondary_cleaner.output.tail_ag\n",
      "31                     secondary_cleaner.output.tail_pb\n",
      "32                    secondary_cleaner.output.tail_sol\n",
      "33                     secondary_cleaner.output.tail_au\n",
      "34                        rougher.output.recovery.check\n",
      "dtype: object\n"
     ]
    }
   ],
   "source": [
    "list(train.columns)\n",
    "list(test.columns)\n",
    "\n",
    "not_in_test = []\n",
    "for parameter in list(train.columns):\n",
    "    if parameter not in list(test.columns):\n",
    "        not_in_test.append(parameter)\n",
    "\n",
    "print(pd.Series(not_in_test))"
   ]
  },
  {
   "cell_type": "markdown",
   "id": "72996abf",
   "metadata": {},
   "source": [
    "В тестовой выборке нет параметров output, т.е. параметров продукта и calculation. Судя по всему эти параметры недоступны, потому что замеряются и/или рассчитываются значительно позже, т.е в процессе восстановления золота из руды эти параметры неизвестны.\n",
    "Перед обучением модели из тренировочной выборки следует удалить эти признаки, т.к. если обучить модель с ними, потом модель, не получившая эти признаки, будет делать некорректные предсказания."
   ]
  },
  {
   "cell_type": "markdown",
   "id": "a3da31f9",
   "metadata": {},
   "source": [
    "### Предобработка данных"
   ]
  },
  {
   "cell_type": "code",
   "execution_count": 6,
   "id": "406feb15",
   "metadata": {},
   "outputs": [
    {
     "name": "stdout",
     "output_type": "stream",
     "text": [
      "<class 'pandas.core.frame.DataFrame'>\n",
      "RangeIndex: 14149 entries, 0 to 14148\n",
      "Data columns (total 88 columns):\n",
      " #   Column                                              Non-Null Count  Dtype  \n",
      "---  ------                                              --------------  -----  \n",
      " 0   date                                                14149 non-null  object \n",
      " 1   final.output.concentrate_ag                         14149 non-null  float64\n",
      " 2   final.output.concentrate_pb                         14149 non-null  float64\n",
      " 3   final.output.concentrate_sol                        14149 non-null  float64\n",
      " 4   final.output.concentrate_au                         14149 non-null  float64\n",
      " 5   final.output.recovery                               14149 non-null  float64\n",
      " 6   final.output.tail_ag                                14149 non-null  float64\n",
      " 7   final.output.tail_pb                                14149 non-null  float64\n",
      " 8   final.output.tail_sol                               14149 non-null  float64\n",
      " 9   final.output.tail_au                                14149 non-null  float64\n",
      " 10  primary_cleaner.input.sulfate                       14149 non-null  float64\n",
      " 11  primary_cleaner.input.depressant                    14149 non-null  float64\n",
      " 12  primary_cleaner.input.feed_size                     14149 non-null  float64\n",
      " 13  primary_cleaner.input.xanthate                      14149 non-null  float64\n",
      " 14  primary_cleaner.output.concentrate_ag               14149 non-null  float64\n",
      " 15  primary_cleaner.output.concentrate_pb               14149 non-null  float64\n",
      " 16  primary_cleaner.output.concentrate_sol              14149 non-null  float64\n",
      " 17  primary_cleaner.output.concentrate_au               14149 non-null  float64\n",
      " 18  primary_cleaner.output.tail_ag                      14149 non-null  float64\n",
      " 19  primary_cleaner.output.tail_pb                      14149 non-null  float64\n",
      " 20  primary_cleaner.output.tail_sol                     14149 non-null  float64\n",
      " 21  primary_cleaner.output.tail_au                      14149 non-null  float64\n",
      " 22  primary_cleaner.state.floatbank8_a_air              14149 non-null  float64\n",
      " 23  primary_cleaner.state.floatbank8_a_level            14149 non-null  float64\n",
      " 24  primary_cleaner.state.floatbank8_b_air              14149 non-null  float64\n",
      " 25  primary_cleaner.state.floatbank8_b_level            14149 non-null  float64\n",
      " 26  primary_cleaner.state.floatbank8_c_air              14149 non-null  float64\n",
      " 27  primary_cleaner.state.floatbank8_c_level            14149 non-null  float64\n",
      " 28  primary_cleaner.state.floatbank8_d_air              14149 non-null  float64\n",
      " 29  primary_cleaner.state.floatbank8_d_level            14149 non-null  float64\n",
      " 30  rougher.calculation.sulfate_to_au_concentrate       14149 non-null  float64\n",
      " 31  rougher.calculation.floatbank10_sulfate_to_au_feed  14149 non-null  float64\n",
      " 32  rougher.calculation.floatbank11_sulfate_to_au_feed  14149 non-null  float64\n",
      " 33  rougher.calculation.au_pb_ratio                     14149 non-null  float64\n",
      " 34  rougher.input.feed_ag                               14149 non-null  float64\n",
      " 35  rougher.input.feed_pb                               14149 non-null  float64\n",
      " 36  rougher.input.feed_rate                             14149 non-null  float64\n",
      " 37  rougher.input.feed_size                             14149 non-null  float64\n",
      " 38  rougher.input.feed_sol                              14149 non-null  float64\n",
      " 39  rougher.input.feed_au                               14149 non-null  float64\n",
      " 40  rougher.input.floatbank10_sulfate                   14149 non-null  float64\n",
      " 41  rougher.input.floatbank10_xanthate                  14149 non-null  float64\n",
      " 42  rougher.input.floatbank11_sulfate                   14149 non-null  float64\n",
      " 43  rougher.input.floatbank11_xanthate                  14149 non-null  float64\n",
      " 44  rougher.output.concentrate_ag                       14149 non-null  float64\n",
      " 45  rougher.output.concentrate_pb                       14149 non-null  float64\n",
      " 46  rougher.output.concentrate_sol                      14149 non-null  float64\n",
      " 47  rougher.output.concentrate_au                       14149 non-null  float64\n",
      " 48  rougher.output.recovery                             14149 non-null  float64\n",
      " 49  rougher.output.tail_ag                              14149 non-null  float64\n",
      " 50  rougher.output.tail_pb                              14149 non-null  float64\n",
      " 51  rougher.output.tail_sol                             14149 non-null  float64\n",
      " 52  rougher.output.tail_au                              14149 non-null  float64\n",
      " 53  rougher.state.floatbank10_a_air                     14149 non-null  float64\n",
      " 54  rougher.state.floatbank10_a_level                   14149 non-null  float64\n",
      " 55  rougher.state.floatbank10_b_air                     14149 non-null  float64\n",
      " 56  rougher.state.floatbank10_b_level                   14149 non-null  float64\n",
      " 57  rougher.state.floatbank10_c_air                     14149 non-null  float64\n",
      " 58  rougher.state.floatbank10_c_level                   14149 non-null  float64\n",
      " 59  rougher.state.floatbank10_d_air                     14149 non-null  float64\n",
      " 60  rougher.state.floatbank10_d_level                   14149 non-null  float64\n",
      " 61  rougher.state.floatbank10_e_air                     14149 non-null  float64\n",
      " 62  rougher.state.floatbank10_e_level                   14149 non-null  float64\n",
      " 63  rougher.state.floatbank10_f_air                     14149 non-null  float64\n",
      " 64  rougher.state.floatbank10_f_level                   14149 non-null  float64\n",
      " 65  secondary_cleaner.output.tail_ag                    14149 non-null  float64\n",
      " 66  secondary_cleaner.output.tail_pb                    14149 non-null  float64\n",
      " 67  secondary_cleaner.output.tail_sol                   14149 non-null  float64\n",
      " 68  secondary_cleaner.output.tail_au                    14149 non-null  float64\n",
      " 69  secondary_cleaner.state.floatbank2_a_air            14149 non-null  float64\n",
      " 70  secondary_cleaner.state.floatbank2_a_level          14149 non-null  float64\n",
      " 71  secondary_cleaner.state.floatbank2_b_air            14149 non-null  float64\n",
      " 72  secondary_cleaner.state.floatbank2_b_level          14149 non-null  float64\n",
      " 73  secondary_cleaner.state.floatbank3_a_air            14149 non-null  float64\n",
      " 74  secondary_cleaner.state.floatbank3_a_level          14149 non-null  float64\n",
      " 75  secondary_cleaner.state.floatbank3_b_air            14149 non-null  float64\n",
      " 76  secondary_cleaner.state.floatbank3_b_level          14149 non-null  float64\n",
      " 77  secondary_cleaner.state.floatbank4_a_air            14149 non-null  float64\n",
      " 78  secondary_cleaner.state.floatbank4_a_level          14149 non-null  float64\n",
      " 79  secondary_cleaner.state.floatbank4_b_air            14149 non-null  float64\n",
      " 80  secondary_cleaner.state.floatbank4_b_level          14149 non-null  float64\n",
      " 81  secondary_cleaner.state.floatbank5_a_air            14149 non-null  float64\n",
      " 82  secondary_cleaner.state.floatbank5_a_level          14149 non-null  float64\n",
      " 83  secondary_cleaner.state.floatbank5_b_air            14149 non-null  float64\n",
      " 84  secondary_cleaner.state.floatbank5_b_level          14149 non-null  float64\n",
      " 85  secondary_cleaner.state.floatbank6_a_air            14149 non-null  float64\n",
      " 86  secondary_cleaner.state.floatbank6_a_level          14149 non-null  float64\n",
      " 87  rougher.output.recovery.check                       14149 non-null  float64\n",
      "dtypes: float64(87), object(1)\n",
      "memory usage: 9.5+ MB\n"
     ]
    },
    {
     "data": {
      "text/plain": [
       "None"
      ]
     },
     "metadata": {},
     "output_type": "display_data"
    },
    {
     "name": "stdout",
     "output_type": "stream",
     "text": [
      "<class 'pandas.core.frame.DataFrame'>\n",
      "RangeIndex: 5290 entries, 0 to 5289\n",
      "Data columns (total 53 columns):\n",
      " #   Column                                      Non-Null Count  Dtype  \n",
      "---  ------                                      --------------  -----  \n",
      " 0   date                                        5290 non-null   object \n",
      " 1   primary_cleaner.input.sulfate               5290 non-null   float64\n",
      " 2   primary_cleaner.input.depressant            5290 non-null   float64\n",
      " 3   primary_cleaner.input.feed_size             5290 non-null   float64\n",
      " 4   primary_cleaner.input.xanthate              5290 non-null   float64\n",
      " 5   primary_cleaner.state.floatbank8_a_air      5290 non-null   float64\n",
      " 6   primary_cleaner.state.floatbank8_a_level    5290 non-null   float64\n",
      " 7   primary_cleaner.state.floatbank8_b_air      5290 non-null   float64\n",
      " 8   primary_cleaner.state.floatbank8_b_level    5290 non-null   float64\n",
      " 9   primary_cleaner.state.floatbank8_c_air      5290 non-null   float64\n",
      " 10  primary_cleaner.state.floatbank8_c_level    5290 non-null   float64\n",
      " 11  primary_cleaner.state.floatbank8_d_air      5290 non-null   float64\n",
      " 12  primary_cleaner.state.floatbank8_d_level    5290 non-null   float64\n",
      " 13  rougher.input.feed_ag                       5290 non-null   float64\n",
      " 14  rougher.input.feed_pb                       5290 non-null   float64\n",
      " 15  rougher.input.feed_rate                     5290 non-null   float64\n",
      " 16  rougher.input.feed_size                     5290 non-null   float64\n",
      " 17  rougher.input.feed_sol                      5290 non-null   float64\n",
      " 18  rougher.input.feed_au                       5290 non-null   float64\n",
      " 19  rougher.input.floatbank10_sulfate           5290 non-null   float64\n",
      " 20  rougher.input.floatbank10_xanthate          5290 non-null   float64\n",
      " 21  rougher.input.floatbank11_sulfate           5290 non-null   float64\n",
      " 22  rougher.input.floatbank11_xanthate          5290 non-null   float64\n",
      " 23  rougher.state.floatbank10_a_air             5290 non-null   float64\n",
      " 24  rougher.state.floatbank10_a_level           5290 non-null   float64\n",
      " 25  rougher.state.floatbank10_b_air             5290 non-null   float64\n",
      " 26  rougher.state.floatbank10_b_level           5290 non-null   float64\n",
      " 27  rougher.state.floatbank10_c_air             5290 non-null   float64\n",
      " 28  rougher.state.floatbank10_c_level           5290 non-null   float64\n",
      " 29  rougher.state.floatbank10_d_air             5290 non-null   float64\n",
      " 30  rougher.state.floatbank10_d_level           5290 non-null   float64\n",
      " 31  rougher.state.floatbank10_e_air             5290 non-null   float64\n",
      " 32  rougher.state.floatbank10_e_level           5290 non-null   float64\n",
      " 33  rougher.state.floatbank10_f_air             5290 non-null   float64\n",
      " 34  rougher.state.floatbank10_f_level           5290 non-null   float64\n",
      " 35  secondary_cleaner.state.floatbank2_a_air    5290 non-null   float64\n",
      " 36  secondary_cleaner.state.floatbank2_a_level  5290 non-null   float64\n",
      " 37  secondary_cleaner.state.floatbank2_b_air    5290 non-null   float64\n",
      " 38  secondary_cleaner.state.floatbank2_b_level  5290 non-null   float64\n",
      " 39  secondary_cleaner.state.floatbank3_a_air    5290 non-null   float64\n",
      " 40  secondary_cleaner.state.floatbank3_a_level  5290 non-null   float64\n",
      " 41  secondary_cleaner.state.floatbank3_b_air    5290 non-null   float64\n",
      " 42  secondary_cleaner.state.floatbank3_b_level  5290 non-null   float64\n",
      " 43  secondary_cleaner.state.floatbank4_a_air    5290 non-null   float64\n",
      " 44  secondary_cleaner.state.floatbank4_a_level  5290 non-null   float64\n",
      " 45  secondary_cleaner.state.floatbank4_b_air    5290 non-null   float64\n",
      " 46  secondary_cleaner.state.floatbank4_b_level  5290 non-null   float64\n",
      " 47  secondary_cleaner.state.floatbank5_a_air    5290 non-null   float64\n",
      " 48  secondary_cleaner.state.floatbank5_a_level  5290 non-null   float64\n",
      " 49  secondary_cleaner.state.floatbank5_b_air    5290 non-null   float64\n",
      " 50  secondary_cleaner.state.floatbank5_b_level  5290 non-null   float64\n",
      " 51  secondary_cleaner.state.floatbank6_a_air    5290 non-null   float64\n",
      " 52  secondary_cleaner.state.floatbank6_a_level  5290 non-null   float64\n",
      "dtypes: float64(52), object(1)\n",
      "memory usage: 2.1+ MB\n"
     ]
    },
    {
     "data": {
      "text/plain": [
       "None"
      ]
     },
     "metadata": {},
     "output_type": "display_data"
    },
    {
     "name": "stdout",
     "output_type": "stream",
     "text": [
      "<class 'pandas.core.frame.DataFrame'>\n",
      "RangeIndex: 19439 entries, 0 to 19438\n",
      "Data columns (total 87 columns):\n",
      " #   Column                                              Non-Null Count  Dtype  \n",
      "---  ------                                              --------------  -----  \n",
      " 0   date                                                19439 non-null  object \n",
      " 1   final.output.concentrate_ag                         19439 non-null  float64\n",
      " 2   final.output.concentrate_pb                         19439 non-null  float64\n",
      " 3   final.output.concentrate_sol                        19439 non-null  float64\n",
      " 4   final.output.concentrate_au                         19439 non-null  float64\n",
      " 5   final.output.recovery                               19439 non-null  float64\n",
      " 6   final.output.tail_ag                                19439 non-null  float64\n",
      " 7   final.output.tail_pb                                19439 non-null  float64\n",
      " 8   final.output.tail_sol                               19439 non-null  float64\n",
      " 9   final.output.tail_au                                19439 non-null  float64\n",
      " 10  primary_cleaner.input.sulfate                       19439 non-null  float64\n",
      " 11  primary_cleaner.input.depressant                    19439 non-null  float64\n",
      " 12  primary_cleaner.input.feed_size                     19439 non-null  float64\n",
      " 13  primary_cleaner.input.xanthate                      19439 non-null  float64\n",
      " 14  primary_cleaner.output.concentrate_ag               19439 non-null  float64\n",
      " 15  primary_cleaner.output.concentrate_pb               19439 non-null  float64\n",
      " 16  primary_cleaner.output.concentrate_sol              19439 non-null  float64\n",
      " 17  primary_cleaner.output.concentrate_au               19439 non-null  float64\n",
      " 18  primary_cleaner.output.tail_ag                      19439 non-null  float64\n",
      " 19  primary_cleaner.output.tail_pb                      19439 non-null  float64\n",
      " 20  primary_cleaner.output.tail_sol                     19439 non-null  float64\n",
      " 21  primary_cleaner.output.tail_au                      19439 non-null  float64\n",
      " 22  primary_cleaner.state.floatbank8_a_air              19439 non-null  float64\n",
      " 23  primary_cleaner.state.floatbank8_a_level            19439 non-null  float64\n",
      " 24  primary_cleaner.state.floatbank8_b_air              19439 non-null  float64\n",
      " 25  primary_cleaner.state.floatbank8_b_level            19439 non-null  float64\n",
      " 26  primary_cleaner.state.floatbank8_c_air              19439 non-null  float64\n",
      " 27  primary_cleaner.state.floatbank8_c_level            19439 non-null  float64\n",
      " 28  primary_cleaner.state.floatbank8_d_air              19439 non-null  float64\n",
      " 29  primary_cleaner.state.floatbank8_d_level            19439 non-null  float64\n",
      " 30  rougher.calculation.sulfate_to_au_concentrate       19439 non-null  float64\n",
      " 31  rougher.calculation.floatbank10_sulfate_to_au_feed  19439 non-null  float64\n",
      " 32  rougher.calculation.floatbank11_sulfate_to_au_feed  19439 non-null  float64\n",
      " 33  rougher.calculation.au_pb_ratio                     19439 non-null  float64\n",
      " 34  rougher.input.feed_ag                               19439 non-null  float64\n",
      " 35  rougher.input.feed_pb                               19439 non-null  float64\n",
      " 36  rougher.input.feed_rate                             19439 non-null  float64\n",
      " 37  rougher.input.feed_size                             19439 non-null  float64\n",
      " 38  rougher.input.feed_sol                              19439 non-null  float64\n",
      " 39  rougher.input.feed_au                               19439 non-null  float64\n",
      " 40  rougher.input.floatbank10_sulfate                   19439 non-null  float64\n",
      " 41  rougher.input.floatbank10_xanthate                  19439 non-null  float64\n",
      " 42  rougher.input.floatbank11_sulfate                   19439 non-null  float64\n",
      " 43  rougher.input.floatbank11_xanthate                  19439 non-null  float64\n",
      " 44  rougher.output.concentrate_ag                       19439 non-null  float64\n",
      " 45  rougher.output.concentrate_pb                       19439 non-null  float64\n",
      " 46  rougher.output.concentrate_sol                      19439 non-null  float64\n",
      " 47  rougher.output.concentrate_au                       19439 non-null  float64\n",
      " 48  rougher.output.recovery                             19439 non-null  float64\n",
      " 49  rougher.output.tail_ag                              19439 non-null  float64\n",
      " 50  rougher.output.tail_pb                              19439 non-null  float64\n",
      " 51  rougher.output.tail_sol                             19439 non-null  float64\n",
      " 52  rougher.output.tail_au                              19439 non-null  float64\n",
      " 53  rougher.state.floatbank10_a_air                     19439 non-null  float64\n",
      " 54  rougher.state.floatbank10_a_level                   19439 non-null  float64\n",
      " 55  rougher.state.floatbank10_b_air                     19439 non-null  float64\n",
      " 56  rougher.state.floatbank10_b_level                   19439 non-null  float64\n",
      " 57  rougher.state.floatbank10_c_air                     19439 non-null  float64\n",
      " 58  rougher.state.floatbank10_c_level                   19439 non-null  float64\n",
      " 59  rougher.state.floatbank10_d_air                     19439 non-null  float64\n",
      " 60  rougher.state.floatbank10_d_level                   19439 non-null  float64\n",
      " 61  rougher.state.floatbank10_e_air                     19439 non-null  float64\n",
      " 62  rougher.state.floatbank10_e_level                   19439 non-null  float64\n",
      " 63  rougher.state.floatbank10_f_air                     19439 non-null  float64\n",
      " 64  rougher.state.floatbank10_f_level                   19439 non-null  float64\n",
      " 65  secondary_cleaner.output.tail_ag                    19439 non-null  float64\n",
      " 66  secondary_cleaner.output.tail_pb                    19439 non-null  float64\n",
      " 67  secondary_cleaner.output.tail_sol                   19439 non-null  float64\n",
      " 68  secondary_cleaner.output.tail_au                    19439 non-null  float64\n",
      " 69  secondary_cleaner.state.floatbank2_a_air            19439 non-null  float64\n",
      " 70  secondary_cleaner.state.floatbank2_a_level          19439 non-null  float64\n",
      " 71  secondary_cleaner.state.floatbank2_b_air            19439 non-null  float64\n",
      " 72  secondary_cleaner.state.floatbank2_b_level          19439 non-null  float64\n",
      " 73  secondary_cleaner.state.floatbank3_a_air            19439 non-null  float64\n",
      " 74  secondary_cleaner.state.floatbank3_a_level          19439 non-null  float64\n",
      " 75  secondary_cleaner.state.floatbank3_b_air            19439 non-null  float64\n",
      " 76  secondary_cleaner.state.floatbank3_b_level          19439 non-null  float64\n",
      " 77  secondary_cleaner.state.floatbank4_a_air            19439 non-null  float64\n",
      " 78  secondary_cleaner.state.floatbank4_a_level          19439 non-null  float64\n",
      " 79  secondary_cleaner.state.floatbank4_b_air            19439 non-null  float64\n",
      " 80  secondary_cleaner.state.floatbank4_b_level          19439 non-null  float64\n",
      " 81  secondary_cleaner.state.floatbank5_a_air            19439 non-null  float64\n",
      " 82  secondary_cleaner.state.floatbank5_a_level          19439 non-null  float64\n",
      " 83  secondary_cleaner.state.floatbank5_b_air            19439 non-null  float64\n",
      " 84  secondary_cleaner.state.floatbank5_b_level          19439 non-null  float64\n",
      " 85  secondary_cleaner.state.floatbank6_a_air            19439 non-null  float64\n",
      " 86  secondary_cleaner.state.floatbank6_a_level          19439 non-null  float64\n",
      "dtypes: float64(86), object(1)\n",
      "memory usage: 12.9+ MB\n"
     ]
    },
    {
     "data": {
      "text/plain": [
       "None"
      ]
     },
     "metadata": {},
     "output_type": "display_data"
    }
   ],
   "source": [
    "#Заполнение пропусков ближайшими значениями\n",
    "train = train.fillna(method='ffill')\n",
    "test = test.fillna(method='ffill')\n",
    "full = full.fillna(method='ffill')\n",
    "\n",
    "display(train.info())\n",
    "display(test.info())\n",
    "display(full.info())"
   ]
  },
  {
   "cell_type": "code",
   "execution_count": 7,
   "id": "6a3dd94d",
   "metadata": {},
   "outputs": [
    {
     "name": "stdout",
     "output_type": "stream",
     "text": [
      "0   2016-09-01 00:59:59\n",
      "Name: date, dtype: datetime64[ns]\n",
      "0   2016-01-15\n",
      "Name: date, dtype: datetime64[ns]\n",
      "0   2016-01-15\n",
      "Name: date, dtype: datetime64[ns]\n"
     ]
    }
   ],
   "source": [
    "#преобразование дат из object в корректный тип данных\n",
    "test['date'] = pd.to_datetime(test['date'], format='%Y-%m-%d %H:%M:%S')\n",
    "train['date'] = pd.to_datetime(train['date'], format='%Y-%m-%d %H:%M:%S')\n",
    "full['date'] = pd.to_datetime(full['date'], format='%Y-%m-%d %H:%M:%S')\n",
    "\n",
    "print(test['date'].head(1))\n",
    "print(train['date'].head(1))\n",
    "print(full['date'].head(1))"
   ]
  },
  {
   "cell_type": "markdown",
   "id": "dc7190e1",
   "metadata": {},
   "source": [
    "## Анализ данных"
   ]
  },
  {
   "cell_type": "markdown",
   "id": "80aabe22",
   "metadata": {},
   "source": [
    "### Изменение концентрации металлов на разных этапах"
   ]
  },
  {
   "cell_type": "markdown",
   "id": "9a91a0e8",
   "metadata": {},
   "source": [
    "Датасет содержит данные по концентрации металлов Au, Ag, Pb на 4 этапах:\\\n",
    "rougher.input\\\n",
    "rougher.output\\\n",
    "primary_cleaner.output\\\n",
    "final.output"
   ]
  },
  {
   "cell_type": "code",
   "execution_count": 8,
   "id": "7e984547",
   "metadata": {},
   "outputs": [
    {
     "data": {
      "image/png": "[encoded data removed]",
      "text/plain": [
       "<Figure size 800x400 with 1 Axes>"
      ]
     },
     "metadata": {
      "needs_background": "light"
     },
     "output_type": "display_data"
    }
   ],
   "source": [
    "# Au\n",
    "plt.figure(figsize=(10,5), dpi= 80)\n",
    "sns.kdeplot(full['rougher.input.feed_au'], shade=True, color=\"red\", label='rougher.input', alpha=.5)\n",
    "sns.kdeplot(full['rougher.output.concentrate_au'], shade=True, color=\"orange\", label='rougher.output', alpha=.5)\n",
    "sns.kdeplot(full['primary_cleaner.output.concentrate_au'], shade=True, color=\"yellow\", label='primary_cleaner.output', alpha=.5)\n",
    "sns.kdeplot(full['final.output.concentrate_au'], shade=True, color=\"g\", label='final.output', alpha=.5)\n",
    "\n",
    "plt.title('Изменение концентрации Au', fontsize=14)\n",
    "plt.legend()\n",
    "plt.show()"
   ]
  },
  {
   "cell_type": "markdown",
   "id": "4d1447ae",
   "metadata": {},
   "source": [
    "На графике распределения плотности видно, что на каждом этапе концентрация золота в продукте значительно повышается. Что логично - в этом главная цель технологического процесса.\n",
    "Заметен странный всплеск около нуля на кажом этапе - или это отбракованные продукты процесса или ошибки датасета."
   ]
  },
  {
   "cell_type": "code",
   "execution_count": 9,
   "id": "b84a3142",
   "metadata": {},
   "outputs": [
    {
     "data": {
      "image/png": "[encoded data removed]",
      "text/plain": [
       "<Figure size 800x400 with 1 Axes>"
      ]
     },
     "metadata": {
      "needs_background": "light"
     },
     "output_type": "display_data"
    }
   ],
   "source": [
    "# Ag\n",
    "plt.figure(figsize=(10,5), dpi= 80)\n",
    "sns.kdeplot(full['rougher.input.feed_ag'], shade=True, color=\"red\", label='rougher.input', alpha=.5)\n",
    "sns.kdeplot(full['rougher.output.concentrate_ag'], shade=True, color=\"orange\", label='rougher.output', alpha=.5)\n",
    "sns.kdeplot(full['primary_cleaner.output.concentrate_ag'], shade=True, color=\"yellow\", label='primary_cleaner.output', alpha=.5)\n",
    "sns.kdeplot(full['final.output.concentrate_ag'], shade=True, color=\"g\", label='final.output', alpha=.5)\n",
    "\n",
    "plt.title('Изменение концентрации Ag', fontsize=14)\n",
    "plt.legend()\n",
    "plt.show()"
   ]
  },
  {
   "cell_type": "markdown",
   "id": "7432db3f",
   "metadata": {},
   "source": [
    "Концентрация серебра увеличивается после флотации и заметно снижается на следующих этапах."
   ]
  },
  {
   "cell_type": "code",
   "execution_count": 10,
   "id": "b49ad31f",
   "metadata": {},
   "outputs": [
    {
     "data": {
      "image/png": "[encoded data removed]",
      "text/plain": [
       "<Figure size 800x400 with 1 Axes>"
      ]
     },
     "metadata": {
      "needs_background": "light"
     },
     "output_type": "display_data"
    }
   ],
   "source": [
    "# Pb\n",
    "plt.figure(figsize=(10,5), dpi= 80)\n",
    "sns.kdeplot(full['rougher.input.feed_pb'], shade=True, color=\"red\", label='rougher.input', alpha=.5)\n",
    "sns.kdeplot(full['rougher.output.concentrate_pb'], shade=True, color=\"orange\", label='rougher.output', alpha=.5)\n",
    "sns.kdeplot(full['primary_cleaner.output.concentrate_pb'], shade=True, color=\"yellow\", label='primary_cleaner.output', alpha=.5)\n",
    "sns.kdeplot(full['final.output.concentrate_pb'], shade=True, color=\"g\", label='final.output', alpha=.5)\n",
    "\n",
    "plt.title('Изменение концентрации Pb', fontsize=14)\n",
    "plt.legend()\n",
    "plt.show()"
   ]
  },
  {
   "cell_type": "markdown",
   "id": "142dd928",
   "metadata": {},
   "source": [
    "Концентрация свинца заметно падает после флотации и первичной очистки. После вторичной очистки концентрация свинца почти не меняется.\n",
    "Из совокупных данных можно сделать некоторые выводы о технологическом процессе. Например, видно, что на этапе флотации сырье очищается главным образом от свинца и, возможно, от неметаллических примесей. На этапе первой очистки сырье очищается от серебра и свинца, а на второй очистке по большей части от оставшегося серебра."
   ]
  },
  {
   "cell_type": "markdown",
   "id": "c069e718",
   "metadata": {},
   "source": [
    "### Сравнение распределения размеров гранул сырья на обучающей и тестовой выборках"
   ]
  },
  {
   "cell_type": "code",
   "execution_count": 11,
   "id": "5a9cf6fe",
   "metadata": {},
   "outputs": [
    {
     "name": "stdout",
     "output_type": "stream",
     "text": [
      "count    14149.000000\n",
      "mean        60.239856\n",
      "std         23.005310\n",
      "min          9.659576\n",
      "25%         48.966751\n",
      "50%         55.269784\n",
      "75%         66.007526\n",
      "max        484.967466\n",
      "Name: rougher.input.feed_size, dtype: float64\n",
      "count    5290.000000\n",
      "mean       55.952754\n",
      "std        19.080334\n",
      "min         0.046369\n",
      "25%        43.906504\n",
      "50%        50.846843\n",
      "75%        62.451165\n",
      "max       392.494040\n",
      "Name: rougher.input.feed_size, dtype: float64\n"
     ]
    },
    {
     "data": {
      "image/png": "[encoded data removed]",
      "text/plain": [
       "<Figure size 720x360 with 1 Axes>"
      ]
     },
     "metadata": {
      "needs_background": "light"
     },
     "output_type": "display_data"
    }
   ],
   "source": [
    "print(train['rougher.input.feed_size'].describe())\n",
    "print(test['rougher.input.feed_size'].describe())\n",
    "\n",
    "plt.figure(figsize=(10,5))\n",
    "sns.kdeplot(train['rougher.input.feed_size'], shade=True, color=\"g\", label='train', alpha=.5)\n",
    "sns.kdeplot(test['rougher.input.feed_size'], shade=True, color=\"yellow\", label='rougher.test', alpha=.5)\n",
    "\n",
    "plt.title('Размеры гранул на обучающей и тестовой выборках', fontsize=10)\n",
    "plt.legend()\n",
    "plt.xlim([0, 150])\n",
    "plt.show()"
   ]
  },
  {
   "cell_type": "markdown",
   "id": "92f5274e",
   "metadata": {},
   "source": [
    "Распределения немного различны. Сложно определить, достаточно ли такой разницы, чтобы она оказывала влияние на оценку модели в дальнейшем. Пока предположим, что разница некритична."
   ]
  },
  {
   "cell_type": "markdown",
   "id": "5d6de6fb",
   "metadata": {},
   "source": [
    "### Исследование суммарной концентрации всех веществ на разных стадиях: в сырье, в черновом и финальном концентратах"
   ]
  },
  {
   "cell_type": "code",
   "execution_count": 12,
   "id": "170b8b18",
   "metadata": {},
   "outputs": [
    {
     "data": {
      "image/png": "[encoded data removed]",
      "text/plain": [
       "<Figure size 800x400 with 1 Axes>"
      ]
     },
     "metadata": {
      "needs_background": "light"
     },
     "output_type": "display_data"
    }
   ],
   "source": [
    "full['rougher.input'] = \\\n",
    "    full['rougher.input.feed_ag'] + \\\n",
    "    full['rougher.input.feed_pb'] + \\\n",
    "    full['rougher.input.feed_sol'] + \\\n",
    "    full['rougher.input.feed_au']\n",
    "\n",
    "full['rougher.output'] = \\\n",
    "    full['rougher.output.concentrate_ag'] + \\\n",
    "    full['rougher.output.concentrate_pb'] + \\\n",
    "    full['rougher.output.concentrate_sol'] + \\\n",
    "    full['rougher.output.concentrate_au']\n",
    "    \n",
    "full['primary_cleaner.output'] = \\\n",
    "    full['primary_cleaner.output.concentrate_ag'] + \\\n",
    "    full['primary_cleaner.output.concentrate_pb'] + \\\n",
    "    full['primary_cleaner.output.concentrate_sol'] + \\\n",
    "    full['primary_cleaner.output.concentrate_au']\n",
    "\n",
    "full['final.output'] = \\\n",
    "    full['final.output.concentrate_ag'] + \\\n",
    "    full['final.output.concentrate_pb'] + \\\n",
    "    full['final.output.concentrate_sol'] + \\\n",
    "    full['final.output.concentrate_au']\n",
    "\n",
    "plt.figure(figsize=(10,5), dpi= 80)\n",
    "sns.kdeplot(full['rougher.input'], shade=True, color=\"red\", label='rougher.input', alpha=.5)\n",
    "sns.kdeplot(full['rougher.output'], shade=True, color=\"orange\", label='rougher.output', alpha=.5)\n",
    "sns.kdeplot(full['primary_cleaner.output'], shade=True, color=\"yellow\", label='primary_cleaner.output', alpha=.5)\n",
    "sns.kdeplot(full['final.output'], shade=True, color=\"g\", label='final.output', alpha=.5)\n",
    "\n",
    "plt.title('Изменение суммарной концентрации веществ', fontsize=14)\n",
    "plt.legend()\n",
    "plt.show()"
   ]
  },
  {
   "cell_type": "markdown",
   "id": "6d02c4f0",
   "metadata": {},
   "source": [
    "На графике видно, что суммарная концентрация веществ растет после флотации, снижается после первой очистки (возможно, из-за очищающих реагентов), и значительно растет после второй очистки. Бросается в глаза, что диапазон распределения после второй очистки значительно уже, чем на предыдущих этапах. Это говорит о некоторой стабильности конечного результата.\\\n",
    "\n",
    "Снова есть аномальный всплеск около нуля. Эти данные могут мешать обучению модели, поэтому из обучающего и общего датасетов их стоит удалить."
   ]
  },
  {
   "cell_type": "code",
   "execution_count": 13,
   "id": "34f46bb0",
   "metadata": {},
   "outputs": [],
   "source": [
    "def delete_zeros(df):\n",
    "    criteria_1 = (\n",
    "        df['rougher.output.concentrate_ag'] + \\\n",
    "        df['rougher.output.concentrate_pb'] + \\\n",
    "        df['rougher.output.concentrate_sol'] + \\\n",
    "        df['rougher.output.concentrate_au']\n",
    "    )!= 0\n",
    "\n",
    "    criteria_2 = (\n",
    "        df['primary_cleaner.output.concentrate_ag'] + \\\n",
    "        df['primary_cleaner.output.concentrate_pb'] + \\\n",
    "        df['primary_cleaner.output.concentrate_sol'] + \\\n",
    "        df['primary_cleaner.output.concentrate_au']\n",
    "    )!= 0\n",
    "\n",
    "    criteria_3 = (\n",
    "        df['final.output.concentrate_ag'] + \\\n",
    "        df['final.output.concentrate_pb'] + \\\n",
    "        df['final.output.concentrate_sol'] + \\\n",
    "        df['final.output.concentrate_au']\n",
    "    ) != 0\n",
    "    \n",
    "    return df.loc[criteria_1 & criteria_2 & criteria_3]\n",
    "\n",
    "train = delete_zeros(train)\n",
    "full = delete_zeros(full)"
   ]
  },
  {
   "cell_type": "markdown",
   "id": "7a41d088",
   "metadata": {},
   "source": [
    "## Модель"
   ]
  },
  {
   "cell_type": "markdown",
   "id": "5514077f",
   "metadata": {},
   "source": [
    "### Функция для расчета sMAPE"
   ]
  },
  {
   "cell_type": "code",
   "execution_count": 14,
   "id": "d2e2d9cf",
   "metadata": {},
   "outputs": [],
   "source": [
    "#поменять индексацию predictions с учетом что это np.array\n",
    "def smape(target, predictions, **kwargs):\n",
    "    smape_rougher = 0\n",
    "    smape_final = 0\n",
    "    target = target.reset_index(drop=True)\n",
    "    for i in range(len(target)):\n",
    "        smape_rougher += abs(target.loc[i, 'rougher.output.recovery'] - predictions[i, 0]) / ((abs(target.loc[i, 'rougher.output.recovery']) + abs(predictions[i, 0])) / 2)\n",
    "        smape_final += abs(target.loc[i, 'final.output.recovery'] - predictions[i, 1]) / ((abs(target.loc[i, 'final.output.recovery']) + abs(predictions[i, 1])) / 2)\n",
    "    \n",
    "    smape_rougher = smape_rougher / len(target) * 100\n",
    "    smape_final = smape_final / len(target) * 100\n",
    "    \n",
    "    smape_score = smape_rougher * .25 + smape_final * .75\n",
    "    return smape_score"
   ]
  },
  {
   "cell_type": "code",
   "execution_count": 15,
   "id": "5506facf",
   "metadata": {},
   "outputs": [],
   "source": [
    "#подготовка данных для обучения\n",
    "\n",
    "features_train = train.drop(not_in_test,  axis=1)\n",
    "features_train = features_train.drop(['date'], axis=1)\n",
    "\n",
    "target_train = train[['rougher.output.recovery', 'final.output.recovery']]\n",
    "\n",
    "#подтягиваем в тестовую выборку столбцы с целевым признаком из объединенной выборки\n",
    "full_0 = full[['date', 'rougher.output.recovery', 'final.output.recovery']]\n",
    "test = test.merge(full_0, on='date')\n",
    "\n",
    "features_test = test.drop(['date', 'rougher.output.recovery', 'final.output.recovery'], axis=1)\n",
    "target_test = test[['rougher.output.recovery', 'final.output.recovery']]"
   ]
  },
  {
   "cell_type": "markdown",
   "id": "c22642aa",
   "metadata": {},
   "source": [
    "### Модель 1 - DecisionTree"
   ]
  },
  {
   "cell_type": "code",
   "execution_count": 16,
   "id": "a75cc802",
   "metadata": {},
   "outputs": [
    {
     "name": "stdout",
     "output_type": "stream",
     "text": [
      "Лучший результат: 6.661447691515981\n",
      "Лучшая глубина: 20\n",
      "CPU times: user 56.2 s, sys: 22.1 ms, total: 56.3 s\n",
      "Wall time: 56.3 s\n"
     ]
    }
   ],
   "source": [
    "%%time\n",
    "features_train, target_train = shuffle(features_train, target_train, random_state=12345)\n",
    "\n",
    "best_depth = 0\n",
    "best_result = 100\n",
    "for depth in range(1, 21):\n",
    "    model = DecisionTreeRegressor(random_state=12345, max_depth=depth)\n",
    "    scorer = make_scorer(smape, greater_is_better=False)\n",
    "    scores = cross_val_score(model, features_train, target_train, scoring=scorer, cv=5)\n",
    "    if scores.mean() < best_result:\n",
    "        best_result = scores.mean() * (-1)\n",
    "        best_depth = depth\n",
    "\n",
    "print('Лучший результат:', best_result)\n",
    "print('Лучшая глубина:', best_depth)"
   ]
  },
  {
   "cell_type": "markdown",
   "id": "3a36b78b",
   "metadata": {},
   "source": [
    "Лучший результат: 6.4793367621685745\\\n",
    "Лучшая глубина: 14"
   ]
  },
  {
   "cell_type": "markdown",
   "id": "0775adba",
   "metadata": {},
   "source": [
    "### Модель 2 - RandomForest"
   ]
  },
  {
   "cell_type": "code",
   "execution_count": 17,
   "id": "2605376a",
   "metadata": {},
   "outputs": [],
   "source": [
    "#%%time\n",
    "\n",
    "#best_depth = 0\n",
    "#best_est = 0\n",
    "#best_result = 100\n",
    "#for est in range(10, 101, 10):\n",
    "#    for depth in range(1, 21):\n",
    "#        model = RandomForestRegressor(random_state=12345, n_estimators=est, max_depth=depth)\n",
    "#        scorer = make_scorer(smape, greater_is_better=False)\n",
    "#        scores = cross_val_score(model, features_train, target_train, scoring=scorer, cv=5)\n",
    "#        if scores.mean() < best_result:\n",
    "#            best_result = scores.mean() * (-1)\n",
    "#            best_depth = depth\n",
    "#            best_est = est\n",
    "\n",
    "#print('Лучший результат:', best_result)\n",
    "#print('Лучшее est', best_est)\n",
    "#print('Лучшая глубина:', best_depth)"
   ]
  },
  {
   "cell_type": "markdown",
   "id": "585132ba",
   "metadata": {},
   "source": [
    "Т.к. ячейка выполнялась 4.5 часа, фиксируем показатели лучшей модели, чтобы не запускать повторно:\n",
    "Лучший результат: 4.868805482459317\\\n",
    "Лучшее est 100\\\n",
    "Лучшая глубина: 20\\\n",
    "Wall time: 4h 31min 8s"
   ]
  },
  {
   "cell_type": "markdown",
   "id": "69be7d86",
   "metadata": {},
   "source": [
    "### Модель 3 - LinearRegression"
   ]
  },
  {
   "cell_type": "code",
   "execution_count": 18,
   "id": "59b53fe0",
   "metadata": {},
   "outputs": [
    {
     "name": "stdout",
     "output_type": "stream",
     "text": [
      "sMAPE: 7.220112366214558\n"
     ]
    }
   ],
   "source": [
    "scaler = StandardScaler()\n",
    "scaler.fit(features_train)\n",
    "\n",
    "features_train_scaled = scaler.transform(features_train)\n",
    "#features_valid_scaled = scaler.transform(features_train) \n",
    "\n",
    "model = LinearRegression()\n",
    "scorer = make_scorer(smape, greater_is_better=False)\n",
    "scores = cross_val_score(model, features_train_scaled, target_train, scoring=scorer, cv=5)\n",
    "result = scores.mean() * (-1)\n",
    "\n",
    "print('sMAPE:', result)"
   ]
  },
  {
   "cell_type": "markdown",
   "id": "560e1970",
   "metadata": {},
   "source": [
    "По результатам кросс-валидации лучшая модель - RandomForestRegressor с показателями:\n",
    "sMAPE: 4.868805482459317\\\n",
    "Гиперпараметры лучшей модели: est=100, depth=20"
   ]
  },
  {
   "cell_type": "markdown",
   "id": "247c7861",
   "metadata": {},
   "source": [
    "### Тестирование и проверка на адекватность лучшей модели"
   ]
  },
  {
   "cell_type": "code",
   "execution_count": 19,
   "id": "2833c828",
   "metadata": {},
   "outputs": [
    {
     "name": "stdout",
     "output_type": "stream",
     "text": [
      "RandomForest test sMAPE 8.204942206647548\n",
      "DummyRegressor sMAPE 7.778089380065665\n"
     ]
    }
   ],
   "source": [
    "model = RandomForestRegressor(random_state=12345, n_estimators=100, max_depth=20)\n",
    "model.fit(features_train, target_train)\n",
    "predictions = model.predict(features_test)\n",
    "smape_test = smape(target_test, predictions)\n",
    "print('RandomForest test sMAPE', smape_test)\n",
    "\n",
    "#Dummy модель для проверки на адекватность\n",
    "dummy_regr = DummyRegressor(strategy=\"mean\")\n",
    "dummy_regr.fit(features_train, target_train)\n",
    "dummy_pred = dummy_regr.predict(features_test)\n",
    "smape_dummy = smape(target_test, dummy_pred)\n",
    "print('DummyRegressor sMAPE', smape_dummy)"
   ]
  },
  {
   "cell_type": "markdown",
   "id": "02d42207",
   "metadata": {},
   "source": [
    "## Вывод"
   ]
  },
  {
   "cell_type": "markdown",
   "id": "d7071b8b",
   "metadata": {},
   "source": [
    "В результате кросс-валидации лучшей моделью выглядит RandomForest со значением sMAPE: 4.86.\\\n",
    "Гиперпараметры модели: est=100, depth=20.\n",
    "\n",
    "На тестовой выборке модель показывает несколько худший показатель sMAPE = 7.9, который очень близок к результату модели Dummy 7.8 - возможно, это специфика данных конкретной тестовой выборки."
   ]
  },
  {
   "cell_type": "code",
   "execution_count": null,
   "id": "5ed6161d",
   "metadata": {},
   "outputs": [],
   "source": []
  }
 ],
 "metadata": {
  "ExecuteTimeLog": [
   {
    "duration": 27,
    "start_time": "2022-09-13T14:57:04.982Z"
   },
   {
    "duration": 1454,
    "start_time": "2022-09-13T19:32:45.877Z"
   },
   {
    "duration": 151,
    "start_time": "2022-09-13T19:32:47.333Z"
   },
   {
    "duration": 0,
    "start_time": "2022-09-13T19:32:47.486Z"
   },
   {
    "duration": 0,
    "start_time": "2022-09-13T19:32:47.487Z"
   },
   {
    "duration": 0,
    "start_time": "2022-09-13T19:32:47.488Z"
   },
   {
    "duration": 0,
    "start_time": "2022-09-13T19:32:47.489Z"
   },
   {
    "duration": 0,
    "start_time": "2022-09-13T19:32:47.490Z"
   },
   {
    "duration": 0,
    "start_time": "2022-09-13T19:32:47.491Z"
   },
   {
    "duration": 0,
    "start_time": "2022-09-13T19:32:47.492Z"
   },
   {
    "duration": 0,
    "start_time": "2022-09-13T19:32:47.494Z"
   },
   {
    "duration": 0,
    "start_time": "2022-09-13T19:32:47.495Z"
   },
   {
    "duration": 0,
    "start_time": "2022-09-13T19:32:47.495Z"
   },
   {
    "duration": 0,
    "start_time": "2022-09-13T19:32:47.509Z"
   },
   {
    "duration": 0,
    "start_time": "2022-09-13T19:32:47.509Z"
   },
   {
    "duration": 0,
    "start_time": "2022-09-13T19:32:47.510Z"
   },
   {
    "duration": 0,
    "start_time": "2022-09-13T19:32:47.511Z"
   },
   {
    "duration": 0,
    "start_time": "2022-09-13T19:32:47.512Z"
   },
   {
    "duration": 0,
    "start_time": "2022-09-13T19:32:47.512Z"
   },
   {
    "duration": 0,
    "start_time": "2022-09-13T19:32:47.513Z"
   },
   {
    "duration": 1348,
    "start_time": "2022-09-13T19:34:27.719Z"
   },
   {
    "duration": 3161,
    "start_time": "2022-09-13T19:34:29.070Z"
   },
   {
    "duration": 434,
    "start_time": "2022-09-13T19:34:32.233Z"
   },
   {
    "duration": 17,
    "start_time": "2022-09-13T19:34:32.669Z"
   },
   {
    "duration": 23,
    "start_time": "2022-09-13T19:34:32.688Z"
   },
   {
    "duration": 110,
    "start_time": "2022-09-13T19:34:32.714Z"
   },
   {
    "duration": 24,
    "start_time": "2022-09-13T19:34:32.825Z"
   },
   {
    "duration": 1196,
    "start_time": "2022-09-13T19:34:32.851Z"
   },
   {
    "duration": 1146,
    "start_time": "2022-09-13T19:34:34.048Z"
   },
   {
    "duration": 1430,
    "start_time": "2022-09-13T19:34:35.195Z"
   },
   {
    "duration": 477,
    "start_time": "2022-09-13T19:34:36.626Z"
   },
   {
    "duration": 1089,
    "start_time": "2022-09-13T19:34:37.104Z"
   },
   {
    "duration": 29,
    "start_time": "2022-09-13T19:34:38.194Z"
   },
   {
    "duration": 6,
    "start_time": "2022-09-13T19:34:38.225Z"
   },
   {
    "duration": 21,
    "start_time": "2022-09-13T19:34:38.232Z"
   },
   {
    "duration": 62765,
    "start_time": "2022-09-13T19:34:38.254Z"
   },
   {
    "duration": 2,
    "start_time": "2022-09-13T19:35:41.021Z"
   },
   {
    "duration": 1766,
    "start_time": "2022-09-13T19:35:41.025Z"
   },
   {
    "duration": 67806,
    "start_time": "2022-09-13T19:35:42.793Z"
   },
   {
    "duration": 57,
    "start_time": "2022-09-13T19:41:33.445Z"
   },
   {
    "duration": 61508,
    "start_time": "2022-09-13T19:44:25.543Z"
   },
   {
    "duration": 2967,
    "start_time": "2022-09-13T19:53:32.385Z"
   },
   {
    "duration": 1425,
    "start_time": "2022-09-13T19:54:53.447Z"
   },
   {
    "duration": 67289,
    "start_time": "2022-09-13T19:55:29.292Z"
   },
   {
    "duration": 1337,
    "start_time": "2022-09-13T20:05:11.551Z"
   },
   {
    "duration": 689,
    "start_time": "2022-09-13T20:05:12.890Z"
   },
   {
    "duration": 412,
    "start_time": "2022-09-13T20:05:13.581Z"
   },
   {
    "duration": 21,
    "start_time": "2022-09-13T20:05:13.994Z"
   },
   {
    "duration": 4,
    "start_time": "2022-09-13T20:05:14.017Z"
   },
   {
    "duration": 62,
    "start_time": "2022-09-13T20:05:14.023Z"
   },
   {
    "duration": 33,
    "start_time": "2022-09-13T20:05:14.087Z"
   },
   {
    "duration": 991,
    "start_time": "2022-09-13T20:05:14.122Z"
   },
   {
    "duration": 982,
    "start_time": "2022-09-13T20:05:15.115Z"
   },
   {
    "duration": 1013,
    "start_time": "2022-09-13T20:05:16.098Z"
   },
   {
    "duration": 386,
    "start_time": "2022-09-13T20:05:17.112Z"
   },
   {
    "duration": 1105,
    "start_time": "2022-09-13T20:05:17.499Z"
   },
   {
    "duration": 26,
    "start_time": "2022-09-13T20:05:18.606Z"
   },
   {
    "duration": 4,
    "start_time": "2022-09-13T20:05:18.635Z"
   },
   {
    "duration": 19,
    "start_time": "2022-09-13T20:05:18.640Z"
   },
   {
    "duration": 62693,
    "start_time": "2022-09-13T20:05:18.661Z"
   },
   {
    "duration": 2,
    "start_time": "2022-09-13T20:06:21.356Z"
   },
   {
    "duration": 1516,
    "start_time": "2022-09-13T20:06:21.360Z"
   },
   {
    "duration": 68105,
    "start_time": "2022-09-13T20:06:22.878Z"
   },
   {
    "duration": 54,
    "start_time": "2022-09-14T14:06:24.101Z"
   },
   {
    "duration": 1649,
    "start_time": "2022-09-14T14:06:33.105Z"
   },
   {
    "duration": 3141,
    "start_time": "2022-09-14T14:06:34.756Z"
   },
   {
    "duration": 362,
    "start_time": "2022-09-14T14:06:37.899Z"
   },
   {
    "duration": 14,
    "start_time": "2022-09-14T14:06:38.263Z"
   },
   {
    "duration": 15,
    "start_time": "2022-09-14T14:06:38.278Z"
   },
   {
    "duration": 102,
    "start_time": "2022-09-14T14:06:38.294Z"
   },
   {
    "duration": 27,
    "start_time": "2022-09-14T14:06:38.398Z"
   },
   {
    "duration": 1308,
    "start_time": "2022-09-14T14:06:38.427Z"
   },
   {
    "duration": 1061,
    "start_time": "2022-09-14T14:06:39.737Z"
   },
   {
    "duration": 1238,
    "start_time": "2022-09-14T14:06:40.801Z"
   },
   {
    "duration": 436,
    "start_time": "2022-09-14T14:06:42.040Z"
   },
   {
    "duration": 1373,
    "start_time": "2022-09-14T14:06:42.478Z"
   },
   {
    "duration": 32,
    "start_time": "2022-09-14T14:06:43.852Z"
   },
   {
    "duration": 5,
    "start_time": "2022-09-14T14:06:43.886Z"
   },
   {
    "duration": 39,
    "start_time": "2022-09-14T14:06:43.892Z"
   },
   {
    "duration": 56304,
    "start_time": "2022-09-14T14:06:43.933Z"
   },
   {
    "duration": 3,
    "start_time": "2022-09-14T14:07:40.239Z"
   },
   {
    "duration": 3187,
    "start_time": "2022-09-14T14:07:40.244Z"
   },
   {
    "duration": 61411,
    "start_time": "2022-09-14T14:07:43.433Z"
   }
  ],
  "kernelspec": {
   "display_name": "Python 3 (ipykernel)",
   "language": "python",
   "name": "python3"
  },
  "language_info": {
   "codemirror_mode": {
    "name": "ipython",
    "version": 3
   },
   "file_extension": ".py",
   "mimetype": "text/x-python",
   "name": "python",
   "nbconvert_exporter": "python",
   "pygments_lexer": "ipython3",
   "version": "3.9.12"
  },
  "toc": {
   "base_numbering": 1,
   "nav_menu": {},
   "number_sections": true,
   "sideBar": true,
   "skip_h1_title": false,
   "title_cell": "Table of Contents",
   "title_sidebar": "Contents",
   "toc_cell": false,
   "toc_position": {
    "height": "calc(100% - 180px)",
    "left": "10px",
    "top": "150px",
    "width": "165px"
   },
   "toc_section_display": true,
   "toc_window_display": true
  }
 },
 "nbformat": 4,
 "nbformat_minor": 5
}
