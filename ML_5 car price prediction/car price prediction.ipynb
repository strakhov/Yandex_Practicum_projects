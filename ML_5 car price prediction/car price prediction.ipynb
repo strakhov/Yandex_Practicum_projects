{
 "cells": [
  {
   "cell_type": "markdown",
   "metadata": {},
   "source": [
    "# Определение стоимости автомобилей"
   ]
  },
  {
   "cell_type": "markdown",
   "metadata": {},
   "source": [
    "Сервис по продаже автомобилей с пробегом «Не бит, не крашен» разрабатывает приложение для привлечения новых клиентов. В нём можно быстро узнать рыночную стоимость своего автомобиля. В нашем распоряжении исторические данные: технические характеристики, комплектации и цены автомобилей. Нам нужно построить модель для определения стоимости. \n",
    "\n",
    "Заказчику важны:\n",
    "\n",
    "- качество предсказания;\n",
    "- скорость предсказания;\n",
    "- время обучения.\n",
    "\n",
    "План работы:\n",
    "- проанализируем данные, сделаем предобработку, если понадобится;\n",
    "- подготовим данные для обучения;\n",
    "- обучим и сравним несколько моделей;\n",
    "- выберем лучшую и протестируем ее"
   ]
  },
  {
   "cell_type": "markdown",
   "metadata": {},
   "source": [
    "## Подготовка данных"
   ]
  },
  {
   "cell_type": "markdown",
   "metadata": {},
   "source": [
    "### Знакомство с данными, предобработка"
   ]
  },
  {
   "cell_type": "code",
   "execution_count": 1,
   "metadata": {},
   "outputs": [],
   "source": [
    "import pandas as pd\n",
    "import seaborn as sns\n",
    "from sklearn.model_selection import train_test_split\n",
    "from sklearn.preprocessing import StandardScaler\n",
    "from sklearn.preprocessing import OrdinalEncoder\n",
    "from sklearn.tree import DecisionTreeRegressor\n",
    "from sklearn.ensemble import RandomForestRegressor\n",
    "from sklearn.linear_model import LinearRegression\n",
    "from catboost import CatBoostRegressor\n",
    "import lightgbm as ltb\n",
    "\n",
    "from sklearn.metrics import mean_squared_error"
   ]
  },
  {
   "cell_type": "code",
   "execution_count": 2,
   "metadata": {},
   "outputs": [
    {
     "name": "stdout",
     "output_type": "stream",
     "text": [
      "<class 'pandas.core.frame.DataFrame'>\n",
      "RangeIndex: 354369 entries, 0 to 354368\n",
      "Data columns (total 16 columns):\n",
      " #   Column             Non-Null Count   Dtype \n",
      "---  ------             --------------   ----- \n",
      " 0   DateCrawled        354369 non-null  object\n",
      " 1   Price              354369 non-null  int64 \n",
      " 2   VehicleType        316879 non-null  object\n",
      " 3   RegistrationYear   354369 non-null  int64 \n",
      " 4   Gearbox            334536 non-null  object\n",
      " 5   Power              354369 non-null  int64 \n",
      " 6   Model              334664 non-null  object\n",
      " 7   Kilometer          354369 non-null  int64 \n",
      " 8   RegistrationMonth  354369 non-null  int64 \n",
      " 9   FuelType           321474 non-null  object\n",
      " 10  Brand              354369 non-null  object\n",
      " 11  NotRepaired        283215 non-null  object\n",
      " 12  DateCreated        354369 non-null  object\n",
      " 13  NumberOfPictures   354369 non-null  int64 \n",
      " 14  PostalCode         354369 non-null  int64 \n",
      " 15  LastSeen           354369 non-null  object\n",
      "dtypes: int64(7), object(9)\n",
      "memory usage: 43.3+ MB\n"
     ]
    }
   ],
   "source": [
    "data = pd.read_csv('/datasets/autos.csv')\n",
    "\n",
    "data.info()"
   ]
  },
  {
   "cell_type": "code",
   "execution_count": 3,
   "metadata": {},
   "outputs": [
    {
     "data": {
      "text/html": [
       "<div>\n",
       "<style scoped>\n",
       "    .dataframe tbody tr th:only-of-type {\n",
       "        vertical-align: middle;\n",
       "    }\n",
       "\n",
       "    .dataframe tbody tr th {\n",
       "        vertical-align: top;\n",
       "    }\n",
       "\n",
       "    .dataframe thead th {\n",
       "        text-align: right;\n",
       "    }\n",
       "</style>\n",
       "<table border=\"1\" class=\"dataframe\">\n",
       "  <thead>\n",
       "    <tr style=\"text-align: right;\">\n",
       "      <th></th>\n",
       "      <th>DateCrawled</th>\n",
       "      <th>Price</th>\n",
       "      <th>VehicleType</th>\n",
       "      <th>RegistrationYear</th>\n",
       "      <th>Gearbox</th>\n",
       "      <th>Power</th>\n",
       "      <th>Model</th>\n",
       "      <th>Kilometer</th>\n",
       "      <th>RegistrationMonth</th>\n",
       "      <th>FuelType</th>\n",
       "      <th>Brand</th>\n",
       "      <th>NotRepaired</th>\n",
       "      <th>DateCreated</th>\n",
       "      <th>NumberOfPictures</th>\n",
       "      <th>PostalCode</th>\n",
       "      <th>LastSeen</th>\n",
       "    </tr>\n",
       "  </thead>\n",
       "  <tbody>\n",
       "    <tr>\n",
       "      <th>0</th>\n",
       "      <td>2016-03-24 11:52:17</td>\n",
       "      <td>480</td>\n",
       "      <td>NaN</td>\n",
       "      <td>1993</td>\n",
       "      <td>manual</td>\n",
       "      <td>0</td>\n",
       "      <td>golf</td>\n",
       "      <td>150000</td>\n",
       "      <td>0</td>\n",
       "      <td>petrol</td>\n",
       "      <td>volkswagen</td>\n",
       "      <td>NaN</td>\n",
       "      <td>2016-03-24 00:00:00</td>\n",
       "      <td>0</td>\n",
       "      <td>70435</td>\n",
       "      <td>2016-04-07 03:16:57</td>\n",
       "    </tr>\n",
       "    <tr>\n",
       "      <th>1</th>\n",
       "      <td>2016-03-24 10:58:45</td>\n",
       "      <td>18300</td>\n",
       "      <td>coupe</td>\n",
       "      <td>2011</td>\n",
       "      <td>manual</td>\n",
       "      <td>190</td>\n",
       "      <td>NaN</td>\n",
       "      <td>125000</td>\n",
       "      <td>5</td>\n",
       "      <td>gasoline</td>\n",
       "      <td>audi</td>\n",
       "      <td>yes</td>\n",
       "      <td>2016-03-24 00:00:00</td>\n",
       "      <td>0</td>\n",
       "      <td>66954</td>\n",
       "      <td>2016-04-07 01:46:50</td>\n",
       "    </tr>\n",
       "    <tr>\n",
       "      <th>2</th>\n",
       "      <td>2016-03-14 12:52:21</td>\n",
       "      <td>9800</td>\n",
       "      <td>suv</td>\n",
       "      <td>2004</td>\n",
       "      <td>auto</td>\n",
       "      <td>163</td>\n",
       "      <td>grand</td>\n",
       "      <td>125000</td>\n",
       "      <td>8</td>\n",
       "      <td>gasoline</td>\n",
       "      <td>jeep</td>\n",
       "      <td>NaN</td>\n",
       "      <td>2016-03-14 00:00:00</td>\n",
       "      <td>0</td>\n",
       "      <td>90480</td>\n",
       "      <td>2016-04-05 12:47:46</td>\n",
       "    </tr>\n",
       "    <tr>\n",
       "      <th>3</th>\n",
       "      <td>2016-03-17 16:54:04</td>\n",
       "      <td>1500</td>\n",
       "      <td>small</td>\n",
       "      <td>2001</td>\n",
       "      <td>manual</td>\n",
       "      <td>75</td>\n",
       "      <td>golf</td>\n",
       "      <td>150000</td>\n",
       "      <td>6</td>\n",
       "      <td>petrol</td>\n",
       "      <td>volkswagen</td>\n",
       "      <td>no</td>\n",
       "      <td>2016-03-17 00:00:00</td>\n",
       "      <td>0</td>\n",
       "      <td>91074</td>\n",
       "      <td>2016-03-17 17:40:17</td>\n",
       "    </tr>\n",
       "    <tr>\n",
       "      <th>4</th>\n",
       "      <td>2016-03-31 17:25:20</td>\n",
       "      <td>3600</td>\n",
       "      <td>small</td>\n",
       "      <td>2008</td>\n",
       "      <td>manual</td>\n",
       "      <td>69</td>\n",
       "      <td>fabia</td>\n",
       "      <td>90000</td>\n",
       "      <td>7</td>\n",
       "      <td>gasoline</td>\n",
       "      <td>skoda</td>\n",
       "      <td>no</td>\n",
       "      <td>2016-03-31 00:00:00</td>\n",
       "      <td>0</td>\n",
       "      <td>60437</td>\n",
       "      <td>2016-04-06 10:17:21</td>\n",
       "    </tr>\n",
       "  </tbody>\n",
       "</table>\n",
       "</div>"
      ],
      "text/plain": [
       "           DateCrawled  Price VehicleType  RegistrationYear Gearbox  Power  \\\n",
       "0  2016-03-24 11:52:17    480         NaN              1993  manual      0   \n",
       "1  2016-03-24 10:58:45  18300       coupe              2011  manual    190   \n",
       "2  2016-03-14 12:52:21   9800         suv              2004    auto    163   \n",
       "3  2016-03-17 16:54:04   1500       small              2001  manual     75   \n",
       "4  2016-03-31 17:25:20   3600       small              2008  manual     69   \n",
       "\n",
       "   Model  Kilometer  RegistrationMonth  FuelType       Brand NotRepaired  \\\n",
       "0   golf     150000                  0    petrol  volkswagen         NaN   \n",
       "1    NaN     125000                  5  gasoline        audi         yes   \n",
       "2  grand     125000                  8  gasoline        jeep         NaN   \n",
       "3   golf     150000                  6    petrol  volkswagen          no   \n",
       "4  fabia      90000                  7  gasoline       skoda          no   \n",
       "\n",
       "           DateCreated  NumberOfPictures  PostalCode             LastSeen  \n",
       "0  2016-03-24 00:00:00                 0       70435  2016-04-07 03:16:57  \n",
       "1  2016-03-24 00:00:00                 0       66954  2016-04-07 01:46:50  \n",
       "2  2016-03-14 00:00:00                 0       90480  2016-04-05 12:47:46  \n",
       "3  2016-03-17 00:00:00                 0       91074  2016-03-17 17:40:17  \n",
       "4  2016-03-31 00:00:00                 0       60437  2016-04-06 10:17:21  "
      ]
     },
     "metadata": {},
     "output_type": "display_data"
    }
   ],
   "source": [
    "display(data.head(5))"
   ]
  },
  {
   "cell_type": "markdown",
   "metadata": {},
   "source": [
    "В данных есть пропуски, некоторые из которых критичны для обучения, например в столбце Model. Также требуется преобразование типов данных в столбце с датой и некоторых других.\n",
    "Для обучения нужны не все из имеющихся признаков. Начнем с того, что отбросим лишние."
   ]
  },
  {
   "cell_type": "code",
   "execution_count": 4,
   "metadata": {},
   "outputs": [],
   "source": [
    "data = data.drop(['NumberOfPictures', 'PostalCode', 'LastSeen'], axis=1)"
   ]
  },
  {
   "cell_type": "code",
   "execution_count": 5,
   "metadata": {},
   "outputs": [
    {
     "data": {
      "text/html": [
       "<div>\n",
       "<style scoped>\n",
       "    .dataframe tbody tr th:only-of-type {\n",
       "        vertical-align: middle;\n",
       "    }\n",
       "\n",
       "    .dataframe tbody tr th {\n",
       "        vertical-align: top;\n",
       "    }\n",
       "\n",
       "    .dataframe thead th {\n",
       "        text-align: right;\n",
       "    }\n",
       "</style>\n",
       "<table border=\"1\" class=\"dataframe\">\n",
       "  <thead>\n",
       "    <tr style=\"text-align: right;\">\n",
       "      <th></th>\n",
       "      <th>Price</th>\n",
       "      <th>RegistrationYear</th>\n",
       "      <th>Power</th>\n",
       "      <th>Kilometer</th>\n",
       "      <th>RegistrationMonth</th>\n",
       "    </tr>\n",
       "  </thead>\n",
       "  <tbody>\n",
       "    <tr>\n",
       "      <th>count</th>\n",
       "      <td>354369.000000</td>\n",
       "      <td>354369.000000</td>\n",
       "      <td>354369.000000</td>\n",
       "      <td>354369.000000</td>\n",
       "      <td>354369.000000</td>\n",
       "    </tr>\n",
       "    <tr>\n",
       "      <th>mean</th>\n",
       "      <td>4416.656776</td>\n",
       "      <td>2004.234448</td>\n",
       "      <td>110.094337</td>\n",
       "      <td>128211.172535</td>\n",
       "      <td>5.714645</td>\n",
       "    </tr>\n",
       "    <tr>\n",
       "      <th>std</th>\n",
       "      <td>4514.158514</td>\n",
       "      <td>90.227958</td>\n",
       "      <td>189.850405</td>\n",
       "      <td>37905.341530</td>\n",
       "      <td>3.726421</td>\n",
       "    </tr>\n",
       "    <tr>\n",
       "      <th>min</th>\n",
       "      <td>0.000000</td>\n",
       "      <td>1000.000000</td>\n",
       "      <td>0.000000</td>\n",
       "      <td>5000.000000</td>\n",
       "      <td>0.000000</td>\n",
       "    </tr>\n",
       "    <tr>\n",
       "      <th>25%</th>\n",
       "      <td>1050.000000</td>\n",
       "      <td>1999.000000</td>\n",
       "      <td>69.000000</td>\n",
       "      <td>125000.000000</td>\n",
       "      <td>3.000000</td>\n",
       "    </tr>\n",
       "    <tr>\n",
       "      <th>50%</th>\n",
       "      <td>2700.000000</td>\n",
       "      <td>2003.000000</td>\n",
       "      <td>105.000000</td>\n",
       "      <td>150000.000000</td>\n",
       "      <td>6.000000</td>\n",
       "    </tr>\n",
       "    <tr>\n",
       "      <th>75%</th>\n",
       "      <td>6400.000000</td>\n",
       "      <td>2008.000000</td>\n",
       "      <td>143.000000</td>\n",
       "      <td>150000.000000</td>\n",
       "      <td>9.000000</td>\n",
       "    </tr>\n",
       "    <tr>\n",
       "      <th>max</th>\n",
       "      <td>20000.000000</td>\n",
       "      <td>9999.000000</td>\n",
       "      <td>20000.000000</td>\n",
       "      <td>150000.000000</td>\n",
       "      <td>12.000000</td>\n",
       "    </tr>\n",
       "  </tbody>\n",
       "</table>\n",
       "</div>"
      ],
      "text/plain": [
       "               Price  RegistrationYear          Power      Kilometer  \\\n",
       "count  354369.000000     354369.000000  354369.000000  354369.000000   \n",
       "mean     4416.656776       2004.234448     110.094337  128211.172535   \n",
       "std      4514.158514         90.227958     189.850405   37905.341530   \n",
       "min         0.000000       1000.000000       0.000000    5000.000000   \n",
       "25%      1050.000000       1999.000000      69.000000  125000.000000   \n",
       "50%      2700.000000       2003.000000     105.000000  150000.000000   \n",
       "75%      6400.000000       2008.000000     143.000000  150000.000000   \n",
       "max     20000.000000       9999.000000   20000.000000  150000.000000   \n",
       "\n",
       "       RegistrationMonth  \n",
       "count      354369.000000  \n",
       "mean            5.714645  \n",
       "std             3.726421  \n",
       "min             0.000000  \n",
       "25%             3.000000  \n",
       "50%             6.000000  \n",
       "75%             9.000000  \n",
       "max            12.000000  "
      ]
     },
     "metadata": {},
     "output_type": "display_data"
    },
    {
     "data": {
      "image/png": "[encoded data removed]",
      "text/plain": [
       "<Figure size 1080x720 with 6 Axes>"
      ]
     },
     "metadata": {
      "needs_background": "light"
     },
     "output_type": "display_data"
    }
   ],
   "source": [
    "display(data.describe())\n",
    "data.hist(figsize=(15, 10));"
   ]
  },
  {
   "cell_type": "markdown",
   "metadata": {},
   "source": [
    "В некоторых признаках также есть аномалии, требующие обработки. Например, Price = 0 или RegistrationYear = 9999, Power = 20000, все это явно некорректные данные."
   ]
  },
  {
   "cell_type": "code",
   "execution_count": 6,
   "metadata": {},
   "outputs": [
    {
     "data": {
      "text/html": [
       "<div>\n",
       "<style scoped>\n",
       "    .dataframe tbody tr th:only-of-type {\n",
       "        vertical-align: middle;\n",
       "    }\n",
       "\n",
       "    .dataframe tbody tr th {\n",
       "        vertical-align: top;\n",
       "    }\n",
       "\n",
       "    .dataframe thead th {\n",
       "        text-align: right;\n",
       "    }\n",
       "</style>\n",
       "<table border=\"1\" class=\"dataframe\">\n",
       "  <thead>\n",
       "    <tr style=\"text-align: right;\">\n",
       "      <th></th>\n",
       "      <th>DateCrawled</th>\n",
       "      <th>Price</th>\n",
       "      <th>VehicleType</th>\n",
       "      <th>RegistrationYear</th>\n",
       "      <th>Gearbox</th>\n",
       "      <th>Power</th>\n",
       "      <th>Model</th>\n",
       "      <th>Kilometer</th>\n",
       "      <th>RegistrationMonth</th>\n",
       "      <th>FuelType</th>\n",
       "      <th>Brand</th>\n",
       "      <th>NotRepaired</th>\n",
       "      <th>DateCreated</th>\n",
       "    </tr>\n",
       "  </thead>\n",
       "  <tbody>\n",
       "    <tr>\n",
       "      <th>0</th>\n",
       "      <td>2016-03-24 11:52:17</td>\n",
       "      <td>480</td>\n",
       "      <td>NaN</td>\n",
       "      <td>1993</td>\n",
       "      <td>manual</td>\n",
       "      <td>0</td>\n",
       "      <td>golf</td>\n",
       "      <td>150000</td>\n",
       "      <td>0</td>\n",
       "      <td>petrol</td>\n",
       "      <td>volkswagen</td>\n",
       "      <td>NaN</td>\n",
       "      <td>2016-03-24 00:00:00</td>\n",
       "    </tr>\n",
       "    <tr>\n",
       "      <th>16</th>\n",
       "      <td>2016-04-01 12:46:46</td>\n",
       "      <td>300</td>\n",
       "      <td>NaN</td>\n",
       "      <td>2016</td>\n",
       "      <td>NaN</td>\n",
       "      <td>60</td>\n",
       "      <td>polo</td>\n",
       "      <td>150000</td>\n",
       "      <td>0</td>\n",
       "      <td>petrol</td>\n",
       "      <td>volkswagen</td>\n",
       "      <td>NaN</td>\n",
       "      <td>2016-04-01 00:00:00</td>\n",
       "    </tr>\n",
       "    <tr>\n",
       "      <th>22</th>\n",
       "      <td>2016-03-23 14:52:51</td>\n",
       "      <td>2900</td>\n",
       "      <td>NaN</td>\n",
       "      <td>2018</td>\n",
       "      <td>manual</td>\n",
       "      <td>90</td>\n",
       "      <td>meriva</td>\n",
       "      <td>150000</td>\n",
       "      <td>5</td>\n",
       "      <td>petrol</td>\n",
       "      <td>opel</td>\n",
       "      <td>no</td>\n",
       "      <td>2016-03-23 00:00:00</td>\n",
       "    </tr>\n",
       "    <tr>\n",
       "      <th>26</th>\n",
       "      <td>2016-03-10 19:38:18</td>\n",
       "      <td>5555</td>\n",
       "      <td>NaN</td>\n",
       "      <td>2017</td>\n",
       "      <td>manual</td>\n",
       "      <td>125</td>\n",
       "      <td>c4</td>\n",
       "      <td>125000</td>\n",
       "      <td>4</td>\n",
       "      <td>NaN</td>\n",
       "      <td>citroen</td>\n",
       "      <td>no</td>\n",
       "      <td>2016-03-10 00:00:00</td>\n",
       "    </tr>\n",
       "    <tr>\n",
       "      <th>31</th>\n",
       "      <td>2016-03-29 16:57:02</td>\n",
       "      <td>899</td>\n",
       "      <td>NaN</td>\n",
       "      <td>2016</td>\n",
       "      <td>manual</td>\n",
       "      <td>60</td>\n",
       "      <td>clio</td>\n",
       "      <td>150000</td>\n",
       "      <td>6</td>\n",
       "      <td>petrol</td>\n",
       "      <td>renault</td>\n",
       "      <td>NaN</td>\n",
       "      <td>2016-03-29 00:00:00</td>\n",
       "    </tr>\n",
       "    <tr>\n",
       "      <th>...</th>\n",
       "      <td>...</td>\n",
       "      <td>...</td>\n",
       "      <td>...</td>\n",
       "      <td>...</td>\n",
       "      <td>...</td>\n",
       "      <td>...</td>\n",
       "      <td>...</td>\n",
       "      <td>...</td>\n",
       "      <td>...</td>\n",
       "      <td>...</td>\n",
       "      <td>...</td>\n",
       "      <td>...</td>\n",
       "      <td>...</td>\n",
       "    </tr>\n",
       "    <tr>\n",
       "      <th>354305</th>\n",
       "      <td>2016-04-03 13:46:24</td>\n",
       "      <td>3500</td>\n",
       "      <td>NaN</td>\n",
       "      <td>1995</td>\n",
       "      <td>NaN</td>\n",
       "      <td>0</td>\n",
       "      <td>polo</td>\n",
       "      <td>150000</td>\n",
       "      <td>0</td>\n",
       "      <td>NaN</td>\n",
       "      <td>volkswagen</td>\n",
       "      <td>NaN</td>\n",
       "      <td>2016-04-03 00:00:00</td>\n",
       "    </tr>\n",
       "    <tr>\n",
       "      <th>354336</th>\n",
       "      <td>2016-03-05 18:57:45</td>\n",
       "      <td>3299</td>\n",
       "      <td>NaN</td>\n",
       "      <td>2005</td>\n",
       "      <td>auto</td>\n",
       "      <td>0</td>\n",
       "      <td>outlander</td>\n",
       "      <td>150000</td>\n",
       "      <td>4</td>\n",
       "      <td>petrol</td>\n",
       "      <td>mitsubishi</td>\n",
       "      <td>NaN</td>\n",
       "      <td>2016-03-05 00:00:00</td>\n",
       "    </tr>\n",
       "    <tr>\n",
       "      <th>354346</th>\n",
       "      <td>2016-03-07 17:06:35</td>\n",
       "      <td>2600</td>\n",
       "      <td>NaN</td>\n",
       "      <td>2005</td>\n",
       "      <td>auto</td>\n",
       "      <td>0</td>\n",
       "      <td>c_klasse</td>\n",
       "      <td>150000</td>\n",
       "      <td>9</td>\n",
       "      <td>NaN</td>\n",
       "      <td>mercedes_benz</td>\n",
       "      <td>NaN</td>\n",
       "      <td>2016-03-07 00:00:00</td>\n",
       "    </tr>\n",
       "    <tr>\n",
       "      <th>354361</th>\n",
       "      <td>2016-03-09 13:37:43</td>\n",
       "      <td>5250</td>\n",
       "      <td>NaN</td>\n",
       "      <td>2016</td>\n",
       "      <td>auto</td>\n",
       "      <td>150</td>\n",
       "      <td>159</td>\n",
       "      <td>150000</td>\n",
       "      <td>12</td>\n",
       "      <td>NaN</td>\n",
       "      <td>alfa_romeo</td>\n",
       "      <td>no</td>\n",
       "      <td>2016-03-09 00:00:00</td>\n",
       "    </tr>\n",
       "    <tr>\n",
       "      <th>354364</th>\n",
       "      <td>2016-03-21 09:50:58</td>\n",
       "      <td>0</td>\n",
       "      <td>NaN</td>\n",
       "      <td>2005</td>\n",
       "      <td>manual</td>\n",
       "      <td>0</td>\n",
       "      <td>colt</td>\n",
       "      <td>150000</td>\n",
       "      <td>7</td>\n",
       "      <td>petrol</td>\n",
       "      <td>mitsubishi</td>\n",
       "      <td>yes</td>\n",
       "      <td>2016-03-21 00:00:00</td>\n",
       "    </tr>\n",
       "  </tbody>\n",
       "</table>\n",
       "<p>30662 rows × 13 columns</p>\n",
       "</div>"
      ],
      "text/plain": [
       "                DateCrawled  Price VehicleType  RegistrationYear Gearbox  \\\n",
       "0       2016-03-24 11:52:17    480         NaN              1993  manual   \n",
       "16      2016-04-01 12:46:46    300         NaN              2016     NaN   \n",
       "22      2016-03-23 14:52:51   2900         NaN              2018  manual   \n",
       "26      2016-03-10 19:38:18   5555         NaN              2017  manual   \n",
       "31      2016-03-29 16:57:02    899         NaN              2016  manual   \n",
       "...                     ...    ...         ...               ...     ...   \n",
       "354305  2016-04-03 13:46:24   3500         NaN              1995     NaN   \n",
       "354336  2016-03-05 18:57:45   3299         NaN              2005    auto   \n",
       "354346  2016-03-07 17:06:35   2600         NaN              2005    auto   \n",
       "354361  2016-03-09 13:37:43   5250         NaN              2016    auto   \n",
       "354364  2016-03-21 09:50:58      0         NaN              2005  manual   \n",
       "\n",
       "        Power      Model  Kilometer  RegistrationMonth FuelType  \\\n",
       "0           0       golf     150000                  0   petrol   \n",
       "16         60       polo     150000                  0   petrol   \n",
       "22         90     meriva     150000                  5   petrol   \n",
       "26        125         c4     125000                  4      NaN   \n",
       "31         60       clio     150000                  6   petrol   \n",
       "...       ...        ...        ...                ...      ...   \n",
       "354305      0       polo     150000                  0      NaN   \n",
       "354336      0  outlander     150000                  4   petrol   \n",
       "354346      0   c_klasse     150000                  9      NaN   \n",
       "354361    150        159     150000                 12      NaN   \n",
       "354364      0       colt     150000                  7   petrol   \n",
       "\n",
       "                Brand NotRepaired          DateCreated  \n",
       "0          volkswagen         NaN  2016-03-24 00:00:00  \n",
       "16         volkswagen         NaN  2016-04-01 00:00:00  \n",
       "22               opel          no  2016-03-23 00:00:00  \n",
       "26            citroen          no  2016-03-10 00:00:00  \n",
       "31            renault         NaN  2016-03-29 00:00:00  \n",
       "...               ...         ...                  ...  \n",
       "354305     volkswagen         NaN  2016-04-03 00:00:00  \n",
       "354336     mitsubishi         NaN  2016-03-05 00:00:00  \n",
       "354346  mercedes_benz         NaN  2016-03-07 00:00:00  \n",
       "354361     alfa_romeo          no  2016-03-09 00:00:00  \n",
       "354364     mitsubishi         yes  2016-03-21 00:00:00  \n",
       "\n",
       "[30662 rows x 13 columns]"
      ]
     },
     "metadata": {},
     "output_type": "display_data"
    }
   ],
   "source": [
    "#удаляем объекты с пропусками в признаке Model, т.к. они критичны для обучения и не восстановимы\n",
    "data = data.dropna(subset=['Model'])\n",
    "\n",
    "display(data.loc[data['VehicleType'].isna() == True])"
   ]
  },
  {
   "cell_type": "code",
   "execution_count": 7,
   "metadata": {},
   "outputs": [
    {
     "data": {
      "text/plain": [
       "Brand       Model     VehicleType\n",
       "alfa_romeo  145       coupe            2\n",
       "                      other            1\n",
       "                      sedan           13\n",
       "                      small           19\n",
       "            147       coupe           27\n",
       "                                    ... \n",
       "volvo       v70       coupe            1\n",
       "                      wagon          608\n",
       "            xc_reihe  sedan            3\n",
       "                      suv            216\n",
       "                      wagon           41\n",
       "Name: Price, Length: 1411, dtype: int64"
      ]
     },
     "metadata": {},
     "output_type": "display_data"
    }
   ],
   "source": [
    "#пропуски в признаке VehicleType можно восстановить, подтянув данные от объектов\n",
    "#аналогичной модели, если у одинаковых моделей авто VehicleType будет одинаковым\n",
    "display(data.groupby(['Brand', 'Model', 'VehicleType'])['Price'].count())"
   ]
  },
  {
   "cell_type": "markdown",
   "metadata": {},
   "source": [
    "Идея не оправдалась, т.к. у одних и тех же моделей встречается несколько типов кузова."
   ]
  },
  {
   "cell_type": "code",
   "execution_count": 8,
   "metadata": {},
   "outputs": [
    {
     "data": {
      "image/png": "[encoded data removed]",
      "text/plain": [
       "<Figure size 432x288 with 1 Axes>"
      ]
     },
     "metadata": {
      "needs_background": "light"
     },
     "output_type": "display_data"
    }
   ],
   "source": [
    "#проанализируем выбросы в признаке Power\n",
    "data['Power'].hist(range = (1000, 20000), bins=100);"
   ]
  },
  {
   "cell_type": "code",
   "execution_count": 9,
   "metadata": {
    "scrolled": true
   },
   "outputs": [
    {
     "data": {
      "text/html": [
       "<div>\n",
       "<style scoped>\n",
       "    .dataframe tbody tr th:only-of-type {\n",
       "        vertical-align: middle;\n",
       "    }\n",
       "\n",
       "    .dataframe tbody tr th {\n",
       "        vertical-align: top;\n",
       "    }\n",
       "\n",
       "    .dataframe thead th {\n",
       "        text-align: right;\n",
       "    }\n",
       "</style>\n",
       "<table border=\"1\" class=\"dataframe\">\n",
       "  <thead>\n",
       "    <tr style=\"text-align: right;\">\n",
       "      <th></th>\n",
       "      <th>DateCrawled</th>\n",
       "      <th>Price</th>\n",
       "      <th>VehicleType</th>\n",
       "      <th>RegistrationYear</th>\n",
       "      <th>Gearbox</th>\n",
       "      <th>Power</th>\n",
       "      <th>Model</th>\n",
       "      <th>Kilometer</th>\n",
       "      <th>RegistrationMonth</th>\n",
       "      <th>FuelType</th>\n",
       "      <th>Brand</th>\n",
       "      <th>NotRepaired</th>\n",
       "      <th>DateCreated</th>\n",
       "    </tr>\n",
       "  </thead>\n",
       "  <tbody>\n",
       "    <tr>\n",
       "      <th>1816</th>\n",
       "      <td>2016-03-22 20:52:00</td>\n",
       "      <td>3200</td>\n",
       "      <td>small</td>\n",
       "      <td>2004</td>\n",
       "      <td>manual</td>\n",
       "      <td>1398</td>\n",
       "      <td>corolla</td>\n",
       "      <td>5000</td>\n",
       "      <td>6</td>\n",
       "      <td>petrol</td>\n",
       "      <td>toyota</td>\n",
       "      <td>no</td>\n",
       "      <td>2016-03-22 00:00:00</td>\n",
       "    </tr>\n",
       "    <tr>\n",
       "      <th>2102</th>\n",
       "      <td>2016-03-21 11:55:22</td>\n",
       "      <td>0</td>\n",
       "      <td>sedan</td>\n",
       "      <td>1999</td>\n",
       "      <td>NaN</td>\n",
       "      <td>1799</td>\n",
       "      <td>vectra</td>\n",
       "      <td>150000</td>\n",
       "      <td>1</td>\n",
       "      <td>petrol</td>\n",
       "      <td>opel</td>\n",
       "      <td>yes</td>\n",
       "      <td>2016-03-21 00:00:00</td>\n",
       "    </tr>\n",
       "    <tr>\n",
       "      <th>5328</th>\n",
       "      <td>2016-03-29 19:44:48</td>\n",
       "      <td>500</td>\n",
       "      <td>wagon</td>\n",
       "      <td>1999</td>\n",
       "      <td>manual</td>\n",
       "      <td>1001</td>\n",
       "      <td>astra</td>\n",
       "      <td>150000</td>\n",
       "      <td>7</td>\n",
       "      <td>petrol</td>\n",
       "      <td>opel</td>\n",
       "      <td>NaN</td>\n",
       "      <td>2016-03-29 00:00:00</td>\n",
       "    </tr>\n",
       "    <tr>\n",
       "      <th>7661</th>\n",
       "      <td>2016-04-02 19:25:25</td>\n",
       "      <td>1499</td>\n",
       "      <td>small</td>\n",
       "      <td>1999</td>\n",
       "      <td>manual</td>\n",
       "      <td>7515</td>\n",
       "      <td>lupo</td>\n",
       "      <td>150000</td>\n",
       "      <td>4</td>\n",
       "      <td>petrol</td>\n",
       "      <td>volkswagen</td>\n",
       "      <td>NaN</td>\n",
       "      <td>2016-04-02 00:00:00</td>\n",
       "    </tr>\n",
       "    <tr>\n",
       "      <th>9664</th>\n",
       "      <td>2016-03-14 20:06:19</td>\n",
       "      <td>2599</td>\n",
       "      <td>NaN</td>\n",
       "      <td>2016</td>\n",
       "      <td>manual</td>\n",
       "      <td>1779</td>\n",
       "      <td>zafira</td>\n",
       "      <td>150000</td>\n",
       "      <td>0</td>\n",
       "      <td>petrol</td>\n",
       "      <td>opel</td>\n",
       "      <td>no</td>\n",
       "      <td>2016-03-14 00:00:00</td>\n",
       "    </tr>\n",
       "    <tr>\n",
       "      <th>...</th>\n",
       "      <td>...</td>\n",
       "      <td>...</td>\n",
       "      <td>...</td>\n",
       "      <td>...</td>\n",
       "      <td>...</td>\n",
       "      <td>...</td>\n",
       "      <td>...</td>\n",
       "      <td>...</td>\n",
       "      <td>...</td>\n",
       "      <td>...</td>\n",
       "      <td>...</td>\n",
       "      <td>...</td>\n",
       "      <td>...</td>\n",
       "    </tr>\n",
       "    <tr>\n",
       "      <th>348883</th>\n",
       "      <td>2016-03-13 11:51:57</td>\n",
       "      <td>7500</td>\n",
       "      <td>sedan</td>\n",
       "      <td>2011</td>\n",
       "      <td>manual</td>\n",
       "      <td>1548</td>\n",
       "      <td>scenic</td>\n",
       "      <td>90000</td>\n",
       "      <td>4</td>\n",
       "      <td>petrol</td>\n",
       "      <td>renault</td>\n",
       "      <td>NaN</td>\n",
       "      <td>2016-03-13 00:00:00</td>\n",
       "    </tr>\n",
       "    <tr>\n",
       "      <th>348968</th>\n",
       "      <td>2016-04-04 18:53:25</td>\n",
       "      <td>250</td>\n",
       "      <td>small</td>\n",
       "      <td>1999</td>\n",
       "      <td>manual</td>\n",
       "      <td>1241</td>\n",
       "      <td>ypsilon</td>\n",
       "      <td>150000</td>\n",
       "      <td>5</td>\n",
       "      <td>petrol</td>\n",
       "      <td>lancia</td>\n",
       "      <td>yes</td>\n",
       "      <td>2016-04-04 00:00:00</td>\n",
       "    </tr>\n",
       "    <tr>\n",
       "      <th>351947</th>\n",
       "      <td>2016-03-07 21:36:19</td>\n",
       "      <td>1500</td>\n",
       "      <td>bus</td>\n",
       "      <td>2001</td>\n",
       "      <td>manual</td>\n",
       "      <td>1001</td>\n",
       "      <td>zafira</td>\n",
       "      <td>5000</td>\n",
       "      <td>7</td>\n",
       "      <td>gasoline</td>\n",
       "      <td>opel</td>\n",
       "      <td>no</td>\n",
       "      <td>2016-03-07 00:00:00</td>\n",
       "    </tr>\n",
       "    <tr>\n",
       "      <th>353493</th>\n",
       "      <td>2016-04-02 20:54:21</td>\n",
       "      <td>12500</td>\n",
       "      <td>NaN</td>\n",
       "      <td>2017</td>\n",
       "      <td>manual</td>\n",
       "      <td>2000</td>\n",
       "      <td>other</td>\n",
       "      <td>60000</td>\n",
       "      <td>0</td>\n",
       "      <td>gasoline</td>\n",
       "      <td>chrysler</td>\n",
       "      <td>no</td>\n",
       "      <td>2016-04-02 00:00:00</td>\n",
       "    </tr>\n",
       "    <tr>\n",
       "      <th>354260</th>\n",
       "      <td>2016-03-09 17:59:03</td>\n",
       "      <td>399</td>\n",
       "      <td>other</td>\n",
       "      <td>1994</td>\n",
       "      <td>NaN</td>\n",
       "      <td>1103</td>\n",
       "      <td>3er</td>\n",
       "      <td>150000</td>\n",
       "      <td>0</td>\n",
       "      <td>NaN</td>\n",
       "      <td>bmw</td>\n",
       "      <td>NaN</td>\n",
       "      <td>2016-03-09 00:00:00</td>\n",
       "    </tr>\n",
       "  </tbody>\n",
       "</table>\n",
       "<p>265 rows × 13 columns</p>\n",
       "</div>"
      ],
      "text/plain": [
       "                DateCrawled  Price VehicleType  RegistrationYear Gearbox  \\\n",
       "1816    2016-03-22 20:52:00   3200       small              2004  manual   \n",
       "2102    2016-03-21 11:55:22      0       sedan              1999     NaN   \n",
       "5328    2016-03-29 19:44:48    500       wagon              1999  manual   \n",
       "7661    2016-04-02 19:25:25   1499       small              1999  manual   \n",
       "9664    2016-03-14 20:06:19   2599         NaN              2016  manual   \n",
       "...                     ...    ...         ...               ...     ...   \n",
       "348883  2016-03-13 11:51:57   7500       sedan              2011  manual   \n",
       "348968  2016-04-04 18:53:25    250       small              1999  manual   \n",
       "351947  2016-03-07 21:36:19   1500         bus              2001  manual   \n",
       "353493  2016-04-02 20:54:21  12500         NaN              2017  manual   \n",
       "354260  2016-03-09 17:59:03    399       other              1994     NaN   \n",
       "\n",
       "        Power    Model  Kilometer  RegistrationMonth  FuelType       Brand  \\\n",
       "1816     1398  corolla       5000                  6    petrol      toyota   \n",
       "2102     1799   vectra     150000                  1    petrol        opel   \n",
       "5328     1001    astra     150000                  7    petrol        opel   \n",
       "7661     7515     lupo     150000                  4    petrol  volkswagen   \n",
       "9664     1779   zafira     150000                  0    petrol        opel   \n",
       "...       ...      ...        ...                ...       ...         ...   \n",
       "348883   1548   scenic      90000                  4    petrol     renault   \n",
       "348968   1241  ypsilon     150000                  5    petrol      lancia   \n",
       "351947   1001   zafira       5000                  7  gasoline        opel   \n",
       "353493   2000    other      60000                  0  gasoline    chrysler   \n",
       "354260   1103      3er     150000                  0       NaN         bmw   \n",
       "\n",
       "       NotRepaired          DateCreated  \n",
       "1816            no  2016-03-22 00:00:00  \n",
       "2102           yes  2016-03-21 00:00:00  \n",
       "5328           NaN  2016-03-29 00:00:00  \n",
       "7661           NaN  2016-04-02 00:00:00  \n",
       "9664            no  2016-03-14 00:00:00  \n",
       "...            ...                  ...  \n",
       "348883         NaN  2016-03-13 00:00:00  \n",
       "348968         yes  2016-04-04 00:00:00  \n",
       "351947          no  2016-03-07 00:00:00  \n",
       "353493          no  2016-04-02 00:00:00  \n",
       "354260         NaN  2016-03-09 00:00:00  \n",
       "\n",
       "[265 rows x 13 columns]"
      ]
     },
     "execution_count": 9,
     "metadata": {},
     "output_type": "execute_result"
    }
   ],
   "source": [
    "data.query('Power > 1000')"
   ]
  },
  {
   "cell_type": "code",
   "execution_count": 10,
   "metadata": {},
   "outputs": [
    {
     "data": {
      "text/plain": [
       "array(['toyota', 'opel', 'volkswagen', 'ford', 'fiat', 'seat', 'bmw',\n",
       "       'nissan', 'mercedes_benz', 'citroen', 'volvo', 'chevrolet',\n",
       "       'peugeot', 'smart', 'kia', 'audi', 'renault', 'chrysler', 'mazda',\n",
       "       'suzuki', 'skoda', 'mini', 'alfa_romeo', 'mitsubishi', 'daewoo',\n",
       "       'lancia'], dtype=object)"
      ]
     },
     "execution_count": 10,
     "metadata": {},
     "output_type": "execute_result"
    }
   ],
   "source": [
    "data.query('Power > 1000')['Brand'].unique()"
   ]
  },
  {
   "cell_type": "markdown",
   "metadata": {},
   "source": [
    "Нашлось 265 машин с мощностью больше 1000 л.с. и ни одна из них не Бугатти Вейрон. Удаляю из датасета эти объекты."
   ]
  },
  {
   "cell_type": "code",
   "execution_count": 11,
   "metadata": {},
   "outputs": [],
   "source": [
    "data = data.query('Power < 1000')"
   ]
  },
  {
   "cell_type": "code",
   "execution_count": 12,
   "metadata": {},
   "outputs": [
    {
     "data": {
      "text/plain": [
       "<AxesSubplot:>"
      ]
     },
     "metadata": {},
     "output_type": "display_data"
    },
    {
     "data": {
      "text/plain": [
       "<AxesSubplot:>"
      ]
     },
     "metadata": {},
     "output_type": "display_data"
    },
    {
     "data": {
      "image/png": "[encoded data removed]",
      "text/plain": [
       "<Figure size 432x288 with 1 Axes>"
      ]
     },
     "metadata": {
      "needs_background": "light"
     },
     "output_type": "display_data"
    }
   ],
   "source": [
    "display(data['RegistrationYear'].hist(range = (0, 1900), bins=100));\n",
    "display(data['RegistrationYear'].hist(range = (2016, 9999), bins=100));"
   ]
  },
  {
   "cell_type": "code",
   "execution_count": 13,
   "metadata": {},
   "outputs": [
    {
     "data": {
      "text/html": [
       "<div>\n",
       "<style scoped>\n",
       "    .dataframe tbody tr th:only-of-type {\n",
       "        vertical-align: middle;\n",
       "    }\n",
       "\n",
       "    .dataframe tbody tr th {\n",
       "        vertical-align: top;\n",
       "    }\n",
       "\n",
       "    .dataframe thead th {\n",
       "        text-align: right;\n",
       "    }\n",
       "</style>\n",
       "<table border=\"1\" class=\"dataframe\">\n",
       "  <thead>\n",
       "    <tr style=\"text-align: right;\">\n",
       "      <th></th>\n",
       "      <th>DateCrawled</th>\n",
       "      <th>Price</th>\n",
       "      <th>VehicleType</th>\n",
       "      <th>RegistrationYear</th>\n",
       "      <th>Gearbox</th>\n",
       "      <th>Power</th>\n",
       "      <th>Model</th>\n",
       "      <th>Kilometer</th>\n",
       "      <th>RegistrationMonth</th>\n",
       "      <th>FuelType</th>\n",
       "      <th>Brand</th>\n",
       "      <th>NotRepaired</th>\n",
       "      <th>DateCreated</th>\n",
       "    </tr>\n",
       "  </thead>\n",
       "  <tbody>\n",
       "    <tr>\n",
       "      <th>16062</th>\n",
       "      <td>2016-03-29 23:42:16</td>\n",
       "      <td>190</td>\n",
       "      <td>NaN</td>\n",
       "      <td>1000</td>\n",
       "      <td>NaN</td>\n",
       "      <td>0</td>\n",
       "      <td>mondeo</td>\n",
       "      <td>5000</td>\n",
       "      <td>0</td>\n",
       "      <td>NaN</td>\n",
       "      <td>ford</td>\n",
       "      <td>NaN</td>\n",
       "      <td>2016-03-29 00:00:00</td>\n",
       "    </tr>\n",
       "    <tr>\n",
       "      <th>18224</th>\n",
       "      <td>2016-03-09 17:49:44</td>\n",
       "      <td>7999</td>\n",
       "      <td>NaN</td>\n",
       "      <td>1500</td>\n",
       "      <td>manual</td>\n",
       "      <td>224</td>\n",
       "      <td>impreza</td>\n",
       "      <td>5000</td>\n",
       "      <td>3</td>\n",
       "      <td>NaN</td>\n",
       "      <td>subaru</td>\n",
       "      <td>NaN</td>\n",
       "      <td>2016-03-09 00:00:00</td>\n",
       "    </tr>\n",
       "    <tr>\n",
       "      <th>53577</th>\n",
       "      <td>2016-03-20 11:44:28</td>\n",
       "      <td>330</td>\n",
       "      <td>NaN</td>\n",
       "      <td>1000</td>\n",
       "      <td>NaN</td>\n",
       "      <td>0</td>\n",
       "      <td>polo</td>\n",
       "      <td>5000</td>\n",
       "      <td>0</td>\n",
       "      <td>NaN</td>\n",
       "      <td>volkswagen</td>\n",
       "      <td>NaN</td>\n",
       "      <td>2016-03-20 00:00:00</td>\n",
       "    </tr>\n",
       "    <tr>\n",
       "      <th>67167</th>\n",
       "      <td>2016-04-01 08:55:24</td>\n",
       "      <td>0</td>\n",
       "      <td>NaN</td>\n",
       "      <td>1500</td>\n",
       "      <td>NaN</td>\n",
       "      <td>0</td>\n",
       "      <td>kuga</td>\n",
       "      <td>5000</td>\n",
       "      <td>7</td>\n",
       "      <td>gasoline</td>\n",
       "      <td>ford</td>\n",
       "      <td>NaN</td>\n",
       "      <td>2016-04-01 00:00:00</td>\n",
       "    </tr>\n",
       "    <tr>\n",
       "      <th>71459</th>\n",
       "      <td>2016-03-27 23:46:28</td>\n",
       "      <td>500</td>\n",
       "      <td>NaN</td>\n",
       "      <td>1000</td>\n",
       "      <td>NaN</td>\n",
       "      <td>0</td>\n",
       "      <td>golf</td>\n",
       "      <td>5000</td>\n",
       "      <td>0</td>\n",
       "      <td>NaN</td>\n",
       "      <td>volkswagen</td>\n",
       "      <td>NaN</td>\n",
       "      <td>2016-03-27 00:00:00</td>\n",
       "    </tr>\n",
       "  </tbody>\n",
       "</table>\n",
       "</div>"
      ],
      "text/plain": [
       "               DateCrawled  Price VehicleType  RegistrationYear Gearbox  \\\n",
       "16062  2016-03-29 23:42:16    190         NaN              1000     NaN   \n",
       "18224  2016-03-09 17:49:44   7999         NaN              1500  manual   \n",
       "53577  2016-03-20 11:44:28    330         NaN              1000     NaN   \n",
       "67167  2016-04-01 08:55:24      0         NaN              1500     NaN   \n",
       "71459  2016-03-27 23:46:28    500         NaN              1000     NaN   \n",
       "\n",
       "       Power    Model  Kilometer  RegistrationMonth  FuelType       Brand  \\\n",
       "16062      0   mondeo       5000                  0       NaN        ford   \n",
       "18224    224  impreza       5000                  3       NaN      subaru   \n",
       "53577      0     polo       5000                  0       NaN  volkswagen   \n",
       "67167      0     kuga       5000                  7  gasoline        ford   \n",
       "71459      0     golf       5000                  0       NaN  volkswagen   \n",
       "\n",
       "      NotRepaired          DateCreated  \n",
       "16062         NaN  2016-03-29 00:00:00  \n",
       "18224         NaN  2016-03-09 00:00:00  \n",
       "53577         NaN  2016-03-20 00:00:00  \n",
       "67167         NaN  2016-04-01 00:00:00  \n",
       "71459         NaN  2016-03-27 00:00:00  "
      ]
     },
     "metadata": {},
     "output_type": "display_data"
    },
    {
     "data": {
      "text/html": [
       "<div>\n",
       "<style scoped>\n",
       "    .dataframe tbody tr th:only-of-type {\n",
       "        vertical-align: middle;\n",
       "    }\n",
       "\n",
       "    .dataframe tbody tr th {\n",
       "        vertical-align: top;\n",
       "    }\n",
       "\n",
       "    .dataframe thead th {\n",
       "        text-align: right;\n",
       "    }\n",
       "</style>\n",
       "<table border=\"1\" class=\"dataframe\">\n",
       "  <thead>\n",
       "    <tr style=\"text-align: right;\">\n",
       "      <th></th>\n",
       "      <th>DateCrawled</th>\n",
       "      <th>Price</th>\n",
       "      <th>VehicleType</th>\n",
       "      <th>RegistrationYear</th>\n",
       "      <th>Gearbox</th>\n",
       "      <th>Power</th>\n",
       "      <th>Model</th>\n",
       "      <th>Kilometer</th>\n",
       "      <th>RegistrationMonth</th>\n",
       "      <th>FuelType</th>\n",
       "      <th>Brand</th>\n",
       "      <th>NotRepaired</th>\n",
       "      <th>DateCreated</th>\n",
       "    </tr>\n",
       "  </thead>\n",
       "  <tbody>\n",
       "    <tr>\n",
       "      <th>22</th>\n",
       "      <td>2016-03-23 14:52:51</td>\n",
       "      <td>2900</td>\n",
       "      <td>NaN</td>\n",
       "      <td>2018</td>\n",
       "      <td>manual</td>\n",
       "      <td>90</td>\n",
       "      <td>meriva</td>\n",
       "      <td>150000</td>\n",
       "      <td>5</td>\n",
       "      <td>petrol</td>\n",
       "      <td>opel</td>\n",
       "      <td>no</td>\n",
       "      <td>2016-03-23 00:00:00</td>\n",
       "    </tr>\n",
       "    <tr>\n",
       "      <th>26</th>\n",
       "      <td>2016-03-10 19:38:18</td>\n",
       "      <td>5555</td>\n",
       "      <td>NaN</td>\n",
       "      <td>2017</td>\n",
       "      <td>manual</td>\n",
       "      <td>125</td>\n",
       "      <td>c4</td>\n",
       "      <td>125000</td>\n",
       "      <td>4</td>\n",
       "      <td>NaN</td>\n",
       "      <td>citroen</td>\n",
       "      <td>no</td>\n",
       "      <td>2016-03-10 00:00:00</td>\n",
       "    </tr>\n",
       "    <tr>\n",
       "      <th>48</th>\n",
       "      <td>2016-03-25 14:40:12</td>\n",
       "      <td>7750</td>\n",
       "      <td>NaN</td>\n",
       "      <td>2017</td>\n",
       "      <td>manual</td>\n",
       "      <td>80</td>\n",
       "      <td>golf</td>\n",
       "      <td>100000</td>\n",
       "      <td>1</td>\n",
       "      <td>petrol</td>\n",
       "      <td>volkswagen</td>\n",
       "      <td>NaN</td>\n",
       "      <td>2016-03-25 00:00:00</td>\n",
       "    </tr>\n",
       "    <tr>\n",
       "      <th>51</th>\n",
       "      <td>2016-03-07 18:57:08</td>\n",
       "      <td>2000</td>\n",
       "      <td>NaN</td>\n",
       "      <td>2017</td>\n",
       "      <td>manual</td>\n",
       "      <td>90</td>\n",
       "      <td>punto</td>\n",
       "      <td>150000</td>\n",
       "      <td>11</td>\n",
       "      <td>gasoline</td>\n",
       "      <td>fiat</td>\n",
       "      <td>yes</td>\n",
       "      <td>2016-03-07 00:00:00</td>\n",
       "    </tr>\n",
       "    <tr>\n",
       "      <th>57</th>\n",
       "      <td>2016-03-10 20:53:19</td>\n",
       "      <td>2399</td>\n",
       "      <td>NaN</td>\n",
       "      <td>2018</td>\n",
       "      <td>manual</td>\n",
       "      <td>64</td>\n",
       "      <td>other</td>\n",
       "      <td>125000</td>\n",
       "      <td>3</td>\n",
       "      <td>NaN</td>\n",
       "      <td>seat</td>\n",
       "      <td>no</td>\n",
       "      <td>2016-03-10 00:00:00</td>\n",
       "    </tr>\n",
       "  </tbody>\n",
       "</table>\n",
       "</div>"
      ],
      "text/plain": [
       "            DateCrawled  Price VehicleType  RegistrationYear Gearbox  Power  \\\n",
       "22  2016-03-23 14:52:51   2900         NaN              2018  manual     90   \n",
       "26  2016-03-10 19:38:18   5555         NaN              2017  manual    125   \n",
       "48  2016-03-25 14:40:12   7750         NaN              2017  manual     80   \n",
       "51  2016-03-07 18:57:08   2000         NaN              2017  manual     90   \n",
       "57  2016-03-10 20:53:19   2399         NaN              2018  manual     64   \n",
       "\n",
       "     Model  Kilometer  RegistrationMonth  FuelType       Brand NotRepaired  \\\n",
       "22  meriva     150000                  5    petrol        opel          no   \n",
       "26      c4     125000                  4       NaN     citroen          no   \n",
       "48    golf     100000                  1    petrol  volkswagen         NaN   \n",
       "51   punto     150000                 11  gasoline        fiat         yes   \n",
       "57   other     125000                  3       NaN        seat          no   \n",
       "\n",
       "            DateCreated  \n",
       "22  2016-03-23 00:00:00  \n",
       "26  2016-03-10 00:00:00  \n",
       "48  2016-03-25 00:00:00  \n",
       "51  2016-03-07 00:00:00  \n",
       "57  2016-03-10 00:00:00  "
      ]
     },
     "metadata": {},
     "output_type": "display_data"
    }
   ],
   "source": [
    "display(data.query('RegistrationYear < 1900').head(5))\n",
    "display(data.query('RegistrationYear > 2016').head(5))"
   ]
  },
  {
   "cell_type": "markdown",
   "metadata": {},
   "source": [
    "Есть небольшое количество объектов с RegistrationYear меньше 1900 и больше 2016 (год выгрузки датасета) - удаляю их, т.к. у этих объектов есть проблемы и в других признаках - пропуски, либо некорректные значения."
   ]
  },
  {
   "cell_type": "code",
   "execution_count": 14,
   "metadata": {},
   "outputs": [],
   "source": [
    "data = data.query('RegistrationYear > 1900')\n",
    "data = data.query('RegistrationYear < 2016')"
   ]
  },
  {
   "cell_type": "code",
   "execution_count": 15,
   "metadata": {},
   "outputs": [
    {
     "data": {
      "text/html": [
       "<div>\n",
       "<style scoped>\n",
       "    .dataframe tbody tr th:only-of-type {\n",
       "        vertical-align: middle;\n",
       "    }\n",
       "\n",
       "    .dataframe tbody tr th {\n",
       "        vertical-align: top;\n",
       "    }\n",
       "\n",
       "    .dataframe thead th {\n",
       "        text-align: right;\n",
       "    }\n",
       "</style>\n",
       "<table border=\"1\" class=\"dataframe\">\n",
       "  <thead>\n",
       "    <tr style=\"text-align: right;\">\n",
       "      <th></th>\n",
       "      <th>DateCrawled</th>\n",
       "      <th>Price</th>\n",
       "      <th>VehicleType</th>\n",
       "      <th>RegistrationYear</th>\n",
       "      <th>Gearbox</th>\n",
       "      <th>Power</th>\n",
       "      <th>Model</th>\n",
       "      <th>Kilometer</th>\n",
       "      <th>RegistrationMonth</th>\n",
       "      <th>FuelType</th>\n",
       "      <th>Brand</th>\n",
       "      <th>NotRepaired</th>\n",
       "      <th>DateCreated</th>\n",
       "    </tr>\n",
       "  </thead>\n",
       "  <tbody>\n",
       "    <tr>\n",
       "      <th>7</th>\n",
       "      <td>2016-03-21 18:54:38</td>\n",
       "      <td>0</td>\n",
       "      <td>sedan</td>\n",
       "      <td>1980</td>\n",
       "      <td>manual</td>\n",
       "      <td>50</td>\n",
       "      <td>other</td>\n",
       "      <td>40000</td>\n",
       "      <td>7</td>\n",
       "      <td>petrol</td>\n",
       "      <td>volkswagen</td>\n",
       "      <td>no</td>\n",
       "      <td>2016-03-21 00:00:00</td>\n",
       "    </tr>\n",
       "    <tr>\n",
       "      <th>40</th>\n",
       "      <td>2016-03-26 22:06:17</td>\n",
       "      <td>0</td>\n",
       "      <td>NaN</td>\n",
       "      <td>1990</td>\n",
       "      <td>NaN</td>\n",
       "      <td>0</td>\n",
       "      <td>corsa</td>\n",
       "      <td>150000</td>\n",
       "      <td>1</td>\n",
       "      <td>petrol</td>\n",
       "      <td>opel</td>\n",
       "      <td>NaN</td>\n",
       "      <td>2016-03-26 00:00:00</td>\n",
       "    </tr>\n",
       "    <tr>\n",
       "      <th>152</th>\n",
       "      <td>2016-03-11 18:55:53</td>\n",
       "      <td>0</td>\n",
       "      <td>bus</td>\n",
       "      <td>2004</td>\n",
       "      <td>manual</td>\n",
       "      <td>101</td>\n",
       "      <td>meriva</td>\n",
       "      <td>150000</td>\n",
       "      <td>10</td>\n",
       "      <td>lpg</td>\n",
       "      <td>opel</td>\n",
       "      <td>yes</td>\n",
       "      <td>2016-03-11 00:00:00</td>\n",
       "    </tr>\n",
       "    <tr>\n",
       "      <th>154</th>\n",
       "      <td>2016-03-22 16:37:59</td>\n",
       "      <td>0</td>\n",
       "      <td>NaN</td>\n",
       "      <td>2006</td>\n",
       "      <td>NaN</td>\n",
       "      <td>0</td>\n",
       "      <td>other</td>\n",
       "      <td>5000</td>\n",
       "      <td>0</td>\n",
       "      <td>NaN</td>\n",
       "      <td>fiat</td>\n",
       "      <td>NaN</td>\n",
       "      <td>2016-03-22 00:00:00</td>\n",
       "    </tr>\n",
       "    <tr>\n",
       "      <th>231</th>\n",
       "      <td>2016-03-16 22:06:24</td>\n",
       "      <td>0</td>\n",
       "      <td>wagon</td>\n",
       "      <td>2001</td>\n",
       "      <td>manual</td>\n",
       "      <td>115</td>\n",
       "      <td>mondeo</td>\n",
       "      <td>150000</td>\n",
       "      <td>0</td>\n",
       "      <td>NaN</td>\n",
       "      <td>ford</td>\n",
       "      <td>NaN</td>\n",
       "      <td>2016-03-16 00:00:00</td>\n",
       "    </tr>\n",
       "    <tr>\n",
       "      <th>...</th>\n",
       "      <td>...</td>\n",
       "      <td>...</td>\n",
       "      <td>...</td>\n",
       "      <td>...</td>\n",
       "      <td>...</td>\n",
       "      <td>...</td>\n",
       "      <td>...</td>\n",
       "      <td>...</td>\n",
       "      <td>...</td>\n",
       "      <td>...</td>\n",
       "      <td>...</td>\n",
       "      <td>...</td>\n",
       "      <td>...</td>\n",
       "    </tr>\n",
       "    <tr>\n",
       "      <th>354205</th>\n",
       "      <td>2016-03-09 15:56:30</td>\n",
       "      <td>0</td>\n",
       "      <td>NaN</td>\n",
       "      <td>2000</td>\n",
       "      <td>manual</td>\n",
       "      <td>65</td>\n",
       "      <td>corsa</td>\n",
       "      <td>150000</td>\n",
       "      <td>0</td>\n",
       "      <td>NaN</td>\n",
       "      <td>opel</td>\n",
       "      <td>yes</td>\n",
       "      <td>2016-03-09 00:00:00</td>\n",
       "    </tr>\n",
       "    <tr>\n",
       "      <th>354238</th>\n",
       "      <td>2016-03-20 14:55:07</td>\n",
       "      <td>0</td>\n",
       "      <td>small</td>\n",
       "      <td>2002</td>\n",
       "      <td>manual</td>\n",
       "      <td>60</td>\n",
       "      <td>fiesta</td>\n",
       "      <td>150000</td>\n",
       "      <td>3</td>\n",
       "      <td>petrol</td>\n",
       "      <td>ford</td>\n",
       "      <td>NaN</td>\n",
       "      <td>2016-03-20 00:00:00</td>\n",
       "    </tr>\n",
       "    <tr>\n",
       "      <th>354248</th>\n",
       "      <td>2016-03-24 13:48:05</td>\n",
       "      <td>0</td>\n",
       "      <td>small</td>\n",
       "      <td>1999</td>\n",
       "      <td>manual</td>\n",
       "      <td>53</td>\n",
       "      <td>swift</td>\n",
       "      <td>150000</td>\n",
       "      <td>3</td>\n",
       "      <td>petrol</td>\n",
       "      <td>suzuki</td>\n",
       "      <td>NaN</td>\n",
       "      <td>2016-03-24 00:00:00</td>\n",
       "    </tr>\n",
       "    <tr>\n",
       "      <th>354277</th>\n",
       "      <td>2016-03-10 22:55:50</td>\n",
       "      <td>0</td>\n",
       "      <td>small</td>\n",
       "      <td>1999</td>\n",
       "      <td>manual</td>\n",
       "      <td>37</td>\n",
       "      <td>arosa</td>\n",
       "      <td>150000</td>\n",
       "      <td>7</td>\n",
       "      <td>petrol</td>\n",
       "      <td>seat</td>\n",
       "      <td>yes</td>\n",
       "      <td>2016-03-10 00:00:00</td>\n",
       "    </tr>\n",
       "    <tr>\n",
       "      <th>354364</th>\n",
       "      <td>2016-03-21 09:50:58</td>\n",
       "      <td>0</td>\n",
       "      <td>NaN</td>\n",
       "      <td>2005</td>\n",
       "      <td>manual</td>\n",
       "      <td>0</td>\n",
       "      <td>colt</td>\n",
       "      <td>150000</td>\n",
       "      <td>7</td>\n",
       "      <td>petrol</td>\n",
       "      <td>mitsubishi</td>\n",
       "      <td>yes</td>\n",
       "      <td>2016-03-21 00:00:00</td>\n",
       "    </tr>\n",
       "  </tbody>\n",
       "</table>\n",
       "<p>7479 rows × 13 columns</p>\n",
       "</div>"
      ],
      "text/plain": [
       "                DateCrawled  Price VehicleType  RegistrationYear Gearbox  \\\n",
       "7       2016-03-21 18:54:38      0       sedan              1980  manual   \n",
       "40      2016-03-26 22:06:17      0         NaN              1990     NaN   \n",
       "152     2016-03-11 18:55:53      0         bus              2004  manual   \n",
       "154     2016-03-22 16:37:59      0         NaN              2006     NaN   \n",
       "231     2016-03-16 22:06:24      0       wagon              2001  manual   \n",
       "...                     ...    ...         ...               ...     ...   \n",
       "354205  2016-03-09 15:56:30      0         NaN              2000  manual   \n",
       "354238  2016-03-20 14:55:07      0       small              2002  manual   \n",
       "354248  2016-03-24 13:48:05      0       small              1999  manual   \n",
       "354277  2016-03-10 22:55:50      0       small              1999  manual   \n",
       "354364  2016-03-21 09:50:58      0         NaN              2005  manual   \n",
       "\n",
       "        Power   Model  Kilometer  RegistrationMonth FuelType       Brand  \\\n",
       "7          50   other      40000                  7   petrol  volkswagen   \n",
       "40          0   corsa     150000                  1   petrol        opel   \n",
       "152       101  meriva     150000                 10      lpg        opel   \n",
       "154         0   other       5000                  0      NaN        fiat   \n",
       "231       115  mondeo     150000                  0      NaN        ford   \n",
       "...       ...     ...        ...                ...      ...         ...   \n",
       "354205     65   corsa     150000                  0      NaN        opel   \n",
       "354238     60  fiesta     150000                  3   petrol        ford   \n",
       "354248     53   swift     150000                  3   petrol      suzuki   \n",
       "354277     37   arosa     150000                  7   petrol        seat   \n",
       "354364      0    colt     150000                  7   petrol  mitsubishi   \n",
       "\n",
       "       NotRepaired          DateCreated  \n",
       "7               no  2016-03-21 00:00:00  \n",
       "40             NaN  2016-03-26 00:00:00  \n",
       "152            yes  2016-03-11 00:00:00  \n",
       "154            NaN  2016-03-22 00:00:00  \n",
       "231            NaN  2016-03-16 00:00:00  \n",
       "...            ...                  ...  \n",
       "354205         yes  2016-03-09 00:00:00  \n",
       "354238         NaN  2016-03-20 00:00:00  \n",
       "354248         NaN  2016-03-24 00:00:00  \n",
       "354277         yes  2016-03-10 00:00:00  \n",
       "354364         yes  2016-03-21 00:00:00  \n",
       "\n",
       "[7479 rows x 13 columns]"
      ]
     },
     "execution_count": 15,
     "metadata": {},
     "output_type": "execute_result"
    }
   ],
   "source": [
    "data.query('Price == 0')"
   ]
  },
  {
   "cell_type": "code",
   "execution_count": 16,
   "metadata": {},
   "outputs": [],
   "source": [
    "#удаляю объекты с нулевой ценой, т.к. они будут только ухудшать качество обучения\n",
    "data = data.query('Price != 0')"
   ]
  },
  {
   "cell_type": "code",
   "execution_count": 17,
   "metadata": {},
   "outputs": [
    {
     "data": {
      "image/png": "[encoded data removed]",
      "text/plain": [
       "<Figure size 1080x720 with 6 Axes>"
      ]
     },
     "metadata": {
      "needs_background": "light"
     },
     "output_type": "display_data"
    }
   ],
   "source": [
    "data.hist(figsize=(15, 10));"
   ]
  },
  {
   "cell_type": "code",
   "execution_count": 18,
   "metadata": {},
   "outputs": [],
   "source": [
    "data['DateCrawled'] = pd.to_datetime(data['DateCrawled'], format = '%Y-%m-%d %H:%M:%S')\n",
    "data['DateCreated'] = pd.to_datetime(data['DateCreated'], format = '%Y-%m-%d %H:%M:%S')"
   ]
  },
  {
   "cell_type": "code",
   "execution_count": 19,
   "metadata": {},
   "outputs": [
    {
     "data": {
      "image/png": "[encoded data removed]",
      "text/plain": [
       "<Figure size 432x288 with 1 Axes>"
      ]
     },
     "metadata": {
      "needs_background": "light"
     },
     "output_type": "display_data"
    }
   ],
   "source": [
    "data['NotRepaired'].hist();"
   ]
  },
  {
   "cell_type": "code",
   "execution_count": 20,
   "metadata": {},
   "outputs": [],
   "source": [
    "#с учетом распределения данных в столбце NotRepaired предположим, что в пропусках забыли указать 'no'\n",
    "data['NotRepaired'] = data['NotRepaired'].fillna('no')\n",
    "\n",
    "#оставшиеся пропуски удалим\n",
    "data = data.dropna(subset=['VehicleType', 'Gearbox', 'FuelType'])"
   ]
  },
  {
   "cell_type": "code",
   "execution_count": 21,
   "metadata": {},
   "outputs": [
    {
     "name": "stdout",
     "output_type": "stream",
     "text": [
      "<class 'pandas.core.frame.DataFrame'>\n",
      "Int64Index: 278740 entries, 2 to 354368\n",
      "Data columns (total 13 columns):\n",
      " #   Column             Non-Null Count   Dtype         \n",
      "---  ------             --------------   -----         \n",
      " 0   DateCrawled        278740 non-null  datetime64[ns]\n",
      " 1   Price              278740 non-null  int64         \n",
      " 2   VehicleType        278740 non-null  object        \n",
      " 3   RegistrationYear   278740 non-null  int64         \n",
      " 4   Gearbox            278740 non-null  object        \n",
      " 5   Power              278740 non-null  int64         \n",
      " 6   Model              278740 non-null  object        \n",
      " 7   Kilometer          278740 non-null  int64         \n",
      " 8   RegistrationMonth  278740 non-null  int64         \n",
      " 9   FuelType           278740 non-null  object        \n",
      " 10  Brand              278740 non-null  object        \n",
      " 11  NotRepaired        278740 non-null  object        \n",
      " 12  DateCreated        278740 non-null  datetime64[ns]\n",
      "dtypes: datetime64[ns](2), int64(5), object(6)\n",
      "memory usage: 29.8+ MB\n"
     ]
    }
   ],
   "source": [
    "data.info()"
   ]
  },
  {
   "cell_type": "markdown",
   "metadata": {},
   "source": [
    "### Разделение на тренировочную, валидационную и тестовую выборки"
   ]
  },
  {
   "cell_type": "code",
   "execution_count": 22,
   "metadata": {},
   "outputs": [],
   "source": [
    "features = data.drop(['DateCrawled', 'Price', 'DateCreated'], axis=1)\n",
    "target = data['Price']\n",
    "\n",
    "features_train, features_vt, target_train, target_vt = train_test_split(\n",
    "    features, target, test_size=0.4, random_state=12345)\n",
    "\n",
    "features_valid, features_test, target_valid, target_test = train_test_split(\n",
    "    features_vt, target_vt, test_size=0.5, random_state=12345)"
   ]
  },
  {
   "cell_type": "markdown",
   "metadata": {},
   "source": [
    "## Обучение моделей"
   ]
  },
  {
   "cell_type": "markdown",
   "metadata": {},
   "source": [
    "### DecisionTree"
   ]
  },
  {
   "cell_type": "code",
   "execution_count": 23,
   "metadata": {},
   "outputs": [
    {
     "name": "stderr",
     "output_type": "stream",
     "text": [
      "/tmp/ipykernel_230/235661845.py:12: SettingWithCopyWarning: \n",
      "A value is trying to be set on a copy of a slice from a DataFrame.\n",
      "Try using .loc[row_indexer,col_indexer] = value instead\n",
      "\n",
      "See the caveats in the documentation: https://pandas.pydata.org/pandas-docs/stable/user_guide/indexing.html#returning-a-view-versus-a-copy\n",
      "  features_train_ordinal[category] = encoder.transform(features_train[category])\n",
      "/opt/conda/lib/python3.9/site-packages/pandas/core/indexing.py:1738: SettingWithCopyWarning: \n",
      "A value is trying to be set on a copy of a slice from a DataFrame.\n",
      "Try using .loc[row_indexer,col_indexer] = value instead\n",
      "\n",
      "See the caveats in the documentation: https://pandas.pydata.org/pandas-docs/stable/user_guide/indexing.html#returning-a-view-versus-a-copy\n",
      "  self._setitem_single_column(loc, value[:, i].tolist(), pi)\n",
      "/tmp/ipykernel_230/235661845.py:13: SettingWithCopyWarning: \n",
      "A value is trying to be set on a copy of a slice from a DataFrame.\n",
      "Try using .loc[row_indexer,col_indexer] = value instead\n",
      "\n",
      "See the caveats in the documentation: https://pandas.pydata.org/pandas-docs/stable/user_guide/indexing.html#returning-a-view-versus-a-copy\n",
      "  features_valid_ordinal[category] = encoder.transform(features_valid[category])\n",
      "/opt/conda/lib/python3.9/site-packages/pandas/core/indexing.py:1738: SettingWithCopyWarning: \n",
      "A value is trying to be set on a copy of a slice from a DataFrame.\n",
      "Try using .loc[row_indexer,col_indexer] = value instead\n",
      "\n",
      "See the caveats in the documentation: https://pandas.pydata.org/pandas-docs/stable/user_guide/indexing.html#returning-a-view-versus-a-copy\n",
      "  self._setitem_single_column(loc, value[:, i].tolist(), pi)\n",
      "/tmp/ipykernel_230/235661845.py:14: SettingWithCopyWarning: \n",
      "A value is trying to be set on a copy of a slice from a DataFrame.\n",
      "Try using .loc[row_indexer,col_indexer] = value instead\n",
      "\n",
      "See the caveats in the documentation: https://pandas.pydata.org/pandas-docs/stable/user_guide/indexing.html#returning-a-view-versus-a-copy\n",
      "  features_test_ordinal[category] = encoder.transform(features_test[category])\n",
      "/opt/conda/lib/python3.9/site-packages/pandas/core/indexing.py:1738: SettingWithCopyWarning: \n",
      "A value is trying to be set on a copy of a slice from a DataFrame.\n",
      "Try using .loc[row_indexer,col_indexer] = value instead\n",
      "\n",
      "See the caveats in the documentation: https://pandas.pydata.org/pandas-docs/stable/user_guide/indexing.html#returning-a-view-versus-a-copy\n",
      "  self._setitem_single_column(loc, value[:, i].tolist(), pi)\n"
     ]
    }
   ],
   "source": [
    "#кодировка категориальных признаков техникой OrdinalEncoder\n",
    "category = ['VehicleType', 'Gearbox', 'Model', 'FuelType', 'Brand', 'NotRepaired']\n",
    "numeric = ['RegistrationYear', 'Power', 'Kilometer', 'RegistrationMonth']\n",
    "\n",
    "features_train_ordinal = features_train\n",
    "features_valid_ordinal = features_valid\n",
    "features_test_ordinal = features_test\n",
    "\n",
    "encoder = OrdinalEncoder()\n",
    "encoder.fit(data[category])\n",
    "\n",
    "features_train_ordinal[category] = encoder.transform(features_train[category])\n",
    "features_valid_ordinal[category] = encoder.transform(features_valid[category])\n",
    "features_test_ordinal[category] = encoder.transform(features_test[category])\n",
    "\n",
    "#display(features_train_ordinal.head(5))"
   ]
  },
  {
   "cell_type": "code",
   "execution_count": 24,
   "metadata": {},
   "outputs": [
    {
     "name": "stdout",
     "output_type": "stream",
     "text": [
      "RMSE: 1949\n",
      "best_depth: 10\n",
      "CPU times: user 2.2 s, sys: 0 ns, total: 2.2 s\n",
      "Wall time: 2.2 s\n"
     ]
    }
   ],
   "source": [
    "%%time\n",
    "#начнем с простой деревянной модели\n",
    "\n",
    "best_result = 20000\n",
    "best_depth = 0\n",
    "for depth in range(1, 11):\n",
    "    model = DecisionTreeRegressor(random_state=12345, max_depth=depth)\n",
    "    model.fit(features_train_ordinal, target_train)\n",
    "    predictions_valid = model.predict(features_valid_ordinal)\n",
    "    result = mean_squared_error(target_valid, predictions_valid) ** 0.5\n",
    "    if result < best_result:\n",
    "        best_result = result\n",
    "        best_depth = depth\n",
    "\n",
    "print('RMSE:', round(best_result))\n",
    "print('best_depth:', best_depth)"
   ]
  },
  {
   "cell_type": "markdown",
   "metadata": {},
   "source": [
    "Выяснили лучшую глубину - 10, теперь сделаем замеры времени обучения и предсказания"
   ]
  },
  {
   "cell_type": "code",
   "execution_count": 25,
   "metadata": {},
   "outputs": [
    {
     "name": "stdout",
     "output_type": "stream",
     "text": [
      "CPU times: user 370 ms, sys: 147 µs, total: 370 ms\n",
      "Wall time: 374 ms\n"
     ]
    },
    {
     "data": {
      "text/plain": [
       "DecisionTreeRegressor(max_depth=10, random_state=12345)"
      ]
     },
     "execution_count": 25,
     "metadata": {},
     "output_type": "execute_result"
    }
   ],
   "source": [
    "%%time\n",
    "\n",
    "model = DecisionTreeRegressor(random_state=12345, max_depth=10)\n",
    "model.fit(features_train_ordinal, target_train)"
   ]
  },
  {
   "cell_type": "code",
   "execution_count": 26,
   "metadata": {},
   "outputs": [
    {
     "name": "stdout",
     "output_type": "stream",
     "text": [
      "RMSE: 1949\n",
      "CPU times: user 6.85 ms, sys: 3.89 ms, total: 10.7 ms\n",
      "Wall time: 9.26 ms\n"
     ]
    }
   ],
   "source": [
    "%%time\n",
    "\n",
    "predictions_valid = model.predict(features_valid_ordinal)\n",
    "rmse_tree = mean_squared_error(target_valid, predictions_valid) ** 0.5\n",
    "\n",
    "print('RMSE:', round(rmse_tree))"
   ]
  },
  {
   "cell_type": "markdown",
   "metadata": {},
   "source": [
    "По условию задачи RMSE должно быть меньше 2500 - с этим справилась даже простенькая модель DecisionTree, значит задачу можно считать выполненной.\n",
    "Теперь попробуем минимизировать RMSE с помощью других моделей, в т.ч. градиентным бустингом."
   ]
  },
  {
   "cell_type": "markdown",
   "metadata": {},
   "source": [
    "### RandomForest"
   ]
  },
  {
   "cell_type": "code",
   "execution_count": 27,
   "metadata": {},
   "outputs": [
    {
     "name": "stdout",
     "output_type": "stream",
     "text": [
      "CPU times: user 12.2 s, sys: 11.1 ms, total: 12.2 s\n",
      "Wall time: 12.2 s\n"
     ]
    },
    {
     "data": {
      "text/plain": [
       "RandomForestRegressor(max_depth=10, n_estimators=50, random_state=12345)"
      ]
     },
     "execution_count": 27,
     "metadata": {},
     "output_type": "execute_result"
    }
   ],
   "source": [
    "%%time\n",
    "\n",
    "model = RandomForestRegressor(random_state=12345, n_estimators=50, max_depth=10)\n",
    "model.fit(features_train_ordinal, target_train)"
   ]
  },
  {
   "cell_type": "code",
   "execution_count": 28,
   "metadata": {},
   "outputs": [
    {
     "name": "stdout",
     "output_type": "stream",
     "text": [
      "RMSE: 1833\n",
      "CPU times: user 246 ms, sys: 0 ns, total: 246 ms\n",
      "Wall time: 250 ms\n"
     ]
    }
   ],
   "source": [
    "%%time\n",
    "\n",
    "predictions_valid = model.predict(features_valid_ordinal)\n",
    "rmse_forest = mean_squared_error(target_valid, predictions_valid) ** 0.5\n",
    "\n",
    "print('RMSE:', round(rmse_forest))"
   ]
  },
  {
   "cell_type": "markdown",
   "metadata": {},
   "source": [
    "У модели леса со случайно выбранными гиперпараметрами RMSE еще лучше."
   ]
  },
  {
   "cell_type": "markdown",
   "metadata": {},
   "source": [
    "### CatBoost"
   ]
  },
  {
   "cell_type": "code",
   "execution_count": 29,
   "metadata": {},
   "outputs": [
    {
     "name": "stdout",
     "output_type": "stream",
     "text": [
      "Learning rate set to 0.340198\n",
      "0:\tlearn: 3614.6813435\ttotal: 76ms\tremaining: 15.1s\n",
      "1:\tlearn: 3000.1164905\ttotal: 100ms\tremaining: 9.92s\n",
      "2:\tlearn: 2635.0695891\ttotal: 126ms\tremaining: 8.28s\n",
      "3:\tlearn: 2411.5984550\ttotal: 150ms\tremaining: 7.34s\n",
      "4:\tlearn: 2273.6725683\ttotal: 174ms\tremaining: 6.77s\n",
      "5:\tlearn: 2176.9157927\ttotal: 197ms\tremaining: 6.38s\n",
      "6:\tlearn: 2114.9773658\ttotal: 222ms\tremaining: 6.11s\n",
      "7:\tlearn: 2074.4094146\ttotal: 245ms\tremaining: 5.88s\n",
      "8:\tlearn: 2041.4879424\ttotal: 267ms\tremaining: 5.67s\n",
      "9:\tlearn: 2007.3589969\ttotal: 291ms\tremaining: 5.52s\n",
      "10:\tlearn: 1965.1449573\ttotal: 314ms\tremaining: 5.4s\n",
      "11:\tlearn: 1948.3458161\ttotal: 335ms\tremaining: 5.25s\n",
      "12:\tlearn: 1918.3205653\ttotal: 358ms\tremaining: 5.15s\n",
      "13:\tlearn: 1908.4190850\ttotal: 379ms\tremaining: 5.04s\n",
      "14:\tlearn: 1894.5817010\ttotal: 400ms\tremaining: 4.94s\n",
      "15:\tlearn: 1878.3293938\ttotal: 424ms\tremaining: 4.88s\n",
      "16:\tlearn: 1867.0619249\ttotal: 446ms\tremaining: 4.8s\n",
      "17:\tlearn: 1858.1980912\ttotal: 468ms\tremaining: 4.74s\n",
      "18:\tlearn: 1848.8553751\ttotal: 491ms\tremaining: 4.68s\n",
      "19:\tlearn: 1836.2695200\ttotal: 514ms\tremaining: 4.63s\n",
      "20:\tlearn: 1828.6251050\ttotal: 537ms\tremaining: 4.58s\n",
      "21:\tlearn: 1823.3166486\ttotal: 559ms\tremaining: 4.53s\n",
      "22:\tlearn: 1817.7454628\ttotal: 581ms\tremaining: 4.47s\n",
      "23:\tlearn: 1813.4388690\ttotal: 604ms\tremaining: 4.43s\n",
      "24:\tlearn: 1802.0604128\ttotal: 627ms\tremaining: 4.39s\n",
      "25:\tlearn: 1793.8336448\ttotal: 648ms\tremaining: 4.34s\n",
      "26:\tlearn: 1789.1243474\ttotal: 669ms\tremaining: 4.29s\n",
      "27:\tlearn: 1779.7175332\ttotal: 693ms\tremaining: 4.26s\n",
      "28:\tlearn: 1774.6327885\ttotal: 716ms\tremaining: 4.22s\n",
      "29:\tlearn: 1770.7400950\ttotal: 738ms\tremaining: 4.18s\n",
      "30:\tlearn: 1766.5572286\ttotal: 761ms\tremaining: 4.15s\n",
      "31:\tlearn: 1763.1733279\ttotal: 782ms\tremaining: 4.11s\n",
      "32:\tlearn: 1758.1811663\ttotal: 804ms\tremaining: 4.07s\n",
      "33:\tlearn: 1755.1406173\ttotal: 827ms\tremaining: 4.04s\n",
      "34:\tlearn: 1751.5014604\ttotal: 857ms\tremaining: 4.04s\n",
      "35:\tlearn: 1748.1291190\ttotal: 879ms\tremaining: 4s\n",
      "36:\tlearn: 1744.4950144\ttotal: 901ms\tremaining: 3.97s\n",
      "37:\tlearn: 1741.3418580\ttotal: 923ms\tremaining: 3.94s\n",
      "38:\tlearn: 1735.2903521\ttotal: 947ms\tremaining: 3.91s\n",
      "39:\tlearn: 1732.7982935\ttotal: 970ms\tremaining: 3.88s\n",
      "40:\tlearn: 1730.0846050\ttotal: 991ms\tremaining: 3.84s\n",
      "41:\tlearn: 1726.9411732\ttotal: 1.01s\tremaining: 3.81s\n",
      "42:\tlearn: 1722.9356255\ttotal: 1.03s\tremaining: 3.78s\n",
      "43:\tlearn: 1719.0753078\ttotal: 1.06s\tremaining: 3.76s\n",
      "44:\tlearn: 1716.1466329\ttotal: 1.08s\tremaining: 3.73s\n",
      "45:\tlearn: 1713.5722004\ttotal: 1.11s\tremaining: 3.71s\n",
      "46:\tlearn: 1710.1215488\ttotal: 1.13s\tremaining: 3.67s\n",
      "47:\tlearn: 1706.8990419\ttotal: 1.15s\tremaining: 3.64s\n",
      "48:\tlearn: 1704.4549618\ttotal: 1.17s\tremaining: 3.61s\n",
      "49:\tlearn: 1701.6528178\ttotal: 1.19s\tremaining: 3.58s\n",
      "50:\tlearn: 1699.7039437\ttotal: 1.21s\tremaining: 3.55s\n",
      "51:\tlearn: 1698.7290307\ttotal: 1.23s\tremaining: 3.51s\n",
      "52:\tlearn: 1697.4006582\ttotal: 1.25s\tremaining: 3.48s\n",
      "53:\tlearn: 1694.4280889\ttotal: 1.28s\tremaining: 3.45s\n",
      "54:\tlearn: 1691.5122807\ttotal: 1.3s\tremaining: 3.42s\n",
      "55:\tlearn: 1689.0343018\ttotal: 1.32s\tremaining: 3.4s\n",
      "56:\tlearn: 1685.1776161\ttotal: 1.34s\tremaining: 3.37s\n",
      "57:\tlearn: 1683.0974275\ttotal: 1.37s\tremaining: 3.35s\n",
      "58:\tlearn: 1681.4790901\ttotal: 1.39s\tremaining: 3.32s\n",
      "59:\tlearn: 1679.8854068\ttotal: 1.41s\tremaining: 3.29s\n",
      "60:\tlearn: 1678.0090047\ttotal: 1.43s\tremaining: 3.27s\n",
      "61:\tlearn: 1676.3538821\ttotal: 1.46s\tremaining: 3.24s\n",
      "62:\tlearn: 1675.2668897\ttotal: 1.48s\tremaining: 3.21s\n",
      "63:\tlearn: 1672.4477028\ttotal: 1.5s\tremaining: 3.19s\n",
      "64:\tlearn: 1668.6536634\ttotal: 1.52s\tremaining: 3.16s\n",
      "65:\tlearn: 1666.7942870\ttotal: 1.54s\tremaining: 3.14s\n",
      "66:\tlearn: 1665.0347940\ttotal: 1.57s\tremaining: 3.11s\n",
      "67:\tlearn: 1663.9364084\ttotal: 1.59s\tremaining: 3.08s\n",
      "68:\tlearn: 1662.3093855\ttotal: 1.61s\tremaining: 3.06s\n",
      "69:\tlearn: 1660.8231923\ttotal: 1.63s\tremaining: 3.03s\n",
      "70:\tlearn: 1657.9375762\ttotal: 1.65s\tremaining: 3s\n",
      "71:\tlearn: 1655.9631345\ttotal: 1.68s\tremaining: 2.98s\n",
      "72:\tlearn: 1654.6611303\ttotal: 1.7s\tremaining: 2.95s\n",
      "73:\tlearn: 1654.3946160\ttotal: 1.71s\tremaining: 2.92s\n",
      "74:\tlearn: 1652.1834609\ttotal: 1.74s\tremaining: 2.9s\n",
      "75:\tlearn: 1650.2089282\ttotal: 1.76s\tremaining: 2.87s\n",
      "76:\tlearn: 1648.6963683\ttotal: 1.78s\tremaining: 2.85s\n",
      "77:\tlearn: 1647.6306276\ttotal: 1.81s\tremaining: 2.82s\n",
      "78:\tlearn: 1646.7294001\ttotal: 1.83s\tremaining: 2.8s\n",
      "79:\tlearn: 1644.9806691\ttotal: 1.85s\tremaining: 2.78s\n",
      "80:\tlearn: 1643.9469478\ttotal: 1.87s\tremaining: 2.75s\n",
      "81:\tlearn: 1642.2859854\ttotal: 1.9s\tremaining: 2.73s\n",
      "82:\tlearn: 1640.2489091\ttotal: 1.92s\tremaining: 2.7s\n",
      "83:\tlearn: 1639.9478243\ttotal: 1.94s\tremaining: 2.67s\n",
      "84:\tlearn: 1637.9416430\ttotal: 1.96s\tremaining: 2.65s\n",
      "85:\tlearn: 1635.9777102\ttotal: 1.98s\tremaining: 2.63s\n",
      "86:\tlearn: 1634.3530619\ttotal: 2.01s\tremaining: 2.61s\n",
      "87:\tlearn: 1632.4591823\ttotal: 2.03s\tremaining: 2.58s\n",
      "88:\tlearn: 1632.2949015\ttotal: 2.05s\tremaining: 2.55s\n",
      "89:\tlearn: 1630.3862938\ttotal: 2.07s\tremaining: 2.53s\n",
      "90:\tlearn: 1629.2561579\ttotal: 2.09s\tremaining: 2.51s\n",
      "91:\tlearn: 1628.3369359\ttotal: 2.12s\tremaining: 2.48s\n",
      "92:\tlearn: 1626.8848090\ttotal: 2.14s\tremaining: 2.46s\n",
      "93:\tlearn: 1625.3542773\ttotal: 2.16s\tremaining: 2.44s\n",
      "94:\tlearn: 1624.4461548\ttotal: 2.18s\tremaining: 2.41s\n",
      "95:\tlearn: 1623.7680612\ttotal: 2.2s\tremaining: 2.39s\n",
      "96:\tlearn: 1623.6607038\ttotal: 2.22s\tremaining: 2.36s\n",
      "97:\tlearn: 1621.9489053\ttotal: 2.24s\tremaining: 2.33s\n",
      "98:\tlearn: 1620.4689707\ttotal: 2.27s\tremaining: 2.31s\n",
      "99:\tlearn: 1619.4527061\ttotal: 2.29s\tremaining: 2.29s\n",
      "100:\tlearn: 1618.3103111\ttotal: 2.31s\tremaining: 2.26s\n",
      "101:\tlearn: 1617.0269434\ttotal: 2.33s\tremaining: 2.24s\n",
      "102:\tlearn: 1615.5995631\ttotal: 2.35s\tremaining: 2.22s\n",
      "103:\tlearn: 1614.7500776\ttotal: 2.38s\tremaining: 2.19s\n",
      "104:\tlearn: 1613.6218363\ttotal: 2.4s\tremaining: 2.17s\n",
      "105:\tlearn: 1611.2316612\ttotal: 2.42s\tremaining: 2.15s\n",
      "106:\tlearn: 1610.3922736\ttotal: 2.45s\tremaining: 2.13s\n",
      "107:\tlearn: 1609.4369362\ttotal: 2.47s\tremaining: 2.1s\n",
      "108:\tlearn: 1608.4756032\ttotal: 2.5s\tremaining: 2.08s\n",
      "109:\tlearn: 1606.8312706\ttotal: 2.52s\tremaining: 2.06s\n",
      "110:\tlearn: 1604.2216304\ttotal: 2.54s\tremaining: 2.04s\n",
      "111:\tlearn: 1602.5872475\ttotal: 2.57s\tremaining: 2.02s\n",
      "112:\tlearn: 1601.4390147\ttotal: 2.59s\tremaining: 1.99s\n",
      "113:\tlearn: 1600.4864684\ttotal: 2.61s\tremaining: 1.97s\n",
      "114:\tlearn: 1599.4887196\ttotal: 2.63s\tremaining: 1.95s\n",
      "115:\tlearn: 1598.4706298\ttotal: 2.66s\tremaining: 1.92s\n",
      "116:\tlearn: 1596.8415614\ttotal: 2.68s\tremaining: 1.9s\n",
      "117:\tlearn: 1595.9591150\ttotal: 2.7s\tremaining: 1.88s\n",
      "118:\tlearn: 1594.9856018\ttotal: 2.72s\tremaining: 1.85s\n",
      "119:\tlearn: 1594.1329110\ttotal: 2.75s\tremaining: 1.83s\n",
      "120:\tlearn: 1593.4384479\ttotal: 2.77s\tremaining: 1.81s\n",
      "121:\tlearn: 1591.5072531\ttotal: 2.79s\tremaining: 1.78s\n",
      "122:\tlearn: 1590.5861908\ttotal: 2.81s\tremaining: 1.76s\n",
      "123:\tlearn: 1589.6070615\ttotal: 2.84s\tremaining: 1.74s\n",
      "124:\tlearn: 1588.1289162\ttotal: 2.86s\tremaining: 1.72s\n",
      "125:\tlearn: 1587.6782188\ttotal: 2.88s\tremaining: 1.69s\n",
      "126:\tlearn: 1585.7143393\ttotal: 2.9s\tremaining: 1.67s\n",
      "127:\tlearn: 1584.9519736\ttotal: 2.92s\tremaining: 1.64s\n",
      "128:\tlearn: 1584.1011699\ttotal: 2.95s\tremaining: 1.62s\n",
      "129:\tlearn: 1583.9938242\ttotal: 2.97s\tremaining: 1.6s\n",
      "130:\tlearn: 1583.2569746\ttotal: 2.99s\tremaining: 1.57s\n",
      "131:\tlearn: 1582.6109288\ttotal: 3.01s\tremaining: 1.55s\n",
      "132:\tlearn: 1581.4964044\ttotal: 3.03s\tremaining: 1.53s\n",
      "133:\tlearn: 1580.4953578\ttotal: 3.06s\tremaining: 1.5s\n",
      "134:\tlearn: 1579.7139203\ttotal: 3.08s\tremaining: 1.48s\n",
      "135:\tlearn: 1579.1462227\ttotal: 3.1s\tremaining: 1.46s\n",
      "136:\tlearn: 1578.3039329\ttotal: 3.12s\tremaining: 1.44s\n",
      "137:\tlearn: 1577.1976856\ttotal: 3.15s\tremaining: 1.41s\n",
      "138:\tlearn: 1575.9581014\ttotal: 3.17s\tremaining: 1.39s\n",
      "139:\tlearn: 1575.7236929\ttotal: 3.19s\tremaining: 1.37s\n",
      "140:\tlearn: 1574.4556519\ttotal: 3.21s\tremaining: 1.34s\n",
      "141:\tlearn: 1573.3818349\ttotal: 3.23s\tremaining: 1.32s\n",
      "142:\tlearn: 1572.7058486\ttotal: 3.25s\tremaining: 1.3s\n",
      "143:\tlearn: 1572.0311079\ttotal: 3.27s\tremaining: 1.27s\n",
      "144:\tlearn: 1571.4126799\ttotal: 3.3s\tremaining: 1.25s\n",
      "145:\tlearn: 1570.9714070\ttotal: 3.32s\tremaining: 1.23s\n",
      "146:\tlearn: 1569.8210403\ttotal: 3.34s\tremaining: 1.21s\n",
      "147:\tlearn: 1568.5262874\ttotal: 3.37s\tremaining: 1.18s\n",
      "148:\tlearn: 1567.5765036\ttotal: 3.39s\tremaining: 1.16s\n",
      "149:\tlearn: 1567.0000226\ttotal: 3.41s\tremaining: 1.14s\n",
      "150:\tlearn: 1566.7473317\ttotal: 3.43s\tremaining: 1.11s\n",
      "151:\tlearn: 1565.9883772\ttotal: 3.46s\tremaining: 1.09s\n",
      "152:\tlearn: 1565.3249843\ttotal: 3.48s\tremaining: 1.07s\n",
      "153:\tlearn: 1564.4074085\ttotal: 3.5s\tremaining: 1.04s\n",
      "154:\tlearn: 1563.8541423\ttotal: 3.52s\tremaining: 1.02s\n",
      "155:\tlearn: 1562.8932257\ttotal: 3.54s\tremaining: 999ms\n",
      "156:\tlearn: 1562.1801008\ttotal: 3.56s\tremaining: 976ms\n",
      "157:\tlearn: 1561.6682858\ttotal: 3.59s\tremaining: 953ms\n",
      "158:\tlearn: 1561.0561234\ttotal: 3.61s\tremaining: 930ms\n",
      "159:\tlearn: 1560.2073144\ttotal: 3.63s\tremaining: 908ms\n",
      "160:\tlearn: 1558.9002808\ttotal: 3.65s\tremaining: 885ms\n",
      "161:\tlearn: 1558.3605095\ttotal: 3.67s\tremaining: 861ms\n",
      "162:\tlearn: 1557.8491216\ttotal: 3.69s\tremaining: 838ms\n",
      "163:\tlearn: 1557.0744751\ttotal: 3.71s\tremaining: 815ms\n",
      "164:\tlearn: 1555.9486626\ttotal: 3.74s\tremaining: 793ms\n",
      "165:\tlearn: 1555.7694942\ttotal: 3.76s\tremaining: 770ms\n",
      "166:\tlearn: 1554.7208989\ttotal: 3.78s\tremaining: 747ms\n",
      "167:\tlearn: 1554.4192992\ttotal: 3.8s\tremaining: 724ms\n",
      "168:\tlearn: 1554.2506893\ttotal: 3.82s\tremaining: 701ms\n",
      "169:\tlearn: 1553.0904226\ttotal: 3.84s\tremaining: 678ms\n",
      "170:\tlearn: 1552.4040578\ttotal: 3.87s\tremaining: 656ms\n",
      "171:\tlearn: 1551.8792670\ttotal: 3.89s\tremaining: 633ms\n",
      "172:\tlearn: 1551.3161806\ttotal: 3.91s\tremaining: 610ms\n",
      "173:\tlearn: 1550.8938208\ttotal: 3.93s\tremaining: 587ms\n",
      "174:\tlearn: 1549.7525064\ttotal: 3.95s\tremaining: 565ms\n",
      "175:\tlearn: 1549.0632107\ttotal: 3.98s\tremaining: 542ms\n",
      "176:\tlearn: 1548.3883906\ttotal: 4s\tremaining: 519ms\n",
      "177:\tlearn: 1547.7102550\ttotal: 4.02s\tremaining: 497ms\n",
      "178:\tlearn: 1547.2083225\ttotal: 4.04s\tremaining: 474ms\n",
      "179:\tlearn: 1547.0424706\ttotal: 4.06s\tremaining: 452ms\n",
      "180:\tlearn: 1546.0335666\ttotal: 4.09s\tremaining: 429ms\n",
      "181:\tlearn: 1545.4511027\ttotal: 4.11s\tremaining: 407ms\n",
      "182:\tlearn: 1544.7035573\ttotal: 4.14s\tremaining: 384ms\n",
      "183:\tlearn: 1544.3531432\ttotal: 4.16s\tremaining: 362ms\n",
      "184:\tlearn: 1543.9587502\ttotal: 4.18s\tremaining: 339ms\n",
      "185:\tlearn: 1543.4657341\ttotal: 4.2s\tremaining: 316ms\n",
      "186:\tlearn: 1542.8894533\ttotal: 4.22s\tremaining: 294ms\n",
      "187:\tlearn: 1542.4266538\ttotal: 4.24s\tremaining: 271ms\n",
      "188:\tlearn: 1542.0387424\ttotal: 4.26s\tremaining: 248ms\n",
      "189:\tlearn: 1541.1277299\ttotal: 4.29s\tremaining: 226ms\n",
      "190:\tlearn: 1540.9910502\ttotal: 4.31s\tremaining: 203ms\n",
      "191:\tlearn: 1540.4380540\ttotal: 4.33s\tremaining: 180ms\n",
      "192:\tlearn: 1539.6772357\ttotal: 4.35s\tremaining: 158ms\n",
      "193:\tlearn: 1539.1982312\ttotal: 4.38s\tremaining: 135ms\n",
      "194:\tlearn: 1538.5376193\ttotal: 4.4s\tremaining: 113ms\n",
      "195:\tlearn: 1538.0266554\ttotal: 4.42s\tremaining: 90.2ms\n",
      "196:\tlearn: 1537.3724959\ttotal: 4.44s\tremaining: 67.7ms\n",
      "197:\tlearn: 1536.8990403\ttotal: 4.46s\tremaining: 45.1ms\n",
      "198:\tlearn: 1535.9995519\ttotal: 4.49s\tremaining: 22.6ms\n",
      "199:\tlearn: 1535.4757269\ttotal: 4.51s\tremaining: 0us\n",
      "CPU times: user 4.6 s, sys: 64.3 ms, total: 4.66 s\n",
      "Wall time: 5.24 s\n"
     ]
    },
    {
     "data": {
      "text/plain": [
       "<catboost.core.CatBoostRegressor at 0x7f152e5abac0>"
      ]
     },
     "execution_count": 29,
     "metadata": {},
     "output_type": "execute_result"
    }
   ],
   "source": [
    "%%time\n",
    "\n",
    "model = CatBoostRegressor(iterations=200)\n",
    "model.fit(features_train, target_train)"
   ]
  },
  {
   "cell_type": "code",
   "execution_count": 30,
   "metadata": {},
   "outputs": [
    {
     "name": "stdout",
     "output_type": "stream",
     "text": [
      "RMSE: 1594\n",
      "CPU times: user 18.9 ms, sys: 0 ns, total: 18.9 ms\n",
      "Wall time: 17.7 ms\n"
     ]
    }
   ],
   "source": [
    "%%time\n",
    "\n",
    "predictions_valid = model.predict(features_valid)\n",
    "rmse_cat = mean_squared_error(target_valid, predictions_valid) ** 0.5\n",
    "\n",
    "print('RMSE:', round(rmse_cat))"
   ]
  },
  {
   "cell_type": "markdown",
   "metadata": {},
   "source": [
    "Модель показывает лучший результат из имеющихся, и наивысшую скорость обучения! Также модель отлично справилась с незакодированными категориальными признаками - пользоваться ей проще, чем традиционными моделями."
   ]
  },
  {
   "cell_type": "markdown",
   "metadata": {},
   "source": [
    "### LightGBM"
   ]
  },
  {
   "cell_type": "code",
   "execution_count": 31,
   "metadata": {},
   "outputs": [
    {
     "name": "stdout",
     "output_type": "stream",
     "text": [
      "CPU times: user 5.11 s, sys: 8.65 ms, total: 5.12 s\n",
      "Wall time: 5.05 s\n"
     ]
    },
    {
     "data": {
      "text/plain": [
       "LGBMRegressor()"
      ]
     },
     "execution_count": 31,
     "metadata": {},
     "output_type": "execute_result"
    }
   ],
   "source": [
    "%%time\n",
    "\n",
    "model = ltb.LGBMRegressor()\n",
    "model.fit(features_train_ordinal, target_train)"
   ]
  },
  {
   "cell_type": "code",
   "execution_count": 32,
   "metadata": {},
   "outputs": [
    {
     "name": "stdout",
     "output_type": "stream",
     "text": [
      "RMSE: 1653\n",
      "CPU times: user 530 ms, sys: 3.61 ms, total: 534 ms\n",
      "Wall time: 591 ms\n"
     ]
    }
   ],
   "source": [
    "%%time\n",
    "\n",
    "predictions_valid = model.predict(features_valid_ordinal)\n",
    "rmse_lgbm = mean_squared_error(target_valid, predictions_valid) ** 0.5\n",
    "\n",
    "print('RMSE:', round(rmse_lgbm))"
   ]
  },
  {
   "cell_type": "markdown",
   "metadata": {},
   "source": [
    "Модель показывает высокий, хотя и немного более скромный результат, чем CatBoost, но и скорость ее работы почти в 2 раза выше."
   ]
  },
  {
   "cell_type": "markdown",
   "metadata": {},
   "source": [
    "### LinearRegression"
   ]
  },
  {
   "cell_type": "code",
   "execution_count": 33,
   "metadata": {},
   "outputs": [
    {
     "name": "stderr",
     "output_type": "stream",
     "text": [
      "/opt/conda/lib/python3.9/site-packages/pandas/core/frame.py:3191: SettingWithCopyWarning: \n",
      "A value is trying to be set on a copy of a slice from a DataFrame.\n",
      "Try using .loc[row_indexer,col_indexer] = value instead\n",
      "\n",
      "See the caveats in the documentation: https://pandas.pydata.org/pandas-docs/stable/user_guide/indexing.html#returning-a-view-versus-a-copy\n",
      "  self[k1] = value[k2]\n",
      "/tmp/ipykernel_230/1430665140.py:15: SettingWithCopyWarning: \n",
      "A value is trying to be set on a copy of a slice from a DataFrame.\n",
      "Try using .loc[row_indexer,col_indexer] = value instead\n",
      "\n",
      "See the caveats in the documentation: https://pandas.pydata.org/pandas-docs/stable/user_guide/indexing.html#returning-a-view-versus-a-copy\n",
      "  features_train_ohe[numeric] = scaler.transform(features_train_ohe[numeric])\n",
      "/opt/conda/lib/python3.9/site-packages/pandas/core/indexing.py:1738: SettingWithCopyWarning: \n",
      "A value is trying to be set on a copy of a slice from a DataFrame.\n",
      "Try using .loc[row_indexer,col_indexer] = value instead\n",
      "\n",
      "See the caveats in the documentation: https://pandas.pydata.org/pandas-docs/stable/user_guide/indexing.html#returning-a-view-versus-a-copy\n",
      "  self._setitem_single_column(loc, value[:, i].tolist(), pi)\n",
      "/tmp/ipykernel_230/1430665140.py:16: SettingWithCopyWarning: \n",
      "A value is trying to be set on a copy of a slice from a DataFrame.\n",
      "Try using .loc[row_indexer,col_indexer] = value instead\n",
      "\n",
      "See the caveats in the documentation: https://pandas.pydata.org/pandas-docs/stable/user_guide/indexing.html#returning-a-view-versus-a-copy\n",
      "  features_valid_ohe[numeric] = scaler.transform(features_valid_ohe[numeric])\n",
      "/opt/conda/lib/python3.9/site-packages/pandas/core/indexing.py:1738: SettingWithCopyWarning: \n",
      "A value is trying to be set on a copy of a slice from a DataFrame.\n",
      "Try using .loc[row_indexer,col_indexer] = value instead\n",
      "\n",
      "See the caveats in the documentation: https://pandas.pydata.org/pandas-docs/stable/user_guide/indexing.html#returning-a-view-versus-a-copy\n",
      "  self._setitem_single_column(loc, value[:, i].tolist(), pi)\n",
      "/tmp/ipykernel_230/1430665140.py:17: SettingWithCopyWarning: \n",
      "A value is trying to be set on a copy of a slice from a DataFrame.\n",
      "Try using .loc[row_indexer,col_indexer] = value instead\n",
      "\n",
      "See the caveats in the documentation: https://pandas.pydata.org/pandas-docs/stable/user_guide/indexing.html#returning-a-view-versus-a-copy\n",
      "  features_test_ohe[numeric] = scaler.transform(features_test_ohe[numeric])\n",
      "/opt/conda/lib/python3.9/site-packages/pandas/core/indexing.py:1738: SettingWithCopyWarning: \n",
      "A value is trying to be set on a copy of a slice from a DataFrame.\n",
      "Try using .loc[row_indexer,col_indexer] = value instead\n",
      "\n",
      "See the caveats in the documentation: https://pandas.pydata.org/pandas-docs/stable/user_guide/indexing.html#returning-a-view-versus-a-copy\n",
      "  self._setitem_single_column(loc, value[:, i].tolist(), pi)\n"
     ]
    }
   ],
   "source": [
    "#кодировка категориальных признаков методом OHE\n",
    "\n",
    "features_train_ohe = features_train\n",
    "features_valid_ohe = features_valid\n",
    "features_test_ohe = features_test\n",
    "\n",
    "features_train_ohe[category] = pd.get_dummies(features_train_ohe[category], drop_first=True)\n",
    "features_valid_ohe[category] = pd.get_dummies(features_valid_ohe[category], drop_first=True)\n",
    "features_test_ohe[category] = pd.get_dummies(features_test_ohe[category], drop_first=True)\n",
    "\n",
    "#масштабирование количественных признаков\n",
    "scaler = StandardScaler()\n",
    "scaler.fit(features_train_ohe[numeric])\n",
    "\n",
    "features_train_ohe[numeric] = scaler.transform(features_train_ohe[numeric])\n",
    "features_valid_ohe[numeric] = scaler.transform(features_valid_ohe[numeric])\n",
    "features_test_ohe[numeric] = scaler.transform(features_test_ohe[numeric])"
   ]
  },
  {
   "cell_type": "code",
   "execution_count": 34,
   "metadata": {},
   "outputs": [
    {
     "name": "stdout",
     "output_type": "stream",
     "text": [
      "CPU times: user 44.1 ms, sys: 20.2 ms, total: 64.3 ms\n",
      "Wall time: 64.8 ms\n"
     ]
    },
    {
     "data": {
      "text/plain": [
       "LinearRegression()"
      ]
     },
     "execution_count": 34,
     "metadata": {},
     "output_type": "execute_result"
    }
   ],
   "source": [
    "%%time\n",
    "\n",
    "model = LinearRegression()\n",
    "model.fit(features_train_ohe, target_train)"
   ]
  },
  {
   "cell_type": "code",
   "execution_count": 35,
   "metadata": {},
   "outputs": [
    {
     "name": "stdout",
     "output_type": "stream",
     "text": [
      "RMSE: 2977\n",
      "CPU times: user 27.4 ms, sys: 51.8 ms, total: 79.1 ms\n",
      "Wall time: 92.2 ms\n"
     ]
    }
   ],
   "source": [
    "%%time\n",
    "\n",
    "predictions_valid = model.predict(features_valid_ohe)\n",
    "rmse_linear = mean_squared_error(target_valid, predictions_valid) ** 0.5\n",
    "\n",
    "pd.options.mode.chained_assignment = None\n",
    "\n",
    "print('RMSE:', round(rmse_linear))"
   ]
  },
  {
   "cell_type": "markdown",
   "metadata": {},
   "source": [
    "## Анализ моделей"
   ]
  },
  {
   "cell_type": "code",
   "execution_count": 36,
   "metadata": {},
   "outputs": [
    {
     "data": {
      "text/html": [
       "<div>\n",
       "<style scoped>\n",
       "    .dataframe tbody tr th:only-of-type {\n",
       "        vertical-align: middle;\n",
       "    }\n",
       "\n",
       "    .dataframe tbody tr th {\n",
       "        vertical-align: top;\n",
       "    }\n",
       "\n",
       "    .dataframe thead th {\n",
       "        text-align: right;\n",
       "    }\n",
       "</style>\n",
       "<table border=\"1\" class=\"dataframe\">\n",
       "  <thead>\n",
       "    <tr style=\"text-align: right;\">\n",
       "      <th></th>\n",
       "      <th>model</th>\n",
       "      <th>RMSE</th>\n",
       "      <th>learning time, ms</th>\n",
       "      <th>prediction time, ms</th>\n",
       "    </tr>\n",
       "  </thead>\n",
       "  <tbody>\n",
       "    <tr>\n",
       "      <th>0</th>\n",
       "      <td>DecisionTree</td>\n",
       "      <td>1949</td>\n",
       "      <td>375</td>\n",
       "      <td>9.16</td>\n",
       "    </tr>\n",
       "    <tr>\n",
       "      <th>1</th>\n",
       "      <td>RandomForest</td>\n",
       "      <td>1833</td>\n",
       "      <td>12400</td>\n",
       "      <td>255.00</td>\n",
       "    </tr>\n",
       "    <tr>\n",
       "      <th>2</th>\n",
       "      <td>LinearRegression</td>\n",
       "      <td>2977</td>\n",
       "      <td>33</td>\n",
       "      <td>6.57</td>\n",
       "    </tr>\n",
       "    <tr>\n",
       "      <th>3</th>\n",
       "      <td>CatBoost</td>\n",
       "      <td>1594</td>\n",
       "      <td>5290</td>\n",
       "      <td>17.70</td>\n",
       "    </tr>\n",
       "    <tr>\n",
       "      <th>4</th>\n",
       "      <td>LightGBM</td>\n",
       "      <td>1653</td>\n",
       "      <td>3640</td>\n",
       "      <td>504.00</td>\n",
       "    </tr>\n",
       "  </tbody>\n",
       "</table>\n",
       "</div>"
      ],
      "text/plain": [
       "              model  RMSE  learning time, ms  prediction time, ms\n",
       "0      DecisionTree  1949                375                 9.16\n",
       "1      RandomForest  1833              12400               255.00\n",
       "2  LinearRegression  2977                 33                 6.57\n",
       "3          CatBoost  1594               5290                17.70\n",
       "4          LightGBM  1653               3640               504.00"
      ]
     },
     "metadata": {},
     "output_type": "display_data"
    }
   ],
   "source": [
    "models_comp = pd.DataFrame({'model': ['DecisionTree', 'RandomForest', 'LinearRegression', 'CatBoost', 'LightGBM'],\n",
    "              'RMSE': [round(rmse_tree), round(rmse_forest), round(rmse_linear), round(rmse_cat), round(rmse_lgbm)],\n",
    "              'learning time, ms': [375, 12400, 64.8, 5290, 3640],\n",
    "              'prediction time, ms': [9.16, 255, 92.2, 17.7, 504]})\n",
    "display(models_comp)"
   ]
  },
  {
   "cell_type": "code",
   "execution_count": 37,
   "metadata": {},
   "outputs": [
    {
     "name": "stderr",
     "output_type": "stream",
     "text": [
      "/opt/conda/lib/python3.9/site-packages/seaborn/_decorators.py:36: FutureWarning: Pass the following variables as keyword args: x, y. From version 0.12, the only valid positional argument will be `data`, and passing other arguments without an explicit keyword will result in an error or misinterpretation.\n",
      "  warnings.warn(\n"
     ]
    },
    {
     "data": {
      "image/png": "[encoded data removed]",
      "text/plain": [
       "<Figure size 432x288 with 1 Axes>"
      ]
     },
     "metadata": {
      "needs_background": "light"
     },
     "output_type": "display_data"
    }
   ],
   "source": [
    "sns.barplot(models_comp['model'], models_comp['RMSE']);"
   ]
  },
  {
   "cell_type": "code",
   "execution_count": 38,
   "metadata": {},
   "outputs": [
    {
     "name": "stderr",
     "output_type": "stream",
     "text": [
      "/opt/conda/lib/python3.9/site-packages/seaborn/_decorators.py:36: FutureWarning: Pass the following variables as keyword args: x, y. From version 0.12, the only valid positional argument will be `data`, and passing other arguments without an explicit keyword will result in an error or misinterpretation.\n",
      "  warnings.warn(\n"
     ]
    },
    {
     "data": {
      "image/png": "[encoded data removed]",
      "text/plain": [
       "<Figure size 432x288 with 1 Axes>"
      ]
     },
     "metadata": {
      "needs_background": "light"
     },
     "output_type": "display_data"
    }
   ],
   "source": [
    "sns.barplot(models_comp['model'], models_comp['learning time, ms']);"
   ]
  },
  {
   "cell_type": "code",
   "execution_count": 39,
   "metadata": {},
   "outputs": [
    {
     "name": "stderr",
     "output_type": "stream",
     "text": [
      "/opt/conda/lib/python3.9/site-packages/seaborn/_decorators.py:36: FutureWarning: Pass the following variables as keyword args: x, y. From version 0.12, the only valid positional argument will be `data`, and passing other arguments without an explicit keyword will result in an error or misinterpretation.\n",
      "  warnings.warn(\n"
     ]
    },
    {
     "data": {
      "image/png": "[encoded data removed]",
      "text/plain": [
       "<Figure size 432x288 with 1 Axes>"
      ]
     },
     "metadata": {
      "needs_background": "light"
     },
     "output_type": "display_data"
    }
   ],
   "source": [
    "sns.barplot(models_comp['model'], models_comp['prediction time, ms']);"
   ]
  },
  {
   "cell_type": "markdown",
   "metadata": {},
   "source": [
    "### Тест лучшей модели"
   ]
  },
  {
   "cell_type": "code",
   "execution_count": 40,
   "metadata": {
    "scrolled": true
   },
   "outputs": [
    {
     "name": "stdout",
     "output_type": "stream",
     "text": [
      "Learning rate set to 0.5\n",
      "0:\tlearn: 3212.8238411\ttotal: 27.9ms\tremaining: 1.65s\n",
      "1:\tlearn: 2601.3877847\ttotal: 50.5ms\tremaining: 1.47s\n",
      "2:\tlearn: 2324.1465278\ttotal: 71.9ms\tremaining: 1.36s\n",
      "3:\tlearn: 2201.0366907\ttotal: 92.7ms\tremaining: 1.3s\n",
      "4:\tlearn: 2103.5467470\ttotal: 114ms\tremaining: 1.25s\n",
      "5:\tlearn: 2047.7621717\ttotal: 136ms\tremaining: 1.22s\n",
      "6:\tlearn: 2015.9388704\ttotal: 158ms\tremaining: 1.2s\n",
      "7:\tlearn: 1967.0594556\ttotal: 183ms\tremaining: 1.19s\n",
      "8:\tlearn: 1929.3958206\ttotal: 205ms\tremaining: 1.16s\n",
      "9:\tlearn: 1911.6441097\ttotal: 227ms\tremaining: 1.14s\n",
      "10:\tlearn: 1893.7382097\ttotal: 248ms\tremaining: 1.1s\n",
      "11:\tlearn: 1871.9421599\ttotal: 271ms\tremaining: 1.08s\n",
      "12:\tlearn: 1861.1916222\ttotal: 293ms\tremaining: 1.06s\n",
      "13:\tlearn: 1849.2391089\ttotal: 314ms\tremaining: 1.03s\n",
      "14:\tlearn: 1837.7595973\ttotal: 337ms\tremaining: 1.01s\n",
      "15:\tlearn: 1821.2593777\ttotal: 360ms\tremaining: 990ms\n",
      "16:\tlearn: 1811.1054876\ttotal: 383ms\tremaining: 969ms\n",
      "17:\tlearn: 1806.2419079\ttotal: 403ms\tremaining: 941ms\n",
      "18:\tlearn: 1796.3536200\ttotal: 427ms\tremaining: 921ms\n",
      "19:\tlearn: 1789.1485557\ttotal: 450ms\tremaining: 900ms\n",
      "20:\tlearn: 1784.7189974\ttotal: 473ms\tremaining: 878ms\n",
      "21:\tlearn: 1775.1167510\ttotal: 495ms\tremaining: 856ms\n",
      "22:\tlearn: 1770.1772781\ttotal: 517ms\tremaining: 832ms\n",
      "23:\tlearn: 1765.3524488\ttotal: 539ms\tremaining: 809ms\n",
      "24:\tlearn: 1760.1654111\ttotal: 561ms\tremaining: 786ms\n",
      "25:\tlearn: 1756.1509937\ttotal: 583ms\tremaining: 762ms\n",
      "26:\tlearn: 1748.5392775\ttotal: 605ms\tremaining: 739ms\n",
      "27:\tlearn: 1742.9431075\ttotal: 627ms\tremaining: 717ms\n",
      "28:\tlearn: 1739.3237375\ttotal: 651ms\tremaining: 696ms\n",
      "29:\tlearn: 1734.0718800\ttotal: 672ms\tremaining: 672ms\n",
      "30:\tlearn: 1730.0898636\ttotal: 695ms\tremaining: 650ms\n",
      "31:\tlearn: 1723.9810241\ttotal: 719ms\tremaining: 629ms\n",
      "32:\tlearn: 1720.9404470\ttotal: 740ms\tremaining: 605ms\n",
      "33:\tlearn: 1717.9788852\ttotal: 761ms\tremaining: 582ms\n",
      "34:\tlearn: 1714.5646854\ttotal: 782ms\tremaining: 558ms\n",
      "35:\tlearn: 1710.1684784\ttotal: 805ms\tremaining: 537ms\n",
      "36:\tlearn: 1706.8015780\ttotal: 827ms\tremaining: 514ms\n",
      "37:\tlearn: 1702.0183700\ttotal: 853ms\tremaining: 494ms\n",
      "38:\tlearn: 1699.1813161\ttotal: 874ms\tremaining: 471ms\n",
      "39:\tlearn: 1695.5136417\ttotal: 897ms\tremaining: 448ms\n",
      "40:\tlearn: 1691.9441404\ttotal: 919ms\tremaining: 426ms\n",
      "41:\tlearn: 1686.4402209\ttotal: 950ms\tremaining: 407ms\n",
      "42:\tlearn: 1683.4793554\ttotal: 977ms\tremaining: 386ms\n",
      "43:\tlearn: 1682.1623186\ttotal: 998ms\tremaining: 363ms\n",
      "44:\tlearn: 1679.5691157\ttotal: 1.02s\tremaining: 340ms\n",
      "45:\tlearn: 1677.2184668\ttotal: 1.04s\tremaining: 317ms\n",
      "46:\tlearn: 1675.3206582\ttotal: 1.07s\tremaining: 295ms\n",
      "47:\tlearn: 1673.0279380\ttotal: 1.09s\tremaining: 272ms\n",
      "48:\tlearn: 1670.2336736\ttotal: 1.11s\tremaining: 250ms\n",
      "49:\tlearn: 1668.4030278\ttotal: 1.14s\tremaining: 227ms\n",
      "50:\tlearn: 1664.8543064\ttotal: 1.16s\tremaining: 204ms\n",
      "51:\tlearn: 1662.8681199\ttotal: 1.18s\tremaining: 182ms\n",
      "52:\tlearn: 1661.2703232\ttotal: 1.2s\tremaining: 159ms\n",
      "53:\tlearn: 1659.6223620\ttotal: 1.22s\tremaining: 136ms\n",
      "54:\tlearn: 1658.6879075\ttotal: 1.24s\tremaining: 113ms\n",
      "55:\tlearn: 1655.3011577\ttotal: 1.26s\tremaining: 90.3ms\n",
      "56:\tlearn: 1653.3579410\ttotal: 1.29s\tremaining: 67.8ms\n",
      "57:\tlearn: 1651.8794329\ttotal: 1.31s\tremaining: 45.1ms\n",
      "58:\tlearn: 1648.6888596\ttotal: 1.33s\tremaining: 22.6ms\n",
      "59:\tlearn: 1647.4619496\ttotal: 1.35s\tremaining: 0us\n",
      "RMSE: 1709\n"
     ]
    }
   ],
   "source": [
    "model = CatBoostRegressor(iterations=60)\n",
    "model.fit(features_train_ordinal, target_train)\n",
    "predictions_test = model.predict(features_test_ordinal)\n",
    "result = mean_squared_error(target_test, predictions_test) ** 0.5\n",
    "\n",
    "print('RMSE:', round(result))"
   ]
  },
  {
   "cell_type": "markdown",
   "metadata": {},
   "source": [
    "## Вывод"
   ]
  },
  {
   "cell_type": "markdown",
   "metadata": {},
   "source": [
    "После предобработки данных было протестировано 5 моделей машинного обучения:\n",
    "- DecisionTree\n",
    "- RandomForest\n",
    "- LinearRegression\n",
    "- CatBoost\n",
    "- LightGBM\n",
    "\n",
    "В данной конкретной задаче у моделей градиентного бустинга наилучшие показатели метрики качества RMSE, лидирует CatBoost, с небольшим отрывом от нее отстает LightGBM. По времени обучения лидируют простые модели - случайный лес и линейная регрессия, самая медленная модель случайного леса. \n",
    "\n",
    "Более простые модели хотя и работают достаточно быстро, но результат дают значительно хуже, чем модели, построенные на градиентном бустинге.\n",
    "\n",
    "Наименее предпочтительной выглядит модель линейной регрессии - она хотя и работает быстрее других, выдает наименьший результат метрики качества. К тому же, для работы модели необходима дополнительная работа по кодированию и масштабированию признаков, что усложняет пользование ею.\n",
    "\n",
    "С учетом лучшего значения метрики и одного из лучших времен обучения / предсказания рекомендую использовать в этой задаче модель CatBoost. Немаловажно, что для этой модели нет необходимости кодировать категориальные признаки, что упрощает работу с моделью."
   ]
  }
 ],
 "metadata": {
  "ExecuteTimeLog": [
   {
    "duration": 349,
    "start_time": "2022-10-26T09:44:11.436Z"
   },
   {
    "duration": 2839,
    "start_time": "2022-10-26T09:44:13.782Z"
   },
   {
    "duration": 860,
    "start_time": "2022-10-26T09:44:39.764Z"
   },
   {
    "duration": 17,
    "start_time": "2022-10-26T09:45:12.384Z"
   },
   {
    "duration": 951,
    "start_time": "2022-10-26T09:47:07.335Z"
   },
   {
    "duration": 15,
    "start_time": "2022-10-26T09:47:15.968Z"
   },
   {
    "duration": 91,
    "start_time": "2022-10-26T09:47:27.194Z"
   },
   {
    "duration": 1292,
    "start_time": "2022-10-26T13:49:31.030Z"
   },
   {
    "duration": 1261,
    "start_time": "2022-10-26T13:49:33.250Z"
   },
   {
    "duration": 15,
    "start_time": "2022-10-26T13:49:38.059Z"
   },
   {
    "duration": 3,
    "start_time": "2022-10-26T13:57:34.141Z"
   },
   {
    "duration": 96,
    "start_time": "2022-10-26T13:57:41.381Z"
   },
   {
    "duration": 9,
    "start_time": "2022-10-26T13:57:48.250Z"
   },
   {
    "duration": 9,
    "start_time": "2022-10-26T13:58:36.242Z"
   },
   {
    "duration": 8,
    "start_time": "2022-10-26T13:58:53.300Z"
   },
   {
    "duration": 11,
    "start_time": "2022-10-26T13:59:23.812Z"
   },
   {
    "duration": 9,
    "start_time": "2022-10-26T14:00:08.368Z"
   },
   {
    "duration": 8,
    "start_time": "2022-10-26T14:00:14.038Z"
   },
   {
    "duration": 1046,
    "start_time": "2022-10-26T14:00:26.185Z"
   },
   {
    "duration": 912,
    "start_time": "2022-10-26T14:00:27.233Z"
   },
   {
    "duration": 16,
    "start_time": "2022-10-26T14:00:28.146Z"
   },
   {
    "duration": 101,
    "start_time": "2022-10-26T14:00:28.164Z"
   },
   {
    "duration": 204,
    "start_time": "2022-10-26T14:00:28.266Z"
   },
   {
    "duration": 185,
    "start_time": "2022-10-26T14:00:40.368Z"
   },
   {
    "duration": 65,
    "start_time": "2022-10-26T14:02:20.436Z"
   },
   {
    "duration": 120,
    "start_time": "2022-10-26T14:02:31.641Z"
   },
   {
    "duration": 145,
    "start_time": "2022-10-26T14:03:46.550Z"
   },
   {
    "duration": 81,
    "start_time": "2022-10-26T14:04:01.418Z"
   },
   {
    "duration": 103,
    "start_time": "2022-10-26T14:04:52.436Z"
   },
   {
    "duration": 82,
    "start_time": "2022-10-26T14:07:16.800Z"
   },
   {
    "duration": 94,
    "start_time": "2022-10-26T14:07:34.093Z"
   },
   {
    "duration": 12,
    "start_time": "2022-10-26T14:13:31.775Z"
   },
   {
    "duration": 4,
    "start_time": "2022-10-26T14:13:42.287Z"
   },
   {
    "duration": 11,
    "start_time": "2022-10-26T14:15:44.020Z"
   },
   {
    "duration": 4,
    "start_time": "2022-10-26T14:16:08.592Z"
   },
   {
    "duration": 91,
    "start_time": "2022-10-26T14:17:48.899Z"
   },
   {
    "duration": 165,
    "start_time": "2022-10-26T14:19:27.503Z"
   },
   {
    "duration": 151,
    "start_time": "2022-10-26T14:19:37.094Z"
   },
   {
    "duration": 21,
    "start_time": "2022-10-26T14:26:47.049Z"
   },
   {
    "duration": 64,
    "start_time": "2022-10-26T14:26:51.412Z"
   },
   {
    "duration": 544,
    "start_time": "2022-10-26T14:27:18.911Z"
   },
   {
    "duration": 658,
    "start_time": "2022-10-26T14:27:47.972Z"
   },
   {
    "duration": 718,
    "start_time": "2022-10-26T14:28:03.337Z"
   },
   {
    "duration": 123,
    "start_time": "2022-10-26T14:29:28.714Z"
   },
   {
    "duration": 223,
    "start_time": "2022-10-26T14:31:52.295Z"
   },
   {
    "duration": 213,
    "start_time": "2022-10-26T14:32:34.833Z"
   },
   {
    "duration": 11,
    "start_time": "2022-10-26T14:33:07.256Z"
   },
   {
    "duration": 25,
    "start_time": "2022-10-26T14:33:44.914Z"
   },
   {
    "duration": 47,
    "start_time": "2022-10-26T14:35:16.984Z"
   },
   {
    "duration": 105,
    "start_time": "2022-10-26T14:35:19.254Z"
   },
   {
    "duration": 236,
    "start_time": "2022-10-26T14:37:07.772Z"
   },
   {
    "duration": 228,
    "start_time": "2022-10-26T14:37:11.812Z"
   },
   {
    "duration": 20,
    "start_time": "2022-10-26T14:37:37.591Z"
   },
   {
    "duration": 380,
    "start_time": "2022-10-26T14:39:39.483Z"
   },
   {
    "duration": 38,
    "start_time": "2022-10-26T14:39:50.275Z"
   },
   {
    "duration": 54,
    "start_time": "2022-10-26T14:40:59.594Z"
   },
   {
    "duration": 72,
    "start_time": "2022-10-26T14:41:15.604Z"
   },
   {
    "duration": 250,
    "start_time": "2022-10-26T14:41:20.812Z"
   },
   {
    "duration": 272,
    "start_time": "2022-10-26T14:41:27.356Z"
   },
   {
    "duration": 367,
    "start_time": "2022-10-26T14:41:42.115Z"
   },
   {
    "duration": 30,
    "start_time": "2022-10-26T14:42:09.261Z"
   },
   {
    "duration": 71,
    "start_time": "2022-10-26T14:44:08.585Z"
   },
   {
    "duration": 110,
    "start_time": "2022-10-26T14:44:17.685Z"
   },
   {
    "duration": 230,
    "start_time": "2022-10-26T14:55:54.310Z"
   },
   {
    "duration": 398,
    "start_time": "2022-10-26T14:55:58.080Z"
   },
   {
    "duration": 133,
    "start_time": "2022-10-26T14:56:19.129Z"
   },
   {
    "duration": 139,
    "start_time": "2022-10-26T14:56:22.732Z"
   },
   {
    "duration": 26,
    "start_time": "2022-10-26T15:04:25.493Z"
   },
   {
    "duration": 26,
    "start_time": "2022-10-26T15:05:10.432Z"
   },
   {
    "duration": 24,
    "start_time": "2022-10-26T15:05:15.481Z"
   },
   {
    "duration": 24,
    "start_time": "2022-10-26T15:07:36.159Z"
   },
   {
    "duration": 36,
    "start_time": "2022-10-26T15:09:45.006Z"
   },
   {
    "duration": 128,
    "start_time": "2022-10-26T15:09:48.837Z"
   },
   {
    "duration": 154,
    "start_time": "2022-10-26T15:10:38.334Z"
   },
   {
    "duration": 690,
    "start_time": "2022-10-26T15:11:39.077Z"
   },
   {
    "duration": 683,
    "start_time": "2022-10-26T15:11:49.052Z"
   },
   {
    "duration": 1298,
    "start_time": "2022-10-27T11:33:24.539Z"
   },
   {
    "duration": 1182,
    "start_time": "2022-10-27T11:33:25.839Z"
   },
   {
    "duration": 17,
    "start_time": "2022-10-27T11:33:27.022Z"
   },
   {
    "duration": 69,
    "start_time": "2022-10-27T11:33:27.040Z"
   },
   {
    "duration": 689,
    "start_time": "2022-10-27T11:33:27.111Z"
   },
   {
    "duration": 99,
    "start_time": "2022-10-27T11:33:27.801Z"
   },
   {
    "duration": 76,
    "start_time": "2022-10-27T11:33:27.902Z"
   },
   {
    "duration": 236,
    "start_time": "2022-10-27T11:33:27.980Z"
   },
   {
    "duration": 21,
    "start_time": "2022-10-27T11:33:28.218Z"
   },
   {
    "duration": 40,
    "start_time": "2022-10-27T11:33:28.240Z"
   },
   {
    "duration": 346,
    "start_time": "2022-10-27T11:33:28.301Z"
   },
   {
    "duration": 29,
    "start_time": "2022-10-27T11:33:28.648Z"
   },
   {
    "duration": 83,
    "start_time": "2022-10-27T11:33:28.678Z"
   },
   {
    "duration": 37,
    "start_time": "2022-10-27T11:33:28.764Z"
   },
   {
    "duration": 32,
    "start_time": "2022-10-27T11:33:28.802Z"
   },
   {
    "duration": 754,
    "start_time": "2022-10-27T11:33:28.836Z"
   },
   {
    "duration": 87,
    "start_time": "2022-10-27T11:33:29.591Z"
   },
   {
    "duration": 189,
    "start_time": "2022-10-27T11:36:17.790Z"
   },
   {
    "duration": 7,
    "start_time": "2022-10-27T11:50:35.143Z"
   },
   {
    "duration": 1296,
    "start_time": "2022-10-27T11:50:52.096Z"
   },
   {
    "duration": 855,
    "start_time": "2022-10-27T11:50:53.393Z"
   },
   {
    "duration": 15,
    "start_time": "2022-10-27T11:50:54.249Z"
   },
   {
    "duration": 64,
    "start_time": "2022-10-27T11:50:54.266Z"
   },
   {
    "duration": 624,
    "start_time": "2022-10-27T11:50:54.332Z"
   },
   {
    "duration": 112,
    "start_time": "2022-10-27T11:50:54.958Z"
   },
   {
    "duration": 79,
    "start_time": "2022-10-27T11:50:55.072Z"
   },
   {
    "duration": 211,
    "start_time": "2022-10-27T11:50:55.152Z"
   },
   {
    "duration": 20,
    "start_time": "2022-10-27T11:50:55.365Z"
   },
   {
    "duration": 7,
    "start_time": "2022-10-27T11:50:55.400Z"
   },
   {
    "duration": 41,
    "start_time": "2022-10-27T11:50:55.408Z"
   },
   {
    "duration": 407,
    "start_time": "2022-10-27T11:50:55.451Z"
   },
   {
    "duration": 23,
    "start_time": "2022-10-27T11:50:55.859Z"
   },
   {
    "duration": 70,
    "start_time": "2022-10-27T11:50:55.884Z"
   },
   {
    "duration": 22,
    "start_time": "2022-10-27T11:50:55.956Z"
   },
   {
    "duration": 49,
    "start_time": "2022-10-27T11:50:55.979Z"
   },
   {
    "duration": 650,
    "start_time": "2022-10-27T11:50:56.029Z"
   },
   {
    "duration": 90,
    "start_time": "2022-10-27T11:50:56.680Z"
   },
   {
    "duration": 43,
    "start_time": "2022-10-27T11:56:33.850Z"
   },
   {
    "duration": 92,
    "start_time": "2022-10-27T11:57:03.543Z"
   },
   {
    "duration": 74,
    "start_time": "2022-10-27T11:57:17.417Z"
   },
   {
    "duration": 71,
    "start_time": "2022-10-27T11:57:21.862Z"
   },
   {
    "duration": 0,
    "start_time": "2022-10-27T12:00:21.454Z"
   },
   {
    "duration": 18,
    "start_time": "2022-10-27T12:15:27.570Z"
   },
   {
    "duration": 8254,
    "start_time": "2022-10-27T12:15:33.716Z"
   },
   {
    "duration": 80,
    "start_time": "2022-10-27T12:16:46.096Z"
   },
   {
    "duration": 64,
    "start_time": "2022-10-27T12:16:47.816Z"
   },
   {
    "duration": 98,
    "start_time": "2022-10-27T12:34:13.504Z"
   },
   {
    "duration": 42,
    "start_time": "2022-10-27T12:37:34.489Z"
   },
   {
    "duration": 116,
    "start_time": "2022-10-27T12:40:57.570Z"
   },
   {
    "duration": 1323,
    "start_time": "2022-10-27T12:44:35.577Z"
   },
   {
    "duration": 857,
    "start_time": "2022-10-27T12:44:36.902Z"
   },
   {
    "duration": 15,
    "start_time": "2022-10-27T12:44:37.761Z"
   },
   {
    "duration": 59,
    "start_time": "2022-10-27T12:44:37.778Z"
   },
   {
    "duration": 662,
    "start_time": "2022-10-27T12:44:37.838Z"
   },
   {
    "duration": 109,
    "start_time": "2022-10-27T12:44:38.502Z"
   },
   {
    "duration": 91,
    "start_time": "2022-10-27T12:44:38.612Z"
   },
   {
    "duration": 291,
    "start_time": "2022-10-27T12:44:38.705Z"
   },
   {
    "duration": 22,
    "start_time": "2022-10-27T12:44:38.998Z"
   },
   {
    "duration": 8,
    "start_time": "2022-10-27T12:44:39.024Z"
   },
   {
    "duration": 66,
    "start_time": "2022-10-27T12:44:39.034Z"
   },
   {
    "duration": 373,
    "start_time": "2022-10-27T12:44:39.102Z"
   },
   {
    "duration": 30,
    "start_time": "2022-10-27T12:44:39.477Z"
   },
   {
    "duration": 65,
    "start_time": "2022-10-27T12:44:39.509Z"
   },
   {
    "duration": 47,
    "start_time": "2022-10-27T12:44:39.576Z"
   },
   {
    "duration": 32,
    "start_time": "2022-10-27T12:44:39.624Z"
   },
   {
    "duration": 651,
    "start_time": "2022-10-27T12:44:39.658Z"
   },
   {
    "duration": 123,
    "start_time": "2022-10-27T12:44:40.310Z"
   },
   {
    "duration": 2,
    "start_time": "2022-10-27T12:44:40.435Z"
   },
   {
    "duration": 69,
    "start_time": "2022-10-27T12:44:40.438Z"
   },
   {
    "duration": 134,
    "start_time": "2022-10-27T12:44:40.509Z"
   },
   {
    "duration": 220,
    "start_time": "2022-10-27T12:44:40.644Z"
   },
   {
    "duration": 683,
    "start_time": "2022-10-27T12:56:44.427Z"
   },
   {
    "duration": 18,
    "start_time": "2022-10-27T12:57:17.339Z"
   },
   {
    "duration": 557,
    "start_time": "2022-10-27T12:57:58.765Z"
   },
   {
    "duration": 3675,
    "start_time": "2022-10-27T12:58:17.122Z"
   },
   {
    "duration": 2,
    "start_time": "2022-10-27T12:58:59.007Z"
   },
   {
    "duration": 1366,
    "start_time": "2022-10-27T13:00:43.673Z"
   },
   {
    "duration": 821,
    "start_time": "2022-10-27T13:00:45.041Z"
   },
   {
    "duration": 14,
    "start_time": "2022-10-27T13:00:45.864Z"
   },
   {
    "duration": 62,
    "start_time": "2022-10-27T13:00:45.880Z"
   },
   {
    "duration": 876,
    "start_time": "2022-10-27T13:00:45.944Z"
   },
   {
    "duration": 201,
    "start_time": "2022-10-27T13:00:46.821Z"
   },
   {
    "duration": 182,
    "start_time": "2022-10-27T13:00:47.023Z"
   },
   {
    "duration": 607,
    "start_time": "2022-10-27T13:00:47.206Z"
   },
   {
    "duration": 20,
    "start_time": "2022-10-27T13:00:47.814Z"
   },
   {
    "duration": 7,
    "start_time": "2022-10-27T13:00:47.836Z"
   },
   {
    "duration": 39,
    "start_time": "2022-10-27T13:00:47.900Z"
   },
   {
    "duration": 440,
    "start_time": "2022-10-27T13:00:47.940Z"
   },
   {
    "duration": 37,
    "start_time": "2022-10-27T13:00:48.381Z"
   },
   {
    "duration": 80,
    "start_time": "2022-10-27T13:00:48.420Z"
   },
   {
    "duration": 28,
    "start_time": "2022-10-27T13:00:48.502Z"
   },
   {
    "duration": 33,
    "start_time": "2022-10-27T13:00:48.532Z"
   },
   {
    "duration": 655,
    "start_time": "2022-10-27T13:00:48.567Z"
   },
   {
    "duration": 127,
    "start_time": "2022-10-27T13:00:49.224Z"
   },
   {
    "duration": 2,
    "start_time": "2022-10-27T13:00:49.353Z"
   },
   {
    "duration": 85,
    "start_time": "2022-10-27T13:00:49.357Z"
   },
   {
    "duration": 677,
    "start_time": "2022-10-27T13:00:49.444Z"
   },
   {
    "duration": 18,
    "start_time": "2022-10-27T13:00:50.124Z"
   },
   {
    "duration": 595,
    "start_time": "2022-10-27T13:00:50.144Z"
   },
   {
    "duration": 3649,
    "start_time": "2022-10-27T13:00:50.741Z"
   },
   {
    "duration": 3684,
    "start_time": "2022-10-27T13:03:01.200Z"
   },
   {
    "duration": 18117,
    "start_time": "2022-10-27T13:08:04.911Z"
   },
   {
    "duration": 60,
    "start_time": "2022-10-27T13:21:41.312Z"
   },
   {
    "duration": 18813,
    "start_time": "2022-10-27T13:24:45.614Z"
   },
   {
    "duration": 1351,
    "start_time": "2022-10-27T13:50:43.933Z"
   },
   {
    "duration": 871,
    "start_time": "2022-10-27T13:50:45.286Z"
   },
   {
    "duration": 16,
    "start_time": "2022-10-27T13:50:46.159Z"
   },
   {
    "duration": 67,
    "start_time": "2022-10-27T13:50:46.177Z"
   },
   {
    "duration": 718,
    "start_time": "2022-10-27T13:50:46.246Z"
   },
   {
    "duration": 116,
    "start_time": "2022-10-27T13:50:46.966Z"
   },
   {
    "duration": 89,
    "start_time": "2022-10-27T13:50:47.084Z"
   },
   {
    "duration": 337,
    "start_time": "2022-10-27T13:50:47.175Z"
   },
   {
    "duration": 21,
    "start_time": "2022-10-27T13:50:47.514Z"
   },
   {
    "duration": 7,
    "start_time": "2022-10-27T13:50:47.537Z"
   },
   {
    "duration": 66,
    "start_time": "2022-10-27T13:50:47.545Z"
   },
   {
    "duration": 368,
    "start_time": "2022-10-27T13:50:47.613Z"
   },
   {
    "duration": 44,
    "start_time": "2022-10-27T13:50:47.983Z"
   },
   {
    "duration": 81,
    "start_time": "2022-10-27T13:50:48.029Z"
   },
   {
    "duration": 26,
    "start_time": "2022-10-27T13:50:48.112Z"
   },
   {
    "duration": 33,
    "start_time": "2022-10-27T13:50:48.140Z"
   },
   {
    "duration": 671,
    "start_time": "2022-10-27T13:50:48.175Z"
   },
   {
    "duration": 113,
    "start_time": "2022-10-27T13:50:48.848Z"
   },
   {
    "duration": 3,
    "start_time": "2022-10-27T13:50:48.962Z"
   },
   {
    "duration": 85,
    "start_time": "2022-10-27T13:50:48.966Z"
   },
   {
    "duration": 662,
    "start_time": "2022-10-27T13:50:49.053Z"
   },
   {
    "duration": 16,
    "start_time": "2022-10-27T13:50:49.717Z"
   },
   {
    "duration": 596,
    "start_time": "2022-10-27T13:50:49.735Z"
   },
   {
    "duration": 19197,
    "start_time": "2022-10-27T13:50:50.332Z"
   },
   {
    "duration": 117348,
    "start_time": "2022-10-27T13:51:09.531Z"
   },
   {
    "duration": 2679,
    "start_time": "2022-10-27T14:06:26.794Z"
   },
   {
    "duration": 4002,
    "start_time": "2022-10-27T14:08:57.835Z"
   },
   {
    "duration": 6769,
    "start_time": "2022-10-27T14:10:23.818Z"
   },
   {
    "duration": 13668,
    "start_time": "2022-10-27T14:10:55.058Z"
   },
   {
    "duration": 6869,
    "start_time": "2022-10-27T14:19:42.737Z"
   },
   {
    "duration": 6854,
    "start_time": "2022-10-27T14:19:58.249Z"
   },
   {
    "duration": 15009,
    "start_time": "2022-10-27T14:29:06.096Z"
   },
   {
    "duration": 4,
    "start_time": "2022-10-27T14:30:27.075Z"
   },
   {
    "duration": 14287,
    "start_time": "2022-10-27T14:37:56.226Z"
   },
   {
    "duration": 14870,
    "start_time": "2022-10-27T14:38:33.335Z"
   },
   {
    "duration": 1323,
    "start_time": "2022-10-27T14:39:03.381Z"
   },
   {
    "duration": 852,
    "start_time": "2022-10-27T14:39:04.706Z"
   },
   {
    "duration": 15,
    "start_time": "2022-10-27T14:39:05.559Z"
   },
   {
    "duration": 62,
    "start_time": "2022-10-27T14:39:05.575Z"
   },
   {
    "duration": 659,
    "start_time": "2022-10-27T14:39:05.638Z"
   },
   {
    "duration": 103,
    "start_time": "2022-10-27T14:39:06.299Z"
   },
   {
    "duration": 76,
    "start_time": "2022-10-27T14:39:06.403Z"
   },
   {
    "duration": 299,
    "start_time": "2022-10-27T14:39:06.481Z"
   },
   {
    "duration": 27,
    "start_time": "2022-10-27T14:39:06.781Z"
   },
   {
    "duration": 6,
    "start_time": "2022-10-27T14:39:06.811Z"
   },
   {
    "duration": 37,
    "start_time": "2022-10-27T14:39:06.819Z"
   },
   {
    "duration": 387,
    "start_time": "2022-10-27T14:39:06.858Z"
   },
   {
    "duration": 23,
    "start_time": "2022-10-27T14:39:07.247Z"
   },
   {
    "duration": 80,
    "start_time": "2022-10-27T14:39:07.272Z"
   },
   {
    "duration": 24,
    "start_time": "2022-10-27T14:39:07.353Z"
   },
   {
    "duration": 49,
    "start_time": "2022-10-27T14:39:07.378Z"
   },
   {
    "duration": 619,
    "start_time": "2022-10-27T14:39:07.428Z"
   },
   {
    "duration": 116,
    "start_time": "2022-10-27T14:39:08.049Z"
   },
   {
    "duration": 2,
    "start_time": "2022-10-27T14:39:08.166Z"
   },
   {
    "duration": 77,
    "start_time": "2022-10-27T14:39:08.170Z"
   },
   {
    "duration": 654,
    "start_time": "2022-10-27T14:39:08.249Z"
   },
   {
    "duration": 16,
    "start_time": "2022-10-27T14:39:08.905Z"
   },
   {
    "duration": 592,
    "start_time": "2022-10-27T14:39:08.922Z"
   },
   {
    "duration": 18308,
    "start_time": "2022-10-27T14:39:09.516Z"
   },
   {
    "duration": 111704,
    "start_time": "2022-10-27T14:39:27.826Z"
   },
   {
    "duration": 6120,
    "start_time": "2022-10-27T14:41:19.531Z"
   },
   {
    "duration": 6574,
    "start_time": "2022-10-27T14:41:25.652Z"
   },
   {
    "duration": 14476,
    "start_time": "2022-10-27T14:41:32.229Z"
   },
   {
    "duration": 14656,
    "start_time": "2022-10-27T14:47:29.464Z"
   },
   {
    "duration": 9,
    "start_time": "2022-10-27T14:51:29.194Z"
   },
   {
    "duration": 9,
    "start_time": "2022-10-27T14:51:56.818Z"
   },
   {
    "duration": 944,
    "start_time": "2022-10-27T14:55:29.649Z"
   },
   {
    "duration": 23,
    "start_time": "2022-10-27T14:55:44.144Z"
   },
   {
    "duration": 116,
    "start_time": "2022-10-27T14:55:57.154Z"
   },
   {
    "duration": 120,
    "start_time": "2022-10-27T14:56:05.006Z"
   },
   {
    "duration": 232,
    "start_time": "2022-10-27T14:56:19.899Z"
   },
   {
    "duration": 111,
    "start_time": "2022-10-27T14:56:38.230Z"
   },
   {
    "duration": 111,
    "start_time": "2022-10-27T14:56:51.433Z"
   },
   {
    "duration": 6488,
    "start_time": "2022-10-27T15:04:40.488Z"
   },
   {
    "duration": 6338,
    "start_time": "2022-10-27T15:05:13.780Z"
   },
   {
    "duration": 13368,
    "start_time": "2022-10-27T15:05:33.090Z"
   },
   {
    "duration": 11159,
    "start_time": "2022-10-27T15:08:57.963Z"
   },
   {
    "duration": 0,
    "start_time": "2022-10-27T15:16:25.762Z"
   },
   {
    "duration": 72983,
    "start_time": "2022-10-27T15:16:42.912Z"
   },
   {
    "duration": 3053,
    "start_time": "2022-10-27T15:21:52.657Z"
   },
   {
    "duration": 40986,
    "start_time": "2022-10-27T15:22:52.424Z"
   },
   {
    "duration": 1317,
    "start_time": "2022-10-27T15:27:06.942Z"
   },
   {
    "duration": 854,
    "start_time": "2022-10-27T15:27:08.260Z"
   },
   {
    "duration": 15,
    "start_time": "2022-10-27T15:27:09.116Z"
   },
   {
    "duration": 59,
    "start_time": "2022-10-27T15:27:09.133Z"
   },
   {
    "duration": 685,
    "start_time": "2022-10-27T15:27:09.193Z"
   },
   {
    "duration": 104,
    "start_time": "2022-10-27T15:27:09.880Z"
   },
   {
    "duration": 80,
    "start_time": "2022-10-27T15:27:09.985Z"
   },
   {
    "duration": 297,
    "start_time": "2022-10-27T15:27:10.067Z"
   },
   {
    "duration": 20,
    "start_time": "2022-10-27T15:27:10.366Z"
   },
   {
    "duration": 21,
    "start_time": "2022-10-27T15:27:10.388Z"
   },
   {
    "duration": 39,
    "start_time": "2022-10-27T15:27:10.410Z"
   },
   {
    "duration": 337,
    "start_time": "2022-10-27T15:27:10.451Z"
   },
   {
    "duration": 34,
    "start_time": "2022-10-27T15:27:10.789Z"
   },
   {
    "duration": 85,
    "start_time": "2022-10-27T15:27:10.825Z"
   },
   {
    "duration": 25,
    "start_time": "2022-10-27T15:27:10.911Z"
   },
   {
    "duration": 43,
    "start_time": "2022-10-27T15:27:10.938Z"
   },
   {
    "duration": 747,
    "start_time": "2022-10-27T15:27:10.983Z"
   },
   {
    "duration": 137,
    "start_time": "2022-10-27T15:27:11.732Z"
   },
   {
    "duration": 3,
    "start_time": "2022-10-27T15:27:11.870Z"
   },
   {
    "duration": 80,
    "start_time": "2022-10-27T15:27:11.875Z"
   },
   {
    "duration": 651,
    "start_time": "2022-10-27T15:27:11.956Z"
   },
   {
    "duration": 20,
    "start_time": "2022-10-27T15:27:12.608Z"
   },
   {
    "duration": 590,
    "start_time": "2022-10-27T15:27:12.629Z"
   },
   {
    "duration": 19206,
    "start_time": "2022-10-27T15:27:13.221Z"
   },
   {
    "duration": 115555,
    "start_time": "2022-10-27T15:27:32.429Z"
   },
   {
    "duration": 6329,
    "start_time": "2022-10-27T15:29:27.985Z"
   },
   {
    "duration": 40206,
    "start_time": "2022-10-27T15:29:34.316Z"
   },
   {
    "duration": 26976,
    "start_time": "2022-10-27T15:30:14.524Z"
   },
   {
    "duration": 19,
    "start_time": "2022-10-27T15:30:41.502Z"
   },
   {
    "duration": 215,
    "start_time": "2022-10-27T15:30:41.523Z"
   },
   {
    "duration": 113,
    "start_time": "2022-10-27T15:30:41.739Z"
   },
   {
    "duration": 3109,
    "start_time": "2022-10-27T15:30:41.854Z"
   },
   {
    "duration": 1614,
    "start_time": "2022-10-27T19:30:30.621Z"
   },
   {
    "duration": 1222,
    "start_time": "2022-10-27T19:30:32.237Z"
   },
   {
    "duration": 15,
    "start_time": "2022-10-27T19:30:33.461Z"
   },
   {
    "duration": 59,
    "start_time": "2022-10-27T19:30:33.477Z"
   },
   {
    "duration": 711,
    "start_time": "2022-10-27T19:30:33.537Z"
   },
   {
    "duration": 102,
    "start_time": "2022-10-27T19:30:34.250Z"
   },
   {
    "duration": 96,
    "start_time": "2022-10-27T19:30:34.354Z"
   },
   {
    "duration": 272,
    "start_time": "2022-10-27T19:30:34.451Z"
   },
   {
    "duration": 21,
    "start_time": "2022-10-27T19:30:34.724Z"
   },
   {
    "duration": 14,
    "start_time": "2022-10-27T19:30:34.747Z"
   },
   {
    "duration": 68,
    "start_time": "2022-10-27T19:30:34.763Z"
   },
   {
    "duration": 327,
    "start_time": "2022-10-27T19:30:34.832Z"
   },
   {
    "duration": 29,
    "start_time": "2022-10-27T19:30:35.160Z"
   },
   {
    "duration": 122,
    "start_time": "2022-10-27T19:30:35.190Z"
   },
   {
    "duration": 23,
    "start_time": "2022-10-27T19:30:35.314Z"
   },
   {
    "duration": 96,
    "start_time": "2022-10-27T19:30:35.339Z"
   },
   {
    "duration": 1490,
    "start_time": "2022-10-27T19:30:35.437Z"
   },
   {
    "duration": 149,
    "start_time": "2022-10-27T19:30:36.929Z"
   },
   {
    "duration": 1783,
    "start_time": "2022-10-28T06:41:19.569Z"
   },
   {
    "duration": 3568,
    "start_time": "2022-10-28T06:41:21.354Z"
   },
   {
    "duration": 23,
    "start_time": "2022-10-28T06:41:24.924Z"
   },
   {
    "duration": 42,
    "start_time": "2022-10-28T06:41:24.949Z"
   },
   {
    "duration": 860,
    "start_time": "2022-10-28T06:41:24.993Z"
   },
   {
    "duration": 113,
    "start_time": "2022-10-28T06:41:25.855Z"
   },
   {
    "duration": 98,
    "start_time": "2022-10-28T06:41:25.970Z"
   },
   {
    "duration": 341,
    "start_time": "2022-10-28T06:41:26.069Z"
   },
   {
    "duration": 34,
    "start_time": "2022-10-28T06:41:26.411Z"
   },
   {
    "duration": 8,
    "start_time": "2022-10-28T06:41:26.447Z"
   },
   {
    "duration": 68,
    "start_time": "2022-10-28T06:41:26.456Z"
   },
   {
    "duration": 427,
    "start_time": "2022-10-28T06:41:26.532Z"
   },
   {
    "duration": 36,
    "start_time": "2022-10-28T06:41:26.961Z"
   },
   {
    "duration": 94,
    "start_time": "2022-10-28T06:41:27.000Z"
   },
   {
    "duration": 48,
    "start_time": "2022-10-28T06:41:27.096Z"
   },
   {
    "duration": 32,
    "start_time": "2022-10-28T06:41:27.146Z"
   },
   {
    "duration": 909,
    "start_time": "2022-10-28T06:41:27.180Z"
   },
   {
    "duration": 168,
    "start_time": "2022-10-28T06:41:28.092Z"
   },
   {
    "duration": 98,
    "start_time": "2022-10-28T06:41:28.262Z"
   },
   {
    "duration": 4,
    "start_time": "2022-10-28T08:41:08.252Z"
   },
   {
    "duration": 134,
    "start_time": "2022-10-28T09:33:30.697Z"
   },
   {
    "duration": 5,
    "start_time": "2022-10-28T09:34:07.891Z"
   },
   {
    "duration": 6,
    "start_time": "2022-10-28T09:34:22.440Z"
   },
   {
    "duration": 1937,
    "start_time": "2022-10-28T09:34:22.448Z"
   },
   {
    "duration": 14,
    "start_time": "2022-10-28T09:34:24.387Z"
   },
   {
    "duration": 57,
    "start_time": "2022-10-28T09:34:24.403Z"
   },
   {
    "duration": 782,
    "start_time": "2022-10-28T09:34:24.462Z"
   },
   {
    "duration": 106,
    "start_time": "2022-10-28T09:34:25.246Z"
   },
   {
    "duration": 108,
    "start_time": "2022-10-28T09:34:25.355Z"
   },
   {
    "duration": 390,
    "start_time": "2022-10-28T09:34:25.466Z"
   },
   {
    "duration": 24,
    "start_time": "2022-10-28T09:34:25.858Z"
   },
   {
    "duration": 15,
    "start_time": "2022-10-28T09:34:25.884Z"
   },
   {
    "duration": 57,
    "start_time": "2022-10-28T09:34:25.901Z"
   },
   {
    "duration": 412,
    "start_time": "2022-10-28T09:34:25.960Z"
   },
   {
    "duration": 55,
    "start_time": "2022-10-28T09:34:26.374Z"
   },
   {
    "duration": 68,
    "start_time": "2022-10-28T09:34:26.433Z"
   },
   {
    "duration": 46,
    "start_time": "2022-10-28T09:34:26.502Z"
   },
   {
    "duration": 33,
    "start_time": "2022-10-28T09:34:26.550Z"
   },
   {
    "duration": 857,
    "start_time": "2022-10-28T09:34:26.585Z"
   },
   {
    "duration": 138,
    "start_time": "2022-10-28T09:34:27.444Z"
   },
   {
    "duration": 92,
    "start_time": "2022-10-28T09:34:27.583Z"
   },
   {
    "duration": 124,
    "start_time": "2022-10-28T09:34:27.677Z"
   },
   {
    "duration": 11,
    "start_time": "2022-10-28T09:36:33.998Z"
   },
   {
    "duration": 31,
    "start_time": "2022-10-28T09:36:50.801Z"
   },
   {
    "duration": 229,
    "start_time": "2022-10-28T09:39:24.197Z"
   },
   {
    "duration": 37,
    "start_time": "2022-10-28T09:41:06.201Z"
   },
   {
    "duration": 119,
    "start_time": "2022-10-28T09:41:12.491Z"
   },
   {
    "duration": 37,
    "start_time": "2022-10-28T09:41:24.942Z"
   },
   {
    "duration": 113,
    "start_time": "2022-10-28T09:41:29.441Z"
   },
   {
    "duration": 20551,
    "start_time": "2022-10-28T09:52:24.522Z"
   },
   {
    "duration": 95,
    "start_time": "2022-10-28T09:53:48.887Z"
   },
   {
    "duration": 103,
    "start_time": "2022-10-28T09:54:26.376Z"
   },
   {
    "duration": 93,
    "start_time": "2022-10-28T09:54:41.583Z"
   },
   {
    "duration": 99,
    "start_time": "2022-10-28T09:54:46.450Z"
   },
   {
    "duration": 98,
    "start_time": "2022-10-28T09:54:49.214Z"
   },
   {
    "duration": 5,
    "start_time": "2022-10-28T09:55:02.129Z"
   },
   {
    "duration": 1135,
    "start_time": "2022-10-28T09:55:02.137Z"
   },
   {
    "duration": 14,
    "start_time": "2022-10-28T09:55:03.274Z"
   },
   {
    "duration": 63,
    "start_time": "2022-10-28T09:55:03.290Z"
   },
   {
    "duration": 855,
    "start_time": "2022-10-28T09:55:03.356Z"
   },
   {
    "duration": 114,
    "start_time": "2022-10-28T09:55:04.213Z"
   },
   {
    "duration": 113,
    "start_time": "2022-10-28T09:55:04.329Z"
   },
   {
    "duration": 289,
    "start_time": "2022-10-28T09:55:04.444Z"
   },
   {
    "duration": 24,
    "start_time": "2022-10-28T09:55:04.735Z"
   },
   {
    "duration": 10,
    "start_time": "2022-10-28T09:55:04.761Z"
   },
   {
    "duration": 69,
    "start_time": "2022-10-28T09:55:04.774Z"
   },
   {
    "duration": 442,
    "start_time": "2022-10-28T09:55:04.845Z"
   },
   {
    "duration": 64,
    "start_time": "2022-10-28T09:55:05.289Z"
   },
   {
    "duration": 84,
    "start_time": "2022-10-28T09:55:05.357Z"
   },
   {
    "duration": 28,
    "start_time": "2022-10-28T09:55:05.443Z"
   },
   {
    "duration": 54,
    "start_time": "2022-10-28T09:55:05.473Z"
   },
   {
    "duration": 764,
    "start_time": "2022-10-28T09:55:05.529Z"
   },
   {
    "duration": 137,
    "start_time": "2022-10-28T09:55:06.295Z"
   },
   {
    "duration": 201,
    "start_time": "2022-10-28T09:55:06.434Z"
   },
   {
    "duration": 97,
    "start_time": "2022-10-28T09:55:06.637Z"
   },
   {
    "duration": 91,
    "start_time": "2022-10-28T09:55:06.735Z"
   },
   {
    "duration": 107,
    "start_time": "2022-10-28T09:55:06.828Z"
   },
   {
    "duration": 287,
    "start_time": "2022-10-28T09:55:23.550Z"
   },
   {
    "duration": 326,
    "start_time": "2022-10-28T09:55:41.815Z"
   },
   {
    "duration": 508,
    "start_time": "2022-10-28T09:57:14.166Z"
   },
   {
    "duration": 497,
    "start_time": "2022-10-28T09:57:59.205Z"
   },
   {
    "duration": 570,
    "start_time": "2022-10-28T10:02:01.177Z"
   },
   {
    "duration": 556,
    "start_time": "2022-10-28T10:03:20.573Z"
   },
   {
    "duration": 555,
    "start_time": "2022-10-28T10:04:03.604Z"
   },
   {
    "duration": 543,
    "start_time": "2022-10-28T10:04:14.082Z"
   },
   {
    "duration": 618,
    "start_time": "2022-10-28T10:10:01.734Z"
   },
   {
    "duration": 714,
    "start_time": "2022-10-28T10:10:27.029Z"
   },
   {
    "duration": 497,
    "start_time": "2022-10-28T10:11:26.226Z"
   },
   {
    "duration": 565,
    "start_time": "2022-10-28T10:12:12.031Z"
   },
   {
    "duration": 525,
    "start_time": "2022-10-28T10:12:56.788Z"
   },
   {
    "duration": 592,
    "start_time": "2022-10-28T10:22:56.836Z"
   },
   {
    "duration": 1681,
    "start_time": "2022-10-28T10:26:05.367Z"
   },
   {
    "duration": 1057,
    "start_time": "2022-10-28T10:26:07.050Z"
   },
   {
    "duration": 24,
    "start_time": "2022-10-28T10:26:08.108Z"
   },
   {
    "duration": 49,
    "start_time": "2022-10-28T10:26:08.135Z"
   },
   {
    "duration": 1243,
    "start_time": "2022-10-28T10:26:08.185Z"
   },
   {
    "duration": 227,
    "start_time": "2022-10-28T10:26:09.430Z"
   },
   {
    "duration": 201,
    "start_time": "2022-10-28T10:26:09.658Z"
   },
   {
    "duration": 817,
    "start_time": "2022-10-28T10:26:09.861Z"
   },
   {
    "duration": 57,
    "start_time": "2022-10-28T10:26:10.681Z"
   },
   {
    "duration": 10,
    "start_time": "2022-10-28T10:26:10.742Z"
   },
   {
    "duration": 72,
    "start_time": "2022-10-28T10:26:10.753Z"
   },
   {
    "duration": 474,
    "start_time": "2022-10-28T10:26:10.827Z"
   },
   {
    "duration": 48,
    "start_time": "2022-10-28T10:26:11.303Z"
   },
   {
    "duration": 92,
    "start_time": "2022-10-28T10:26:11.354Z"
   },
   {
    "duration": 29,
    "start_time": "2022-10-28T10:26:11.448Z"
   },
   {
    "duration": 61,
    "start_time": "2022-10-28T10:26:11.480Z"
   },
   {
    "duration": 902,
    "start_time": "2022-10-28T10:26:11.543Z"
   },
   {
    "duration": 145,
    "start_time": "2022-10-28T10:26:12.447Z"
   },
   {
    "duration": 208,
    "start_time": "2022-10-28T10:26:12.594Z"
   },
   {
    "duration": 111,
    "start_time": "2022-10-28T10:26:12.804Z"
   },
   {
    "duration": 79,
    "start_time": "2022-10-28T10:26:12.924Z"
   },
   {
    "duration": 125,
    "start_time": "2022-10-28T10:26:13.004Z"
   },
   {
    "duration": 525,
    "start_time": "2022-10-28T10:26:13.131Z"
   },
   {
    "duration": 269,
    "start_time": "2022-10-28T10:26:13.658Z"
   },
   {
    "duration": 132,
    "start_time": "2022-10-28T10:26:13.928Z"
   },
   {
    "duration": 2929,
    "start_time": "2022-10-28T10:26:14.062Z"
   },
   {
    "duration": 106,
    "start_time": "2022-10-28T10:26:16.993Z"
   },
   {
    "duration": 722,
    "start_time": "2022-10-28T10:26:17.102Z"
   },
   {
    "duration": 314,
    "start_time": "2022-10-28T10:26:17.826Z"
   },
   {
    "duration": 12,
    "start_time": "2022-10-28T10:26:18.142Z"
   },
   {
    "duration": 158,
    "start_time": "2022-10-28T10:26:18.156Z"
   },
   {
    "duration": 150,
    "start_time": "2022-10-28T10:26:18.316Z"
   },
   {
    "duration": 2828,
    "start_time": "2022-10-28T10:26:18.468Z"
   },
   {
    "duration": 1619,
    "start_time": "2022-10-28T11:54:35.993Z"
   },
   {
    "duration": 1179,
    "start_time": "2022-10-28T11:54:40.080Z"
   },
   {
    "duration": 17,
    "start_time": "2022-10-28T11:54:44.455Z"
   },
   {
    "duration": 63,
    "start_time": "2022-10-28T11:54:47.493Z"
   },
   {
    "duration": 667,
    "start_time": "2022-10-28T11:54:50.741Z"
   },
   {
    "duration": 137,
    "start_time": "2022-10-28T11:54:56.390Z"
   },
   {
    "duration": 88,
    "start_time": "2022-10-28T11:55:00.959Z"
   },
   {
    "duration": 267,
    "start_time": "2022-10-28T11:55:07.055Z"
   },
   {
    "duration": 23,
    "start_time": "2022-10-28T11:55:23.052Z"
   },
   {
    "duration": 8,
    "start_time": "2022-10-28T11:55:27.477Z"
   },
   {
    "duration": 39,
    "start_time": "2022-10-28T11:55:31.603Z"
   },
   {
    "duration": 327,
    "start_time": "2022-10-28T11:55:35.731Z"
   },
   {
    "duration": 65,
    "start_time": "2022-10-28T11:55:41.872Z"
   },
   {
    "duration": 23,
    "start_time": "2022-10-28T11:55:47.574Z"
   },
   {
    "duration": 34,
    "start_time": "2022-10-28T11:55:56.241Z"
   },
   {
    "duration": 667,
    "start_time": "2022-10-28T11:56:00.960Z"
   },
   {
    "duration": 135,
    "start_time": "2022-10-28T11:56:08.652Z"
   },
   {
    "duration": 157,
    "start_time": "2022-10-28T11:56:16.901Z"
   },
   {
    "duration": 110,
    "start_time": "2022-10-28T11:56:19.604Z"
   },
   {
    "duration": 157,
    "start_time": "2022-10-28T11:56:21.216Z"
   },
   {
    "duration": 73,
    "start_time": "2022-10-28T11:57:10.406Z"
   },
   {
    "duration": 62,
    "start_time": "2022-10-28T11:57:15.339Z"
   },
   {
    "duration": 69,
    "start_time": "2022-10-28T11:57:21.392Z"
   },
   {
    "duration": 317,
    "start_time": "2022-10-28T12:04:24.686Z"
   },
   {
    "duration": 558,
    "start_time": "2022-10-28T12:19:01.351Z"
   },
   {
    "duration": 284,
    "start_time": "2022-10-28T12:19:13.828Z"
   },
   {
    "duration": 279,
    "start_time": "2022-10-28T12:19:42.691Z"
   },
   {
    "duration": 1473,
    "start_time": "2022-10-28T12:20:02.678Z"
   },
   {
    "duration": 870,
    "start_time": "2022-10-28T12:20:04.154Z"
   },
   {
    "duration": 16,
    "start_time": "2022-10-28T12:20:05.026Z"
   },
   {
    "duration": 44,
    "start_time": "2022-10-28T12:20:05.044Z"
   },
   {
    "duration": 1159,
    "start_time": "2022-10-28T12:20:05.090Z"
   },
   {
    "duration": 199,
    "start_time": "2022-10-28T12:20:06.251Z"
   },
   {
    "duration": 193,
    "start_time": "2022-10-28T12:20:06.452Z"
   },
   {
    "duration": 533,
    "start_time": "2022-10-28T12:20:06.647Z"
   },
   {
    "duration": 42,
    "start_time": "2022-10-28T12:20:07.182Z"
   },
   {
    "duration": 7,
    "start_time": "2022-10-28T12:20:07.226Z"
   },
   {
    "duration": 40,
    "start_time": "2022-10-28T12:20:07.234Z"
   },
   {
    "duration": 345,
    "start_time": "2022-10-28T12:20:07.275Z"
   },
   {
    "duration": 29,
    "start_time": "2022-10-28T12:20:07.622Z"
   },
   {
    "duration": 104,
    "start_time": "2022-10-28T12:20:07.652Z"
   },
   {
    "duration": 25,
    "start_time": "2022-10-28T12:20:07.758Z"
   },
   {
    "duration": 36,
    "start_time": "2022-10-28T12:20:07.784Z"
   },
   {
    "duration": 678,
    "start_time": "2022-10-28T12:20:07.821Z"
   },
   {
    "duration": 127,
    "start_time": "2022-10-28T12:20:08.500Z"
   },
   {
    "duration": 157,
    "start_time": "2022-10-28T12:20:08.628Z"
   },
   {
    "duration": 88,
    "start_time": "2022-10-28T12:20:08.787Z"
   },
   {
    "duration": 67,
    "start_time": "2022-10-28T12:20:08.877Z"
   },
   {
    "duration": 91,
    "start_time": "2022-10-28T12:20:08.946Z"
   },
   {
    "duration": 459,
    "start_time": "2022-10-28T12:20:09.038Z"
   },
   {
    "duration": 238,
    "start_time": "2022-10-28T12:20:09.499Z"
   },
   {
    "duration": 239,
    "start_time": "2022-10-28T12:20:09.739Z"
   },
   {
    "duration": 2963,
    "start_time": "2022-10-28T12:20:09.980Z"
   },
   {
    "duration": 60,
    "start_time": "2022-10-28T12:20:12.944Z"
   },
   {
    "duration": 431,
    "start_time": "2022-10-28T12:20:13.008Z"
   },
   {
    "duration": 246,
    "start_time": "2022-10-28T12:20:13.440Z"
   },
   {
    "duration": 8,
    "start_time": "2022-10-28T12:20:13.687Z"
   },
   {
    "duration": 119,
    "start_time": "2022-10-28T12:20:13.696Z"
   },
   {
    "duration": 128,
    "start_time": "2022-10-28T12:20:13.817Z"
   },
   {
    "duration": 1846,
    "start_time": "2022-10-28T12:20:13.947Z"
   },
   {
    "duration": 423,
    "start_time": "2022-10-28T12:20:37.842Z"
   },
   {
    "duration": 2007,
    "start_time": "2022-10-28T12:21:19.743Z"
   },
   {
    "duration": 1997,
    "start_time": "2022-10-28T12:21:33.999Z"
   },
   {
    "duration": 2420,
    "start_time": "2022-10-28T12:21:42.994Z"
   },
   {
    "duration": 413,
    "start_time": "2022-10-28T12:22:40.273Z"
   },
   {
    "duration": 733,
    "start_time": "2022-10-28T12:23:48.696Z"
   },
   {
    "duration": 416,
    "start_time": "2022-10-28T12:23:54.515Z"
   },
   {
    "duration": 413,
    "start_time": "2022-10-28T12:24:46.914Z"
   },
   {
    "duration": 432,
    "start_time": "2022-10-28T12:24:52.892Z"
   },
   {
    "duration": 700,
    "start_time": "2022-10-28T12:26:01.244Z"
   },
   {
    "duration": 414,
    "start_time": "2022-10-28T12:27:08.760Z"
   },
   {
    "duration": 420,
    "start_time": "2022-10-28T12:40:49.556Z"
   },
   {
    "duration": 288,
    "start_time": "2022-10-28T12:41:18.095Z"
   },
   {
    "duration": 13,
    "start_time": "2022-10-28T12:42:38.122Z"
   },
   {
    "duration": 284,
    "start_time": "2022-10-28T12:43:16.391Z"
   },
   {
    "duration": 1576,
    "start_time": "2022-10-28T12:43:39.748Z"
   },
   {
    "duration": 1621,
    "start_time": "2022-10-28T12:43:41.326Z"
   },
   {
    "duration": 17,
    "start_time": "2022-10-28T12:43:42.949Z"
   },
   {
    "duration": 53,
    "start_time": "2022-10-28T12:43:42.968Z"
   },
   {
    "duration": 684,
    "start_time": "2022-10-28T12:43:43.023Z"
   },
   {
    "duration": 102,
    "start_time": "2022-10-28T12:43:43.709Z"
   },
   {
    "duration": 104,
    "start_time": "2022-10-28T12:43:43.812Z"
   },
   {
    "duration": 300,
    "start_time": "2022-10-28T12:43:43.918Z"
   },
   {
    "duration": 22,
    "start_time": "2022-10-28T12:43:44.220Z"
   },
   {
    "duration": 7,
    "start_time": "2022-10-28T12:43:44.244Z"
   },
   {
    "duration": 59,
    "start_time": "2022-10-28T12:43:44.252Z"
   },
   {
    "duration": 359,
    "start_time": "2022-10-28T12:43:44.312Z"
   },
   {
    "duration": 39,
    "start_time": "2022-10-28T12:43:44.672Z"
   },
   {
    "duration": 63,
    "start_time": "2022-10-28T12:43:44.712Z"
   },
   {
    "duration": 34,
    "start_time": "2022-10-28T12:43:44.776Z"
   },
   {
    "duration": 35,
    "start_time": "2022-10-28T12:43:44.811Z"
   },
   {
    "duration": 693,
    "start_time": "2022-10-28T12:43:44.848Z"
   },
   {
    "duration": 184,
    "start_time": "2022-10-28T12:43:45.542Z"
   },
   {
    "duration": 154,
    "start_time": "2022-10-28T12:43:45.728Z"
   },
   {
    "duration": 83,
    "start_time": "2022-10-28T12:43:45.884Z"
   },
   {
    "duration": 89,
    "start_time": "2022-10-28T12:43:45.969Z"
   },
   {
    "duration": 84,
    "start_time": "2022-10-28T12:43:46.059Z"
   },
   {
    "duration": 453,
    "start_time": "2022-10-28T12:43:46.144Z"
   },
   {
    "duration": 557,
    "start_time": "2022-10-28T12:43:46.599Z"
   },
   {
    "duration": 0,
    "start_time": "2022-10-28T12:43:47.158Z"
   },
   {
    "duration": 0,
    "start_time": "2022-10-28T12:43:47.160Z"
   },
   {
    "duration": 0,
    "start_time": "2022-10-28T12:43:47.161Z"
   },
   {
    "duration": 0,
    "start_time": "2022-10-28T12:43:47.163Z"
   },
   {
    "duration": 0,
    "start_time": "2022-10-28T12:43:47.164Z"
   },
   {
    "duration": 0,
    "start_time": "2022-10-28T12:43:47.166Z"
   },
   {
    "duration": 0,
    "start_time": "2022-10-28T12:43:47.167Z"
   },
   {
    "duration": 0,
    "start_time": "2022-10-28T12:43:47.168Z"
   },
   {
    "duration": 0,
    "start_time": "2022-10-28T12:43:47.170Z"
   },
   {
    "duration": 0,
    "start_time": "2022-10-28T12:43:47.171Z"
   },
   {
    "duration": 298,
    "start_time": "2022-10-28T12:44:56.289Z"
   },
   {
    "duration": 323,
    "start_time": "2022-10-28T12:45:36.163Z"
   },
   {
    "duration": 179,
    "start_time": "2022-10-28T12:46:08.949Z"
   },
   {
    "duration": 1666,
    "start_time": "2022-10-28T12:46:33.861Z"
   },
   {
    "duration": 1524,
    "start_time": "2022-10-28T12:46:35.530Z"
   },
   {
    "duration": 15,
    "start_time": "2022-10-28T12:46:37.056Z"
   },
   {
    "duration": 59,
    "start_time": "2022-10-28T12:46:37.073Z"
   },
   {
    "duration": 676,
    "start_time": "2022-10-28T12:46:37.134Z"
   },
   {
    "duration": 101,
    "start_time": "2022-10-28T12:46:37.812Z"
   },
   {
    "duration": 84,
    "start_time": "2022-10-28T12:46:37.915Z"
   },
   {
    "duration": 290,
    "start_time": "2022-10-28T12:46:38.001Z"
   },
   {
    "duration": 33,
    "start_time": "2022-10-28T12:46:38.293Z"
   },
   {
    "duration": 6,
    "start_time": "2022-10-28T12:46:38.328Z"
   },
   {
    "duration": 43,
    "start_time": "2022-10-28T12:46:38.336Z"
   },
   {
    "duration": 345,
    "start_time": "2022-10-28T12:46:38.381Z"
   },
   {
    "duration": 30,
    "start_time": "2022-10-28T12:46:38.727Z"
   },
   {
    "duration": 84,
    "start_time": "2022-10-28T12:46:38.759Z"
   },
   {
    "duration": 23,
    "start_time": "2022-10-28T12:46:38.845Z"
   },
   {
    "duration": 43,
    "start_time": "2022-10-28T12:46:38.870Z"
   },
   {
    "duration": 661,
    "start_time": "2022-10-28T12:46:38.915Z"
   },
   {
    "duration": 131,
    "start_time": "2022-10-28T12:46:39.578Z"
   },
   {
    "duration": 157,
    "start_time": "2022-10-28T12:46:39.710Z"
   },
   {
    "duration": 86,
    "start_time": "2022-10-28T12:46:39.868Z"
   },
   {
    "duration": 103,
    "start_time": "2022-10-28T12:46:39.956Z"
   },
   {
    "duration": 96,
    "start_time": "2022-10-28T12:46:40.061Z"
   },
   {
    "duration": 764,
    "start_time": "2022-10-28T12:46:40.159Z"
   },
   {
    "duration": 389,
    "start_time": "2022-10-28T12:46:40.924Z"
   },
   {
    "duration": 12633,
    "start_time": "2022-10-28T12:46:41.315Z"
   },
   {
    "duration": 5257,
    "start_time": "2022-10-28T12:46:53.950Z"
   },
   {
    "duration": 303243,
    "start_time": "2022-10-28T12:46:59.209Z"
   },
   {
    "duration": 1159,
    "start_time": "2022-10-28T12:52:02.456Z"
   },
   {
    "duration": 399,
    "start_time": "2022-10-28T12:52:03.617Z"
   },
   {
    "duration": 96,
    "start_time": "2022-10-28T12:52:04.018Z"
   },
   {
    "duration": 153,
    "start_time": "2022-10-28T12:52:04.117Z"
   },
   {
    "duration": 122,
    "start_time": "2022-10-28T12:52:04.272Z"
   },
   {
    "duration": 2098,
    "start_time": "2022-10-28T12:52:04.397Z"
   },
   {
    "duration": 2334,
    "start_time": "2022-10-28T12:52:06.496Z"
   },
   {
    "duration": 154,
    "start_time": "2022-10-28T12:52:24.160Z"
   },
   {
    "duration": 1442,
    "start_time": "2022-10-28T12:53:03.705Z"
   },
   {
    "duration": 878,
    "start_time": "2022-10-28T12:53:05.150Z"
   },
   {
    "duration": 18,
    "start_time": "2022-10-28T12:53:06.029Z"
   },
   {
    "duration": 48,
    "start_time": "2022-10-28T12:53:06.049Z"
   },
   {
    "duration": 698,
    "start_time": "2022-10-28T12:53:06.098Z"
   },
   {
    "duration": 97,
    "start_time": "2022-10-28T12:53:06.797Z"
   },
   {
    "duration": 87,
    "start_time": "2022-10-28T12:53:06.896Z"
   },
   {
    "duration": 281,
    "start_time": "2022-10-28T12:53:06.985Z"
   },
   {
    "duration": 20,
    "start_time": "2022-10-28T12:53:07.267Z"
   },
   {
    "duration": 25,
    "start_time": "2022-10-28T12:53:07.289Z"
   },
   {
    "duration": 50,
    "start_time": "2022-10-28T12:53:07.315Z"
   },
   {
    "duration": 330,
    "start_time": "2022-10-28T12:53:07.367Z"
   },
   {
    "duration": 35,
    "start_time": "2022-10-28T12:53:07.698Z"
   },
   {
    "duration": 74,
    "start_time": "2022-10-28T12:53:07.742Z"
   },
   {
    "duration": 22,
    "start_time": "2022-10-28T12:53:07.818Z"
   },
   {
    "duration": 38,
    "start_time": "2022-10-28T12:53:07.842Z"
   },
   {
    "duration": 684,
    "start_time": "2022-10-28T12:53:07.882Z"
   },
   {
    "duration": 123,
    "start_time": "2022-10-28T12:53:08.567Z"
   },
   {
    "duration": 183,
    "start_time": "2022-10-28T12:53:08.691Z"
   },
   {
    "duration": 81,
    "start_time": "2022-10-28T12:53:08.876Z"
   },
   {
    "duration": 73,
    "start_time": "2022-10-28T12:53:08.959Z"
   },
   {
    "duration": 84,
    "start_time": "2022-10-28T12:53:09.034Z"
   },
   {
    "duration": 708,
    "start_time": "2022-10-28T12:53:16.317Z"
   },
   {
    "duration": 2266,
    "start_time": "2022-10-28T12:53:31.216Z"
   },
   {
    "duration": 376,
    "start_time": "2022-10-28T13:16:36.734Z"
   },
   {
    "duration": 13,
    "start_time": "2022-10-28T13:17:52.392Z"
   },
   {
    "duration": 14,
    "start_time": "2022-10-28T13:18:00.934Z"
   },
   {
    "duration": 12413,
    "start_time": "2022-10-28T13:19:24.590Z"
   },
   {
    "duration": 12258,
    "start_time": "2022-10-28T13:21:42.543Z"
   },
   {
    "duration": 247,
    "start_time": "2022-10-28T13:21:57.280Z"
   },
   {
    "duration": 5217,
    "start_time": "2022-10-28T13:22:22.268Z"
   },
   {
    "duration": 5166,
    "start_time": "2022-10-28T13:22:36.113Z"
   },
   {
    "duration": 5188,
    "start_time": "2022-10-28T13:23:03.470Z"
   },
   {
    "duration": 5241,
    "start_time": "2022-10-28T13:23:44.904Z"
   },
   {
    "duration": 32,
    "start_time": "2022-10-28T13:23:58.090Z"
   },
   {
    "duration": 32202,
    "start_time": "2022-10-28T13:24:07.615Z"
   },
   {
    "duration": 4672,
    "start_time": "2022-10-28T13:25:12.938Z"
   },
   {
    "duration": 180,
    "start_time": "2022-10-28T13:39:43.801Z"
   },
   {
    "duration": 78,
    "start_time": "2022-10-28T13:40:03.171Z"
   },
   {
    "duration": 39,
    "start_time": "2022-10-28T13:40:26.618Z"
   },
   {
    "duration": 8,
    "start_time": "2022-10-28T13:40:52.431Z"
   },
   {
    "duration": 37,
    "start_time": "2022-10-28T13:40:57.778Z"
   },
   {
    "duration": 81,
    "start_time": "2022-10-28T13:41:25.740Z"
   },
   {
    "duration": 48,
    "start_time": "2022-10-28T13:41:28.476Z"
   },
   {
    "duration": 10,
    "start_time": "2022-10-28T13:41:30.880Z"
   },
   {
    "duration": 1360,
    "start_time": "2022-10-28T13:47:14.665Z"
   },
   {
    "duration": 893,
    "start_time": "2022-10-28T13:47:16.027Z"
   },
   {
    "duration": 15,
    "start_time": "2022-10-28T13:47:16.921Z"
   },
   {
    "duration": 65,
    "start_time": "2022-10-28T13:47:16.937Z"
   },
   {
    "duration": 677,
    "start_time": "2022-10-28T13:47:17.004Z"
   },
   {
    "duration": 96,
    "start_time": "2022-10-28T13:47:17.683Z"
   },
   {
    "duration": 96,
    "start_time": "2022-10-28T13:47:17.780Z"
   },
   {
    "duration": 286,
    "start_time": "2022-10-28T13:47:17.877Z"
   },
   {
    "duration": 19,
    "start_time": "2022-10-28T13:47:18.165Z"
   },
   {
    "duration": 7,
    "start_time": "2022-10-28T13:47:18.186Z"
   },
   {
    "duration": 40,
    "start_time": "2022-10-28T13:47:18.208Z"
   },
   {
    "duration": 340,
    "start_time": "2022-10-28T13:47:18.249Z"
   },
   {
    "duration": 39,
    "start_time": "2022-10-28T13:47:18.591Z"
   },
   {
    "duration": 76,
    "start_time": "2022-10-28T13:47:18.633Z"
   },
   {
    "duration": 22,
    "start_time": "2022-10-28T13:47:18.711Z"
   },
   {
    "duration": 32,
    "start_time": "2022-10-28T13:47:18.735Z"
   },
   {
    "duration": 692,
    "start_time": "2022-10-28T13:47:18.769Z"
   },
   {
    "duration": 117,
    "start_time": "2022-10-28T13:47:19.463Z"
   },
   {
    "duration": 166,
    "start_time": "2022-10-28T13:47:19.581Z"
   },
   {
    "duration": 83,
    "start_time": "2022-10-28T13:47:19.749Z"
   },
   {
    "duration": 62,
    "start_time": "2022-10-28T13:47:19.834Z"
   },
   {
    "duration": 85,
    "start_time": "2022-10-28T13:47:19.897Z"
   },
   {
    "duration": 732,
    "start_time": "2022-10-28T13:47:19.984Z"
   },
   {
    "duration": 2270,
    "start_time": "2022-10-28T13:47:20.718Z"
   },
   {
    "duration": 380,
    "start_time": "2022-10-28T13:47:22.990Z"
   },
   {
    "duration": 12,
    "start_time": "2022-10-28T13:47:23.371Z"
   },
   {
    "duration": 12410,
    "start_time": "2022-10-28T13:47:23.384Z"
   },
   {
    "duration": 260,
    "start_time": "2022-10-28T13:47:35.796Z"
   },
   {
    "duration": 5294,
    "start_time": "2022-10-28T13:47:36.058Z"
   },
   {
    "duration": 21,
    "start_time": "2022-10-28T13:47:41.354Z"
   },
   {
    "duration": 3736,
    "start_time": "2022-10-28T13:47:41.376Z"
   },
   {
    "duration": 596,
    "start_time": "2022-10-28T13:47:45.114Z"
   },
   {
    "duration": 224,
    "start_time": "2022-10-28T13:47:45.711Z"
   },
   {
    "duration": 37,
    "start_time": "2022-10-28T13:47:45.937Z"
   },
   {
    "duration": 99,
    "start_time": "2022-10-28T13:47:46.009Z"
   },
   {
    "duration": 99,
    "start_time": "2022-10-28T13:47:46.111Z"
   },
   {
    "duration": 206,
    "start_time": "2022-10-28T13:47:46.212Z"
   },
   {
    "duration": 815,
    "start_time": "2022-10-28T13:47:46.420Z"
   },
   {
    "duration": 0,
    "start_time": "2022-10-28T13:47:47.237Z"
   },
   {
    "duration": 11,
    "start_time": "2022-10-28T14:01:59.799Z"
   },
   {
    "duration": 10,
    "start_time": "2022-10-28T14:04:16.685Z"
   },
   {
    "duration": 9,
    "start_time": "2022-10-28T14:06:33.246Z"
   },
   {
    "duration": 1012,
    "start_time": "2022-10-28T14:07:06.764Z"
   },
   {
    "duration": 139,
    "start_time": "2022-10-28T14:07:50.833Z"
   },
   {
    "duration": 224,
    "start_time": "2022-10-28T14:08:05.389Z"
   },
   {
    "duration": 117,
    "start_time": "2022-10-28T14:08:13.562Z"
   },
   {
    "duration": 1933,
    "start_time": "2022-10-28T14:08:19.981Z"
   },
   {
    "duration": 43,
    "start_time": "2022-10-28T14:20:46.473Z"
   },
   {
    "duration": 1952,
    "start_time": "2022-10-28T14:34:08.824Z"
   },
   {
    "duration": 14,
    "start_time": "2022-10-28T14:34:17.042Z"
   },
   {
    "duration": 5181,
    "start_time": "2022-10-28T14:34:23.974Z"
   },
   {
    "duration": 21,
    "start_time": "2022-10-28T14:34:31.569Z"
   },
   {
    "duration": 20,
    "start_time": "2022-10-28T14:34:47.738Z"
   },
   {
    "duration": 1444,
    "start_time": "2022-10-28T14:46:32.185Z"
   },
   {
    "duration": 922,
    "start_time": "2022-10-28T14:46:33.630Z"
   },
   {
    "duration": 17,
    "start_time": "2022-10-28T14:46:34.554Z"
   },
   {
    "duration": 59,
    "start_time": "2022-10-28T14:46:34.572Z"
   },
   {
    "duration": 692,
    "start_time": "2022-10-28T14:46:34.633Z"
   },
   {
    "duration": 98,
    "start_time": "2022-10-28T14:46:35.327Z"
   },
   {
    "duration": 97,
    "start_time": "2022-10-28T14:46:35.427Z"
   },
   {
    "duration": 273,
    "start_time": "2022-10-28T14:46:35.525Z"
   },
   {
    "duration": 27,
    "start_time": "2022-10-28T14:46:35.800Z"
   },
   {
    "duration": 7,
    "start_time": "2022-10-28T14:46:35.830Z"
   },
   {
    "duration": 49,
    "start_time": "2022-10-28T14:46:35.839Z"
   },
   {
    "duration": 358,
    "start_time": "2022-10-28T14:46:35.890Z"
   },
   {
    "duration": 28,
    "start_time": "2022-10-28T14:46:36.250Z"
   },
   {
    "duration": 75,
    "start_time": "2022-10-28T14:46:36.280Z"
   },
   {
    "duration": 22,
    "start_time": "2022-10-28T14:46:36.357Z"
   },
   {
    "duration": 44,
    "start_time": "2022-10-28T14:46:36.381Z"
   },
   {
    "duration": 692,
    "start_time": "2022-10-28T14:46:36.427Z"
   },
   {
    "duration": 121,
    "start_time": "2022-10-28T14:46:37.121Z"
   },
   {
    "duration": 166,
    "start_time": "2022-10-28T14:46:37.244Z"
   },
   {
    "duration": 75,
    "start_time": "2022-10-28T14:46:37.411Z"
   },
   {
    "duration": 75,
    "start_time": "2022-10-28T14:46:37.488Z"
   },
   {
    "duration": 79,
    "start_time": "2022-10-28T14:46:37.564Z"
   },
   {
    "duration": 734,
    "start_time": "2022-10-28T14:46:37.644Z"
   },
   {
    "duration": 2209,
    "start_time": "2022-10-28T14:46:38.380Z"
   },
   {
    "duration": 379,
    "start_time": "2022-10-28T14:46:40.591Z"
   },
   {
    "duration": 12,
    "start_time": "2022-10-28T14:46:40.972Z"
   },
   {
    "duration": 12288,
    "start_time": "2022-10-28T14:46:40.985Z"
   },
   {
    "duration": 253,
    "start_time": "2022-10-28T14:46:53.276Z"
   },
   {
    "duration": 5245,
    "start_time": "2022-10-28T14:46:53.531Z"
   },
   {
    "duration": 21,
    "start_time": "2022-10-28T14:46:58.778Z"
   },
   {
    "duration": 5114,
    "start_time": "2022-10-28T14:46:58.801Z"
   },
   {
    "duration": 594,
    "start_time": "2022-10-28T14:47:03.917Z"
   },
   {
    "duration": 230,
    "start_time": "2022-10-28T14:47:04.513Z"
   },
   {
    "duration": 70,
    "start_time": "2022-10-28T14:47:04.744Z"
   },
   {
    "duration": 98,
    "start_time": "2022-10-28T14:47:04.816Z"
   },
   {
    "duration": 100,
    "start_time": "2022-10-28T14:47:04.916Z"
   },
   {
    "duration": 188,
    "start_time": "2022-10-28T14:47:05.017Z"
   },
   {
    "duration": 121,
    "start_time": "2022-10-28T14:47:05.207Z"
   },
   {
    "duration": 218,
    "start_time": "2022-10-28T14:47:05.330Z"
   },
   {
    "duration": 1836,
    "start_time": "2022-10-28T14:47:05.550Z"
   }
  ],
  "celltoolbar": "Необработанный формат ячейки",
  "kernelspec": {
   "display_name": "Python 3 (ipykernel)",
   "language": "python",
   "name": "python3"
  },
  "language_info": {
   "codemirror_mode": {
    "name": "ipython",
    "version": 3
   },
   "file_extension": ".py",
   "mimetype": "text/x-python",
   "name": "python",
   "nbconvert_exporter": "python",
   "pygments_lexer": "ipython3",
   "version": "3.9.12"
  },
  "toc": {
   "base_numbering": 1,
   "nav_menu": {},
   "number_sections": true,
   "sideBar": true,
   "skip_h1_title": true,
   "title_cell": "Table of Contents",
   "title_sidebar": "Contents",
   "toc_cell": false,
   "toc_position": {
    "height": "calc(100% - 180px)",
    "left": "10px",
    "top": "150px",
    "width": "165px"
   },
   "toc_section_display": true,
   "toc_window_display": true
  }
 },
 "nbformat": 4,
 "nbformat_minor": 2
}
